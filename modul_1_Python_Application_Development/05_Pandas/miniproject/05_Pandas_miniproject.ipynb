{
 "cells": [
  {
   "cell_type": "markdown",
   "id": "3653afc5",
   "metadata": {},
   "source": [
    "\n",
    "# Минипроект\n",
    "\n",
    "В этом минипроекте необходимо проанализировать данные из Google Play Store.\n",
    "\n",
    "\n",
    "**Описание данных**\n",
    "```\n",
    "App — название приложения\n",
    "Category — категория, к которой относится приложение\n",
    "Rating — рейтинг пользователей\n",
    "Reviews — количество отзывов пользователей о приложении\n",
    "Size — размер приложения\n",
    "Installs — количество загрузок/установок приложения пользователями\n",
    "Type — платное или бесплатное приложение\n",
    "Price — цена приложения\n",
    "Content Rating — возрастная группа, на которую ориентировано приложение\n",
    "Genres — принадлежность приложения к нескольким жанрам\n",
    "Last Updated — дата последнего обновления приложения в Play Store\n",
    "Current Ver — текущая версия приложения в Play Store\n",
    "Android Ver — минимальная требуемая версия Android\n",
    "```"
   ]
  },
  {
   "cell_type": "markdown",
   "id": "1fea5ca6",
   "metadata": {},
   "source": [
    "## 1\n",
    "\n",
    "Сохраните в переменные data_head и data_tail первые и последние 3 строки из датафрейма соответственно.\n",
    "\n",
    "Датафрейм уже находится в переменной playstore."
   ]
  },
  {
   "cell_type": "code",
   "execution_count": 201,
   "id": "89ba46f7",
   "metadata": {
    "ExecuteTime": {
     "end_time": "2023-01-21T14:31:13.931000Z",
     "start_time": "2023-01-21T14:31:13.900982Z"
    }
   },
   "outputs": [],
   "source": [
    "import pandas as pd\n",
    "\n",
    "playstore = pd.read_csv('playstore.csv')"
   ]
  },
  {
   "cell_type": "code",
   "execution_count": 202,
   "id": "a3b0a54c",
   "metadata": {
    "ExecuteTime": {
     "end_time": "2023-01-21T14:31:13.939963Z",
     "start_time": "2023-01-21T14:31:13.932385Z"
    },
    "scrolled": true
   },
   "outputs": [
    {
     "data": {
      "text/html": [
       "<div>\n",
       "<style scoped>\n",
       "    .dataframe tbody tr th:only-of-type {\n",
       "        vertical-align: middle;\n",
       "    }\n",
       "\n",
       "    .dataframe tbody tr th {\n",
       "        vertical-align: top;\n",
       "    }\n",
       "\n",
       "    .dataframe thead th {\n",
       "        text-align: right;\n",
       "    }\n",
       "</style>\n",
       "<table border=\"1\" class=\"dataframe\">\n",
       "  <thead>\n",
       "    <tr style=\"text-align: right;\">\n",
       "      <th></th>\n",
       "      <th>Unnamed: 0</th>\n",
       "      <th>App</th>\n",
       "      <th>Category</th>\n",
       "      <th>Rating</th>\n",
       "      <th>Reviews</th>\n",
       "      <th>Size</th>\n",
       "      <th>Installs</th>\n",
       "      <th>Type</th>\n",
       "      <th>Price</th>\n",
       "      <th>Content Rating</th>\n",
       "      <th>Genres</th>\n",
       "      <th>Last Updated</th>\n",
       "      <th>Current Ver</th>\n",
       "      <th>Android Ver</th>\n",
       "    </tr>\n",
       "  </thead>\n",
       "  <tbody>\n",
       "    <tr>\n",
       "      <th>0</th>\n",
       "      <td>0</td>\n",
       "      <td>Photo Editor &amp; Candy Camera &amp; Grid &amp; ScrapBook</td>\n",
       "      <td>ART_AND_DESIGN</td>\n",
       "      <td>4.1</td>\n",
       "      <td>159</td>\n",
       "      <td>19M</td>\n",
       "      <td>10,000+</td>\n",
       "      <td>Free</td>\n",
       "      <td>0</td>\n",
       "      <td>Everyone</td>\n",
       "      <td>Art &amp; Design</td>\n",
       "      <td>January 7, 2018</td>\n",
       "      <td>1.0.0</td>\n",
       "      <td>4.0.3 and up</td>\n",
       "    </tr>\n",
       "    <tr>\n",
       "      <th>1</th>\n",
       "      <td>1</td>\n",
       "      <td>Coloring book moana</td>\n",
       "      <td>ART_AND_DESIGN</td>\n",
       "      <td>3.9</td>\n",
       "      <td>967</td>\n",
       "      <td>14M</td>\n",
       "      <td>500,000+</td>\n",
       "      <td>Free</td>\n",
       "      <td>0</td>\n",
       "      <td>Everyone</td>\n",
       "      <td>Art &amp; Design;Pretend Play</td>\n",
       "      <td>January 15, 2018</td>\n",
       "      <td>2.0.0</td>\n",
       "      <td>4.0.3 and up</td>\n",
       "    </tr>\n",
       "    <tr>\n",
       "      <th>2</th>\n",
       "      <td>2</td>\n",
       "      <td>U Launcher Lite – FREE Live Cool Themes, Hide ...</td>\n",
       "      <td>ART_AND_DESIGN</td>\n",
       "      <td>4.7</td>\n",
       "      <td>87510</td>\n",
       "      <td>8.7M</td>\n",
       "      <td>5,000,000+</td>\n",
       "      <td>Free</td>\n",
       "      <td>0</td>\n",
       "      <td>Everyone</td>\n",
       "      <td>Art &amp; Design</td>\n",
       "      <td>August 1, 2018</td>\n",
       "      <td>1.2.4</td>\n",
       "      <td>4.0.3 and up</td>\n",
       "    </tr>\n",
       "  </tbody>\n",
       "</table>\n",
       "</div>"
      ],
      "text/plain": [
       "   Unnamed: 0                                                App  \\\n",
       "0           0     Photo Editor & Candy Camera & Grid & ScrapBook   \n",
       "1           1                                Coloring book moana   \n",
       "2           2  U Launcher Lite – FREE Live Cool Themes, Hide ...   \n",
       "\n",
       "         Category  Rating  Reviews  Size    Installs  Type Price  \\\n",
       "0  ART_AND_DESIGN     4.1      159   19M     10,000+  Free     0   \n",
       "1  ART_AND_DESIGN     3.9      967   14M    500,000+  Free     0   \n",
       "2  ART_AND_DESIGN     4.7    87510  8.7M  5,000,000+  Free     0   \n",
       "\n",
       "  Content Rating                     Genres      Last Updated Current Ver  \\\n",
       "0       Everyone               Art & Design   January 7, 2018       1.0.0   \n",
       "1       Everyone  Art & Design;Pretend Play  January 15, 2018       2.0.0   \n",
       "2       Everyone               Art & Design    August 1, 2018       1.2.4   \n",
       "\n",
       "    Android Ver  \n",
       "0  4.0.3 and up  \n",
       "1  4.0.3 and up  \n",
       "2  4.0.3 and up  "
      ]
     },
     "execution_count": 202,
     "metadata": {},
     "output_type": "execute_result"
    }
   ],
   "source": [
    "data_head = playstore.head(3)\n",
    "data_tail = playstore.tail(3)\n",
    "data_head"
   ]
  },
  {
   "cell_type": "markdown",
   "id": "452e48dd",
   "metadata": {},
   "source": [
    "## 2\n",
    "Сохраните в переменные n_col и n_row количество столбцов и строк в датафрейме соответственно.\n",
    "\n",
    "Датафрейм уже находится в переменной playstore."
   ]
  },
  {
   "cell_type": "code",
   "execution_count": 203,
   "id": "04a868b2",
   "metadata": {
    "ExecuteTime": {
     "end_time": "2023-01-21T14:31:13.944106Z",
     "start_time": "2023-01-21T14:31:13.941585Z"
    }
   },
   "outputs": [
    {
     "name": "stdout",
     "output_type": "stream",
     "text": [
      "14 10840\n"
     ]
    }
   ],
   "source": [
    "n_col = playstore.shape[1]\n",
    "n_row = playstore.shape[0]\n",
    "\n",
    "print(f'{n_col} {n_row}')"
   ]
  },
  {
   "cell_type": "code",
   "execution_count": 204,
   "id": "1b81ab22",
   "metadata": {
    "ExecuteTime": {
     "end_time": "2023-01-21T14:31:13.948220Z",
     "start_time": "2023-01-21T14:31:13.945797Z"
    }
   },
   "outputs": [
    {
     "name": "stdout",
     "output_type": "stream",
     "text": [
      "14 10840\n"
     ]
    }
   ],
   "source": [
    "# можно было  проще\n",
    "cols, rows = playstore.shape\n",
    "print(f'{rows} {cols}')"
   ]
  },
  {
   "cell_type": "markdown",
   "id": "6a8393a8",
   "metadata": {},
   "source": [
    "## 3\n",
    "\n",
    "Давайте теперь посмотрим, какое количество уникальных приложений есть в наших данных (колонка App).\n",
    "\n",
    "В качестве ответа введите полученное число."
   ]
  },
  {
   "cell_type": "code",
   "execution_count": 205,
   "id": "b0315eff",
   "metadata": {
    "ExecuteTime": {
     "end_time": "2023-01-21T14:31:13.954402Z",
     "start_time": "2023-01-21T14:31:13.949447Z"
    }
   },
   "outputs": [
    {
     "data": {
      "text/plain": [
       "9659"
      ]
     },
     "execution_count": 205,
     "metadata": {},
     "output_type": "execute_result"
    }
   ],
   "source": [
    "playstore.App.nunique()"
   ]
  },
  {
   "cell_type": "markdown",
   "id": "c68d2815",
   "metadata": {},
   "source": [
    "## 4\n",
    "\n",
    "Давайте посчитаем число пропущенных значений в колонке с рейтингом приложений.\n",
    "\n",
    "Сохраните в переменную rating_missing количество пропущенных значений в колонке Rating. \n",
    "\n",
    "Датафрейм уже находится в переменной playstore."
   ]
  },
  {
   "cell_type": "code",
   "execution_count": 206,
   "id": "d69fd57c",
   "metadata": {
    "ExecuteTime": {
     "end_time": "2023-01-21T14:31:13.958063Z",
     "start_time": "2023-01-21T14:31:13.955615Z"
    }
   },
   "outputs": [],
   "source": [
    "rating_missing = playstore.Rating.isnull().sum()"
   ]
  },
  {
   "cell_type": "code",
   "execution_count": 207,
   "id": "ebd5bba0",
   "metadata": {
    "ExecuteTime": {
     "end_time": "2023-01-21T14:31:13.962665Z",
     "start_time": "2023-01-21T14:31:13.959419Z"
    }
   },
   "outputs": [
    {
     "data": {
      "text/plain": [
       "9366"
      ]
     },
     "execution_count": 207,
     "metadata": {},
     "output_type": "execute_result"
    }
   ],
   "source": [
    "playstore.Rating.notna().sum() # сколько не null"
   ]
  },
  {
   "cell_type": "markdown",
   "id": "26e5f3af",
   "metadata": {},
   "source": [
    "## 5\n",
    "\n",
    "Научимся объединять датафреймы и познакомимся с функцией concat.\\\n",
    "https://pandas.pydata.org/docs/reference/api/pandas.concat.html\n",
    "\n",
    "- Допустим, мы хотим собрать датафрейм, который будет включать в себя: \n",
    "    - первые три строки исходного датафрейма, \n",
    "    - строки 6-8 (включительно), \n",
    "    - строки 16-19 (включительно) \n",
    "    - и колонки: App, Size, Genres, Current Ver в соответствующем порядке.\n",
    "\n",
    "- По сути, это будет выглядеть как объединение трех, состоящих из нескольких строк, датафреймов, являющимися срезами из исходных данных.\n",
    "\n",
    "- В качестве ответа загрузите полученный датафрейм в формате csv. При сохранении финального датафрейма, колонка с индексами должна остаться.\n",
    "\n",
    "> NB! Помните про индексацию с нуля и правила включения/невключения границ при слайсинге"
   ]
  },
  {
   "cell_type": "code",
   "execution_count": 208,
   "id": "6dcc9b2a",
   "metadata": {
    "ExecuteTime": {
     "end_time": "2023-01-21T14:31:13.966540Z",
     "start_time": "2023-01-21T14:31:13.963848Z"
    }
   },
   "outputs": [],
   "source": [
    "s1 = playstore[:3].copy()\n",
    "s2 = playstore[5:8].copy()\n",
    "s3 = playstore[15:19].copy()"
   ]
  },
  {
   "cell_type": "code",
   "execution_count": 209,
   "id": "9c3daddb",
   "metadata": {
    "ExecuteTime": {
     "end_time": "2023-01-21T14:31:13.971903Z",
     "start_time": "2023-01-21T14:31:13.968024Z"
    }
   },
   "outputs": [],
   "source": [
    "playstore_concat = pd.concat([s1, s2, s3])[['App', 'Size', 'Genres', 'Current Ver']]"
   ]
  },
  {
   "cell_type": "code",
   "execution_count": 210,
   "id": "b81c5399",
   "metadata": {
    "ExecuteTime": {
     "end_time": "2023-01-21T14:31:13.977631Z",
     "start_time": "2023-01-21T14:31:13.974390Z"
    }
   },
   "outputs": [],
   "source": [
    "playstore_concat.to_csv('05_Pandas_miniproject_task5.csv')"
   ]
  },
  {
   "cell_type": "code",
   "execution_count": 211,
   "id": "d07691a0",
   "metadata": {
    "ExecuteTime": {
     "end_time": "2023-01-21T14:31:14.094508Z",
     "start_time": "2023-01-21T14:31:13.979091Z"
    },
    "scrolled": true
   },
   "outputs": [
    {
     "name": "stdout",
     "output_type": "stream",
     "text": [
      ",App,Size,Genres,Current Ver\r\n",
      "0,Photo Editor & Candy Camera & Grid & ScrapBook,19M,Art & Design,1.0.0\r\n",
      "1,Coloring book moana,14M,Art & Design;Pretend Play,2.0.0\r\n",
      "2,\"U Launcher Lite – FREE Live Cool Themes, Hide Apps\",8.7M,Art & Design,1.2.4\r\n",
      "5,Paper flowers instructions,5.6M,Art & Design,1.0\r\n",
      "6,Smoke Effect Photo Maker - Smoke Editor,19M,Art & Design,1.1\r\n",
      "7,Infinite Painter,29M,Art & Design,6.1.61.1\r\n",
      "15,Learn To Draw Kawaii Characters,2.7M,Art & Design,\r\n",
      "16,Photo Designer - Write your name with shapes,5.5M,Art & Design,3.1\r\n",
      "17,350 Diy Room Decor Ideas,17M,Art & Design,1.0\r\n",
      "18,FlipaClip - Cartoon animation,39M,Art & Design,2.2.5\r\n"
     ]
    }
   ],
   "source": [
    "!cat 05_Pandas_miniproject_task5.csv"
   ]
  },
  {
   "cell_type": "code",
   "execution_count": null,
   "id": "97dbc579",
   "metadata": {},
   "outputs": [],
   "source": [
    "# а если проще (эталон): \n",
    "\n",
    "# отберем нужные строки датафрейма\n",
    "temp = pd.concat([playstore[:3], playstore[5:8], playstore[15:19]])\n",
    "\n",
    "# отберем нужные колонки\n",
    "result = temp[[\"App\", \"Size\", \"Genres\", \"Current Ver\"]]\n",
    "\n",
    "# сохраним результат\n",
    "result.to_csv(\"5_result.csv\")"
   ]
  },
  {
   "cell_type": "markdown",
   "id": "cb51d478",
   "metadata": {
    "ExecuteTime": {
     "end_time": "2023-01-21T08:50:55.902727Z",
     "start_time": "2023-01-21T08:50:55.880332Z"
    }
   },
   "source": [
    "## 6\n",
    "\n",
    "Для дальнейшего анализа нам необходимо \n",
    "- убрать дубликаты приложений (колонка App) \n",
    "https://pandas.pydata.org/docs/reference/api/pandas.DataFrame.drop_duplicates.html\n",
    "- и сбросить индекс. \n",
    "https://pandas.pydata.org/docs/reference/api/pandas.DataFrame.reset_index.html\n",
    "- Сохраните полученный результат в виде датафрейма в переменную unique_playstore. \n",
    "\n",
    "Датафрейм уже находится в переменной playstore."
   ]
  },
  {
   "cell_type": "code",
   "execution_count": 212,
   "id": "7995371a",
   "metadata": {
    "ExecuteTime": {
     "end_time": "2023-01-21T14:31:14.108306Z",
     "start_time": "2023-01-21T14:31:14.098554Z"
    }
   },
   "outputs": [],
   "source": [
    "\"\"\"\n",
    "Для того чтобы убрать дубликаты из нашего датафрейма,\n",
    "воспользуемся методом .drop_duplicates(), также добавим туда параметр subset,\n",
    "который нам поможет выбрать колонку по которой удаляем дубликаты. \n",
    "Для того чтобы сбросить индекс, нам нужно воспользоваться методом .reset_index() \n",
    "и добавить параметр drop=True, это позволит нам избежать \n",
    "добавление старых индексов как колонок датафрейма.\n",
    "\"\"\"\n",
    "\n",
    "unique_playstore = playstore.drop_duplicates(subset=['App']).reset_index(drop=True)"
   ]
  },
  {
   "cell_type": "markdown",
   "id": "37c658ab",
   "metadata": {
    "ExecuteTime": {
     "end_time": "2023-01-21T10:30:49.647705Z",
     "start_time": "2023-01-21T10:30:49.638121Z"
    }
   },
   "source": [
    "## 7\n",
    "\n",
    "В этом задании названия колонок необходимо привести к стандартному виду — все буквы должны быть нижнего регистра, а пробелы должны быть заменены на нижние подчеркивания. \n",
    "\n",
    "Методы, которые могут пригодиться:\n",
    "\n",
    "rename\\\n",
    "https://pandas.pydata.org/pandas-docs/stable/reference/api/pandas.DataFrame.rename.html \n",
    "\n",
    "str.lower\\\n",
    "https://pandas.pydata.org/pandas-docs/stable/reference/api/pandas.Series.str.lower.html?highlight=lower#pandas.Series.str.lower \n",
    "\n",
    "str.replace\\\n",
    "https://pandas.pydata.org/pandas-docs/stable/reference/api/pandas.Series.str.replace.html#pandas.Series.str.replace\n",
    "\n",
    "columns\\\n",
    "https://pandas.pydata.org/pandas-docs/stable/reference/api/pandas.DataFrame.columns.html?highlight=columns#pandas.DataFrame.columns\n",
    "\n",
    "Данные уже сохранены в playstore. "
   ]
  },
  {
   "cell_type": "code",
   "execution_count": 213,
   "id": "3e7f4d2e",
   "metadata": {
    "ExecuteTime": {
     "end_time": "2023-01-21T14:31:14.114615Z",
     "start_time": "2023-01-21T14:31:14.109761Z"
    }
   },
   "outputs": [],
   "source": [
    "playstore.columns = playstore.columns.str.lower().str.replace(' ', '_')"
   ]
  },
  {
   "cell_type": "code",
   "execution_count": 214,
   "id": "6cfe2791",
   "metadata": {
    "ExecuteTime": {
     "end_time": "2023-01-21T14:31:14.122097Z",
     "start_time": "2023-01-21T14:31:14.116760Z"
    }
   },
   "outputs": [
    {
     "data": {
      "text/plain": [
       "Index(['unnamed:_0', 'app', 'category', 'rating', 'reviews', 'size',\n",
       "       'installs', 'type', 'price', 'content_rating', 'genres', 'last_updated',\n",
       "       'current_ver', 'android_ver'],\n",
       "      dtype='object')"
      ]
     },
     "execution_count": 214,
     "metadata": {},
     "output_type": "execute_result"
    }
   ],
   "source": [
    "playstore.columns"
   ]
  },
  {
   "cell_type": "markdown",
   "id": "d849e3da",
   "metadata": {},
   "source": [
    "## 8\n",
    "\n",
    "- Давайте посмотрим на долю платных и бесплатных приложений. \n",
    "- В качестве ответа введите долю бесплатных приложений.\n",
    "- Ответ округлите до сотых, в качестве десятичного разделителя используйте точку.\n",
    "\n",
    "NB! Не забудьте убрать дубликаты перед подсчетом доли!"
   ]
  },
  {
   "cell_type": "code",
   "execution_count": 215,
   "id": "fffec3f6",
   "metadata": {
    "ExecuteTime": {
     "end_time": "2023-01-21T14:31:14.135818Z",
     "start_time": "2023-01-21T14:31:14.123261Z"
    }
   },
   "outputs": [
    {
     "data": {
      "text/plain": [
       "0.92"
      ]
     },
     "execution_count": 215,
     "metadata": {},
     "output_type": "execute_result"
    }
   ],
   "source": [
    "# round(playstore.drop_duplicates(subset=['app']).type.value_counts() / len(playstore.drop_duplicates(subset=['app'])),2)\n",
    "playstore.drop_duplicates(subset=['app']).type.value_counts(normalize=True).round(2)[0]"
   ]
  },
  {
   "cell_type": "markdown",
   "id": "316045d5",
   "metadata": {
    "ExecuteTime": {
     "end_time": "2023-01-21T11:04:21.430209Z",
     "start_time": "2023-01-21T11:04:21.423327Z"
    }
   },
   "source": [
    "## 9\n",
    "\n",
    "- Отберите из датафрейма только те приложения, которые относятся к образовательной категории  (EDUCATION) \n",
    "- и с количеством отзывов пользователей более 1000. \n",
    "- Сохраните новый датафрейм в переменную education_playstore.\n",
    "- NB! Не забудьте сбросить индекс в полученном датафрейме!"
   ]
  },
  {
   "cell_type": "code",
   "execution_count": 216,
   "id": "f0263464",
   "metadata": {
    "ExecuteTime": {
     "end_time": "2023-01-21T14:31:14.151260Z",
     "start_time": "2023-01-21T14:31:14.137017Z"
    },
    "scrolled": true
   },
   "outputs": [
    {
     "data": {
      "text/html": [
       "<div>\n",
       "<style scoped>\n",
       "    .dataframe tbody tr th:only-of-type {\n",
       "        vertical-align: middle;\n",
       "    }\n",
       "\n",
       "    .dataframe tbody tr th {\n",
       "        vertical-align: top;\n",
       "    }\n",
       "\n",
       "    .dataframe thead th {\n",
       "        text-align: right;\n",
       "    }\n",
       "</style>\n",
       "<table border=\"1\" class=\"dataframe\">\n",
       "  <thead>\n",
       "    <tr style=\"text-align: right;\">\n",
       "      <th></th>\n",
       "      <th>unnamed:_0</th>\n",
       "      <th>app</th>\n",
       "      <th>category</th>\n",
       "      <th>rating</th>\n",
       "      <th>reviews</th>\n",
       "      <th>size</th>\n",
       "      <th>installs</th>\n",
       "      <th>type</th>\n",
       "      <th>price</th>\n",
       "      <th>content_rating</th>\n",
       "      <th>genres</th>\n",
       "      <th>last_updated</th>\n",
       "      <th>current_ver</th>\n",
       "      <th>android_ver</th>\n",
       "    </tr>\n",
       "  </thead>\n",
       "  <tbody>\n",
       "    <tr>\n",
       "      <th>0</th>\n",
       "      <td>699</td>\n",
       "      <td>Duolingo: Learn Languages Free</td>\n",
       "      <td>EDUCATION</td>\n",
       "      <td>4.7</td>\n",
       "      <td>6289924</td>\n",
       "      <td>Varies with device</td>\n",
       "      <td>100,000,000+</td>\n",
       "      <td>Free</td>\n",
       "      <td>0</td>\n",
       "      <td>Everyone</td>\n",
       "      <td>Education;Education</td>\n",
       "      <td>August 1, 2018</td>\n",
       "      <td>Varies with device</td>\n",
       "      <td>Varies with device</td>\n",
       "    </tr>\n",
       "    <tr>\n",
       "      <th>1</th>\n",
       "      <td>700</td>\n",
       "      <td>TED</td>\n",
       "      <td>EDUCATION</td>\n",
       "      <td>4.6</td>\n",
       "      <td>181893</td>\n",
       "      <td>18M</td>\n",
       "      <td>10,000,000+</td>\n",
       "      <td>Free</td>\n",
       "      <td>0</td>\n",
       "      <td>Everyone 10+</td>\n",
       "      <td>Education</td>\n",
       "      <td>July 27, 2018</td>\n",
       "      <td>3.2.5</td>\n",
       "      <td>4.1 and up</td>\n",
       "    </tr>\n",
       "    <tr>\n",
       "      <th>2</th>\n",
       "      <td>701</td>\n",
       "      <td>English Communication - Learn English for Chin...</td>\n",
       "      <td>EDUCATION</td>\n",
       "      <td>4.7</td>\n",
       "      <td>2544</td>\n",
       "      <td>18M</td>\n",
       "      <td>100,000+</td>\n",
       "      <td>Free</td>\n",
       "      <td>0</td>\n",
       "      <td>Everyone</td>\n",
       "      <td>Education</td>\n",
       "      <td>December 29, 2017</td>\n",
       "      <td>3.1</td>\n",
       "      <td>4.0 and up</td>\n",
       "    </tr>\n",
       "    <tr>\n",
       "      <th>3</th>\n",
       "      <td>702</td>\n",
       "      <td>Khan Academy</td>\n",
       "      <td>EDUCATION</td>\n",
       "      <td>4.6</td>\n",
       "      <td>85375</td>\n",
       "      <td>21M</td>\n",
       "      <td>5,000,000+</td>\n",
       "      <td>Free</td>\n",
       "      <td>0</td>\n",
       "      <td>Everyone</td>\n",
       "      <td>Education</td>\n",
       "      <td>July 27, 2018</td>\n",
       "      <td>5.0.0</td>\n",
       "      <td>4.1 and up</td>\n",
       "    </tr>\n",
       "    <tr>\n",
       "      <th>4</th>\n",
       "      <td>703</td>\n",
       "      <td>Learn English with Wlingua</td>\n",
       "      <td>EDUCATION</td>\n",
       "      <td>4.7</td>\n",
       "      <td>314299</td>\n",
       "      <td>3.3M</td>\n",
       "      <td>10,000,000+</td>\n",
       "      <td>Free</td>\n",
       "      <td>0</td>\n",
       "      <td>Everyone</td>\n",
       "      <td>Education</td>\n",
       "      <td>May 2, 2018</td>\n",
       "      <td>1.94.9</td>\n",
       "      <td>4.0 and up</td>\n",
       "    </tr>\n",
       "    <tr>\n",
       "      <th>...</th>\n",
       "      <td>...</td>\n",
       "      <td>...</td>\n",
       "      <td>...</td>\n",
       "      <td>...</td>\n",
       "      <td>...</td>\n",
       "      <td>...</td>\n",
       "      <td>...</td>\n",
       "      <td>...</td>\n",
       "      <td>...</td>\n",
       "      <td>...</td>\n",
       "      <td>...</td>\n",
       "      <td>...</td>\n",
       "      <td>...</td>\n",
       "      <td>...</td>\n",
       "    </tr>\n",
       "    <tr>\n",
       "      <th>93</th>\n",
       "      <td>848</td>\n",
       "      <td>SoloLearn: Learn to Code for Free</td>\n",
       "      <td>EDUCATION</td>\n",
       "      <td>4.8</td>\n",
       "      <td>256079</td>\n",
       "      <td>7.6M</td>\n",
       "      <td>1,000,000+</td>\n",
       "      <td>Free</td>\n",
       "      <td>0</td>\n",
       "      <td>Teen</td>\n",
       "      <td>Education</td>\n",
       "      <td>July 12, 2018</td>\n",
       "      <td>2.2.4</td>\n",
       "      <td>4.0.3 and up</td>\n",
       "    </tr>\n",
       "    <tr>\n",
       "      <th>94</th>\n",
       "      <td>849</td>\n",
       "      <td>Kids Learn Languages by Mondly</td>\n",
       "      <td>EDUCATION</td>\n",
       "      <td>4.4</td>\n",
       "      <td>2078</td>\n",
       "      <td>Varies with device</td>\n",
       "      <td>100,000+</td>\n",
       "      <td>Free</td>\n",
       "      <td>0</td>\n",
       "      <td>Everyone</td>\n",
       "      <td>Education;Education</td>\n",
       "      <td>December 24, 2017</td>\n",
       "      <td>1.0.2</td>\n",
       "      <td>4.1 and up</td>\n",
       "    </tr>\n",
       "    <tr>\n",
       "      <th>95</th>\n",
       "      <td>850</td>\n",
       "      <td>Blinkist - Nonfiction Books</td>\n",
       "      <td>EDUCATION</td>\n",
       "      <td>4.1</td>\n",
       "      <td>16103</td>\n",
       "      <td>13M</td>\n",
       "      <td>1,000,000+</td>\n",
       "      <td>Free</td>\n",
       "      <td>0</td>\n",
       "      <td>Everyone</td>\n",
       "      <td>Education</td>\n",
       "      <td>July 31, 2018</td>\n",
       "      <td>5.7.1</td>\n",
       "      <td>4.1 and up</td>\n",
       "    </tr>\n",
       "    <tr>\n",
       "      <th>96</th>\n",
       "      <td>853</td>\n",
       "      <td>Toca Life: City</td>\n",
       "      <td>EDUCATION</td>\n",
       "      <td>4.7</td>\n",
       "      <td>31085</td>\n",
       "      <td>24M</td>\n",
       "      <td>500,000+</td>\n",
       "      <td>Paid</td>\n",
       "      <td>$3.99</td>\n",
       "      <td>Everyone</td>\n",
       "      <td>Education;Pretend Play</td>\n",
       "      <td>July 6, 2018</td>\n",
       "      <td>1.5-play</td>\n",
       "      <td>4.4 and up</td>\n",
       "    </tr>\n",
       "    <tr>\n",
       "      <th>97</th>\n",
       "      <td>854</td>\n",
       "      <td>Toca Life: Hospital</td>\n",
       "      <td>EDUCATION</td>\n",
       "      <td>4.7</td>\n",
       "      <td>3528</td>\n",
       "      <td>24M</td>\n",
       "      <td>100,000+</td>\n",
       "      <td>Paid</td>\n",
       "      <td>$3.99</td>\n",
       "      <td>Everyone</td>\n",
       "      <td>Education;Pretend Play</td>\n",
       "      <td>June 12, 2018</td>\n",
       "      <td>1.1.1-play</td>\n",
       "      <td>4.4 and up</td>\n",
       "    </tr>\n",
       "  </tbody>\n",
       "</table>\n",
       "<p>98 rows × 14 columns</p>\n",
       "</div>"
      ],
      "text/plain": [
       "    unnamed:_0                                                app   category  \\\n",
       "0          699                     Duolingo: Learn Languages Free  EDUCATION   \n",
       "1          700                                                TED  EDUCATION   \n",
       "2          701  English Communication - Learn English for Chin...  EDUCATION   \n",
       "3          702                                       Khan Academy  EDUCATION   \n",
       "4          703                         Learn English with Wlingua  EDUCATION   \n",
       "..         ...                                                ...        ...   \n",
       "93         848                  SoloLearn: Learn to Code for Free  EDUCATION   \n",
       "94         849                     Kids Learn Languages by Mondly  EDUCATION   \n",
       "95         850                        Blinkist - Nonfiction Books  EDUCATION   \n",
       "96         853                                    Toca Life: City  EDUCATION   \n",
       "97         854                                Toca Life: Hospital  EDUCATION   \n",
       "\n",
       "    rating  reviews                size      installs  type  price  \\\n",
       "0      4.7  6289924  Varies with device  100,000,000+  Free      0   \n",
       "1      4.6   181893                 18M   10,000,000+  Free      0   \n",
       "2      4.7     2544                 18M      100,000+  Free      0   \n",
       "3      4.6    85375                 21M    5,000,000+  Free      0   \n",
       "4      4.7   314299                3.3M   10,000,000+  Free      0   \n",
       "..     ...      ...                 ...           ...   ...    ...   \n",
       "93     4.8   256079                7.6M    1,000,000+  Free      0   \n",
       "94     4.4     2078  Varies with device      100,000+  Free      0   \n",
       "95     4.1    16103                 13M    1,000,000+  Free      0   \n",
       "96     4.7    31085                 24M      500,000+  Paid  $3.99   \n",
       "97     4.7     3528                 24M      100,000+  Paid  $3.99   \n",
       "\n",
       "   content_rating                  genres       last_updated  \\\n",
       "0        Everyone     Education;Education     August 1, 2018   \n",
       "1    Everyone 10+               Education      July 27, 2018   \n",
       "2        Everyone               Education  December 29, 2017   \n",
       "3        Everyone               Education      July 27, 2018   \n",
       "4        Everyone               Education        May 2, 2018   \n",
       "..            ...                     ...                ...   \n",
       "93           Teen               Education      July 12, 2018   \n",
       "94       Everyone     Education;Education  December 24, 2017   \n",
       "95       Everyone               Education      July 31, 2018   \n",
       "96       Everyone  Education;Pretend Play       July 6, 2018   \n",
       "97       Everyone  Education;Pretend Play      June 12, 2018   \n",
       "\n",
       "           current_ver         android_ver  \n",
       "0   Varies with device  Varies with device  \n",
       "1                3.2.5          4.1 and up  \n",
       "2                  3.1          4.0 and up  \n",
       "3                5.0.0          4.1 and up  \n",
       "4               1.94.9          4.0 and up  \n",
       "..                 ...                 ...  \n",
       "93               2.2.4        4.0.3 and up  \n",
       "94               1.0.2          4.1 and up  \n",
       "95               5.7.1          4.1 and up  \n",
       "96            1.5-play          4.4 and up  \n",
       "97          1.1.1-play          4.4 and up  \n",
       "\n",
       "[98 rows x 14 columns]"
      ]
     },
     "execution_count": 216,
     "metadata": {},
     "output_type": "execute_result"
    }
   ],
   "source": [
    "playstore = unique_playstore.copy()\n",
    "playstore.columns = playstore.columns.str.lower().str.replace(' ', '_')\n",
    "education_playstore = playstore[(playstore['category'] == 'EDUCATION') & (playstore['reviews'] > 1000)].reset_index(drop=True)\n",
    "education_playstore"
   ]
  },
  {
   "cell_type": "markdown",
   "id": "6742d9fb",
   "metadata": {},
   "source": [
    "## 10\n",
    "- Давайте уберем лишние символы из колонки с ценой (price), чтобы далее с ней было удобнее работать,\n",
    "- и переведем данные в тип float. \n",
    "\n",
    "Данные уже сохранены в playstore."
   ]
  },
  {
   "cell_type": "code",
   "execution_count": 217,
   "id": "2303909c",
   "metadata": {
    "ExecuteTime": {
     "end_time": "2023-01-21T14:31:14.167576Z",
     "start_time": "2023-01-21T14:31:14.152418Z"
    },
    "scrolled": false
   },
   "outputs": [
    {
     "name": "stderr",
     "output_type": "stream",
     "text": [
      "/tmp/ipykernel_4964/2168220280.py:1: FutureWarning: The default value of regex will change from True to False in a future version. In addition, single character regular expressions will *not* be treated as literal strings when regex=True.\n",
      "  playstore['price'] = playstore['price'].str.replace('$', '').astype(float)\n"
     ]
    },
    {
     "data": {
      "text/html": [
       "<div>\n",
       "<style scoped>\n",
       "    .dataframe tbody tr th:only-of-type {\n",
       "        vertical-align: middle;\n",
       "    }\n",
       "\n",
       "    .dataframe tbody tr th {\n",
       "        vertical-align: top;\n",
       "    }\n",
       "\n",
       "    .dataframe thead th {\n",
       "        text-align: right;\n",
       "    }\n",
       "</style>\n",
       "<table border=\"1\" class=\"dataframe\">\n",
       "  <thead>\n",
       "    <tr style=\"text-align: right;\">\n",
       "      <th></th>\n",
       "      <th>unnamed:_0</th>\n",
       "      <th>app</th>\n",
       "      <th>category</th>\n",
       "      <th>rating</th>\n",
       "      <th>reviews</th>\n",
       "      <th>size</th>\n",
       "      <th>installs</th>\n",
       "      <th>type</th>\n",
       "      <th>price</th>\n",
       "      <th>content_rating</th>\n",
       "      <th>genres</th>\n",
       "      <th>last_updated</th>\n",
       "      <th>current_ver</th>\n",
       "      <th>android_ver</th>\n",
       "    </tr>\n",
       "  </thead>\n",
       "  <tbody>\n",
       "    <tr>\n",
       "      <th>0</th>\n",
       "      <td>0</td>\n",
       "      <td>Photo Editor &amp; Candy Camera &amp; Grid &amp; ScrapBook</td>\n",
       "      <td>ART_AND_DESIGN</td>\n",
       "      <td>4.1</td>\n",
       "      <td>159</td>\n",
       "      <td>19M</td>\n",
       "      <td>10,000+</td>\n",
       "      <td>Free</td>\n",
       "      <td>0.0</td>\n",
       "      <td>Everyone</td>\n",
       "      <td>Art &amp; Design</td>\n",
       "      <td>January 7, 2018</td>\n",
       "      <td>1.0.0</td>\n",
       "      <td>4.0.3 and up</td>\n",
       "    </tr>\n",
       "    <tr>\n",
       "      <th>1</th>\n",
       "      <td>1</td>\n",
       "      <td>Coloring book moana</td>\n",
       "      <td>ART_AND_DESIGN</td>\n",
       "      <td>3.9</td>\n",
       "      <td>967</td>\n",
       "      <td>14M</td>\n",
       "      <td>500,000+</td>\n",
       "      <td>Free</td>\n",
       "      <td>0.0</td>\n",
       "      <td>Everyone</td>\n",
       "      <td>Art &amp; Design;Pretend Play</td>\n",
       "      <td>January 15, 2018</td>\n",
       "      <td>2.0.0</td>\n",
       "      <td>4.0.3 and up</td>\n",
       "    </tr>\n",
       "    <tr>\n",
       "      <th>2</th>\n",
       "      <td>2</td>\n",
       "      <td>U Launcher Lite – FREE Live Cool Themes, Hide ...</td>\n",
       "      <td>ART_AND_DESIGN</td>\n",
       "      <td>4.7</td>\n",
       "      <td>87510</td>\n",
       "      <td>8.7M</td>\n",
       "      <td>5,000,000+</td>\n",
       "      <td>Free</td>\n",
       "      <td>0.0</td>\n",
       "      <td>Everyone</td>\n",
       "      <td>Art &amp; Design</td>\n",
       "      <td>August 1, 2018</td>\n",
       "      <td>1.2.4</td>\n",
       "      <td>4.0.3 and up</td>\n",
       "    </tr>\n",
       "  </tbody>\n",
       "</table>\n",
       "</div>"
      ],
      "text/plain": [
       "   unnamed:_0                                                app  \\\n",
       "0           0     Photo Editor & Candy Camera & Grid & ScrapBook   \n",
       "1           1                                Coloring book moana   \n",
       "2           2  U Launcher Lite – FREE Live Cool Themes, Hide ...   \n",
       "\n",
       "         category  rating  reviews  size    installs  type  price  \\\n",
       "0  ART_AND_DESIGN     4.1      159   19M     10,000+  Free    0.0   \n",
       "1  ART_AND_DESIGN     3.9      967   14M    500,000+  Free    0.0   \n",
       "2  ART_AND_DESIGN     4.7    87510  8.7M  5,000,000+  Free    0.0   \n",
       "\n",
       "  content_rating                     genres      last_updated current_ver  \\\n",
       "0       Everyone               Art & Design   January 7, 2018       1.0.0   \n",
       "1       Everyone  Art & Design;Pretend Play  January 15, 2018       2.0.0   \n",
       "2       Everyone               Art & Design    August 1, 2018       1.2.4   \n",
       "\n",
       "    android_ver  \n",
       "0  4.0.3 and up  \n",
       "1  4.0.3 and up  \n",
       "2  4.0.3 and up  "
      ]
     },
     "execution_count": 217,
     "metadata": {},
     "output_type": "execute_result"
    }
   ],
   "source": [
    "playstore['price'] = playstore['price'].str.replace('$', '').astype(float)\n",
    "playstore.head(3)"
   ]
  },
  {
   "cell_type": "code",
   "execution_count": null,
   "id": "29816d0c",
   "metadata": {},
   "outputs": [],
   "source": [
    "# эталонный вариант с lambda\n",
    "\n",
    "playstore[\"price\"] = playstore.price.apply(lambda x:x.replace('$','')).astype(\"float\")"
   ]
  },
  {
   "attachments": {
    "image.png": {
     "image/png": "[encoded data removed]"
    }
   },
   "cell_type": "markdown",
   "id": "7d8a513d",
   "metadata": {},
   "source": [
    "## 11\n",
    "\n",
    "В качестве последнего задания вам предстоит сделать сводную таблицу по данным. Полученная на выходе таблица должна соответствовать представленному шаблону: \n",
    "\n",
    "![image.png](attachment:image.png)\n",
    "\n",
    "- Колонки должны иметь соответствующие названия, \n",
    "- значения таблицы округлены до указанного числа знаков после точки. \n",
    "- В качестве ответа загрузите полученную таблицу в формате csv (сепаратор запятая - ,).\n",
    "\n",
    "- NB! Понадобится погуглить информацию по запросу \"Сводная таблица pandas\"\n",
    "\n",
    "https://pandas.pydata.org/pandas-docs/stable/reference/api/pandas.pivot_table.html\n",
    "\n",
    "- NB! Таблицу нужно делать по данным, где удалены дубликаты"
   ]
  },
  {
   "cell_type": "code",
   "execution_count": 218,
   "id": "44df3410",
   "metadata": {
    "ExecuteTime": {
     "end_time": "2023-01-21T14:31:14.177276Z",
     "start_time": "2023-01-21T14:31:14.169547Z"
    }
   },
   "outputs": [],
   "source": [
    "pivot_ps = pd.pivot_table(playstore, index=['category', 'type'], values=['price', 'rating', 'reviews']\n",
    ")"
   ]
  },
  {
   "cell_type": "code",
   "execution_count": 223,
   "id": "9fe823b5",
   "metadata": {
    "ExecuteTime": {
     "end_time": "2023-01-21T14:32:42.509337Z",
     "start_time": "2023-01-21T14:32:42.493003Z"
    },
    "scrolled": true
   },
   "outputs": [
    {
     "data": {
      "text/html": [
       "<div>\n",
       "<style scoped>\n",
       "    .dataframe tbody tr th:only-of-type {\n",
       "        vertical-align: middle;\n",
       "    }\n",
       "\n",
       "    .dataframe tbody tr th {\n",
       "        vertical-align: top;\n",
       "    }\n",
       "\n",
       "    .dataframe thead th {\n",
       "        text-align: right;\n",
       "    }\n",
       "</style>\n",
       "<table border=\"1\" class=\"dataframe\">\n",
       "  <thead>\n",
       "    <tr style=\"text-align: right;\">\n",
       "      <th></th>\n",
       "      <th></th>\n",
       "      <th>mean_price</th>\n",
       "      <th>mean_rating</th>\n",
       "      <th>mean_reviews</th>\n",
       "    </tr>\n",
       "    <tr>\n",
       "      <th>category</th>\n",
       "      <th>type</th>\n",
       "      <th></th>\n",
       "      <th></th>\n",
       "      <th></th>\n",
       "    </tr>\n",
       "  </thead>\n",
       "  <tbody>\n",
       "    <tr>\n",
       "      <th rowspan=\"2\" valign=\"top\">ART_AND_DESIGN</th>\n",
       "      <th>Free</th>\n",
       "      <td>0.0000</td>\n",
       "      <td>4.337931</td>\n",
       "      <td>23230.114754</td>\n",
       "    </tr>\n",
       "    <tr>\n",
       "      <th>Paid</th>\n",
       "      <td>1.9900</td>\n",
       "      <td>4.733333</td>\n",
       "      <td>722.000000</td>\n",
       "    </tr>\n",
       "    <tr>\n",
       "      <th rowspan=\"2\" valign=\"top\">AUTO_AND_VEHICLES</th>\n",
       "      <th>Free</th>\n",
       "      <td>0.0000</td>\n",
       "      <td>4.184722</td>\n",
       "      <td>14140.280488</td>\n",
       "    </tr>\n",
       "    <tr>\n",
       "      <th>Paid</th>\n",
       "      <td>4.4900</td>\n",
       "      <td>4.600000</td>\n",
       "      <td>1387.666667</td>\n",
       "    </tr>\n",
       "    <tr>\n",
       "      <th>BEAUTY</th>\n",
       "      <th>Free</th>\n",
       "      <td>0.0000</td>\n",
       "      <td>4.278571</td>\n",
       "      <td>7476.226415</td>\n",
       "    </tr>\n",
       "    <tr>\n",
       "      <th>...</th>\n",
       "      <th>...</th>\n",
       "      <td>...</td>\n",
       "      <td>...</td>\n",
       "      <td>...</td>\n",
       "    </tr>\n",
       "    <tr>\n",
       "      <th>TRAVEL_AND_LOCAL</th>\n",
       "      <th>Paid</th>\n",
       "      <td>4.1625</td>\n",
       "      <td>4.100000</td>\n",
       "      <td>1506.083333</td>\n",
       "    </tr>\n",
       "    <tr>\n",
       "      <th rowspan=\"2\" valign=\"top\">VIDEO_PLAYERS</th>\n",
       "      <th>Free</th>\n",
       "      <td>0.0000</td>\n",
       "      <td>4.043056</td>\n",
       "      <td>424347.176101</td>\n",
       "    </tr>\n",
       "    <tr>\n",
       "      <th>Paid</th>\n",
       "      <td>2.6150</td>\n",
       "      <td>4.100000</td>\n",
       "      <td>3341.750000</td>\n",
       "    </tr>\n",
       "    <tr>\n",
       "      <th rowspan=\"2\" valign=\"top\">WEATHER</th>\n",
       "      <th>Free</th>\n",
       "      <td>0.0000</td>\n",
       "      <td>4.229231</td>\n",
       "      <td>171249.619718</td>\n",
       "    </tr>\n",
       "    <tr>\n",
       "      <th>Paid</th>\n",
       "      <td>4.0525</td>\n",
       "      <td>4.371429</td>\n",
       "      <td>17055.125000</td>\n",
       "    </tr>\n",
       "  </tbody>\n",
       "</table>\n",
       "<p>63 rows × 3 columns</p>\n",
       "</div>"
      ],
      "text/plain": [
       "                        mean_price  mean_rating   mean_reviews\n",
       "category          type                                        \n",
       "ART_AND_DESIGN    Free      0.0000     4.337931   23230.114754\n",
       "                  Paid      1.9900     4.733333     722.000000\n",
       "AUTO_AND_VEHICLES Free      0.0000     4.184722   14140.280488\n",
       "                  Paid      4.4900     4.600000    1387.666667\n",
       "BEAUTY            Free      0.0000     4.278571    7476.226415\n",
       "...                            ...          ...            ...\n",
       "TRAVEL_AND_LOCAL  Paid      4.1625     4.100000    1506.083333\n",
       "VIDEO_PLAYERS     Free      0.0000     4.043056  424347.176101\n",
       "                  Paid      2.6150     4.100000    3341.750000\n",
       "WEATHER           Free      0.0000     4.229231  171249.619718\n",
       "                  Paid      4.0525     4.371429   17055.125000\n",
       "\n",
       "[63 rows x 3 columns]"
      ]
     },
     "execution_count": 223,
     "metadata": {},
     "output_type": "execute_result"
    }
   ],
   "source": [
    "pivot_ps.rename(columns={'price': 'mean_price', \n",
    "                         'rating': 'mean_rating',\n",
    "                         'reviews': 'mean_reviews'})"
   ]
  },
  {
   "cell_type": "code",
   "execution_count": 229,
   "id": "2ea6a423",
   "metadata": {
    "ExecuteTime": {
     "end_time": "2023-01-21T14:34:44.789394Z",
     "start_time": "2023-01-21T14:34:44.784334Z"
    }
   },
   "outputs": [],
   "source": [
    "pivot_ps['mean_price'] = pivot_ps['mean_price'].round(2)"
   ]
  },
  {
   "cell_type": "code",
   "execution_count": 226,
   "id": "9c476267",
   "metadata": {
    "ExecuteTime": {
     "end_time": "2023-01-21T14:33:30.090114Z",
     "start_time": "2023-01-21T14:33:30.066040Z"
    }
   },
   "outputs": [
    {
     "data": {
      "text/html": [
       "<div>\n",
       "<style scoped>\n",
       "    .dataframe tbody tr th:only-of-type {\n",
       "        vertical-align: middle;\n",
       "    }\n",
       "\n",
       "    .dataframe tbody tr th {\n",
       "        vertical-align: top;\n",
       "    }\n",
       "\n",
       "    .dataframe thead th {\n",
       "        text-align: right;\n",
       "    }\n",
       "</style>\n",
       "<table border=\"1\" class=\"dataframe\">\n",
       "  <thead>\n",
       "    <tr style=\"text-align: right;\">\n",
       "      <th></th>\n",
       "      <th></th>\n",
       "      <th>mean_price</th>\n",
       "      <th>mean_rating</th>\n",
       "      <th>mean_reviews</th>\n",
       "    </tr>\n",
       "    <tr>\n",
       "      <th>category</th>\n",
       "      <th>type</th>\n",
       "      <th></th>\n",
       "      <th></th>\n",
       "      <th></th>\n",
       "    </tr>\n",
       "  </thead>\n",
       "  <tbody>\n",
       "    <tr>\n",
       "      <th rowspan=\"2\" valign=\"top\">ART_AND_DESIGN</th>\n",
       "      <th>Free</th>\n",
       "      <td>0.0000</td>\n",
       "      <td>4.337931</td>\n",
       "      <td>23230.114754</td>\n",
       "    </tr>\n",
       "    <tr>\n",
       "      <th>Paid</th>\n",
       "      <td>1.9900</td>\n",
       "      <td>4.733333</td>\n",
       "      <td>722.000000</td>\n",
       "    </tr>\n",
       "    <tr>\n",
       "      <th rowspan=\"2\" valign=\"top\">AUTO_AND_VEHICLES</th>\n",
       "      <th>Free</th>\n",
       "      <td>0.0000</td>\n",
       "      <td>4.184722</td>\n",
       "      <td>14140.280488</td>\n",
       "    </tr>\n",
       "    <tr>\n",
       "      <th>Paid</th>\n",
       "      <td>4.4900</td>\n",
       "      <td>4.600000</td>\n",
       "      <td>1387.666667</td>\n",
       "    </tr>\n",
       "    <tr>\n",
       "      <th>BEAUTY</th>\n",
       "      <th>Free</th>\n",
       "      <td>0.0000</td>\n",
       "      <td>4.278571</td>\n",
       "      <td>7476.226415</td>\n",
       "    </tr>\n",
       "    <tr>\n",
       "      <th>...</th>\n",
       "      <th>...</th>\n",
       "      <td>...</td>\n",
       "      <td>...</td>\n",
       "      <td>...</td>\n",
       "    </tr>\n",
       "    <tr>\n",
       "      <th>TRAVEL_AND_LOCAL</th>\n",
       "      <th>Paid</th>\n",
       "      <td>4.1625</td>\n",
       "      <td>4.100000</td>\n",
       "      <td>1506.083333</td>\n",
       "    </tr>\n",
       "    <tr>\n",
       "      <th rowspan=\"2\" valign=\"top\">VIDEO_PLAYERS</th>\n",
       "      <th>Free</th>\n",
       "      <td>0.0000</td>\n",
       "      <td>4.043056</td>\n",
       "      <td>424347.176101</td>\n",
       "    </tr>\n",
       "    <tr>\n",
       "      <th>Paid</th>\n",
       "      <td>2.6150</td>\n",
       "      <td>4.100000</td>\n",
       "      <td>3341.750000</td>\n",
       "    </tr>\n",
       "    <tr>\n",
       "      <th rowspan=\"2\" valign=\"top\">WEATHER</th>\n",
       "      <th>Free</th>\n",
       "      <td>0.0000</td>\n",
       "      <td>4.229231</td>\n",
       "      <td>171249.619718</td>\n",
       "    </tr>\n",
       "    <tr>\n",
       "      <th>Paid</th>\n",
       "      <td>4.0525</td>\n",
       "      <td>4.371429</td>\n",
       "      <td>17055.125000</td>\n",
       "    </tr>\n",
       "  </tbody>\n",
       "</table>\n",
       "<p>63 rows × 3 columns</p>\n",
       "</div>"
      ],
      "text/plain": [
       "                        mean_price  mean_rating   mean_reviews\n",
       "category          type                                        \n",
       "ART_AND_DESIGN    Free      0.0000     4.337931   23230.114754\n",
       "                  Paid      1.9900     4.733333     722.000000\n",
       "AUTO_AND_VEHICLES Free      0.0000     4.184722   14140.280488\n",
       "                  Paid      4.4900     4.600000    1387.666667\n",
       "BEAUTY            Free      0.0000     4.278571    7476.226415\n",
       "...                            ...          ...            ...\n",
       "TRAVEL_AND_LOCAL  Paid      4.1625     4.100000    1506.083333\n",
       "VIDEO_PLAYERS     Free      0.0000     4.043056  424347.176101\n",
       "                  Paid      2.6150     4.100000    3341.750000\n",
       "WEATHER           Free      0.0000     4.229231  171249.619718\n",
       "                  Paid      4.0525     4.371429   17055.125000\n",
       "\n",
       "[63 rows x 3 columns]"
      ]
     },
     "execution_count": 226,
     "metadata": {},
     "output_type": "execute_result"
    }
   ],
   "source": [
    "pivot_ps"
   ]
  },
  {
   "cell_type": "code",
   "execution_count": 227,
   "id": "63b78792",
   "metadata": {
    "ExecuteTime": {
     "end_time": "2023-01-21T14:33:55.910509Z",
     "start_time": "2023-01-21T14:33:55.904639Z"
    }
   },
   "outputs": [],
   "source": [
    "pivot_ps['mean_rating'] = pivot_ps['mean_rating'].round(1)"
   ]
  },
  {
   "cell_type": "code",
   "execution_count": 228,
   "id": "c5e81275",
   "metadata": {
    "ExecuteTime": {
     "end_time": "2023-01-21T14:34:05.149456Z",
     "start_time": "2023-01-21T14:34:05.129478Z"
    }
   },
   "outputs": [
    {
     "data": {
      "text/html": [
       "<div>\n",
       "<style scoped>\n",
       "    .dataframe tbody tr th:only-of-type {\n",
       "        vertical-align: middle;\n",
       "    }\n",
       "\n",
       "    .dataframe tbody tr th {\n",
       "        vertical-align: top;\n",
       "    }\n",
       "\n",
       "    .dataframe thead th {\n",
       "        text-align: right;\n",
       "    }\n",
       "</style>\n",
       "<table border=\"1\" class=\"dataframe\">\n",
       "  <thead>\n",
       "    <tr style=\"text-align: right;\">\n",
       "      <th></th>\n",
       "      <th></th>\n",
       "      <th>mean_price</th>\n",
       "      <th>mean_rating</th>\n",
       "      <th>mean_reviews</th>\n",
       "    </tr>\n",
       "    <tr>\n",
       "      <th>category</th>\n",
       "      <th>type</th>\n",
       "      <th></th>\n",
       "      <th></th>\n",
       "      <th></th>\n",
       "    </tr>\n",
       "  </thead>\n",
       "  <tbody>\n",
       "    <tr>\n",
       "      <th rowspan=\"2\" valign=\"top\">ART_AND_DESIGN</th>\n",
       "      <th>Free</th>\n",
       "      <td>0.0000</td>\n",
       "      <td>4.3</td>\n",
       "      <td>23230.114754</td>\n",
       "    </tr>\n",
       "    <tr>\n",
       "      <th>Paid</th>\n",
       "      <td>1.9900</td>\n",
       "      <td>4.7</td>\n",
       "      <td>722.000000</td>\n",
       "    </tr>\n",
       "    <tr>\n",
       "      <th rowspan=\"2\" valign=\"top\">AUTO_AND_VEHICLES</th>\n",
       "      <th>Free</th>\n",
       "      <td>0.0000</td>\n",
       "      <td>4.2</td>\n",
       "      <td>14140.280488</td>\n",
       "    </tr>\n",
       "    <tr>\n",
       "      <th>Paid</th>\n",
       "      <td>4.4900</td>\n",
       "      <td>4.6</td>\n",
       "      <td>1387.666667</td>\n",
       "    </tr>\n",
       "    <tr>\n",
       "      <th>BEAUTY</th>\n",
       "      <th>Free</th>\n",
       "      <td>0.0000</td>\n",
       "      <td>4.3</td>\n",
       "      <td>7476.226415</td>\n",
       "    </tr>\n",
       "    <tr>\n",
       "      <th>...</th>\n",
       "      <th>...</th>\n",
       "      <td>...</td>\n",
       "      <td>...</td>\n",
       "      <td>...</td>\n",
       "    </tr>\n",
       "    <tr>\n",
       "      <th>TRAVEL_AND_LOCAL</th>\n",
       "      <th>Paid</th>\n",
       "      <td>4.1625</td>\n",
       "      <td>4.1</td>\n",
       "      <td>1506.083333</td>\n",
       "    </tr>\n",
       "    <tr>\n",
       "      <th rowspan=\"2\" valign=\"top\">VIDEO_PLAYERS</th>\n",
       "      <th>Free</th>\n",
       "      <td>0.0000</td>\n",
       "      <td>4.0</td>\n",
       "      <td>424347.176101</td>\n",
       "    </tr>\n",
       "    <tr>\n",
       "      <th>Paid</th>\n",
       "      <td>2.6150</td>\n",
       "      <td>4.1</td>\n",
       "      <td>3341.750000</td>\n",
       "    </tr>\n",
       "    <tr>\n",
       "      <th rowspan=\"2\" valign=\"top\">WEATHER</th>\n",
       "      <th>Free</th>\n",
       "      <td>0.0000</td>\n",
       "      <td>4.2</td>\n",
       "      <td>171249.619718</td>\n",
       "    </tr>\n",
       "    <tr>\n",
       "      <th>Paid</th>\n",
       "      <td>4.0525</td>\n",
       "      <td>4.4</td>\n",
       "      <td>17055.125000</td>\n",
       "    </tr>\n",
       "  </tbody>\n",
       "</table>\n",
       "<p>63 rows × 3 columns</p>\n",
       "</div>"
      ],
      "text/plain": [
       "                        mean_price  mean_rating   mean_reviews\n",
       "category          type                                        \n",
       "ART_AND_DESIGN    Free      0.0000          4.3   23230.114754\n",
       "                  Paid      1.9900          4.7     722.000000\n",
       "AUTO_AND_VEHICLES Free      0.0000          4.2   14140.280488\n",
       "                  Paid      4.4900          4.6    1387.666667\n",
       "BEAUTY            Free      0.0000          4.3    7476.226415\n",
       "...                            ...          ...            ...\n",
       "TRAVEL_AND_LOCAL  Paid      4.1625          4.1    1506.083333\n",
       "VIDEO_PLAYERS     Free      0.0000          4.0  424347.176101\n",
       "                  Paid      2.6150          4.1    3341.750000\n",
       "WEATHER           Free      0.0000          4.2  171249.619718\n",
       "                  Paid      4.0525          4.4   17055.125000\n",
       "\n",
       "[63 rows x 3 columns]"
      ]
     },
     "execution_count": 228,
     "metadata": {},
     "output_type": "execute_result"
    }
   ],
   "source": [
    "pivot_ps"
   ]
  },
  {
   "cell_type": "code",
   "execution_count": 230,
   "id": "255abb51",
   "metadata": {
    "ExecuteTime": {
     "end_time": "2023-01-21T14:34:51.454818Z",
     "start_time": "2023-01-21T14:34:51.450531Z"
    }
   },
   "outputs": [],
   "source": [
    "pivot_ps['mean_reviews'] = pivot_ps.mean_reviews.round(2)"
   ]
  },
  {
   "cell_type": "code",
   "execution_count": 231,
   "id": "b42fcb13",
   "metadata": {
    "ExecuteTime": {
     "end_time": "2023-01-21T14:34:53.844949Z",
     "start_time": "2023-01-21T14:34:53.825842Z"
    }
   },
   "outputs": [
    {
     "data": {
      "text/html": [
       "<div>\n",
       "<style scoped>\n",
       "    .dataframe tbody tr th:only-of-type {\n",
       "        vertical-align: middle;\n",
       "    }\n",
       "\n",
       "    .dataframe tbody tr th {\n",
       "        vertical-align: top;\n",
       "    }\n",
       "\n",
       "    .dataframe thead th {\n",
       "        text-align: right;\n",
       "    }\n",
       "</style>\n",
       "<table border=\"1\" class=\"dataframe\">\n",
       "  <thead>\n",
       "    <tr style=\"text-align: right;\">\n",
       "      <th></th>\n",
       "      <th></th>\n",
       "      <th>mean_price</th>\n",
       "      <th>mean_rating</th>\n",
       "      <th>mean_reviews</th>\n",
       "    </tr>\n",
       "    <tr>\n",
       "      <th>category</th>\n",
       "      <th>type</th>\n",
       "      <th></th>\n",
       "      <th></th>\n",
       "      <th></th>\n",
       "    </tr>\n",
       "  </thead>\n",
       "  <tbody>\n",
       "    <tr>\n",
       "      <th rowspan=\"2\" valign=\"top\">ART_AND_DESIGN</th>\n",
       "      <th>Free</th>\n",
       "      <td>0.00</td>\n",
       "      <td>4.3</td>\n",
       "      <td>23230.11</td>\n",
       "    </tr>\n",
       "    <tr>\n",
       "      <th>Paid</th>\n",
       "      <td>1.99</td>\n",
       "      <td>4.7</td>\n",
       "      <td>722.00</td>\n",
       "    </tr>\n",
       "    <tr>\n",
       "      <th rowspan=\"2\" valign=\"top\">AUTO_AND_VEHICLES</th>\n",
       "      <th>Free</th>\n",
       "      <td>0.00</td>\n",
       "      <td>4.2</td>\n",
       "      <td>14140.28</td>\n",
       "    </tr>\n",
       "    <tr>\n",
       "      <th>Paid</th>\n",
       "      <td>4.49</td>\n",
       "      <td>4.6</td>\n",
       "      <td>1387.67</td>\n",
       "    </tr>\n",
       "    <tr>\n",
       "      <th>BEAUTY</th>\n",
       "      <th>Free</th>\n",
       "      <td>0.00</td>\n",
       "      <td>4.3</td>\n",
       "      <td>7476.23</td>\n",
       "    </tr>\n",
       "    <tr>\n",
       "      <th>...</th>\n",
       "      <th>...</th>\n",
       "      <td>...</td>\n",
       "      <td>...</td>\n",
       "      <td>...</td>\n",
       "    </tr>\n",
       "    <tr>\n",
       "      <th>TRAVEL_AND_LOCAL</th>\n",
       "      <th>Paid</th>\n",
       "      <td>4.16</td>\n",
       "      <td>4.1</td>\n",
       "      <td>1506.08</td>\n",
       "    </tr>\n",
       "    <tr>\n",
       "      <th rowspan=\"2\" valign=\"top\">VIDEO_PLAYERS</th>\n",
       "      <th>Free</th>\n",
       "      <td>0.00</td>\n",
       "      <td>4.0</td>\n",
       "      <td>424347.18</td>\n",
       "    </tr>\n",
       "    <tr>\n",
       "      <th>Paid</th>\n",
       "      <td>2.62</td>\n",
       "      <td>4.1</td>\n",
       "      <td>3341.75</td>\n",
       "    </tr>\n",
       "    <tr>\n",
       "      <th rowspan=\"2\" valign=\"top\">WEATHER</th>\n",
       "      <th>Free</th>\n",
       "      <td>0.00</td>\n",
       "      <td>4.2</td>\n",
       "      <td>171249.62</td>\n",
       "    </tr>\n",
       "    <tr>\n",
       "      <th>Paid</th>\n",
       "      <td>4.05</td>\n",
       "      <td>4.4</td>\n",
       "      <td>17055.12</td>\n",
       "    </tr>\n",
       "  </tbody>\n",
       "</table>\n",
       "<p>63 rows × 3 columns</p>\n",
       "</div>"
      ],
      "text/plain": [
       "                        mean_price  mean_rating  mean_reviews\n",
       "category          type                                       \n",
       "ART_AND_DESIGN    Free        0.00          4.3      23230.11\n",
       "                  Paid        1.99          4.7        722.00\n",
       "AUTO_AND_VEHICLES Free        0.00          4.2      14140.28\n",
       "                  Paid        4.49          4.6       1387.67\n",
       "BEAUTY            Free        0.00          4.3       7476.23\n",
       "...                            ...          ...           ...\n",
       "TRAVEL_AND_LOCAL  Paid        4.16          4.1       1506.08\n",
       "VIDEO_PLAYERS     Free        0.00          4.0     424347.18\n",
       "                  Paid        2.62          4.1       3341.75\n",
       "WEATHER           Free        0.00          4.2     171249.62\n",
       "                  Paid        4.05          4.4      17055.12\n",
       "\n",
       "[63 rows x 3 columns]"
      ]
     },
     "execution_count": 231,
     "metadata": {},
     "output_type": "execute_result"
    }
   ],
   "source": [
    "pivot_ps"
   ]
  },
  {
   "cell_type": "code",
   "execution_count": 232,
   "id": "77dca111",
   "metadata": {
    "ExecuteTime": {
     "end_time": "2023-01-21T14:37:53.904579Z",
     "start_time": "2023-01-21T14:37:53.885036Z"
    }
   },
   "outputs": [
    {
     "name": "stderr",
     "output_type": "stream",
     "text": [
      "/home/antonio/.local/lib/python3.10/site-packages/pandas/core/internals/blocks.py:2323: RuntimeWarning: invalid value encountered in cast\n",
      "  values = values.astype(str)\n"
     ]
    }
   ],
   "source": [
    "pivot_ps.to_csv('05_Pandas_miniproject_task11.csv', sep=',')"
   ]
  },
  {
   "cell_type": "code",
   "execution_count": 233,
   "id": "cc1c242a",
   "metadata": {
    "ExecuteTime": {
     "end_time": "2023-01-21T14:38:41.386039Z",
     "start_time": "2023-01-21T14:38:41.261735Z"
    },
    "scrolled": true
   },
   "outputs": [
    {
     "name": "stdout",
     "output_type": "stream",
     "text": [
      "category,type,mean_price,mean_rating,mean_reviews\r\n",
      "ART_AND_DESIGN,Free,0.0,4.3,23230.11\r\n",
      "ART_AND_DESIGN,Paid,1.99,4.7,722.0\r\n",
      "AUTO_AND_VEHICLES,Free,0.0,4.2,14140.28\r\n",
      "AUTO_AND_VEHICLES,Paid,4.49,4.6,1387.67\r\n",
      "BEAUTY,Free,0.0,4.3,7476.23\r\n",
      "BOOKS_AND_REFERENCE,Free,0.0,4.3,86183.08\r\n",
      "BOOKS_AND_REFERENCE,Paid,4.28,4.3,64.14\r\n",
      "BUSINESS,Free,0.0,4.1,24179.2\r\n",
      "BUSINESS,Paid,14.61,4.1,2094.33\r\n",
      "COMICS,Free,0.0,4.2,41822.7\r\n",
      "COMMUNICATION,Free,0.0,4.1,992108.17\r\n",
      "COMMUNICATION,Paid,3.08,4.1,3119.04\r\n",
      "DATING,Free,0.0,4.0,21951.13\r\n",
      "DATING,Paid,4.57,3.4,268.0\r\n",
      "EDUCATION,Free,0.0,4.4,115908.72\r\n",
      "EDUCATION,Paid,4.49,4.8,8661.25\r\n",
      "ENTERTAINMENT,Free,0.0,4.1,347526.41\r\n",
      "ENTERTAINMENT,Paid,3.99,4.6,5004.5\r\n",
      "EVENTS,Free,0.0,4.4,2555.84\r\n",
      "EVENTS,Paid,109.99,,0.0\r\n",
      "FAMILY,Free,0.0,4.2,85068.52\r\n",
      "FAMILY,Paid,13.11,4.3,19850.12\r\n",
      "FINANCE,Free,0.0,4.1,38533.26\r\n",
      "FINANCE,Paid,170.64,3.8,1364.59\r\n",
      "FOOD_AND_DRINK,Free,0.0,4.2,57469.37\r\n",
      "FOOD_AND_DRINK,Paid,4.24,4.4,1698.5\r\n",
      "GAME,Free,0.0,4.2,707783.19\r\n",
      "GAME,Paid,3.47,4.4,19181.11\r\n",
      "HEALTH_AND_FITNESS,Free,0.0,4.2,78078.98\r\n",
      "HEALTH_AND_FITNESS,Paid,4.29,4.4,3052.87\r\n",
      "HOUSE_AND_HOME,Free,0.0,4.2,26079.01\r\n",
      "LIBRARIES_AND_DEMO,Free,0.0,4.2,10925.63\r\n",
      "LIBRARIES_AND_DEMO,Paid,0.99,,4.0\r\n",
      "LIFESTYLE,Free,0.0,4.1,33672.14\r\n",
      "LIFESTYLE,Paid,124.26,4.2,2495.89\r\n",
      "MAPS_AND_NAVIGATION,Free,0.0,4.0,140650.48\r\n",
      "MAPS_AND_NAVIGATION,Paid,5.39,3.9,1437.6\r\n",
      "MEDICAL,Free,0.0,4.1,3727.45\r\n",
      "MEDICAL,Paid,12.0,4.2,241.04\r\n",
      "NEWS_AND_MAGAZINES,Free,0.0,4.1,91785.82\r\n",
      "NEWS_AND_MAGAZINES,Paid,1.99,4.8,100.5\r\n",
      "PARENTING,Free,0.0,4.3,16378.71\r\n",
      "PARENTING,Paid,4.79,3.4,4183.0\r\n",
      "PERSONALIZATION,Free,0.0,4.3,180508.23\r\n",
      "PERSONALIZATION,Paid,1.86,4.4,3619.17\r\n",
      "PHOTOGRAPHY,Free,0.0,4.2,401664.27\r\n",
      "PHOTOGRAPHY,Paid,6.23,4.0,6064.79\r\n",
      "PRODUCTIVITY,Free,0.0,4.2,160170.31\r\n",
      "PRODUCTIVITY,Paid,8.96,4.2,6132.89\r\n",
      "SHOPPING,Free,0.0,4.2,222756.23\r\n",
      "SHOPPING,Paid,2.74,4.5,242.0\r\n",
      "SOCIAL,Free,0.0,4.3,965794.74\r\n",
      "SOCIAL,Paid,5.32,3.7,80.67\r\n",
      "SPORTS,Free,0.0,4.2,116937.47\r\n",
      "SPORTS,Paid,4.17,4.3,6276.46\r\n",
      "TOOLS,Free,0.0,4.0,305987.5\r\n",
      "TOOLS,Paid,3.43,4.2,2204.32\r\n",
      "TRAVEL_AND_LOCAL,Free,0.0,4.1,129476.66\r\n",
      "TRAVEL_AND_LOCAL,Paid,4.16,4.1,1506.08\r\n",
      "VIDEO_PLAYERS,Free,0.0,4.0,424347.18\r\n",
      "VIDEO_PLAYERS,Paid,2.62,4.1,3341.75\r\n",
      "WEATHER,Free,0.0,4.2,171249.62\r\n",
      "WEATHER,Paid,4.05,4.4,17055.12\r\n"
     ]
    }
   ],
   "source": [
    "!cat 05_Pandas_miniproject_task11.csv"
   ]
  },
  {
   "cell_type": "code",
   "execution_count": null,
   "id": "00a2f629",
   "metadata": {},
   "outputs": [],
   "source": [
    "# эталон: \n",
    "\n",
    "result = pd.pivot_table(playstore, values=['reviews', 'rating', 'price'], index=['category', 'type'],\n",
    "                    aggfunc={'rating': np.mean,\n",
    "                            'reviews': np.mean,\n",
    "                            'price': np.mean}).\\\n",
    "                    rename(columns={'reviews': 'mean_reviews',\n",
    "                                    'rating': 'mean_rating',\n",
    "                                    'price': 'mean_price'})"
   ]
  }
 ],
 "metadata": {
  "kernelspec": {
   "display_name": "Python 3 (ipykernel)",
   "language": "python",
   "name": "python3"
  },
  "language_info": {
   "codemirror_mode": {
    "name": "ipython",
    "version": 3
   },
   "file_extension": ".py",
   "mimetype": "text/x-python",
   "name": "python",
   "nbconvert_exporter": "python",
   "pygments_lexer": "ipython3",
   "version": "3.10.6"
  },
  "varInspector": {
   "cols": {
    "lenName": 16,
    "lenType": 16,
    "lenVar": 40
   },
   "kernels_config": {
    "python": {
     "delete_cmd_postfix": "",
     "delete_cmd_prefix": "del ",
     "library": "var_list.py",
     "varRefreshCmd": "print(var_dic_list())"
    },
    "r": {
     "delete_cmd_postfix": ") ",
     "delete_cmd_prefix": "rm(",
     "library": "var_list.r",
     "varRefreshCmd": "cat(var_dic_list()) "
    }
   },
   "types_to_exclude": [
    "module",
    "function",
    "builtin_function_or_method",
    "instance",
    "_Feature"
   ],
   "window_display": false
  }
 },
 "nbformat": 4,
 "nbformat_minor": 5
}
