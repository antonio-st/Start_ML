{
 "cells": [
  {
   "cell_type": "markdown",
   "id": "a3f3cf92",
   "metadata": {},
   "source": [
    "# Классы и ООП"
   ]
  },
  {
   "cell_type": "markdown",
   "id": "ee115c27",
   "metadata": {},
   "source": [
    "## 1\n",
    "> Простые классы\n",
    "\n",
    "Напишите класс Triangle, который будет иметь 3 поля:\n",
    "- a, b, c (стороны треугольника) и n_dots = 3 (количество точек).\n",
    "- Поле n_dots объявите на уровне класса, не в конструкторе — чтобы оно было доступно без создания объекта (т.е. работал вызов Triangle.n_dots). \n",
    "- Добавьте в класс простой конструктор, принимающий на вход все три стороны и сохраняющий эти стороны в соответсвующие поля класса.\n",
    "\n",
    "- Создайте объекты этого класса со следующими названиями: tr_1, tr_2 и любыми значениями длин сторон."
   ]
  },
  {
   "cell_type": "code",
   "execution_count": 5,
   "id": "26643d4b",
   "metadata": {
    "ExecuteTime": {
     "end_time": "2023-01-25T06:12:14.258867Z",
     "start_time": "2023-01-25T06:12:14.255682Z"
    }
   },
   "outputs": [
    {
     "name": "stdout",
     "output_type": "stream",
     "text": [
      "3, 4, 5\n"
     ]
    }
   ],
   "source": [
    "class Triangle:\n",
    "    \n",
    "    n_dots = 3\n",
    "    def __init__(self, a, b, c):\n",
    "        self.a, self.b, self.c = a, b, c\n",
    "        # магический метод для краисвого вывода переменных класса\n",
    "    def __str__(self):\n",
    "        return f'{self.a}, {self.b}, {self.c}'\n",
    "\n",
    "tr_1 = Triangle(3, 4, 5)\n",
    "tr_2 = Triangle(4, 4, 6)\n",
    "print(tr_1)"
   ]
  },
  {
   "cell_type": "markdown",
   "id": "0fc39769",
   "metadata": {},
   "source": [
    "## 2\n",
    "\n",
    "> Усложняем треугольник\n",
    "\n",
    "- Возьмите класс Triangle из предыдущего задания и добавьте метод area(), возвращающий площадь треугольника. - Напомним, что при известных трех сторонах площадь треугольника можно подсчитать по формуле Герона:\n",
    "\n",
    "$$\\sqrt{S=p(p−a)(p−b)(p−c)}$$\n",
    "\n",
    ", где $$p=\\frac{1}{2}(a+b+c)$$ - полупериметр. Подумайте, как можно организовать код так, чтобы p считалась один раз.\n",
    "\n",
    "- Затем поменяйте конструктор: он должен проверять, что выполнено неравенство треугольника - каждая сторона меньше или равна сумме двух других. \n",
    "- Если это условие не выполнено, выбрасывайте ValueError с текстом \"triangle inequality does not hold\" (передайте эту строку в конструктор ValueError).\n",
    "\n",
    "- Наконец, создайте два объекта данного класса с названиями tr_1 и tr_2 , в которых соблюдается равенство треугольника. Также, сохраните в переменные square_1 и square_2 результаты вызовов методов .area() для объектов tr_1 и tr_2 соответственно."
   ]
  },
  {
   "cell_type": "code",
   "execution_count": 453,
   "id": "68195366",
   "metadata": {
    "ExecuteTime": {
     "end_time": "2023-01-25T19:55:43.741332Z",
     "start_time": "2023-01-25T19:55:43.735858Z"
    },
    "scrolled": true
   },
   "outputs": [
    {
     "name": "stdout",
     "output_type": "stream",
     "text": [
      "Площадь первого треугольника:  2.9047375096555625\n",
      "Площадь второго треугольника:  5.332682251925386\n"
     ]
    }
   ],
   "source": [
    "class Triangle:\n",
    "    n_dots = 3\n",
    "\n",
    "    def __init__(self, a, b, c):\n",
    "        self.a, self.b, self.c = a, b, c       \n",
    "        # проверяем неравенство треугольника - каждая сторона меньше или равна сумме двух других\n",
    "        if self.c <= self.a + self.b and self.a <= self.b + self.c and self.b <= self.a + self.c and self.a != self.b != self.c:\n",
    "            pass\n",
    "        else:\n",
    "            raise ValueError('triangle inequality does not hold')\n",
    "        # полупериметр\n",
    "        self.p = (self.a + self.b + self.c) / 2\n",
    "                        \n",
    "    # площадь треугольника\n",
    "    def area(self):\n",
    "        return (self.p * (self.p - self.a) * (self.p - self.b) * (self.p - self.c)) ** 0.5 # возвращаем площадь по формуле Герона\n",
    "# треугольники\n",
    "tr_1 = Triangle(4, 3, 2)\n",
    "tr_2 = Triangle(6, 3, 4)\n",
    "\n",
    "# площади\n",
    "square_1 = tr_1.area()\n",
    "square_2 = tr_2.area()\n",
    "\n",
    "# распечатаем результат\n",
    "print(\"Площадь первого треугольника: \", square_1)\n",
    "print(\"Площадь второго треугольника: \", square_2)"
   ]
  },
  {
   "cell_type": "markdown",
   "id": "23b177b5",
   "metadata": {
    "ExecuteTime": {
     "end_time": "2023-02-17T18:07:36.316559Z",
     "start_time": "2023-02-17T18:07:36.310260Z"
    }
   },
   "source": [
    "## эталонное решение.\n",
    "- Чтобы добавить проверку на неравенство треугольника, `отсортируем три стороны, потом проверить, что наибольшая из них не превосходит сумму двух других` (из этого будет следовать, что и каждая другая сторона меньше суммы двух других). \n",
    "\n",
    "- Результат сортировки запишем в отдельные переменные, чтобы не спутать порядок в присвоении.\n",
    "\n",
    "- Для написания функции площади следует аккуратно переписать формулу Герона."
   ]
  },
  {
   "cell_type": "code",
   "execution_count": 18,
   "id": "b19ad783",
   "metadata": {
    "ExecuteTime": {
     "end_time": "2023-02-17T18:18:00.132721Z",
     "start_time": "2023-02-17T18:18:00.124991Z"
    }
   },
   "outputs": [
    {
     "name": "stdout",
     "output_type": "stream",
     "text": [
      "Площадь первого треугольника:  2.9047375096555625\n",
      "Площадь второго треугольника:  6.0\n"
     ]
    }
   ],
   "source": [
    "# 2\n",
    "class Triangle:\n",
    "    n_dots = 3\n",
    "\n",
    "    def __init__(self, a, b, c):\n",
    "        a_, b_, c_ = sorted([a, b, c]) # отсортировано по возрастанию\n",
    "        if c_ > a_ + b_:\n",
    "            #если с больше суммы 2 оставшихся сторон, тогда не выполнено неравенство треугольника  - выбрасываем ошибку\n",
    "            raise ValueError(\"triangle inequality does not hold\")\n",
    "        self.a = a\n",
    "        self.b = b\n",
    "        self.c = c\n",
    "\n",
    "    def area(self):\n",
    "        # полупериметр\n",
    "        p = 0.5 * (self.a + self.b + self.c)\n",
    "        # формула Герона\n",
    "        return (p * (p - self.a) * (p - self.b) * (p - self.c)) ** 0.5\n",
    "\n",
    "tr_1 = Triangle(2, 4, 3)\n",
    "tr_2 = Triangle(3, 4, 5)  # прямоугольный\n",
    "square_1 = tr_1.area()\n",
    "square_2 = tr_2.area()\n",
    "print(\"Площадь первого треугольника: \", square_1)\n",
    "print(\"Площадь второго треугольника: \", square_2)"
   ]
  },
  {
   "cell_type": "markdown",
   "id": "4922866e",
   "metadata": {},
   "source": [
    "## 3\n",
    "> Простое наследование\n",
    "\n",
    "- Создайте класс Rectangle (прямоугольник), который будет наследоваться от класса Triangle.\n",
    "- Сделайте так, чтобы area(), конструктор и поле n_dots были верными. А именно:\n",
    "\n",
    "- Конструктор должен принимать 2 стороны: a, b\n",
    "- area() должен считать площадь как произведение смежных сторон: S=ab\n",
    "- Неравенство треугольника не нужно проверять.\n",
    "- n_dots должен быть объявлен на уровне класса и равняться 4.\n",
    "\n",
    "Отправьте реализацию класса Rectangle в LMS. Класс Triangle отправлять не нужно."
   ]
  },
  {
   "cell_type": "code",
   "execution_count": 19,
   "id": "8f68d41f",
   "metadata": {
    "ExecuteTime": {
     "end_time": "2023-01-25T06:46:44.757049Z",
     "start_time": "2023-01-25T06:46:44.752930Z"
    },
    "scrolled": true
   },
   "outputs": [
    {
     "name": "stdout",
     "output_type": "stream",
     "text": [
      "20\n",
      "True\n"
     ]
    }
   ],
   "source": [
    "class Rectangle(Triangle):\n",
    "    n_dots = 4\n",
    "    def __init__(self, a, b):\n",
    "        self.a, self.b = a, b\n",
    "    \n",
    "    def area(self):\n",
    "        return self.a * self.b\n",
    "\n",
    "# объект класса Rectangle\n",
    "rec_1 = Rectangle(4, 5)\n",
    "# считаем площадь, вызвав метод объекта area()\n",
    "print(rec_1.area())\n",
    "\n",
    "\n",
    "# проверка наследует ли объект родительский класс\n",
    "test = Rectangle(4, 5)\n",
    "print(isinstance(test, Triangle))"
   ]
  },
  {
   "cell_type": "markdown",
   "id": "e85f1614",
   "metadata": {},
   "source": [
    "## 4\n",
    "\n",
    "> Наследование: абстрактный класс (1/4)\n",
    "\n",
    "Вы, наверно, заметили, что при наследовании в прошлом задании мы переписали почти всю логику. \n",
    "\n",
    "`Это плохо:` при наследовании нужно расширять класс, а не переписывать его.\n",
    "\n",
    "Но все же хочется использовать наследование, ведь треугольники и прямоугольники имеют общие свойства: \n",
    "\n",
    "- Оба характеризуются количеством точек n_dots.\n",
    "- Оба имеют метод area().\n",
    "- Оба имеют проверки на валидность данных. \n",
    "    - В случае прямоугольника это было равенство противоположных сторон, которое мы пропустили благодаря трюку: вместо принятия четырех сторон a, b, c, d на вход мы принимали две и далее держали в уме a=c, b=d. \n",
    "    - В случае треугольника это было неравенство треугольника.\n",
    "\n",
    "Тут нам поможет создание некой \"базовой фигуры\". Это будет сборник общих свойств, который сам по себе не будет представлять никакую фигуру, но послужит хорошим плацдармом для следующих классов.\n",
    "\n",
    "---\n",
    "- Напишите класс `BaseFigure`, который имеет поле класса (т.е. на уровне класса) `n_dots = None`,\n",
    "- метод `area()` \"без реализации\",\n",
    "- метод `validate()` \"без реализации\".\n",
    "- Сделайте так, чтобы методы \"без реализации\" выбрасывали исключение NotImplementedError при их вызове и ничего другого не делали. \n",
    "- Создайте также конструктор класса, который не принимает дополнительных аргументов и в реализации только лишь вызывает self.validate().\n",
    "\n",
    "Отправьте этот абстрактный класс в LMS ниже."
   ]
  },
  {
   "cell_type": "code",
   "execution_count": 30,
   "id": "1b7baaee",
   "metadata": {
    "ExecuteTime": {
     "end_time": "2023-01-25T07:04:59.050926Z",
     "start_time": "2023-01-25T07:04:59.048610Z"
    }
   },
   "outputs": [],
   "source": [
    "class BaseFigure:\n",
    "    n_dots = None\n",
    "    \n",
    "    def __init__(self):\n",
    "        self.validate()\n",
    "    \n",
    "    def area(self):\n",
    "        raise NotImplementedError()\n",
    "        \n",
    "    def validate(self):\n",
    "        raise NotImplementedError()"
   ]
  },
  {
   "cell_type": "code",
   "execution_count": 39,
   "id": "71bd9215",
   "metadata": {
    "ExecuteTime": {
     "end_time": "2023-01-25T07:07:40.725764Z",
     "start_time": "2023-01-25T07:07:40.630087Z"
    },
    "scrolled": true
   },
   "outputs": [
    {
     "ename": "NotImplementedError",
     "evalue": "",
     "output_type": "error",
     "traceback": [
      "\u001b[0;31m---------------------------------------------------------------------------\u001b[0m",
      "\u001b[0;31mNotImplementedError\u001b[0m                       Traceback (most recent call last)",
      "Cell \u001b[0;32mIn[39], line 1\u001b[0m\n\u001b[0;32m----> 1\u001b[0m abst \u001b[38;5;241m=\u001b[39m \u001b[43mBaseFigure\u001b[49m\u001b[43m(\u001b[49m\u001b[43m)\u001b[49m\n\u001b[1;32m      3\u001b[0m \u001b[38;5;28mprint\u001b[39m(abst\u001b[38;5;241m.\u001b[39marea)\n",
      "Cell \u001b[0;32mIn[30], line 5\u001b[0m, in \u001b[0;36mBaseFigure.__init__\u001b[0;34m(self)\u001b[0m\n\u001b[1;32m      4\u001b[0m \u001b[38;5;28;01mdef\u001b[39;00m \u001b[38;5;21m__init__\u001b[39m(\u001b[38;5;28mself\u001b[39m):\n\u001b[0;32m----> 5\u001b[0m     \u001b[38;5;28;43mself\u001b[39;49m\u001b[38;5;241;43m.\u001b[39;49m\u001b[43mvalidate\u001b[49m\u001b[43m(\u001b[49m\u001b[43m)\u001b[49m\n",
      "Cell \u001b[0;32mIn[30], line 11\u001b[0m, in \u001b[0;36mBaseFigure.validate\u001b[0;34m(self)\u001b[0m\n\u001b[1;32m     10\u001b[0m \u001b[38;5;28;01mdef\u001b[39;00m \u001b[38;5;21mvalidate\u001b[39m(\u001b[38;5;28mself\u001b[39m):\n\u001b[0;32m---> 11\u001b[0m     \u001b[38;5;28;01mraise\u001b[39;00m \u001b[38;5;167;01mNotImplementedError\u001b[39;00m()\n",
      "\u001b[0;31mNotImplementedError\u001b[0m: "
     ]
    }
   ],
   "source": [
    "abst = BaseFigure()\n",
    "\n",
    "print(abst.area)"
   ]
  },
  {
   "cell_type": "code",
   "execution_count": 38,
   "id": "9134dad2",
   "metadata": {
    "ExecuteTime": {
     "end_time": "2023-01-25T07:07:28.445818Z",
     "start_time": "2023-01-25T07:07:28.443150Z"
    }
   },
   "outputs": [
    {
     "data": {
      "text/plain": [
       "<function __main__.BaseFigure.area(self)>"
      ]
     },
     "execution_count": 38,
     "metadata": {},
     "output_type": "execute_result"
    }
   ],
   "source": []
  },
  {
   "cell_type": "markdown",
   "id": "7350b5db",
   "metadata": {},
   "source": [
    "## 5\n",
    "> Наследование: абстрактный класс (2/4)\n",
    "\n",
    "- Перепишите классы Triangle, Rectangle так, чтобы они наследовались от BaseFigure.\n",
    "- Затем уберите реализацию всех методов и конструкторов в классах-потомках.\n",
    "\n",
    "- Есть ли у Triangle, Rectangle методы area, validate? Если есть, то что они возвращают при вызове?\n",
    "\n",
    "`Есть оба метода, оба выбрасывают исключение NotImplemented`"
   ]
  },
  {
   "cell_type": "code",
   "execution_count": 49,
   "id": "1a39abbd",
   "metadata": {
    "ExecuteTime": {
     "end_time": "2023-01-25T07:42:10.227408Z",
     "start_time": "2023-01-25T07:42:10.222479Z"
    }
   },
   "outputs": [],
   "source": [
    "class BaseFigure:\n",
    "    n_dots = None\n",
    "    def __init__(self):\n",
    "        self.validate()\n",
    "    def area():\n",
    "        raise NotImplementedError()\n",
    "    def validate():\n",
    "        raise NotImplementedError()\n",
    "        \n",
    "class Triangle(BaseFigure):\n",
    "    n_dots = 3\n",
    "    \n",
    "class Rectangle(BaseFigure):\n",
    "    n_dots = 4\n",
    "\n",
    "rect_base = Rectangle"
   ]
  },
  {
   "cell_type": "code",
   "execution_count": 52,
   "id": "88e463f8",
   "metadata": {
    "ExecuteTime": {
     "end_time": "2023-01-25T07:42:49.694748Z",
     "start_time": "2023-01-25T07:42:49.682817Z"
    },
    "scrolled": true
   },
   "outputs": [
    {
     "ename": "NotImplementedError",
     "evalue": "",
     "output_type": "error",
     "traceback": [
      "\u001b[0;31m---------------------------------------------------------------------------\u001b[0m",
      "\u001b[0;31mNotImplementedError\u001b[0m                       Traceback (most recent call last)",
      "Cell \u001b[0;32mIn[52], line 1\u001b[0m\n\u001b[0;32m----> 1\u001b[0m \u001b[43mRectangle\u001b[49m\u001b[38;5;241;43m.\u001b[39;49m\u001b[43marea\u001b[49m\u001b[43m(\u001b[49m\u001b[43m)\u001b[49m\n",
      "Cell \u001b[0;32mIn[49], line 6\u001b[0m, in \u001b[0;36mBaseFigure.area\u001b[0;34m()\u001b[0m\n\u001b[1;32m      5\u001b[0m \u001b[38;5;28;01mdef\u001b[39;00m \u001b[38;5;21marea\u001b[39m():\n\u001b[0;32m----> 6\u001b[0m     \u001b[38;5;28;01mraise\u001b[39;00m \u001b[38;5;167;01mNotImplementedError\u001b[39;00m()\n",
      "\u001b[0;31mNotImplementedError\u001b[0m: "
     ]
    }
   ],
   "source": [
    "Rectangle.area()"
   ]
  },
  {
   "cell_type": "markdown",
   "id": "863592cb",
   "metadata": {},
   "source": [
    "## 6\n",
    "> Наследование: абстрактный класс (3/4)\n",
    "\n",
    "Возьмите классы Triangle и Rectangle из прошлого задания.\n",
    "\n",
    "1. Переопределите метод area в каждом случае.\n",
    "\n",
    "2. Переопределите конструктор в каждом случае (число аргументов тоже меняется). Не забудьте в конструкторе дочернего класса вызвать конструктор родительского класса!\n",
    "\n",
    "3. Переопределите метод validate в каждом случае.\n",
    "- Метод validate должен принимать только аргумент self и использовать созданные в конструкторе переменные. \n",
    "    - Для этого вы можете сначала сохранять в конструкторе входные данные в self.переменная, а затем вызывать конструктор суперкласса. \n",
    "    - Для Triangle данный метод должен проверять неравенство треугольника и выбрасывать ошибку ValueError(\"triangle inequality does not hold\") либо возвращать значения сторон. \n",
    "    - Для Rectangle данный метод должен возвращать значения сторон.\n",
    "\n",
    "В итоге вы получите два класса, которые построены по схожему шаблону. Этот общий шаблон был задан в классе BaseFigure. \n",
    "\n",
    "- Создайте несколько объектов этих классов и попробуйте вызвать у них .area(), .validate(). \n",
    "- Если вы пользуетесь IDE, то увидите интерактивные подсказки: она скажет, что такие методы есть и что эти методы перегружают (overload) методы из родительского класса. При этом вызов методов будет работать коррректно.\n",
    "\n",
    "- Загрузите в LMS реализацию классов Triangle, Rectangle. Используйте для отступов 4 пробела. ОБРАТИТЕ ВНИМАНИЕ, что реализацию класса BaseFigure загружать не надо."
   ]
  },
  {
   "cell_type": "code",
   "execution_count": 19,
   "id": "a5d99a3e",
   "metadata": {
    "ExecuteTime": {
     "end_time": "2023-02-17T19:08:16.357167Z",
     "start_time": "2023-02-17T19:08:16.346066Z"
    }
   },
   "outputs": [],
   "source": [
    "# базовый класс\n",
    "class BaseFigure:\n",
    "    n_dots = None\n",
    "    def __init__(self):\n",
    "        self.validate()\n",
    "    def area():\n",
    "        raise NotImplementedError()\n",
    "    def validate():\n",
    "        raise NotImplementedError()\n",
    "        \n",
    "        \n",
    "        \n",
    "        \n",
    "class Triangle(BaseFigure):\n",
    "    n_dots = 3\n",
    "    def __init__(self, a, b, c):\n",
    "        self.a, self.b, self.c = a, b, c\n",
    "        super().__init__() # вызываем конструктор родительского класса\n",
    "        \n",
    "    def validate(self):\n",
    "        if self.c <= self.a + self.b and self.a <= self.b + self.c and self.b <= self.a + self.c and self.a != self.b != self.c:\n",
    "            pass\n",
    "        else:\n",
    "            raise ValueError('triangle inequality does not hold')  \n",
    "        # альтернативная реализация сортировкой\n",
    "        #a_, b_, c_ = sorted([a, b, c]) # отсортировано по возрастанию\n",
    "        #if c_ > a_ + b_:\n",
    "        #если с больше суммы 2 оставшихся сторон, тогда не выполнено неравенство треугольника  - выбрасываем ошибку\n",
    "            #raise ValueError(\"triangle inequality does not hold\")\n",
    "        \n",
    "        \n",
    "    def area(self):\n",
    "        self.p = (self.a + self.b + self.c) / 2\n",
    "        return (self.p * (self.p - self.a) * (self.p - self.b) * (self.p - self.c)) ** 0.5\n",
    "    \n",
    "    \n",
    "    \n",
    "    \n",
    "class Rectangle(BaseFigure):\n",
    "    n_dots = 4\n",
    "    def __init__(self, a, b):\n",
    "        self.a, self.b = a, b\n",
    "        #super().__init__() # вызываем конструктор родительского класса\n",
    "        \n",
    "    def area(self):\n",
    "        return self.a * self.b\n",
    "    \n",
    "    def validate(self):\n",
    "        return self.a, self.b"
   ]
  },
  {
   "cell_type": "code",
   "execution_count": 20,
   "id": "d664417a",
   "metadata": {
    "ExecuteTime": {
     "end_time": "2023-02-17T19:08:19.132448Z",
     "start_time": "2023-02-17T19:08:19.129851Z"
    }
   },
   "outputs": [
    {
     "name": "stdout",
     "output_type": "stream",
     "text": [
      "9.921567416492215\n",
      "None\n"
     ]
    }
   ],
   "source": [
    "new_tr = Triangle(4, 5, 6)\n",
    "print(new_tr.area())\n",
    "print(new_tr.validate())"
   ]
  },
  {
   "cell_type": "code",
   "execution_count": 10,
   "id": "21283145",
   "metadata": {
    "ExecuteTime": {
     "end_time": "2023-01-26T05:55:29.728621Z",
     "start_time": "2023-01-26T05:55:29.709621Z"
    }
   },
   "outputs": [
    {
     "name": "stdout",
     "output_type": "stream",
     "text": [
      "5.332682251925386\n",
      "None\n"
     ]
    }
   ],
   "source": [
    "new_tr2 = Triangle(6, 3, 4)\n",
    "print(new_tr2.area())\n",
    "print(new_tr2.validate())"
   ]
  },
  {
   "cell_type": "code",
   "execution_count": 11,
   "id": "abd6d205",
   "metadata": {
    "ExecuteTime": {
     "end_time": "2023-01-26T05:55:31.829857Z",
     "start_time": "2023-01-26T05:55:31.810854Z"
    }
   },
   "outputs": [
    {
     "name": "stdout",
     "output_type": "stream",
     "text": [
      "30\n",
      "(5, 6)\n"
     ]
    }
   ],
   "source": [
    "new_rec = Rectangle(5, 6)\n",
    "print(new_rec.area())\n",
    "print(new_rec.validate())"
   ]
  },
  {
   "cell_type": "markdown",
   "id": "df526e53",
   "metadata": {},
   "source": [
    "## 7\n",
    "\n",
    "> Наследование: абстрактный класс (4/4)\n",
    "\n",
    "Попробуем собрать совершенно новый класс, используя BaseFigure в качестве шаблона.\n",
    "\n",
    "- Напишите класс Circle, в котором в качестве `n_dots будет float('inf')`,\n",
    "- area будет считаться как `3.14 * r^2`, \n",
    "- а конструктор будет принимать только один аргумент - `r`. \n",
    "- Метод validate не должен принимать никаких аргументов и не должен осуществлять никаких проверок.\n",
    "\n",
    "Отправьте в LMS реализацию этого класса. Отправлять реализацию BaseFigure не нужно."
   ]
  },
  {
   "cell_type": "code",
   "execution_count": 186,
   "id": "1d061da6",
   "metadata": {
    "ExecuteTime": {
     "end_time": "2023-01-25T10:41:37.686018Z",
     "start_time": "2023-01-25T10:41:37.682802Z"
    }
   },
   "outputs": [],
   "source": [
    "# базовый класс\n",
    "class BaseFigure:\n",
    "    n_dots = None\n",
    "    def __init__(self):\n",
    "        self.validate()\n",
    "    def area():\n",
    "        raise NotImplementedError()\n",
    "    def validate():\n",
    "        raise NotImplementedError()\n",
    "        \n",
    "        \n",
    "class Circle(BaseFigure):\n",
    "    n_dots = float('inf')\n",
    "    \n",
    "    def validate(self):\n",
    "        pass\n",
    "\n",
    "    def area(self):\n",
    "        return 3.14 * self.r ** 2\n",
    "    \n",
    "    def __init__(self, r):\n",
    "        self.r = r\n",
    "        super().__init__()       \n",
    "        "
   ]
  },
  {
   "cell_type": "code",
   "execution_count": 188,
   "id": "bbaaed12",
   "metadata": {
    "ExecuteTime": {
     "end_time": "2023-01-25T10:41:54.052764Z",
     "start_time": "2023-01-25T10:41:54.048363Z"
    }
   },
   "outputs": [],
   "source": [
    "circ_obj = Circle(20)"
   ]
  },
  {
   "cell_type": "code",
   "execution_count": 189,
   "id": "b44df52f",
   "metadata": {
    "ExecuteTime": {
     "end_time": "2023-01-25T10:41:56.422306Z",
     "start_time": "2023-01-25T10:41:56.418303Z"
    }
   },
   "outputs": [
    {
     "data": {
      "text/plain": [
       "1256.0"
      ]
     },
     "execution_count": 189,
     "metadata": {},
     "output_type": "execute_result"
    }
   ],
   "source": [
    "circ_obj.area()"
   ]
  },
  {
   "cell_type": "code",
   "execution_count": 191,
   "id": "1b1df43d",
   "metadata": {
    "ExecuteTime": {
     "end_time": "2023-01-25T10:42:04.164828Z",
     "start_time": "2023-01-25T10:42:04.162410Z"
    }
   },
   "outputs": [],
   "source": [
    "circ_obj.validate()"
   ]
  },
  {
   "cell_type": "code",
   "execution_count": 168,
   "id": "8b54486a",
   "metadata": {
    "ExecuteTime": {
     "end_time": "2023-01-25T10:27:27.138213Z",
     "start_time": "2023-01-25T10:27:27.130773Z"
    }
   },
   "outputs": [],
   "source": [
    "# пример из лекции\n",
    "class Type:\n",
    "    def __init__(self, car_type):\n",
    "        self.car_type = car_type\n",
    "\n",
    "class Car(Type):\n",
    "    def __init__(self, car_type, brand):\n",
    "        super().__init__(car_type)\n",
    "        self.brand = brand\n"
   ]
  },
  {
   "cell_type": "code",
   "execution_count": 169,
   "id": "47305a64",
   "metadata": {
    "ExecuteTime": {
     "end_time": "2023-01-25T10:27:29.186784Z",
     "start_time": "2023-01-25T10:27:29.184158Z"
    }
   },
   "outputs": [],
   "source": [
    "car_test = Car('Lada', 'BMW')"
   ]
  },
  {
   "cell_type": "markdown",
   "id": "2646b3d9",
   "metadata": {},
   "source": [
    "## 8\n",
    "> Магические методы: вектор (1/4)\n",
    "\n",
    "- Напишите класс Vector, который на вход будет принимать список координат (x1,…,xn).\n",
    "- Положите все координаты вектора в список self.coords.\n",
    "- Добейтесь того, чтобы объекты класса Vector можно было складывать через оператор + и получать на выходе тоже объект этого же класса. \n",
    "\n",
    "Например:\n",
    "```python\n",
    "# Будет работать\n",
    "Vector([1, 2, 3]) + Vector((2, 3, 4)) # даст Vector([3, 5, 7])\n",
    "\n",
    "# НЕ будет работать\n",
    "Vector([1, 2]) + Vector([1, 2, 3])  # нельзя складывать векторы разной длины\n",
    "# Должно возвращать ошибку (сообщение тоже!)\n",
    "# ValueError: left and right lengths differ: 2 != 3\n",
    "```\n"
   ]
  },
  {
   "cell_type": "code",
   "execution_count": 248,
   "id": "96d650e3",
   "metadata": {
    "ExecuteTime": {
     "end_time": "2023-01-25T14:13:16.710801Z",
     "start_time": "2023-01-25T14:13:16.707095Z"
    }
   },
   "outputs": [],
   "source": [
    "class Vector:\n",
    "    def __init__(self, coords):\n",
    "        self.coords = coords\n",
    "        \n",
    "    def __add__(self, other):\n",
    "        if len(self.coords) == len(other.coords):\n",
    "            sum_v = []\n",
    "            for i in range(len(self.coords)):\n",
    "                sum_v.append(self.coords[i] + other.coords[i])\n",
    "            return Vector(sum_v)\n",
    "        else:\n",
    "            raise ValueError(f\"left and right lengths differ: {len(self.coords)} != {len( other.coords)}\")   \n",
    "\n",
    "vec_1 = Vector([1, 3, 5, 7, 9])\n",
    "vec_2 = Vector([2, 4, 6, 8, 10])"
   ]
  },
  {
   "cell_type": "code",
   "execution_count": 249,
   "id": "4b265970",
   "metadata": {
    "ExecuteTime": {
     "end_time": "2023-01-25T14:13:19.239538Z",
     "start_time": "2023-01-25T14:13:19.236436Z"
    }
   },
   "outputs": [
    {
     "data": {
      "text/plain": [
       "[3, 7, 11, 15, 19]"
      ]
     },
     "execution_count": 249,
     "metadata": {},
     "output_type": "execute_result"
    }
   ],
   "source": [
    "sum_vec = vec_1 + vec_2\n",
    "sum_vec.coords"
   ]
  },
  {
   "cell_type": "markdown",
   "id": "4debe7f9",
   "metadata": {},
   "source": [
    "## эталонное решение\n",
    "- Примем в конструктор один аргумент - список координат, и сохраним его.\n",
    "\n",
    "- Чтобы векторы можно было складывать друг с другом через +, надо будет определить метод под названием `__add__` в классе Vector. \n",
    "\n",
    "- Этот метод должен будет принимать второй объект (предполагаем, что это вектор), и возвращать результат сложения.\n"
   ]
  },
  {
   "cell_type": "code",
   "execution_count": null,
   "id": "225281a8",
   "metadata": {},
   "outputs": [],
   "source": [
    "class Vector:\n",
    "    def __init__(self, coords):\n",
    "        self.coords = coords\n",
    "\n",
    "    def __add__(self, other):\n",
    "        # в self уйдет вектор слева, в other - вектор справа\n",
    "        # по факту, когда питон увидит (vec_1 + vec_2)\n",
    "        # он сделает вызов vec_1.__add__(vec_2)\n",
    "\n",
    "        _l, _r = len(self.coords), len(other.coords)\n",
    "        # складывать можно только вектора одинаковой длины\n",
    "        if _l != _r:\n",
    "            raise ValueError(f\"left and right lengths differ: {_l} != {_r}\")\n",
    "        return Vector([\n",
    "            self.coords[i] + other.coords[i]\n",
    "            for i in range(len(self.coords))\n",
    "        ])"
   ]
  },
  {
   "cell_type": "markdown",
   "id": "0e46017e",
   "metadata": {},
   "source": [
    "## 9\n",
    "> Магические методы: вектор (2/4)\n",
    "\n",
    "Добавим могущества нашему вектору.\n",
    "\n",
    "Добавьте методу красивый вывод при передаче его в print(...). Пример:\n",
    "```python\n",
    "print(Vector([1, 2, 3]))\n",
    "# Напечатает: \"[1, 2, 3]\" без кавычек\n",
    "\n",
    "vec = Vector([1])\n",
    "print(vec)\n",
    "# Напечатает \"[1]\" без кавычек\n",
    "```\n",
    "Отправьте реализацию класса Vector ниже.\n",
    "\n",
    "Обратите внимание, что для отрисовки в Jupyter Notebook может еще понадобиться реализовать `__repr__`."
   ]
  },
  {
   "cell_type": "code",
   "execution_count": 284,
   "id": "4583c963",
   "metadata": {
    "ExecuteTime": {
     "end_time": "2023-01-25T14:28:04.872817Z",
     "start_time": "2023-01-25T14:28:04.869293Z"
    }
   },
   "outputs": [],
   "source": [
    "class Vector:\n",
    "    def __init__(self, coords):\n",
    "        self.coords = coords\n",
    "        \n",
    "    def __add__(self, other):\n",
    "        if len(self.coords) == len(other.coords):\n",
    "            sum_v = []\n",
    "            for i in range(len(self.coords)):\n",
    "                sum_v.append(self.coords[i] + other.coords[i])\n",
    "            return Vector(sum_v)\n",
    "        else:\n",
    "            raise ValueError(f\"left and right lengths differ: {len(self.coords)} != {len( other.coords)}\")\n",
    "            \n",
    "    def __str__(self):\n",
    "        return f'{self.coords}'"
   ]
  },
  {
   "cell_type": "code",
   "execution_count": 285,
   "id": "aa1a6110",
   "metadata": {
    "ExecuteTime": {
     "end_time": "2023-01-25T14:28:06.487622Z",
     "start_time": "2023-01-25T14:28:06.484170Z"
    },
    "scrolled": true
   },
   "outputs": [
    {
     "name": "stdout",
     "output_type": "stream",
     "text": [
      "[3, 7, 11, 15, 19]\n"
     ]
    }
   ],
   "source": [
    "vec_1 = Vector([1, 3, 5, 7, 9])\n",
    "vec_2 = Vector([2, 4, 6, 8, 10])\n",
    "\n",
    "sum_vec = vec_1 + vec_2\n",
    "print(sum_vec)"
   ]
  },
  {
   "cell_type": "markdown",
   "id": "4fc68404",
   "metadata": {},
   "source": [
    "## эталонное решение\n",
    "\n",
    "Для реализации красивой печати можем воспользоваться `__str__` или `__repr__`. \n",
    "\n",
    "Поскольку вывод будет содержать информацию, по которой можно восстановить весь объект (координаты), будет лучше использовать `__repr__`. \n",
    "\n",
    "К тому же, при использовании `__repr__` метод `__str__` автоматически определится."
   ]
  },
  {
   "cell_type": "code",
   "execution_count": 21,
   "id": "864637bd",
   "metadata": {
    "ExecuteTime": {
     "end_time": "2023-02-17T19:19:51.024214Z",
     "start_time": "2023-02-17T19:19:51.020221Z"
    }
   },
   "outputs": [
    {
     "name": "stdout",
     "output_type": "stream",
     "text": [
      "[1, 3, 5, 7, 9]\n"
     ]
    }
   ],
   "source": [
    "class Vector:\n",
    "    def __init__(self, coords):\n",
    "        self.coords = coords\n",
    "\n",
    "    def __add__(self, other):\n",
    "        _l, _r = len(self.coords), len(other.coords)\n",
    "        if _l != _r:\n",
    "            raise ValueError(f\"left and right lengths differ: {_l} != {_r}\")\n",
    "        return Vector([\n",
    "            self.coords[i] + other.coords[i]\n",
    "            for i in range(len(self.coords))\n",
    "        ])\n",
    "    \n",
    "    def __repr__(self):\n",
    "        return str(self.coords)\n",
    "\n",
    "\n",
    "vec_1 = Vector([1, 3, 5, 7, 9])\n",
    "print(vec_1)"
   ]
  },
  {
   "cell_type": "markdown",
   "id": "14399d70",
   "metadata": {},
   "source": [
    "## 10\n",
    "\n",
    "> Магические методы: вектор (3/4)\n",
    "\n",
    "Продолжаем улучшать вектор. Добавьте в класс возможность умножать вектор на вектор и вектор на число. Не забудьте сохранять координаты вектора в self.coords.\n",
    "```python\n",
    "Vector([1, 2, 3]) * Vector([2, 5, -2])  # даст 6\n",
    "# 1 * 2 + 2 * 5 + 3 * (-2) = 6\n",
    "\n",
    "Vector([1, 2]) * Vector([2, 3, 4])\n",
    "# ValueError: left and right lengths differ: 2 != 3\n",
    "\n",
    "Vector([2, 3, 5, 8]) * 5  # даст Vector([10, 15, 25, 40])\n",
    "Для проверки типов используйте isinstance(object, class).\n",
    "```"
   ]
  },
  {
   "cell_type": "code",
   "execution_count": 369,
   "id": "96bac94a",
   "metadata": {
    "ExecuteTime": {
     "end_time": "2023-01-25T18:12:01.778921Z",
     "start_time": "2023-01-25T18:12:01.773147Z"
    }
   },
   "outputs": [],
   "source": [
    "class Vector:\n",
    "    def __init__(self, coords):\n",
    "        self.coords = coords\n",
    "        \n",
    "    def __add__(self, other):\n",
    "            if len(self.coords) == len(other.coords):\n",
    "                sum_v = []\n",
    "                for i in range(len(self.coords)):\n",
    "                    sum_v.append(self.coords[i] + other.coords[i])\n",
    "                return Vector(sum_v)\n",
    "            else:\n",
    "                raise ValueError(f\"left and right lengths differ: {len(self.coords)} != {len( other.coords)}\")\n",
    "        \n",
    "    def __mul__(self, other):\n",
    "        if isinstance(other, int):\n",
    "            sum_v = []\n",
    "            for i in self.coords:\n",
    "                sum_v.append(i * other)\n",
    "            return Vector(sum_v)\n",
    "        elif (other, Vector):\n",
    "            if len(self.coords) == len(other.coords):\n",
    "                sum_v = []\n",
    "                for i in range(len(self.coords)):\n",
    "                    sum_v.append(self.coords[i] * other.coords[i])\n",
    "                return sum(sum_v)\n",
    "            else:\n",
    "                raise ValueError(f\"left and right lengths differ: {len(self.coords)} != {len( other.coords)}\")\n",
    "                \n",
    "    def __str__(self):\n",
    "        return f'{self.coords}'\n",
    "    \n",
    "    # альтернативная реализация\n",
    "    \n",
    "#     if isinstance(other, Vector):\n",
    "#         _l, _r = len(self.coords), len(other.coords)\n",
    "#         if _l != _r:\n",
    "#             raise ValueError(f\"left and right lengths differ: {_l} != {_r}\")\n",
    "#         result = 0\n",
    "#         for i in range(len(self.coords)):\n",
    "#             result += self.coords[i] * other.coords[i]\n",
    "#         return result\n",
    "#     # иначе - умножаем все координаты на other и возвращаем результат\n",
    "#     else:\n",
    "#         return Vector([x * other for x in self.coords])"
   ]
  },
  {
   "cell_type": "code",
   "execution_count": 371,
   "id": "d286e5b3",
   "metadata": {
    "ExecuteTime": {
     "end_time": "2023-01-25T18:12:14.418033Z",
     "start_time": "2023-01-25T18:12:14.415022Z"
    }
   },
   "outputs": [
    {
     "name": "stdout",
     "output_type": "stream",
     "text": [
      "6\n"
     ]
    }
   ],
   "source": [
    "vec_1 = Vector([1, 2, 3])\n",
    "vec_2 = Vector([2, 5, -2])\n",
    "\n",
    "mult_vec = vec_1 * vec_2\n",
    "print(mult_vec)"
   ]
  },
  {
   "cell_type": "code",
   "execution_count": 367,
   "id": "52028c0d",
   "metadata": {
    "ExecuteTime": {
     "end_time": "2023-01-25T18:07:33.058454Z",
     "start_time": "2023-01-25T18:07:33.055832Z"
    }
   },
   "outputs": [
    {
     "name": "stdout",
     "output_type": "stream",
     "text": [
      "[10, 15, 25, 40]\n"
     ]
    }
   ],
   "source": [
    "print(Vector([2, 3, 5, 8]) * 5)\n",
    "# Vector([1, 2, 3]) * Vector([2, 5, -2])"
   ]
  },
  {
   "cell_type": "code",
   "execution_count": 350,
   "id": "6ebde2bb",
   "metadata": {
    "ExecuteTime": {
     "end_time": "2023-01-25T17:51:46.633877Z",
     "start_time": "2023-01-25T17:51:46.629980Z"
    }
   },
   "outputs": [],
   "source": [
    "# альтернативное решение\n",
    "class Vector:\n",
    "\n",
    "    def __init__(self, data_list: list):\n",
    "        self.coords = data_list\n",
    "\n",
    "    def __add__(self, other):\n",
    "        if len(self.coords) == len(other.coords):\n",
    "            sum_vector = [self.coords[i] + other.coords[i]\n",
    "                          for i in range(len(self.coords))]\n",
    "            return Vector(sum_vector)\n",
    "        raise ValueError(f\"left and right lengths differ: {len(self.coords)} != {len(other.coords)}\")\n",
    "    \n",
    "    def __mul__(self, other):\n",
    "        \n",
    "        if isinstance(other, int):\n",
    "            mul_v = [self.coords[i] * other for i in range(len(self.coords))]\n",
    "            return sum(mul_v)\n",
    "        elif isinstance(other, Vector):\n",
    "            if len(self.coords) == len(other.coords):\n",
    "                mul_v = sum([self.coords[i] * other.coords[i] for i in range(len(self.coords))])\n",
    "                return mul_v\n",
    "            else:\n",
    "                raise ValueError(f\"left and right lengths differ: {len(self.coords)} != {len(other.coords)}\")"
   ]
  },
  {
   "cell_type": "code",
   "execution_count": 351,
   "id": "027e6e6d",
   "metadata": {
    "ExecuteTime": {
     "end_time": "2023-01-25T17:51:48.731950Z",
     "start_time": "2023-01-25T17:51:48.727561Z"
    }
   },
   "outputs": [
    {
     "data": {
      "text/plain": [
       "6"
      ]
     },
     "execution_count": 351,
     "metadata": {},
     "output_type": "execute_result"
    }
   ],
   "source": [
    "Vector([1, 2, 3]) * Vector([2, 5, -2])"
   ]
  },
  {
   "cell_type": "code",
   "execution_count": 352,
   "id": "c8f4110d",
   "metadata": {
    "ExecuteTime": {
     "end_time": "2023-01-25T17:51:52.716522Z",
     "start_time": "2023-01-25T17:51:52.711179Z"
    }
   },
   "outputs": [
    {
     "data": {
      "text/plain": [
       "90"
      ]
     },
     "execution_count": 352,
     "metadata": {},
     "output_type": "execute_result"
    }
   ],
   "source": [
    "Vector([2, 3, 5, 8]) * 5"
   ]
  },
  {
   "cell_type": "markdown",
   "id": "242ebf1f",
   "metadata": {},
   "source": [
    "## 11\n",
    "\n",
    "> Магические методы: вектор (4/4)\n",
    "\n",
    "Последние штрихи для нашего вектора.\n",
    "\n",
    "Добавьте в класс возможности сравнивать два вектора между собой и считать abs (это длина вектора, в Евклидовой метрике).\n",
    "```python\n",
    "abs(Vector([-12, 5]))  # Должно быть 13\n",
    "\n",
    "Vector([1, 3, 5]) == Vector([1])  # False\n",
    "Vector([1, 3, 5]) == Vector([-1, 3, 5])  # False\n",
    "Vector([1, 3, 5]) == Vector([1, 3, 5])  # True\n",
    "```\n",
    "По итогу мы получим вектора, которые можно складывать, умножать, печатать, считать длину и сравнивать на равенство друг с другом."
   ]
  },
  {
   "cell_type": "code",
   "execution_count": 398,
   "id": "cf7a2f50",
   "metadata": {
    "ExecuteTime": {
     "end_time": "2023-01-25T18:39:00.439822Z",
     "start_time": "2023-01-25T18:39:00.434785Z"
    }
   },
   "outputs": [],
   "source": [
    "class Vector:\n",
    "    def __init__(self, coords):\n",
    "        self.coords = coords\n",
    "        \n",
    "    def __add__(self, other):\n",
    "            if len(self.coords) == len(other.coords):\n",
    "                sum_v = []\n",
    "                for i in range(len(self.coords)):\n",
    "                    sum_v.append(self.coords[i] + other.coords[i])\n",
    "                return Vector(sum_v)\n",
    "            else:\n",
    "                raise ValueError(f\"left and right lengths differ: {len(self.coords)} != {len( other.coords)}\")\n",
    "        \n",
    "    def __mul__(self, other):\n",
    "        if isinstance(other, int):\n",
    "            sum_v = []\n",
    "            for i in self.coords:\n",
    "                sum_v.append(i * other)\n",
    "            return Vector(sum_v)\n",
    "        elif (other, Vector):\n",
    "            if len(self.coords) == len(other.coords):\n",
    "                sum_v = []\n",
    "                for i in range(len(self.coords)):\n",
    "                    sum_v.append(self.coords[i] * other.coords[i])\n",
    "                return sum(sum_v)\n",
    "            else:\n",
    "                raise ValueError(f\"left and right lengths differ: {len(self.coords)} != {len( other.coords)}\")\n",
    "                \n",
    "    def __eq__(self, other):\n",
    "        return self.coords == other.coords\n",
    "    \n",
    "    def __abs__(self):\n",
    "        return abs(((self.coords[0] ** 2) + (self.coords[1] ** 2)) ** 0.5)\n",
    "        # sum([x ** 2 for x in self.coords]) ** 0.5\n",
    "                \n",
    "    def __str__(self):\n",
    "        return f'{self.coords}'"
   ]
  },
  {
   "cell_type": "code",
   "execution_count": 400,
   "id": "2023acf0",
   "metadata": {
    "ExecuteTime": {
     "end_time": "2023-01-25T18:39:13.964337Z",
     "start_time": "2023-01-25T18:39:13.960849Z"
    }
   },
   "outputs": [
    {
     "data": {
      "text/plain": [
       "False"
      ]
     },
     "execution_count": 400,
     "metadata": {},
     "output_type": "execute_result"
    }
   ],
   "source": [
    "Vector([1, 3, 5]) == Vector([1, 2, 5])"
   ]
  },
  {
   "cell_type": "code",
   "execution_count": 401,
   "id": "ae33be53",
   "metadata": {
    "ExecuteTime": {
     "end_time": "2023-01-25T18:40:24.833058Z",
     "start_time": "2023-01-25T18:40:24.828037Z"
    },
    "scrolled": true
   },
   "outputs": [
    {
     "data": {
      "text/plain": [
       "13.0"
      ]
     },
     "execution_count": 401,
     "metadata": {},
     "output_type": "execute_result"
    }
   ],
   "source": [
    "abs(Vector([-12, 5]))"
   ]
  },
  {
   "cell_type": "markdown",
   "id": "cb567450",
   "metadata": {},
   "source": [
    "## 12\n",
    "\n",
    "> Множественное наследование (1/3)\n",
    "Хорошая статья про проблемы множественного наследования\n",
    "\n",
    "Попробуем сделать множественное наследование аккуратно и так, как его обычно делают в популярных библиотеках.\n",
    "\n",
    "Обычно множественное наследование используют в т.н. Mixins. Mixin (рус. миксины) - это класс, не имеющий полей и имеющий один или более не абстрактных методов (т.е. методов с реализацией). Обычно миксины используют для того, чтобы модульно раздавать различные функциональности различным объектам.\n",
    "\n",
    "В лекции был пример с Connectable и PostgresqlConnection. Connectable как раз был одной из Mixin.\n",
    "\n",
    "Вас перевели из тех.директора сложного проекта в бекенд-разработчика. Встала задача разработать класс, которому на вход будет приходить разобранный запрос от пользователя. Запрос имеет вид:\n",
    "\n",
    "```python\n",
    "# будет приходить запрос в виде словаря\n",
    "request = {\n",
    "  \"cookies\": {key_1: value_1, key_2: value_2, ...},\n",
    "  \"body\": \"a long time ago, in a Galaxy far, far away\",\n",
    "  \"headers\": {\"content-type\": \"application/json\", \"Accept\": \"application/json\"}\n",
    "}\n",
    "\n",
    "# и этот словарь будет передаваться в конструктор класса\n",
    "handler = Handler(request)\n",
    "```\n",
    "Разным классам в приложении потребуется разная функциональность: кому-то потребуется проверять, есть ли в headers ключ \"Accept\", кому-то потребуется читать body, а кому-то понадобится проверять пустоту cookies. Будут и классы, которым потребуется несколько возможностей сразу.\n",
    "\n",
    "Напишите классы `ParsesCookies, ParsesBody, ParsesHeaders` по условиям:\n",
    "\n",
    "- Класс ParsesCookies имеет метод cookies(), возвращающий все по ключу cookies из словаря self.request.\n",
    "- Класс ParsesCookies имеет метод is_authed(), который будет проверять, что в словаре cookies будет ключ auth_key (ни в коем случае не используйте такую авторизацию в реальных проектах).\n",
    "- Класс ParsesBody имеет метод body(), возвращающий текст по ключу body в self.request.\n",
    "- Класс ParsesHeaders имеет метод headers(), возвращающий все по ключу headers из словаря self.request.\n",
    "- Класс ParsesHeaders имеет метод need_json(), который возвращает True, если в headers по ключу \"content-type\" лежит значение \"application/json\", иначе False.\n",
    "\n"
   ]
  },
  {
   "cell_type": "code",
   "execution_count": 93,
   "id": "9b9e29a3",
   "metadata": {
    "ExecuteTime": {
     "end_time": "2023-01-26T14:54:55.110326Z",
     "start_time": "2023-01-26T14:54:55.090283Z"
    }
   },
   "outputs": [],
   "source": [
    "request = {\n",
    "  \"cookies\": {'key_1': 'value_1', 'auth_key': 'value_2'},\n",
    "  \"body\": \"a long time ago, in a Galaxy far, far away\",\n",
    "  \"headers\": {\"content-type\": \"application/json\", \"Accept\": \"application/json\"}\n",
    "}\n",
    "\n",
    "# request = {'body': '{\"a\": 123, \"b\": 1234}',\n",
    "#      'headers': {'content-type': 'application/json'}\n",
    "#     }"
   ]
  },
  {
   "cell_type": "code",
   "execution_count": 452,
   "id": "3dc38bc7",
   "metadata": {
    "ExecuteTime": {
     "end_time": "2023-01-25T19:47:44.392088Z",
     "start_time": "2023-01-25T19:47:44.388514Z"
    }
   },
   "outputs": [],
   "source": [
    "class Request():\n",
    "    def __init__(self, request):\n",
    "        self.request = request\n",
    "\n",
    "class ParsesCookies(Request):       \n",
    "    def cookies(self):      # Класс ParsesCookies имеет метод cookies(), возвращающий все по ключу cookies из словаря self.request.\n",
    "        return self.request['cookies']\n",
    "    \n",
    "    def is_authed(self): # метод is_authed(), проверяет, что в словаре cookies есть ключ auth_key\n",
    "        if 'auth_key' in self.request['cookies']:\n",
    "            return True\n",
    "        else: \n",
    "            return False\n",
    "        \n",
    "class ParsesBody(Request): \n",
    "    def body(self): # метод body(), возвращающий текст по ключу body в self.request\n",
    "        return self.request['body']\n",
    "    \n",
    "class ParsesHeaders(Request):\n",
    "    def headers(self): # метод headers(), возвращающий все по ключу headers из словаря self.request\n",
    "        return self.request['headers']\n",
    "    \n",
    "    def need_json(self): # возвращает True, если в headers по ключу \"content-type\" лежит значение \"application/json\", иначе False\n",
    "        get_headers = self.request.get('headers', {})\n",
    "        get_ctype = get_headers.get('content-type', '')\n",
    "        \n",
    "        if get_ctype == 'application/json':\n",
    "            return True\n",
    "        else:\n",
    "            return False"
   ]
  },
  {
   "cell_type": "code",
   "execution_count": 451,
   "id": "4b6e34f4",
   "metadata": {
    "ExecuteTime": {
     "end_time": "2023-01-25T19:47:22.112853Z",
     "start_time": "2023-01-25T19:47:22.109897Z"
    }
   },
   "outputs": [
    {
     "data": {
      "text/plain": [
       "True"
      ]
     },
     "execution_count": 451,
     "metadata": {},
     "output_type": "execute_result"
    }
   ],
   "source": [
    "res1 = ParsesHeaders(request)\n",
    "res1.need_json()"
   ]
  },
  {
   "cell_type": "markdown",
   "id": "bcf6d7f0",
   "metadata": {},
   "source": [
    "## 13\n",
    "> Множественное наследование (2/3)\n",
    "\n",
    "Используя миксины из прошлого пункта, \n",
    "- напишите класс `JsonHandler`, который будет наследоваться от классов `ParsesBody и ParsesHeaders` , иметь метод `process()` и конструктор, принимающий аргумент request и сохраняющий в self.request. В этом задании нужно использовать библиотеку json.\n",
    "\n",
    "Метод `process()` должен работать следующим образом:\n",
    "\n",
    "- Если need_json() дает False, то возвращать None\n",
    "- Иначе получать тело через body(), пытаться считать его как json.loads(...) \n",
    "- и возвращать число ключей в словаре. \n",
    "- Если считать не удалось, то вернуть None.\n",
    "\n",
    "Отправьте реализацию класса JsonHandler в LMS. Классы ParsesBody и ParsesHeaders отправлять не нужно.\n",
    "\n",
    "Обратите внимание, что с помощью миксин функциональность проверки headers и получения body была вынесена за JsonHandler - наш класс сосредоточился именно на обработке.\n",
    "```\n",
    "\n",
    "# Пример использования\n",
    "r = {'body': '{\"a\": 123, \"b\": 1234}',\n",
    "     'headers': {'content-type': 'application/json'}\n",
    "    }\n",
    "print(JsonHandler(r).process())\n",
    "```"
   ]
  },
  {
   "cell_type": "code",
   "execution_count": 96,
   "id": "ec92d2c3",
   "metadata": {
    "ExecuteTime": {
     "end_time": "2023-01-26T15:00:14.579427Z",
     "start_time": "2023-01-26T15:00:14.546427Z"
    }
   },
   "outputs": [],
   "source": [
    "class Request():\n",
    "    def __init__(self, request):\n",
    "        self.request = request\n",
    "\n",
    "class ParsesCookies(Request):       \n",
    "    def cookies(self):      # Класс ParsesCookies имеет метод cookies(), возвращающий все по ключу cookies из словаря self.request.\n",
    "        return self.request['cookies']\n",
    "    \n",
    "    def is_authed(self): # метод is_authed(), проверяет, что в словаре cookies есть ключ auth_key\n",
    "        if 'auth_key' in self.request['cookies']:\n",
    "            return True\n",
    "        else: \n",
    "            return False\n",
    "        \n",
    "class ParsesBody(Request): \n",
    "    def body(self): # метод body(), возвращающий текст по ключу body в self.request\n",
    "        return self.request['body']\n",
    "    \n",
    "class ParsesHeaders(Request):\n",
    "    def headers(self): # метод headers(), возвращающий все по ключу headers из словаря self.request\n",
    "        return self.request['headers']\n",
    "    \n",
    "    def need_json(self): # возвращает True, если в headers по ключу \"content-type\" лежит значение \"application/json\", иначе False\n",
    "        get_headers = self.request.get('headers', {})\n",
    "        get_ctype = get_headers.get('content-type', '')\n",
    "        \n",
    "        if get_ctype == 'application/json':\n",
    "            return True\n",
    "        else:\n",
    "            return False\n",
    "import json\n",
    "class JsonHandler(ParsesBody, ParsesHeaders):\n",
    "    def __init__(self, request):\n",
    "        self.request = request\n",
    "\n",
    "    def process(self):\n",
    "        if self.need_json() == False:\n",
    "            return None\n",
    "        else:\n",
    "            try:\n",
    "                return len(json.loads(self.body()))\n",
    "            except:\n",
    "                return None"
   ]
  },
  {
   "cell_type": "code",
   "execution_count": 97,
   "id": "e966e08d",
   "metadata": {
    "ExecuteTime": {
     "end_time": "2023-01-26T15:00:17.320525Z",
     "start_time": "2023-01-26T15:00:17.307524Z"
    }
   },
   "outputs": [
    {
     "name": "stdout",
     "output_type": "stream",
     "text": [
      "None\n"
     ]
    }
   ],
   "source": [
    "import json\n",
    "test = JsonHandler(request)\n",
    "print(test.process())"
   ]
  },
  {
   "cell_type": "code",
   "execution_count": 90,
   "id": "e2fa2542",
   "metadata": {
    "ExecuteTime": {
     "end_time": "2023-01-26T14:33:10.672421Z",
     "start_time": "2023-01-26T14:33:10.658420Z"
    }
   },
   "outputs": [
    {
     "data": {
      "text/plain": [
       "2"
      ]
     },
     "execution_count": 90,
     "metadata": {},
     "output_type": "execute_result"
    }
   ],
   "source": [
    "json.loads(request['body'])"
   ]
  },
  {
   "cell_type": "markdown",
   "id": "7ed35fae",
   "metadata": {},
   "source": [
    "## 14\n",
    "\n",
    ">  Множественное наследование (3/3)\n",
    "\n",
    "Используя миксины из прошлого пункта, \n",
    "\n",
    "- напишите класс SecureTextHandler, который будет наследоваться от классов ParsesBody, ParsesHeaders и ParsesCookies , \n",
    "- иметь метод process() \n",
    "- и конструктор, принимающий один аргумент \n",
    "- и сохраняющий его в нужное поле класса.\n",
    "\n",
    "Метод process() должен работать следующим образом:\n",
    "\n",
    "- Если is_authed() дает False, то возвращать None.\n",
    "- Иначе получать тело через body() и возвращать его длину.\n",
    "\n",
    "Добейтесь работоспособности на примере и реализацию класса SecureTextHandler отправьте в LMS. Классы ParsesBody и ParsesHeaders, ParsesCookie отправлять не нужно.\n",
    "```python\n",
    "# Примеры\n",
    "r = {'cookies': {'auth_key': '123'},\n",
    "     'body': 'hello'\n",
    "    }\n",
    "print(SecureTextHandler(r).process())\n",
    "# 5\n",
    "\n",
    "r = {'cookies': {},\n",
    "     'body': 'hello'\n",
    "    }\n",
    "print(SecureTextHandler(r).process())\n",
    "# None\n",
    "```\n",
    "Обратите внимание, что здесь мы комбинируем другие миксины, чтобы получить другую функциональность без дублирования логики."
   ]
  },
  {
   "cell_type": "code",
   "execution_count": 25,
   "id": "66b23edb",
   "metadata": {
    "ExecuteTime": {
     "end_time": "2023-01-26T18:35:01.008649Z",
     "start_time": "2023-01-26T18:35:01.006590Z"
    }
   },
   "outputs": [],
   "source": [
    "# r = {'cookies': {'auth_key': '123'},\n",
    "#      'body': 'hello'\n",
    "#     }\n",
    "\n",
    "r = {'cookies': {},\n",
    "     'body': 'hello'\n",
    "    }"
   ]
  },
  {
   "cell_type": "code",
   "execution_count": 34,
   "id": "463af677",
   "metadata": {
    "ExecuteTime": {
     "end_time": "2023-01-26T18:38:01.168728Z",
     "start_time": "2023-01-26T18:38:01.163560Z"
    }
   },
   "outputs": [],
   "source": [
    "class Request():\n",
    "    def __init__(self, request):\n",
    "        self.request = request\n",
    "\n",
    "class ParsesCookies(Request):       \n",
    "    def cookies(self):      # Класс ParsesCookies имеет метод cookies(), возвращающий все по ключу cookies из словаря self.request.\n",
    "        return self.request['cookies']\n",
    "    \n",
    "    def is_authed(self): # метод is_authed(), проверяет, что в словаре cookies есть ключ auth_key\n",
    "        if 'auth_key' in self.request['cookies']:\n",
    "            return True\n",
    "        else: \n",
    "            return False\n",
    "        \n",
    "class ParsesBody(Request): \n",
    "    def body(self): # метод body(), возвращающий текст по ключу body в self.request\n",
    "        return self.request['body']\n",
    "    \n",
    "class ParsesHeaders(Request):\n",
    "    def headers(self): # метод headers(), возвращающий все по ключу headers из словаря self.request\n",
    "        return self.request['headers']\n",
    "    \n",
    "    def need_json(self): # возвращает True, если в headers по ключу \"content-type\" лежит значение \"application/json\", иначе False\n",
    "        get_headers = self.request.get('headers', {})\n",
    "        get_ctype = get_headers.get('content-type', '')\n",
    "        if get_ctype == 'application/json':\n",
    "            return True\n",
    "        else:\n",
    "            return False\n",
    "        \n",
    "import json\n",
    "\n",
    "class JsonHandler(ParsesBody, ParsesHeaders):\n",
    "    def __init__(self, request):\n",
    "        self.request = request\n",
    "# Если need_json() == False, то возвращать None, иначе через метод body(), \n",
    "# считать его как json.loads(...) и возвращать число ключей в словаре.  \n",
    "    def process(self):\n",
    "        if self.need_json() == False:\n",
    "            return None\n",
    "        else:\n",
    "            try:\n",
    "                return len(json.loads(self.body()))\n",
    "            except:\n",
    "                return None\n",
    "\n",
    "\n",
    "class SecureTextHandler(ParsesBody, ParsesHeaders, ParsesCookies):\n",
    "    def __init__(self, request):\n",
    "        self.request = request\n",
    "        \n",
    "    def process(self):\n",
    "        if self.is_authed() == False:\n",
    "            return None\n",
    "        else:\n",
    "            try:\n",
    "                return len(self.body())\n",
    "            except:\n",
    "                return None \n",
    "            "
   ]
  },
  {
   "cell_type": "code",
   "execution_count": 35,
   "id": "f8e1375c",
   "metadata": {
    "ExecuteTime": {
     "end_time": "2023-01-26T18:38:02.961498Z",
     "start_time": "2023-01-26T18:38:02.958794Z"
    }
   },
   "outputs": [
    {
     "name": "stdout",
     "output_type": "stream",
     "text": [
      "None\n"
     ]
    }
   ],
   "source": [
    "sec_th = SecureTextHandler(r)\n",
    "print(sec_th.process())"
   ]
  },
  {
   "cell_type": "code",
   "execution_count": null,
   "id": "d81b883a",
   "metadata": {
    "ExecuteTime": {
     "end_time": "2023-01-26T18:20:36.300907Z",
     "start_time": "2023-01-26T18:20:36.298308Z"
    }
   },
   "outputs": [],
   "source": []
  }
 ],
 "metadata": {
  "kernelspec": {
   "display_name": "Python 3 (ipykernel)",
   "language": "python",
   "name": "python3"
  },
  "language_info": {
   "codemirror_mode": {
    "name": "ipython",
    "version": 3
   },
   "file_extension": ".py",
   "mimetype": "text/x-python",
   "name": "python",
   "nbconvert_exporter": "python",
   "pygments_lexer": "ipython3",
   "version": "3.10.6"
  },
  "varInspector": {
   "cols": {
    "lenName": 16,
    "lenType": 16,
    "lenVar": 40
   },
   "kernels_config": {
    "python": {
     "delete_cmd_postfix": "",
     "delete_cmd_prefix": "del ",
     "library": "var_list.py",
     "varRefreshCmd": "print(var_dic_list())"
    },
    "r": {
     "delete_cmd_postfix": ") ",
     "delete_cmd_prefix": "rm(",
     "library": "var_list.r",
     "varRefreshCmd": "cat(var_dic_list()) "
    }
   },
   "types_to_exclude": [
    "module",
    "function",
    "builtin_function_or_method",
    "instance",
    "_Feature"
   ],
   "window_display": false
  }
 },
 "nbformat": 4,
 "nbformat_minor": 5
}
