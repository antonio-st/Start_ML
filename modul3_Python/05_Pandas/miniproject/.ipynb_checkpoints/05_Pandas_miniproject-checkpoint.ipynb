{
 "cells": [
  {
   "cell_type": "markdown",
   "id": "3653afc5",
   "metadata": {},
   "source": [
    "\n",
    "# Минипроект\n",
    "\n",
    "В этом минипроекте необходимо проанализировать данные из Google Play Store.\n",
    "\n",
    "\n",
    "**Описание данных**\n",
    "```\n",
    "App — название приложения\n",
    "Category — категория, к которой относится приложение\n",
    "Rating — рейтинг пользователей\n",
    "Reviews — количество отзывов пользователей о приложении\n",
    "Size — размер приложения\n",
    "Installs — количество загрузок/установок приложения пользователями\n",
    "Type — платное или бесплатное приложение\n",
    "Price — цена приложения\n",
    "Content Rating — возрастная группа, на которую ориентировано приложение\n",
    "Genres — принадлежность приложения к нескольким жанрам\n",
    "Last Updated — дата последнего обновления приложения в Play Store\n",
    "Current Ver — текущая версия приложения в Play Store\n",
    "Android Ver — минимальная требуемая версия Android\n",
    "```"
   ]
  },
  {
   "cell_type": "markdown",
   "id": "1fea5ca6",
   "metadata": {},
   "source": [
    "## 1\n",
    "\n",
    "Сохраните в переменные data_head и data_tail первые и последние 3 строки из датафрейма соответственно.\n",
    "\n",
    "Датафрейм уже находится в переменной playstore."
   ]
  },
  {
   "cell_type": "code",
   "execution_count": 2,
   "id": "89ba46f7",
   "metadata": {
    "ExecuteTime": {
     "end_time": "2023-01-21T13:24:36.205113Z",
     "start_time": "2023-01-21T13:24:35.823266Z"
    }
   },
   "outputs": [],
   "source": [
    "import pandas as pd\n",
    "\n",
    "playstore = pd.read_csv('playstore.csv')"
   ]
  },
  {
   "cell_type": "code",
   "execution_count": 3,
   "id": "a3b0a54c",
   "metadata": {
    "ExecuteTime": {
     "end_time": "2023-01-21T13:24:36.250854Z",
     "start_time": "2023-01-21T13:24:36.218169Z"
    },
    "scrolled": true
   },
   "outputs": [
    {
     "data": {
      "text/html": [
       "<div>\n",
       "<style scoped>\n",
       "    .dataframe tbody tr th:only-of-type {\n",
       "        vertical-align: middle;\n",
       "    }\n",
       "\n",
       "    .dataframe tbody tr th {\n",
       "        vertical-align: top;\n",
       "    }\n",
       "\n",
       "    .dataframe thead th {\n",
       "        text-align: right;\n",
       "    }\n",
       "</style>\n",
       "<table border=\"1\" class=\"dataframe\">\n",
       "  <thead>\n",
       "    <tr style=\"text-align: right;\">\n",
       "      <th></th>\n",
       "      <th>Unnamed: 0</th>\n",
       "      <th>App</th>\n",
       "      <th>Category</th>\n",
       "      <th>Rating</th>\n",
       "      <th>Reviews</th>\n",
       "      <th>Size</th>\n",
       "      <th>Installs</th>\n",
       "      <th>Type</th>\n",
       "      <th>Price</th>\n",
       "      <th>Content Rating</th>\n",
       "      <th>Genres</th>\n",
       "      <th>Last Updated</th>\n",
       "      <th>Current Ver</th>\n",
       "      <th>Android Ver</th>\n",
       "    </tr>\n",
       "  </thead>\n",
       "  <tbody>\n",
       "    <tr>\n",
       "      <th>0</th>\n",
       "      <td>0</td>\n",
       "      <td>Photo Editor &amp; Candy Camera &amp; Grid &amp; ScrapBook</td>\n",
       "      <td>ART_AND_DESIGN</td>\n",
       "      <td>4.1</td>\n",
       "      <td>159</td>\n",
       "      <td>19M</td>\n",
       "      <td>10,000+</td>\n",
       "      <td>Free</td>\n",
       "      <td>0</td>\n",
       "      <td>Everyone</td>\n",
       "      <td>Art &amp; Design</td>\n",
       "      <td>January 7, 2018</td>\n",
       "      <td>1.0.0</td>\n",
       "      <td>4.0.3 and up</td>\n",
       "    </tr>\n",
       "    <tr>\n",
       "      <th>1</th>\n",
       "      <td>1</td>\n",
       "      <td>Coloring book moana</td>\n",
       "      <td>ART_AND_DESIGN</td>\n",
       "      <td>3.9</td>\n",
       "      <td>967</td>\n",
       "      <td>14M</td>\n",
       "      <td>500,000+</td>\n",
       "      <td>Free</td>\n",
       "      <td>0</td>\n",
       "      <td>Everyone</td>\n",
       "      <td>Art &amp; Design;Pretend Play</td>\n",
       "      <td>January 15, 2018</td>\n",
       "      <td>2.0.0</td>\n",
       "      <td>4.0.3 and up</td>\n",
       "    </tr>\n",
       "    <tr>\n",
       "      <th>2</th>\n",
       "      <td>2</td>\n",
       "      <td>U Launcher Lite – FREE Live Cool Themes, Hide ...</td>\n",
       "      <td>ART_AND_DESIGN</td>\n",
       "      <td>4.7</td>\n",
       "      <td>87510</td>\n",
       "      <td>8.7M</td>\n",
       "      <td>5,000,000+</td>\n",
       "      <td>Free</td>\n",
       "      <td>0</td>\n",
       "      <td>Everyone</td>\n",
       "      <td>Art &amp; Design</td>\n",
       "      <td>August 1, 2018</td>\n",
       "      <td>1.2.4</td>\n",
       "      <td>4.0.3 and up</td>\n",
       "    </tr>\n",
       "  </tbody>\n",
       "</table>\n",
       "</div>"
      ],
      "text/plain": [
       "   Unnamed: 0                                                App  \\\n",
       "0           0     Photo Editor & Candy Camera & Grid & ScrapBook   \n",
       "1           1                                Coloring book moana   \n",
       "2           2  U Launcher Lite – FREE Live Cool Themes, Hide ...   \n",
       "\n",
       "         Category  Rating  Reviews  Size    Installs  Type Price  \\\n",
       "0  ART_AND_DESIGN     4.1      159   19M     10,000+  Free     0   \n",
       "1  ART_AND_DESIGN     3.9      967   14M    500,000+  Free     0   \n",
       "2  ART_AND_DESIGN     4.7    87510  8.7M  5,000,000+  Free     0   \n",
       "\n",
       "  Content Rating                     Genres      Last Updated Current Ver  \\\n",
       "0       Everyone               Art & Design   January 7, 2018       1.0.0   \n",
       "1       Everyone  Art & Design;Pretend Play  January 15, 2018       2.0.0   \n",
       "2       Everyone               Art & Design    August 1, 2018       1.2.4   \n",
       "\n",
       "    Android Ver  \n",
       "0  4.0.3 and up  \n",
       "1  4.0.3 and up  \n",
       "2  4.0.3 and up  "
      ]
     },
     "execution_count": 3,
     "metadata": {},
     "output_type": "execute_result"
    }
   ],
   "source": [
    "data_head = playstore.head(3)\n",
    "data_tail = playstore.tail(3)\n",
    "data_head"
   ]
  },
  {
   "cell_type": "markdown",
   "id": "452e48dd",
   "metadata": {},
   "source": [
    "## 2\n",
    "Сохраните в переменные n_col и n_row количество столбцов и строк в датафрейме соответственно.\n",
    "\n",
    "Датафрейм уже находится в переменной playstore."
   ]
  },
  {
   "cell_type": "code",
   "execution_count": 4,
   "id": "04a868b2",
   "metadata": {
    "ExecuteTime": {
     "end_time": "2023-01-21T13:24:36.264982Z",
     "start_time": "2023-01-21T13:24:36.254041Z"
    }
   },
   "outputs": [
    {
     "name": "stdout",
     "output_type": "stream",
     "text": [
      "14 10840\n"
     ]
    }
   ],
   "source": [
    "n_col = playstore.shape[1]\n",
    "n_row = playstore.shape[0]\n",
    "\n",
    "print(f'{n_col} {n_row}')"
   ]
  },
  {
   "cell_type": "code",
   "execution_count": 5,
   "id": "1b81ab22",
   "metadata": {
    "ExecuteTime": {
     "end_time": "2023-01-21T13:24:36.274755Z",
     "start_time": "2023-01-21T13:24:36.271224Z"
    }
   },
   "outputs": [
    {
     "name": "stdout",
     "output_type": "stream",
     "text": [
      "14 10840\n"
     ]
    }
   ],
   "source": [
    "# можно было  проще\n",
    "cols, rows = playstore.shape\n",
    "print(f'{rows} {cols}')"
   ]
  },
  {
   "cell_type": "markdown",
   "id": "6a8393a8",
   "metadata": {},
   "source": [
    "## 3\n",
    "\n",
    "Давайте теперь посмотрим, какое количество уникальных приложений есть в наших данных (колонка App).\n",
    "\n",
    "В качестве ответа введите полученное число."
   ]
  },
  {
   "cell_type": "code",
   "execution_count": 6,
   "id": "b0315eff",
   "metadata": {
    "ExecuteTime": {
     "end_time": "2023-01-21T13:24:36.285957Z",
     "start_time": "2023-01-21T13:24:36.276792Z"
    }
   },
   "outputs": [
    {
     "data": {
      "text/plain": [
       "9659"
      ]
     },
     "execution_count": 6,
     "metadata": {},
     "output_type": "execute_result"
    }
   ],
   "source": [
    "playstore.App.nunique()"
   ]
  },
  {
   "cell_type": "markdown",
   "id": "c68d2815",
   "metadata": {},
   "source": [
    "## 4\n",
    "\n",
    "Давайте посчитаем число пропущенных значений в колонке с рейтингом приложений.\n",
    "\n",
    "Сохраните в переменную rating_missing количество пропущенных значений в колонке Rating. \n",
    "\n",
    "Датафрейм уже находится в переменной playstore."
   ]
  },
  {
   "cell_type": "code",
   "execution_count": 7,
   "id": "d69fd57c",
   "metadata": {
    "ExecuteTime": {
     "end_time": "2023-01-21T13:24:36.289741Z",
     "start_time": "2023-01-21T13:24:36.287095Z"
    }
   },
   "outputs": [],
   "source": [
    "rating_missing = playstore.Rating.isnull().sum()"
   ]
  },
  {
   "cell_type": "code",
   "execution_count": 8,
   "id": "ebd5bba0",
   "metadata": {
    "ExecuteTime": {
     "end_time": "2023-01-21T13:24:36.296838Z",
     "start_time": "2023-01-21T13:24:36.291160Z"
    }
   },
   "outputs": [
    {
     "data": {
      "text/plain": [
       "9366"
      ]
     },
     "execution_count": 8,
     "metadata": {},
     "output_type": "execute_result"
    }
   ],
   "source": [
    "playstore.Rating.notna().sum() # сколько не null"
   ]
  },
  {
   "cell_type": "markdown",
   "id": "26e5f3af",
   "metadata": {},
   "source": [
    "## 5\n",
    "\n",
    "Научимся объединять датафреймы и познакомимся с функцией concat.\\\n",
    "https://pandas.pydata.org/docs/reference/api/pandas.concat.html\n",
    "\n",
    "- Допустим, мы хотим собрать датафрейм, который будет включать в себя: \n",
    "    - первые три строки исходного датафрейма, \n",
    "    - строки 6-8 (включительно), \n",
    "    - строки 16-19 (включительно) \n",
    "    - и колонки: App, Size, Genres, Current Ver в соответствующем порядке.\n",
    "\n",
    "- По сути, это будет выглядеть как объединение трех, состоящих из нескольких строк, датафреймов, являющимися срезами из исходных данных.\n",
    "\n",
    "- В качестве ответа загрузите полученный датафрейм в формате csv. При сохранении финального датафрейма, колонка с индексами должна остаться.\n",
    "\n",
    "> NB! Помните про индексацию с нуля и правила включения/невключения границ при слайсинге"
   ]
  },
  {
   "cell_type": "code",
   "execution_count": 9,
   "id": "6dcc9b2a",
   "metadata": {
    "ExecuteTime": {
     "end_time": "2023-01-21T13:24:36.304467Z",
     "start_time": "2023-01-21T13:24:36.300562Z"
    }
   },
   "outputs": [],
   "source": [
    "s1 = playstore[:3].copy()\n",
    "s2 = playstore[5:8].copy()\n",
    "s3 = playstore[15:19].copy()"
   ]
  },
  {
   "cell_type": "code",
   "execution_count": 10,
   "id": "9c3daddb",
   "metadata": {
    "ExecuteTime": {
     "end_time": "2023-01-21T13:24:36.311522Z",
     "start_time": "2023-01-21T13:24:36.305761Z"
    }
   },
   "outputs": [],
   "source": [
    "playstore_concat = pd.concat([s1, s2, s3])[['App', 'Size', 'Genres', 'Current Ver']]"
   ]
  },
  {
   "cell_type": "code",
   "execution_count": 11,
   "id": "b81c5399",
   "metadata": {
    "ExecuteTime": {
     "end_time": "2023-01-21T13:24:36.317944Z",
     "start_time": "2023-01-21T13:24:36.314419Z"
    }
   },
   "outputs": [],
   "source": [
    "playstore_concat.to_csv('05_Pandas_miniproject_task5.csv')"
   ]
  },
  {
   "cell_type": "code",
   "execution_count": 12,
   "id": "d07691a0",
   "metadata": {
    "ExecuteTime": {
     "end_time": "2023-01-21T13:24:36.437987Z",
     "start_time": "2023-01-21T13:24:36.319367Z"
    }
   },
   "outputs": [
    {
     "name": "stdout",
     "output_type": "stream",
     "text": [
      ",App,Size,Genres,Current Ver\r\n",
      "0,Photo Editor & Candy Camera & Grid & ScrapBook,19M,Art & Design,1.0.0\r\n",
      "1,Coloring book moana,14M,Art & Design;Pretend Play,2.0.0\r\n",
      "2,\"U Launcher Lite – FREE Live Cool Themes, Hide Apps\",8.7M,Art & Design,1.2.4\r\n",
      "5,Paper flowers instructions,5.6M,Art & Design,1.0\r\n",
      "6,Smoke Effect Photo Maker - Smoke Editor,19M,Art & Design,1.1\r\n",
      "7,Infinite Painter,29M,Art & Design,6.1.61.1\r\n",
      "15,Learn To Draw Kawaii Characters,2.7M,Art & Design,\r\n",
      "16,Photo Designer - Write your name with shapes,5.5M,Art & Design,3.1\r\n",
      "17,350 Diy Room Decor Ideas,17M,Art & Design,1.0\r\n",
      "18,FlipaClip - Cartoon animation,39M,Art & Design,2.2.5\r\n"
     ]
    }
   ],
   "source": [
    "!cat 05_Pandas_miniproject_task5.csv"
   ]
  },
  {
   "cell_type": "markdown",
   "id": "cb51d478",
   "metadata": {
    "ExecuteTime": {
     "end_time": "2023-01-21T08:50:55.902727Z",
     "start_time": "2023-01-21T08:50:55.880332Z"
    }
   },
   "source": [
    "## 6\n",
    "\n",
    "Для дальнейшего анализа нам необходимо \n",
    "- убрать дубликаты приложений (колонка App) \n",
    "https://pandas.pydata.org/docs/reference/api/pandas.DataFrame.drop_duplicates.html\n",
    "- и сбросить индекс. \n",
    "https://pandas.pydata.org/docs/reference/api/pandas.DataFrame.reset_index.html\n",
    "- Сохраните полученный результат в виде датафрейма в переменную unique_playstore. \n",
    "\n",
    "Датафрейм уже находится в переменной playstore."
   ]
  },
  {
   "cell_type": "code",
   "execution_count": 13,
   "id": "7995371a",
   "metadata": {
    "ExecuteTime": {
     "end_time": "2023-01-21T13:24:36.461466Z",
     "start_time": "2023-01-21T13:24:36.442564Z"
    }
   },
   "outputs": [],
   "source": [
    "unique_playstore = playstore.drop_duplicates(subset=['App']).reset_index(drop=True)"
   ]
  },
  {
   "cell_type": "markdown",
   "id": "37c658ab",
   "metadata": {
    "ExecuteTime": {
     "end_time": "2023-01-21T10:30:49.647705Z",
     "start_time": "2023-01-21T10:30:49.638121Z"
    }
   },
   "source": [
    "## 7\n",
    "\n",
    "В этом задании названия колонок необходимо привести к стандартному виду — все буквы должны быть нижнего регистра, а пробелы должны быть заменены на нижние подчеркивания. \n",
    "\n",
    "Методы, которые могут пригодиться:\n",
    "\n",
    "rename\\\n",
    "https://pandas.pydata.org/pandas-docs/stable/reference/api/pandas.DataFrame.rename.html \n",
    "\n",
    "str.lower\\\n",
    "https://pandas.pydata.org/pandas-docs/stable/reference/api/pandas.Series.str.lower.html?highlight=lower#pandas.Series.str.lower \n",
    "\n",
    "str.replace\\\n",
    "https://pandas.pydata.org/pandas-docs/stable/reference/api/pandas.Series.str.replace.html#pandas.Series.str.replace\n",
    "\n",
    "columns\\\n",
    "https://pandas.pydata.org/pandas-docs/stable/reference/api/pandas.DataFrame.columns.html?highlight=columns#pandas.DataFrame.columns\n",
    "\n",
    "Данные уже сохранены в playstore. "
   ]
  },
  {
   "cell_type": "code",
   "execution_count": 14,
   "id": "3e7f4d2e",
   "metadata": {
    "ExecuteTime": {
     "end_time": "2023-01-21T13:24:36.471967Z",
     "start_time": "2023-01-21T13:24:36.466584Z"
    }
   },
   "outputs": [],
   "source": [
    "playstore.columns = playstore.columns.str.lower().str.replace(' ', '_')"
   ]
  },
  {
   "cell_type": "code",
   "execution_count": 15,
   "id": "6cfe2791",
   "metadata": {
    "ExecuteTime": {
     "end_time": "2023-01-21T13:24:36.483195Z",
     "start_time": "2023-01-21T13:24:36.475180Z"
    }
   },
   "outputs": [
    {
     "data": {
      "text/plain": [
       "Index(['unnamed:_0', 'app', 'category', 'rating', 'reviews', 'size',\n",
       "       'installs', 'type', 'price', 'content_rating', 'genres', 'last_updated',\n",
       "       'current_ver', 'android_ver'],\n",
       "      dtype='object')"
      ]
     },
     "execution_count": 15,
     "metadata": {},
     "output_type": "execute_result"
    }
   ],
   "source": [
    "playstore.columns"
   ]
  },
  {
   "cell_type": "markdown",
   "id": "d849e3da",
   "metadata": {},
   "source": [
    "## 8\n",
    "\n",
    "- Давайте посмотрим на долю платных и бесплатных приложений. \n",
    "- В качестве ответа введите долю бесплатных приложений.\n",
    "- Ответ округлите до сотых, в качестве десятичного разделителя используйте точку.\n",
    "\n",
    "NB! Не забудьте убрать дубликаты перед подсчетом доли!"
   ]
  },
  {
   "cell_type": "code",
   "execution_count": 16,
   "id": "fffec3f6",
   "metadata": {
    "ExecuteTime": {
     "end_time": "2023-01-21T13:24:36.499386Z",
     "start_time": "2023-01-21T13:24:36.486238Z"
    }
   },
   "outputs": [
    {
     "data": {
      "text/plain": [
       "0.92"
      ]
     },
     "execution_count": 16,
     "metadata": {},
     "output_type": "execute_result"
    }
   ],
   "source": [
    "# round(playstore.drop_duplicates(subset=['app']).type.value_counts() / len(playstore.drop_duplicates(subset=['app'])),2)\n",
    "playstore.drop_duplicates(subset=['app']).type.value_counts(normalize=True).round(2)[0]"
   ]
  },
  {
   "cell_type": "markdown",
   "id": "75388717",
   "metadata": {
    "ExecuteTime": {
     "end_time": "2023-01-21T11:04:21.430209Z",
     "start_time": "2023-01-21T11:04:21.423327Z"
    }
   },
   "source": [
    "## 9\n",
    "\n",
    "- Отберите из датафрейма только те приложения, которые относятся к образовательной категории  (EDUCATION) \n",
    "- и с количеством отзывов пользователей более 1000. \n",
    "- Сохраните новый датафрейм в переменную education_playstore.\n",
    "- NB! Не забудьте сбросить индекс в полученном датафрейме!"
   ]
  },
  {
   "cell_type": "code",
   "execution_count": 28,
   "id": "f0263464",
   "metadata": {
    "ExecuteTime": {
     "end_time": "2023-01-21T13:29:07.538536Z",
     "start_time": "2023-01-21T13:29:07.512121Z"
    }
   },
   "outputs": [
    {
     "data": {
      "text/html": [
       "<div>\n",
       "<style scoped>\n",
       "    .dataframe tbody tr th:only-of-type {\n",
       "        vertical-align: middle;\n",
       "    }\n",
       "\n",
       "    .dataframe tbody tr th {\n",
       "        vertical-align: top;\n",
       "    }\n",
       "\n",
       "    .dataframe thead th {\n",
       "        text-align: right;\n",
       "    }\n",
       "</style>\n",
       "<table border=\"1\" class=\"dataframe\">\n",
       "  <thead>\n",
       "    <tr style=\"text-align: right;\">\n",
       "      <th></th>\n",
       "      <th>unnamed:_0</th>\n",
       "      <th>app</th>\n",
       "      <th>category</th>\n",
       "      <th>rating</th>\n",
       "      <th>reviews</th>\n",
       "      <th>size</th>\n",
       "      <th>installs</th>\n",
       "      <th>type</th>\n",
       "      <th>price</th>\n",
       "      <th>content_rating</th>\n",
       "      <th>genres</th>\n",
       "      <th>last_updated</th>\n",
       "      <th>current_ver</th>\n",
       "      <th>android_ver</th>\n",
       "    </tr>\n",
       "  </thead>\n",
       "  <tbody>\n",
       "    <tr>\n",
       "      <th>572</th>\n",
       "      <td>699</td>\n",
       "      <td>Duolingo: Learn Languages Free</td>\n",
       "      <td>EDUCATION</td>\n",
       "      <td>4.7</td>\n",
       "      <td>6289924</td>\n",
       "      <td>Varies with device</td>\n",
       "      <td>100,000,000+</td>\n",
       "      <td>Free</td>\n",
       "      <td>0</td>\n",
       "      <td>Everyone</td>\n",
       "      <td>Education;Education</td>\n",
       "      <td>August 1, 2018</td>\n",
       "      <td>Varies with device</td>\n",
       "      <td>Varies with device</td>\n",
       "    </tr>\n",
       "    <tr>\n",
       "      <th>573</th>\n",
       "      <td>700</td>\n",
       "      <td>TED</td>\n",
       "      <td>EDUCATION</td>\n",
       "      <td>4.6</td>\n",
       "      <td>181893</td>\n",
       "      <td>18M</td>\n",
       "      <td>10,000,000+</td>\n",
       "      <td>Free</td>\n",
       "      <td>0</td>\n",
       "      <td>Everyone 10+</td>\n",
       "      <td>Education</td>\n",
       "      <td>July 27, 2018</td>\n",
       "      <td>3.2.5</td>\n",
       "      <td>4.1 and up</td>\n",
       "    </tr>\n",
       "    <tr>\n",
       "      <th>574</th>\n",
       "      <td>701</td>\n",
       "      <td>English Communication - Learn English for Chin...</td>\n",
       "      <td>EDUCATION</td>\n",
       "      <td>4.7</td>\n",
       "      <td>2544</td>\n",
       "      <td>18M</td>\n",
       "      <td>100,000+</td>\n",
       "      <td>Free</td>\n",
       "      <td>0</td>\n",
       "      <td>Everyone</td>\n",
       "      <td>Education</td>\n",
       "      <td>December 29, 2017</td>\n",
       "      <td>3.1</td>\n",
       "      <td>4.0 and up</td>\n",
       "    </tr>\n",
       "    <tr>\n",
       "      <th>575</th>\n",
       "      <td>702</td>\n",
       "      <td>Khan Academy</td>\n",
       "      <td>EDUCATION</td>\n",
       "      <td>4.6</td>\n",
       "      <td>85375</td>\n",
       "      <td>21M</td>\n",
       "      <td>5,000,000+</td>\n",
       "      <td>Free</td>\n",
       "      <td>0</td>\n",
       "      <td>Everyone</td>\n",
       "      <td>Education</td>\n",
       "      <td>July 27, 2018</td>\n",
       "      <td>5.0.0</td>\n",
       "      <td>4.1 and up</td>\n",
       "    </tr>\n",
       "    <tr>\n",
       "      <th>576</th>\n",
       "      <td>703</td>\n",
       "      <td>Learn English with Wlingua</td>\n",
       "      <td>EDUCATION</td>\n",
       "      <td>4.7</td>\n",
       "      <td>314299</td>\n",
       "      <td>3.3M</td>\n",
       "      <td>10,000,000+</td>\n",
       "      <td>Free</td>\n",
       "      <td>0</td>\n",
       "      <td>Everyone</td>\n",
       "      <td>Education</td>\n",
       "      <td>May 2, 2018</td>\n",
       "      <td>1.94.9</td>\n",
       "      <td>4.0 and up</td>\n",
       "    </tr>\n",
       "    <tr>\n",
       "      <th>...</th>\n",
       "      <td>...</td>\n",
       "      <td>...</td>\n",
       "      <td>...</td>\n",
       "      <td>...</td>\n",
       "      <td>...</td>\n",
       "      <td>...</td>\n",
       "      <td>...</td>\n",
       "      <td>...</td>\n",
       "      <td>...</td>\n",
       "      <td>...</td>\n",
       "      <td>...</td>\n",
       "      <td>...</td>\n",
       "      <td>...</td>\n",
       "      <td>...</td>\n",
       "    </tr>\n",
       "    <tr>\n",
       "      <th>684</th>\n",
       "      <td>848</td>\n",
       "      <td>SoloLearn: Learn to Code for Free</td>\n",
       "      <td>EDUCATION</td>\n",
       "      <td>4.8</td>\n",
       "      <td>256079</td>\n",
       "      <td>7.6M</td>\n",
       "      <td>1,000,000+</td>\n",
       "      <td>Free</td>\n",
       "      <td>0</td>\n",
       "      <td>Teen</td>\n",
       "      <td>Education</td>\n",
       "      <td>July 12, 2018</td>\n",
       "      <td>2.2.4</td>\n",
       "      <td>4.0.3 and up</td>\n",
       "    </tr>\n",
       "    <tr>\n",
       "      <th>685</th>\n",
       "      <td>849</td>\n",
       "      <td>Kids Learn Languages by Mondly</td>\n",
       "      <td>EDUCATION</td>\n",
       "      <td>4.4</td>\n",
       "      <td>2078</td>\n",
       "      <td>Varies with device</td>\n",
       "      <td>100,000+</td>\n",
       "      <td>Free</td>\n",
       "      <td>0</td>\n",
       "      <td>Everyone</td>\n",
       "      <td>Education;Education</td>\n",
       "      <td>December 24, 2017</td>\n",
       "      <td>1.0.2</td>\n",
       "      <td>4.1 and up</td>\n",
       "    </tr>\n",
       "    <tr>\n",
       "      <th>686</th>\n",
       "      <td>850</td>\n",
       "      <td>Blinkist - Nonfiction Books</td>\n",
       "      <td>EDUCATION</td>\n",
       "      <td>4.1</td>\n",
       "      <td>16103</td>\n",
       "      <td>13M</td>\n",
       "      <td>1,000,000+</td>\n",
       "      <td>Free</td>\n",
       "      <td>0</td>\n",
       "      <td>Everyone</td>\n",
       "      <td>Education</td>\n",
       "      <td>July 31, 2018</td>\n",
       "      <td>5.7.1</td>\n",
       "      <td>4.1 and up</td>\n",
       "    </tr>\n",
       "    <tr>\n",
       "      <th>689</th>\n",
       "      <td>853</td>\n",
       "      <td>Toca Life: City</td>\n",
       "      <td>EDUCATION</td>\n",
       "      <td>4.7</td>\n",
       "      <td>31085</td>\n",
       "      <td>24M</td>\n",
       "      <td>500,000+</td>\n",
       "      <td>Paid</td>\n",
       "      <td>$3.99</td>\n",
       "      <td>Everyone</td>\n",
       "      <td>Education;Pretend Play</td>\n",
       "      <td>July 6, 2018</td>\n",
       "      <td>1.5-play</td>\n",
       "      <td>4.4 and up</td>\n",
       "    </tr>\n",
       "    <tr>\n",
       "      <th>690</th>\n",
       "      <td>854</td>\n",
       "      <td>Toca Life: Hospital</td>\n",
       "      <td>EDUCATION</td>\n",
       "      <td>4.7</td>\n",
       "      <td>3528</td>\n",
       "      <td>24M</td>\n",
       "      <td>100,000+</td>\n",
       "      <td>Paid</td>\n",
       "      <td>$3.99</td>\n",
       "      <td>Everyone</td>\n",
       "      <td>Education;Pretend Play</td>\n",
       "      <td>June 12, 2018</td>\n",
       "      <td>1.1.1-play</td>\n",
       "      <td>4.4 and up</td>\n",
       "    </tr>\n",
       "  </tbody>\n",
       "</table>\n",
       "<p>98 rows × 14 columns</p>\n",
       "</div>"
      ],
      "text/plain": [
       "     unnamed:_0                                                app   category  \\\n",
       "572         699                     Duolingo: Learn Languages Free  EDUCATION   \n",
       "573         700                                                TED  EDUCATION   \n",
       "574         701  English Communication - Learn English for Chin...  EDUCATION   \n",
       "575         702                                       Khan Academy  EDUCATION   \n",
       "576         703                         Learn English with Wlingua  EDUCATION   \n",
       "..          ...                                                ...        ...   \n",
       "684         848                  SoloLearn: Learn to Code for Free  EDUCATION   \n",
       "685         849                     Kids Learn Languages by Mondly  EDUCATION   \n",
       "686         850                        Blinkist - Nonfiction Books  EDUCATION   \n",
       "689         853                                    Toca Life: City  EDUCATION   \n",
       "690         854                                Toca Life: Hospital  EDUCATION   \n",
       "\n",
       "     rating  reviews                size      installs  type  price  \\\n",
       "572     4.7  6289924  Varies with device  100,000,000+  Free      0   \n",
       "573     4.6   181893                 18M   10,000,000+  Free      0   \n",
       "574     4.7     2544                 18M      100,000+  Free      0   \n",
       "575     4.6    85375                 21M    5,000,000+  Free      0   \n",
       "576     4.7   314299                3.3M   10,000,000+  Free      0   \n",
       "..      ...      ...                 ...           ...   ...    ...   \n",
       "684     4.8   256079                7.6M    1,000,000+  Free      0   \n",
       "685     4.4     2078  Varies with device      100,000+  Free      0   \n",
       "686     4.1    16103                 13M    1,000,000+  Free      0   \n",
       "689     4.7    31085                 24M      500,000+  Paid  $3.99   \n",
       "690     4.7     3528                 24M      100,000+  Paid  $3.99   \n",
       "\n",
       "    content_rating                  genres       last_updated  \\\n",
       "572       Everyone     Education;Education     August 1, 2018   \n",
       "573   Everyone 10+               Education      July 27, 2018   \n",
       "574       Everyone               Education  December 29, 2017   \n",
       "575       Everyone               Education      July 27, 2018   \n",
       "576       Everyone               Education        May 2, 2018   \n",
       "..             ...                     ...                ...   \n",
       "684           Teen               Education      July 12, 2018   \n",
       "685       Everyone     Education;Education  December 24, 2017   \n",
       "686       Everyone               Education      July 31, 2018   \n",
       "689       Everyone  Education;Pretend Play       July 6, 2018   \n",
       "690       Everyone  Education;Pretend Play      June 12, 2018   \n",
       "\n",
       "            current_ver         android_ver  \n",
       "572  Varies with device  Varies with device  \n",
       "573               3.2.5          4.1 and up  \n",
       "574                 3.1          4.0 and up  \n",
       "575               5.0.0          4.1 and up  \n",
       "576              1.94.9          4.0 and up  \n",
       "..                  ...                 ...  \n",
       "684               2.2.4        4.0.3 and up  \n",
       "685               1.0.2          4.1 and up  \n",
       "686               5.7.1          4.1 and up  \n",
       "689            1.5-play          4.4 and up  \n",
       "690          1.1.1-play          4.4 and up  \n",
       "\n",
       "[98 rows x 14 columns]"
      ]
     },
     "execution_count": 28,
     "metadata": {},
     "output_type": "execute_result"
    }
   ],
   "source": [
    "playstore = unique_playstore.copy()\n",
    "playstore.columns = playstore.columns.str.lower().str.replace(' ', '_')\n",
    "education_playstore = playstore[(playstore['category'] == 'EDUCATION') & (playstore['reviews'] > 1000)]\n",
    "education_playstore"
   ]
  },
  {
   "cell_type": "code",
   "execution_count": 22,
   "id": "77dca111",
   "metadata": {
    "ExecuteTime": {
     "end_time": "2023-01-21T13:25:49.658536Z",
     "start_time": "2023-01-21T13:25:49.648389Z"
    }
   },
   "outputs": [
    {
     "data": {
      "text/html": [
       "<div>\n",
       "<style scoped>\n",
       "    .dataframe tbody tr th:only-of-type {\n",
       "        vertical-align: middle;\n",
       "    }\n",
       "\n",
       "    .dataframe tbody tr th {\n",
       "        vertical-align: top;\n",
       "    }\n",
       "\n",
       "    .dataframe thead th {\n",
       "        text-align: right;\n",
       "    }\n",
       "</style>\n",
       "<table border=\"1\" class=\"dataframe\">\n",
       "  <thead>\n",
       "    <tr style=\"text-align: right;\">\n",
       "      <th></th>\n",
       "      <th>unnamed:_0</th>\n",
       "      <th>app</th>\n",
       "      <th>category</th>\n",
       "      <th>rating</th>\n",
       "      <th>reviews</th>\n",
       "      <th>size</th>\n",
       "      <th>installs</th>\n",
       "      <th>type</th>\n",
       "      <th>price</th>\n",
       "      <th>content_rating</th>\n",
       "      <th>genres</th>\n",
       "      <th>last_updated</th>\n",
       "      <th>current_ver</th>\n",
       "      <th>android_ver</th>\n",
       "    </tr>\n",
       "  </thead>\n",
       "  <tbody>\n",
       "    <tr>\n",
       "      <th>0</th>\n",
       "      <td>0</td>\n",
       "      <td>Photo Editor &amp; Candy Camera &amp; Grid &amp; ScrapBook</td>\n",
       "      <td>ART_AND_DESIGN</td>\n",
       "      <td>4.1</td>\n",
       "      <td>159</td>\n",
       "      <td>19M</td>\n",
       "      <td>10,000+</td>\n",
       "      <td>Free</td>\n",
       "      <td>0</td>\n",
       "      <td>Everyone</td>\n",
       "      <td>Art &amp; Design</td>\n",
       "      <td>January 7, 2018</td>\n",
       "      <td>1.0.0</td>\n",
       "      <td>4.0.3 and up</td>\n",
       "    </tr>\n",
       "    <tr>\n",
       "      <th>1</th>\n",
       "      <td>1</td>\n",
       "      <td>Coloring book moana</td>\n",
       "      <td>ART_AND_DESIGN</td>\n",
       "      <td>3.9</td>\n",
       "      <td>967</td>\n",
       "      <td>14M</td>\n",
       "      <td>500,000+</td>\n",
       "      <td>Free</td>\n",
       "      <td>0</td>\n",
       "      <td>Everyone</td>\n",
       "      <td>Art &amp; Design;Pretend Play</td>\n",
       "      <td>January 15, 2018</td>\n",
       "      <td>2.0.0</td>\n",
       "      <td>4.0.3 and up</td>\n",
       "    </tr>\n",
       "  </tbody>\n",
       "</table>\n",
       "</div>"
      ],
      "text/plain": [
       "   unnamed:_0                                             app        category  \\\n",
       "0           0  Photo Editor & Candy Camera & Grid & ScrapBook  ART_AND_DESIGN   \n",
       "1           1                             Coloring book moana  ART_AND_DESIGN   \n",
       "\n",
       "   rating  reviews size  installs  type price content_rating  \\\n",
       "0     4.1      159  19M   10,000+  Free     0       Everyone   \n",
       "1     3.9      967  14M  500,000+  Free     0       Everyone   \n",
       "\n",
       "                      genres      last_updated current_ver   android_ver  \n",
       "0               Art & Design   January 7, 2018       1.0.0  4.0.3 and up  \n",
       "1  Art & Design;Pretend Play  January 15, 2018       2.0.0  4.0.3 and up  "
      ]
     },
     "execution_count": 22,
     "metadata": {},
     "output_type": "execute_result"
    }
   ],
   "source": [
    "playstore.head(2)"
   ]
  }
 ],
 "metadata": {
  "kernelspec": {
   "display_name": "Python 3 (ipykernel)",
   "language": "python",
   "name": "python3"
  },
  "language_info": {
   "codemirror_mode": {
    "name": "ipython",
    "version": 3
   },
   "file_extension": ".py",
   "mimetype": "text/x-python",
   "name": "python",
   "nbconvert_exporter": "python",
   "pygments_lexer": "ipython3",
   "version": "3.10.6"
  },
  "varInspector": {
   "cols": {
    "lenName": 16,
    "lenType": 16,
    "lenVar": 40
   },
   "kernels_config": {
    "python": {
     "delete_cmd_postfix": "",
     "delete_cmd_prefix": "del ",
     "library": "var_list.py",
     "varRefreshCmd": "print(var_dic_list())"
    },
    "r": {
     "delete_cmd_postfix": ") ",
     "delete_cmd_prefix": "rm(",
     "library": "var_list.r",
     "varRefreshCmd": "cat(var_dic_list()) "
    }
   },
   "types_to_exclude": [
    "module",
    "function",
    "builtin_function_or_method",
    "instance",
    "_Feature"
   ],
   "window_display": false
  }
 },
 "nbformat": 4,
 "nbformat_minor": 5
}
