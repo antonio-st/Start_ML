{
 "cells": [
  {
   "cell_type": "markdown",
   "id": "07d99116",
   "metadata": {},
   "source": [
    "В заданиях этого урока нам предстоит проанализировать данные об американских закусочных. Мы поищем, где можно купить тако в Калифорнии, в какие месяцы чаще всего открывали рестораны и разберем, какие есть подводные камни при работе с pandas.\n",
    "\n",
    " \n",
    "Описание данных:\n",
    "\n",
    "    id - уникальный идентификатор заведения\n",
    "    address - физический адрес заведения\n",
    "    categories - категории заведения (например, \"Fast food restaurant\").\n",
    "    city - город, в котором заведение находится.\n",
    "    cuisines - кухни, которые практикуются в заведении. Например \"Mexican\".\n",
    "    dateAdded - дата добавления записи. Будем считать, что она совпадает с датой открытия заведения.\n",
    "    dateUpdated - дата обновления информации о заведении.\n",
    "    latitude - географическая широта.\n",
    "    longitude - географическая долгота.\n",
    "    menus.category - категории пищи в меню.\n",
    "    menus.currency - валюта, в которой принимают оплату.\n",
    "    menus.dateSeen - дата, когда было заведено это меню.\n",
    "    menus.description - описание меню от заведения.\n",
    "    menus.name - название меню.\n",
    "    name - название заведения.\n",
    "    province - область (штат), где находится заведение.\n",
    "\n",
    "`2016-03-02T11:49:34Z, 2016-03-02T11:49:34Z, 2016-10-14T01:58:25Z`"
   ]
  },
  {
   "cell_type": "code",
   "execution_count": 1,
   "id": "5aa9a0e5",
   "metadata": {
    "ExecuteTime": {
     "end_time": "2023-02-12T19:36:45.104690Z",
     "start_time": "2023-02-12T19:36:44.546444Z"
    }
   },
   "outputs": [],
   "source": [
    "import pandas as pd\n",
    "df = pd.read_csv('data.csv')"
   ]
  },
  {
   "cell_type": "markdown",
   "id": "b31aa435",
   "metadata": {},
   "source": [
    "## 1\n",
    "\n",
    "В качестве первого шага давайте посмотрим на наши данные c помощью метода head()\n",
    "\n",
    "Перечислите первые три значения колонки dateAdded через запятую и пробел в том порядке, в котором они были выведены. Например:"
   ]
  },
  {
   "cell_type": "code",
   "execution_count": 2,
   "id": "1344e222",
   "metadata": {
    "ExecuteTime": {
     "end_time": "2023-01-21T05:47:45.820683Z",
     "start_time": "2023-01-21T05:47:45.815312Z"
    },
    "scrolled": true
   },
   "outputs": [
    {
     "data": {
      "text/plain": [
       "['2016-03-02T11:49:34Z', '2016-03-02T11:49:34Z', '2016-10-14T01:58:25Z']"
      ]
     },
     "execution_count": 2,
     "metadata": {},
     "output_type": "execute_result"
    }
   ],
   "source": [
    "list(df['dateAdded'].head(3))"
   ]
  },
  {
   "cell_type": "code",
   "execution_count": 165,
   "id": "d52b266e",
   "metadata": {
    "ExecuteTime": {
     "end_time": "2023-01-21T10:33:52.975200Z",
     "start_time": "2023-01-21T10:33:52.968093Z"
    }
   },
   "outputs": [
    {
     "data": {
      "text/plain": [
       "['2016-03-02T11:49:34Z', '2016-03-02T11:49:34Z', '2016-10-14T01:58:25Z']"
      ]
     },
     "execution_count": 165,
     "metadata": {},
     "output_type": "execute_result"
    }
   ],
   "source": [
    "# или слайсом\n",
    "list(df['dateAdded'][:3])"
   ]
  },
  {
   "cell_type": "markdown",
   "id": "c8d1268e",
   "metadata": {},
   "source": [
    "## 2\n",
    "\n",
    "Давайте посмотрим, какой тип имеют колонки city и latitude.\n",
    "\n",
    "Введите через пробел названия типов.\n"
   ]
  },
  {
   "cell_type": "code",
   "execution_count": 3,
   "id": "8604394d",
   "metadata": {
    "ExecuteTime": {
     "end_time": "2023-01-21T05:47:45.834264Z",
     "start_time": "2023-01-21T05:47:45.823183Z"
    }
   },
   "outputs": [
    {
     "data": {
      "text/plain": [
       "city         object\n",
       "latitude    float64\n",
       "dtype: object"
      ]
     },
     "execution_count": 3,
     "metadata": {},
     "output_type": "execute_result"
    }
   ],
   "source": [
    "df[['city', 'latitude']].dtypes"
   ]
  },
  {
   "cell_type": "markdown",
   "id": "bac773eb",
   "metadata": {},
   "source": [
    "## 3\n",
    "\n",
    "Какие колонки будут выведены при применении метода `describe` и почему только они?\n",
    "\n",
    "`latitude, longitude, потому что это единственные численные колонки`"
   ]
  },
  {
   "cell_type": "code",
   "execution_count": 4,
   "id": "6fdc2d0b",
   "metadata": {
    "ExecuteTime": {
     "end_time": "2023-01-21T05:47:45.855260Z",
     "start_time": "2023-01-21T05:47:45.836185Z"
    }
   },
   "outputs": [
    {
     "data": {
      "text/plain": [
       "['latitude', 'longitude']"
      ]
     },
     "execution_count": 4,
     "metadata": {},
     "output_type": "execute_result"
    }
   ],
   "source": [
    "df.dtypes\n",
    "# latitude             float64\n",
    "# longitude            float64\n",
    "\n",
    "df.describe().columns.tolist() # только те, где есть значения"
   ]
  },
  {
   "cell_type": "markdown",
   "id": "5f95c276",
   "metadata": {},
   "source": [
    "## 4\n",
    "\n",
    "Какие средние значения в тех колонках, которые вывел describe в предыдущем задании?\n",
    "\n",
    "Укажите их через пробел, округлив до двух знаков после запятой. Используйте точку в качестве десятичного разделителя."
   ]
  },
  {
   "cell_type": "code",
   "execution_count": 5,
   "id": "fb7bc603",
   "metadata": {
    "ExecuteTime": {
     "end_time": "2023-01-21T05:47:45.888679Z",
     "start_time": "2023-01-21T05:47:45.859263Z"
    }
   },
   "outputs": [
    {
     "name": "stdout",
     "output_type": "stream",
     "text": [
      "36.69 -98.71\n"
     ]
    }
   ],
   "source": [
    "lat = df.describe().loc['mean'][0].round(2)\n",
    "long = df.describe().loc['mean'][1].round(2)\n",
    "\n",
    "print(f'{lat} {long}')\n",
    "#.\\round(2).to_list()"
   ]
  },
  {
   "cell_type": "markdown",
   "id": "107ddf95",
   "metadata": {},
   "source": [
    "## 5\n",
    "\n",
    "Сейчас в данных присутствуют пропущенные значения. Давайте их удалим.\n",
    "\n",
    "Примените метод dropna.  Сколько осталось записей?"
   ]
  },
  {
   "cell_type": "code",
   "execution_count": 6,
   "id": "d3472c3b",
   "metadata": {
    "ExecuteTime": {
     "end_time": "2023-01-21T05:47:46.032362Z",
     "start_time": "2023-01-21T05:47:45.892440Z"
    }
   },
   "outputs": [
    {
     "data": {
      "text/plain": [
       "1925"
      ]
     },
     "execution_count": 6,
     "metadata": {},
     "output_type": "execute_result"
    }
   ],
   "source": [
    "len(df.dropna())\n",
    "\n",
    "# Абсолютно равносильный код:\n",
    "# tmp = data.dropna()\n",
    "# tmp.shape"
   ]
  },
  {
   "cell_type": "markdown",
   "id": "202a2688",
   "metadata": {},
   "source": [
    "## 6\n",
    "\n",
    "Отберите заведения, которые находятся в городе Калифорния ('California'), штат Миссури.  Укажите индексы, под которыми полученные заведения расположены в датафрейме, через запятую и пробел в порядке возрастания. \n",
    "\n",
    "Например:\n",
    "```\n",
    "11235, 12457, 77980, 88901\n",
    "\n",
    "```\n",
    "NB! В текущем и последующих заданиях вся работа происходит с изначальным датафреймом. Результат предыдущего задания не учитывается"
   ]
  },
  {
   "cell_type": "code",
   "execution_count": 4,
   "id": "38af8315",
   "metadata": {
    "ExecuteTime": {
     "end_time": "2023-02-12T19:37:06.910919Z",
     "start_time": "2023-02-12T19:37:06.902127Z"
    }
   },
   "outputs": [
    {
     "data": {
      "text/plain": [
       "<bound method IndexOpsMixin.tolist of Int64Index([40483, 52930, 52931, 52932, 52933, 52934, 52935, 52936, 52937,\n",
       "            52938, 52939, 65070],\n",
       "           dtype='int64')>"
      ]
     },
     "execution_count": 4,
     "metadata": {},
     "output_type": "execute_result"
    }
   ],
   "source": [
    "df[df['city'] == 'California'].index.sort_values().to_list"
   ]
  },
  {
   "cell_type": "markdown",
   "id": "069af4a1",
   "metadata": {
    "ExecuteTime": {
     "end_time": "2023-01-20T18:31:50.202081Z",
     "start_time": "2023-01-20T18:31:50.193537Z"
    }
   },
   "source": [
    "## 7\n",
    "\n",
    "Отберите заведения Taco Bell в городе Калифорния ('California'), штат Миссури.\n",
    "\n",
    "Укажите индексы этих заведений через запятую и пробел в порядке возрастания."
   ]
  },
  {
   "cell_type": "code",
   "execution_count": 8,
   "id": "7bbc6f13",
   "metadata": {
    "ExecuteTime": {
     "end_time": "2023-01-21T05:47:46.062457Z",
     "start_time": "2023-01-21T05:47:46.050066Z"
    }
   },
   "outputs": [
    {
     "data": {
      "text/plain": [
       "Int64Index([52930, 52931, 52932, 52933, 52934, 52935, 52936, 52937, 52938,\n",
       "            52939],\n",
       "           dtype='int64')"
      ]
     },
     "execution_count": 8,
     "metadata": {},
     "output_type": "execute_result"
    }
   ],
   "source": [
    "df[(df['name'] == 'Taco Bell') & (df['city'] == 'California')].index.sort_values()"
   ]
  },
  {
   "cell_type": "markdown",
   "id": "a68aea2b",
   "metadata": {},
   "source": [
    "## 8\n",
    "Давайте\n",
    "- найдем заведения Taco Bell или заведения, которые находятся в городе Нью-Йорк. \n",
    "- При этом обязательно, чтобы в названии меню не было Volcano Taco и Fresco Soft Taco (именно таких значений колонки). \n",
    "- Данные нужно сохранить в датафрейм result."
   ]
  },
  {
   "cell_type": "code",
   "execution_count": 9,
   "id": "1ee2cceb",
   "metadata": {
    "ExecuteTime": {
     "end_time": "2023-01-21T05:47:46.102713Z",
     "start_time": "2023-01-21T05:47:46.064296Z"
    }
   },
   "outputs": [
    {
     "data": {
      "text/html": [
       "<div>\n",
       "<style scoped>\n",
       "    .dataframe tbody tr th:only-of-type {\n",
       "        vertical-align: middle;\n",
       "    }\n",
       "\n",
       "    .dataframe tbody tr th {\n",
       "        vertical-align: top;\n",
       "    }\n",
       "\n",
       "    .dataframe thead th {\n",
       "        text-align: right;\n",
       "    }\n",
       "</style>\n",
       "<table border=\"1\" class=\"dataframe\">\n",
       "  <thead>\n",
       "    <tr style=\"text-align: right;\">\n",
       "      <th></th>\n",
       "      <th>id</th>\n",
       "      <th>address</th>\n",
       "      <th>categories</th>\n",
       "      <th>city</th>\n",
       "      <th>cuisines</th>\n",
       "      <th>dateAdded</th>\n",
       "      <th>dateUpdated</th>\n",
       "      <th>latitude</th>\n",
       "      <th>longitude</th>\n",
       "      <th>menus.category</th>\n",
       "      <th>menus.currency</th>\n",
       "      <th>menus.dateSeen</th>\n",
       "      <th>menus.description</th>\n",
       "      <th>menus.name</th>\n",
       "      <th>name</th>\n",
       "      <th>province</th>\n",
       "    </tr>\n",
       "  </thead>\n",
       "  <tbody>\n",
       "    <tr>\n",
       "      <th>131</th>\n",
       "      <td>AVwc_9yCByjofQCxkdRX</td>\n",
       "      <td>322 S. Broadway</td>\n",
       "      <td>Fast Food,Restaurants,Mexican,Breakfast,Vegeta...</td>\n",
       "      <td>Salem</td>\n",
       "      <td>Mexican</td>\n",
       "      <td>2016-03-28T06:01:51Z</td>\n",
       "      <td>2017-06-27T10:01:48Z</td>\n",
       "      <td>42.755023</td>\n",
       "      <td>-71.20944</td>\n",
       "      <td>NaN</td>\n",
       "      <td>NaN</td>\n",
       "      <td>2016-03-28T06:01:51Z,2016-06-06T16:15:44Z</td>\n",
       "      <td>NaN</td>\n",
       "      <td>Volcano Burrito</td>\n",
       "      <td>Taco Bell</td>\n",
       "      <td>NH</td>\n",
       "    </tr>\n",
       "    <tr>\n",
       "      <th>132</th>\n",
       "      <td>AVwc_9yCByjofQCxkdRX</td>\n",
       "      <td>322 S. Broadway</td>\n",
       "      <td>Fast Food,Restaurants,Mexican,Breakfast,Vegeta...</td>\n",
       "      <td>Salem</td>\n",
       "      <td>Mexican</td>\n",
       "      <td>2016-03-28T06:01:51Z</td>\n",
       "      <td>2017-06-27T10:01:48Z</td>\n",
       "      <td>42.755023</td>\n",
       "      <td>-71.20944</td>\n",
       "      <td>NaN</td>\n",
       "      <td>NaN</td>\n",
       "      <td>2016-03-28T06:01:51Z,2016-06-06T16:15:44Z</td>\n",
       "      <td>NaN</td>\n",
       "      <td>Taco 12 Pack</td>\n",
       "      <td>Taco Bell</td>\n",
       "      <td>NH</td>\n",
       "    </tr>\n",
       "    <tr>\n",
       "      <th>133</th>\n",
       "      <td>AVwc_9yCByjofQCxkdRX</td>\n",
       "      <td>322 S. Broadway</td>\n",
       "      <td>Fast Food,Restaurants,Mexican,Breakfast,Vegeta...</td>\n",
       "      <td>Salem</td>\n",
       "      <td>Mexican</td>\n",
       "      <td>2016-03-28T06:01:51Z</td>\n",
       "      <td>2017-06-27T10:01:48Z</td>\n",
       "      <td>42.755023</td>\n",
       "      <td>-71.20944</td>\n",
       "      <td>NaN</td>\n",
       "      <td>NaN</td>\n",
       "      <td>2016-03-28T06:01:51Z,2016-06-06T16:15:44Z</td>\n",
       "      <td>NaN</td>\n",
       "      <td>Grilled Steak Soft Taco</td>\n",
       "      <td>Taco Bell</td>\n",
       "      <td>NH</td>\n",
       "    </tr>\n",
       "    <tr>\n",
       "      <th>135</th>\n",
       "      <td>AVwc_9yCByjofQCxkdRX</td>\n",
       "      <td>322 S. Broadway</td>\n",
       "      <td>Fast Food,Restaurants,Mexican,Breakfast,Vegeta...</td>\n",
       "      <td>Salem</td>\n",
       "      <td>Mexican</td>\n",
       "      <td>2016-03-28T06:01:51Z</td>\n",
       "      <td>2017-06-27T10:01:48Z</td>\n",
       "      <td>42.755023</td>\n",
       "      <td>-71.20944</td>\n",
       "      <td>NaN</td>\n",
       "      <td>NaN</td>\n",
       "      <td>2016-03-28T06:01:51Z,2016-06-06T16:15:44Z</td>\n",
       "      <td>NaN</td>\n",
       "      <td>Fresco Grilled Steak Soft Taco</td>\n",
       "      <td>Taco Bell</td>\n",
       "      <td>NH</td>\n",
       "    </tr>\n",
       "    <tr>\n",
       "      <th>136</th>\n",
       "      <td>AVwc_9yCByjofQCxkdRX</td>\n",
       "      <td>322 S. Broadway</td>\n",
       "      <td>Fast Food,Restaurants,Mexican,Breakfast,Vegeta...</td>\n",
       "      <td>Salem</td>\n",
       "      <td>Mexican</td>\n",
       "      <td>2016-03-28T06:01:51Z</td>\n",
       "      <td>2017-06-27T10:01:48Z</td>\n",
       "      <td>42.755023</td>\n",
       "      <td>-71.20944</td>\n",
       "      <td>NaN</td>\n",
       "      <td>NaN</td>\n",
       "      <td>2016-03-28T06:01:51Z,2016-06-06T16:15:44Z</td>\n",
       "      <td>NaN</td>\n",
       "      <td>Fresco Crunchy Taco</td>\n",
       "      <td>Taco Bell</td>\n",
       "      <td>NH</td>\n",
       "    </tr>\n",
       "  </tbody>\n",
       "</table>\n",
       "</div>"
      ],
      "text/plain": [
       "                       id          address  \\\n",
       "131  AVwc_9yCByjofQCxkdRX  322 S. Broadway   \n",
       "132  AVwc_9yCByjofQCxkdRX  322 S. Broadway   \n",
       "133  AVwc_9yCByjofQCxkdRX  322 S. Broadway   \n",
       "135  AVwc_9yCByjofQCxkdRX  322 S. Broadway   \n",
       "136  AVwc_9yCByjofQCxkdRX  322 S. Broadway   \n",
       "\n",
       "                                            categories   city cuisines  \\\n",
       "131  Fast Food,Restaurants,Mexican,Breakfast,Vegeta...  Salem  Mexican   \n",
       "132  Fast Food,Restaurants,Mexican,Breakfast,Vegeta...  Salem  Mexican   \n",
       "133  Fast Food,Restaurants,Mexican,Breakfast,Vegeta...  Salem  Mexican   \n",
       "135  Fast Food,Restaurants,Mexican,Breakfast,Vegeta...  Salem  Mexican   \n",
       "136  Fast Food,Restaurants,Mexican,Breakfast,Vegeta...  Salem  Mexican   \n",
       "\n",
       "                dateAdded           dateUpdated   latitude  longitude  \\\n",
       "131  2016-03-28T06:01:51Z  2017-06-27T10:01:48Z  42.755023  -71.20944   \n",
       "132  2016-03-28T06:01:51Z  2017-06-27T10:01:48Z  42.755023  -71.20944   \n",
       "133  2016-03-28T06:01:51Z  2017-06-27T10:01:48Z  42.755023  -71.20944   \n",
       "135  2016-03-28T06:01:51Z  2017-06-27T10:01:48Z  42.755023  -71.20944   \n",
       "136  2016-03-28T06:01:51Z  2017-06-27T10:01:48Z  42.755023  -71.20944   \n",
       "\n",
       "    menus.category menus.currency                             menus.dateSeen  \\\n",
       "131            NaN            NaN  2016-03-28T06:01:51Z,2016-06-06T16:15:44Z   \n",
       "132            NaN            NaN  2016-03-28T06:01:51Z,2016-06-06T16:15:44Z   \n",
       "133            NaN            NaN  2016-03-28T06:01:51Z,2016-06-06T16:15:44Z   \n",
       "135            NaN            NaN  2016-03-28T06:01:51Z,2016-06-06T16:15:44Z   \n",
       "136            NaN            NaN  2016-03-28T06:01:51Z,2016-06-06T16:15:44Z   \n",
       "\n",
       "    menus.description                      menus.name       name province  \n",
       "131               NaN                 Volcano Burrito  Taco Bell       NH  \n",
       "132               NaN                    Taco 12 Pack  Taco Bell       NH  \n",
       "133               NaN         Grilled Steak Soft Taco  Taco Bell       NH  \n",
       "135               NaN  Fresco Grilled Steak Soft Taco  Taco Bell       NH  \n",
       "136               NaN             Fresco Crunchy Taco  Taco Bell       NH  "
      ]
     },
     "execution_count": 9,
     "metadata": {},
     "output_type": "execute_result"
    }
   ],
   "source": [
    "data = df.copy()\n",
    "result = data[( (data['name'] == 'Taco Bell') | (data['city'] == 'New York') ) \\\n",
    "     & ( ~ data['menus.name'].isin(['Volcano Taco', 'Fresco Soft Taco'])  )]\n",
    "result.head(5)"
   ]
  },
  {
   "cell_type": "markdown",
   "id": "e3969eb3",
   "metadata": {},
   "source": [
    "## 9\n",
    "\n",
    "Давайте отберем рестораны, где значение валюты, в которой принимают оплату, не пропущено.\n",
    "\n",
    "Нужно сохранить данные в результирующий датафрейм result.\n",
    "\n",
    "Данные загружены data. "
   ]
  },
  {
   "cell_type": "code",
   "execution_count": 10,
   "id": "829066df",
   "metadata": {
    "ExecuteTime": {
     "end_time": "2023-01-21T05:47:46.126215Z",
     "start_time": "2023-01-21T05:47:46.105841Z"
    },
    "scrolled": true
   },
   "outputs": [
    {
     "data": {
      "text/html": [
       "<div>\n",
       "<style scoped>\n",
       "    .dataframe tbody tr th:only-of-type {\n",
       "        vertical-align: middle;\n",
       "    }\n",
       "\n",
       "    .dataframe tbody tr th {\n",
       "        vertical-align: top;\n",
       "    }\n",
       "\n",
       "    .dataframe thead th {\n",
       "        text-align: right;\n",
       "    }\n",
       "</style>\n",
       "<table border=\"1\" class=\"dataframe\">\n",
       "  <thead>\n",
       "    <tr style=\"text-align: right;\">\n",
       "      <th></th>\n",
       "      <th>id</th>\n",
       "      <th>address</th>\n",
       "      <th>categories</th>\n",
       "      <th>city</th>\n",
       "      <th>cuisines</th>\n",
       "      <th>dateAdded</th>\n",
       "      <th>dateUpdated</th>\n",
       "      <th>latitude</th>\n",
       "      <th>longitude</th>\n",
       "      <th>menus.category</th>\n",
       "      <th>menus.currency</th>\n",
       "      <th>menus.dateSeen</th>\n",
       "      <th>menus.description</th>\n",
       "      <th>menus.name</th>\n",
       "      <th>name</th>\n",
       "      <th>province</th>\n",
       "    </tr>\n",
       "  </thead>\n",
       "  <tbody>\n",
       "    <tr>\n",
       "      <th>15</th>\n",
       "      <td>AVwc_1y6kufWRAb51O6w</td>\n",
       "      <td>906 Park Ave SW</td>\n",
       "      <td>Coffee Shop,Restaurants,Coffeehouses</td>\n",
       "      <td>Albuquerque</td>\n",
       "      <td>Coffee Shops</td>\n",
       "      <td>2016-06-05T20:15:56Z</td>\n",
       "      <td>2017-07-06T13:28:29Z</td>\n",
       "      <td>35.08532</td>\n",
       "      <td>-106.657616</td>\n",
       "      <td>NaN</td>\n",
       "      <td>USD</td>\n",
       "      <td>2016-06-05T20:15:56Z,2016-10-20T07:09:38Z</td>\n",
       "      <td>Potatoes, onion, peppers, mushroom, avocado, b...</td>\n",
       "      <td>Mondo Veggie Burrito</td>\n",
       "      <td>Java Joe's</td>\n",
       "      <td>NM</td>\n",
       "    </tr>\n",
       "    <tr>\n",
       "      <th>16</th>\n",
       "      <td>AVwc_1y6kufWRAb51O6w</td>\n",
       "      <td>906 Park Ave SW</td>\n",
       "      <td>Coffee Shop,Restaurants,Coffeehouses</td>\n",
       "      <td>Albuquerque</td>\n",
       "      <td>Coffee Shops</td>\n",
       "      <td>2016-06-05T20:15:56Z</td>\n",
       "      <td>2017-07-06T13:28:29Z</td>\n",
       "      <td>35.08532</td>\n",
       "      <td>-106.657616</td>\n",
       "      <td>NaN</td>\n",
       "      <td>USD</td>\n",
       "      <td>2016-06-05T20:15:56Z,2016-10-20T07:09:38Z</td>\n",
       "      <td>Grilled tofu, potatoes and your choice of chil...</td>\n",
       "      <td>Tofu Burrito</td>\n",
       "      <td>Java Joe's</td>\n",
       "      <td>NM</td>\n",
       "    </tr>\n",
       "    <tr>\n",
       "      <th>17</th>\n",
       "      <td>AVwc_1y6kufWRAb51O6w</td>\n",
       "      <td>906 Park Ave SW</td>\n",
       "      <td>Coffee Shop,Restaurants,Coffeehouses</td>\n",
       "      <td>Albuquerque</td>\n",
       "      <td>Coffee Shops</td>\n",
       "      <td>2016-06-05T20:15:56Z</td>\n",
       "      <td>2017-07-06T13:28:29Z</td>\n",
       "      <td>35.08532</td>\n",
       "      <td>-106.657616</td>\n",
       "      <td>NaN</td>\n",
       "      <td>USD</td>\n",
       "      <td>2016-06-05T20:15:56Z,2016-10-20T07:09:38Z</td>\n",
       "      <td>NaN</td>\n",
       "      <td>Black Bean Burrito</td>\n",
       "      <td>Java Joe's</td>\n",
       "      <td>NM</td>\n",
       "    </tr>\n",
       "  </tbody>\n",
       "</table>\n",
       "</div>"
      ],
      "text/plain": [
       "                      id          address  \\\n",
       "15  AVwc_1y6kufWRAb51O6w  906 Park Ave SW   \n",
       "16  AVwc_1y6kufWRAb51O6w  906 Park Ave SW   \n",
       "17  AVwc_1y6kufWRAb51O6w  906 Park Ave SW   \n",
       "\n",
       "                              categories         city      cuisines  \\\n",
       "15  Coffee Shop,Restaurants,Coffeehouses  Albuquerque  Coffee Shops   \n",
       "16  Coffee Shop,Restaurants,Coffeehouses  Albuquerque  Coffee Shops   \n",
       "17  Coffee Shop,Restaurants,Coffeehouses  Albuquerque  Coffee Shops   \n",
       "\n",
       "               dateAdded           dateUpdated  latitude   longitude  \\\n",
       "15  2016-06-05T20:15:56Z  2017-07-06T13:28:29Z  35.08532 -106.657616   \n",
       "16  2016-06-05T20:15:56Z  2017-07-06T13:28:29Z  35.08532 -106.657616   \n",
       "17  2016-06-05T20:15:56Z  2017-07-06T13:28:29Z  35.08532 -106.657616   \n",
       "\n",
       "   menus.category menus.currency                             menus.dateSeen  \\\n",
       "15            NaN            USD  2016-06-05T20:15:56Z,2016-10-20T07:09:38Z   \n",
       "16            NaN            USD  2016-06-05T20:15:56Z,2016-10-20T07:09:38Z   \n",
       "17            NaN            USD  2016-06-05T20:15:56Z,2016-10-20T07:09:38Z   \n",
       "\n",
       "                                    menus.description            menus.name  \\\n",
       "15  Potatoes, onion, peppers, mushroom, avocado, b...  Mondo Veggie Burrito   \n",
       "16  Grilled tofu, potatoes and your choice of chil...          Tofu Burrito   \n",
       "17                                                NaN    Black Bean Burrito   \n",
       "\n",
       "          name province  \n",
       "15  Java Joe's       NM  \n",
       "16  Java Joe's       NM  \n",
       "17  Java Joe's       NM  "
      ]
     },
     "execution_count": 10,
     "metadata": {},
     "output_type": "execute_result"
    }
   ],
   "source": [
    " result = data[~ data['menus.currency'].isna()]\n",
    "result.head(3)\n",
    "# result = data[data['menus.currency'].notna()]"
   ]
  },
  {
   "cell_type": "markdown",
   "id": "a0d3fc6c",
   "metadata": {},
   "source": [
    "## 10\n",
    "\n",
    "Попробуйте сделать `data['categories'], data[['categories']],` посмотрите на тип и на значения их элементов.\n",
    "\n",
    "Выберете подходящие значения.\n",
    "\n",
    "`data['categories'] выдает Series, data[['categories']] выдает DataFrame. В обоих случаях тип данных object`"
   ]
  },
  {
   "cell_type": "code",
   "execution_count": 11,
   "id": "f0a46ffd",
   "metadata": {
    "ExecuteTime": {
     "end_time": "2023-01-21T05:47:46.131391Z",
     "start_time": "2023-01-21T05:47:46.127851Z"
    },
    "scrolled": true
   },
   "outputs": [
    {
     "data": {
      "text/plain": [
       "0        Restaurant Delivery Service,Restaurants,Pizza,...\n",
       "1        Restaurant Delivery Service,Restaurants,Pizza,...\n",
       "2             Golf Course, American Restaurant, and Resort\n",
       "3                                     Fast Food Restaurant\n",
       "4        Mexican Restaurant Mid-City West,Mexican Resta...\n",
       "                               ...                        \n",
       "77255                                           Restaurant\n",
       "77256                                           Restaurant\n",
       "77257                                           Restaurant\n",
       "77258                                           Restaurant\n",
       "77259                                           Restaurant\n",
       "Name: categories, Length: 77260, dtype: object"
      ]
     },
     "execution_count": 11,
     "metadata": {},
     "output_type": "execute_result"
    }
   ],
   "source": [
    "type(data['categories'])\n",
    "# pandas.core.series.Series\n",
    "data['categories']"
   ]
  },
  {
   "cell_type": "code",
   "execution_count": 12,
   "id": "03c2a851",
   "metadata": {
    "ExecuteTime": {
     "end_time": "2023-01-21T05:47:46.145302Z",
     "start_time": "2023-01-21T05:47:46.133170Z"
    }
   },
   "outputs": [
    {
     "data": {
      "text/html": [
       "<div>\n",
       "<style scoped>\n",
       "    .dataframe tbody tr th:only-of-type {\n",
       "        vertical-align: middle;\n",
       "    }\n",
       "\n",
       "    .dataframe tbody tr th {\n",
       "        vertical-align: top;\n",
       "    }\n",
       "\n",
       "    .dataframe thead th {\n",
       "        text-align: right;\n",
       "    }\n",
       "</style>\n",
       "<table border=\"1\" class=\"dataframe\">\n",
       "  <thead>\n",
       "    <tr style=\"text-align: right;\">\n",
       "      <th></th>\n",
       "      <th>categories</th>\n",
       "    </tr>\n",
       "  </thead>\n",
       "  <tbody>\n",
       "    <tr>\n",
       "      <th>0</th>\n",
       "      <td>Restaurant Delivery Service,Restaurants,Pizza,...</td>\n",
       "    </tr>\n",
       "    <tr>\n",
       "      <th>1</th>\n",
       "      <td>Restaurant Delivery Service,Restaurants,Pizza,...</td>\n",
       "    </tr>\n",
       "    <tr>\n",
       "      <th>2</th>\n",
       "      <td>Golf Course, American Restaurant, and Resort</td>\n",
       "    </tr>\n",
       "    <tr>\n",
       "      <th>3</th>\n",
       "      <td>Fast Food Restaurant</td>\n",
       "    </tr>\n",
       "    <tr>\n",
       "      <th>4</th>\n",
       "      <td>Mexican Restaurant Mid-City West,Mexican Resta...</td>\n",
       "    </tr>\n",
       "    <tr>\n",
       "      <th>...</th>\n",
       "      <td>...</td>\n",
       "    </tr>\n",
       "    <tr>\n",
       "      <th>77255</th>\n",
       "      <td>Restaurant</td>\n",
       "    </tr>\n",
       "    <tr>\n",
       "      <th>77256</th>\n",
       "      <td>Restaurant</td>\n",
       "    </tr>\n",
       "    <tr>\n",
       "      <th>77257</th>\n",
       "      <td>Restaurant</td>\n",
       "    </tr>\n",
       "    <tr>\n",
       "      <th>77258</th>\n",
       "      <td>Restaurant</td>\n",
       "    </tr>\n",
       "    <tr>\n",
       "      <th>77259</th>\n",
       "      <td>Restaurant</td>\n",
       "    </tr>\n",
       "  </tbody>\n",
       "</table>\n",
       "<p>77260 rows × 1 columns</p>\n",
       "</div>"
      ],
      "text/plain": [
       "                                              categories\n",
       "0      Restaurant Delivery Service,Restaurants,Pizza,...\n",
       "1      Restaurant Delivery Service,Restaurants,Pizza,...\n",
       "2           Golf Course, American Restaurant, and Resort\n",
       "3                                   Fast Food Restaurant\n",
       "4      Mexican Restaurant Mid-City West,Mexican Resta...\n",
       "...                                                  ...\n",
       "77255                                         Restaurant\n",
       "77256                                         Restaurant\n",
       "77257                                         Restaurant\n",
       "77258                                         Restaurant\n",
       "77259                                         Restaurant\n",
       "\n",
       "[77260 rows x 1 columns]"
      ]
     },
     "execution_count": 12,
     "metadata": {},
     "output_type": "execute_result"
    }
   ],
   "source": [
    "type(data[['categories']])\n",
    "# pandas.core.frame.DataFrame\n",
    "data[['categories']]"
   ]
  },
  {
   "cell_type": "markdown",
   "id": "81cadef2",
   "metadata": {},
   "source": [
    "## 11\n",
    "Напишите через запятую и пробел 5 городов с наибольшим количеством записей."
   ]
  },
  {
   "cell_type": "code",
   "execution_count": 13,
   "id": "9db480ad",
   "metadata": {
    "ExecuteTime": {
     "end_time": "2023-01-21T05:47:46.157261Z",
     "start_time": "2023-01-21T05:47:46.147068Z"
    }
   },
   "outputs": [
    {
     "data": {
      "text/plain": [
       "Index(['San Diego', 'Los Angeles', 'Chicago', 'San Francisco', 'New York'], dtype='object')"
      ]
     },
     "execution_count": 13,
     "metadata": {},
     "output_type": "execute_result"
    }
   ],
   "source": [
    "data.city.value_counts().head(5).index"
   ]
  },
  {
   "cell_type": "markdown",
   "id": "a9f9aaa3",
   "metadata": {},
   "source": [
    "## 12\n",
    "\n",
    "Посчитайте, сколько ресторанов Taco Bell находится в каждом городе. Отберите 5 городов, в которых ресторан встречается чаще всего. Количество ресторанов для этих городов с их названиями сохраните в виде объекта pd.Series в переменную result.\n",
    "\n",
    "Данные сохранены в переменную data"
   ]
  },
  {
   "cell_type": "code",
   "execution_count": 75,
   "id": "97b0db30",
   "metadata": {
    "ExecuteTime": {
     "end_time": "2023-01-21T06:21:43.213166Z",
     "start_time": "2023-01-21T06:21:43.191029Z"
    }
   },
   "outputs": [
    {
     "data": {
      "text/html": [
       "<div>\n",
       "<style scoped>\n",
       "    .dataframe tbody tr th:only-of-type {\n",
       "        vertical-align: middle;\n",
       "    }\n",
       "\n",
       "    .dataframe tbody tr th {\n",
       "        vertical-align: top;\n",
       "    }\n",
       "\n",
       "    .dataframe thead th {\n",
       "        text-align: right;\n",
       "    }\n",
       "</style>\n",
       "<table border=\"1\" class=\"dataframe\">\n",
       "  <thead>\n",
       "    <tr style=\"text-align: right;\">\n",
       "      <th></th>\n",
       "      <th>city</th>\n",
       "      <th>name</th>\n",
       "    </tr>\n",
       "  </thead>\n",
       "  <tbody>\n",
       "    <tr>\n",
       "      <th>51</th>\n",
       "      <td>Indianapolis</td>\n",
       "      <td>84</td>\n",
       "    </tr>\n",
       "    <tr>\n",
       "      <th>30</th>\n",
       "      <td>Columbus</td>\n",
       "      <td>63</td>\n",
       "    </tr>\n",
       "    <tr>\n",
       "      <th>21</th>\n",
       "      <td>Charleston</td>\n",
       "      <td>63</td>\n",
       "    </tr>\n",
       "    <tr>\n",
       "      <th>117</th>\n",
       "      <td>Tampa</td>\n",
       "      <td>62</td>\n",
       "    </tr>\n",
       "    <tr>\n",
       "      <th>132</th>\n",
       "      <td>Yukon</td>\n",
       "      <td>42</td>\n",
       "    </tr>\n",
       "  </tbody>\n",
       "</table>\n",
       "</div>"
      ],
      "text/plain": [
       "             city  name\n",
       "51   Indianapolis    84\n",
       "30       Columbus    63\n",
       "21     Charleston    63\n",
       "117         Tampa    62\n",
       "132         Yukon    42"
      ]
     },
     "execution_count": 75,
     "metadata": {},
     "output_type": "execute_result"
    }
   ],
   "source": [
    "data[data['name'] == 'Taco Bell'].groupby('city',as_index=False).agg({'name': 'count'}).\\\n",
    "sort_values(['name','city'], ascending=False)[:5]"
   ]
  },
  {
   "cell_type": "code",
   "execution_count": 16,
   "id": "91e46749",
   "metadata": {
    "ExecuteTime": {
     "end_time": "2023-01-21T05:47:46.209611Z",
     "start_time": "2023-01-21T05:47:46.201230Z"
    }
   },
   "outputs": [
    {
     "data": {
      "text/plain": [
       "Indianapolis        84\n",
       "Columbus            63\n",
       "Charleston          63\n",
       "Tampa               62\n",
       "South Lake Tahoe    42\n",
       "Name: city, dtype: int64"
      ]
     },
     "execution_count": 16,
     "metadata": {},
     "output_type": "execute_result"
    }
   ],
   "source": [
    "result = data[data['name'] == 'Taco Bell'].city.value_counts()[:5]\n",
    "result"
   ]
  },
  {
   "cell_type": "markdown",
   "id": "caa08fa7",
   "metadata": {},
   "source": [
    "## 13\n",
    "\n",
    "Давайте найдем рестораны, открытые в октябре.\n",
    "\n",
    "Отправьте индексы первых пяти ресторанов через запятую и пробел в порядке возрастания.\n",
    "\n",
    "Советуем вам посмотреть в сторону метода to_datetime.\n"
   ]
  },
  {
   "cell_type": "code",
   "execution_count": 29,
   "id": "f79557e9",
   "metadata": {
    "ExecuteTime": {
     "end_time": "2023-01-21T05:54:17.587740Z",
     "start_time": "2023-01-21T05:54:17.576360Z"
    },
    "scrolled": false
   },
   "outputs": [
    {
     "data": {
      "text/plain": [
       "dtype('O')"
      ]
     },
     "execution_count": 29,
     "metadata": {},
     "output_type": "execute_result"
    }
   ],
   "source": [
    "df.dateAdded.dtypes"
   ]
  },
  {
   "cell_type": "code",
   "execution_count": 33,
   "id": "7693abd6",
   "metadata": {
    "ExecuteTime": {
     "end_time": "2023-01-21T05:57:04.438958Z",
     "start_time": "2023-01-21T05:57:04.405964Z"
    }
   },
   "outputs": [
    {
     "data": {
      "text/plain": [
       "datetime64[ns, UTC]"
      ]
     },
     "execution_count": 33,
     "metadata": {},
     "output_type": "execute_result"
    }
   ],
   "source": [
    "df1 = df.copy()\n",
    "df1['datetime'] = pd.to_datetime(df1['dateAdded'])\n",
    "df1.datetime.dtypes"
   ]
  },
  {
   "cell_type": "code",
   "execution_count": 37,
   "id": "a25f9bee",
   "metadata": {
    "ExecuteTime": {
     "end_time": "2023-01-21T05:59:19.717819Z",
     "start_time": "2023-01-21T05:59:19.698915Z"
    }
   },
   "outputs": [
    {
     "data": {
      "text/plain": [
       "Int64Index([2, 21, 22, 23, 24], dtype='int64')"
      ]
     },
     "execution_count": 37,
     "metadata": {},
     "output_type": "execute_result"
    }
   ],
   "source": [
    "df1[df1['datetime'].dt.month == 10].head(5).index"
   ]
  },
  {
   "cell_type": "markdown",
   "id": "b6e25be9",
   "metadata": {},
   "source": [
    "## 14\n",
    "- Сделайте группировку по месяцу открытия ресторана (переменная dateAdded). \n",
    "- Сколько ресторанов было открыто в каждом месяце? \n",
    "- Рассчитайте по количеству уникальных id ресторанов в каждом месяце. \n",
    "- Значения dateAdded должны при этом быть индексами. \n",
    "- Результирующий датафрейм сохраните в result\n",
    "\n",
    "Данные сохранены в переменную data\n",
    "> в одной группе каждый id может повторяться (скажем, в течение месяца информация о ресторане обновлялась). Поэтому count() нам не подойдет, нужно использовать другую функцию для подсчета уникальных значений."
   ]
  },
  {
   "cell_type": "code",
   "execution_count": 85,
   "id": "26d29fba",
   "metadata": {
    "ExecuteTime": {
     "end_time": "2023-01-21T06:35:15.830676Z",
     "start_time": "2023-01-21T06:35:15.795127Z"
    },
    "scrolled": true
   },
   "outputs": [
    {
     "data": {
      "text/html": [
       "<div>\n",
       "<style scoped>\n",
       "    .dataframe tbody tr th:only-of-type {\n",
       "        vertical-align: middle;\n",
       "    }\n",
       "\n",
       "    .dataframe tbody tr th {\n",
       "        vertical-align: top;\n",
       "    }\n",
       "\n",
       "    .dataframe thead th {\n",
       "        text-align: right;\n",
       "    }\n",
       "</style>\n",
       "<table border=\"1\" class=\"dataframe\">\n",
       "  <thead>\n",
       "    <tr style=\"text-align: right;\">\n",
       "      <th></th>\n",
       "      <th>id</th>\n",
       "    </tr>\n",
       "    <tr>\n",
       "      <th>dateAdded</th>\n",
       "      <th></th>\n",
       "    </tr>\n",
       "  </thead>\n",
       "  <tbody>\n",
       "    <tr>\n",
       "      <th>1</th>\n",
       "      <td>308</td>\n",
       "    </tr>\n",
       "    <tr>\n",
       "      <th>2</th>\n",
       "      <td>257</td>\n",
       "    </tr>\n",
       "    <tr>\n",
       "      <th>3</th>\n",
       "      <td>4970</td>\n",
       "    </tr>\n",
       "    <tr>\n",
       "      <th>4</th>\n",
       "      <td>3224</td>\n",
       "    </tr>\n",
       "    <tr>\n",
       "      <th>5</th>\n",
       "      <td>1141</td>\n",
       "    </tr>\n",
       "    <tr>\n",
       "      <th>6</th>\n",
       "      <td>1356</td>\n",
       "    </tr>\n",
       "    <tr>\n",
       "      <th>7</th>\n",
       "      <td>645</td>\n",
       "    </tr>\n",
       "    <tr>\n",
       "      <th>8</th>\n",
       "      <td>479</td>\n",
       "    </tr>\n",
       "    <tr>\n",
       "      <th>9</th>\n",
       "      <td>554</td>\n",
       "    </tr>\n",
       "    <tr>\n",
       "      <th>10</th>\n",
       "      <td>4716</td>\n",
       "    </tr>\n",
       "    <tr>\n",
       "      <th>11</th>\n",
       "      <td>1550</td>\n",
       "    </tr>\n",
       "    <tr>\n",
       "      <th>12</th>\n",
       "      <td>239</td>\n",
       "    </tr>\n",
       "  </tbody>\n",
       "</table>\n",
       "</div>"
      ],
      "text/plain": [
       "             id\n",
       "dateAdded      \n",
       "1           308\n",
       "2           257\n",
       "3          4970\n",
       "4          3224\n",
       "5          1141\n",
       "6          1356\n",
       "7           645\n",
       "8           479\n",
       "9           554\n",
       "10         4716\n",
       "11         1550\n",
       "12          239"
      ]
     },
     "execution_count": 85,
     "metadata": {},
     "output_type": "execute_result"
    }
   ],
   "source": [
    "# правильное решение\n",
    "import pandas as pd\n",
    "\n",
    "data['dateAdded'] = pd.to_datetime(data['dateAdded'])\n",
    "result = data.groupby(data['dateAdded'].dt.month).agg({'id': 'nunique'})\n",
    "result"
   ]
  },
  {
   "cell_type": "code",
   "execution_count": 86,
   "id": "7c371800",
   "metadata": {
    "ExecuteTime": {
     "end_time": "2023-01-21T06:36:43.178533Z",
     "start_time": "2023-01-21T06:36:43.151321Z"
    },
    "collapsed": true
   },
   "outputs": [
    {
     "data": {
      "text/html": [
       "<div>\n",
       "<style scoped>\n",
       "    .dataframe tbody tr th:only-of-type {\n",
       "        vertical-align: middle;\n",
       "    }\n",
       "\n",
       "    .dataframe tbody tr th {\n",
       "        vertical-align: top;\n",
       "    }\n",
       "\n",
       "    .dataframe thead th {\n",
       "        text-align: right;\n",
       "    }\n",
       "</style>\n",
       "<table border=\"1\" class=\"dataframe\">\n",
       "  <thead>\n",
       "    <tr style=\"text-align: right;\">\n",
       "      <th></th>\n",
       "      <th>id</th>\n",
       "    </tr>\n",
       "    <tr>\n",
       "      <th>month_open</th>\n",
       "      <th></th>\n",
       "    </tr>\n",
       "  </thead>\n",
       "  <tbody>\n",
       "    <tr>\n",
       "      <th>1</th>\n",
       "      <td>308</td>\n",
       "    </tr>\n",
       "    <tr>\n",
       "      <th>2</th>\n",
       "      <td>257</td>\n",
       "    </tr>\n",
       "    <tr>\n",
       "      <th>3</th>\n",
       "      <td>4970</td>\n",
       "    </tr>\n",
       "    <tr>\n",
       "      <th>4</th>\n",
       "      <td>3224</td>\n",
       "    </tr>\n",
       "    <tr>\n",
       "      <th>5</th>\n",
       "      <td>1141</td>\n",
       "    </tr>\n",
       "    <tr>\n",
       "      <th>6</th>\n",
       "      <td>1356</td>\n",
       "    </tr>\n",
       "    <tr>\n",
       "      <th>7</th>\n",
       "      <td>645</td>\n",
       "    </tr>\n",
       "    <tr>\n",
       "      <th>8</th>\n",
       "      <td>479</td>\n",
       "    </tr>\n",
       "    <tr>\n",
       "      <th>9</th>\n",
       "      <td>554</td>\n",
       "    </tr>\n",
       "    <tr>\n",
       "      <th>10</th>\n",
       "      <td>4716</td>\n",
       "    </tr>\n",
       "    <tr>\n",
       "      <th>11</th>\n",
       "      <td>1550</td>\n",
       "    </tr>\n",
       "    <tr>\n",
       "      <th>12</th>\n",
       "      <td>239</td>\n",
       "    </tr>\n",
       "  </tbody>\n",
       "</table>\n",
       "</div>"
      ],
      "text/plain": [
       "              id\n",
       "month_open      \n",
       "1            308\n",
       "2            257\n",
       "3           4970\n",
       "4           3224\n",
       "5           1141\n",
       "6           1356\n",
       "7            645\n",
       "8            479\n",
       "9            554\n",
       "10          4716\n",
       "11          1550\n",
       "12           239"
      ]
     },
     "execution_count": 86,
     "metadata": {},
     "output_type": "execute_result"
    }
   ],
   "source": [
    "df1['month_open'] = df1['datetime'].dt.month\n",
    "df1.groupby('month_open').agg({'id': 'nunique'})"
   ]
  },
  {
   "cell_type": "markdown",
   "id": "1cc6b7e0",
   "metadata": {},
   "source": [
    "## 15\n",
    "В этом задании нужно \n",
    "- добавить столбец update_delta количеством целых дней, полученных от разницы между dateUpdated и dateAdded.\n",
    "- Потом для каждого города найдите (в указанном порядке):\n",
    "    - среднее по переменной update_delta\n",
    "    - широту самой северной закусочной (чем севернее расположена закусочная, тем больше будет значение широты)\n",
    "- Названия городов не должны быть индексами. \n",
    "- Сохраните результирующий датафрейм в переменную result.\n",
    "- Также сохраните в переменную zep_mean среднее значение update_delta по городу Zephyrhills.\n",
    "\n",
    "Данные сохранены в переменную data"
   ]
  },
  {
   "cell_type": "code",
   "execution_count": 111,
   "id": "8eead7d8",
   "metadata": {
    "ExecuteTime": {
     "end_time": "2023-01-21T07:11:04.418159Z",
     "start_time": "2023-01-21T07:11:04.378930Z"
    }
   },
   "outputs": [],
   "source": [
    "import pandas as pd\n",
    "# перевести колонки в тип дата \n",
    "data['dateAdded'] = pd.to_datetime(data['dateAdded'])\n",
    "data['dateUpdated'] = pd.to_datetime(data['dateUpdated'])\n",
    "# получаем разницу\n",
    "data['update_delta'] = (data['dateUpdated'] - data['dateAdded']).dt.days"
   ]
  },
  {
   "cell_type": "code",
   "execution_count": 112,
   "id": "7827c091",
   "metadata": {
    "ExecuteTime": {
     "end_time": "2023-01-21T07:11:08.401448Z",
     "start_time": "2023-01-21T07:11:08.376107Z"
    }
   },
   "outputs": [
    {
     "data": {
      "text/html": [
       "<div>\n",
       "<style scoped>\n",
       "    .dataframe tbody tr th:only-of-type {\n",
       "        vertical-align: middle;\n",
       "    }\n",
       "\n",
       "    .dataframe tbody tr th {\n",
       "        vertical-align: top;\n",
       "    }\n",
       "\n",
       "    .dataframe thead th {\n",
       "        text-align: right;\n",
       "    }\n",
       "</style>\n",
       "<table border=\"1\" class=\"dataframe\">\n",
       "  <thead>\n",
       "    <tr style=\"text-align: right;\">\n",
       "      <th></th>\n",
       "      <th>city</th>\n",
       "      <th>update_delta</th>\n",
       "      <th>latitude</th>\n",
       "    </tr>\n",
       "  </thead>\n",
       "  <tbody>\n",
       "    <tr>\n",
       "      <th>0</th>\n",
       "      <td>Abbeville</td>\n",
       "      <td>114.857143</td>\n",
       "      <td>29.982108</td>\n",
       "    </tr>\n",
       "    <tr>\n",
       "      <th>1</th>\n",
       "      <td>Aberdeen</td>\n",
       "      <td>81.625000</td>\n",
       "      <td>46.975110</td>\n",
       "    </tr>\n",
       "    <tr>\n",
       "      <th>2</th>\n",
       "      <td>Abilene</td>\n",
       "      <td>206.454545</td>\n",
       "      <td>32.453090</td>\n",
       "    </tr>\n",
       "    <tr>\n",
       "      <th>3</th>\n",
       "      <td>Abingdon</td>\n",
       "      <td>303.500000</td>\n",
       "      <td>36.712800</td>\n",
       "    </tr>\n",
       "    <tr>\n",
       "      <th>4</th>\n",
       "      <td>Abington</td>\n",
       "      <td>393.000000</td>\n",
       "      <td>40.124851</td>\n",
       "    </tr>\n",
       "    <tr>\n",
       "      <th>...</th>\n",
       "      <td>...</td>\n",
       "      <td>...</td>\n",
       "      <td>...</td>\n",
       "    </tr>\n",
       "    <tr>\n",
       "      <th>3596</th>\n",
       "      <td>Zebulon</td>\n",
       "      <td>0.000000</td>\n",
       "      <td>33.102090</td>\n",
       "    </tr>\n",
       "    <tr>\n",
       "      <th>3597</th>\n",
       "      <td>Zephyr Cove</td>\n",
       "      <td>105.500000</td>\n",
       "      <td>38.984947</td>\n",
       "    </tr>\n",
       "    <tr>\n",
       "      <th>3598</th>\n",
       "      <td>Zephyrhills</td>\n",
       "      <td>329.695652</td>\n",
       "      <td>28.271183</td>\n",
       "    </tr>\n",
       "    <tr>\n",
       "      <th>3599</th>\n",
       "      <td>Zieglerville</td>\n",
       "      <td>621.000000</td>\n",
       "      <td>40.291611</td>\n",
       "    </tr>\n",
       "    <tr>\n",
       "      <th>3600</th>\n",
       "      <td>Zionsville</td>\n",
       "      <td>151.500000</td>\n",
       "      <td>39.954970</td>\n",
       "    </tr>\n",
       "  </tbody>\n",
       "</table>\n",
       "<p>3601 rows × 3 columns</p>\n",
       "</div>"
      ],
      "text/plain": [
       "              city  update_delta   latitude\n",
       "0        Abbeville    114.857143  29.982108\n",
       "1         Aberdeen     81.625000  46.975110\n",
       "2          Abilene    206.454545  32.453090\n",
       "3         Abingdon    303.500000  36.712800\n",
       "4         Abington    393.000000  40.124851\n",
       "...            ...           ...        ...\n",
       "3596       Zebulon      0.000000  33.102090\n",
       "3597   Zephyr Cove    105.500000  38.984947\n",
       "3598   Zephyrhills    329.695652  28.271183\n",
       "3599  Zieglerville    621.000000  40.291611\n",
       "3600    Zionsville    151.500000  39.954970\n",
       "\n",
       "[3601 rows x 3 columns]"
      ]
     },
     "execution_count": 112,
     "metadata": {},
     "output_type": "execute_result"
    }
   ],
   "source": [
    "# группируем по городу, аггрегируем по средней update_delta и макс широте\n",
    "result = data.groupby('city', as_index=False).agg({'update_delta': 'mean', 'latitude': 'max'})\n",
    "result"
   ]
  },
  {
   "cell_type": "code",
   "execution_count": 113,
   "id": "9b141429",
   "metadata": {
    "ExecuteTime": {
     "end_time": "2023-01-21T07:11:11.265987Z",
     "start_time": "2023-01-21T07:11:11.250093Z"
    }
   },
   "outputs": [
    {
     "data": {
      "text/plain": [
       "329.69565217391306"
      ]
     },
     "execution_count": 113,
     "metadata": {},
     "output_type": "execute_result"
    }
   ],
   "source": [
    "# сначала находим город потом обращаемся к его колонке и считаем среднее\n",
    "zep_mean = data[data['city'] == 'Zephyrhills']['update_delta'].mean()\n",
    "zep_mean"
   ]
  },
  {
   "cell_type": "markdown",
   "id": "c1f0b34d",
   "metadata": {},
   "source": [
    "## 16\n",
    "\n",
    "Отберите рестораны, у которых в колонке categories упоминается Pizza\n",
    "\n",
    "Укажите индекс 3-го элемента, полученного после фильтрации"
   ]
  },
  {
   "cell_type": "code",
   "execution_count": 14,
   "id": "2b6b755b",
   "metadata": {
    "ExecuteTime": {
     "end_time": "2023-01-21T05:47:46.185729Z",
     "start_time": "2023-01-21T05:47:46.159039Z"
    }
   },
   "outputs": [
    {
     "data": {
      "text/plain": [
       "66"
      ]
     },
     "execution_count": 14,
     "metadata": {},
     "output_type": "execute_result"
    }
   ],
   "source": [
    "data[data['categories'].str.contains('Pizza')].index[2]"
   ]
  },
  {
   "cell_type": "markdown",
   "id": "91da86e4",
   "metadata": {},
   "source": [
    "## 17\n",
    "\n",
    "В этом задании снова нужно добавить столбец update_delta, куда будет записана разница в днях между dateUpdated и dateAdded.  Посчитайте среднее и медиану получившейся колонки.\n",
    "\n",
    "Перечислите значения через пробел (сначала среднее, затем медиану), округлив до 2 знаков. \n",
    "\n",
    "NB! Десятичным разделителем должна быть точка."
   ]
  },
  {
   "cell_type": "code",
   "execution_count": 125,
   "id": "62f8392b",
   "metadata": {
    "ExecuteTime": {
     "end_time": "2023-01-21T07:22:19.117268Z",
     "start_time": "2023-01-21T07:22:19.076484Z"
    }
   },
   "outputs": [
    {
     "name": "stdout",
     "output_type": "stream",
     "text": [
      "326.22 364.0\n"
     ]
    }
   ],
   "source": [
    "import pandas as pd\n",
    "# перевести колонки в тип дата \n",
    "data['dateAdded'] = pd.to_datetime(data['dateAdded'])\n",
    "data['dateUpdated'] = pd.to_datetime(data['dateUpdated'])\n",
    "# получаем разницу\n",
    "data['update_delta'] = (data['dateUpdated'] - data['dateAdded']).dt.days\n",
    "\n",
    "mean_ud = data['update_delta'].describe().loc['mean'].round(2)\n",
    "med_ud = data['update_delta'].describe().loc['50%'].round(2)\n",
    "print(f'{mean_ud} {med_ud}')"
   ]
  },
  {
   "cell_type": "markdown",
   "id": "9fe6fbd7",
   "metadata": {},
   "source": [
    "## 18\n",
    "В этом задании нужно  \n",
    "- отобрать записи, у которых более 20 категорий, \n",
    "- далее их нужно сгруппировать по провинциям и подсчитать минимальную longitude в каждой. Округлите значения longitude до 3-х знаков после запятой.\n",
    "- Далее сохраните результирующий датафрейм в файл в формате csv с сепаратором ;\n",
    "- Сам датафрейм должен содержать две колонки: province и longitude\n",
    "\n",
    "Для решения задачи полезно будет ознакомиться с функцией.\n",
    "https://pandas.pydata.org/docs/reference/api/pandas.DataFrame.apply.html"
   ]
  },
  {
   "cell_type": "code",
   "execution_count": 161,
   "id": "b0e3deac",
   "metadata": {
    "ExecuteTime": {
     "end_time": "2023-01-21T07:51:48.244989Z",
     "start_time": "2023-01-21T07:51:48.159335Z"
    }
   },
   "outputs": [],
   "source": [
    "data[data.categories.str.split(',').apply(lambda x: len(x) > 20)].\\\n",
    "groupby('province', as_index=False).agg({'longitude': 'min'}).round(3).\\\n",
    "to_csv('Task_05_18_Bogdanov.csv', sep=';', index=False)"
   ]
  },
  {
   "cell_type": "code",
   "execution_count": 163,
   "id": "9eb85445",
   "metadata": {
    "ExecuteTime": {
     "end_time": "2023-01-21T07:52:11.453915Z",
     "start_time": "2023-01-21T07:52:10.903809Z"
    }
   },
   "outputs": [
    {
     "data": {
      "text/html": [
       "<div>\n",
       "<style scoped>\n",
       "    .dataframe tbody tr th:only-of-type {\n",
       "        vertical-align: middle;\n",
       "    }\n",
       "\n",
       "    .dataframe tbody tr th {\n",
       "        vertical-align: top;\n",
       "    }\n",
       "\n",
       "    .dataframe thead th {\n",
       "        text-align: right;\n",
       "    }\n",
       "</style>\n",
       "<table border=\"1\" class=\"dataframe\">\n",
       "  <thead>\n",
       "    <tr style=\"text-align: right;\">\n",
       "      <th></th>\n",
       "      <th>province</th>\n",
       "      <th>longitude</th>\n",
       "    </tr>\n",
       "  </thead>\n",
       "  <tbody>\n",
       "    <tr>\n",
       "      <th>0</th>\n",
       "      <td>AZ</td>\n",
       "      <td>-110.136</td>\n",
       "    </tr>\n",
       "    <tr>\n",
       "      <th>1</th>\n",
       "      <td>CA</td>\n",
       "      <td>-122.417</td>\n",
       "    </tr>\n",
       "    <tr>\n",
       "      <th>2</th>\n",
       "      <td>DC</td>\n",
       "      <td>-77.075</td>\n",
       "    </tr>\n",
       "    <tr>\n",
       "      <th>3</th>\n",
       "      <td>G P O</td>\n",
       "      <td>-73.990</td>\n",
       "    </tr>\n",
       "    <tr>\n",
       "      <th>4</th>\n",
       "      <td>KY</td>\n",
       "      <td>-87.455</td>\n",
       "    </tr>\n",
       "    <tr>\n",
       "      <th>5</th>\n",
       "      <td>MA</td>\n",
       "      <td>-71.055</td>\n",
       "    </tr>\n",
       "    <tr>\n",
       "      <th>6</th>\n",
       "      <td>MD</td>\n",
       "      <td>-77.453</td>\n",
       "    </tr>\n",
       "    <tr>\n",
       "      <th>7</th>\n",
       "      <td>NY</td>\n",
       "      <td>-76.794</td>\n",
       "    </tr>\n",
       "    <tr>\n",
       "      <th>8</th>\n",
       "      <td>St Simons Is</td>\n",
       "      <td>-81.394</td>\n",
       "    </tr>\n",
       "    <tr>\n",
       "      <th>9</th>\n",
       "      <td>TX</td>\n",
       "      <td>-94.939</td>\n",
       "    </tr>\n",
       "    <tr>\n",
       "      <th>10</th>\n",
       "      <td>VA</td>\n",
       "      <td>-77.093</td>\n",
       "    </tr>\n",
       "    <tr>\n",
       "      <th>11</th>\n",
       "      <td>WA</td>\n",
       "      <td>-122.383</td>\n",
       "    </tr>\n",
       "    <tr>\n",
       "      <th>12</th>\n",
       "      <td>WI</td>\n",
       "      <td>-89.377</td>\n",
       "    </tr>\n",
       "  </tbody>\n",
       "</table>\n",
       "</div>"
      ],
      "text/plain": [
       "        province  longitude\n",
       "0             AZ   -110.136\n",
       "1             CA   -122.417\n",
       "2             DC    -77.075\n",
       "3          G P O    -73.990\n",
       "4             KY    -87.455\n",
       "5             MA    -71.055\n",
       "6             MD    -77.453\n",
       "7             NY    -76.794\n",
       "8   St Simons Is    -81.394\n",
       "9             TX    -94.939\n",
       "10            VA    -77.093\n",
       "11            WA   -122.383\n",
       "12            WI    -89.377"
      ]
     },
     "execution_count": 163,
     "metadata": {},
     "output_type": "execute_result"
    }
   ],
   "source": [
    "data[data.categories.str.split(',').apply(lambda x: len(x) > 20)].\\\n",
    "groupby('province', as_index=False).agg({'longitude': 'min'}).round(3)"
   ]
  },
  {
   "cell_type": "code",
   "execution_count": 164,
   "id": "db3a6635",
   "metadata": {
    "ExecuteTime": {
     "end_time": "2023-01-21T07:52:37.775794Z",
     "start_time": "2023-01-21T07:52:37.632482Z"
    }
   },
   "outputs": [
    {
     "name": "stdout",
     "output_type": "stream",
     "text": [
      "province;longitude\r\n",
      "AZ;-110.136\r\n",
      "CA;-122.417\r\n",
      "DC;-77.075\r\n",
      "G P O;-73.99\r\n",
      "KY;-87.455\r\n",
      "MA;-71.055\r\n",
      "MD;-77.453\r\n",
      "NY;-76.794\r\n",
      "St Simons Is;-81.394\r\n",
      "TX;-94.939\r\n",
      "VA;-77.093\r\n",
      "WA;-122.383\r\n",
      "WI;-89.377\r\n"
     ]
    }
   ],
   "source": [
    "cat Task_05_18_Bogdanov.csv"
   ]
  },
  {
   "cell_type": "code",
   "execution_count": 126,
   "id": "06f9805f",
   "metadata": {
    "ExecuteTime": {
     "end_time": "2023-01-21T07:27:39.773866Z",
     "start_time": "2023-01-21T07:27:39.764862Z"
    },
    "scrolled": true
   },
   "outputs": [
    {
     "data": {
      "text/html": [
       "<div>\n",
       "<style scoped>\n",
       "    .dataframe tbody tr th:only-of-type {\n",
       "        vertical-align: middle;\n",
       "    }\n",
       "\n",
       "    .dataframe tbody tr th {\n",
       "        vertical-align: top;\n",
       "    }\n",
       "\n",
       "    .dataframe thead th {\n",
       "        text-align: right;\n",
       "    }\n",
       "</style>\n",
       "<table border=\"1\" class=\"dataframe\">\n",
       "  <thead>\n",
       "    <tr style=\"text-align: right;\">\n",
       "      <th></th>\n",
       "      <th>id</th>\n",
       "      <th>address</th>\n",
       "      <th>categories</th>\n",
       "      <th>city</th>\n",
       "      <th>cuisines</th>\n",
       "      <th>dateAdded</th>\n",
       "      <th>dateUpdated</th>\n",
       "      <th>latitude</th>\n",
       "      <th>longitude</th>\n",
       "      <th>menus.category</th>\n",
       "      <th>menus.currency</th>\n",
       "      <th>menus.dateSeen</th>\n",
       "      <th>menus.description</th>\n",
       "      <th>menus.name</th>\n",
       "      <th>name</th>\n",
       "      <th>province</th>\n",
       "    </tr>\n",
       "  </thead>\n",
       "  <tbody>\n",
       "    <tr>\n",
       "      <th>0</th>\n",
       "      <td>AVwc__cikufWRAb51QjV</td>\n",
       "      <td>610 Commercial St</td>\n",
       "      <td>Restaurant Delivery Service,Restaurants,Pizza,...</td>\n",
       "      <td>Atchison</td>\n",
       "      <td>Restaurant Delivery Service</td>\n",
       "      <td>2016-03-02T11:49:34Z</td>\n",
       "      <td>2017-02-01T18:04:44Z</td>\n",
       "      <td>39.561570</td>\n",
       "      <td>-95.121020</td>\n",
       "      <td>NaN</td>\n",
       "      <td>NaN</td>\n",
       "      <td>2017-02-01T18:04:44Z</td>\n",
       "      <td>NaN</td>\n",
       "      <td>Taco</td>\n",
       "      <td>Gambino's Pizza</td>\n",
       "      <td>KS</td>\n",
       "    </tr>\n",
       "    <tr>\n",
       "      <th>1</th>\n",
       "      <td>AVwc__cikufWRAb51QjV</td>\n",
       "      <td>610 Commercial St</td>\n",
       "      <td>Restaurant Delivery Service,Restaurants,Pizza,...</td>\n",
       "      <td>Atchison</td>\n",
       "      <td>Restaurant Delivery Service</td>\n",
       "      <td>2016-03-02T11:49:34Z</td>\n",
       "      <td>2017-02-01T18:04:44Z</td>\n",
       "      <td>39.561570</td>\n",
       "      <td>-95.121020</td>\n",
       "      <td>NaN</td>\n",
       "      <td>NaN</td>\n",
       "      <td>2016-03-02T11:49:34Z</td>\n",
       "      <td>Beef, onion, cheddar cheese, lettuce,  refried...</td>\n",
       "      <td>Taco</td>\n",
       "      <td>Gambino's Pizza</td>\n",
       "      <td>KS</td>\n",
       "    </tr>\n",
       "    <tr>\n",
       "      <th>2</th>\n",
       "      <td>AVwc__dF_7pvs4fz1Ncy</td>\n",
       "      <td>9521 Morton Davis Dr</td>\n",
       "      <td>Golf Course, American Restaurant, and Resort</td>\n",
       "      <td>Patterson</td>\n",
       "      <td>NaN</td>\n",
       "      <td>2016-10-14T01:58:25Z</td>\n",
       "      <td>2016-10-14T01:58:25Z</td>\n",
       "      <td>37.401855</td>\n",
       "      <td>-121.266703</td>\n",
       "      <td>NaN</td>\n",
       "      <td>NaN</td>\n",
       "      <td>2016-10-14T01:58:25Z</td>\n",
       "      <td>Beef barbacoa or chicken, spanish rice, pico d...</td>\n",
       "      <td>Smotherd Burrito</td>\n",
       "      <td>Diablo Grande Golf &amp; Country Club</td>\n",
       "      <td>Grayson</td>\n",
       "    </tr>\n",
       "    <tr>\n",
       "      <th>3</th>\n",
       "      <td>AVwc__kCByjofQCxkdm-</td>\n",
       "      <td>10550 W I 25 Frontage Rd</td>\n",
       "      <td>Fast Food Restaurant</td>\n",
       "      <td>Longmont</td>\n",
       "      <td>NaN</td>\n",
       "      <td>2016-09-09T17:30:34Z</td>\n",
       "      <td>2016-10-04T05:15:17Z</td>\n",
       "      <td>NaN</td>\n",
       "      <td>NaN</td>\n",
       "      <td>NaN</td>\n",
       "      <td>NaN</td>\n",
       "      <td>2016-09-09T17:30:34Z</td>\n",
       "      <td>NaN</td>\n",
       "      <td>Sausage Burrito</td>\n",
       "      <td>Mcdonald's</td>\n",
       "      <td>Niwot</td>\n",
       "    </tr>\n",
       "    <tr>\n",
       "      <th>4</th>\n",
       "      <td>AVwc__WtByjofQCxkdkR</td>\n",
       "      <td>8495 W 3rd St</td>\n",
       "      <td>Mexican Restaurant Mid-City West,Mexican Resta...</td>\n",
       "      <td>Los Angeles</td>\n",
       "      <td>Mexican</td>\n",
       "      <td>2016-05-19T11:50:25Z</td>\n",
       "      <td>2016-09-11T00:06:37Z</td>\n",
       "      <td>34.080724</td>\n",
       "      <td>-118.389578</td>\n",
       "      <td>NaN</td>\n",
       "      <td>NaN</td>\n",
       "      <td>2016-05-19T11:50:25Z</td>\n",
       "      <td>Wahoo, avocado, cabbage, pico de gallo  and av...</td>\n",
       "      <td>Wahoo Tacogrilled</td>\n",
       "      <td>Baja Fresh Mexican Grill</td>\n",
       "      <td>Bicentennial</td>\n",
       "    </tr>\n",
       "  </tbody>\n",
       "</table>\n",
       "</div>"
      ],
      "text/plain": [
       "                     id                   address  \\\n",
       "0  AVwc__cikufWRAb51QjV         610 Commercial St   \n",
       "1  AVwc__cikufWRAb51QjV         610 Commercial St   \n",
       "2  AVwc__dF_7pvs4fz1Ncy      9521 Morton Davis Dr   \n",
       "3  AVwc__kCByjofQCxkdm-  10550 W I 25 Frontage Rd   \n",
       "4  AVwc__WtByjofQCxkdkR             8495 W 3rd St   \n",
       "\n",
       "                                          categories         city  \\\n",
       "0  Restaurant Delivery Service,Restaurants,Pizza,...     Atchison   \n",
       "1  Restaurant Delivery Service,Restaurants,Pizza,...     Atchison   \n",
       "2       Golf Course, American Restaurant, and Resort    Patterson   \n",
       "3                               Fast Food Restaurant     Longmont   \n",
       "4  Mexican Restaurant Mid-City West,Mexican Resta...  Los Angeles   \n",
       "\n",
       "                      cuisines             dateAdded           dateUpdated  \\\n",
       "0  Restaurant Delivery Service  2016-03-02T11:49:34Z  2017-02-01T18:04:44Z   \n",
       "1  Restaurant Delivery Service  2016-03-02T11:49:34Z  2017-02-01T18:04:44Z   \n",
       "2                          NaN  2016-10-14T01:58:25Z  2016-10-14T01:58:25Z   \n",
       "3                          NaN  2016-09-09T17:30:34Z  2016-10-04T05:15:17Z   \n",
       "4                      Mexican  2016-05-19T11:50:25Z  2016-09-11T00:06:37Z   \n",
       "\n",
       "    latitude   longitude menus.category menus.currency        menus.dateSeen  \\\n",
       "0  39.561570  -95.121020            NaN            NaN  2017-02-01T18:04:44Z   \n",
       "1  39.561570  -95.121020            NaN            NaN  2016-03-02T11:49:34Z   \n",
       "2  37.401855 -121.266703            NaN            NaN  2016-10-14T01:58:25Z   \n",
       "3        NaN         NaN            NaN            NaN  2016-09-09T17:30:34Z   \n",
       "4  34.080724 -118.389578            NaN            NaN  2016-05-19T11:50:25Z   \n",
       "\n",
       "                                   menus.description         menus.name  \\\n",
       "0                                                NaN               Taco   \n",
       "1  Beef, onion, cheddar cheese, lettuce,  refried...               Taco   \n",
       "2  Beef barbacoa or chicken, spanish rice, pico d...   Smotherd Burrito   \n",
       "3                                                NaN    Sausage Burrito   \n",
       "4  Wahoo, avocado, cabbage, pico de gallo  and av...  Wahoo Tacogrilled   \n",
       "\n",
       "                                name      province  \n",
       "0                    Gambino's Pizza            KS  \n",
       "1                    Gambino's Pizza            KS  \n",
       "2  Diablo Grande Golf & Country Club       Grayson  \n",
       "3                         Mcdonald's         Niwot  \n",
       "4           Baja Fresh Mexican Grill  Bicentennial  "
      ]
     },
     "execution_count": 126,
     "metadata": {},
     "output_type": "execute_result"
    }
   ],
   "source": [
    "df.head(5)"
   ]
  }
 ],
 "metadata": {
  "kernelspec": {
   "display_name": "Python 3 (ipykernel)",
   "language": "python",
   "name": "python3"
  },
  "language_info": {
   "codemirror_mode": {
    "name": "ipython",
    "version": 3
   },
   "file_extension": ".py",
   "mimetype": "text/x-python",
   "name": "python",
   "nbconvert_exporter": "python",
   "pygments_lexer": "ipython3",
   "version": "3.10.6"
  },
  "varInspector": {
   "cols": {
    "lenName": 16,
    "lenType": 16,
    "lenVar": 40
   },
   "kernels_config": {
    "python": {
     "delete_cmd_postfix": "",
     "delete_cmd_prefix": "del ",
     "library": "var_list.py",
     "varRefreshCmd": "print(var_dic_list())"
    },
    "r": {
     "delete_cmd_postfix": ") ",
     "delete_cmd_prefix": "rm(",
     "library": "var_list.r",
     "varRefreshCmd": "cat(var_dic_list()) "
    }
   },
   "types_to_exclude": [
    "module",
    "function",
    "builtin_function_or_method",
    "instance",
    "_Feature"
   ],
   "window_display": false
  }
 },
 "nbformat": 4,
 "nbformat_minor": 5
}
