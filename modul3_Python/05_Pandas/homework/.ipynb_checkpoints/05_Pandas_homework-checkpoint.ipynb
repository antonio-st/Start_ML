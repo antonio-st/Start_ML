{
 "cells": [
  {
   "cell_type": "markdown",
   "id": "07d99116",
   "metadata": {},
   "source": [
    "В заданиях этого урока нам предстоит проанализировать данные об американских закусочных. Мы поищем, где можно купить тако в Калифорнии, в какие месяцы чаще всего открывали рестораны и разберем, какие есть подводные камни при работе с pandas.\n",
    "\n",
    " \n",
    "Описание данных:\n",
    "\n",
    "    id - уникальный идентификатор заведения\n",
    "    address - физический адрес заведения\n",
    "    categories - категории заведения (например, \"Fast food restaurant\").\n",
    "    city - город, в котором заведение находится.\n",
    "    cuisines - кухни, которые практикуются в заведении. Например \"Mexican\".\n",
    "    dateAdded - дата добавления записи. Будем считать, что она совпадает с датой открытия заведения.\n",
    "    dateUpdated - дата обновления информации о заведении.\n",
    "    latitude - географическая широта.\n",
    "    longitude - географическая долгота.\n",
    "    menus.category - категории пищи в меню.\n",
    "    menus.currency - валюта, в которой принимают оплату.\n",
    "    menus.dateSeen - дата, когда было заведено это меню.\n",
    "    menus.description - описание меню от заведения.\n",
    "    menus.name - название меню.\n",
    "    name - название заведения.\n",
    "    province - область (штат), где находится заведение.\n",
    "\n",
    "`2016-03-02T11:49:34Z, 2016-03-02T11:49:34Z, 2016-10-14T01:58:25Z`"
   ]
  },
  {
   "cell_type": "code",
   "execution_count": 2,
   "id": "5aa9a0e5",
   "metadata": {
    "ExecuteTime": {
     "end_time": "2023-01-20T17:53:54.113481Z",
     "start_time": "2023-01-20T17:53:53.849028Z"
    }
   },
   "outputs": [],
   "source": [
    "import pandas as pd\n",
    "df = pd.read_csv('data.csv')"
   ]
  },
  {
   "cell_type": "markdown",
   "id": "b31aa435",
   "metadata": {},
   "source": [
    "## 1\n",
    "\n",
    "В качестве первого шага давайте посмотрим на наши данные c помощью метода head()\n",
    "\n",
    "Перечислите первые три значения колонки dateAdded через запятую и пробел в том порядке, в котором они были выведены. Например:"
   ]
  },
  {
   "cell_type": "code",
   "execution_count": 13,
   "id": "1344e222",
   "metadata": {
    "ExecuteTime": {
     "end_time": "2023-01-20T17:57:21.589002Z",
     "start_time": "2023-01-20T17:57:21.580540Z"
    }
   },
   "outputs": [
    {
     "data": {
      "text/plain": [
       "['2016-03-02T11:49:34Z', '2016-03-02T11:49:34Z', '2016-10-14T01:58:25Z']"
      ]
     },
     "execution_count": 13,
     "metadata": {},
     "output_type": "execute_result"
    }
   ],
   "source": [
    "list(df['dateAdded'].head(3))"
   ]
  },
  {
   "cell_type": "markdown",
   "id": "c8d1268e",
   "metadata": {},
   "source": [
    "## 2\n",
    "\n",
    "Давайте посмотрим, какой тип имеют колонки city и latitude.\n",
    "\n",
    "Введите через пробел названия типов.\n"
   ]
  },
  {
   "cell_type": "code",
   "execution_count": 27,
   "id": "8604394d",
   "metadata": {
    "ExecuteTime": {
     "end_time": "2023-01-20T18:02:27.785092Z",
     "start_time": "2023-01-20T18:02:27.776808Z"
    }
   },
   "outputs": [
    {
     "data": {
      "text/plain": [
       "city         object\n",
       "latitude    float64\n",
       "dtype: object"
      ]
     },
     "execution_count": 27,
     "metadata": {},
     "output_type": "execute_result"
    }
   ],
   "source": [
    "df[['city', 'latitude']].dtypes"
   ]
  },
  {
   "cell_type": "markdown",
   "id": "bac773eb",
   "metadata": {},
   "source": [
    "## 3\n",
    "\n",
    "Какие колонки будут выведены при применении метода `describe` и почему только они?\n",
    "\n",
    "`latitude, longitude, потому что это единственные численные колонки`"
   ]
  },
  {
   "cell_type": "code",
   "execution_count": 43,
   "id": "6fdc2d0b",
   "metadata": {
    "ExecuteTime": {
     "end_time": "2023-01-20T18:07:31.706566Z",
     "start_time": "2023-01-20T18:07:31.685131Z"
    }
   },
   "outputs": [
    {
     "data": {
      "text/plain": [
       "['latitude', 'longitude']"
      ]
     },
     "execution_count": 43,
     "metadata": {},
     "output_type": "execute_result"
    }
   ],
   "source": [
    "df.dtypes\n",
    "# latitude             float64\n",
    "# longitude            float64\n",
    "\n",
    "df.describe().columns.tolist() # только те, где есть значения"
   ]
  },
  {
   "cell_type": "markdown",
   "id": "5f95c276",
   "metadata": {},
   "source": [
    "## 4\n",
    "\n",
    "Какие средние значения в тех колонках, которые вывел describe в предыдущем задании?\n",
    "\n",
    "Укажите их через пробел, округлив до двух знаков после запятой. Используйте точку в качестве десятичного разделителя."
   ]
  },
  {
   "cell_type": "code",
   "execution_count": 75,
   "id": "fb7bc603",
   "metadata": {
    "ExecuteTime": {
     "end_time": "2023-01-20T18:21:05.226864Z",
     "start_time": "2023-01-20T18:21:05.201006Z"
    }
   },
   "outputs": [
    {
     "name": "stdout",
     "output_type": "stream",
     "text": [
      "36.69 -98.71\n"
     ]
    }
   ],
   "source": [
    "lat = df.describe().loc['mean'][0].round(2)\n",
    "long = df.describe().loc['mean'][1].round(2)\n",
    "\n",
    "print(f'{lat} {long}')\n",
    "#.\\round(2).to_list()"
   ]
  },
  {
   "cell_type": "markdown",
   "id": "107ddf95",
   "metadata": {},
   "source": [
    "## 5\n",
    "\n",
    "Сейчас в данных присутствуют пропущенные значения. Давайте их удалим.\n",
    "\n",
    "Примените метод dropna.  Сколько осталось записей?"
   ]
  },
  {
   "cell_type": "code",
   "execution_count": 77,
   "id": "d3472c3b",
   "metadata": {
    "ExecuteTime": {
     "end_time": "2023-01-20T18:23:02.098733Z",
     "start_time": "2023-01-20T18:23:02.008123Z"
    }
   },
   "outputs": [
    {
     "data": {
      "text/plain": [
       "1925"
      ]
     },
     "execution_count": 77,
     "metadata": {},
     "output_type": "execute_result"
    }
   ],
   "source": [
    "len(df.dropna())"
   ]
  },
  {
   "cell_type": "markdown",
   "id": "202a2688",
   "metadata": {},
   "source": [
    "## 6\n",
    "\n",
    "Отберите заведения, которые находятся в городе Калифорния ('California'), штат Миссури.  Укажите индексы, под которыми полученные заведения расположены в датафрейме, через запятую и пробел в порядке возрастания. \n",
    "\n",
    "Например:\n",
    "```\n",
    "11235, 12457, 77980, 88901\n",
    "\n",
    "```\n",
    "NB! В текущем и последующих заданиях вся работа происходит с изначальным датафреймом. Результат предыдущего задания не учитывается"
   ]
  },
  {
   "cell_type": "code",
   "execution_count": 114,
   "id": "38af8315",
   "metadata": {
    "ExecuteTime": {
     "end_time": "2023-01-20T18:38:45.932258Z",
     "start_time": "2023-01-20T18:38:45.919492Z"
    }
   },
   "outputs": [
    {
     "data": {
      "text/plain": [
       "<bound method IndexOpsMixin.tolist of Int64Index([40483, 52930, 52931, 52932, 52933, 52934, 52935, 52936, 52937,\n",
       "            52938, 52939, 65070],\n",
       "           dtype='int64')>"
      ]
     },
     "execution_count": 114,
     "metadata": {},
     "output_type": "execute_result"
    }
   ],
   "source": [
    "df[df['city'] == 'California'].index.sort_values().to_list"
   ]
  },
  {
   "cell_type": "markdown",
   "id": "069af4a1",
   "metadata": {
    "ExecuteTime": {
     "end_time": "2023-01-20T18:31:50.202081Z",
     "start_time": "2023-01-20T18:31:50.193537Z"
    }
   },
   "source": [
    "## 7\n",
    "\n",
    "Отберите заведения Taco Bell в городе Калифорния ('California'), штат Миссури.\n",
    "\n",
    "Укажите индексы этих заведений через запятую и пробел в порядке возрастания."
   ]
  },
  {
   "cell_type": "code",
   "execution_count": 128,
   "id": "7bbc6f13",
   "metadata": {
    "ExecuteTime": {
     "end_time": "2023-01-20T18:46:36.472463Z",
     "start_time": "2023-01-20T18:46:36.453157Z"
    }
   },
   "outputs": [
    {
     "data": {
      "text/plain": [
       "Int64Index([52930, 52931, 52932, 52933, 52934, 52935, 52936, 52937, 52938,\n",
       "            52939],\n",
       "           dtype='int64')"
      ]
     },
     "execution_count": 128,
     "metadata": {},
     "output_type": "execute_result"
    }
   ],
   "source": [
    "df[(df['name'] == 'Taco Bell') & (df['city'] == 'California')].index.sort_values()"
   ]
  },
  {
   "cell_type": "markdown",
   "id": "a68aea2b",
   "metadata": {},
   "source": [
    "## 8\n",
    "Давайте\n",
    "- найдем заведения Taco Bell или заведения, которые находятся в городе Нью-Йорк. \n",
    "- При этом обязательно, чтобы в названии меню не было Volcano Taco и Fresco Soft Taco (именно таких значений колонки). \n",
    "- Данные нужно сохранить в датафрейм result."
   ]
  },
  {
   "cell_type": "code",
   "execution_count": 140,
   "id": "1ee2cceb",
   "metadata": {
    "ExecuteTime": {
     "end_time": "2023-01-20T19:09:03.437443Z",
     "start_time": "2023-01-20T19:09:03.388464Z"
    }
   },
   "outputs": [
    {
     "data": {
      "text/html": [
       "<div>\n",
       "<style scoped>\n",
       "    .dataframe tbody tr th:only-of-type {\n",
       "        vertical-align: middle;\n",
       "    }\n",
       "\n",
       "    .dataframe tbody tr th {\n",
       "        vertical-align: top;\n",
       "    }\n",
       "\n",
       "    .dataframe thead th {\n",
       "        text-align: right;\n",
       "    }\n",
       "</style>\n",
       "<table border=\"1\" class=\"dataframe\">\n",
       "  <thead>\n",
       "    <tr style=\"text-align: right;\">\n",
       "      <th></th>\n",
       "      <th>id</th>\n",
       "      <th>address</th>\n",
       "      <th>categories</th>\n",
       "      <th>city</th>\n",
       "      <th>cuisines</th>\n",
       "      <th>dateAdded</th>\n",
       "      <th>dateUpdated</th>\n",
       "      <th>latitude</th>\n",
       "      <th>longitude</th>\n",
       "      <th>menus.category</th>\n",
       "      <th>menus.currency</th>\n",
       "      <th>menus.dateSeen</th>\n",
       "      <th>menus.description</th>\n",
       "      <th>menus.name</th>\n",
       "      <th>name</th>\n",
       "      <th>province</th>\n",
       "    </tr>\n",
       "  </thead>\n",
       "  <tbody>\n",
       "    <tr>\n",
       "      <th>131</th>\n",
       "      <td>AVwc_9yCByjofQCxkdRX</td>\n",
       "      <td>322 S. Broadway</td>\n",
       "      <td>Fast Food,Restaurants,Mexican,Breakfast,Vegeta...</td>\n",
       "      <td>Salem</td>\n",
       "      <td>Mexican</td>\n",
       "      <td>2016-03-28T06:01:51Z</td>\n",
       "      <td>2017-06-27T10:01:48Z</td>\n",
       "      <td>42.755023</td>\n",
       "      <td>-71.20944</td>\n",
       "      <td>NaN</td>\n",
       "      <td>NaN</td>\n",
       "      <td>2016-03-28T06:01:51Z,2016-06-06T16:15:44Z</td>\n",
       "      <td>NaN</td>\n",
       "      <td>Volcano Burrito</td>\n",
       "      <td>Taco Bell</td>\n",
       "      <td>NH</td>\n",
       "    </tr>\n",
       "    <tr>\n",
       "      <th>132</th>\n",
       "      <td>AVwc_9yCByjofQCxkdRX</td>\n",
       "      <td>322 S. Broadway</td>\n",
       "      <td>Fast Food,Restaurants,Mexican,Breakfast,Vegeta...</td>\n",
       "      <td>Salem</td>\n",
       "      <td>Mexican</td>\n",
       "      <td>2016-03-28T06:01:51Z</td>\n",
       "      <td>2017-06-27T10:01:48Z</td>\n",
       "      <td>42.755023</td>\n",
       "      <td>-71.20944</td>\n",
       "      <td>NaN</td>\n",
       "      <td>NaN</td>\n",
       "      <td>2016-03-28T06:01:51Z,2016-06-06T16:15:44Z</td>\n",
       "      <td>NaN</td>\n",
       "      <td>Taco 12 Pack</td>\n",
       "      <td>Taco Bell</td>\n",
       "      <td>NH</td>\n",
       "    </tr>\n",
       "    <tr>\n",
       "      <th>133</th>\n",
       "      <td>AVwc_9yCByjofQCxkdRX</td>\n",
       "      <td>322 S. Broadway</td>\n",
       "      <td>Fast Food,Restaurants,Mexican,Breakfast,Vegeta...</td>\n",
       "      <td>Salem</td>\n",
       "      <td>Mexican</td>\n",
       "      <td>2016-03-28T06:01:51Z</td>\n",
       "      <td>2017-06-27T10:01:48Z</td>\n",
       "      <td>42.755023</td>\n",
       "      <td>-71.20944</td>\n",
       "      <td>NaN</td>\n",
       "      <td>NaN</td>\n",
       "      <td>2016-03-28T06:01:51Z,2016-06-06T16:15:44Z</td>\n",
       "      <td>NaN</td>\n",
       "      <td>Grilled Steak Soft Taco</td>\n",
       "      <td>Taco Bell</td>\n",
       "      <td>NH</td>\n",
       "    </tr>\n",
       "    <tr>\n",
       "      <th>135</th>\n",
       "      <td>AVwc_9yCByjofQCxkdRX</td>\n",
       "      <td>322 S. Broadway</td>\n",
       "      <td>Fast Food,Restaurants,Mexican,Breakfast,Vegeta...</td>\n",
       "      <td>Salem</td>\n",
       "      <td>Mexican</td>\n",
       "      <td>2016-03-28T06:01:51Z</td>\n",
       "      <td>2017-06-27T10:01:48Z</td>\n",
       "      <td>42.755023</td>\n",
       "      <td>-71.20944</td>\n",
       "      <td>NaN</td>\n",
       "      <td>NaN</td>\n",
       "      <td>2016-03-28T06:01:51Z,2016-06-06T16:15:44Z</td>\n",
       "      <td>NaN</td>\n",
       "      <td>Fresco Grilled Steak Soft Taco</td>\n",
       "      <td>Taco Bell</td>\n",
       "      <td>NH</td>\n",
       "    </tr>\n",
       "    <tr>\n",
       "      <th>136</th>\n",
       "      <td>AVwc_9yCByjofQCxkdRX</td>\n",
       "      <td>322 S. Broadway</td>\n",
       "      <td>Fast Food,Restaurants,Mexican,Breakfast,Vegeta...</td>\n",
       "      <td>Salem</td>\n",
       "      <td>Mexican</td>\n",
       "      <td>2016-03-28T06:01:51Z</td>\n",
       "      <td>2017-06-27T10:01:48Z</td>\n",
       "      <td>42.755023</td>\n",
       "      <td>-71.20944</td>\n",
       "      <td>NaN</td>\n",
       "      <td>NaN</td>\n",
       "      <td>2016-03-28T06:01:51Z,2016-06-06T16:15:44Z</td>\n",
       "      <td>NaN</td>\n",
       "      <td>Fresco Crunchy Taco</td>\n",
       "      <td>Taco Bell</td>\n",
       "      <td>NH</td>\n",
       "    </tr>\n",
       "  </tbody>\n",
       "</table>\n",
       "</div>"
      ],
      "text/plain": [
       "                       id          address  ...       name province\n",
       "131  AVwc_9yCByjofQCxkdRX  322 S. Broadway  ...  Taco Bell       NH\n",
       "132  AVwc_9yCByjofQCxkdRX  322 S. Broadway  ...  Taco Bell       NH\n",
       "133  AVwc_9yCByjofQCxkdRX  322 S. Broadway  ...  Taco Bell       NH\n",
       "135  AVwc_9yCByjofQCxkdRX  322 S. Broadway  ...  Taco Bell       NH\n",
       "136  AVwc_9yCByjofQCxkdRX  322 S. Broadway  ...  Taco Bell       NH\n",
       "\n",
       "[5 rows x 16 columns]"
      ]
     },
     "execution_count": 140,
     "metadata": {},
     "output_type": "execute_result"
    }
   ],
   "source": [
    "data = df.copy()\n",
    "result = data[( (data['name'] == 'Taco Bell') | (data['city'] == 'New York') ) \\\n",
    "     & ( ~ data['menus.name'].isin(['Volcano Taco', 'Fresco Soft Taco'])  )]\n",
    "result.head(5)"
   ]
  },
  {
   "cell_type": "markdown",
   "id": "e3969eb3",
   "metadata": {},
   "source": [
    "## 9\n",
    "\n",
    "Давайте отберем рестораны, где значение валюты, в которой принимают оплату, не пропущено.\n",
    "\n",
    "Нужно сохранить данные в результирующий датафрейм result.\n",
    "\n",
    "Данные загружены data. "
   ]
  },
  {
   "cell_type": "code",
   "execution_count": 176,
   "id": "829066df",
   "metadata": {
    "ExecuteTime": {
     "end_time": "2023-01-20T19:28:45.176611Z",
     "start_time": "2023-01-20T19:28:45.148922Z"
    },
    "scrolled": true
   },
   "outputs": [
    {
     "data": {
      "text/html": [
       "<div>\n",
       "<style scoped>\n",
       "    .dataframe tbody tr th:only-of-type {\n",
       "        vertical-align: middle;\n",
       "    }\n",
       "\n",
       "    .dataframe tbody tr th {\n",
       "        vertical-align: top;\n",
       "    }\n",
       "\n",
       "    .dataframe thead th {\n",
       "        text-align: right;\n",
       "    }\n",
       "</style>\n",
       "<table border=\"1\" class=\"dataframe\">\n",
       "  <thead>\n",
       "    <tr style=\"text-align: right;\">\n",
       "      <th></th>\n",
       "      <th>id</th>\n",
       "      <th>address</th>\n",
       "      <th>categories</th>\n",
       "      <th>city</th>\n",
       "      <th>cuisines</th>\n",
       "      <th>dateAdded</th>\n",
       "      <th>dateUpdated</th>\n",
       "      <th>latitude</th>\n",
       "      <th>longitude</th>\n",
       "      <th>menus.category</th>\n",
       "      <th>menus.currency</th>\n",
       "      <th>menus.dateSeen</th>\n",
       "      <th>menus.description</th>\n",
       "      <th>menus.name</th>\n",
       "      <th>name</th>\n",
       "      <th>province</th>\n",
       "    </tr>\n",
       "  </thead>\n",
       "  <tbody>\n",
       "    <tr>\n",
       "      <th>15</th>\n",
       "      <td>AVwc_1y6kufWRAb51O6w</td>\n",
       "      <td>906 Park Ave SW</td>\n",
       "      <td>Coffee Shop,Restaurants,Coffeehouses</td>\n",
       "      <td>Albuquerque</td>\n",
       "      <td>Coffee Shops</td>\n",
       "      <td>2016-06-05T20:15:56Z</td>\n",
       "      <td>2017-07-06T13:28:29Z</td>\n",
       "      <td>35.08532</td>\n",
       "      <td>-106.657616</td>\n",
       "      <td>NaN</td>\n",
       "      <td>USD</td>\n",
       "      <td>2016-06-05T20:15:56Z,2016-10-20T07:09:38Z</td>\n",
       "      <td>Potatoes, onion, peppers, mushroom, avocado, b...</td>\n",
       "      <td>Mondo Veggie Burrito</td>\n",
       "      <td>Java Joe's</td>\n",
       "      <td>NM</td>\n",
       "    </tr>\n",
       "    <tr>\n",
       "      <th>16</th>\n",
       "      <td>AVwc_1y6kufWRAb51O6w</td>\n",
       "      <td>906 Park Ave SW</td>\n",
       "      <td>Coffee Shop,Restaurants,Coffeehouses</td>\n",
       "      <td>Albuquerque</td>\n",
       "      <td>Coffee Shops</td>\n",
       "      <td>2016-06-05T20:15:56Z</td>\n",
       "      <td>2017-07-06T13:28:29Z</td>\n",
       "      <td>35.08532</td>\n",
       "      <td>-106.657616</td>\n",
       "      <td>NaN</td>\n",
       "      <td>USD</td>\n",
       "      <td>2016-06-05T20:15:56Z,2016-10-20T07:09:38Z</td>\n",
       "      <td>Grilled tofu, potatoes and your choice of chil...</td>\n",
       "      <td>Tofu Burrito</td>\n",
       "      <td>Java Joe's</td>\n",
       "      <td>NM</td>\n",
       "    </tr>\n",
       "    <tr>\n",
       "      <th>17</th>\n",
       "      <td>AVwc_1y6kufWRAb51O6w</td>\n",
       "      <td>906 Park Ave SW</td>\n",
       "      <td>Coffee Shop,Restaurants,Coffeehouses</td>\n",
       "      <td>Albuquerque</td>\n",
       "      <td>Coffee Shops</td>\n",
       "      <td>2016-06-05T20:15:56Z</td>\n",
       "      <td>2017-07-06T13:28:29Z</td>\n",
       "      <td>35.08532</td>\n",
       "      <td>-106.657616</td>\n",
       "      <td>NaN</td>\n",
       "      <td>USD</td>\n",
       "      <td>2016-06-05T20:15:56Z,2016-10-20T07:09:38Z</td>\n",
       "      <td>NaN</td>\n",
       "      <td>Black Bean Burrito</td>\n",
       "      <td>Java Joe's</td>\n",
       "      <td>NM</td>\n",
       "    </tr>\n",
       "  </tbody>\n",
       "</table>\n",
       "</div>"
      ],
      "text/plain": [
       "                      id          address  ...        name province\n",
       "15  AVwc_1y6kufWRAb51O6w  906 Park Ave SW  ...  Java Joe's       NM\n",
       "16  AVwc_1y6kufWRAb51O6w  906 Park Ave SW  ...  Java Joe's       NM\n",
       "17  AVwc_1y6kufWRAb51O6w  906 Park Ave SW  ...  Java Joe's       NM\n",
       "\n",
       "[3 rows x 16 columns]"
      ]
     },
     "execution_count": 176,
     "metadata": {},
     "output_type": "execute_result"
    }
   ],
   "source": [
    " result = data[~ data['menus.currency'].isna()]\n",
    "result.head(3)\n",
    "# result = data[data['menus.currency'].notna()]"
   ]
  },
  {
   "cell_type": "markdown",
   "id": "a0d3fc6c",
   "metadata": {},
   "source": [
    "## 10\n",
    "\n",
    "Попробуйте сделать `data['categories'], data[['categories']],` посмотрите на тип и на значения их элементов.\n",
    "\n",
    "Выберете подходящие значения.\n",
    "\n",
    "`data['categories'] выдает Series, data[['categories']] выдает DataFrame. В обоих случаях тип данных object`"
   ]
  },
  {
   "cell_type": "code",
   "execution_count": 185,
   "id": "f0a46ffd",
   "metadata": {
    "ExecuteTime": {
     "end_time": "2023-01-20T19:41:51.832381Z",
     "start_time": "2023-01-20T19:41:51.825074Z"
    },
    "scrolled": true
   },
   "outputs": [
    {
     "data": {
      "text/plain": [
       "0        Restaurant Delivery Service,Restaurants,Pizza,...\n",
       "1        Restaurant Delivery Service,Restaurants,Pizza,...\n",
       "2             Golf Course, American Restaurant, and Resort\n",
       "3                                     Fast Food Restaurant\n",
       "4        Mexican Restaurant Mid-City West,Mexican Resta...\n",
       "                               ...                        \n",
       "77255                                           Restaurant\n",
       "77256                                           Restaurant\n",
       "77257                                           Restaurant\n",
       "77258                                           Restaurant\n",
       "77259                                           Restaurant\n",
       "Name: categories, Length: 77260, dtype: object"
      ]
     },
     "execution_count": 185,
     "metadata": {},
     "output_type": "execute_result"
    }
   ],
   "source": [
    "type(data['categories'])\n",
    "# pandas.core.series.Series\n",
    "data['categories']"
   ]
  },
  {
   "cell_type": "code",
   "execution_count": 186,
   "id": "03c2a851",
   "metadata": {
    "ExecuteTime": {
     "end_time": "2023-01-20T19:42:28.312291Z",
     "start_time": "2023-01-20T19:42:28.291614Z"
    }
   },
   "outputs": [
    {
     "data": {
      "text/html": [
       "<div>\n",
       "<style scoped>\n",
       "    .dataframe tbody tr th:only-of-type {\n",
       "        vertical-align: middle;\n",
       "    }\n",
       "\n",
       "    .dataframe tbody tr th {\n",
       "        vertical-align: top;\n",
       "    }\n",
       "\n",
       "    .dataframe thead th {\n",
       "        text-align: right;\n",
       "    }\n",
       "</style>\n",
       "<table border=\"1\" class=\"dataframe\">\n",
       "  <thead>\n",
       "    <tr style=\"text-align: right;\">\n",
       "      <th></th>\n",
       "      <th>categories</th>\n",
       "    </tr>\n",
       "  </thead>\n",
       "  <tbody>\n",
       "    <tr>\n",
       "      <th>0</th>\n",
       "      <td>Restaurant Delivery Service,Restaurants,Pizza,...</td>\n",
       "    </tr>\n",
       "    <tr>\n",
       "      <th>1</th>\n",
       "      <td>Restaurant Delivery Service,Restaurants,Pizza,...</td>\n",
       "    </tr>\n",
       "    <tr>\n",
       "      <th>2</th>\n",
       "      <td>Golf Course, American Restaurant, and Resort</td>\n",
       "    </tr>\n",
       "    <tr>\n",
       "      <th>3</th>\n",
       "      <td>Fast Food Restaurant</td>\n",
       "    </tr>\n",
       "    <tr>\n",
       "      <th>4</th>\n",
       "      <td>Mexican Restaurant Mid-City West,Mexican Resta...</td>\n",
       "    </tr>\n",
       "    <tr>\n",
       "      <th>...</th>\n",
       "      <td>...</td>\n",
       "    </tr>\n",
       "    <tr>\n",
       "      <th>77255</th>\n",
       "      <td>Restaurant</td>\n",
       "    </tr>\n",
       "    <tr>\n",
       "      <th>77256</th>\n",
       "      <td>Restaurant</td>\n",
       "    </tr>\n",
       "    <tr>\n",
       "      <th>77257</th>\n",
       "      <td>Restaurant</td>\n",
       "    </tr>\n",
       "    <tr>\n",
       "      <th>77258</th>\n",
       "      <td>Restaurant</td>\n",
       "    </tr>\n",
       "    <tr>\n",
       "      <th>77259</th>\n",
       "      <td>Restaurant</td>\n",
       "    </tr>\n",
       "  </tbody>\n",
       "</table>\n",
       "<p>77260 rows × 1 columns</p>\n",
       "</div>"
      ],
      "text/plain": [
       "                                              categories\n",
       "0      Restaurant Delivery Service,Restaurants,Pizza,...\n",
       "1      Restaurant Delivery Service,Restaurants,Pizza,...\n",
       "2           Golf Course, American Restaurant, and Resort\n",
       "3                                   Fast Food Restaurant\n",
       "4      Mexican Restaurant Mid-City West,Mexican Resta...\n",
       "...                                                  ...\n",
       "77255                                         Restaurant\n",
       "77256                                         Restaurant\n",
       "77257                                         Restaurant\n",
       "77258                                         Restaurant\n",
       "77259                                         Restaurant\n",
       "\n",
       "[77260 rows x 1 columns]"
      ]
     },
     "execution_count": 186,
     "metadata": {},
     "output_type": "execute_result"
    }
   ],
   "source": [
    "type(data[['categories']])\n",
    "# pandas.core.frame.DataFrame\n",
    "data[['categories']]"
   ]
  },
  {
   "cell_type": "markdown",
   "id": "81cadef2",
   "metadata": {},
   "source": [
    "## 11\n",
    "Напишите через запятую и пробел 5 городов с наибольшим количеством записей."
   ]
  },
  {
   "cell_type": "code",
   "execution_count": 215,
   "id": "9db480ad",
   "metadata": {
    "ExecuteTime": {
     "end_time": "2023-01-20T19:52:07.853728Z",
     "start_time": "2023-01-20T19:52:07.838298Z"
    }
   },
   "outputs": [
    {
     "data": {
      "text/plain": [
       "Index(['San Diego', 'Los Angeles', 'Chicago', 'San Francisco', 'New York'], dtype='object')"
      ]
     },
     "execution_count": 215,
     "metadata": {},
     "output_type": "execute_result"
    }
   ],
   "source": [
    "data.city.value_counts().head(5).index"
   ]
  },
  {
   "cell_type": "markdown",
   "id": "8b505549",
   "metadata": {},
   "source": [
    "## 16\n",
    "\n",
    "Отберите рестораны, у которых в колонке categories упоминается Pizza\n",
    "\n",
    "Укажите индекс 3-го элемента, полученного после фильтрации"
   ]
  },
  {
   "cell_type": "code",
   "execution_count": 219,
   "id": "01638a19",
   "metadata": {
    "ExecuteTime": {
     "end_time": "2023-01-20T20:00:10.628309Z",
     "start_time": "2023-01-20T20:00:10.597483Z"
    }
   },
   "outputs": [
    {
     "data": {
      "text/plain": [
       "66"
      ]
     },
     "execution_count": 219,
     "metadata": {},
     "output_type": "execute_result"
    }
   ],
   "source": [
    "data[data['categories'].str.contains('Pizza')].index[2]"
   ]
  },
  {
   "cell_type": "markdown",
   "id": "a9f9aaa3",
   "metadata": {},
   "source": [
    "## 12\n",
    "\n",
    "Посчитайте, сколько ресторанов Taco Bell находится в каждом городе. Отберите 5 городов, в которых ресторан встречается чаще всего. Количество ресторанов для этих городов с их названиями сохраните в виде объекта pd.Series в переменную result.\n",
    "\n",
    "Данные сохранены в переменную data"
   ]
  },
  {
   "cell_type": "code",
   "execution_count": 266,
   "id": "97b0db30",
   "metadata": {
    "ExecuteTime": {
     "end_time": "2023-01-20T20:29:38.795435Z",
     "start_time": "2023-01-20T20:29:38.765972Z"
    }
   },
   "outputs": [
    {
     "data": {
      "text/html": [
       "<div>\n",
       "<style scoped>\n",
       "    .dataframe tbody tr th:only-of-type {\n",
       "        vertical-align: middle;\n",
       "    }\n",
       "\n",
       "    .dataframe tbody tr th {\n",
       "        vertical-align: top;\n",
       "    }\n",
       "\n",
       "    .dataframe thead th {\n",
       "        text-align: right;\n",
       "    }\n",
       "</style>\n",
       "<table border=\"1\" class=\"dataframe\">\n",
       "  <thead>\n",
       "    <tr style=\"text-align: right;\">\n",
       "      <th></th>\n",
       "      <th>city</th>\n",
       "      <th>name</th>\n",
       "    </tr>\n",
       "  </thead>\n",
       "  <tbody>\n",
       "    <tr>\n",
       "      <th>51</th>\n",
       "      <td>Indianapolis</td>\n",
       "      <td>84</td>\n",
       "    </tr>\n",
       "    <tr>\n",
       "      <th>30</th>\n",
       "      <td>Columbus</td>\n",
       "      <td>63</td>\n",
       "    </tr>\n",
       "    <tr>\n",
       "      <th>21</th>\n",
       "      <td>Charleston</td>\n",
       "      <td>63</td>\n",
       "    </tr>\n",
       "    <tr>\n",
       "      <th>117</th>\n",
       "      <td>Tampa</td>\n",
       "      <td>62</td>\n",
       "    </tr>\n",
       "    <tr>\n",
       "      <th>132</th>\n",
       "      <td>Yukon</td>\n",
       "      <td>42</td>\n",
       "    </tr>\n",
       "  </tbody>\n",
       "</table>\n",
       "</div>"
      ],
      "text/plain": [
       "             city  name\n",
       "51   Indianapolis    84\n",
       "30       Columbus    63\n",
       "21     Charleston    63\n",
       "117         Tampa    62\n",
       "132         Yukon    42"
      ]
     },
     "execution_count": 266,
     "metadata": {},
     "output_type": "execute_result"
    }
   ],
   "source": [
    "data[data['name'] == 'Taco Bell'].groupby('city',as_index=False).agg({'name': 'count'}).\\\n",
    "sort_values(['name','city'], ascending=False)[:5]"
   ]
  },
  {
   "cell_type": "code",
   "execution_count": 255,
   "id": "91e46749",
   "metadata": {
    "ExecuteTime": {
     "end_time": "2023-01-20T20:26:05.804055Z",
     "start_time": "2023-01-20T20:26:05.786757Z"
    }
   },
   "outputs": [
    {
     "data": {
      "text/plain": [
       "Indianapolis        84\n",
       "Columbus            63\n",
       "Charleston          63\n",
       "Tampa               62\n",
       "South Lake Tahoe    42\n",
       "Name: city, dtype: int64"
      ]
     },
     "execution_count": 255,
     "metadata": {},
     "output_type": "execute_result"
    }
   ],
   "source": [
    "result = data[data['name'] == 'Taco Bell'].city.value_counts()[:5]\n",
    "result"
   ]
  },
  {
   "cell_type": "code",
   "execution_count": 139,
   "id": "06f9805f",
   "metadata": {
    "ExecuteTime": {
     "end_time": "2023-01-20T19:06:56.532550Z",
     "start_time": "2023-01-20T19:06:56.499633Z"
    },
    "scrolled": true
   },
   "outputs": [
    {
     "data": {
      "text/html": [
       "<div>\n",
       "<style scoped>\n",
       "    .dataframe tbody tr th:only-of-type {\n",
       "        vertical-align: middle;\n",
       "    }\n",
       "\n",
       "    .dataframe tbody tr th {\n",
       "        vertical-align: top;\n",
       "    }\n",
       "\n",
       "    .dataframe thead th {\n",
       "        text-align: right;\n",
       "    }\n",
       "</style>\n",
       "<table border=\"1\" class=\"dataframe\">\n",
       "  <thead>\n",
       "    <tr style=\"text-align: right;\">\n",
       "      <th></th>\n",
       "      <th>id</th>\n",
       "      <th>address</th>\n",
       "      <th>categories</th>\n",
       "      <th>city</th>\n",
       "      <th>cuisines</th>\n",
       "      <th>dateAdded</th>\n",
       "      <th>dateUpdated</th>\n",
       "      <th>latitude</th>\n",
       "      <th>longitude</th>\n",
       "      <th>menus.category</th>\n",
       "      <th>menus.currency</th>\n",
       "      <th>menus.dateSeen</th>\n",
       "      <th>menus.description</th>\n",
       "      <th>menus.name</th>\n",
       "      <th>name</th>\n",
       "      <th>province</th>\n",
       "    </tr>\n",
       "  </thead>\n",
       "  <tbody>\n",
       "    <tr>\n",
       "      <th>0</th>\n",
       "      <td>AVwc__cikufWRAb51QjV</td>\n",
       "      <td>610 Commercial St</td>\n",
       "      <td>Restaurant Delivery Service,Restaurants,Pizza,...</td>\n",
       "      <td>Atchison</td>\n",
       "      <td>Restaurant Delivery Service</td>\n",
       "      <td>2016-03-02T11:49:34Z</td>\n",
       "      <td>2017-02-01T18:04:44Z</td>\n",
       "      <td>39.56157</td>\n",
       "      <td>-95.12102</td>\n",
       "      <td>NaN</td>\n",
       "      <td>NaN</td>\n",
       "      <td>2017-02-01T18:04:44Z</td>\n",
       "      <td>NaN</td>\n",
       "      <td>Taco</td>\n",
       "      <td>Gambino's Pizza</td>\n",
       "      <td>KS</td>\n",
       "    </tr>\n",
       "  </tbody>\n",
       "</table>\n",
       "</div>"
      ],
      "text/plain": [
       "                     id            address  ...             name province\n",
       "0  AVwc__cikufWRAb51QjV  610 Commercial St  ...  Gambino's Pizza       KS\n",
       "\n",
       "[1 rows x 16 columns]"
      ]
     },
     "execution_count": 139,
     "metadata": {},
     "output_type": "execute_result"
    }
   ],
   "source": [
    "df.head(1)"
   ]
  }
 ],
 "metadata": {
  "kernelspec": {
   "display_name": "Python 3 (ipykernel)",
   "language": "python",
   "name": "python3"
  },
  "language_info": {
   "codemirror_mode": {
    "name": "ipython",
    "version": 3
   },
   "file_extension": ".py",
   "mimetype": "text/x-python",
   "name": "python",
   "nbconvert_exporter": "python",
   "pygments_lexer": "ipython3",
   "version": "3.10.6"
  },
  "varInspector": {
   "cols": {
    "lenName": 16,
    "lenType": 16,
    "lenVar": 40
   },
   "kernels_config": {
    "python": {
     "delete_cmd_postfix": "",
     "delete_cmd_prefix": "del ",
     "library": "var_list.py",
     "varRefreshCmd": "print(var_dic_list())"
    },
    "r": {
     "delete_cmd_postfix": ") ",
     "delete_cmd_prefix": "rm(",
     "library": "var_list.r",
     "varRefreshCmd": "cat(var_dic_list()) "
    }
   },
   "types_to_exclude": [
    "module",
    "function",
    "builtin_function_or_method",
    "instance",
    "_Feature"
   ],
   "window_display": false
  }
 },
 "nbformat": 4,
 "nbformat_minor": 5
}
