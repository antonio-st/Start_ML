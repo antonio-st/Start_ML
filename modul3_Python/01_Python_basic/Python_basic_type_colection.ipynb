{
 "cells": [
  {
   "cell_type": "markdown",
   "id": "937fb64f",
   "metadata": {},
   "source": [
    "## Основы Python"
   ]
  },
  {
   "cell_type": "markdown",
   "id": "6926fd60",
   "metadata": {},
   "source": [
    "### Команды для Jupyter\n",
    "\n",
    "Выйти из режима редактирования ячейки: Esc\n",
    "\n",
    "Создать ячейку ниже: b\n",
    "\n",
    "Создать ячейку выше: a\n",
    "\n",
    "Удалить ячейку: dd\n",
    "\n",
    "Вырезать ячейки: x\n",
    "\n",
    "Копировать ячейки: c\n",
    "\n",
    "Вставить копированные ячейки: v\n",
    "\n",
    "Изменить тип ячейки c \"code\" на \"markdown\" : m\n",
    "\n",
    "Выделить несколько ячеек подряд: Shift + вверх или Shift + вниз\n",
    "\n",
    "Объединить выделенные ячейки: Shift + m\n",
    "\n",
    "Выполнить ячейки:\n",
    "\n",
    "Ctrl + Enter — выполнение ячейки с сохранением фокуса\n",
    "\n",
    "Shift + Enter — выполнение ячейки с переводом фокуса на следующую "
   ]
  },
  {
   "cell_type": "code",
   "execution_count": null,
   "id": "de669d1e",
   "metadata": {},
   "outputs": [],
   "source": [
    "# простой комментарий\n",
    "\n",
    "'''\n",
    "я \n",
    "многострочный \n",
    "комментарий\n",
    "'''"
   ]
  },
  {
   "cell_type": "markdown",
   "id": "f83cb10d",
   "metadata": {},
   "source": [
    "## Переменные\n",
    "\n",
    "> переменные могут менять значения"
   ]
  },
  {
   "cell_type": "code",
   "execution_count": 2,
   "id": "76eec59a",
   "metadata": {
    "ExecuteTime": {
     "end_time": "2023-01-11T17:49:25.921366Z",
     "start_time": "2023-01-11T17:49:25.916241Z"
    }
   },
   "outputs": [
    {
     "name": "stdout",
     "output_type": "stream",
     "text": [
      "10, peace, 3.1415\n",
      "10, hello, 3.1415\n"
     ]
    }
   ],
   "source": [
    "a = 10\n",
    "b = 'peace'\n",
    "c = 3.1415\n",
    "\n",
    "print(f'{a}, {b}, {c}')\n",
    "b = 'hello' # изменили значение b\n",
    "print(f'{a}, {b}, {c}')"
   ]
  },
  {
   "cell_type": "code",
   "execution_count": 3,
   "id": "c1b6808b",
   "metadata": {
    "ExecuteTime": {
     "end_time": "2023-01-11T17:51:59.096876Z",
     "start_time": "2023-01-11T17:51:59.089468Z"
    }
   },
   "outputs": [
    {
     "name": "stdout",
     "output_type": "stream",
     "text": [
      "20, hi, 3.1415 \n"
     ]
    }
   ],
   "source": [
    "# множественное присваивание значений переменных\n",
    "var, strings, pi = 20, 'hi', 3.1415\n",
    "print(f'{var}, {strings}, {pi} ')"
   ]
  },
  {
   "cell_type": "markdown",
   "id": "0c0dd6a3",
   "metadata": {},
   "source": [
    "### Базовые операции"
   ]
  },
  {
   "cell_type": "code",
   "execution_count": 30,
   "id": "7c5c07ec",
   "metadata": {
    "ExecuteTime": {
     "end_time": "2023-01-11T18:43:21.881184Z",
     "start_time": "2023-01-11T18:43:21.874175Z"
    }
   },
   "outputs": [
    {
     "name": "stdout",
     "output_type": "stream",
     "text": [
      "46\n",
      "-138\n",
      "5.0\n",
      "Деление нацело 9 // 4 = 2\n",
      "Остаток от деления 9 % 4 = 1\n",
      "Возведение в степень 3 ** 4 = 81\n"
     ]
    }
   ],
   "source": [
    "print(28 + 18)\n",
    "print(118 - 256)\n",
    "print(25 / 5)\n",
    "print(f'Деление нацело 9 // 4 = {9 // 4}')\n",
    "print(f'Остаток от деления 9 % 4 = {9 % 4}')\n",
    "print(f'Возведение в степень 3 ** 4 = {3 ** 4}')"
   ]
  },
  {
   "cell_type": "markdown",
   "id": "92af7de7",
   "metadata": {},
   "source": [
    "`Задача`\n",
    "Посчитать доход через 5 лет в 2 банках по вкладу, исходная сумма  = 100000 рублей."
   ]
  },
  {
   "cell_type": "code",
   "execution_count": 24,
   "id": "da6b2a5e",
   "metadata": {
    "ExecuteTime": {
     "end_time": "2023-01-11T18:13:31.420688Z",
     "start_time": "2023-01-11T18:13:31.417770Z"
    }
   },
   "outputs": [
    {
     "name": "stdout",
     "output_type": "stream",
     "text": [
      "Сумма после 5 лет:\n",
      " - банк 1: 110408 \n",
      " - банк 2: 115927\n"
     ]
    }
   ],
   "source": [
    "initial_sum = 100000 # исх сумма\n",
    "interest_rate_1 = 2 # % годовых\n",
    "interest_rate_2 = 3 # % годовых\n",
    "years = 5 # длительность вклада\n",
    "\n",
    "end_sum_1 = initial_sum * ((100 + interest_rate_1) / 100)**years\n",
    "end_sum_2 = initial_sum * ((100 + interest_rate_2) / 100)**years\n",
    "print(f'Сумма после 5 лет:\\n - банк 1: {round(end_sum_1)} \\n - банк 2: {round(end_sum_2)}')"
   ]
  },
  {
   "cell_type": "code",
   "execution_count": 35,
   "id": "e5c26c81",
   "metadata": {
    "ExecuteTime": {
     "end_time": "2023-01-11T18:46:44.176153Z",
     "start_time": "2023-01-11T18:46:44.169251Z"
    }
   },
   "outputs": [
    {
     "name": "stdout",
     "output_type": "stream",
     "text": [
      "50\n",
      "25.0\n",
      "125.0\n",
      "100.0\n"
     ]
    }
   ],
   "source": [
    "# сокращенные записи выражений\n",
    "a = 10\n",
    "a *= 5 # a = a * 5\n",
    "print(a)\n",
    "a /= 2\n",
    "print(a)\n",
    "a += 100\n",
    "print(a)\n",
    "a -= 25\n",
    "print(f'{a}')"
   ]
  },
  {
   "cell_type": "markdown",
   "id": "f2afb3eb",
   "metadata": {},
   "source": [
    "### Типы данных\n",
    "для определения типа переменной можно использовать `type()`\n",
    "\n",
    "> Неизменяемые типы данных:"
   ]
  },
  {
   "cell_type": "code",
   "execution_count": 36,
   "id": "ec7b5015",
   "metadata": {
    "ExecuteTime": {
     "end_time": "2023-01-11T18:49:48.305219Z",
     "start_time": "2023-01-11T18:49:48.296297Z"
    }
   },
   "outputs": [
    {
     "data": {
      "text/plain": [
       "str"
      ]
     },
     "execution_count": 36,
     "metadata": {},
     "output_type": "execute_result"
    }
   ],
   "source": [
    "# Неизменяемые типы данных:\n",
    "# Строки (англ. \"string\", обозначаются как str)\n",
    "\n",
    "my_string = 'Hello'\n",
    "type(my_string)"
   ]
  },
  {
   "cell_type": "code",
   "execution_count": 37,
   "id": "975fd375",
   "metadata": {
    "ExecuteTime": {
     "end_time": "2023-01-11T18:50:34.503801Z",
     "start_time": "2023-01-11T18:50:34.499895Z"
    }
   },
   "outputs": [
    {
     "data": {
      "text/plain": [
       "int"
      ]
     },
     "execution_count": 37,
     "metadata": {},
     "output_type": "execute_result"
    }
   ],
   "source": [
    "# Целые числа (англ. \"integer\", обозначаются как int)\n",
    "\n",
    "years = 36\n",
    "type(years)"
   ]
  },
  {
   "cell_type": "code",
   "execution_count": 38,
   "id": "ded6e5eb",
   "metadata": {
    "ExecuteTime": {
     "end_time": "2023-01-11T18:51:09.909033Z",
     "start_time": "2023-01-11T18:51:09.901548Z"
    }
   },
   "outputs": [
    {
     "data": {
      "text/plain": [
       "float"
      ]
     },
     "execution_count": 38,
     "metadata": {},
     "output_type": "execute_result"
    }
   ],
   "source": [
    "# Числа с плавающей точкой (англ. \"float\",  обозначаются как float)\n",
    "\n",
    "pi = 3.1415\n",
    "type(pi)"
   ]
  },
  {
   "cell_type": "code",
   "execution_count": 39,
   "id": "3bc56802",
   "metadata": {
    "ExecuteTime": {
     "end_time": "2023-01-11T18:52:33.836288Z",
     "start_time": "2023-01-11T18:52:33.827854Z"
    }
   },
   "outputs": [
    {
     "data": {
      "text/plain": [
       "tuple"
      ]
     },
     "execution_count": 39,
     "metadata": {},
     "output_type": "execute_result"
    }
   ],
   "source": [
    "# Кортежи (англ. \"tuple\", обозначаются как tuple)\n",
    "\n",
    "numbers_1 = (1, 2, 3, 4, 5)\n",
    "type(numbers_1)"
   ]
  },
  {
   "cell_type": "code",
   "execution_count": 41,
   "id": "92347e9e",
   "metadata": {
    "ExecuteTime": {
     "end_time": "2023-01-11T18:53:21.038936Z",
     "start_time": "2023-01-11T18:53:21.031167Z"
    }
   },
   "outputs": [
    {
     "data": {
      "text/plain": [
       "bool"
      ]
     },
     "execution_count": 41,
     "metadata": {},
     "output_type": "execute_result"
    }
   ],
   "source": [
    "# Логический тип данных (англ. \"boolean\", обозначаются как bool)\n",
    "\n",
    "a = 28 > 15\n",
    "type(a)"
   ]
  },
  {
   "cell_type": "markdown",
   "id": "a9d807e3",
   "metadata": {},
   "source": [
    "> Изменяемые типы данных:"
   ]
  },
  {
   "cell_type": "code",
   "execution_count": 42,
   "id": "f8eb397b",
   "metadata": {
    "ExecuteTime": {
     "end_time": "2023-01-11T18:55:06.978944Z",
     "start_time": "2023-01-11T18:55:06.970661Z"
    }
   },
   "outputs": [
    {
     "data": {
      "text/plain": [
       "list"
      ]
     },
     "execution_count": 42,
     "metadata": {},
     "output_type": "execute_result"
    }
   ],
   "source": [
    "# Списки (англ. \"list\", обозначаются как list)\n",
    "\n",
    "my_list = ['lucky', 'sirius86', 288]\n",
    "type(my_list)"
   ]
  },
  {
   "cell_type": "code",
   "execution_count": 43,
   "id": "36e1974a",
   "metadata": {
    "ExecuteTime": {
     "end_time": "2023-01-11T18:57:41.733772Z",
     "start_time": "2023-01-11T18:57:41.725728Z"
    }
   },
   "outputs": [
    {
     "data": {
      "text/plain": [
       "dict"
      ]
     },
     "execution_count": 43,
     "metadata": {},
     "output_type": "execute_result"
    }
   ],
   "source": [
    "# Словари (англ. \"dictionary\", обозначаются как dict)\n",
    "\n",
    "my_dict = {\n",
    "    'lists': 'mutable',\n",
    "    'Strings': 'immutable',\n",
    "    'Numbers': 'immutable'\n",
    "}\n",
    "type(my_dict)"
   ]
  },
  {
   "cell_type": "markdown",
   "id": "8db0fac7",
   "metadata": {},
   "source": [
    "## Логические операторы"
   ]
  }
 ],
 "metadata": {
  "kernelspec": {
   "display_name": "Python 3 (ipykernel)",
   "language": "python",
   "name": "python3"
  },
  "language_info": {
   "codemirror_mode": {
    "name": "ipython",
    "version": 3
   },
   "file_extension": ".py",
   "mimetype": "text/x-python",
   "name": "python",
   "nbconvert_exporter": "python",
   "pygments_lexer": "ipython3",
   "version": "3.10.6"
  },
  "varInspector": {
   "cols": {
    "lenName": 16,
    "lenType": 16,
    "lenVar": 40
   },
   "kernels_config": {
    "python": {
     "delete_cmd_postfix": "",
     "delete_cmd_prefix": "del ",
     "library": "var_list.py",
     "varRefreshCmd": "print(var_dic_list())"
    },
    "r": {
     "delete_cmd_postfix": ") ",
     "delete_cmd_prefix": "rm(",
     "library": "var_list.r",
     "varRefreshCmd": "cat(var_dic_list()) "
    }
   },
   "types_to_exclude": [
    "module",
    "function",
    "builtin_function_or_method",
    "instance",
    "_Feature"
   ],
   "window_display": false
  }
 },
 "nbformat": 4,
 "nbformat_minor": 5
}
