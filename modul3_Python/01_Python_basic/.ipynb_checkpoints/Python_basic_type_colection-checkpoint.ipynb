{
 "cells": [
  {
   "cell_type": "markdown",
   "id": "937fb64f",
   "metadata": {},
   "source": [
    "## Основы Python"
   ]
  },
  {
   "cell_type": "markdown",
   "id": "6926fd60",
   "metadata": {},
   "source": [
    "### Команды для Jupyter\n",
    "\n",
    "Выйти из режима редактирования ячейки: Esc\n",
    "\n",
    "Создать ячейку ниже: b\n",
    "\n",
    "Создать ячейку выше: a\n",
    "\n",
    "Удалить ячейку: dd\n",
    "\n",
    "Вырезать ячейки: x\n",
    "\n",
    "Копировать ячейки: c\n",
    "\n",
    "Вставить копированные ячейки: v\n",
    "\n",
    "Изменить тип ячейки c \"code\" на \"markdown\" : m\n",
    "\n",
    "Выделить несколько ячеек подряд: Shift + вверх или Shift + вниз\n",
    "\n",
    "Объединить выделенные ячейки: Shift + m\n",
    "\n",
    "Выполнить ячейки:\n",
    "\n",
    "Ctrl + Enter — выполнение ячейки с сохранением фокуса\n",
    "\n",
    "Shift + Enter — выполнение ячейки с переводом фокуса на следующую "
   ]
  },
  {
   "cell_type": "code",
   "execution_count": null,
   "id": "de669d1e",
   "metadata": {},
   "outputs": [],
   "source": [
    "# простой комментарий\n",
    "\n",
    "'''\n",
    "я \n",
    "многострочный \n",
    "комментарий\n",
    "'''"
   ]
  },
  {
   "cell_type": "markdown",
   "id": "f83cb10d",
   "metadata": {},
   "source": [
    "## Переменные\n",
    "\n",
    "> переменные могут менять значения"
   ]
  },
  {
   "cell_type": "code",
   "execution_count": 2,
   "id": "76eec59a",
   "metadata": {
    "ExecuteTime": {
     "end_time": "2023-01-11T17:49:25.921366Z",
     "start_time": "2023-01-11T17:49:25.916241Z"
    }
   },
   "outputs": [
    {
     "name": "stdout",
     "output_type": "stream",
     "text": [
      "10, peace, 3.1415\n",
      "10, hello, 3.1415\n"
     ]
    }
   ],
   "source": [
    "a = 10\n",
    "b = 'peace'\n",
    "c = 3.1415\n",
    "\n",
    "print(f'{a}, {b}, {c}')\n",
    "b = 'hello' # изменили значение b\n",
    "print(f'{a}, {b}, {c}')"
   ]
  },
  {
   "cell_type": "code",
   "execution_count": 3,
   "id": "c1b6808b",
   "metadata": {
    "ExecuteTime": {
     "end_time": "2023-01-11T17:51:59.096876Z",
     "start_time": "2023-01-11T17:51:59.089468Z"
    }
   },
   "outputs": [
    {
     "name": "stdout",
     "output_type": "stream",
     "text": [
      "20, hi, 3.1415 \n"
     ]
    }
   ],
   "source": [
    "# множественное присваивание значений переменных\n",
    "var, strings, pi = 20, 'hi', 3.1415\n",
    "print(f'{var}, {strings}, {pi} ')"
   ]
  },
  {
   "cell_type": "markdown",
   "id": "0c0dd6a3",
   "metadata": {},
   "source": [
    "### Базовые операции"
   ]
  },
  {
   "cell_type": "code",
   "execution_count": 30,
   "id": "7c5c07ec",
   "metadata": {
    "ExecuteTime": {
     "end_time": "2023-01-11T18:43:21.881184Z",
     "start_time": "2023-01-11T18:43:21.874175Z"
    }
   },
   "outputs": [
    {
     "name": "stdout",
     "output_type": "stream",
     "text": [
      "46\n",
      "-138\n",
      "5.0\n",
      "Деление нацело 9 // 4 = 2\n",
      "Остаток от деления 9 % 4 = 1\n",
      "Возведение в степень 3 ** 4 = 81\n"
     ]
    }
   ],
   "source": [
    "print(28 + 18)\n",
    "print(118 - 256)\n",
    "print(25 / 5)\n",
    "print(f'Деление нацело 9 // 4 = {9 // 4}')\n",
    "print(f'Остаток от деления 9 % 4 = {9 % 4}')\n",
    "print(f'Возведение в степень 3 ** 4 = {3 ** 4}')"
   ]
  },
  {
   "cell_type": "markdown",
   "id": "92af7de7",
   "metadata": {},
   "source": [
    "`Задача`\n",
    "Посчитать доход через 5 лет в 2 банках по вкладу, исходная сумма  = 100000 рублей."
   ]
  },
  {
   "cell_type": "code",
   "execution_count": 24,
   "id": "da6b2a5e",
   "metadata": {
    "ExecuteTime": {
     "end_time": "2023-01-11T18:13:31.420688Z",
     "start_time": "2023-01-11T18:13:31.417770Z"
    }
   },
   "outputs": [
    {
     "name": "stdout",
     "output_type": "stream",
     "text": [
      "Сумма после 5 лет:\n",
      " - банк 1: 110408 \n",
      " - банк 2: 115927\n"
     ]
    }
   ],
   "source": [
    "initial_sum = 100000 # исх сумма\n",
    "interest_rate_1 = 2 # % годовых\n",
    "interest_rate_2 = 3 # % годовых\n",
    "years = 5 # длительность вклада\n",
    "\n",
    "end_sum_1 = initial_sum * ((100 + interest_rate_1) / 100)**years\n",
    "end_sum_2 = initial_sum * ((100 + interest_rate_2) / 100)**years\n",
    "print(f'Сумма после 5 лет:\\n - банк 1: {round(end_sum_1)} \\n - банк 2: {round(end_sum_2)}')"
   ]
  },
  {
   "cell_type": "code",
   "execution_count": 35,
   "id": "e5c26c81",
   "metadata": {
    "ExecuteTime": {
     "end_time": "2023-01-11T18:46:44.176153Z",
     "start_time": "2023-01-11T18:46:44.169251Z"
    }
   },
   "outputs": [
    {
     "name": "stdout",
     "output_type": "stream",
     "text": [
      "50\n",
      "25.0\n",
      "125.0\n",
      "100.0\n"
     ]
    }
   ],
   "source": [
    "# сокращенные записи выражений\n",
    "a = 10\n",
    "a *= 5 # a = a * 5\n",
    "print(a)\n",
    "a /= 2\n",
    "print(a)\n",
    "a += 100\n",
    "print(a)\n",
    "a -= 25\n",
    "print(f'{a}')"
   ]
  },
  {
   "cell_type": "markdown",
   "id": "f2afb3eb",
   "metadata": {},
   "source": [
    "### Типы данных\n",
    "для определения типа переменной можно использовать `type()`\n",
    "\n",
    "> Неизменяемые типы данных:"
   ]
  },
  {
   "cell_type": "code",
   "execution_count": 36,
   "id": "ec7b5015",
   "metadata": {
    "ExecuteTime": {
     "end_time": "2023-01-11T18:49:48.305219Z",
     "start_time": "2023-01-11T18:49:48.296297Z"
    }
   },
   "outputs": [
    {
     "data": {
      "text/plain": [
       "str"
      ]
     },
     "execution_count": 36,
     "metadata": {},
     "output_type": "execute_result"
    }
   ],
   "source": [
    "# Неизменяемые типы данных:\n",
    "# Строки (англ. \"string\", обозначаются как str)\n",
    "\n",
    "my_string = 'Hello'\n",
    "type(my_string)"
   ]
  },
  {
   "cell_type": "code",
   "execution_count": 37,
   "id": "975fd375",
   "metadata": {
    "ExecuteTime": {
     "end_time": "2023-01-11T18:50:34.503801Z",
     "start_time": "2023-01-11T18:50:34.499895Z"
    }
   },
   "outputs": [
    {
     "data": {
      "text/plain": [
       "int"
      ]
     },
     "execution_count": 37,
     "metadata": {},
     "output_type": "execute_result"
    }
   ],
   "source": [
    "# Целые числа (англ. \"integer\", обозначаются как int)\n",
    "\n",
    "years = 36\n",
    "type(years)"
   ]
  },
  {
   "cell_type": "code",
   "execution_count": 38,
   "id": "ded6e5eb",
   "metadata": {
    "ExecuteTime": {
     "end_time": "2023-01-11T18:51:09.909033Z",
     "start_time": "2023-01-11T18:51:09.901548Z"
    }
   },
   "outputs": [
    {
     "data": {
      "text/plain": [
       "float"
      ]
     },
     "execution_count": 38,
     "metadata": {},
     "output_type": "execute_result"
    }
   ],
   "source": [
    "# Числа с плавающей точкой (англ. \"float\",  обозначаются как float)\n",
    "\n",
    "pi = 3.1415\n",
    "type(pi)"
   ]
  },
  {
   "cell_type": "code",
   "execution_count": 39,
   "id": "3bc56802",
   "metadata": {
    "ExecuteTime": {
     "end_time": "2023-01-11T18:52:33.836288Z",
     "start_time": "2023-01-11T18:52:33.827854Z"
    }
   },
   "outputs": [
    {
     "data": {
      "text/plain": [
       "tuple"
      ]
     },
     "execution_count": 39,
     "metadata": {},
     "output_type": "execute_result"
    }
   ],
   "source": [
    "# Кортежи (англ. \"tuple\", обозначаются как tuple)\n",
    "\n",
    "numbers_1 = (1, 2, 3, 4, 5)\n",
    "type(numbers_1)"
   ]
  },
  {
   "cell_type": "code",
   "execution_count": 41,
   "id": "92347e9e",
   "metadata": {
    "ExecuteTime": {
     "end_time": "2023-01-11T18:53:21.038936Z",
     "start_time": "2023-01-11T18:53:21.031167Z"
    }
   },
   "outputs": [
    {
     "data": {
      "text/plain": [
       "bool"
      ]
     },
     "execution_count": 41,
     "metadata": {},
     "output_type": "execute_result"
    }
   ],
   "source": [
    "# Логический тип данных (англ. \"boolean\", обозначаются как bool)\n",
    "\n",
    "a = 28 > 15\n",
    "type(a)"
   ]
  },
  {
   "cell_type": "markdown",
   "id": "a9d807e3",
   "metadata": {},
   "source": [
    "> Изменяемые типы данных:"
   ]
  },
  {
   "cell_type": "code",
   "execution_count": 42,
   "id": "f8eb397b",
   "metadata": {
    "ExecuteTime": {
     "end_time": "2023-01-11T18:55:06.978944Z",
     "start_time": "2023-01-11T18:55:06.970661Z"
    }
   },
   "outputs": [
    {
     "data": {
      "text/plain": [
       "list"
      ]
     },
     "execution_count": 42,
     "metadata": {},
     "output_type": "execute_result"
    }
   ],
   "source": [
    "# Списки (англ. \"list\", обозначаются как list)\n",
    "\n",
    "my_list = ['lucky', 'sirius86', 288]\n",
    "type(my_list)"
   ]
  },
  {
   "cell_type": "code",
   "execution_count": 1,
   "id": "36e1974a",
   "metadata": {
    "ExecuteTime": {
     "end_time": "2023-01-12T08:37:16.913490Z",
     "start_time": "2023-01-12T08:37:16.882491Z"
    }
   },
   "outputs": [
    {
     "data": {
      "text/plain": [
       "dict"
      ]
     },
     "execution_count": 1,
     "metadata": {},
     "output_type": "execute_result"
    }
   ],
   "source": [
    "# Словари (англ. \"dictionary\", обозначаются как dict)\n",
    "\n",
    "my_dict = {\n",
    "    'lists': 'mutable',\n",
    "    'Strings': 'immutable',\n",
    "    'Numbers': 'immutable'\n",
    "}\n",
    "type(my_dict)"
   ]
  },
  {
   "cell_type": "markdown",
   "id": "8db0fac7",
   "metadata": {},
   "source": [
    "## Логические операторы"
   ]
  },
  {
   "cell_type": "code",
   "execution_count": 2,
   "id": "13953b6c",
   "metadata": {
    "ExecuteTime": {
     "end_time": "2023-01-12T08:58:36.525104Z",
     "start_time": "2023-01-12T08:58:36.510102Z"
    }
   },
   "outputs": [
    {
     "data": {
      "text/plain": [
       "True"
      ]
     },
     "execution_count": 2,
     "metadata": {},
     "output_type": "execute_result"
    }
   ],
   "source": [
    "# оператор and\n",
    "# Оператор and будет возвращать True, если в выражении И условие слева И условие справа истинно.\n",
    "\n",
    "5 == 5 and 25 < 26 "
   ]
  },
  {
   "cell_type": "code",
   "execution_count": 10,
   "id": "ebaa66c4",
   "metadata": {
    "ExecuteTime": {
     "end_time": "2023-01-12T09:03:12.341979Z",
     "start_time": "2023-01-12T09:03:12.320979Z"
    }
   },
   "outputs": [
    {
     "name": "stdout",
     "output_type": "stream",
     "text": [
      "True\n",
      "False\n"
     ]
    }
   ],
   "source": [
    "# оператор or\n",
    "# Этот оператор будет возвращать True, \n",
    "# если хотя бы одно из условий слева или справа истинное, \n",
    "# и возвращать False, если оба условия ложные\n",
    "\n",
    "print(type(3.14) == int or 28 == 28)\n",
    "print(34 > 100 or 2 ** 3 == 9)"
   ]
  },
  {
   "cell_type": "code",
   "execution_count": 12,
   "id": "c2a6f37b",
   "metadata": {
    "ExecuteTime": {
     "end_time": "2023-01-12T09:07:58.127972Z",
     "start_time": "2023-01-12T09:07:58.117972Z"
    },
    "scrolled": true
   },
   "outputs": [
    {
     "name": "stdout",
     "output_type": "stream",
     "text": [
      "True\n"
     ]
    },
    {
     "data": {
      "text/plain": [
       "False"
      ]
     },
     "execution_count": 12,
     "metadata": {},
     "output_type": "execute_result"
    }
   ],
   "source": [
    "# Оператор not\n",
    "# Этот унарный (т. е. применяется только к одному выражению,\n",
    "# стоящему справа от него) оператор изменяет логическое значение на противоположное, инвертирует его.\n",
    "# Например:\n",
    "print(False or not False)\n",
    "not True"
   ]
  },
  {
   "cell_type": "markdown",
   "id": "fd98c892",
   "metadata": {},
   "source": [
    "### Приоритетность операторов\n",
    "\n",
    "1. Скобки ()\n",
    "\n",
    "2. not\n",
    "\n",
    "3. and\n",
    "\n",
    "4. or"
   ]
  },
  {
   "cell_type": "markdown",
   "id": "35531cb7",
   "metadata": {},
   "source": [
    "### Операторы принадлежности\n",
    "> оператор in"
   ]
  },
  {
   "cell_type": "code",
   "execution_count": 15,
   "id": "662680d5",
   "metadata": {
    "ExecuteTime": {
     "end_time": "2023-01-12T09:13:43.806533Z",
     "start_time": "2023-01-12T09:13:43.791531Z"
    }
   },
   "outputs": [
    {
     "name": "stdout",
     "output_type": "stream",
     "text": [
      "True\n",
      "False\n"
     ]
    }
   ],
   "source": [
    "# возвращает логическое значение True или False \n",
    "# в зависимости от того присутствует ли значение в последовательности\n",
    "\n",
    "animals = ['cat', 'dog', 'bird']\n",
    "\n",
    "print('bird' in animals)\n",
    "print('text1' in animals)"
   ]
  },
  {
   "cell_type": "markdown",
   "id": "dcc4df70",
   "metadata": {},
   "source": [
    "> Оператор not in"
   ]
  },
  {
   "cell_type": "code",
   "execution_count": 16,
   "id": "e826801c",
   "metadata": {
    "ExecuteTime": {
     "end_time": "2023-01-12T09:15:48.812040Z",
     "start_time": "2023-01-12T09:15:48.797041Z"
    }
   },
   "outputs": [
    {
     "data": {
      "text/plain": [
       "True"
      ]
     },
     "execution_count": 16,
     "metadata": {},
     "output_type": "execute_result"
    }
   ],
   "source": [
    "animals = ['cat', 'dog', 'bird']\n",
    "\n",
    "'Text' not in animals"
   ]
  },
  {
   "cell_type": "markdown",
   "id": "25da1bf7",
   "metadata": {},
   "source": [
    "### > Коллекции: Строки\n",
    "\n",
    "Строка (string) — это неизменяемый упорядоченный тип данных, представляющий собой последовательность символов, заключенную в кавычки \"\".\n",
    "\n",
    "Кавычки могут быть как одинарными, так и двойными."
   ]
  },
  {
   "cell_type": "code",
   "execution_count": 18,
   "id": "71b1639c",
   "metadata": {
    "ExecuteTime": {
     "end_time": "2023-01-12T12:09:27.710978Z",
     "start_time": "2023-01-12T12:09:27.694943Z"
    }
   },
   "outputs": [
    {
     "name": "stdout",
     "output_type": "stream",
     "text": [
      "Python\n",
      "Monti Python\n"
     ]
    }
   ],
   "source": [
    "language = 'Python'\n",
    "name = 'Monti '\n",
    "print(language)\n",
    "print(name + language) # сложение строк"
   ]
  },
  {
   "cell_type": "code",
   "execution_count": 25,
   "id": "907dc1db",
   "metadata": {
    "ExecuteTime": {
     "end_time": "2023-01-12T12:11:49.335784Z",
     "start_time": "2023-01-12T12:11:49.316783Z"
    }
   },
   "outputs": [
    {
     "name": "stdout",
     "output_type": "stream",
     "text": [
      "learn learn learn learn learn \n"
     ]
    }
   ],
   "source": [
    "# умножение строк\n",
    "target = 'learn '\n",
    "print(target * 5)"
   ]
  },
  {
   "cell_type": "code",
   "execution_count": 26,
   "id": "381bfc9d",
   "metadata": {
    "ExecuteTime": {
     "end_time": "2023-01-12T12:14:25.376687Z",
     "start_time": "2023-01-12T12:14:25.356641Z"
    }
   },
   "outputs": [
    {
     "name": "stdout",
     "output_type": "stream",
     "text": [
      "Wake up, Neo. The Matrix has you\n"
     ]
    }
   ],
   "source": [
    "name = 'Neo'\n",
    "reality = 'Matrix'\n",
    "print(f'Wake up, {name}. The {reality} has you')"
   ]
  },
  {
   "cell_type": "markdown",
   "id": "c0971dc7",
   "metadata": {},
   "source": [
    "### > Коллекции: Списки\n",
    "**Список (list)** — это упорядоченная и изменяемая последовательность, позволяющая хранить внутри себя значения различных типов. Для создания списка в Python необходимо перечислить значения в квадратных скобках [].\n",
    "\n",
    "*Запоминает порядок, в котором элементы были добавлены.*"
   ]
  },
  {
   "cell_type": "code",
   "execution_count": 27,
   "id": "c83d5968",
   "metadata": {
    "ExecuteTime": {
     "end_time": "2023-01-12T12:21:45.939650Z",
     "start_time": "2023-01-12T12:21:45.921493Z"
    }
   },
   "outputs": [
    {
     "name": "stdout",
     "output_type": "stream",
     "text": [
      "<class 'list'>\n"
     ]
    }
   ],
   "source": [
    "my_list = [1, 2, 3, 4, 5, 'Start'] # объявление и заполнение списка\n",
    "new_list = [] # пустой список\n",
    "print(type(new_list))"
   ]
  },
  {
   "cell_type": "code",
   "execution_count": 29,
   "id": "90e9b4c0",
   "metadata": {
    "ExecuteTime": {
     "end_time": "2023-01-12T12:23:24.468628Z",
     "start_time": "2023-01-12T12:23:24.454549Z"
    }
   },
   "outputs": [
    {
     "name": "stdout",
     "output_type": "stream",
     "text": [
      "Длина списка my_list: 6\n"
     ]
    }
   ],
   "source": [
    "print(f'Длина списка my_list: {len(my_list)}')"
   ]
  },
  {
   "cell_type": "code",
   "execution_count": 33,
   "id": "1c88c3a8",
   "metadata": {
    "ExecuteTime": {
     "end_time": "2023-01-12T12:25:55.394110Z",
     "start_time": "2023-01-12T12:25:55.379112Z"
    }
   },
   "outputs": [
    {
     "name": "stdout",
     "output_type": "stream",
     "text": [
      "3.14 28 Python\n"
     ]
    }
   ],
   "source": [
    "new_list = [3.14, 28, 'Python'] # элементы списка могут быть разного типа\n",
    "print(*new_list)"
   ]
  },
  {
   "cell_type": "code",
   "execution_count": 35,
   "id": "d4dd1556",
   "metadata": {
    "ExecuteTime": {
     "end_time": "2023-01-12T12:29:22.268196Z",
     "start_time": "2023-01-12T12:29:22.259193Z"
    }
   },
   "outputs": [
    {
     "data": {
      "text/plain": [
       "[1, 2, 3, 4, 5, 'Start', 3.14, 28, 'Python']"
      ]
     },
     "execution_count": 35,
     "metadata": {},
     "output_type": "execute_result"
    }
   ],
   "source": [
    "# сложение списков\n",
    "my_list + new_list"
   ]
  },
  {
   "cell_type": "markdown",
   "id": "667ca7db",
   "metadata": {},
   "source": [
    "> добавление элемента в конец списка: \n",
    "`.append()`"
   ]
  },
  {
   "cell_type": "code",
   "execution_count": 38,
   "id": "be9b1a08",
   "metadata": {
    "ExecuteTime": {
     "end_time": "2023-01-12T12:30:52.994766Z",
     "start_time": "2023-01-12T12:30:52.974766Z"
    }
   },
   "outputs": [],
   "source": [
    "my_list.append('Java Script') # добавление проходит при каждом запуске ячейки"
   ]
  },
  {
   "cell_type": "code",
   "execution_count": 39,
   "id": "4b3664db",
   "metadata": {
    "ExecuteTime": {
     "end_time": "2023-01-12T12:33:06.241212Z",
     "start_time": "2023-01-12T12:33:06.231211Z"
    }
   },
   "outputs": [
    {
     "data": {
      "text/plain": [
       "[1, 2, 3, 4, 5, 'Start', 'Java Script', 'Java Script']"
      ]
     },
     "execution_count": 39,
     "metadata": {},
     "output_type": "execute_result"
    }
   ],
   "source": [
    "my_list"
   ]
  },
  {
   "cell_type": "markdown",
   "id": "d1a0df61",
   "metadata": {},
   "source": [
    "#### Удаление элементов списка"
   ]
  },
  {
   "cell_type": "code",
   "execution_count": 40,
   "id": "b639f076",
   "metadata": {
    "ExecuteTime": {
     "end_time": "2023-01-12T12:34:47.177236Z",
     "start_time": "2023-01-12T12:34:47.166235Z"
    }
   },
   "outputs": [
    {
     "name": "stdout",
     "output_type": "stream",
     "text": [
      "Java Script\n"
     ]
    }
   ],
   "source": [
    "print(my_list.pop()) # удаление последнего элемента"
   ]
  },
  {
   "cell_type": "code",
   "execution_count": 41,
   "id": "0706afa7",
   "metadata": {
    "ExecuteTime": {
     "end_time": "2023-01-12T12:35:22.549840Z",
     "start_time": "2023-01-12T12:35:22.540839Z"
    }
   },
   "outputs": [
    {
     "name": "stdout",
     "output_type": "stream",
     "text": [
      "2\n"
     ]
    }
   ],
   "source": [
    "print(my_list.pop(1)) # удаление второго элемента"
   ]
  },
  {
   "cell_type": "code",
   "execution_count": 42,
   "id": "3cbb0332",
   "metadata": {
    "ExecuteTime": {
     "end_time": "2023-01-12T12:36:23.127099Z",
     "start_time": "2023-01-12T12:36:23.105058Z"
    }
   },
   "outputs": [
    {
     "name": "stdout",
     "output_type": "stream",
     "text": [
      "None\n"
     ]
    },
    {
     "data": {
      "text/plain": [
       "[1, 3, 4, 'Start', 'Java Script']"
      ]
     },
     "execution_count": 42,
     "metadata": {},
     "output_type": "execute_result"
    }
   ],
   "source": [
    "print(my_list.remove(5)) # удаление элемента по его названию\n",
    "my_list"
   ]
  },
  {
   "cell_type": "code",
   "execution_count": 43,
   "id": "b9bc1c9f",
   "metadata": {
    "ExecuteTime": {
     "end_time": "2023-01-12T12:37:47.946273Z",
     "start_time": "2023-01-12T12:37:47.936270Z"
    }
   },
   "outputs": [
    {
     "data": {
      "text/plain": [
       "'Start'"
      ]
     },
     "execution_count": 43,
     "metadata": {},
     "output_type": "execute_result"
    }
   ],
   "source": [
    "my_list[3] # вывести 4 элемент списка"
   ]
  },
  {
   "cell_type": "markdown",
   "id": "ecd473a3",
   "metadata": {},
   "source": [
    "### > Кортежи (tuple)\n",
    "\n",
    "Кортеж (tuple) — это упорядоченная неизменяемая коллекция. Кортеж обозначается в Python круглыми скобками (). "
   ]
  },
  {
   "cell_type": "code",
   "execution_count": 33,
   "id": "fdcc66d5",
   "metadata": {
    "ExecuteTime": {
     "end_time": "2023-01-12T13:33:50.115887Z",
     "start_time": "2023-01-12T13:33:50.099886Z"
    }
   },
   "outputs": [
    {
     "data": {
      "text/plain": [
       "(1, 2, 3)"
      ]
     },
     "execution_count": 33,
     "metadata": {},
     "output_type": "execute_result"
    }
   ],
   "source": [
    "my_typle = (1, 2, 3) # создание кортежа\n",
    "my_typle"
   ]
  },
  {
   "cell_type": "code",
   "execution_count": 34,
   "id": "79ea4f1c",
   "metadata": {
    "ExecuteTime": {
     "end_time": "2023-01-12T13:34:37.539309Z",
     "start_time": "2023-01-12T13:34:37.530306Z"
    }
   },
   "outputs": [
    {
     "data": {
      "text/plain": [
       "tuple"
      ]
     },
     "execution_count": 34,
     "metadata": {},
     "output_type": "execute_result"
    }
   ],
   "source": [
    "my_typle_one = ('Test', ) # создание кортежа с 1 элементом\n",
    "type(my_typle_one)"
   ]
  },
  {
   "cell_type": "code",
   "execution_count": 35,
   "id": "c6ec5265",
   "metadata": {
    "ExecuteTime": {
     "end_time": "2023-01-12T13:36:07.129952Z",
     "start_time": "2023-01-12T13:36:07.111948Z"
    }
   },
   "outputs": [
    {
     "data": {
      "text/plain": [
       "(25, 'Action', 1, 2, 3, 'Test')"
      ]
     },
     "execution_count": 35,
     "metadata": {},
     "output_type": "execute_result"
    }
   ],
   "source": [
    "# сложение кортежа, по факту создается новый объект\n",
    "(25, 'Action') + my_typle + my_typle_one"
   ]
  },
  {
   "cell_type": "markdown",
   "id": "852c5f05",
   "metadata": {},
   "source": [
    "**!!! Кортежи применяют когда требуются удобства списков, но в то же время важна неизменяемость данных.**"
   ]
  },
  {
   "cell_type": "markdown",
   "id": "5f1c00f5",
   "metadata": {},
   "source": [
    "### Set (Множества)\n",
    "`Множество (set)` — неупорядоченная и не индексируемая коллекция. Она особенна тем, что хранит только уникальные элементы. Множества обозначаются фигурными скобками `{}`"
   ]
  },
  {
   "cell_type": "code",
   "execution_count": null,
   "id": "0d269f4d",
   "metadata": {},
   "outputs": [],
   "source": []
  }
 ],
 "metadata": {
  "kernelspec": {
   "display_name": "Python 3 (ipykernel)",
   "language": "python",
   "name": "python3"
  },
  "language_info": {
   "codemirror_mode": {
    "name": "ipython",
    "version": 3
   },
   "file_extension": ".py",
   "mimetype": "text/x-python",
   "name": "python",
   "nbconvert_exporter": "python",
   "pygments_lexer": "ipython3",
   "version": "3.10.5"
  },
  "varInspector": {
   "cols": {
    "lenName": 16,
    "lenType": 16,
    "lenVar": 40
   },
   "kernels_config": {
    "python": {
     "delete_cmd_postfix": "",
     "delete_cmd_prefix": "del ",
     "library": "var_list.py",
     "varRefreshCmd": "print(var_dic_list())"
    },
    "r": {
     "delete_cmd_postfix": ") ",
     "delete_cmd_prefix": "rm(",
     "library": "var_list.r",
     "varRefreshCmd": "cat(var_dic_list()) "
    }
   },
   "types_to_exclude": [
    "module",
    "function",
    "builtin_function_or_method",
    "instance",
    "_Feature"
   ],
   "window_display": false
  }
 },
 "nbformat": 4,
 "nbformat_minor": 5
}
