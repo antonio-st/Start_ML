{
 "cells": [
  {
   "cell_type": "markdown",
   "metadata": {},
   "source": [
    "\n",
    "> Настройка Jupyter, habr:\n",
    "+ https://habr.com/ru/post/483408/\n",
    "\n",
    "> Конспект лекции: \n",
    "\n",
    "+ https://abrupt-moose-9e7.notion.site/1-Python-501228a13dca4f7395deabe3c2ecbd94\n",
    "\n"
   ]
  },
  {
   "cell_type": "markdown",
   "metadata": {},
   "source": [
    "### `Базовые операции`"
   ]
  },
  {
   "cell_type": "code",
   "execution_count": 3,
   "metadata": {},
   "outputs": [
    {
     "data": {
      "text/plain": [
       "5"
      ]
     },
     "execution_count": 3,
     "metadata": {},
     "output_type": "execute_result"
    }
   ],
   "source": [
    "# БАЗОВЫЕ ОПЕРАЦИИ\n",
    "\n",
    "a = 5 # присваивание\n",
    "a"
   ]
  },
  {
   "cell_type": "code",
   "execution_count": 4,
   "metadata": {},
   "outputs": [
    {
     "data": {
      "text/plain": [
       "60"
      ]
     },
     "execution_count": 4,
     "metadata": {},
     "output_type": "execute_result"
    }
   ],
   "source": [
    "5 * 12"
   ]
  },
  {
   "cell_type": "code",
   "execution_count": 5,
   "metadata": {},
   "outputs": [
    {
     "data": {
      "text/plain": [
       "55"
      ]
     },
     "execution_count": 5,
     "metadata": {},
     "output_type": "execute_result"
    }
   ],
   "source": [
    "11 * a"
   ]
  },
  {
   "cell_type": "code",
   "execution_count": 6,
   "metadata": {},
   "outputs": [
    {
     "name": "stdout",
     "output_type": "stream",
     "text": [
      "5\n"
     ]
    }
   ],
   "source": [
    "print(a)"
   ]
  },
  {
   "cell_type": "code",
   "execution_count": 7,
   "metadata": {},
   "outputs": [
    {
     "name": "stdout",
     "output_type": "stream",
     "text": [
      "1 2 hello 5\n"
     ]
    }
   ],
   "source": [
    "print(1, 2, 'hello', 5)"
   ]
  },
  {
   "cell_type": "code",
   "execution_count": 8,
   "metadata": {},
   "outputs": [
    {
     "data": {
      "text/plain": [
       "2"
      ]
     },
     "execution_count": 8,
     "metadata": {},
     "output_type": "execute_result"
    }
   ],
   "source": [
    "5 // 2 # деление нацело"
   ]
  },
  {
   "cell_type": "code",
   "execution_count": 1,
   "metadata": {},
   "outputs": [
    {
     "data": {
      "text/plain": [
       "3.0"
      ]
     },
     "execution_count": 1,
     "metadata": {},
     "output_type": "execute_result"
    }
   ],
   "source": [
    "5 % 2 # остаток от деления\n",
    "9 ** 0.5 # конень квадратный"
   ]
  },
  {
   "cell_type": "code",
   "execution_count": 1,
   "metadata": {},
   "outputs": [
    {
     "name": "stdout",
     "output_type": "stream",
     "text": [
      "8.0\n",
      "6.0\n"
     ]
    }
   ],
   "source": [
    "# переменная менет значение\n",
    "a = 16 \n",
    "print(a / 2)\n",
    "a = 24\n",
    "print(a / 4)"
   ]
  },
  {
   "cell_type": "markdown",
   "metadata": {},
   "source": [
    " ### `Зачем нужны переменные`"
   ]
  },
  {
   "cell_type": "code",
   "execution_count": 7,
   "metadata": {},
   "outputs": [
    {
     "data": {
      "text/plain": [
       "115.92740743"
      ]
     },
     "execution_count": 7,
     "metadata": {},
     "output_type": "execute_result"
    }
   ],
   "source": [
    "# расчет сложного процента без переменных\n",
    "\n",
    "100 * ((100 + 3) / 100) ** 5"
   ]
  },
  {
   "cell_type": "code",
   "execution_count": 16,
   "metadata": {
    "scrolled": true
   },
   "outputs": [
    {
     "name": "stdout",
     "output_type": "stream",
     "text": [
      "initial_sum > 100000\n",
      "years > 3\n",
      "Start sum = 100000, years: 3, you %: 109272.7\n"
     ]
    }
   ],
   "source": [
    "# сложный процент с переменными\n",
    "\n",
    "initial_sum = int(input('initial_sum > '))\n",
    "interest_rate = 3\n",
    "years = int(input('years > '))\n",
    "\n",
    "# формула сложного процента\n",
    "\n",
    "end_sum = initial_sum * ((100 + interest_rate) / 100) ** years\n",
    "\n",
    "print(f\"Start sum = {initial_sum}, years: {years}, you %: {end_sum}\")"
   ]
  },
  {
   "cell_type": "markdown",
   "metadata": {},
   "source": [
    "### `Строки`\n",
    "\n",
    "+ Строка (string) — это неизменяемый упорядоченный тип данных, представляющий собой последовательность символов, заключенную в кавычки \"\".\n",
    "\n",
    "+ Кавычки могут быть как одинарными, так и двойными. Выбор за вами, однако при написании программ принято выбирать что-то одно, чтобы соблюдать единство стиля."
   ]
  },
  {
   "cell_type": "code",
   "execution_count": 5,
   "metadata": {},
   "outputs": [
    {
     "name": "stdout",
     "output_type": "stream",
     "text": [
      "Anton\n",
      "Bogdanov\n"
     ]
    }
   ],
   "source": [
    "name = 'Anton'\n",
    "\n",
    "surname = 'Bogdanov'\n",
    "\n",
    "print(name)\n",
    "print(surname)"
   ]
  },
  {
   "cell_type": "code",
   "execution_count": 7,
   "metadata": {},
   "outputs": [
    {
     "name": "stdout",
     "output_type": "stream",
     "text": [
      "Anton Bogdanov\n"
     ]
    }
   ],
   "source": [
    "# суммирование строк\n",
    "\n",
    "print(name + ' ' + surname)"
   ]
  },
  {
   "cell_type": "code",
   "execution_count": 11,
   "metadata": {},
   "outputs": [
    {
     "data": {
      "text/plain": [
       "'text#text#text#text#text#'"
      ]
     },
     "execution_count": 11,
     "metadata": {},
     "output_type": "execute_result"
    }
   ],
   "source": [
    "# умножение на число\n",
    "myStr = 'text#'\n",
    "myStr * 5\n"
   ]
  },
  {
   "cell_type": "code",
   "execution_count": 12,
   "metadata": {},
   "outputs": [
    {
     "name": "stdout",
     "output_type": "stream",
     "text": [
      "25\n"
     ]
    }
   ],
   "source": [
    "# длина строки\n",
    "print(len(myStr * 5))"
   ]
  },
  {
   "cell_type": "markdown",
   "metadata": {},
   "source": [
    "`f-строки` — буквально означают ***«formatted string»*** и являются еще одним удобным способом форматирования строк, очень похожим на применение предыдущего метода. Они задаются с помощью литерала «f» перед кавычками и работают по следующему принципу: берут значения переменных, которые есть в текущей области видимости, и подставляют их в строку."
   ]
  },
  {
   "cell_type": "code",
   "execution_count": 14,
   "metadata": {},
   "outputs": [
    {
     "name": "stdout",
     "output_type": "stream",
     "text": [
      "Wake up, Neo. The Matrix has you\n"
     ]
    }
   ],
   "source": [
    "name = \"Neo\"\n",
    "reality = \"Matrix\"\n",
    "\n",
    "print(f\"Wake up, {name}. The {reality} has you\")"
   ]
  },
  {
   "cell_type": "code",
   "execution_count": 18,
   "metadata": {},
   "outputs": [
    {
     "name": "stdout",
     "output_type": "stream",
     "text": [
      "64\n"
     ]
    }
   ],
   "source": [
    "# внутренние вычисления\n",
    "\n",
    "print(2 ** 6)"
   ]
  },
  {
   "cell_type": "code",
   "execution_count": 2,
   "metadata": {},
   "outputs": [
    {
     "name": "stdout",
     "output_type": "stream",
     "text": [
      "hello <class 'str'>\n",
      "2 <class 'int'>\n"
     ]
    }
   ],
   "source": [
    "# проверям тип переменной type()\n",
    "\n",
    "hello = 'hello'\n",
    "print(hello, type(hello))\n",
    "\n",
    "# здесь тип переменной поменяется на ходу\n",
    "\n",
    "hello = 2\n",
    "print(hello, type(hello))\n",
    "\n"
   ]
  },
  {
   "cell_type": "markdown",
   "metadata": {},
   "source": [
    "## `Boolean`\n",
    " Булевый тип"
   ]
  },
  {
   "cell_type": "code",
   "execution_count": 3,
   "metadata": {},
   "outputs": [
    {
     "data": {
      "text/plain": [
       "False"
      ]
     },
     "execution_count": 3,
     "metadata": {},
     "output_type": "execute_result"
    }
   ],
   "source": [
    "# используется в проверке условий\n",
    "\n",
    "my_bool = ('5' == 5) # False  - разные типы\n",
    "my_bool"
   ]
  },
  {
   "cell_type": "code",
   "execution_count": 4,
   "metadata": {},
   "outputs": [
    {
     "data": {
      "text/plain": [
       "True"
      ]
     },
     "execution_count": 4,
     "metadata": {},
     "output_type": "execute_result"
    }
   ],
   "source": [
    "# поиск подстроки\n",
    "\n",
    "my_bool_2 = ('el' in 'Hello') # True\n",
    "my_bool_2"
   ]
  },
  {
   "cell_type": "markdown",
   "metadata": {},
   "source": [
    "### `Оператор not`\n",
    "Этот унарный *(т. е. применяется только к одному выражению, стоящему справа от него)* оператор изменяет логическое значение на противоположное, **инвертирует** его.\n",
    "### `Оператор or`\n",
    "Этот оператор будет возвращать `True`, если **хотя бы одно** из условий слева или справа истинное, и возвращать `False`, если оба условия ложные:\n",
    "### `Оператор and`\n",
    "Оператор `and` будет возвращать `True`, если в выражении **И** условие слева **И** условие справа истинно. Рассмотрим на примерах:"
   ]
  },
  {
   "cell_type": "markdown",
   "metadata": {},
   "source": [
    "### `Порядок вычисления булевых операторов`\n",
    "\n",
    "1. Скобки\n",
    "2. not\n",
    "3. and\n",
    "4. or"
   ]
  },
  {
   "cell_type": "code",
   "execution_count": 2,
   "metadata": {},
   "outputs": [
    {
     "data": {
      "text/plain": [
       "True"
      ]
     },
     "execution_count": 2,
     "metadata": {},
     "output_type": "execute_result"
    }
   ],
   "source": [
    "# операторы and, or, not\n",
    "\n",
    "# and\n",
    "a = 3\n",
    "(5 == 5) and (a == 3) # True выражение слева = выражению справа"
   ]
  },
  {
   "cell_type": "code",
   "execution_count": 4,
   "metadata": {},
   "outputs": [
    {
     "data": {
      "text/plain": [
       "True"
      ]
     },
     "execution_count": 4,
     "metadata": {},
     "output_type": "execute_result"
    }
   ],
   "source": [
    "# or, True если хотя бы одно условие истина\n",
    "\n",
    "(5 == 3) or (a == 3 )"
   ]
  },
  {
   "cell_type": "code",
   "execution_count": 7,
   "metadata": {
    "scrolled": true
   },
   "outputs": [
    {
     "name": "stdout",
     "output_type": "stream",
     "text": [
      "True\n"
     ]
    }
   ],
   "source": [
    "# отрицание, отдает обратное значение\n",
    "\n",
    "print((not 5 == 3))\n"
   ]
  },
  {
   "cell_type": "code",
   "execution_count": 8,
   "metadata": {},
   "outputs": [
    {
     "data": {
      "text/plain": [
       "True"
      ]
     },
     "execution_count": 8,
     "metadata": {},
     "output_type": "execute_result"
    }
   ],
   "source": [
    "# булевый тип используется для более сложной логики\n",
    "my_name = 'Maksim'\n",
    "(a == 3) or (my_name == 'Anton')"
   ]
  },
  {
   "cell_type": "code",
   "execution_count": 13,
   "metadata": {},
   "outputs": [
    {
     "data": {
      "text/plain": [
       "True"
      ]
     },
     "execution_count": 13,
     "metadata": {},
     "output_type": "execute_result"
    }
   ],
   "source": [
    "5 >= 1  # больше, либо равно\n",
    "1 <= 5 # меньше либо равно\n",
    "10 != 20 # не равно\n",
    "'el' != 'Anton'"
   ]
  },
  {
   "cell_type": "code",
   "execution_count": null,
   "metadata": {},
   "outputs": [],
   "source": [
    "# операторы принадлежности in и not in\n"
   ]
  },
  {
   "cell_type": "markdown",
   "metadata": {},
   "source": [
    "### `Списки`\n",
    "---\n",
    "> набор элементов , в который можно класть объекты, доставать, удалять, запоминает порядок"
   ]
  },
  {
   "cell_type": "code",
   "execution_count": 30,
   "metadata": {
    "scrolled": true
   },
   "outputs": [
    {
     "name": "stdout",
     "output_type": "stream",
     "text": [
      "[1, 2, 3, 5, 9, 12]\n",
      "2\n"
     ]
    }
   ],
   "source": [
    "my_list = [1, 2, 3, 5, 9, 12]\n",
    "print(my_list)\n",
    "print(my_list[1]) # второй элемент в списке"
   ]
  },
  {
   "cell_type": "code",
   "execution_count": 31,
   "metadata": {},
   "outputs": [
    {
     "data": {
      "text/plain": [
       "6"
      ]
     },
     "execution_count": 31,
     "metadata": {},
     "output_type": "execute_result"
    }
   ],
   "source": [
    "# len оператор возвращающий длину(списка)\n",
    "len(my_list)"
   ]
  },
  {
   "cell_type": "code",
   "execution_count": 32,
   "metadata": {},
   "outputs": [
    {
     "data": {
      "text/plain": [
       "[1, 2, 3, 5, 9, 12, 'a', 'b', 'c', 'd']"
      ]
     },
     "execution_count": 32,
     "metadata": {},
     "output_type": "execute_result"
    }
   ],
   "source": [
    "# сложение списков\n",
    "new_list = my_list + ['a', 'b', 'c', 'd']\n",
    "new_list"
   ]
  },
  {
   "cell_type": "code",
   "execution_count": 1,
   "metadata": {},
   "outputs": [
    {
     "data": {
      "application/javascript": [
       "IPython.notebook.set_autosave_interval(120000)"
      ]
     },
     "metadata": {},
     "output_type": "display_data"
    },
    {
     "name": "stdout",
     "output_type": "stream",
     "text": [
      "Autosaving every 120 seconds\n"
     ]
    }
   ],
   "source": [
    "# %autosave 120\n",
    "# %who #str int\n",
    "# %load basic_imports.py #вставить код из другого источника\n",
    "#!pip install jupyter_contrib_nbextensions\n",
    "#!jupyter contrib nbextension install --user"
   ]
  },
  {
   "cell_type": "markdown",
   "metadata": {},
   "source": [
    "`Методы для списков`\n",
    "\n",
    "    У Python есть набор встроенных методов, которые вы можете использовать при работе со списками. Некоторые из них:\n",
    "    \n",
    "```\n",
    "append() — добавляет элемент в конец списка\n",
    "insert() — добавляет элемент по индексу\n",
    "pop() — удаляет элемент по индексу или последний\n",
    "remove() — удаляет элементы по значению\n",
    "reverse() — разворачивает список\n",
    "sort() — сортирует список\n",
    "copy() — возвращает копию списка\n",
    "```"
   ]
  },
  {
   "cell_type": "code",
   "execution_count": 33,
   "metadata": {},
   "outputs": [
    {
     "data": {
      "text/plain": [
       "[1, 2, 3, 5, 9, 12, 'a', 'b', 'c', 'd', 'g']"
      ]
     },
     "execution_count": 33,
     "metadata": {},
     "output_type": "execute_result"
    }
   ],
   "source": [
    "# добавление в конец списка\n",
    "new_list.append('g')\n",
    "new_list"
   ]
  },
  {
   "cell_type": "code",
   "execution_count": 24,
   "metadata": {},
   "outputs": [
    {
     "name": "stdout",
     "output_type": "stream",
     "text": [
      "g\n",
      "2\n"
     ]
    }
   ],
   "source": [
    "# удалить и вывести элемент\n",
    "\n",
    "print(new_list.pop()) # удалить последний элемент\n",
    "print(new_list.pop(1)) # удалить 2 элемент списка"
   ]
  },
  {
   "cell_type": "code",
   "execution_count": 43,
   "metadata": {},
   "outputs": [
    {
     "name": "stdout",
     "output_type": "stream",
     "text": [
      "[1, 2, 3, 5, 9, 'b', 'c', 'd', 'g']\n",
      "[1, 2, 3, 5, 9, 'b', 'c', 'd']\n"
     ]
    },
    {
     "data": {
      "text/plain": [
       "['d', 'c', 'b', 9, 5, 3, 2, 1]"
      ]
     },
     "execution_count": 43,
     "metadata": {},
     "output_type": "execute_result"
    }
   ],
   "source": [
    "# Ключевое слово del удаляет определенный индекс (также del может полностью удалить список).\n",
    "new_list2 = new_list.copy()\n",
    "print(new_list2)\n",
    "del new_list2[8]\n",
    "print(new_list2)\n",
    "\n",
    "#reverse\n",
    "new_list2.reverse()\n",
    "new_list2"
   ]
  },
  {
   "cell_type": "code",
   "execution_count": 34,
   "metadata": {
    "scrolled": true
   },
   "outputs": [
    {
     "name": "stdout",
     "output_type": "stream",
     "text": [
      "[1, 2, 3, 5, 9, 12, 'a', 'b', 'c', 'd', 'g']\n",
      "[1, 2, 3, 5, 9, 'b', 'c', 'd', 'g']\n"
     ]
    }
   ],
   "source": [
    "# удаление по символу\n",
    "print(new_list)\n",
    "new_list.remove('a') # удалить символ a\n",
    "new_list.remove(12) # удалить число 12\n",
    "print(new_list)"
   ]
  },
  {
   "cell_type": "markdown",
   "metadata": {},
   "source": [
    "### `Срезы / слайсы`\n",
    "С помощью индексов, можно делать срезы списков. Синтаксис среза\n",
    "следующий:`[start : stop : step]`\n",
    "+ start - по умолчанию равен 0\n",
    "+ stop - по умолчанию равен длине списка\n",
    "+ step - по умолчанию равен 1"
   ]
  },
  {
   "cell_type": "code",
   "execution_count": 17,
   "metadata": {},
   "outputs": [
    {
     "name": "stdout",
     "output_type": "stream",
     "text": [
      "[3, 4, 5, 6]\n",
      "[1, 3, 5]\n",
      "[6, 5, 4, 3, 2, 1]\n"
     ]
    }
   ],
   "source": [
    "numbers = [1, 2, 3, 4, 5, 6]\n",
    "print(numbers[2:]) # вывести со второго элемента\n",
    "print(numbers[::2]) # шаг 2\n",
    "print(numbers[::-1]) #развернуть список"
   ]
  },
  {
   "cell_type": "markdown",
   "metadata": {},
   "source": [
    "### `Кортеж / Tuple`\n",
    "\n",
    "(нет возможности удалить элемент или добавить, только изменить кортеж)"
   ]
  },
  {
   "cell_type": "code",
   "execution_count": 24,
   "metadata": {},
   "outputs": [
    {
     "name": "stdout",
     "output_type": "stream",
     "text": [
      "<class 'int'>\n",
      "<class 'tuple'>\n"
     ]
    }
   ],
   "source": [
    "my_tuple = (1, 2, 3)\n",
    "\n",
    "# можно складывать, это уже новый кортеж\n",
    "my_tuple + (5, 6)\n",
    "\n",
    "#создать кортеж с 1 элементом\n",
    "new_tuple = (1)\n",
    "print(type(new_tuple))\n",
    "\n",
    "new_tuple = (1,)\n",
    "print(type(new_tuple))"
   ]
  },
  {
   "cell_type": "code",
   "execution_count": 25,
   "metadata": {},
   "outputs": [
    {
     "data": {
      "text/plain": [
       "3"
      ]
     },
     "execution_count": 25,
     "metadata": {},
     "output_type": "execute_result"
    }
   ],
   "source": [
    "my_tuple[2] # 3 элемент кортежа"
   ]
  },
  {
   "cell_type": "code",
   "execution_count": 26,
   "metadata": {},
   "outputs": [
    {
     "data": {
      "text/plain": [
       "7"
      ]
     },
     "execution_count": 26,
     "metadata": {},
     "output_type": "execute_result"
    }
   ],
   "source": [
    "len(my_tuple + new_tuple + ('tuple', 'list', 1)) # длина нового кортежа после сложения"
   ]
  },
  {
   "cell_type": "markdown",
   "metadata": {},
   "source": [
    "## `Set / Множества`\n",
    "\n",
    "> Хранит уникальные элементы, не запоминиет их порядок"
   ]
  },
  {
   "cell_type": "code",
   "execution_count": 28,
   "metadata": {},
   "outputs": [
    {
     "name": "stdout",
     "output_type": "stream",
     "text": [
      "<class 'set'>\n"
     ]
    }
   ],
   "source": [
    "a  = {2, 'a', 3.14} # создание множества с элементами\n",
    "a\n",
    "\n",
    "b = set() # создание пустого множества\n",
    "print(type(b))\n"
   ]
  },
  {
   "cell_type": "code",
   "execution_count": 34,
   "metadata": {},
   "outputs": [
    {
     "data": {
      "text/plain": [
       "{2, 3, 3.14, 'a'}"
      ]
     },
     "execution_count": 34,
     "metadata": {},
     "output_type": "execute_result"
    }
   ],
   "source": [
    "a.add(3) # добавить элемент в множество\n",
    "a"
   ]
  },
  {
   "cell_type": "code",
   "execution_count": 35,
   "metadata": {},
   "outputs": [
    {
     "data": {
      "text/plain": [
       "{2, 3, 'a'}"
      ]
     },
     "execution_count": 35,
     "metadata": {},
     "output_type": "execute_result"
    }
   ],
   "source": [
    "a.remove(3.14) # удалить элемент 3.14\n",
    "a"
   ]
  },
  {
   "cell_type": "markdown",
   "metadata": {},
   "source": [
    "---\n",
    "```\n",
    "В set можно добавлять только неизменяемые объекты можно брать: \n",
    "````\n",
    "+ пересечение множеств `a.intersection(b)`\n",
    "+ объединение `a.union(b)`\n",
    "+ симметрическую разность `a.symmetric_difference`\n",
    "---\n",
    "`frozen_set = frozenset()`\n",
    "Frozen set-ы, по сути, отличаются от обычных лишь тем, что являются неизменяемым типом данных, в то время, как простой set возможно изменять."
   ]
  },
  {
   "cell_type": "code",
   "execution_count": 36,
   "metadata": {},
   "outputs": [
    {
     "data": {
      "text/plain": [
       "{(1, 2), 3}"
      ]
     },
     "execution_count": 36,
     "metadata": {},
     "output_type": "execute_result"
    }
   ],
   "source": [
    "a = {'a' , (1, 2), 3}\n",
    "b = {3, (1, 2), 'union'}\n",
    "\n",
    "a.intersection(b) # те элементы которые пересекаются"
   ]
  },
  {
   "cell_type": "code",
   "execution_count": 37,
   "metadata": {},
   "outputs": [
    {
     "data": {
      "text/plain": [
       "{(1, 2), 3, 'a', 'union'}"
      ]
     },
     "execution_count": 37,
     "metadata": {},
     "output_type": "execute_result"
    }
   ],
   "source": [
    "a.union(b) # общие уникальные элементы обоих множеств"
   ]
  },
  {
   "cell_type": "code",
   "execution_count": 39,
   "metadata": {},
   "outputs": [
    {
     "data": {
      "text/plain": [
       "{'a', 'union'}"
      ]
     },
     "execution_count": 39,
     "metadata": {},
     "output_type": "execute_result"
    }
   ],
   "source": [
    "a.symmetric_difference(b) # не пересекающиеся элементы множества"
   ]
  },
  {
   "cell_type": "code",
   "execution_count": 40,
   "metadata": {},
   "outputs": [
    {
     "name": "stdout",
     "output_type": "stream",
     "text": [
      "{'a'}\n",
      "{'union'}\n"
     ]
    }
   ],
   "source": [
    "# вычитание множеств\n",
    "print(a - b) # те элементы которые есть в a, но их нет в b\n",
    "print (b - a) # те элементы которые есть в b, но их нет в a"
   ]
  },
  {
   "cell_type": "markdown",
   "metadata": {},
   "source": [
    "> `применение:` когда нужно получить уникальный список элементов, например клиентов, но порядок не важен."
   ]
  },
  {
   "cell_type": "markdown",
   "metadata": {},
   "source": [
    "## `Словари / dict`\n",
    "\n",
    "> ключ: значение\n"
   ]
  },
  {
   "cell_type": "code",
   "execution_count": 2,
   "metadata": {},
   "outputs": [
    {
     "name": "stdout",
     "output_type": "stream",
     "text": [
      "{'Антон': '9187592724', 'Никита': '495123456'}\n"
     ]
    }
   ],
   "source": [
    "name_to_number = {\n",
    "    'Антон': '9187592724',\n",
    "    'Никита': '495123456'\n",
    "}\n",
    "\n",
    "print(name_to_number)"
   ]
  },
  {
   "cell_type": "code",
   "execution_count": 3,
   "metadata": {},
   "outputs": [
    {
     "data": {
      "text/plain": [
       "'9187592724'"
      ]
     },
     "execution_count": 3,
     "metadata": {},
     "output_type": "execute_result"
    }
   ],
   "source": [
    "# получаем значение по ключу\n",
    "name_to_number['Антон']"
   ]
  },
  {
   "cell_type": "code",
   "execution_count": 4,
   "metadata": {},
   "outputs": [
    {
     "name": "stdout",
     "output_type": "stream",
     "text": [
      "495123456\n",
      "None\n",
      "not found\n"
     ]
    }
   ],
   "source": [
    "# безопасное получение данных по ключу (например , если такого элемента нет)\n",
    "print(name_to_number.get('Никита'))\n",
    "print(name_to_number.get('Ники')) # ключ не найден, выводим 'None'\n",
    "print(name_to_number.get('Мария', 'not found')) # можно вывести определенный текст, если элемент не найден"
   ]
  },
  {
   "cell_type": "code",
   "execution_count": 8,
   "metadata": {},
   "outputs": [
    {
     "name": "stdout",
     "output_type": "stream",
     "text": [
      "+7 8685 100\n",
      "True\n",
      "{'Антон': '9187592724', 'Никита': '495123456', 'Владимир': '+7 8685 100'}\n"
     ]
    }
   ],
   "source": [
    "# добавление элементов в словарь\n",
    "\n",
    "name_to_number['Владимир'] = '+7 8685 100' # добавление по ключу\n",
    "print(name_to_number['Владимир']) \n",
    "\n",
    "print('Владимир' in name_to_number) # используем оператор in ,чтобы проверить есть ли такой ключ\n",
    "\n",
    "print(name_to_number)"
   ]
  },
  {
   "cell_type": "code",
   "execution_count": 9,
   "metadata": {},
   "outputs": [
    {
     "name": "stdout",
     "output_type": "stream",
     "text": [
      "{'Антон': '9187592724', 'Никита': '+7812123456', 'Владимир': '+7 8685 100'}\n"
     ]
    }
   ],
   "source": [
    "# редактирование элемента словаря по ключу\n",
    "name_to_number['Никита'] = '+7812123456'\n",
    "\n",
    "print(name_to_number)"
   ]
  }
 ],
 "metadata": {
  "kernelspec": {
   "display_name": "Python 3 (ipykernel)",
   "language": "python",
   "name": "python3"
  },
  "language_info": {
   "codemirror_mode": {
    "name": "ipython",
    "version": 3
   },
   "file_extension": ".py",
   "mimetype": "text/x-python",
   "name": "python",
   "nbconvert_exporter": "python",
   "pygments_lexer": "ipython3",
   "version": "3.10.6"
  },
  "varInspector": {
   "cols": {
    "lenName": 16,
    "lenType": 16,
    "lenVar": 40
   },
   "kernels_config": {
    "python": {
     "delete_cmd_postfix": "",
     "delete_cmd_prefix": "del ",
     "library": "var_list.py",
     "varRefreshCmd": "print(var_dic_list())"
    },
    "r": {
     "delete_cmd_postfix": ") ",
     "delete_cmd_prefix": "rm(",
     "library": "var_list.r",
     "varRefreshCmd": "cat(var_dic_list()) "
    }
   },
   "types_to_exclude": [
    "module",
    "function",
    "builtin_function_or_method",
    "instance",
    "_Feature"
   ],
   "window_display": false
  },
  "vscode": {
   "interpreter": {
    "hash": "916dbcbb3f70747c44a77c7bcd40155683ae19c65e1c03b4aa3499c5328201f1"
   }
  }
 },
 "nbformat": 4,
 "nbformat_minor": 2
}
