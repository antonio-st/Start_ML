{
 "cells": [
  {
   "cell_type": "markdown",
   "metadata": {},
   "source": [
    "# `Условия и циклы`"
   ]
  },
  {
   "cell_type": "markdown",
   "metadata": {},
   "source": [
    "## `Цикл for`\n",
    "> проходит по элементам и выполняет набо операций"
   ]
  },
  {
   "cell_type": "code",
   "execution_count": 7,
   "metadata": {},
   "outputs": [
    {
     "name": "stdout",
     "output_type": "stream",
     "text": [
      "считаем в цикле for\n",
      "4.0\n",
      "считаем в цикле for\n",
      "5.0\n",
      "считаем в цикле for\n",
      "6.0\n",
      "считаем в цикле for\n",
      "7.0\n",
      "считаем в цикле for\n",
      "8.0\n",
      "Пишем после цикла\n"
     ]
    }
   ],
   "source": [
    "for a in [9, 16, 25, 36, 49]:\n",
    "    print('считаем в цикле for')\n",
    "    print(a ** 0.5 + 1) # корень из элемента a + 1\n",
    "print('Пишем после цикла')\n"
   ]
  },
  {
   "cell_type": "code",
   "execution_count": 13,
   "metadata": {},
   "outputs": [
    {
     "name": "stdout",
     "output_type": "stream",
     "text": [
      "0 1 2 3 4 5 6 7 8 9 10\n"
     ]
    }
   ],
   "source": [
    "# range  - генерирует числа от 0 до n-1\n",
    "print(*range(0, 11))"
   ]
  },
  {
   "cell_type": "code",
   "execution_count": 14,
   "metadata": {},
   "outputs": [
    {
     "name": "stdout",
     "output_type": "stream",
     "text": [
      "0\n",
      "1\n",
      "2\n",
      "3\n",
      "4\n"
     ]
    }
   ],
   "source": [
    "\n",
    "for i in range(5):\n",
    "    print(i)"
   ]
  },
  {
   "cell_type": "code",
   "execution_count": 21,
   "metadata": {},
   "outputs": [
    {
     "name": "stdout",
     "output_type": "stream",
     "text": [
      "Квадрат 1 = 1 \n",
      "Квадрат 2 = 4 \n",
      "Квадрат 3 = 9 \n",
      "Квадрат 4 = 16 \n",
      "Квадрат 5 = 25 \n",
      "Квадрат 6 = 36 \n",
      "Квадрат 7 = 49 \n",
      "Квадрат 8 = 64 \n",
      "Квадрат 9 = 81 \n",
      "Квадрат 10 = 100 \n"
     ]
    }
   ],
   "source": [
    "# f-string - возможность подстановки выражения в строку\n",
    "for i in range(1, 11):\n",
    "    print(f'Квадрат {i} = {i * i} ')"
   ]
  },
  {
   "cell_type": "code",
   "execution_count": 2,
   "metadata": {},
   "outputs": [
    {
     "name": "stdout",
     "output_type": "stream",
     "text": [
      "генерируем четные числа\n",
      "[0, 2, 4, 6, 8, 10, 12, 14, 16, 18]\n"
     ]
    }
   ],
   "source": [
    "print('генерируем четные числа')\n",
    "even_numbers = []\n",
    "\n",
    "for i in range(0, 20, 2):\n",
    "    even_numbers.append(i)\n",
    "print(even_numbers)"
   ]
  },
  {
   "cell_type": "markdown",
   "metadata": {},
   "source": [
    "## `Цикл WHILE`\n",
    "\n",
    "> работает до тех пор, пока верно утверждение"
   ]
  },
  {
   "cell_type": "code",
   "execution_count": 10,
   "metadata": {},
   "outputs": [
    {
     "name": "stdout",
     "output_type": "stream",
     "text": [
      "Считаем, сколько раз число делится на 2\n",
      "34624 делиться на 2\n",
      "17312 делиться на 2\n",
      "8656 делиться на 2\n",
      "4328 делиться на 2\n",
      "2164 делиться на 2\n",
      "1082 делиться на 2\n",
      "541\n",
      "even_numbers\t i\t number\t os\t sys\t \n"
     ]
    }
   ],
   "source": [
    "print('Считаем, сколько раз число делится на 2')\n",
    "number  = 34624\n",
    "while number % 2 == 0: # пока условие истинно - выполняется цикл\n",
    "    print(f'{number} делиться на 2')\n",
    "    number //= 2 # действие для выхода из цикла , равнозначно number = number // 2\n",
    "print(number)\n",
    "%who"
   ]
  },
  {
   "cell_type": "markdown",
   "metadata": {},
   "source": [
    "## `Условный оператор IF`\n",
    "> выполняем код в зависимости от условия"
   ]
  },
  {
   "cell_type": "code",
   "execution_count": 12,
   "metadata": {},
   "outputs": [
    {
     "name": "stdout",
     "output_type": "stream",
     "text": [
      "Число четное\n"
     ]
    }
   ],
   "source": [
    "number = 4\n",
    "if number % 2 == 0:\n",
    "    print('Число четное')\n",
    "else:\n",
    "    print('Число нечетное')"
   ]
  },
  {
   "cell_type": "code",
   "execution_count": 15,
   "metadata": {},
   "outputs": [
    {
     "name": "stdout",
     "output_type": "stream",
     "text": [
      "закончили обрабатывать 1482.0\n",
      "закончили обрабатывать 28182.12\n",
      "-124.42 отрицателен, записываем в ответ\n",
      "закончили обрабатывать -124.42\n",
      "закончили обрабатывать 85.3\n",
      "-23.5 отрицателен, записываем в ответ\n",
      "закончили обрабатывать -23.5\n",
      "закончили обрабатывать 82\n",
      "отрицательные балансы [-124.42, -23.5]\n"
     ]
    }
   ],
   "source": [
    "# поищем счета с отрицательным балансом:\n",
    "\n",
    "accounts_balance = [1482.0, 28182.12, -124.42, 85.3, -23.5, 82]  # входные данные\n",
    "negative_accounts = []\n",
    "\n",
    "for balance in accounts_balance:\n",
    "    if balance < 0:\n",
    "        print(f'{balance} отрицателен, записываем в ответ')\n",
    "        negative_accounts.append(balance)\n",
    "    print(f'закончили обрабатывать {balance}')\n",
    "print(f'отрицательные балансы {negative_accounts}')"
   ]
  },
  {
   "cell_type": "code",
   "execution_count": 18,
   "metadata": {},
   "outputs": [
    {
     "name": "stdout",
     "output_type": "stream",
     "text": [
      "Столица Белоруссии\n"
     ]
    }
   ],
   "source": [
    "name = input('Введите название столицы > ')\n",
    "if name == 'Москва':\n",
    "    print('Столица России')\n",
    "elif name == 'Минск':\n",
    "    print('Столица Белоруссии')\n",
    "elif name == 'Белград':\n",
    "    print('Столица Сербии')\n",
    "else:\n",
    "    print('Нет в БД')"
   ]
  },
  {
   "cell_type": "markdown",
   "metadata": {},
   "source": [
    "### `Ключевые слова break, continue`\n",
    "> Дополнения к for и while: это команды break и continue. Оба дают возможность выйти из цикла раньше задуманного."
   ]
  },
  {
   "cell_type": "code",
   "execution_count": 19,
   "metadata": {},
   "outputs": [
    {
     "name": "stdout",
     "output_type": "stream",
     "text": [
      "see\n",
      "this\n",
      "long\n",
      "sentence\n"
     ]
    }
   ],
   "source": [
    "words = ['see', 'this', 'long', 'sentence', 'here', 'no-show', 'no-show']\n",
    "\n",
    "for i in range(len(words)):\n",
    "    print(words[i])\n",
    "    if i > 2: # на третьем слове выходим из цикла по break\n",
    "        break"
   ]
  }
 ],
 "metadata": {
  "kernelspec": {
   "display_name": "Python 3.10.6 64-bit",
   "language": "python",
   "name": "python3"
  },
  "language_info": {
   "codemirror_mode": {
    "name": "ipython",
    "version": 3
   },
   "file_extension": ".py",
   "mimetype": "text/x-python",
   "name": "python",
   "nbconvert_exporter": "python",
   "pygments_lexer": "ipython3",
   "version": "3.10.6"
  },
  "orig_nbformat": 4,
  "vscode": {
   "interpreter": {
    "hash": "916dbcbb3f70747c44a77c7bcd40155683ae19c65e1c03b4aa3499c5328201f1"
   }
  }
 },
 "nbformat": 4,
 "nbformat_minor": 2
}
