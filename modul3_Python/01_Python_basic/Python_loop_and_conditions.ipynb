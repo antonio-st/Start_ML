{
 "cells": [
  {
   "cell_type": "markdown",
   "id": "9dc9a1ed",
   "metadata": {},
   "source": [
    "## Цикл For\n",
    "\n",
    "for — проходит по всем элементам и выполняет набор операций. При помощи этого цикла можно пройти (итерироваться) по любому объекту-коллекции."
   ]
  },
  {
   "cell_type": "code",
   "execution_count": 6,
   "id": "74cc00d0",
   "metadata": {
    "ExecuteTime": {
     "end_time": "2023-01-13T07:33:35.282260Z",
     "start_time": "2023-01-13T07:33:35.278091Z"
    }
   },
   "outputs": [
    {
     "name": "stdout",
     "output_type": "stream",
     "text": [
      "счет в цикле\n",
      "Корень квадратный из 9 = 3.0\n",
      "счет в цикле\n",
      "Корень квадратный из 16 = 4.0\n",
      "счет в цикле\n",
      "Корень квадратный из 49 = 7.0\n",
      "счет в цикле\n",
      "Корень квадратный из 64 = 8.0\n",
      "Пишем после цикла\n"
     ]
    }
   ],
   "source": [
    "for a in [9, 16, 49, 64]:\n",
    "    print('счет в цикле')\n",
    "    print(f'Корень квадратный из {a} = {a ** 0.5}')\n",
    "print('Пишем после цикла')"
   ]
  },
  {
   "cell_type": "code",
   "execution_count": 7,
   "id": "b3a02c1e",
   "metadata": {
    "ExecuteTime": {
     "end_time": "2023-01-13T07:33:58.386684Z",
     "start_time": "2023-01-13T07:33:58.380056Z"
    }
   },
   "outputs": [
    {
     "name": "stdout",
     "output_type": "stream",
     "text": [
      "0\n",
      "1\n",
      "2\n",
      "3\n",
      "4\n"
     ]
    }
   ],
   "source": [
    "for i in range(5): # range генерирует список от 0 до 5 НЕ включительно\n",
    "    print(i)"
   ]
  },
  {
   "cell_type": "code",
   "execution_count": 8,
   "id": "930f30e2",
   "metadata": {
    "ExecuteTime": {
     "end_time": "2023-01-13T07:37:09.295456Z",
     "start_time": "2023-01-13T07:37:09.288705Z"
    }
   },
   "outputs": [
    {
     "name": "stdout",
     "output_type": "stream",
     "text": [
      "Квадрат числа 1 = 1\n",
      "Квадрат числа 2 = 4\n",
      "Квадрат числа 3 = 9\n",
      "Квадрат числа 4 = 16\n",
      "Квадрат числа 5 = 25\n",
      "Квадрат числа 6 = 36\n"
     ]
    }
   ],
   "source": [
    "# параметры range: range(start, stop, step)\n",
    "\n",
    "for i in range (1, 7):\n",
    "    print(f'Квадрат числа {i} = {i * i}')"
   ]
  },
  {
   "cell_type": "code",
   "execution_count": 9,
   "id": "f62dca02",
   "metadata": {
    "ExecuteTime": {
     "end_time": "2023-01-13T07:50:49.293761Z",
     "start_time": "2023-01-13T07:50:49.286784Z"
    }
   },
   "outputs": [
    {
     "name": "stdout",
     "output_type": "stream",
     "text": [
      "[0, 2, 4, 6, 8, 10, 12, 14, 16, 18, 20]\n"
     ]
    }
   ],
   "source": [
    "# сгенерировать четные числа\n",
    "even_numbers = []\n",
    "for i in range(0, 21, 2):\n",
    "    even_numbers.append(i)\n",
    "print(even_numbers)"
   ]
  },
  {
   "cell_type": "code",
   "execution_count": 14,
   "id": "53238fec",
   "metadata": {
    "ExecuteTime": {
     "end_time": "2023-01-13T07:52:56.980159Z",
     "start_time": "2023-01-13T07:52:56.972096Z"
    }
   },
   "outputs": [
    {
     "data": {
      "text/plain": [
       "[0, 2, 4, 6, 8, 10, 12, 14, 16, 18, 20]"
      ]
     },
     "execution_count": 14,
     "metadata": {},
     "output_type": "execute_result"
    }
   ],
   "source": [
    "# можно было и так\n",
    "even_numbers_list = list(range(0, 21, 2))\n",
    "even_numbers_list"
   ]
  },
  {
   "cell_type": "markdown",
   "id": "60dd427b",
   "metadata": {},
   "source": [
    "### Цикл While\n",
    "\n",
    "Исполняет код в своем теле цикла до тех пор, пока верно некое утверждение."
   ]
  },
  {
   "cell_type": "code",
   "execution_count": 16,
   "id": "54750e66",
   "metadata": {
    "ExecuteTime": {
     "end_time": "2023-01-13T08:29:01.605522Z",
     "start_time": "2023-01-13T08:29:01.598437Z"
    }
   },
   "outputs": [
    {
     "name": "stdout",
     "output_type": "stream",
     "text": [
      "34624\n",
      "17312\n",
      "8656\n",
      "4328\n",
      "2164\n",
      "1082\n",
      "541\n"
     ]
    }
   ],
   "source": [
    "# цикл работает пока число делится на 2\n",
    "numbers = 34624\n",
    "\n",
    "while numbers % 2 == 0:\n",
    "    print(numbers)\n",
    "    numbers //= 2\n",
    "print(numbers)"
   ]
  },
  {
   "cell_type": "markdown",
   "id": "2ce6879e",
   "metadata": {},
   "source": [
    "### Цикл if \n",
    "\n",
    "позволяет выполнить определенный набор инструкций в зависимости от некоторого условия. \n",
    "\n",
    "```python\n",
    "if predicate:\n",
    "    doing_1\n",
    "    ...\n",
    "    doing_n\n",
    "```"
   ]
  },
  {
   "cell_type": "code",
   "execution_count": 17,
   "id": "6e1423b3",
   "metadata": {
    "ExecuteTime": {
     "end_time": "2023-01-13T14:11:47.311148Z",
     "start_time": "2023-01-13T14:11:46.235008Z"
    }
   },
   "outputs": [
    {
     "name": "stdout",
     "output_type": "stream",
     "text": [
      "Введите целое число: 9\n",
      "Число нечетное\n"
     ]
    }
   ],
   "source": [
    "# определить четность числа\n",
    "number = int(input('Введите целое число: '))\n",
    "\n",
    "if number == 0:\n",
    "    print('Вы ввели ноль !')\n",
    "elif number % 2 == 0:\n",
    "    print ('Число четное')\n",
    "else:\n",
    "    print('Число нечетное')"
   ]
  },
  {
   "cell_type": "code",
   "execution_count": 28,
   "id": "a1f5d79d",
   "metadata": {
    "ExecuteTime": {
     "end_time": "2023-01-13T14:29:08.008868Z",
     "start_time": "2023-01-13T14:29:07.997861Z"
    },
    "scrolled": true
   },
   "outputs": [
    {
     "name": "stdout",
     "output_type": "stream",
     "text": [
      "+ Число 1482.0 положительное\n",
      "+ Число 28182.12 положительное\n",
      " - Число -124.42 отрицательное, записываем в список [-124.42]\n",
      "+ Число 85.3 положительное\n",
      " - Число -23.5 отрицательное, записываем в список [-124.42, -23.5]\n",
      "+ Число 82 положительное\n",
      " - Число -1008 отрицательное, записываем в список [-124.42, -23.5, -1008]\n",
      " - Число -257.58 отрицательное, записываем в список [-124.42, -23.5, -1008, -257.58]\n",
      "\n",
      "Отрицательные балансы: [-124.42, -23.5, -1008, -257.58]\n"
     ]
    }
   ],
   "source": [
    "# найти счета с отрицательным балансом\n",
    "\n",
    "negative_acounts = [] # список с отрицательными балансами\n",
    "accounts_balance = [1482.0, 28182.12, -124.42, 85.3, -23.5, 82, -1008, -257.58]  # входные данные\n",
    "\n",
    "for balance in accounts_balance:\n",
    "    if balance < 0:\n",
    "            negative_acounts.append(balance)\n",
    "            print(f' - Число {balance} отрицательное, записываем в список {negative_acounts}')\n",
    "    if balance > 0:\n",
    "        print(f'+ Число {balance} положительное')\n",
    "print(f'\\nОтрицательные балансы: {negative_acounts}')"
   ]
  },
  {
   "cell_type": "markdown",
   "id": "883a34cc",
   "metadata": {},
   "source": [
    "Помимо простого условия, которое либо выполнится, либо нет, есть более сложные — с двумя и более ветвями. Для их обозначения используются ключевые слова `elif и else.`\n",
    "\n",
    "`elif` — ключевое слово, означающее, что дальше идёт условие, которое будет выполняться, только если все предыдущие условия не выполнились (predicate в них был False) и предикат этой ветки True.\n",
    "\n",
    "Для использования `elif` обязательно должна быть ветка if выше.\n",
    "\n",
    "`else` — ключевое слово, означающее, что дальше идёт условие, которое будет выполняться в том случае, если все предыдущие условия не выполнились.\n",
    "\n",
    "Для использования else выше него обязательно должна быть ветка if или elif."
   ]
  },
  {
   "cell_type": "code",
   "execution_count": 4,
   "id": "3e193566",
   "metadata": {
    "ExecuteTime": {
     "end_time": "2023-01-13T14:43:52.516326Z",
     "start_time": "2023-01-13T14:43:42.349242Z"
    }
   },
   "outputs": [
    {
     "name": "stdout",
     "output_type": "stream",
     "text": [
      "Введите столицу > ереван\n",
      "Столица Армении\n"
     ]
    }
   ],
   "source": [
    "# по введенной стране (неважно с какого регистра) вывести ее столицу\n",
    "name = input('Введите столицу > ')\n",
    "\n",
    "if name.lower() == 'москва':\n",
    "    print('Столица России')\n",
    "elif name.lower() == 'минск':\n",
    "    print('Столица Белоруссии')\n",
    "elif name.lower() == 'ереван':\n",
    "    print('Столица Армении')\n",
    "else:\n",
    "    print('Мне неизвестно...')"
   ]
  },
  {
   "cell_type": "markdown",
   "id": "ca74058c",
   "metadata": {},
   "source": [
    "### break, continue\n",
    "\n",
    "возможность выйти из цикла раньше задуманного\n",
    "\n",
    "`break`"
   ]
  },
  {
   "cell_type": "code",
   "execution_count": 25,
   "id": "df74b43c",
   "metadata": {
    "ExecuteTime": {
     "end_time": "2023-01-13T15:06:21.389085Z",
     "start_time": "2023-01-13T15:06:21.382393Z"
    }
   },
   "outputs": [
    {
     "name": "stdout",
     "output_type": "stream",
     "text": [
      "Python\n",
      "has\n",
      "a\n",
      "built-in\n"
     ]
    }
   ],
   "source": [
    "my_list  = ['Python', 'has', 'a', 'built-in', 'string', 'class', 'named', '\"str\"', 'with', 'many', 'handy', 'features']\n",
    "# my_list = list(my_list.split())\n",
    "\n",
    "for i in range(len(my_list)): # генерируем числа равные длине списка\n",
    "    print(my_list[i])\n",
    "    if i > 2:\n",
    "        break # выводит из цикла досрочно\n",
    "# вывод от 0 элемента до 4 го, так как 4 элемент выводится раньше if"
   ]
  },
  {
   "cell_type": "code",
   "execution_count": 26,
   "id": "eac4fafc",
   "metadata": {
    "ExecuteTime": {
     "end_time": "2023-01-13T15:10:07.498982Z",
     "start_time": "2023-01-13T15:10:07.495853Z"
    }
   },
   "outputs": [
    {
     "name": "stdout",
     "output_type": "stream",
     "text": [
      "0 0\n",
      "0 1\n",
      "0 2\n",
      "0 3\n",
      "увеличиваем i\n",
      "1 0\n",
      "1 1\n",
      "1 2\n",
      "1 3\n",
      "увеличиваем i\n",
      "2 0\n",
      "2 1\n",
      "2 2\n",
      "2 3\n",
      "увеличиваем i\n",
      "3 0\n",
      "3 1\n",
      "3 2\n",
      "3 3\n",
      "увеличиваем i\n",
      "4 0\n",
      "4 1\n",
      "4 2\n",
      "4 3\n",
      "увеличиваем i\n"
     ]
    }
   ],
   "source": [
    "for i in range(5):\n",
    "    for j in range(7):\n",
    "        print(i, j)\n",
    "        if  j > 2:\n",
    "            break # выходим из вложенного цикла, но основной продолжает работать\n",
    "    print('увеличиваем i')\n",
    "            "
   ]
  },
  {
   "cell_type": "code",
   "execution_count": 31,
   "id": "e8ae1582",
   "metadata": {
    "ExecuteTime": {
     "end_time": "2023-01-13T15:15:52.663402Z",
     "start_time": "2023-01-13T15:15:52.656577Z"
    }
   },
   "outputs": [
    {
     "name": "stdout",
     "output_type": "stream",
     "text": [
      "> starting action: make sandwitch\n",
      "! Coffee mashine is broken, skipping :( \n",
      "> starting action: watch TV\n",
      "> starting action: wash plate\n"
     ]
    }
   ],
   "source": [
    "for future in ['make sandwitch', 'make coffee', 'watch TV', 'wash plate']:\n",
    "    if future == 'make coffee':\n",
    "        # пропустить одну иттерацию в цикле\n",
    "        print('! Coffee mashine is broken, skipping :( ')\n",
    "        continue\n",
    "    print(f'> starting action: {future}')"
   ]
  },
  {
   "cell_type": "markdown",
   "id": "72eb3396",
   "metadata": {},
   "source": [
    "- Иногда в логике цикла бывают отклонения: скажем, определенную комбинацию параметров нельзя обрабатывать циклом — тогда используем `continue`.\n",
    "\n",
    "- `break` чаще всего используется в циклах while как уточнение, когда останавливать цикл. Например: в машинном обучении есть алгоритм градиентного спуска, который \"учит\" модель на данных. Процесс \"обучения\" идет по шагам, и часто процесс нужно прервать, если новый шаг не привел к улучшению модели — в таких случаях можно применить break для выхода."
   ]
  }
 ],
 "metadata": {
  "kernelspec": {
   "display_name": "Python 3 (ipykernel)",
   "language": "python",
   "name": "python3"
  },
  "language_info": {
   "codemirror_mode": {
    "name": "ipython",
    "version": 3
   },
   "file_extension": ".py",
   "mimetype": "text/x-python",
   "name": "python",
   "nbconvert_exporter": "python",
   "pygments_lexer": "ipython3",
   "version": "3.10.6"
  },
  "varInspector": {
   "cols": {
    "lenName": 16,
    "lenType": 16,
    "lenVar": 40
   },
   "kernels_config": {
    "python": {
     "delete_cmd_postfix": "",
     "delete_cmd_prefix": "del ",
     "library": "var_list.py",
     "varRefreshCmd": "print(var_dic_list())"
    },
    "r": {
     "delete_cmd_postfix": ") ",
     "delete_cmd_prefix": "rm(",
     "library": "var_list.r",
     "varRefreshCmd": "cat(var_dic_list()) "
    }
   },
   "types_to_exclude": [
    "module",
    "function",
    "builtin_function_or_method",
    "instance",
    "_Feature"
   ],
   "window_display": false
  }
 },
 "nbformat": 4,
 "nbformat_minor": 5
}
