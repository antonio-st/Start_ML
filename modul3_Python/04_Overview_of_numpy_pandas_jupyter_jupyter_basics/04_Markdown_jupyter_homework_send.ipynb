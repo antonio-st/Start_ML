{
 "cells": [
  {
   "cell_type": "markdown",
   "id": "0db426ed",
   "metadata": {},
   "source": [
    "## 1 ячейка\n",
    "\n",
    "Напишите *код ниже* преобразующий **текст с пробелами** в текст с '_' \n",
    "\n",
    "```\n",
    "start_text = input('Введите строчку > ')\n",
    "start_text = start_text.replace(' ', '_')\n",
    "start_text\n",
    "```\n",
    "\n",
    "`print(start_text)`"
   ]
  },
  {
   "cell_type": "code",
   "execution_count": 11,
   "id": "64fb1387",
   "metadata": {
    "scrolled": true
   },
   "outputs": [
    {
     "name": "stdout",
     "output_type": "stream",
     "text": [
      "Введите строчку > my test strings\n"
     ]
    },
    {
     "data": {
      "text/plain": [
       "'my_test_strings'"
      ]
     },
     "execution_count": 11,
     "metadata": {},
     "output_type": "execute_result"
    }
   ],
   "source": [
    "# replace использован для замены символа пробела на _\n",
    "start_text = input('Введите строчку > ')\n",
    "start_text = start_text.replace(' ', '_')\n",
    "start_text"
   ]
  },
  {
   "cell_type": "markdown",
   "id": "a3157c98",
   "metadata": {},
   "source": [
    "## 2 ячейка\n",
    "\n",
    "#### Библиотека `loguru`\n",
    "\n",
    "[ссылка на документацию] (https://pypi.org/project/loguru/)\n",
    "\n",
    "> Loguru - это библиотека, цель которой - обеспечить приятное ведение журнала на Python.\n",
    "\n",
    "    Вам когда-нибудь было лень настраивать регистратор и вместо этого вы использовали print()?… Я так и сделал, но ведение журнала является основополагающим для каждого приложения и облегчает процесс отладки. Используя Loguru, у вас нет оправдания, чтобы не использовать ведение журнала с самого начала, это так же просто, как с loguru import logger.\n",
    "\n",
    "    Кроме того, эта библиотека предназначена для того, чтобы сделать ведение журнала на Python менее болезненным, добавив множество полезных функций, которые устраняют недостатки стандартных регистраторов. Использование блогов в вашем приложении должно быть автоматизированным, Loguru старается сделать его одновременно приятным и мощным.\n",
    "    \n",
    "_переведено Yandex Translate_\n"
   ]
  },
  {
   "cell_type": "code",
   "execution_count": 12,
   "id": "b0d54579",
   "metadata": {},
   "outputs": [
    {
     "name": "stderr",
     "output_type": "stream",
     "text": [
      "2022-12-24 22:44:28.873 | INFO     | __main__:<module>:15 - program started\n"
     ]
    }
   ],
   "source": [
    "'''\n",
    "!nano logging_example.py # создаем файл с помощью редактора nano, пишу код ниже\n",
    "ctrl + O - сохранить\n",
    "ctrl + X выйти\n",
    "\n",
    "python3 logging_example.py # запускаем файл на исполнение\n",
    "\n",
    "2022-12-23 22:08:16.754 | INFO     | __main__:<module>:2 - program started\n",
    "\n",
    "\n",
    "'''\n",
    "\n",
    "from loguru import logger\n",
    "\n",
    "logger.info(\"program started\")"
   ]
  }
 ],
 "metadata": {
  "kernelspec": {
   "display_name": "Python 3 (ipykernel)",
   "language": "python",
   "name": "python3"
  },
  "language_info": {
   "codemirror_mode": {
    "name": "ipython",
    "version": 3
   },
   "file_extension": ".py",
   "mimetype": "text/x-python",
   "name": "python",
   "nbconvert_exporter": "python",
   "pygments_lexer": "ipython3",
   "version": "3.10.6"
  },
  "varInspector": {
   "cols": {
    "lenName": 16,
    "lenType": 16,
    "lenVar": 40
   },
   "kernels_config": {
    "python": {
     "delete_cmd_postfix": "",
     "delete_cmd_prefix": "del ",
     "library": "var_list.py",
     "varRefreshCmd": "print(var_dic_list())"
    },
    "r": {
     "delete_cmd_postfix": ") ",
     "delete_cmd_prefix": "rm(",
     "library": "var_list.r",
     "varRefreshCmd": "cat(var_dic_list()) "
    }
   },
   "types_to_exclude": [
    "module",
    "function",
    "builtin_function_or_method",
    "instance",
    "_Feature"
   ],
   "window_display": false
  }
 },
 "nbformat": 4,
 "nbformat_minor": 5
}
