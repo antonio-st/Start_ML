{
 "cells": [
  {
   "cell_type": "markdown",
   "id": "2f380217",
   "metadata": {},
   "source": [
    "### В этом уроке\n",
    "\n",
    "Все задания этом уроке необходимо выполнять в том порядке, в котором они идут в LMS.\n",
    "\n",
    "В четвертом уроке задания будут разбиты на 4 блока:\n",
    "\n",
    "**1. Markdown. Сначала мы научимся работать с Markdown, используя jupyter notebook.**\n",
    "\n",
    "2. Ошибки в коде. Здесь мы поработаем с чужим кодом, отредактируем и запустим его.\n",
    "\n",
    "3. Numpy. Мы сравненим время работы цикла for и функции из библиотеки numpy для вычислении скалярного произведения векторов.\n",
    "\n",
    "4. Непонятная [*]. В заключение, мы столкнемся с зависающим кодом и применим наши знания о ядрах jupyter для решения проблемы.\n",
    "> Создаем ноутбук в jupyter и учимся работать с Markdown\n",
    "\n",
    "Установите jupyter у себя на компьютере. Откройте его, затем создайте ноутбук.\n",
    "\n",
    "В ноутбуке создайте несколько ячеек: с markdown-разметкой и с кодом. В markdown-ячейке воспользуйтесь синтаксисом для полужирного текста, курсива и monospace.\n",
    "\n",
    "Когда будете готовы, загрузите свой ноутбук ниже."
   ]
  },
  {
   "cell_type": "markdown",
   "id": "70bee9cf",
   "metadata": {},
   "source": [
    "### `2. Фиксим баги в коде коллеги`\n",
    "\n",
    "Скачайте ноутбук и запустите все ячейки. Этот ноутбук приближен к тому, с чем вы столкнетесь в реальности: разбросанные эксперименты в разных частях, не очень большая документация. Не волнуйтесь, мы с вами не будем продолжать эти традиции и будем писать хорошие ноутбуки :)\n",
    "\n",
    "В самом конце вы должны увидеть распечатку переменной credit_payments. Результат вывода второй ячейки будет:\n",
    "```\n",
    "0.03091597557067871\n",
    "1671.9166620000015\n",
    "```\n",
    "    Ваш тех.директор сказал, что в коде ошибка - там надо убрать строку credit_payments.append(5), потому что она осталась от эксперимента. Вы с радостью это делаете на глазах у шефа, и хотите перезапустить ячейку с циклом.\n",
    "\n",
    "    Подумайте, какой результат ожидаете получить, а затем перезапустите ячейку с циклом for. Что получилось на выходе?\n",
    "    \n",
    "****\n",
    "**Решение**\n",
    "\n",
    "_3338.83_\n",
    "\n",
    "поскольку в ячейке нет синтакиса для перезапуска списка, в переменной осталось старое значение, нужно перевыполнить первую ячейку, а потом последнюю, но в задании нас этого не просят делать.\n"
   ]
  },
  {
   "cell_type": "markdown",
   "id": "638fe02d",
   "metadata": {},
   "source": [
    "### 3. `Пишем воспроизводимый код`\n",
    "\n",
    "    Что можно сделать, чтобы после перезапуска последней ячейки всегда получился одинаковый результат?\n",
    "Ответ: `Перенести credit_payments = [] в ячейку с циклом for`"
   ]
  },
  {
   "cell_type": "markdown",
   "id": "dc15391b",
   "metadata": {},
   "source": [
    "## `4 Строим графики`\n",
    "\n",
    "Откройте ноутбук по ссылке. Посмотрите на графики, потом попробуйте их воссоздать. Как добиться того, чтобы при \"Restart Kernel and run all\" получались схожие графики? \n",
    "\n",
    "        Вернуть импорт matplotlib.pyplot в первую ячейку, где уже используется отрисовка графиков"
   ]
  },
  {
   "cell_type": "markdown",
   "id": "5ff7e22b",
   "metadata": {},
   "source": [
    "## 5 `Применяем магические команды jupyter`\n",
    "\n",
    "Реализуйте скалярное произведение двух векторов размера 1e5 через цикл for в ноутбуке и замерьте скорость выполнения кода с использованием магической команды %%timeit. Используйте для быстрой генерации вектора такой трюк: vec1 = list(range(int(1e5))).\n",
    "\n",
    "Рекомендуем скалярное произведение обернуть в функцию.\n",
    "\n",
    "Сколько секунд отрабатывала ваша функция?\n",
    "\n",
    "NB! Убедитесь, что замеряете только время выполнения скалярного произведения и ничего больше\n",
    "\n",
    "> от 5 до 20 ms"
   ]
  },
  {
   "cell_type": "code",
   "execution_count": 23,
   "id": "f605e925",
   "metadata": {},
   "outputs": [],
   "source": [
    "vec1 = list(range(int(1e5)))\n",
    "vec2 = list(range(int(1e5)))\n",
    "\n",
    "def sum_vec(vec1,vec2):\n",
    "    exit_vector = 0\n",
    "    for i in range(int(1e5)):\n",
    "        exit_vector += vec1[i] * vec2[i]\n",
    "    return exit_vector\n",
    "\n",
    "   "
   ]
  },
  {
   "cell_type": "code",
   "execution_count": 24,
   "id": "2e13d6b5",
   "metadata": {
    "scrolled": true
   },
   "outputs": [
    {
     "name": "stdout",
     "output_type": "stream",
     "text": [
      "6.08 ms ± 128 µs per loop (mean ± std. dev. of 7 runs, 100 loops each)\n"
     ]
    }
   ],
   "source": [
    "%%timeit\n",
    "\n",
    "sum_vec(vec1,vec2)"
   ]
  },
  {
   "cell_type": "markdown",
   "id": "6178b5fa",
   "metadata": {},
   "source": [
    "---\n",
    "\n",
    "## 6. `Результат \"магического\" умножения`\n",
    "Какой порядок (т.е. число после e+...) имеет результат скалярного произведения двух векторов из предыдущего степа?\n",
    "\n",
    "Hint: для выполнения этого задания почитайте про формат scientific notation в питоне.\n",
    "> **Ответ:** 14"
   ]
  },
  {
   "cell_type": "code",
   "execution_count": 22,
   "id": "24001119",
   "metadata": {},
   "outputs": [
    {
     "name": "stdout",
     "output_type": "stream",
     "text": [
      "3.33e+14\n",
      "333328333350000\n"
     ]
    }
   ],
   "source": [
    "\n",
    "vec1 = list(range(int(1e5)))\n",
    "vec2 = list(range(int(1e5)))\n",
    "exit_vector = 0\n",
    "for i in range(int(1e5)):\n",
    "    exit_vector += vec1[i] * vec2[i]\n",
    "\n",
    "\n",
    "scientific_notation = \"{:.2e}\".format(exit_vector)\n",
    "print(scientific_notation)\n",
    "print(exit_vector)"
   ]
  },
  {
   "cell_type": "markdown",
   "id": "5ba373fc",
   "metadata": {},
   "source": [
    "## `7. Замеряем время работы функций в Numpy`\n",
    "\n",
    "Теперь подключите библиотеку numpy, оберните списки, созданные на степе 5, в np.array(), затем воспользуйтесь встроенной функцией np.dot() для их скалярного произведения. Замерьте время выполнения кода через %%timeit. Какое оно стало?\n",
    "\n",
    "NB! Убедитесь, что замеряете только время выполнения скалярного произведения и ничего больше\n",
    "> **Ответ**: < 100 µs"
   ]
  },
  {
   "cell_type": "code",
   "execution_count": 26,
   "id": "bda3ca51",
   "metadata": {},
   "outputs": [],
   "source": [
    "vec_np1 = np.array(list(range(int(1e5))))\n",
    "vec_np2 = np.array(list(range(int(1e5))))\n",
    "\n",
    "def sum_vec_np(vec_np1, vec_np2):\n",
    "    mult_vector = 0\n",
    "    return np.dot(vec_np1,vec_np2)"
   ]
  },
  {
   "cell_type": "code",
   "execution_count": 28,
   "id": "f4a5ba20",
   "metadata": {},
   "outputs": [
    {
     "name": "stdout",
     "output_type": "stream",
     "text": [
      "54.6 µs ± 186 ns per loop (mean ± std. dev. of 7 runs, 10,000 loops each)\n"
     ]
    }
   ],
   "source": [
    "%%timeit\n",
    "\n",
    "sum_vec_np(vec_np1, vec_np2)"
   ]
  },
  {
   "cell_type": "markdown",
   "id": "96a59f5e",
   "metadata": {},
   "source": [
    "## 8. `Фиксим баги в коде коллеги [2]`\n",
    "\n",
    "Ваш коллега тоже проходит курс StartML. Он поделился своим ноутбуком с реализацией алгоритма Евклида и попросил проверить, как она работает.\n",
    "\n",
    "Скачайте ноутбук по ссылке. Запустите на нем [алгоритм Евклида](https://all-python.ru/raznoe/algoritm-evklida.html) на числах 121, 11 и следующую после него ячейку (распечатка сообщения об успехе). Переходите к описанию ниже, как только запустите ячейку.\n",
    "\n",
    "Если код выполняется очень долго, вспомните, что рассказывали в лекции по поводу ядра и операций с ним (restart, interrupt).\n",
    "\n",
    "В случае если вам кажется, что в коде коллеги что-то не то, попробуйте исправить это. Если имела место ошибка, в чем она заключалась?\n",
    "\n",
    "> **Ответ:** В коде была ошибка в присваивании переменных a, b внутри цикла while\n",
    "<br> \n",
    "> Хотя как по мне , так и условия выхода из цикла тоже неправильные"
   ]
  },
  {
   "cell_type": "code",
   "execution_count": null,
   "id": "acb9f601",
   "metadata": {},
   "outputs": [],
   "source": [
    "# def gcd(a, b):\n",
    "#     if a < b:\n",
    "#         b, a = a, b\n",
    "#     while b != 0:\n",
    "#         a, b = a % b, b\n",
    "#     print(a)"
   ]
  },
  {
   "cell_type": "code",
   "execution_count": 29,
   "id": "89e963dc",
   "metadata": {},
   "outputs": [],
   "source": [
    "def gcd(a, b):\n",
    "    \n",
    "    '''\n",
    "    Алгоритм Евклида — это алгоритм, который используется\n",
    "    для нахождения наибольшего делителя двух целых чисел\n",
    "    \n",
    "    '''\n",
    "\n",
    "    while a != 0 and b !=0:\n",
    "        if a >= b:\n",
    "            a %= b\n",
    "            print(f'a = {a}')\n",
    "        else:\n",
    "            b %= a\n",
    "            print(f'b = {b}')\n",
    "            \n",
    "    print(a or b)"
   ]
  },
  {
   "cell_type": "code",
   "execution_count": 30,
   "id": "8e68c794",
   "metadata": {},
   "outputs": [
    {
     "name": "stdout",
     "output_type": "stream",
     "text": [
      "a = 0\n",
      "11\n"
     ]
    }
   ],
   "source": [
    "gcd(121, 11)"
   ]
  },
  {
   "cell_type": "code",
   "execution_count": 31,
   "id": "4f713372",
   "metadata": {},
   "outputs": [
    {
     "name": "stdout",
     "output_type": "stream",
     "text": [
      "a = 63\n",
      "b = 42\n",
      "a = 21\n",
      "b = 0\n",
      "21\n"
     ]
    }
   ],
   "source": [
    "gcd(168, 105)"
   ]
  }
 ],
 "metadata": {
  "kernelspec": {
   "display_name": "Python 3 (ipykernel)",
   "language": "python",
   "name": "python3"
  },
  "language_info": {
   "codemirror_mode": {
    "name": "ipython",
    "version": 3
   },
   "file_extension": ".py",
   "mimetype": "text/x-python",
   "name": "python",
   "nbconvert_exporter": "python",
   "pygments_lexer": "ipython3",
   "version": "3.10.6"
  },
  "varInspector": {
   "cols": {
    "lenName": 16,
    "lenType": 16,
    "lenVar": 40
   },
   "kernels_config": {
    "python": {
     "delete_cmd_postfix": "",
     "delete_cmd_prefix": "del ",
     "library": "var_list.py",
     "varRefreshCmd": "print(var_dic_list())"
    },
    "r": {
     "delete_cmd_postfix": ") ",
     "delete_cmd_prefix": "rm(",
     "library": "var_list.r",
     "varRefreshCmd": "cat(var_dic_list()) "
    }
   },
   "types_to_exclude": [
    "module",
    "function",
    "builtin_function_or_method",
    "instance",
    "_Feature"
   ],
   "window_display": false
  }
 },
 "nbformat": 4,
 "nbformat_minor": 5
}
