{
 "cells": [
  {
   "cell_type": "code",
   "execution_count": 17,
   "id": "1cca2d70",
   "metadata": {
    "ExecuteTime": {
     "end_time": "2022-02-02T19:39:19.216725Z",
     "start_time": "2022-02-02T19:39:19.213633Z"
    }
   },
   "outputs": [],
   "source": [
    "# def gcd(a, b):\n",
    "#     if a < b:\n",
    "#         b, a = a, b\n",
    "#     while b != 0:\n",
    "#         a, b = a % b, b\n",
    "#     print(a)"
   ]
  },
  {
   "cell_type": "code",
   "execution_count": 79,
   "id": "5a673a39",
   "metadata": {},
   "outputs": [],
   "source": [
    "def gcd(a, b):\n",
    "    \n",
    "    '''\n",
    "    Алгоритм Евклида — это алгоритм, который используется\n",
    "    для нахождения наибольшего делителя двух целых чисел\n",
    "    \n",
    "    '''\n",
    "\n",
    "    while a != 0 and b !=0:\n",
    "        if a >= b:\n",
    "            a %= b\n",
    "            print(f'a = {a}')\n",
    "        else:\n",
    "            b %= a\n",
    "            print(f'b = {b}')\n",
    "            \n",
    "    print(a or b)"
   ]
  },
  {
   "cell_type": "code",
   "execution_count": 82,
   "id": "7c40cabd",
   "metadata": {
    "ExecuteTime": {
     "end_time": "2022-02-02T19:39:23.104767Z",
     "start_time": "2022-02-02T19:39:19.499669Z"
    }
   },
   "outputs": [
    {
     "name": "stdout",
     "output_type": "stream",
     "text": [
      "a = 63\n",
      "b = 42\n",
      "a = 21\n",
      "b = 0\n",
      "21\n"
     ]
    }
   ],
   "source": [
    "gcd(168, 105)"
   ]
  },
  {
   "cell_type": "code",
   "execution_count": 84,
   "id": "0927d7ac",
   "metadata": {},
   "outputs": [
    {
     "name": "stdout",
     "output_type": "stream",
     "text": [
      "a = 0\n",
      "11\n"
     ]
    }
   ],
   "source": [
    "gcd(121, 11)"
   ]
  },
  {
   "cell_type": "code",
   "execution_count": 83,
   "id": "049b7f60",
   "metadata": {
    "ExecuteTime": {
     "end_time": "2022-02-02T19:46:51.037347Z",
     "start_time": "2022-02-02T19:46:51.034432Z"
    },
    "scrolled": true
   },
   "outputs": [
    {
     "name": "stdout",
     "output_type": "stream",
     "text": [
      "success\n"
     ]
    }
   ],
   "source": [
    "print('success')"
   ]
  }
 ],
 "metadata": {
  "kernelspec": {
   "display_name": "Python 3 (ipykernel)",
   "language": "python",
   "name": "python3"
  },
  "language_info": {
   "codemirror_mode": {
    "name": "ipython",
    "version": 3
   },
   "file_extension": ".py",
   "mimetype": "text/x-python",
   "name": "python",
   "nbconvert_exporter": "python",
   "pygments_lexer": "ipython3",
   "version": "3.10.6"
  },
  "toc": {
   "base_numbering": 1,
   "nav_menu": {},
   "number_sections": true,
   "sideBar": true,
   "skip_h1_title": false,
   "title_cell": "Table of Contents",
   "title_sidebar": "Contents",
   "toc_cell": false,
   "toc_position": {},
   "toc_section_display": true,
   "toc_window_display": false
  },
  "varInspector": {
   "cols": {
    "lenName": 16,
    "lenType": 16,
    "lenVar": 40
   },
   "kernels_config": {
    "python": {
     "delete_cmd_postfix": "",
     "delete_cmd_prefix": "del ",
     "library": "var_list.py",
     "varRefreshCmd": "print(var_dic_list())"
    },
    "r": {
     "delete_cmd_postfix": ") ",
     "delete_cmd_prefix": "rm(",
     "library": "var_list.r",
     "varRefreshCmd": "cat(var_dic_list()) "
    }
   },
   "types_to_exclude": [
    "module",
    "function",
    "builtin_function_or_method",
    "instance",
    "_Feature"
   ],
   "window_display": false
  }
 },
 "nbformat": 4,
 "nbformat_minor": 5
}
