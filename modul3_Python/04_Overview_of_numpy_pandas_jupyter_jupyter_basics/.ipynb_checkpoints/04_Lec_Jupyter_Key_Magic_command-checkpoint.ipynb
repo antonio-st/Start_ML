{
 "cells": [
  {
   "cell_type": "markdown",
   "id": "94dee3a2",
   "metadata": {},
   "source": [
    "## `Список основных библиотек`\n",
    "\n",
    "Основные инструменты в DS: `numpy, pandas, matplotlib`\n",
    "\n",
    "    * Без pandas не проходит и дня в работе DS: он используется для исследования данных, их преобразования, проверки гипотез, загрузки/выгрузки и многого другого. pandas работает довольно быстро, намного быстрее встроенных в python возможностей.\n",
    "\n",
    "    * Высокую скорость обработки в pandas обеспечивает библиотека numpy. Хотя numpy сам по себе используется чуть реже в анализе данных, он очень важен — многие библиотеки для ML «под капотом» используют numpy для быстрых вычислений. О нем более подробно поговорим в блоке про машинное обучение.\n",
    "\n",
    "    * Наконец, для любого хорошего отчета необходима визуализация результатов. Для построения графиков чаще всего используется matplotlib и основанные на ней библиотеки (seaborn, к примеру). Про визуализацию подробнее поговорим в модуле «Машинное обучение»."
   ]
  },
  {
   "cell_type": "markdown",
   "id": "116b9f77",
   "metadata": {},
   "source": [
    "## Ячейки в Jupyter\n",
    "\n",
    "Весь Jupyter Notebook состоит из ячеек (англ. _cell_).\n",
    "\n",
    "Ячейки в ноутбуке бывают трех типов:\n",
    "\n",
    "    code — содержат Python-код, который Jupyter выполнит.\n",
    "    text — содержат текст в разметке Markdown.\n",
    "    raw — содержат любые символы, которые Jupyter не будет пытаться как-либо выполнить (на практике используется редко).\n",
    "\n",
    " \n",
    "Немного о Markdown:\n",
    "\n",
    "Jupyter Notebook поддерживает язык разметки Markdown. Это простой способ создания красиво выглядящих документов с небольшим количеством команд, которые нужно запомнить. \n",
    "\n",
    "«Язык разметки» — это просто набор соглашений, правил.\n",
    "\n",
    "Допустим, что вы общаетесь с другом по СМС. В них нельзя сделать текст жирным или наклонным. Вы договариваетесь с другом: если я пишу *что-то* вот так между звездочками, то считай, что это наклонный текст. А если я пишу **что-то** между двумя звездочками, то считай, что это жирный текст. Вы придумали правила.\n",
    "\n",
    "Markdown — это набор подобных правил.\n",
    "\n",
    "[Больше информации](https://guides.hexlet.io/markdown/)"
   ]
  },
  {
   "cell_type": "markdown",
   "id": "5390ad13",
   "metadata": {},
   "source": [
    " ## Горячие клавиши в Jupyter\n",
    "\n",
    "В Jupyter Notebook много горячих клавиш (англ. _hotkey_). Это кнопки наподобие Ctrl + C, которые делают определенное действие.\n",
    "\n",
    "Чтобы пользоваться горячими клавишами, нужно выйти из режима редактирования текста — нажать esc. Курсор в тексте должен пропасть. Горячих клавиш много, поэтому дадим список самых популярных:\n",
    "\n",
    "    esc — выйти из режима редактирования ячейки\n",
    "    b (как _below_) — создать ячейку внизу с типом code\n",
    "    a (как _above_) — создать ячейку сверху с типом code\n",
    "    y — сделать выбранной ячейку (это ячейка, вокруг которой зеленая рамка) тип code\n",
    "    m (как _markdown_) — сделать выбранной ячейке тип text\n",
    "    dd (как _delete_, только дважды) — удалить выбранную ячейку\n",
    "    x — удалить ячейку и сохранить во временную память (не Ctrl + C — у Jupyter на ячейки отдельный буфер обмена)\n",
    "    c — скопировать ячейку и сохранить во временную память\n",
    "    v — вставить ячейку из временной памяти под текущей\n",
    "    V (shift + v) — вставить ячейку из временной памяти над текущей\n",
    "    Ctrl + Enter — исполнить текущую ячейку\n",
    "    Shift + Enter — исполнить текущую ячейку и выбрать ячейку ниже\n",
    "    стрелка вниз — выбрать ячейку ниже\n",
    "    стрелка вверх — выбрать ячейку выше"
   ]
  },
  {
   "cell_type": "markdown",
   "id": "0581557b",
   "metadata": {},
   "source": [
    "## Магические команды в Jupyter\n",
    "\n",
    "**Магические команды** (англ. _magic commands_) — это дополнительная функциональность Jupyter, которая дает возможность менять поведение кода, добавлять подсчеты и чуть-чуть упрощает работу.\n",
    "\n",
    "Существует два типа магических команд:\n",
    "\n",
    "    Строчные, обозначенные одним символом %. (Команда работает на одной строке кода)\n",
    "    Ячеечные, обозначенные двойным символом % %. (Команда работает над всей ячейкой)\n",
    "\n",
    "Посмотреть доступные магические команды можно с помощью %lsmagic. Возможный результат работы команды:\n",
    "\n",
    "```\n",
    "Available line magics:\n",
    "%alias  %alias_magic  %autoawait  %autocall  %automagic  %autosave  %bookmark  %cat  %cd  %clear  %colors  %conda\n",
    "%config  %connect_info  %cp  %debug  %dhist  %dirs  %doctest_mode  %ed  %edit  %env  %gui  %hist  %history\n",
    "%killbgscripts  %ldir  %less  %lf  %lk  %ll  %load  %load_ext  %loadpy  %logoff  %logon  %logstart\n",
    "%logstate  %logstop  %ls  %lsmagic  %lx  %macro  %magic  %man  %matplotlib  %mkdir  %more  %mv  %notebook\n",
    "%page  %pastebin  %pdb  %pdef  %pdoc  %pfile  %pinfo  %pinfo2  %pip  %popd  %pprint  %precision  %prun  %psearch\n",
    "%psource  %pushd  %pwd  %pycat  %pylab  %qtconsole  %quickref  %recall  %rehashx  %reload_ext  %rep  %rerun  %reset\n",
    "%reset_selective  %rm  %rmdir  %run  %save  %sc  %set_env  %store  %sx  %system  %tb  %time  %timeit  %unalias\n",
    "%unload_ext  %who  %who_ls  %whos  %xdel  %xmode\n",
    "\n",
    "Available cell magics:\n",
    "%%!  %%HTML  %%SVG  %%bash  %%capture  %%debug  %%file  %%html  %%javascript  %%js  %%latex  %%markdown\n",
    "%%perl  %%prun  %%pypy  %%python  %%python2  %%python3  %%ruby  %%script  %%sh  %%svg  %%sx  %%system\n",
    "%%time  %%timeit  %%writefile\n",
    "\n",
    "Automagic is ON, % prefix IS NOT needed for line magics.\n",
    "```\n",
    "\n",
    "> Рассмотрим несколько примеров:"
   ]
  },
  {
   "cell_type": "code",
   "execution_count": 3,
   "id": "0594ff32",
   "metadata": {},
   "outputs": [
    {
     "name": "stdout",
     "output_type": "stream",
     "text": [
      "CPU times: user 208 ms, sys: 0 ns, total: 208 ms\n",
      "Wall time: 209 ms\n"
     ]
    }
   ],
   "source": [
    "%%time\n",
    "# Cell magic - это магия, которая действует на всю ячейку\n",
    "# cell magic обязательно должна быть первой строкой в ячейке\n",
    "for i in range(int(1e6)):\n",
    "    a = i**2"
   ]
  },
  {
   "cell_type": "code",
   "execution_count": null,
   "id": "89bf20bb",
   "metadata": {},
   "outputs": [],
   "source": [
    "# Через ! можно сказать jupyter, что вся команду надо выполнить\n",
    "# в терминале системы\n",
    "# Jupyter поймет, что это не Python код\n",
    "!pip install notebook"
   ]
  },
  {
   "cell_type": "code",
   "execution_count": 5,
   "id": "752a6d2f",
   "metadata": {},
   "outputs": [
    {
     "name": "stdout",
     "output_type": "stream",
     "text": [
      "221 ms ± 2.02 ms per loop (mean ± std. dev. of 7 runs, 1 loop each)\n"
     ]
    }
   ],
   "source": [
    "import numpy as np\n",
    "%timeit np.array([i**2 for i in range(int(1e6))])"
   ]
  },
  {
   "cell_type": "markdown",
   "id": "fcc5a75a",
   "metadata": {},
   "source": [
    "## Magic команды\n",
    "`ссылки на документацию:`\n",
    "\n",
    "[Документация на magic](https://ipython.readthedocs.io/en/stable/interactive/magics.html)\n",
    "\n",
    "Хорошая статья с [полезными](https://towardsdatascience.com/top-8-magic-commands-in-jupyter-notebook-c1582e813560) magic-командами"
   ]
  },
  {
   "cell_type": "markdown",
   "id": "cd7723b9",
   "metadata": {},
   "source": [
    "## Kernel в Jupyter\n",
    "\n",
    "В Jupyter можно выполнять не только Python-код, но и код на других языках! Мы этим пользоваться не будем, но про возможность полезно знать.\n",
    "\n",
    "За выполнение кода Python в Jupyter отвечает ядро (англ. _kernel_). Нам здесь нужно знать две вещи: ядро можно менять на другое (скажем, то, где больше установленных пакетов) и ядро может зависать.\n",
    "\n",
    "Когда мы выполняем код в Jupyter, часто видим `In [*].` На деле, эта запись означает другое: она говорит, что ядро занято.\n",
    "\n",
    "Если ядро зависло или команда выполняется слишком долго, можно его прервать (англ. _interrupt_). Для этого на панели наверху есть` кнопка с изображением квадратика.`\n",
    "\n",
    "Ядро содержит в ОЗУ все когда-либо объявленные переменные ноутбука и может «жить» долго. В больших проектах это может привести к тому, что ядро станет занимать очень много ОЗУ.\n",
    "\n",
    "Если вам кажется, что ядро «раздулось», до больших размеров, `то его можно перезапустить кнопкой,` находящейся справа от кнопки прерывания. Перезапуск ядра приведет к тому, что все переменные удалятся и все расчеты потеряются. Будьте готовы.\n",
    "\n",
    "Кстати, на панельке сверху есть немало операций, которые мы изучили в секции «Горячие клавиши»."
   ]
  }
 ],
 "metadata": {
  "kernelspec": {
   "display_name": "Python 3 (ipykernel)",
   "language": "python",
   "name": "python3"
  },
  "language_info": {
   "codemirror_mode": {
    "name": "ipython",
    "version": 3
   },
   "file_extension": ".py",
   "mimetype": "text/x-python",
   "name": "python",
   "nbconvert_exporter": "python",
   "pygments_lexer": "ipython3",
   "version": "3.10.6"
  },
  "varInspector": {
   "cols": {
    "lenName": 16,
    "lenType": 16,
    "lenVar": 40
   },
   "kernels_config": {
    "python": {
     "delete_cmd_postfix": "",
     "delete_cmd_prefix": "del ",
     "library": "var_list.py",
     "varRefreshCmd": "print(var_dic_list())"
    },
    "r": {
     "delete_cmd_postfix": ") ",
     "delete_cmd_prefix": "rm(",
     "library": "var_list.r",
     "varRefreshCmd": "cat(var_dic_list()) "
    }
   },
   "types_to_exclude": [
    "module",
    "function",
    "builtin_function_or_method",
    "instance",
    "_Feature"
   ],
   "window_display": false
  }
 },
 "nbformat": 4,
 "nbformat_minor": 5
}
