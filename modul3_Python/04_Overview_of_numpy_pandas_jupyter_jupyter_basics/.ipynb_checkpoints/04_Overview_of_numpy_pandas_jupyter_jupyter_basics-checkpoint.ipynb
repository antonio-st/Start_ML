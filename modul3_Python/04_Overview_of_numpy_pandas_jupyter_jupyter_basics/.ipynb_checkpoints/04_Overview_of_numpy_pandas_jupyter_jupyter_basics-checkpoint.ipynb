{
 "cells": [
  {
   "cell_type": "markdown",
   "id": "eb5ea6ec",
   "metadata": {},
   "source": [
    "## Обзор jupyter, numpy, pandas, matplotlib\n",
    "\n",
    "`pandas` - он используется для исследования данных, их преобразования, проверки гипотез, загрузки/выгрузки и много другого\n",
    "\n",
    "`numpy` - многие библиотеки для ML \"под капотом\" используют `numpy` для быстрых вычислений\n",
    "\n",
    "`matplotlib` - Для построения графиков, основная библиотека `seaborn`"
   ]
  },
  {
   "cell_type": "markdown",
   "id": "cd9b368a",
   "metadata": {},
   "source": [
    "### Jupyter: продвинутые команды\n",
    "\n",
    "#### Ячейки\n",
    "\n",
    "`Jupyter notebook` состоит из ячеек\n",
    "\n",
    "1. code - содержат Python-код, который Jupyter выполнит. (m)\n",
    "2. text - содержат текст в разметке Markdown. (y)\n",
    "3. raw - содержат любые символы, которые Jupyter не будет пытаться как-либо выполнить (на практике используется редко).\n",
    "\n",
    "\n",
    "#### Горячие клавиши\n",
    "- `esc` - выйти из режима редактирования ячейки\n",
    "- `b` (как _below_) - создать ячейку внизу с типом `code`\n",
    "- `a` (как _above_) - создать ячейку сверху с типом `code`\n",
    "- `y` - сделать выбранной ячейке (это ячейка, вокруг которой зеленая рамка) тип `code`\n",
    "- `m` (как _markdown_) - сделать выбранной ячейке тип `text`\n",
    "- `dd` (как _delete_, только дважды) - удалить выбранную ячейку\n",
    "- `x` - удалить ячейку и сохранить во временную память (не `Ctrl + C` - у jupyter на ячейки отдельный буфер обмена)\n",
    "- `c` - скопировать ячейку и сохранить во временную память\n",
    "- `v` - вставить ячейку из временной памяти _под_ текущей\n",
    "- `V` (`shift + v`) - вставить ячейку из временной памяти _над_ текущей\n",
    "- стрелка вниз - выбрать ячейку ниже\n",
    "- стрелка вверх - выбрать ячейку выше\n",
    "- `Ctrl + Enter` - исполнить текущую ячейку\n",
    "- `Shift + Enter` - исполнить текущую ячейку и выбрать ячейку ниже\n",
    "- `Ctrl + /` - быстро закомментировать код."
   ]
  },
  {
   "cell_type": "markdown",
   "id": "22463cfa",
   "metadata": {},
   "source": [
    "### Магические команды\n",
    "дополнительная функциональность Jupyter\n",
    "\n",
    "Существует два типа магических команд:\n",
    "\n",
    "    Строчные, обозначенные одним символом %. (Команда работает на одной строке кода)\n",
    "    Ячеечные, обозначенные двойным символом % %. (Команда работает над всей ячейкой)"
   ]
  },
  {
   "cell_type": "code",
   "execution_count": 2,
   "id": "a1e5bafa",
   "metadata": {
    "ExecuteTime": {
     "end_time": "2023-01-19T19:21:36.398091Z",
     "start_time": "2023-01-19T19:21:36.380874Z"
    }
   },
   "outputs": [
    {
     "name": "stdout",
     "output_type": "stream",
     "text": [
      "CPU times: user 3 µs, sys: 1 µs, total: 4 µs\n",
      "Wall time: 6.91 µs\n"
     ]
    },
    {
     "data": {
      "text/plain": [
       "1000000000000.0"
      ]
     },
     "execution_count": 2,
     "metadata": {},
     "output_type": "execute_result"
    }
   ],
   "source": [
    "%time 1e6 ** 2 # %... строчные магические команды, здесь замеряем время выполнения команды в строке."
   ]
  },
  {
   "cell_type": "code",
   "execution_count": 4,
   "id": "42d63f57",
   "metadata": {
    "ExecuteTime": {
     "end_time": "2023-01-19T19:27:44.359763Z",
     "start_time": "2023-01-19T19:27:42.389035Z"
    }
   },
   "outputs": [
    {
     "name": "stdout",
     "output_type": "stream",
     "text": [
      "CPU times: user 1.96 s, sys: 0 ns, total: 1.96 s\n",
      "Wall time: 1.97 s\n"
     ]
    }
   ],
   "source": [
    "%%time\n",
    "# подсчитывает время выполнения команды под %%time\n",
    "import numpy as np\n",
    "\n",
    "for i in range(int(1e7)):\n",
    "    i ** 2"
   ]
  },
  {
   "cell_type": "code",
   "execution_count": 5,
   "id": "d1b64941",
   "metadata": {
    "ExecuteTime": {
     "end_time": "2023-01-19T19:29:11.156949Z",
     "start_time": "2023-01-19T19:29:09.166603Z"
    },
    "collapsed": true
   },
   "outputs": [
    {
     "name": "stdout",
     "output_type": "stream",
     "text": [
      "Defaulting to user installation because normal site-packages is not writeable\n",
      "Requirement already satisfied: pandas in /home/antonio/.local/lib/python3.10/site-packages (1.5.0)\n",
      "Requirement already satisfied: pytz>=2020.1 in /usr/lib/python3/dist-packages (from pandas) (2022.1)\n",
      "Requirement already satisfied: numpy>=1.21.0 in /home/antonio/.local/lib/python3.10/site-packages (from pandas) (1.24.0)\n",
      "Requirement already satisfied: python-dateutil>=2.8.1 in /home/antonio/.local/lib/python3.10/site-packages (from pandas) (2.8.2)\n",
      "Requirement already satisfied: six>=1.5 in /usr/lib/python3/dist-packages (from python-dateutil>=2.8.1->pandas) (1.16.0)\n"
     ]
    }
   ],
   "source": [
    "# выполнение консольных команд в pandas\n",
    "!pip install pandas"
   ]
  },
  {
   "cell_type": "code",
   "execution_count": 7,
   "id": "23e92de0",
   "metadata": {
    "ExecuteTime": {
     "end_time": "2023-01-19T19:34:39.013978Z",
     "start_time": "2023-01-19T19:34:36.997287Z"
    }
   },
   "outputs": [
    {
     "name": "stdout",
     "output_type": "stream",
     "text": [
      "251 ms ± 10.5 ms per loop (mean ± std. dev. of 7 runs, 1 loop each)\n"
     ]
    }
   ],
   "source": [
    "%timeit np.array([i **2 for i in range(int(1e6))]) # строчный подсчет времени выполнения ячейки"
   ]
  },
  {
   "cell_type": "code",
   "execution_count": 8,
   "id": "12d5a242",
   "metadata": {
    "ExecuteTime": {
     "end_time": "2023-01-19T19:36:25.971373Z",
     "start_time": "2023-01-19T19:36:25.963947Z"
    }
   },
   "outputs": [
    {
     "data": {
      "application/json": {
       "cell": {
        "!": "OSMagics",
        "HTML": "Other",
        "SVG": "Other",
        "bash": "Other",
        "capture": "ExecutionMagics",
        "debug": "ExecutionMagics",
        "file": "Other",
        "html": "DisplayMagics",
        "javascript": "DisplayMagics",
        "js": "DisplayMagics",
        "latex": "DisplayMagics",
        "markdown": "DisplayMagics",
        "perl": "Other",
        "prun": "ExecutionMagics",
        "pypy": "Other",
        "python": "Other",
        "python2": "Other",
        "python3": "Other",
        "ruby": "Other",
        "script": "ScriptMagics",
        "sh": "Other",
        "svg": "DisplayMagics",
        "sx": "OSMagics",
        "system": "OSMagics",
        "time": "ExecutionMagics",
        "timeit": "ExecutionMagics",
        "writefile": "OSMagics"
       },
       "line": {
        "alias": "OSMagics",
        "alias_magic": "BasicMagics",
        "autoawait": "AsyncMagics",
        "autocall": "AutoMagics",
        "automagic": "AutoMagics",
        "autosave": "KernelMagics",
        "bookmark": "OSMagics",
        "cat": "Other",
        "cd": "OSMagics",
        "clear": "KernelMagics",
        "colors": "BasicMagics",
        "conda": "PackagingMagics",
        "config": "ConfigMagics",
        "connect_info": "KernelMagics",
        "cp": "Other",
        "debug": "ExecutionMagics",
        "dhist": "OSMagics",
        "dirs": "OSMagics",
        "doctest_mode": "BasicMagics",
        "ed": "Other",
        "edit": "KernelMagics",
        "env": "OSMagics",
        "gui": "BasicMagics",
        "hist": "Other",
        "history": "HistoryMagics",
        "killbgscripts": "ScriptMagics",
        "ldir": "Other",
        "less": "KernelMagics",
        "lf": "Other",
        "lk": "Other",
        "ll": "Other",
        "load": "CodeMagics",
        "load_ext": "ExtensionMagics",
        "loadpy": "CodeMagics",
        "logoff": "LoggingMagics",
        "logon": "LoggingMagics",
        "logstart": "LoggingMagics",
        "logstate": "LoggingMagics",
        "logstop": "LoggingMagics",
        "ls": "Other",
        "lsmagic": "BasicMagics",
        "lx": "Other",
        "macro": "ExecutionMagics",
        "magic": "BasicMagics",
        "man": "KernelMagics",
        "matplotlib": "PylabMagics",
        "mkdir": "Other",
        "more": "KernelMagics",
        "mv": "Other",
        "notebook": "BasicMagics",
        "page": "BasicMagics",
        "pastebin": "CodeMagics",
        "pdb": "ExecutionMagics",
        "pdef": "NamespaceMagics",
        "pdoc": "NamespaceMagics",
        "pfile": "NamespaceMagics",
        "pinfo": "NamespaceMagics",
        "pinfo2": "NamespaceMagics",
        "pip": "PackagingMagics",
        "popd": "OSMagics",
        "pprint": "BasicMagics",
        "precision": "BasicMagics",
        "prun": "ExecutionMagics",
        "psearch": "NamespaceMagics",
        "psource": "NamespaceMagics",
        "pushd": "OSMagics",
        "pwd": "OSMagics",
        "pycat": "OSMagics",
        "pylab": "PylabMagics",
        "qtconsole": "KernelMagics",
        "quickref": "BasicMagics",
        "recall": "HistoryMagics",
        "rehashx": "OSMagics",
        "reload_ext": "ExtensionMagics",
        "rep": "Other",
        "rerun": "HistoryMagics",
        "reset": "NamespaceMagics",
        "reset_selective": "NamespaceMagics",
        "rm": "Other",
        "rmdir": "Other",
        "run": "ExecutionMagics",
        "save": "CodeMagics",
        "sc": "OSMagics",
        "set_env": "OSMagics",
        "store": "StoreMagics",
        "sx": "OSMagics",
        "system": "OSMagics",
        "tb": "ExecutionMagics",
        "time": "ExecutionMagics",
        "timeit": "ExecutionMagics",
        "unalias": "OSMagics",
        "unload_ext": "ExtensionMagics",
        "who": "NamespaceMagics",
        "who_ls": "NamespaceMagics",
        "whos": "NamespaceMagics",
        "xdel": "NamespaceMagics",
        "xmode": "BasicMagics"
       }
      },
      "text/plain": [
       "Available line magics:\n",
       "%alias  %alias_magic  %autoawait  %autocall  %automagic  %autosave  %bookmark  %cat  %cd  %clear  %colors  %conda  %config  %connect_info  %cp  %debug  %dhist  %dirs  %doctest_mode  %ed  %edit  %env  %gui  %hist  %history  %killbgscripts  %ldir  %less  %lf  %lk  %ll  %load  %load_ext  %loadpy  %logoff  %logon  %logstart  %logstate  %logstop  %ls  %lsmagic  %lx  %macro  %magic  %man  %matplotlib  %mkdir  %more  %mv  %notebook  %page  %pastebin  %pdb  %pdef  %pdoc  %pfile  %pinfo  %pinfo2  %pip  %popd  %pprint  %precision  %prun  %psearch  %psource  %pushd  %pwd  %pycat  %pylab  %qtconsole  %quickref  %recall  %rehashx  %reload_ext  %rep  %rerun  %reset  %reset_selective  %rm  %rmdir  %run  %save  %sc  %set_env  %store  %sx  %system  %tb  %time  %timeit  %unalias  %unload_ext  %who  %who_ls  %whos  %xdel  %xmode\n",
       "\n",
       "Available cell magics:\n",
       "%%!  %%HTML  %%SVG  %%bash  %%capture  %%debug  %%file  %%html  %%javascript  %%js  %%latex  %%markdown  %%perl  %%prun  %%pypy  %%python  %%python2  %%python3  %%ruby  %%script  %%sh  %%svg  %%sx  %%system  %%time  %%timeit  %%writefile\n",
       "\n",
       "Automagic is ON, % prefix IS NOT needed for line magics."
      ]
     },
     "execution_count": 8,
     "metadata": {},
     "output_type": "execute_result"
    }
   ],
   "source": [
    "# Посмотреть доступные магические команды можно с помощью %lsmagic. \n",
    "%lsmagic"
   ]
  },
  {
   "cell_type": "code",
   "execution_count": 10,
   "id": "85701fe2",
   "metadata": {
    "ExecuteTime": {
     "end_time": "2023-01-19T19:38:58.101755Z",
     "start_time": "2023-01-19T19:38:58.084053Z"
    }
   },
   "outputs": [
    {
     "name": "stdout",
     "output_type": "stream",
     "text": [
      "The autoreload extension is already loaded. To reload it, use:\n",
      "  %reload_ext autoreload\n"
     ]
    }
   ],
   "source": [
    "# autoreload делает так, чтобы все модули пере-импортировались перед тем,\n",
    "# как запускать код.\n",
    "# По умолчанию Python так не делает: если модуль уже импортирован,\n",
    "# он просто игнорирует импорт.\n",
    "# Если вы меняете исходный код модуля,\n",
    "# изменения не подтянутся - autoreload как раз решает эту проблему.\n",
    "\n",
    "%load_ext autoreload\n",
    "%autoreload 2"
   ]
  },
  {
   "cell_type": "markdown",
   "id": "0061f2c1",
   "metadata": {},
   "source": [
    "На практике чаще всего используют `%%time` для замера скорости ячейки, `%time` для замера скорости операции и `%autoreload` при разработке Python-пакета.\n",
    "\n",
    "magic:\n",
    "https://ipython.readthedocs.io/en/stable/interactive/magics.html \\\n",
    "autoreload:\n",
    "https://ipython.org/ipython-doc/3/config/extensions/autoreload.html \\\n",
    "статья про magic:\n",
    "https://towardsdatascience.com/top-8-magic-commands-in-jupyter-notebook-c1582e813560"
   ]
  },
  {
   "cell_type": "code",
   "execution_count": null,
   "id": "4c1ab1c5",
   "metadata": {},
   "outputs": [],
   "source": []
  }
 ],
 "metadata": {
  "kernelspec": {
   "display_name": "Python 3 (ipykernel)",
   "language": "python",
   "name": "python3"
  },
  "language_info": {
   "codemirror_mode": {
    "name": "ipython",
    "version": 3
   },
   "file_extension": ".py",
   "mimetype": "text/x-python",
   "name": "python",
   "nbconvert_exporter": "python",
   "pygments_lexer": "ipython3",
   "version": "3.10.6"
  },
  "varInspector": {
   "cols": {
    "lenName": 16,
    "lenType": 16,
    "lenVar": 40
   },
   "kernels_config": {
    "python": {
     "delete_cmd_postfix": "",
     "delete_cmd_prefix": "del ",
     "library": "var_list.py",
     "varRefreshCmd": "print(var_dic_list())"
    },
    "r": {
     "delete_cmd_postfix": ") ",
     "delete_cmd_prefix": "rm(",
     "library": "var_list.r",
     "varRefreshCmd": "cat(var_dic_list()) "
    }
   },
   "types_to_exclude": [
    "module",
    "function",
    "builtin_function_or_method",
    "instance",
    "_Feature"
   ],
   "window_display": false
  }
 },
 "nbformat": 4,
 "nbformat_minor": 5
}
