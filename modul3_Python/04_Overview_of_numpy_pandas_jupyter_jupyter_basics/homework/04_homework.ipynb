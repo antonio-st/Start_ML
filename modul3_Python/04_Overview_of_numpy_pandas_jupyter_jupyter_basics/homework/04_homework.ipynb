{
 "cells": [
  {
   "cell_type": "markdown",
   "id": "86f76b1a",
   "metadata": {},
   "source": [
    "## 2\n",
    "> Фиксим баги в коде коллеги\n",
    "\n",
    "- Скачайте ноутбук и запустите все ячейки. Этот ноутбук приближен к тому, с чем вы столкнетесь в реальности: разбросанные эксперименты в разных частях, не очень большая документация. Не волнуйтесь, мы с вами не будем продолжать эти традиции и будем писать хорошие ноутбуки :)\n",
    "\n",
    "- В самом конце вы должны увидеть распечатку переменной credit_payments. Результат вывода второй ячейки будет:\n",
    "\n",
    "```\n",
    "0.03091597557067871\n",
    "1671.9166620000015\n",
    "```\n",
    "- Ваш тех.директор сказал, что в коде ошибка - там надо убрать строку credit_payments.append(5), потому что она осталась от эксперимента. Вы с радостью это делаете на глазах у шефа, и хотите перезапустить ячейку с циклом.\n",
    "\n",
    "- Подумайте, какой результат ожидаете получить, а затем перезапустите ячейку с циклом for. Что получилось на выходе?\n",
    "\n",
    "`3333.83`"
   ]
  },
  {
   "cell_type": "markdown",
   "id": "7cf56673",
   "metadata": {},
   "source": [
    "## 3\n",
    "> Пишем воспроизводимый код\n",
    "\n",
    "Что можно сделать, чтобы после перезапуска последней ячейки всегда получился одинаковый результат?\n",
    "\n",
    "`Перенести credit_payments = [] в ячейку с циклом for`"
   ]
  },
  {
   "cell_type": "markdown",
   "id": "62b3fef3",
   "metadata": {},
   "source": [
    "## 4\n",
    "> Строим графики\n",
    "\n",
    "Откройте ноутбук по ссылке. Посмотрите на графики, потом попробуйте их воссоздать. Как добиться того, чтобы при \"Restart Kernel and run all\" получались схожие графики? \n",
    "\n",
    "`Вернуть импорт matplotlib.pyplot в первую ячейку, где уже используется отрисовка графиков`"
   ]
  },
  {
   "cell_type": "markdown",
   "id": "8163dd32",
   "metadata": {},
   "source": [
    "## 5\n",
    "\n",
    "`Применяем магические команды jupyter`\n",
    "\n",
    "Реализуйте скалярное произведение двух векторов размера 1e5 через цикл for в ноутбуке и замерьте скорость выполнения кода с использованием магической команды `%%timeit`. Используйте для быстрой генерации вектора такой трюк: `vec1 = list(range(int(1e5)))`.\n",
    "\n",
    "Рекомендуем скалярное произведение обернуть в функцию.\n",
    "\n",
    "Сколько секунд отрабатывала ваша функция?\\\n",
    "`от 5 до 20 ms`\\\n",
    "NB! Убедитесь, что замеряете только время выполнения скалярного произведения и ничего больше"
   ]
  },
  {
   "cell_type": "code",
   "execution_count": 2,
   "id": "8268ad88",
   "metadata": {
    "ExecuteTime": {
     "end_time": "2023-01-18T19:22:39.326390Z",
     "start_time": "2023-01-18T19:22:39.315386Z"
    }
   },
   "outputs": [
    {
     "name": "stdout",
     "output_type": "stream",
     "text": [
      "CPU times: user 4.21 ms, sys: 88 µs, total: 4.3 ms\n",
      "Wall time: 4.3 ms\n"
     ]
    }
   ],
   "source": [
    "%%time\n",
    "# генерируем вектора\n",
    "\n",
    "vec1 = list(range(int(1e5)))\n",
    "vec2 = list(range(int(1e5)))"
   ]
  },
  {
   "cell_type": "code",
   "execution_count": 3,
   "id": "58c20963",
   "metadata": {
    "ExecuteTime": {
     "end_time": "2023-01-18T19:22:43.531739Z",
     "start_time": "2023-01-18T19:22:43.527301Z"
    }
   },
   "outputs": [],
   "source": [
    "# функция для подсчета суммы умножения векторов\n",
    "def vector_sum(vec1, vec2):\n",
    "    sum_vector = 0\n",
    "    for i in range(int(1e5)):\n",
    "        sum_vector += vec1[i] * vec2[i]\n",
    "    return sum_vector"
   ]
  },
  {
   "cell_type": "code",
   "execution_count": 12,
   "id": "8b496a0e",
   "metadata": {
    "ExecuteTime": {
     "end_time": "2023-01-18T19:27:28.384273Z",
     "start_time": "2023-01-18T19:27:22.943801Z"
    }
   },
   "outputs": [
    {
     "name": "stdout",
     "output_type": "stream",
     "text": [
      "6.64 ms ± 190 µs per loop (mean ± std. dev. of 7 runs, 100 loops each)\n"
     ]
    }
   ],
   "source": [
    "%%timeit\n",
    "# вызываем магическую функцию в отдельной ячейки для точности результата\n",
    "sum_vector = vector_sum(vec1, vec2)"
   ]
  },
  {
   "cell_type": "markdown",
   "id": "ff613dd1",
   "metadata": {},
   "source": [
    "## 6\n",
    "\n",
    "> Результат \"магического\" умножения\n",
    "\n",
    "Какой порядок (т.е. число после e+...) имеет результат скалярного произведения двух векторов из предыдущего степа?\n",
    "\n",
    "Hint: для выполнения этого задания почитайте про формат scientific notation в питоне."
   ]
  },
  {
   "cell_type": "code",
   "execution_count": 13,
   "id": "74ba43f2",
   "metadata": {
    "ExecuteTime": {
     "end_time": "2023-01-18T19:28:08.412467Z",
     "start_time": "2023-01-18T19:28:08.403408Z"
    }
   },
   "outputs": [
    {
     "name": "stdout",
     "output_type": "stream",
     "text": [
      "333328333350000\n"
     ]
    },
    {
     "data": {
      "text/plain": [
       "'3.33e+14'"
      ]
     },
     "execution_count": 13,
     "metadata": {},
     "output_type": "execute_result"
    }
   ],
   "source": [
    "print(f'{sum_vector}')\n",
    "\"{:.2e}\".format(sum_vector)"
   ]
  },
  {
   "cell_type": "markdown",
   "id": "99ce19e5",
   "metadata": {
    "ExecuteTime": {
     "end_time": "2023-01-18T19:24:09.123304Z",
     "start_time": "2023-01-18T19:24:09.115786Z"
    }
   },
   "source": [
    "## 7\n",
    "\n",
    "`Замеряем время работы функций в Numpy`\n",
    "\n",
    "Теперь подключите библиотеку numpy, оберните списки, созданные на степе 5, в `np.array()`, затем воспользуйтесь встроенной функцией np.dot() для их скалярного произведения. Замерьте время выполнения кода через `%%timeit`. Какое оно стало?\\\n",
    "`57.8 µs`\n",
    "\n",
    "NB! Убедитесь, что замеряете только время выполнения скалярного произведения и ничего больше"
   ]
  },
  {
   "cell_type": "code",
   "execution_count": 20,
   "id": "b8885b76",
   "metadata": {
    "ExecuteTime": {
     "end_time": "2023-01-18T19:36:40.887083Z",
     "start_time": "2023-01-18T19:36:40.860464Z"
    },
    "scrolled": true
   },
   "outputs": [
    {
     "name": "stdout",
     "output_type": "stream",
     "text": [
      "CPU times: user 12.7 ms, sys: 3.83 ms, total: 16.5 ms\n",
      "Wall time: 18.7 ms\n"
     ]
    }
   ],
   "source": [
    "%%time\n",
    "import numpy as np\n",
    "\n",
    "vec1 = np.array(list(range(int(1e5))))\n",
    "vec2 = np.array(list(range(int(1e5))))"
   ]
  },
  {
   "cell_type": "code",
   "execution_count": 21,
   "id": "6428927c",
   "metadata": {
    "ExecuteTime": {
     "end_time": "2023-01-18T19:36:46.917654Z",
     "start_time": "2023-01-18T19:36:46.911047Z"
    }
   },
   "outputs": [],
   "source": [
    "def vector_sum_2(vec1, vec2):\n",
    "    return np.dot(vec1, vec2)"
   ]
  },
  {
   "cell_type": "code",
   "execution_count": null,
   "id": "eafd09fe",
   "metadata": {
    "ExecuteTime": {
     "end_time": "2023-01-18T19:37:20.110313Z",
     "start_time": "2023-01-18T19:37:15.410324Z"
    }
   },
   "outputs": [],
   "source": [
    "%%timeit\n",
    "vector_sum_2(vec1, vec2)"
   ]
  },
  {
   "cell_type": "markdown",
   "id": "11009c6c",
   "metadata": {},
   "source": [
    "## 8\n",
    "\n",
    "`> Фиксим баги в коде коллеги [2]`\n",
    "\n",
    "Ваш коллега тоже проходит курс StartML. Он поделился своим ноутбуком с реализацией алгоритма Евклида и попросил проверить, как она работает.\n",
    "\n",
    "Скачайте ноутбук по ссылке. Запустите на нем алгоритм Евклида на числах 121, 11 и следующую после него ячейку (распечатка сообщения об успехе). Переходите к описанию ниже, как только запустите ячейку.\n",
    "\n",
    "Если код выполняется очень долго, вспомните, что рассказывали в лекции по поводу ядра и операций с ним (restart, interrupt).\n",
    "\n",
    "В случае если вам кажется, что в коде коллеги что-то не то, попробуйте исправить это. Если имела место ошибка, в чем она заключалась?"
   ]
  }
 ],
 "metadata": {
  "kernelspec": {
   "display_name": "Python 3 (ipykernel)",
   "language": "python",
   "name": "python3"
  },
  "language_info": {
   "codemirror_mode": {
    "name": "ipython",
    "version": 3
   },
   "file_extension": ".py",
   "mimetype": "text/x-python",
   "name": "python",
   "nbconvert_exporter": "python",
   "pygments_lexer": "ipython3",
   "version": "3.10.6"
  },
  "varInspector": {
   "cols": {
    "lenName": 16,
    "lenType": 16,
    "lenVar": 40
   },
   "kernels_config": {
    "python": {
     "delete_cmd_postfix": "",
     "delete_cmd_prefix": "del ",
     "library": "var_list.py",
     "varRefreshCmd": "print(var_dic_list())"
    },
    "r": {
     "delete_cmd_postfix": ") ",
     "delete_cmd_prefix": "rm(",
     "library": "var_list.r",
     "varRefreshCmd": "cat(var_dic_list()) "
    }
   },
   "types_to_exclude": [
    "module",
    "function",
    "builtin_function_or_method",
    "instance",
    "_Feature"
   ],
   "window_display": false
  }
 },
 "nbformat": 4,
 "nbformat_minor": 5
}
