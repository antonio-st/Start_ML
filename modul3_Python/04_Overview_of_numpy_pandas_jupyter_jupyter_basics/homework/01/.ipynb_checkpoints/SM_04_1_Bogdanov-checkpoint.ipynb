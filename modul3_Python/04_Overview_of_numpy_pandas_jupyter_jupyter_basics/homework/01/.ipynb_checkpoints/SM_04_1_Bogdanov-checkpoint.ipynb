{
 "cells": [
  {
   "cell_type": "markdown",
   "id": "7a5bd77d",
   "metadata": {},
   "source": [
    "## > 01. В этом уроке\n",
    "\n",
    "**Все задания** этом уроке необходимо выполнять в том порядке, в котором они идут в LMS.\n",
    "\n",
    "В четвертом уроке задания будут разбиты на 4 блока:\n",
    "\n",
    "`1. Markdown.` Сначала мы научимся работать с Markdown, используя jupyter notebook.\n",
    "\n",
    "`2. Ошибки в коде.` Здесь мы поработаем с чужим кодом, отредактируем и запустим его.\n",
    "\n",
    "`3. Numpy.` Мы сравненим время работы цикла for и функции из библиотеки numpy для вычислении скалярного произведения векторов.\n",
    "\n",
    "`4. Непонятная [*].` *В заключение*, мы столкнемся с зависающим кодом и применим наши знания о ядрах jupyter для решения проблемы."
   ]
  },
  {
   "cell_type": "markdown",
   "id": "fa9a8008",
   "metadata": {},
   "source": [
    "### > Создаем ноутбук в jupyter и учимся работать с Markdown\n",
    "\n",
    "* Установите jupyter у себя на компьютере. Откройте его, затем создайте ноутбук.\n",
    "\n",
    "* В ноутбуке создайте несколько ячеек: с markdown-разметкой и с кодом. В markdown-ячейке воспользуйтесь синтаксисом для **полужирного текста**, *курсива* и `monospace`."
   ]
  },
  {
   "cell_type": "code",
   "execution_count": 2,
   "id": "e1a68bfa",
   "metadata": {
    "ExecuteTime": {
     "end_time": "2023-01-18T18:08:10.222779Z",
     "start_time": "2023-01-18T18:08:07.099312Z"
    }
   },
   "outputs": [
    {
     "name": "stdout",
     "output_type": "stream",
     "text": [
      "Ваше имя? > Anton\n",
      "Привет, Anton !\n"
     ]
    }
   ],
   "source": [
    "welcome_text = input('Ваше имя? > ')\n",
    "print(f'Привет, {welcome_text} !')"
   ]
  }
 ],
 "metadata": {
  "kernelspec": {
   "display_name": "Python 3 (ipykernel)",
   "language": "python",
   "name": "python3"
  },
  "language_info": {
   "codemirror_mode": {
    "name": "ipython",
    "version": 3
   },
   "file_extension": ".py",
   "mimetype": "text/x-python",
   "name": "python",
   "nbconvert_exporter": "python",
   "pygments_lexer": "ipython3",
   "version": "3.10.6"
  },
  "varInspector": {
   "cols": {
    "lenName": 16,
    "lenType": 16,
    "lenVar": 40
   },
   "kernels_config": {
    "python": {
     "delete_cmd_postfix": "",
     "delete_cmd_prefix": "del ",
     "library": "var_list.py",
     "varRefreshCmd": "print(var_dic_list())"
    },
    "r": {
     "delete_cmd_postfix": ") ",
     "delete_cmd_prefix": "rm(",
     "library": "var_list.r",
     "varRefreshCmd": "cat(var_dic_list()) "
    }
   },
   "types_to_exclude": [
    "module",
    "function",
    "builtin_function_or_method",
    "instance",
    "_Feature"
   ],
   "window_display": false
  }
 },
 "nbformat": 4,
 "nbformat_minor": 5
}
