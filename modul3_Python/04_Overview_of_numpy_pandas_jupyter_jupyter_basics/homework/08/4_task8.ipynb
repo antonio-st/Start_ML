{
 "cells": [
  {
   "cell_type": "code",
   "execution_count": 1,
   "id": "1cca2d70",
   "metadata": {
    "ExecuteTime": {
     "end_time": "2023-01-18T19:43:07.182175Z",
     "start_time": "2023-01-18T19:43:07.179051Z"
    }
   },
   "outputs": [],
   "source": [
    "def gcd(a, b):\n",
    "    if a < b:\n",
    "        b, a = a, b\n",
    "    while b != 0:\n",
    "        a, b = a % b, b\n",
    "    print(a)"
   ]
  },
  {
   "cell_type": "code",
   "execution_count": null,
   "id": "7c40cabd",
   "metadata": {
    "ExecuteTime": {
     "end_time": "2023-01-18T19:43:34.858972Z",
     "start_time": "2023-01-18T19:43:34.858959Z"
    }
   },
   "outputs": [],
   "source": [
    "gcd(5, 10)"
   ]
  },
  {
   "cell_type": "code",
   "execution_count": null,
   "id": "049b7f60",
   "metadata": {
    "ExecuteTime": {
     "end_time": "2023-01-18T19:43:34.863074Z",
     "start_time": "2023-01-18T19:43:34.863067Z"
    }
   },
   "outputs": [],
   "source": [
    "print('success')"
   ]
  },
  {
   "cell_type": "code",
   "execution_count": 6,
   "id": "6ca808f7",
   "metadata": {
    "ExecuteTime": {
     "end_time": "2023-01-18T19:52:36.682671Z",
     "start_time": "2023-01-18T19:52:36.680123Z"
    }
   },
   "outputs": [],
   "source": [
    "def gcd_rem_division(num1, num2):\n",
    "    while num1 != 0 and num2 != 0:\n",
    "        if num1 >= num2:\n",
    "            num1 %= num2\n",
    "        else:\n",
    "            num2 %= num1\n",
    "        print(f'{num1} | {num2}')\n",
    "    return num1 or num2"
   ]
  },
  {
   "cell_type": "code",
   "execution_count": 9,
   "id": "028ccf7b",
   "metadata": {
    "ExecuteTime": {
     "end_time": "2023-01-18T19:53:11.857803Z",
     "start_time": "2023-01-18T19:53:11.854185Z"
    }
   },
   "outputs": [
    {
     "name": "stdout",
     "output_type": "stream",
     "text": [
      "63 | 105\n",
      "63 | 42\n",
      "21 | 42\n",
      "21 | 0\n"
     ]
    },
    {
     "data": {
      "text/plain": [
       "21"
      ]
     },
     "execution_count": 9,
     "metadata": {},
     "output_type": "execute_result"
    }
   ],
   "source": [
    "gcd_rem_division(168, 105)"
   ]
  }
 ],
 "metadata": {
  "kernelspec": {
   "display_name": "Python 3 (ipykernel)",
   "language": "python",
   "name": "python3"
  },
  "language_info": {
   "codemirror_mode": {
    "name": "ipython",
    "version": 3
   },
   "file_extension": ".py",
   "mimetype": "text/x-python",
   "name": "python",
   "nbconvert_exporter": "python",
   "pygments_lexer": "ipython3",
   "version": "3.10.6"
  },
  "toc": {
   "base_numbering": 1,
   "nav_menu": {},
   "number_sections": true,
   "sideBar": true,
   "skip_h1_title": false,
   "title_cell": "Table of Contents",
   "title_sidebar": "Contents",
   "toc_cell": false,
   "toc_position": {},
   "toc_section_display": true,
   "toc_window_display": false
  },
  "varInspector": {
   "cols": {
    "lenName": 16,
    "lenType": 16,
    "lenVar": 40
   },
   "kernels_config": {
    "python": {
     "delete_cmd_postfix": "",
     "delete_cmd_prefix": "del ",
     "library": "var_list.py",
     "varRefreshCmd": "print(var_dic_list())"
    },
    "r": {
     "delete_cmd_postfix": ") ",
     "delete_cmd_prefix": "rm(",
     "library": "var_list.r",
     "varRefreshCmd": "cat(var_dic_list()) "
    }
   },
   "types_to_exclude": [
    "module",
    "function",
    "builtin_function_or_method",
    "instance",
    "_Feature"
   ],
   "window_display": false
  }
 },
 "nbformat": 4,
 "nbformat_minor": 5
}
