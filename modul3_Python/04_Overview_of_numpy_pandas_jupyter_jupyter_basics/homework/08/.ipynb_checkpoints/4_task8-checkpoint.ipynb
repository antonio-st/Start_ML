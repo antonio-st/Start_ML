{
 "cells": [
  {
   "cell_type": "code",
   "execution_count": 1,
   "id": "1cca2d70",
   "metadata": {
    "ExecuteTime": {
     "end_time": "2023-01-18T19:43:07.182175Z",
     "start_time": "2023-01-18T19:43:07.179051Z"
    }
   },
   "outputs": [],
   "source": [
    "def gcd(a, b):\n",
    "    if a < b:\n",
    "        b, a = a, b\n",
    "    while b != 0:\n",
    "        a, b = a % b, b\n",
    "    print(a)"
   ]
  },
  {
   "cell_type": "code",
   "execution_count": null,
   "id": "7c40cabd",
   "metadata": {
    "ExecuteTime": {
     "end_time": "2023-01-18T19:43:34.858972Z",
     "start_time": "2023-01-18T19:43:34.858959Z"
    }
   },
   "outputs": [],
   "source": [
    "gcd(5, 10)"
   ]
  },
  {
   "cell_type": "code",
   "execution_count": null,
   "id": "049b7f60",
   "metadata": {
    "ExecuteTime": {
     "end_time": "2023-01-18T19:43:34.863074Z",
     "start_time": "2023-01-18T19:43:34.863067Z"
    }
   },
   "outputs": [],
   "source": [
    "print('success')"
   ]
  }
 ],
 "metadata": {
  "kernelspec": {
   "display_name": "Python 3 (ipykernel)",
   "language": "python",
   "name": "python3"
  },
  "language_info": {
   "codemirror_mode": {
    "name": "ipython",
    "version": 3
   },
   "file_extension": ".py",
   "mimetype": "text/x-python",
   "name": "python",
   "nbconvert_exporter": "python",
   "pygments_lexer": "ipython3",
   "version": "3.10.6"
  },
  "toc": {
   "base_numbering": 1,
   "nav_menu": {},
   "number_sections": true,
   "sideBar": true,
   "skip_h1_title": false,
   "title_cell": "Table of Contents",
   "title_sidebar": "Contents",
   "toc_cell": false,
   "toc_position": {},
   "toc_section_display": true,
   "toc_window_display": false
  },
  "varInspector": {
   "cols": {
    "lenName": 16,
    "lenType": 16,
    "lenVar": 40
   },
   "kernels_config": {
    "python": {
     "delete_cmd_postfix": "",
     "delete_cmd_prefix": "del ",
     "library": "var_list.py",
     "varRefreshCmd": "print(var_dic_list())"
    },
    "r": {
     "delete_cmd_postfix": ") ",
     "delete_cmd_prefix": "rm(",
     "library": "var_list.r",
     "varRefreshCmd": "cat(var_dic_list()) "
    }
   },
   "types_to_exclude": [
    "module",
    "function",
    "builtin_function_or_method",
    "instance",
    "_Feature"
   ],
   "window_display": false
  }
 },
 "nbformat": 4,
 "nbformat_minor": 5
}
