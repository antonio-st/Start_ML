{
 "cells": [
  {
   "cell_type": "markdown",
   "id": "6da929b7",
   "metadata": {},
   "source": [
    "> Как подключиться к базе данных\n",
    "> Как подключиться к PostgreSQL через psycopg2\n",
    "\n",
    "1. Импортируем библиотеку:\n",
    "\n",
    "```bash\n",
    "pip install psycopg2-binary если библиотека не установлена\n",
    "import psycopg2\n",
    "```\n",
    "2. Далее используем данные для входа\n",
    "```python\n",
    "database=\"startml\",\n",
    "user=\"robot-startml-ro\",\n",
    "password=\"pheiph0hahj1Vaif\",\n",
    "host=\"postgres.lab.karpov.courses\",\n",
    "port=6432\n",
    "```\n",
    " В конце работы необходимо закрывать курсор и соединение с БД:\n",
    "```python\n",
    "cursor.close() \n",
    "connection.close()\n",
    "```\n",
    "\n",
    "> Как подключиться к PostgreSQL через pandas\n",
    "\n",
    "Для загрузки таблицы используется функция pd.read_sql.\n",
    "```python\n",
    "import pandas as pd\n",
    "\n",
    "df = pd.read_sql(\n",
    "    \"\"\"SELECT * FROM \"feed_action\" LIMIT 10 \"\"\",\n",
    "    con=\"postgresql://robot-startml-ro:pheiph0hahj1Vaif@\"\n",
    "        \"postgres.lab.karpov.courses:6432/startml\"\n",
    ")\n",
    "\n",
    "df.head()\n",
    "```\n",
    "\n",
    "Обратите внимание, что сам запрос выделяется тройными кавычками (\"\"\") — этот знак в Python для многострочного ввода. Таким же образом выделяются многострочные комментарии в коде.\n",
    "\n"
   ]
  },
  {
   "cell_type": "markdown",
   "id": "b5eb8113",
   "metadata": {},
   "source": [
    "В следующих заданиях мы будем работать с базой данных, в которой имеется три таблицы:\n",
    "\n",
    "`1. Таблица с данными о пользователях (user):`\n",
    "\n",
    "id - уникальный идентификатор пользователя (primary key)\n",
    "\n",
    "gender - пол\n",
    "\n",
    "age - возраст\n",
    "\n",
    "country - страна\n",
    "\n",
    "city - город\n",
    "\n",
    "exp_group - экспериментальная группа\n",
    "\n",
    "os - операционная система\n",
    "\n",
    "source - источник трафика\n",
    "\n",
    "`2. Таблица с данными о постах (post):`\n",
    "\n",
    "id - уникальный идентификатор поста (primary key)\n",
    "\n",
    "text - текст поста\n",
    "\n",
    "topic - тема поста\n",
    "\n",
    "`3. Таблица с данными о действиях пользователей (feed_action):`\n",
    "\n",
    "user_id (——>) user (id)- идентификатор пользователя     \n",
    "\n",
    "post_id (——>) post (id)- идентификатор поста     \n",
    "\n",
    "action - совершенное в сети действие     \n",
    "\n",
    "time- время действия"
   ]
  },
  {
   "cell_type": "code",
   "execution_count": 8,
   "id": "6fadb1c7",
   "metadata": {
    "ExecuteTime": {
     "end_time": "2023-01-23T17:08:27.653671Z",
     "start_time": "2023-01-23T17:08:26.526022Z"
    }
   },
   "outputs": [
    {
     "data": {
      "text/html": [
       "<div>\n",
       "<style scoped>\n",
       "    .dataframe tbody tr th:only-of-type {\n",
       "        vertical-align: middle;\n",
       "    }\n",
       "\n",
       "    .dataframe tbody tr th {\n",
       "        vertical-align: top;\n",
       "    }\n",
       "\n",
       "    .dataframe thead th {\n",
       "        text-align: right;\n",
       "    }\n",
       "</style>\n",
       "<table border=\"1\" class=\"dataframe\">\n",
       "  <thead>\n",
       "    <tr style=\"text-align: right;\">\n",
       "      <th></th>\n",
       "      <th>id</th>\n",
       "      <th>gender</th>\n",
       "      <th>age</th>\n",
       "      <th>country</th>\n",
       "      <th>city</th>\n",
       "      <th>exp_group</th>\n",
       "      <th>os</th>\n",
       "      <th>source</th>\n",
       "    </tr>\n",
       "  </thead>\n",
       "  <tbody>\n",
       "    <tr>\n",
       "      <th>0</th>\n",
       "      <td>200</td>\n",
       "      <td>1</td>\n",
       "      <td>34</td>\n",
       "      <td>Russia</td>\n",
       "      <td>Degtyarsk</td>\n",
       "      <td>3</td>\n",
       "      <td>Android</td>\n",
       "      <td>ads</td>\n",
       "    </tr>\n",
       "    <tr>\n",
       "      <th>1</th>\n",
       "      <td>201</td>\n",
       "      <td>0</td>\n",
       "      <td>37</td>\n",
       "      <td>Russia</td>\n",
       "      <td>Abakan</td>\n",
       "      <td>0</td>\n",
       "      <td>Android</td>\n",
       "      <td>ads</td>\n",
       "    </tr>\n",
       "    <tr>\n",
       "      <th>2</th>\n",
       "      <td>202</td>\n",
       "      <td>1</td>\n",
       "      <td>17</td>\n",
       "      <td>Russia</td>\n",
       "      <td>Smolensk</td>\n",
       "      <td>4</td>\n",
       "      <td>Android</td>\n",
       "      <td>ads</td>\n",
       "    </tr>\n",
       "    <tr>\n",
       "      <th>3</th>\n",
       "      <td>203</td>\n",
       "      <td>0</td>\n",
       "      <td>18</td>\n",
       "      <td>Russia</td>\n",
       "      <td>Moscow</td>\n",
       "      <td>1</td>\n",
       "      <td>iOS</td>\n",
       "      <td>ads</td>\n",
       "    </tr>\n",
       "    <tr>\n",
       "      <th>4</th>\n",
       "      <td>204</td>\n",
       "      <td>0</td>\n",
       "      <td>36</td>\n",
       "      <td>Russia</td>\n",
       "      <td>Anzhero-Sudzhensk</td>\n",
       "      <td>3</td>\n",
       "      <td>Android</td>\n",
       "      <td>ads</td>\n",
       "    </tr>\n",
       "  </tbody>\n",
       "</table>\n",
       "</div>"
      ],
      "text/plain": [
       "    id  gender  age country               city  exp_group       os source\n",
       "0  200       1   34  Russia          Degtyarsk          3  Android    ads\n",
       "1  201       0   37  Russia             Abakan          0  Android    ads\n",
       "2  202       1   17  Russia           Smolensk          4  Android    ads\n",
       "3  203       0   18  Russia             Moscow          1      iOS    ads\n",
       "4  204       0   36  Russia  Anzhero-Sudzhensk          3  Android    ads"
      ]
     },
     "execution_count": 8,
     "metadata": {},
     "output_type": "execute_result"
    }
   ],
   "source": [
    "# устанавливаем библиотеки\n",
    "# !pip install sqlalchemy\n",
    "# !pip install psycopg2-binary\n",
    "\n",
    "import pandas as pd\n",
    "\n",
    "df = pd.read_sql(\n",
    "    \"\"\"SELECT * FROM \"user\" LIMIT 10 \"\"\",\n",
    "    con=\"postgresql://robot-startml-ro:pheiph0hahj1Vaif@\"\n",
    "        \"postgres.lab.karpov.courses:6432/startml\"\n",
    ")\n",
    "# проверяем связь, выводим ответ в df\n",
    "df.head()"
   ]
  },
  {
   "cell_type": "markdown",
   "id": "3b8fdb4c",
   "metadata": {},
   "source": [
    "## 1\n",
    "> SELECT (1/2)\n",
    "\n",
    "Сделайте запрос на все колонки из таблицы user. Для этого может понадобиться взять user в кавычки, вот так: \"user\" - чтобы PostgreSQL не спутал ее со своей встроенной таблицей user, где он ведет учет всех пользователей.\n",
    "\n",
    "Напишите через пробел, с какого id начинаются записи и какой город у самого первого ID (на английском)"
   ]
  },
  {
   "cell_type": "code",
   "execution_count": 9,
   "id": "7c52fd7b",
   "metadata": {
    "ExecuteTime": {
     "end_time": "2023-01-23T17:17:17.797316Z",
     "start_time": "2023-01-23T17:17:15.710894Z"
    }
   },
   "outputs": [
    {
     "data": {
      "text/html": [
       "<div>\n",
       "<style scoped>\n",
       "    .dataframe tbody tr th:only-of-type {\n",
       "        vertical-align: middle;\n",
       "    }\n",
       "\n",
       "    .dataframe tbody tr th {\n",
       "        vertical-align: top;\n",
       "    }\n",
       "\n",
       "    .dataframe thead th {\n",
       "        text-align: right;\n",
       "    }\n",
       "</style>\n",
       "<table border=\"1\" class=\"dataframe\">\n",
       "  <thead>\n",
       "    <tr style=\"text-align: right;\">\n",
       "      <th></th>\n",
       "      <th>id</th>\n",
       "      <th>city</th>\n",
       "    </tr>\n",
       "  </thead>\n",
       "  <tbody>\n",
       "    <tr>\n",
       "      <th>0</th>\n",
       "      <td>200</td>\n",
       "      <td>Degtyarsk</td>\n",
       "    </tr>\n",
       "  </tbody>\n",
       "</table>\n",
       "</div>"
      ],
      "text/plain": [
       "    id       city\n",
       "0  200  Degtyarsk"
      ]
     },
     "execution_count": 9,
     "metadata": {},
     "output_type": "execute_result"
    }
   ],
   "source": [
    "import pandas as pd\n",
    "\n",
    "df1 = pd.read_sql(\n",
    "    \"\"\"SELECT id, city FROM \"user\" LIMIT 1 \"\"\",\n",
    "    con=\"postgresql://robot-startml-ro:pheiph0hahj1Vaif@\"\n",
    "        \"postgres.lab.karpov.courses:6432/startml\"\n",
    ")\n",
    "\n",
    "df1.head()"
   ]
  },
  {
   "cell_type": "markdown",
   "id": "b5bd2118",
   "metadata": {},
   "source": [
    "## 2\n",
    "\n",
    "> SELECT (2/2)\n",
    "\n",
    "Отберите уникальные значения тем (topic) в таблице постов (post).\n",
    "\n",
    "Напишите через пробел количество записей и самое длинное название топика."
   ]
  },
  {
   "cell_type": "code",
   "execution_count": 39,
   "id": "6485483c",
   "metadata": {
    "ExecuteTime": {
     "end_time": "2023-01-23T18:55:21.348017Z",
     "start_time": "2023-01-23T18:55:20.230474Z"
    }
   },
   "outputs": [
    {
     "data": {
      "text/html": [
       "<div>\n",
       "<style scoped>\n",
       "    .dataframe tbody tr th:only-of-type {\n",
       "        vertical-align: middle;\n",
       "    }\n",
       "\n",
       "    .dataframe tbody tr th {\n",
       "        vertical-align: top;\n",
       "    }\n",
       "\n",
       "    .dataframe thead th {\n",
       "        text-align: right;\n",
       "    }\n",
       "</style>\n",
       "<table border=\"1\" class=\"dataframe\">\n",
       "  <thead>\n",
       "    <tr style=\"text-align: right;\">\n",
       "      <th></th>\n",
       "      <th>topic</th>\n",
       "    </tr>\n",
       "  </thead>\n",
       "  <tbody>\n",
       "    <tr>\n",
       "      <th>0</th>\n",
       "      <td>tech</td>\n",
       "    </tr>\n",
       "    <tr>\n",
       "      <th>1</th>\n",
       "      <td>covid</td>\n",
       "    </tr>\n",
       "    <tr>\n",
       "      <th>2</th>\n",
       "      <td>movie</td>\n",
       "    </tr>\n",
       "    <tr>\n",
       "      <th>3</th>\n",
       "      <td>entertainment</td>\n",
       "    </tr>\n",
       "    <tr>\n",
       "      <th>4</th>\n",
       "      <td>politics</td>\n",
       "    </tr>\n",
       "    <tr>\n",
       "      <th>5</th>\n",
       "      <td>sport</td>\n",
       "    </tr>\n",
       "    <tr>\n",
       "      <th>6</th>\n",
       "      <td>business</td>\n",
       "    </tr>\n",
       "  </tbody>\n",
       "</table>\n",
       "</div>"
      ],
      "text/plain": [
       "           topic\n",
       "0           tech\n",
       "1          covid\n",
       "2          movie\n",
       "3  entertainment\n",
       "4       politics\n",
       "5          sport\n",
       "6       business"
      ]
     },
     "execution_count": 39,
     "metadata": {},
     "output_type": "execute_result"
    }
   ],
   "source": [
    "\n",
    "df2 = pd.read_sql(\n",
    "    \"\"\"\n",
    "SELECT \n",
    "    DISTINCT(topic)\n",
    "    --COUNT(DISTINCT(topic))\n",
    "FROM post\n",
    "    \"\"\",\n",
    "    con=\"postgresql://robot-startml-ro:pheiph0hahj1Vaif@\"\n",
    "        \"postgres.lab.karpov.courses:6432/startml\"\n",
    ")\n",
    "\n",
    "df2.head(10)"
   ]
  },
  {
   "cell_type": "markdown",
   "id": "51c2f874",
   "metadata": {},
   "source": [
    "## 3\n",
    "> Фильтры (1/2)\n",
    "\n",
    "- Отберите пользователей старше 30 с устройством на iOS. \n",
    "- Каков ID и город записи с минимальным ID (он идет первым в таблице)? \n",
    "- Запишите значения через пробел."
   ]
  },
  {
   "cell_type": "code",
   "execution_count": 17,
   "id": "a68cfb68",
   "metadata": {
    "ExecuteTime": {
     "end_time": "2023-01-23T17:26:48.418479Z",
     "start_time": "2023-01-23T17:26:46.707557Z"
    }
   },
   "outputs": [
    {
     "data": {
      "text/html": [
       "<div>\n",
       "<style scoped>\n",
       "    .dataframe tbody tr th:only-of-type {\n",
       "        vertical-align: middle;\n",
       "    }\n",
       "\n",
       "    .dataframe tbody tr th {\n",
       "        vertical-align: top;\n",
       "    }\n",
       "\n",
       "    .dataframe thead th {\n",
       "        text-align: right;\n",
       "    }\n",
       "</style>\n",
       "<table border=\"1\" class=\"dataframe\">\n",
       "  <thead>\n",
       "    <tr style=\"text-align: right;\">\n",
       "      <th></th>\n",
       "      <th>id</th>\n",
       "      <th>city</th>\n",
       "    </tr>\n",
       "  </thead>\n",
       "  <tbody>\n",
       "    <tr>\n",
       "      <th>0</th>\n",
       "      <td>212</td>\n",
       "      <td>Podolsk</td>\n",
       "    </tr>\n",
       "  </tbody>\n",
       "</table>\n",
       "</div>"
      ],
      "text/plain": [
       "    id     city\n",
       "0  212  Podolsk"
      ]
     },
     "execution_count": 17,
     "metadata": {},
     "output_type": "execute_result"
    }
   ],
   "source": [
    "df3 = pd.read_sql(\n",
    "    \"\"\"\n",
    "SELECT \n",
    "    id, city\n",
    "FROM \"user\"\n",
    "    WHERE age > 30\n",
    "    AND os = 'iOS'\n",
    "LIMIT 1\n",
    "    \"\"\",\n",
    "    con=\"postgresql://robot-startml-ro:pheiph0hahj1Vaif@\"\n",
    "        \"postgres.lab.karpov.courses:6432/startml\"\n",
    ")\n",
    "\n",
    "df3.head(1)"
   ]
  },
  {
   "cell_type": "markdown",
   "id": "6af0a7c0",
   "metadata": {},
   "source": [
    "## 4\n",
    "\n",
    "> Фильтры (2/2)\n",
    "\n",
    "- Отберите пользователей, которые не из России \n",
    "- и при этом либо их экспериментальная группа не 0 и не 3 \n",
    "- или их город – Минск.\n",
    "\n",
    "- Напишите через пробел первые 4 ID в такой выдаче."
   ]
  },
  {
   "cell_type": "code",
   "execution_count": 29,
   "id": "16766339",
   "metadata": {
    "ExecuteTime": {
     "end_time": "2023-01-23T17:37:37.620570Z",
     "start_time": "2023-01-23T17:37:36.182784Z"
    }
   },
   "outputs": [
    {
     "data": {
      "text/plain": [
       "'[211  213  216  218]'"
      ]
     },
     "execution_count": 29,
     "metadata": {},
     "output_type": "execute_result"
    }
   ],
   "source": [
    "df4 = pd.read_sql(\n",
    "    \"\"\"\n",
    "SELECT \n",
    "    id\n",
    "FROM \"user\"\n",
    "WHERE country != 'Russia'\n",
    "    AND exp_group not in ('0', '3')\n",
    "    OR city = 'Minsk'\n",
    "LIMIT 4\n",
    "    \"\"\",\n",
    "    con=\"postgresql://robot-startml-ro:pheiph0hahj1Vaif@\"\n",
    "        \"postgres.lab.karpov.courses:6432/startml\"\n",
    ")\n",
    "\n",
    "res4 = df4.id.to_list()\n",
    "str(res4).replace(',',' ')"
   ]
  },
  {
   "cell_type": "markdown",
   "id": "010c067b",
   "metadata": {},
   "source": [
    "## 5\n",
    "\n",
    "> Группировка (1/6)\n",
    "\n",
    "- Подсчитайте средний возраст пользователей в разрезе страны. \n",
    "- В ответ напишите средний возраст пользователей из Кипра. \n",
    "- Ответ округлите до двух знаков после точки."
   ]
  },
  {
   "cell_type": "code",
   "execution_count": 32,
   "id": "edefa75b",
   "metadata": {
    "ExecuteTime": {
     "end_time": "2023-01-23T18:26:50.592598Z",
     "start_time": "2023-01-23T18:26:48.809821Z"
    }
   },
   "outputs": [
    {
     "data": {
      "text/html": [
       "<div>\n",
       "<style scoped>\n",
       "    .dataframe tbody tr th:only-of-type {\n",
       "        vertical-align: middle;\n",
       "    }\n",
       "\n",
       "    .dataframe tbody tr th {\n",
       "        vertical-align: top;\n",
       "    }\n",
       "\n",
       "    .dataframe thead th {\n",
       "        text-align: right;\n",
       "    }\n",
       "</style>\n",
       "<table border=\"1\" class=\"dataframe\">\n",
       "  <thead>\n",
       "    <tr style=\"text-align: right;\">\n",
       "      <th></th>\n",
       "      <th>mean_age</th>\n",
       "      <th>country</th>\n",
       "    </tr>\n",
       "  </thead>\n",
       "  <tbody>\n",
       "    <tr>\n",
       "      <th>0</th>\n",
       "      <td>28.07</td>\n",
       "      <td>Cyprus</td>\n",
       "    </tr>\n",
       "  </tbody>\n",
       "</table>\n",
       "</div>"
      ],
      "text/plain": [
       "   mean_age country\n",
       "0     28.07  Cyprus"
      ]
     },
     "execution_count": 32,
     "metadata": {},
     "output_type": "execute_result"
    }
   ],
   "source": [
    "df5 = pd.read_sql(\n",
    "    \"\"\"\n",
    "SELECT \n",
    "    ROUND(AVG(age),2) as \"mean_age\", \n",
    "    country\n",
    "FROM \"user\"\n",
    "WHERE country = 'Cyprus'\n",
    "GROUP BY country\n",
    "    \"\"\",\n",
    "    con=\"postgresql://robot-startml-ro:pheiph0hahj1Vaif@\"\n",
    "        \"postgres.lab.karpov.courses:6432/startml\"\n",
    ")\n",
    "\n",
    "df5.head()"
   ]
  },
  {
   "cell_type": "markdown",
   "id": "65f2b4c9",
   "metadata": {},
   "source": [
    "## 6\n",
    "\n",
    "> Группировка (2/6)\n",
    "\n",
    "- Сгруппируйте пользователей сначала по экспериментальной группе, \n",
    "- а затем по операционной системе. \n",
    "- В каждой группе подсчитайте количество пользователей, максимальный и минимальный возраст.\n",
    "\n",
    "- Сохраните результаты в файл CSV колонками exp_group, os, total_users, max_age, min_age (обратите внимание на название последних трех колонок!), используя запятую в качестве сепаратора, и отправьте файл в LMS.\n",
    "\n",
    "Для сохранения в CSV в Redash внизу есть кнопка \"три точки\", где выпадает пункт \"Download as CSV file\"."
   ]
  },
  {
   "cell_type": "code",
   "execution_count": 35,
   "id": "a5124284",
   "metadata": {
    "ExecuteTime": {
     "end_time": "2023-01-23T18:46:45.879988Z",
     "start_time": "2023-01-23T18:46:43.861364Z"
    }
   },
   "outputs": [
    {
     "data": {
      "text/html": [
       "<div>\n",
       "<style scoped>\n",
       "    .dataframe tbody tr th:only-of-type {\n",
       "        vertical-align: middle;\n",
       "    }\n",
       "\n",
       "    .dataframe tbody tr th {\n",
       "        vertical-align: top;\n",
       "    }\n",
       "\n",
       "    .dataframe thead th {\n",
       "        text-align: right;\n",
       "    }\n",
       "</style>\n",
       "<table border=\"1\" class=\"dataframe\">\n",
       "  <thead>\n",
       "    <tr style=\"text-align: right;\">\n",
       "      <th></th>\n",
       "      <th>exp_group</th>\n",
       "      <th>os</th>\n",
       "      <th>total_users</th>\n",
       "      <th>max_age</th>\n",
       "      <th>min_age</th>\n",
       "    </tr>\n",
       "  </thead>\n",
       "  <tbody>\n",
       "    <tr>\n",
       "      <th>0</th>\n",
       "      <td>0</td>\n",
       "      <td>Android</td>\n",
       "      <td>21234</td>\n",
       "      <td>95</td>\n",
       "      <td>14</td>\n",
       "    </tr>\n",
       "    <tr>\n",
       "      <th>1</th>\n",
       "      <td>0</td>\n",
       "      <td>iOS</td>\n",
       "      <td>11489</td>\n",
       "      <td>79</td>\n",
       "      <td>14</td>\n",
       "    </tr>\n",
       "    <tr>\n",
       "      <th>2</th>\n",
       "      <td>1</td>\n",
       "      <td>Android</td>\n",
       "      <td>21232</td>\n",
       "      <td>92</td>\n",
       "      <td>14</td>\n",
       "    </tr>\n",
       "    <tr>\n",
       "      <th>3</th>\n",
       "      <td>1</td>\n",
       "      <td>iOS</td>\n",
       "      <td>11406</td>\n",
       "      <td>87</td>\n",
       "      <td>14</td>\n",
       "    </tr>\n",
       "    <tr>\n",
       "      <th>4</th>\n",
       "      <td>2</td>\n",
       "      <td>Android</td>\n",
       "      <td>21102</td>\n",
       "      <td>78</td>\n",
       "      <td>14</td>\n",
       "    </tr>\n",
       "    <tr>\n",
       "      <th>5</th>\n",
       "      <td>2</td>\n",
       "      <td>iOS</td>\n",
       "      <td>11512</td>\n",
       "      <td>74</td>\n",
       "      <td>14</td>\n",
       "    </tr>\n",
       "    <tr>\n",
       "      <th>6</th>\n",
       "      <td>3</td>\n",
       "      <td>Android</td>\n",
       "      <td>21319</td>\n",
       "      <td>84</td>\n",
       "      <td>14</td>\n",
       "    </tr>\n",
       "    <tr>\n",
       "      <th>7</th>\n",
       "      <td>3</td>\n",
       "      <td>iOS</td>\n",
       "      <td>11449</td>\n",
       "      <td>85</td>\n",
       "      <td>14</td>\n",
       "    </tr>\n",
       "    <tr>\n",
       "      <th>8</th>\n",
       "      <td>4</td>\n",
       "      <td>Android</td>\n",
       "      <td>21085</td>\n",
       "      <td>84</td>\n",
       "      <td>14</td>\n",
       "    </tr>\n",
       "    <tr>\n",
       "      <th>9</th>\n",
       "      <td>4</td>\n",
       "      <td>iOS</td>\n",
       "      <td>11377</td>\n",
       "      <td>78</td>\n",
       "      <td>14</td>\n",
       "    </tr>\n",
       "  </tbody>\n",
       "</table>\n",
       "</div>"
      ],
      "text/plain": [
       "   exp_group       os  total_users  max_age  min_age\n",
       "0          0  Android        21234       95       14\n",
       "1          0      iOS        11489       79       14\n",
       "2          1  Android        21232       92       14\n",
       "3          1      iOS        11406       87       14\n",
       "4          2  Android        21102       78       14\n",
       "5          2      iOS        11512       74       14\n",
       "6          3  Android        21319       84       14\n",
       "7          3      iOS        11449       85       14\n",
       "8          4  Android        21085       84       14\n",
       "9          4      iOS        11377       78       14"
      ]
     },
     "execution_count": 35,
     "metadata": {},
     "output_type": "execute_result"
    }
   ],
   "source": [
    "df6 = pd.read_sql(\n",
    "    \"\"\"\n",
    "SELECT \n",
    "    exp_group,\n",
    "    os,\n",
    "    COUNT(id) as \"total_users\", \n",
    "    MAX(age) as \"max_age\",\n",
    "    MIN(age) as \"min_age\"\n",
    "FROM \"user\"\n",
    "GROUP BY exp_group, os\n",
    "    \"\"\",\n",
    "    con=\"postgresql://robot-startml-ro:pheiph0hahj1Vaif@\"\n",
    "        \"postgres.lab.karpov.courses:6432/startml\"\n",
    ")\n",
    "\n",
    "df6.to_csv('06_DB_task6_pd.csv', index=False)\n",
    "df6[:50]"
   ]
  },
  {
   "cell_type": "code",
   "execution_count": 36,
   "id": "12be5ad2",
   "metadata": {
    "ExecuteTime": {
     "end_time": "2023-01-23T18:47:08.213997Z",
     "start_time": "2023-01-23T18:47:08.098371Z"
    },
    "scrolled": true
   },
   "outputs": [
    {
     "name": "stdout",
     "output_type": "stream",
     "text": [
      "exp_group,os,total_users,max_age,min_age\r\n",
      "0,Android,21234,95,14\r\n",
      "0,iOS,11489,79,14\r\n",
      "1,Android,21232,92,14\r\n",
      "1,iOS,11406,87,14\r\n",
      "2,Android,21102,78,14\r\n",
      "2,iOS,11512,74,14\r\n",
      "3,Android,21319,84,14\r\n",
      "3,iOS,11449,85,14\r\n",
      "4,Android,21085,84,14\r\n",
      "4,iOS,11377,78,14\r\n"
     ]
    }
   ],
   "source": [
    "!cat 06_DB_task6_pd.csv"
   ]
  },
  {
   "cell_type": "markdown",
   "id": "a9b4c397",
   "metadata": {},
   "source": [
    "## 7\n",
    "\n",
    "> Группировка (3/6)\n",
    "\n",
    "- В каждой категории постов определите длину самого длинного текста, используя таблицу post. \n",
    "- В ответ отправьте тему, у которой длина самого большого поста равна по порядку 25 000.\n",
    "\n",
    "\n"
   ]
  },
  {
   "cell_type": "code",
   "execution_count": 40,
   "id": "b837bb68",
   "metadata": {
    "ExecuteTime": {
     "end_time": "2023-01-23T19:08:58.561948Z",
     "start_time": "2023-01-23T19:08:56.535535Z"
    }
   },
   "outputs": [
    {
     "data": {
      "text/html": [
       "<div>\n",
       "<style scoped>\n",
       "    .dataframe tbody tr th:only-of-type {\n",
       "        vertical-align: middle;\n",
       "    }\n",
       "\n",
       "    .dataframe tbody tr th {\n",
       "        vertical-align: top;\n",
       "    }\n",
       "\n",
       "    .dataframe thead th {\n",
       "        text-align: right;\n",
       "    }\n",
       "</style>\n",
       "<table border=\"1\" class=\"dataframe\">\n",
       "  <thead>\n",
       "    <tr style=\"text-align: right;\">\n",
       "      <th></th>\n",
       "      <th>topic</th>\n",
       "      <th>max_lenght_text</th>\n",
       "    </tr>\n",
       "  </thead>\n",
       "  <tbody>\n",
       "    <tr>\n",
       "      <th>0</th>\n",
       "      <td>politics</td>\n",
       "      <td>25392</td>\n",
       "    </tr>\n",
       "  </tbody>\n",
       "</table>\n",
       "</div>"
      ],
      "text/plain": [
       "      topic  max_lenght_text\n",
       "0  politics            25392"
      ]
     },
     "execution_count": 40,
     "metadata": {},
     "output_type": "execute_result"
    }
   ],
   "source": [
    "df7 = pd.read_sql(\n",
    "    \"\"\"\n",
    "SELECT\n",
    "    topic,\n",
    "    MAX(LENGTH(text)) as \"max_lenght_text\"\n",
    "FROM \"post\"\n",
    "GROUP BY topic\n",
    "ORDER BY max_lenght_text DESC\n",
    "LIMIT 1\n",
    "    \"\"\",\n",
    "    con=\"postgresql://robot-startml-ro:pheiph0hahj1Vaif@\"\n",
    "        \"postgres.lab.karpov.courses:6432/startml\"\n",
    ")\n",
    "\n",
    "df7.head()"
   ]
  },
  {
   "cell_type": "markdown",
   "id": "565ff734",
   "metadata": {},
   "source": [
    "## 8\n",
    "\n",
    "> Группировка (4/6)\n",
    "\n",
    "- Найдите страну с наименьшим числом пользователей среди стран, \n",
    "- у которых общее число пользователей больше 1000. \n",
    "- Введите ее название на английском."
   ]
  },
  {
   "cell_type": "code",
   "execution_count": 41,
   "id": "5f201028",
   "metadata": {
    "ExecuteTime": {
     "end_time": "2023-01-23T19:33:39.173417Z",
     "start_time": "2023-01-23T19:33:37.075933Z"
    }
   },
   "outputs": [
    {
     "data": {
      "text/html": [
       "<div>\n",
       "<style scoped>\n",
       "    .dataframe tbody tr th:only-of-type {\n",
       "        vertical-align: middle;\n",
       "    }\n",
       "\n",
       "    .dataframe tbody tr th {\n",
       "        vertical-align: top;\n",
       "    }\n",
       "\n",
       "    .dataframe thead th {\n",
       "        text-align: right;\n",
       "    }\n",
       "</style>\n",
       "<table border=\"1\" class=\"dataframe\">\n",
       "  <thead>\n",
       "    <tr style=\"text-align: right;\">\n",
       "      <th></th>\n",
       "      <th>country</th>\n",
       "      <th>count_users</th>\n",
       "    </tr>\n",
       "  </thead>\n",
       "  <tbody>\n",
       "    <tr>\n",
       "      <th>0</th>\n",
       "      <td>Azerbaijan</td>\n",
       "      <td>1542</td>\n",
       "    </tr>\n",
       "  </tbody>\n",
       "</table>\n",
       "</div>"
      ],
      "text/plain": [
       "      country  count_users\n",
       "0  Azerbaijan         1542"
      ]
     },
     "execution_count": 41,
     "metadata": {},
     "output_type": "execute_result"
    }
   ],
   "source": [
    "df8 = pd.read_sql(\n",
    "    \"\"\"\n",
    "SELECT\n",
    "    country,\n",
    "    COUNT(id) as \"count_users\"\n",
    "FROM \"user\"\n",
    "GROUP BY country\n",
    "HAVING COUNT(id) > 1000\n",
    "ORDER BY count_users\n",
    "LIMIT 1\n",
    "    \"\"\",\n",
    "    con=\"postgresql://robot-startml-ro:pheiph0hahj1Vaif@\"\n",
    "        \"postgres.lab.karpov.courses:6432/startml\"\n",
    ")\n",
    "\n",
    "df8.head()"
   ]
  },
  {
   "cell_type": "markdown",
   "id": "d421a136",
   "metadata": {},
   "source": [
    "## 9\n",
    "\n",
    "> Группировка (5/6)\n",
    "\n",
    "Что выведет следующий запрос при его применении на таблице user?\n",
    "```sql\n",
    "SELECT country, exp_group, COUNT(id)\n",
    "FROM \"user\"\n",
    "GROUP BY country, exp_group;\n",
    "```\n",
    "\n",
    "`Количество пользователей внутри каждой группы, доступной в стране, для каждой страны`\n"
   ]
  },
  {
   "cell_type": "code",
   "execution_count": 43,
   "id": "278725bc",
   "metadata": {
    "ExecuteTime": {
     "end_time": "2023-01-23T19:39:22.283582Z",
     "start_time": "2023-01-23T19:39:20.766771Z"
    },
    "scrolled": true
   },
   "outputs": [
    {
     "data": {
      "text/html": [
       "<div>\n",
       "<style scoped>\n",
       "    .dataframe tbody tr th:only-of-type {\n",
       "        vertical-align: middle;\n",
       "    }\n",
       "\n",
       "    .dataframe tbody tr th {\n",
       "        vertical-align: top;\n",
       "    }\n",
       "\n",
       "    .dataframe thead th {\n",
       "        text-align: right;\n",
       "    }\n",
       "</style>\n",
       "<table border=\"1\" class=\"dataframe\">\n",
       "  <thead>\n",
       "    <tr style=\"text-align: right;\">\n",
       "      <th></th>\n",
       "      <th>country</th>\n",
       "      <th>exp_group</th>\n",
       "      <th>count</th>\n",
       "    </tr>\n",
       "  </thead>\n",
       "  <tbody>\n",
       "    <tr>\n",
       "      <th>0</th>\n",
       "      <td>Azerbaijan</td>\n",
       "      <td>0</td>\n",
       "      <td>341</td>\n",
       "    </tr>\n",
       "    <tr>\n",
       "      <th>1</th>\n",
       "      <td>Azerbaijan</td>\n",
       "      <td>1</td>\n",
       "      <td>271</td>\n",
       "    </tr>\n",
       "    <tr>\n",
       "      <th>2</th>\n",
       "      <td>Azerbaijan</td>\n",
       "      <td>2</td>\n",
       "      <td>327</td>\n",
       "    </tr>\n",
       "    <tr>\n",
       "      <th>3</th>\n",
       "      <td>Azerbaijan</td>\n",
       "      <td>3</td>\n",
       "      <td>308</td>\n",
       "    </tr>\n",
       "    <tr>\n",
       "      <th>4</th>\n",
       "      <td>Azerbaijan</td>\n",
       "      <td>4</td>\n",
       "      <td>295</td>\n",
       "    </tr>\n",
       "    <tr>\n",
       "      <th>5</th>\n",
       "      <td>Belarus</td>\n",
       "      <td>0</td>\n",
       "      <td>671</td>\n",
       "    </tr>\n",
       "    <tr>\n",
       "      <th>6</th>\n",
       "      <td>Belarus</td>\n",
       "      <td>1</td>\n",
       "      <td>658</td>\n",
       "    </tr>\n",
       "    <tr>\n",
       "      <th>7</th>\n",
       "      <td>Belarus</td>\n",
       "      <td>2</td>\n",
       "      <td>644</td>\n",
       "    </tr>\n",
       "    <tr>\n",
       "      <th>8</th>\n",
       "      <td>Belarus</td>\n",
       "      <td>3</td>\n",
       "      <td>641</td>\n",
       "    </tr>\n",
       "    <tr>\n",
       "      <th>9</th>\n",
       "      <td>Belarus</td>\n",
       "      <td>4</td>\n",
       "      <td>679</td>\n",
       "    </tr>\n",
       "  </tbody>\n",
       "</table>\n",
       "</div>"
      ],
      "text/plain": [
       "      country  exp_group  count\n",
       "0  Azerbaijan          0    341\n",
       "1  Azerbaijan          1    271\n",
       "2  Azerbaijan          2    327\n",
       "3  Azerbaijan          3    308\n",
       "4  Azerbaijan          4    295\n",
       "5     Belarus          0    671\n",
       "6     Belarus          1    658\n",
       "7     Belarus          2    644\n",
       "8     Belarus          3    641\n",
       "9     Belarus          4    679"
      ]
     },
     "execution_count": 43,
     "metadata": {},
     "output_type": "execute_result"
    }
   ],
   "source": [
    "df9 = pd.read_sql(\n",
    "    \"\"\"\n",
    "SELECT country, exp_group, COUNT(id)\n",
    "FROM \"user\"\n",
    "GROUP BY country, exp_group\n",
    "    \"\"\",\n",
    "    con=\"postgresql://robot-startml-ro:pheiph0hahj1Vaif@\"\n",
    "        \"postgres.lab.karpov.courses:6432/startml\"\n",
    ")\n",
    "\n",
    "df9.head(10)"
   ]
  },
  {
   "cell_type": "markdown",
   "id": "ad66c0cb",
   "metadata": {},
   "source": [
    "## 10\n",
    "\n",
    "> Группировка (6/6)\n",
    "\n",
    "- Отберите для пользователей из Москвы экспериментальные группы, \n",
    "- в которых средний возраст больше 27.2. \n",
    "- Напишите через пробел число пользователей в этих группах.\n",
    "\n"
   ]
  },
  {
   "cell_type": "code",
   "execution_count": 44,
   "id": "43308663",
   "metadata": {
    "ExecuteTime": {
     "end_time": "2023-01-23T19:49:00.794163Z",
     "start_time": "2023-01-23T19:48:58.851220Z"
    }
   },
   "outputs": [
    {
     "data": {
      "text/html": [
       "<div>\n",
       "<style scoped>\n",
       "    .dataframe tbody tr th:only-of-type {\n",
       "        vertical-align: middle;\n",
       "    }\n",
       "\n",
       "    .dataframe tbody tr th {\n",
       "        vertical-align: top;\n",
       "    }\n",
       "\n",
       "    .dataframe thead th {\n",
       "        text-align: right;\n",
       "    }\n",
       "</style>\n",
       "<table border=\"1\" class=\"dataframe\">\n",
       "  <thead>\n",
       "    <tr style=\"text-align: right;\">\n",
       "      <th></th>\n",
       "      <th>exp_group</th>\n",
       "      <th>count</th>\n",
       "    </tr>\n",
       "  </thead>\n",
       "  <tbody>\n",
       "    <tr>\n",
       "      <th>0</th>\n",
       "      <td>1</td>\n",
       "      <td>4414</td>\n",
       "    </tr>\n",
       "    <tr>\n",
       "      <th>1</th>\n",
       "      <td>3</td>\n",
       "      <td>4378</td>\n",
       "    </tr>\n",
       "  </tbody>\n",
       "</table>\n",
       "</div>"
      ],
      "text/plain": [
       "   exp_group  count\n",
       "0          1   4414\n",
       "1          3   4378"
      ]
     },
     "execution_count": 44,
     "metadata": {},
     "output_type": "execute_result"
    }
   ],
   "source": [
    "df10 = pd.read_sql(\n",
    "    \"\"\"\n",
    "SELECT  \n",
    "    exp_group,\n",
    "    COUNT(id)\n",
    "FROM \"user\"\n",
    "WHERE city = 'Moscow'\n",
    "GROUP BY exp_group\n",
    "HAVING AVG(age) > 27.2\n",
    "    \"\"\",\n",
    "    con=\"postgresql://robot-startml-ro:pheiph0hahj1Vaif@\"\n",
    "        \"postgres.lab.karpov.courses:6432/startml\"\n",
    ")\n",
    "\n",
    "df10.head(10)"
   ]
  },
  {
   "cell_type": "code",
   "execution_count": 59,
   "id": "780a0df3",
   "metadata": {
    "ExecuteTime": {
     "end_time": "2023-01-23T19:52:33.109393Z",
     "start_time": "2023-01-23T19:52:33.105644Z"
    }
   },
   "outputs": [
    {
     "data": {
      "text/plain": [
       "[4414, 4378]"
      ]
     },
     "execution_count": 59,
     "metadata": {},
     "output_type": "execute_result"
    }
   ],
   "source": [
    "df10['count'].to_list()"
   ]
  },
  {
   "cell_type": "markdown",
   "id": "e324a7ae",
   "metadata": {},
   "source": [
    "## 11\n",
    "> Сортировка (1/2)\n",
    "\n",
    "- Сейчас мы будем работать с другой таблицей под названием post. \n",
    "- Найдите в таблице post 3 темы с наибольшим количеством постов. \n",
    "- Напишите через пробел названия этих тем."
   ]
  },
  {
   "cell_type": "code",
   "execution_count": 60,
   "id": "ede70c1f",
   "metadata": {
    "ExecuteTime": {
     "end_time": "2023-01-23T20:02:32.020488Z",
     "start_time": "2023-01-23T20:02:30.405911Z"
    }
   },
   "outputs": [
    {
     "data": {
      "text/html": [
       "<div>\n",
       "<style scoped>\n",
       "    .dataframe tbody tr th:only-of-type {\n",
       "        vertical-align: middle;\n",
       "    }\n",
       "\n",
       "    .dataframe tbody tr th {\n",
       "        vertical-align: top;\n",
       "    }\n",
       "\n",
       "    .dataframe thead th {\n",
       "        text-align: right;\n",
       "    }\n",
       "</style>\n",
       "<table border=\"1\" class=\"dataframe\">\n",
       "  <thead>\n",
       "    <tr style=\"text-align: right;\">\n",
       "      <th></th>\n",
       "      <th>topic</th>\n",
       "      <th>count_posts</th>\n",
       "    </tr>\n",
       "  </thead>\n",
       "  <tbody>\n",
       "    <tr>\n",
       "      <th>0</th>\n",
       "      <td>movie</td>\n",
       "      <td>3000</td>\n",
       "    </tr>\n",
       "    <tr>\n",
       "      <th>1</th>\n",
       "      <td>covid</td>\n",
       "      <td>1799</td>\n",
       "    </tr>\n",
       "    <tr>\n",
       "      <th>2</th>\n",
       "      <td>sport</td>\n",
       "      <td>510</td>\n",
       "    </tr>\n",
       "  </tbody>\n",
       "</table>\n",
       "</div>"
      ],
      "text/plain": [
       "   topic  count_posts\n",
       "0  movie         3000\n",
       "1  covid         1799\n",
       "2  sport          510"
      ]
     },
     "execution_count": 60,
     "metadata": {},
     "output_type": "execute_result"
    }
   ],
   "source": [
    "df11 = pd.read_sql(\n",
    "    \"\"\"\n",
    "SELECT \n",
    "    topic,\n",
    "    COUNT(text) as \"count_posts\"\n",
    "FROM \"post\"\n",
    "GROUP BY topic\n",
    "ORDER BY count_posts DESC\n",
    "LIMIT 3\n",
    "    \"\"\",\n",
    "    con=\"postgresql://robot-startml-ro:pheiph0hahj1Vaif@\"\n",
    "        \"postgres.lab.karpov.courses:6432/startml\"\n",
    ")\n",
    "\n",
    "df11.head()"
   ]
  },
  {
   "cell_type": "code",
   "execution_count": 78,
   "id": "0c3c6d7c",
   "metadata": {
    "ExecuteTime": {
     "end_time": "2023-01-23T20:08:19.237844Z",
     "start_time": "2023-01-23T20:08:19.232821Z"
    }
   },
   "outputs": [
    {
     "data": {
      "text/plain": [
       "'[movie covid sport]'"
      ]
     },
     "execution_count": 78,
     "metadata": {},
     "output_type": "execute_result"
    }
   ],
   "source": [
    "str(df11['topic'].to_list()).replace(\"'\", '').replace(', ',' ')"
   ]
  },
  {
   "cell_type": "markdown",
   "id": "900c5fe0",
   "metadata": {},
   "source": [
    "## 12\n",
    "> Сортировка (2/2)\n",
    "\n",
    "- Отберите пользователей из Воронежа (Voronezh) \n",
    "- и отсортируйте их по возрасту в убывающем порядке. \n",
    "- Для равных возрастов отсортируйте по возрастанию экспериментальной группы.\n",
    "\n",
    "- Напишите ID второго в порядке выдачи пользователя."
   ]
  },
  {
   "cell_type": "code",
   "execution_count": 80,
   "id": "2c18e019",
   "metadata": {
    "ExecuteTime": {
     "end_time": "2023-01-23T20:24:40.887749Z",
     "start_time": "2023-01-23T20:24:39.552213Z"
    }
   },
   "outputs": [
    {
     "data": {
      "text/html": [
       "<div>\n",
       "<style scoped>\n",
       "    .dataframe tbody tr th:only-of-type {\n",
       "        vertical-align: middle;\n",
       "    }\n",
       "\n",
       "    .dataframe tbody tr th {\n",
       "        vertical-align: top;\n",
       "    }\n",
       "\n",
       "    .dataframe thead th {\n",
       "        text-align: right;\n",
       "    }\n",
       "</style>\n",
       "<table border=\"1\" class=\"dataframe\">\n",
       "  <thead>\n",
       "    <tr style=\"text-align: right;\">\n",
       "      <th></th>\n",
       "      <th>id</th>\n",
       "      <th>age</th>\n",
       "      <th>exp_group</th>\n",
       "    </tr>\n",
       "  </thead>\n",
       "  <tbody>\n",
       "    <tr>\n",
       "      <th>0</th>\n",
       "      <td>89990</td>\n",
       "      <td>71</td>\n",
       "      <td>0</td>\n",
       "    </tr>\n",
       "    <tr>\n",
       "      <th>1</th>\n",
       "      <td>2441</td>\n",
       "      <td>71</td>\n",
       "      <td>3</td>\n",
       "    </tr>\n",
       "  </tbody>\n",
       "</table>\n",
       "</div>"
      ],
      "text/plain": [
       "      id  age  exp_group\n",
       "0  89990   71          0\n",
       "1   2441   71          3"
      ]
     },
     "execution_count": 80,
     "metadata": {},
     "output_type": "execute_result"
    }
   ],
   "source": [
    "df12 = pd.read_sql(\n",
    "    \"\"\"\n",
    "SELECT \n",
    "    id, age, exp_group\n",
    "FROM \"user\"\n",
    "WHERE city = 'Voronezh'\n",
    "ORDER BY age DESC, exp_group ASC\n",
    "LIMIT 2\n",
    "    \"\"\",\n",
    "    con=\"postgresql://robot-startml-ro:pheiph0hahj1Vaif@\"\n",
    "        \"postgres.lab.karpov.courses:6432/startml\"\n",
    ")\n",
    "\n",
    "df12.head()"
   ]
  },
  {
   "cell_type": "code",
   "execution_count": 82,
   "id": "8610c13d",
   "metadata": {
    "ExecuteTime": {
     "end_time": "2023-01-23T20:25:30.040944Z",
     "start_time": "2023-01-23T20:25:30.025780Z"
    }
   },
   "outputs": [
    {
     "data": {
      "text/plain": [
       "2441"
      ]
     },
     "execution_count": 82,
     "metadata": {},
     "output_type": "execute_result"
    }
   ],
   "source": [
    "df12.loc[1][0]"
   ]
  }
 ],
 "metadata": {
  "kernelspec": {
   "display_name": "Python 3 (ipykernel)",
   "language": "python",
   "name": "python3"
  },
  "language_info": {
   "codemirror_mode": {
    "name": "ipython",
    "version": 3
   },
   "file_extension": ".py",
   "mimetype": "text/x-python",
   "name": "python",
   "nbconvert_exporter": "python",
   "pygments_lexer": "ipython3",
   "version": "3.10.6"
  }
 },
 "nbformat": 4,
 "nbformat_minor": 5
}
