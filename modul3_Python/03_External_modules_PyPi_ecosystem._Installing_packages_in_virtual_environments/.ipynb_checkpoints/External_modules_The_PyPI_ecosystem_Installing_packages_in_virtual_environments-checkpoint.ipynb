{
 "cells": [
  {
   "cell_type": "code",
   "execution_count": 4,
   "id": "370966e3",
   "metadata": {
    "ExecuteTime": {
     "end_time": "2023-01-17T06:36:17.885190Z",
     "start_time": "2023-01-17T06:36:17.874318Z"
    }
   },
   "outputs": [
    {
     "data": {
      "text/plain": [
       "'External_modules_The_PyPI_ecosystem_Installing_packages_in_virtual_environments'"
      ]
     },
     "execution_count": 4,
     "metadata": {},
     "output_type": "execute_result"
    }
   ],
   "source": [
    "'External modules. The PyPI ecosystem. Installing packages in virtual environments'.replace('. ', '_').replace(' ', '_')"
   ]
  },
  {
   "cell_type": "markdown",
   "id": "46769e7a",
   "metadata": {},
   "source": [
    "## Что такое библиотека\n",
    "Библиотека - это набор готовых функций и переменных, которые можно использовать в своем коде. В Python уже есть несколько встроенных библиотек, которые мы уже можем использовать."
   ]
  },
  {
   "cell_type": "code",
   "execution_count": 2,
   "id": "f2405d5b",
   "metadata": {
    "ExecuteTime": {
     "end_time": "2023-01-17T06:43:40.907673Z",
     "start_time": "2023-01-17T06:43:40.899267Z"
    }
   },
   "outputs": [
    {
     "name": "stdout",
     "output_type": "stream",
     "text": [
      "2022-12-21\n"
     ]
    }
   ],
   "source": [
    "# импорт баблиотеки datetime\n",
    "import datetime\n",
    "winter_solstice_day = datetime.date(year=2022, month=12, day=21) # присваиваем переменной значение функции datetime - date \n",
    "                                                                 # с именованными аргументами\n",
    "print(winter_solstice_day)"
   ]
  },
  {
   "cell_type": "code",
   "execution_count": 18,
   "id": "11bf5e8f",
   "metadata": {
    "ExecuteTime": {
     "end_time": "2023-01-17T06:52:26.959313Z",
     "start_time": "2023-01-17T06:52:26.953553Z"
    }
   },
   "outputs": [
    {
     "name": "stdout",
     "output_type": "stream",
     "text": [
      "1986-04-28 10:00:00 \n",
      "\n",
      "Год 1986\n",
      "Месяц 4\n",
      "День 28\n",
      "Час 10\n",
      "Минуты 0\n",
      "Секунды 0\n"
     ]
    }
   ],
   "source": [
    "# datetime из библиотеки datetime\n",
    "# можно задать точное время\n",
    "\n",
    "some_time = datetime.datetime(1986, 4, 28, 10, 0, 0)\n",
    "print(some_time,'\\n')\n",
    "print(f'Год {some_time.year}')\n",
    "print(f'Месяц {some_time.month}')\n",
    "print(f'День {some_time.day}')\n",
    "print(f'Час {some_time.hour}')\n",
    "print(f'Минуты {some_time.minute}')\n",
    "print(f'Секунды {some_time.second}')"
   ]
  },
  {
   "cell_type": "code",
   "execution_count": 40,
   "id": "42d67841",
   "metadata": {
    "ExecuteTime": {
     "end_time": "2023-01-17T07:03:21.748034Z",
     "start_time": "2023-01-17T07:03:21.741070Z"
    }
   },
   "outputs": [
    {
     "name": "stdout",
     "output_type": "stream",
     "text": [
      "2023-02-19\n"
     ]
    }
   ],
   "source": [
    "\"\"\"timedelta - сложение и вычитание дат\n",
    "подробнее о datetime\n",
    "https://pythonworld.ru/moduli/modul-datetime.html \n",
    "\"\"\"\n",
    "\n",
    "delta_1 = datetime.timedelta(days=60) + winter_solstice_day\n",
    "print(delta_1)"
   ]
  },
  {
   "cell_type": "markdown",
   "id": "64ebae69",
   "metadata": {},
   "source": [
    "### import from на примере collections\n",
    "`collections` содержит дополнительные структуры данных, упрощающие жизнь.\n",
    "\n",
    "На практике часто используются `defaultdict и Counter`."
   ]
  },
  {
   "cell_type": "code",
   "execution_count": 56,
   "id": "bc5a2443",
   "metadata": {
    "ExecuteTime": {
     "end_time": "2023-01-17T07:14:53.415685Z",
     "start_time": "2023-01-17T07:14:53.406550Z"
    },
    "scrolled": true
   },
   "outputs": [
    {
     "name": "stdout",
     "output_type": "stream",
     "text": [
      "defaultdict(<class 'int'>, {})\n",
      "0\n",
      "defaultdict(<class 'int'>, {'this key dosnt exist': 0})\n"
     ]
    }
   ],
   "source": [
    "from collections import defaultdict, Counter # импортируем только нужные модули библиотеки\n",
    "\n",
    "\"\"\" defaultdict это расширенный словарь\n",
    "    при обращении к несуществующему ключу он создается\"\"\"\n",
    "\n",
    "dd = defaultdict(int) # вызвал int() это 0 и записал в ключ\n",
    "print(dd)\n",
    "print(dd['this key dosnt exist']) # создался новый ключ\n",
    "print(dd)"
   ]
  },
  {
   "cell_type": "code",
   "execution_count": 68,
   "id": "fc9e3a95",
   "metadata": {
    "ExecuteTime": {
     "end_time": "2023-01-17T07:24:04.057700Z",
     "start_time": "2023-01-17T07:24:04.051148Z"
    }
   },
   "outputs": [
    {
     "name": "stdout",
     "output_type": "stream",
     "text": [
      "defaultdict(<class 'int'>, {'this key dosnt exist': 28, 'test2': (1, 2, 3), 'None': 0})\n"
     ]
    }
   ],
   "source": [
    "dd['test2'] = (1,2,3) # добавление в словарь работает как обычно\n",
    "dd['None'] # вызываем несуществующий ключ, создается новый: {'None': 0}\n",
    "print(dd)"
   ]
  },
  {
   "cell_type": "code",
   "execution_count": 64,
   "id": "d00c1f12",
   "metadata": {
    "ExecuteTime": {
     "end_time": "2023-01-17T07:19:22.744461Z",
     "start_time": "2023-01-17T07:19:22.736605Z"
    },
    "scrolled": true
   },
   "outputs": [
    {
     "name": "stdout",
     "output_type": "stream",
     "text": [
      "Counter({3: 3, 1: 2, 'a': 1, 'm': 1, None: 1, (): 1})\n"
     ]
    }
   ],
   "source": [
    "\"\"\"\n",
    "    Counter это счетчик\n",
    "    так как это словарь по сути  - поддерживает только неизменяемые типы данных\n",
    "    возвращает словарь с количеством каждого элемента\n",
    "\"\"\"\n",
    "\n",
    "array = [1, 3, 'a', 'm', 1, None, 3, 3, ()]\n",
    "\n",
    "c = Counter(array)\n",
    "print(c)"
   ]
  },
  {
   "cell_type": "markdown",
   "id": "d36f7586",
   "metadata": {},
   "source": [
    "### import `as` на примере\n",
    "позволяет обращаться к библиотеке по короткому имени (алиасу)"
   ]
  },
  {
   "cell_type": "code",
   "execution_count": 73,
   "id": "b0a9c79a",
   "metadata": {
    "ExecuteTime": {
     "end_time": "2023-01-17T07:29:10.730747Z",
     "start_time": "2023-01-17T07:29:10.723146Z"
    }
   },
   "outputs": [
    {
     "name": "stdout",
     "output_type": "stream",
     "text": [
      "{\"a\": true}\n",
      "{\"this key dosnt exist\": 28, \"test2\": [1, 2, 3], \"None\": 0}\n"
     ]
    }
   ],
   "source": [
    "import json as j\n",
    "\n",
    "# преобразует словарь к формату json\n",
    "print(j.dumps({'a': True}))\n",
    "print(j.dumps(dd))"
   ]
  },
  {
   "cell_type": "markdown",
   "id": "6500c6d8",
   "metadata": {},
   "source": [
    "## Консоль. Установка пакетов\n",
    "Базовые команды консоли:\n",
    "\n",
    "    pwd (print working directory) — выводит название директории в которой вы находитесь\n",
    "    ls (list) — выводит файлы и директории в указанной папке\n",
    "    cd (change directory) – изменяет директорию\n",
    "    cat (concatenate) — выдаёт содержимое файла\n",
    "\n",
    "pip (система управления пакетами) — это утилита командной строки, которая позволяет устанавливать, переустанавливать и удалять пакеты python.\n",
    "\n",
    "Установить пакет можно путём короткой команды в консоли:\n",
    "\n",
    "```bash\n",
    "pip install название_библиотеки\n",
    "```\n",
    "Иногда нужно поставить конкретную версию библиотеки:\n",
    "```bash\n",
    "pip install название_библиотеки==0.0.7 \n",
    "```\n",
    "Иногда библиотека может внутри себя использовать другие сторонние библиотеки. Получается целая цепочка зависимостей. Обратите внимание, что с установкой Anaconda мы также установили много пакетов. Чтобы посмотреть список пакетов установленных в активной среде, введите в консоль команду:\n",
    "`pip list` - список пакетов"
   ]
  },
  {
   "cell_type": "markdown",
   "id": "f78f4d1a",
   "metadata": {},
   "source": [
    "## > requirements.txt\n",
    "\n",
    "файл requirements.txt его использование общепринятая практика, \\\n",
    "это список пакетов используемых в проекте и их версии (версию указывать рекомендуется)\n",
    "\n",
    "```python\n",
    "numpy \n",
    "scipy==2.23.0  \n",
    "pandas\n",
    "loguru\n",
    "\n",
    "# установка пакетов из requirements.txt\n",
    "pip install - r requirements.txt\n",
    "# но можно и так : \n",
    "pip install numpy scipy==2.23.0 pandas loguru\n",
    "\n",
    "```\n",
    "\n",
    "https://pypi.org/ PYPI (Python Package Index, пайпиай) — каталог пакетов Python"
   ]
  },
  {
   "cell_type": "markdown",
   "id": "2471f832",
   "metadata": {},
   "source": [
    "## > Виртуальное окружение\n",
    "\n",
    "Виртуальное окружение (среда) — это изолированное окружение среды, которое позволяет нам использовать определенные версии приложений.\n",
    "\n",
    "```python\n",
    "python -m venv имя_окружения # создание окружения, через опцию -m передается имя модуля, в данном случае это venv.\n",
    "```\n",
    "\n",
    "Активация: \n",
    "\n",
    "- windows\n",
    "     - `.\\\\имя_окружения\\\\Scripts\\\\activate`\n",
    "- Linux и MacOS\n",
    "    - `source имя_окружения/bin/activate`\n",
    "\n",
    "`deactivate` выйти из виртуального окружения\n",
    "\n",
    "`python -m jupyter notebook` # запуск jupyter из консоли\n"
   ]
  }
 ],
 "metadata": {
  "kernelspec": {
   "display_name": "Python 3 (ipykernel)",
   "language": "python",
   "name": "python3"
  },
  "language_info": {
   "codemirror_mode": {
    "name": "ipython",
    "version": 3
   },
   "file_extension": ".py",
   "mimetype": "text/x-python",
   "name": "python",
   "nbconvert_exporter": "python",
   "pygments_lexer": "ipython3",
   "version": "3.10.6"
  },
  "varInspector": {
   "cols": {
    "lenName": 16,
    "lenType": 16,
    "lenVar": 40
   },
   "kernels_config": {
    "python": {
     "delete_cmd_postfix": "",
     "delete_cmd_prefix": "del ",
     "library": "var_list.py",
     "varRefreshCmd": "print(var_dic_list())"
    },
    "r": {
     "delete_cmd_postfix": ") ",
     "delete_cmd_prefix": "rm(",
     "library": "var_list.r",
     "varRefreshCmd": "cat(var_dic_list()) "
    }
   },
   "types_to_exclude": [
    "module",
    "function",
    "builtin_function_or_method",
    "instance",
    "_Feature"
   ],
   "window_display": false
  }
 },
 "nbformat": 4,
 "nbformat_minor": 5
}
