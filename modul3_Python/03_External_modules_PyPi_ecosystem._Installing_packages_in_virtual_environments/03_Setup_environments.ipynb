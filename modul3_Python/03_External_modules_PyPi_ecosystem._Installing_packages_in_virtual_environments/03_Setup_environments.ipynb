{
 "cells": [
  {
   "cell_type": "markdown",
   "metadata": {},
   "source": [
    "### `Базовые команды консоли:`\n",
    " \n",
    "* `pwd`(print working directory) — выводит название директории в которой вы находитесь\n",
    "\n",
    "* `ls` (list) — выводит файлы и директории в указанной папке\n",
    "\n",
    "* `cd` (change directory) – изменяет директорию\n",
    "* `cat` (concatenate) — выдаёт содержимое файла\n",
    "* `Pip` (система управления пакетами) — Это утилита командной строки, которая позволяет устанавливать, переустанавливать и удалять пакеты python"
   ]
  },
  {
   "cell_type": "markdown",
   "metadata": {},
   "source": [
    "---\n",
    "\n",
    "Иногда нужно поставить конкретную версию библиотеки:\n",
    "\n",
    "`pip install название_библиотеки==0.0.7`"
   ]
  },
  {
   "cell_type": "markdown",
   "metadata": {},
   "source": [
    "### файл requirements.txt\n",
    "\n",
    "В исходниках некоторых проектов на Python можно встретить текстовый файл `requirements.txt`. Это обычный текстовый файл, где указаны названия python библиотек, которые использовались в проекте, и их версии.\n",
    "\n",
    "Команда `pip install` умеет читать `requirements.txt` и устанавливать все зависимости из него, если передать специальный флаг `-r:`\n",
    "\n",
    "```\n",
    "numpy \n",
    "scipy==2.23.0  \n",
    "pandas\n",
    "loguru\n",
    "\n",
    "```\n",
    "```\n",
    "\n",
    "\n",
    "pip install -r requirements.txt\n",
    "\n",
    "```\n",
    "\n",
    "То есть, если файл requirements.txt будет иметь такое же содержание, \n",
    "как в примере выше, то обе эти команды будут иметь одинаковое действие:\n",
    "\n",
    "```\n",
    "\n",
    "pip install -r requirements.txt\n",
    "\n",
    "pip install numpy scipy==1.7.3 pandas loguru\n",
    "\n",
    "```\n",
    "\n",
    "> [PYPI ](https://pypi.org/)(Python Package Index, пайпиай) — каталог пакетов Python"
   ]
  },
  {
   "cell_type": "code",
   "execution_count": 13,
   "metadata": {},
   "outputs": [
    {
     "data": {
      "text/plain": [
       "'1.24.0'"
      ]
     },
     "execution_count": 13,
     "metadata": {},
     "output_type": "execute_result"
    }
   ],
   "source": [
    "# как узнать версию пакета в yn\n",
    "#!pip install numpy # установить numpy\n",
    "import numpy as np\n",
    "np.__version__\n",
    "# !pip list"
   ]
  }
 ],
 "metadata": {
  "kernelspec": {
   "display_name": "Python 3.10.6 64-bit",
   "language": "python",
   "name": "python3"
  },
  "language_info": {
   "codemirror_mode": {
    "name": "ipython",
    "version": 3
   },
   "file_extension": ".py",
   "mimetype": "text/x-python",
   "name": "python",
   "nbconvert_exporter": "python",
   "pygments_lexer": "ipython3",
   "version": "3.10.6"
  },
  "orig_nbformat": 4,
  "vscode": {
   "interpreter": {
    "hash": "916dbcbb3f70747c44a77c7bcd40155683ae19c65e1c03b4aa3499c5328201f1"
   }
  }
 },
 "nbformat": 4,
 "nbformat_minor": 2
}
