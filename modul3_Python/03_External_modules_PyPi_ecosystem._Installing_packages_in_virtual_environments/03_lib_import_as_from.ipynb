{
 "cells": [
  {
   "attachments": {},
   "cell_type": "markdown",
   "metadata": {},
   "source": [
    "## `Сторонние библиотеки / пакеты / установка`"
   ]
  },
  {
   "cell_type": "code",
   "execution_count": 6,
   "metadata": {},
   "outputs": [
    {
     "name": "stdout",
     "output_type": "stream",
     "text": [
      "2022-01-07\n"
     ]
    }
   ],
   "source": [
    "# импортируем библиотеку datetime\n",
    "import datetime\n",
    "\n",
    "# передаем имя аргумента в функции\n",
    "chr_date = datetime.date(year=2022, month=1, day=7)\n",
    "print(chr_date)  # print распечатывает дату в заданном формате\n"
   ]
  },
  {
   "cell_type": "code",
   "execution_count": 15,
   "metadata": {},
   "outputs": [
    {
     "name": "stdout",
     "output_type": "stream",
     "text": [
      "2022-03-04 13:55:34\n",
      "Год: 2022\n",
      "Месяц: 3\n",
      "День: 4\n",
      "Часов: 13\n",
      "Минут: 55\n",
      "Секунд: 34\n"
     ]
    }
   ],
   "source": [
    "some_time = datetime.datetime(2022, 3, 4, 13, 55, 34)\n",
    "print(some_time)\n",
    "\n",
    "print(f'Год: {some_time.year}')\n",
    "print(f'Месяц: {some_time.month}')\n",
    "print(f'День: {some_time.day}')\n",
    "print(f'Часов: {some_time.hour}')\n",
    "print(f'Минут: {some_time.minute}')\n",
    "print(f'Секунд: {some_time.second}')\n"
   ]
  },
  {
   "cell_type": "code",
   "execution_count": 16,
   "metadata": {},
   "outputs": [
    {
     "data": {
      "text/plain": [
       "datetime.date(2023, 2, 20)"
      ]
     },
     "execution_count": 16,
     "metadata": {},
     "output_type": "execute_result"
    }
   ],
   "source": [
    "# timedelta  - сложение и вычитание дат\n",
    "delta_1 = datetime.timedelta(days=60)\n",
    "\n",
    "datetime.date(2022, 12, 22) + delta_1\n"
   ]
  },
  {
   "attachments": {},
   "cell_type": "markdown",
   "metadata": {},
   "source": [
    "### Импорт через `from` на примере  `collections`\n",
    "`collections` - еще одна полезная встроенная библиотека.\n",
    "Содержит дополнительные структуры данных, упрощающие жизнь.\n",
    "\n",
    "На практике часто используются `defaultdict` и `Counter`.\n",
    "#### `defaultdict`"
   ]
  },
  {
   "cell_type": "code",
   "execution_count": 21,
   "metadata": {},
   "outputs": [
    {
     "name": "stdout",
     "output_type": "stream",
     "text": [
      "defaultdict(<class 'int'>, {})\n",
      "0\n",
      "defaultdict(<class 'int'>, {'this key does not exist': 0})\n"
     ]
    }
   ],
   "source": [
    "from collections import defaultdict, Counter\n",
    "'''\n",
    "общий синтаксис:\n",
    "\n",
    "from название_библиотеки import объект_1, объект_2, объект_3\n",
    "\n",
    "\n",
    "defaultdict - это обычный словарь, но при обращению к несуществующему элементу\n",
    "он не выбрасывает ошибку, а создает его\n",
    "'''\n",
    "\n",
    "d = defaultdict(int) # говорим , чтобы создавалось число 0 при отсутствии элемента.\n",
    "print(d)\n",
    "print(d['this key does not exist'])\n",
    "print(d)"
   ]
  },
  {
   "attachments": {},
   "cell_type": "markdown",
   "metadata": {},
   "source": [
    "####  `Counter`\n",
    "`Counter` принимает на вход список, считает в нем элементы и возвращает словарь с результатом"
   ]
  },
  {
   "cell_type": "code",
   "execution_count": 25,
   "metadata": {},
   "outputs": [
    {
     "data": {
      "text/plain": [
       "Counter({1: 2, 3: 3, 'a': 1, 'm': 1, None: 2, ('apple', 'tomato'): 1})"
      ]
     },
     "execution_count": 25,
     "metadata": {},
     "output_type": "execute_result"
    }
   ],
   "source": [
    "array = [1, 3, 'a', 'm', 1, None, 3, 3, ('apple', 'tomato'), None]\n",
    "Counter(array)\n",
    "\n",
    "# на вход в `Counter()` могут поступать только списки с неизменяемыми объектами."
   ]
  },
  {
   "attachments": {},
   "cell_type": "markdown",
   "metadata": {},
   "source": [
    "### `Импорт через as`"
   ]
  },
  {
   "cell_type": "code",
   "execution_count": 31,
   "metadata": {},
   "outputs": [
    {
     "data": {
      "text/plain": [
       "'{\"fruit\": [\"apple, orange, bananas\"], \"vegetables\": [\"tomatos\", \"cucumbers\", \"beets\"]}'"
      ]
     },
     "execution_count": 31,
     "metadata": {},
     "output_type": "execute_result"
    }
   ],
   "source": [
    "# используем псевдоним j\n",
    "import json as j\n",
    "j.dumps({'fruit': ['apple, orange, bananas'], 'vegetables': ['tomatos','cucumbers', 'beets']})\n",
    "# на выходе список словарей\n"
   ]
  }
 ],
 "metadata": {
  "kernelspec": {
   "display_name": "Python 3",
   "language": "python",
   "name": "python3"
  },
  "language_info": {
   "codemirror_mode": {
    "name": "ipython",
    "version": 3
   },
   "file_extension": ".py",
   "mimetype": "text/x-python",
   "name": "python",
   "nbconvert_exporter": "python",
   "pygments_lexer": "ipython3",
   "version": "3.11.0"
  },
  "orig_nbformat": 4,
  "vscode": {
   "interpreter": {
    "hash": "c261aea317cc0286b3b3261fbba9abdec21eaa57589985bb7a274bf54d6cc0a7"
   }
  }
 },
 "nbformat": 4,
 "nbformat_minor": 2
}
