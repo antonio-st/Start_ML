{
 "cells": [
  {
   "cell_type": "markdown",
   "id": "c03182a0",
   "metadata": {},
   "source": [
    "### Описание данных:\n",
    "\n",
    "    id - уникальный идентификатор заведения\n",
    "    address - физический адрес заведения\n",
    "    categories - категории заведения (например, \"Fast food restaurant\").\n",
    "    city - город, в котором заведение находится.\n",
    "    cuisines - кухни, которые практикуются в заведении. Например \"Mexican\".\n",
    "    dateAdded - дата добавления записи. Будем считать, что она совпадает с датой открытия заведения.\n",
    "    dateUpdated - дата обновления информации о заведении.\n",
    "    latitude - географическая широта.\n",
    "    longitude - географическая долгота.\n",
    "    menus.category - категории пищи в меню.\n",
    "    menus.currency - валюта, в которой принимают оплату.\n",
    "    menus.dateSeen - дата, когда было заведено это меню.\n",
    "    menus.description - описание меню от заведения.\n",
    "    menus.name - название меню.\n",
    "    name - название заведения.\n",
    "    province - область (штат), где находится заведение."
   ]
  },
  {
   "cell_type": "code",
   "execution_count": 1,
   "id": "dc6268cd",
   "metadata": {
    "ExecuteTime": {
     "end_time": "2022-12-27T19:39:04.930906Z",
     "start_time": "2022-12-27T19:39:04.649166Z"
    },
    "scrolled": false
   },
   "outputs": [
    {
     "data": {
      "text/plain": [
       "Index(['id', 'address', 'categories', 'city', 'cuisines', 'dateAdded',\n",
       "       'dateUpdated', 'latitude', 'longitude', 'menus.category',\n",
       "       'menus.currency', 'menus.dateSeen', 'menus.description', 'menus.name',\n",
       "       'name', 'province'],\n",
       "      dtype='object')"
      ]
     },
     "execution_count": 1,
     "metadata": {},
     "output_type": "execute_result"
    }
   ],
   "source": [
    "import pandas as pd\n",
    "df = pd.read_csv('data.csv')\n",
    "\n",
    "df.columns"
   ]
  },
  {
   "cell_type": "markdown",
   "id": "83e5e882",
   "metadata": {},
   "source": [
    "### 1\n",
    "В качестве первого шага давайте посмотрим на наши данные c помощью метода head()\n",
    "\n",
    "Перечислите первые три значения колонки dateAdded через запятую и пробел в том порядке, в котором они были выведены"
   ]
  },
  {
   "cell_type": "code",
   "execution_count": 2,
   "id": "2fd16358",
   "metadata": {
    "ExecuteTime": {
     "end_time": "2022-12-27T19:43:53.025026Z",
     "start_time": "2022-12-27T19:43:53.016837Z"
    }
   },
   "outputs": [
    {
     "data": {
      "text/plain": [
       "0    2016-03-02T11:49:34Z\n",
       "1    2016-03-02T11:49:34Z\n",
       "2    2016-10-14T01:58:25Z\n",
       "Name: dateAdded, dtype: object"
      ]
     },
     "execution_count": 2,
     "metadata": {},
     "output_type": "execute_result"
    }
   ],
   "source": [
    "df.dateAdded.head(3)"
   ]
  },
  {
   "cell_type": "markdown",
   "id": "3b8af408",
   "metadata": {},
   "source": [
    "### 2.\n",
    "Давайте посмотрим, какой тип имеют колонки city и latitude.\n",
    "\n",
    "Введите через **пробел** названия типов."
   ]
  },
  {
   "cell_type": "code",
   "execution_count": 3,
   "id": "8f5eaeea",
   "metadata": {
    "ExecuteTime": {
     "end_time": "2022-12-27T19:47:03.980731Z",
     "start_time": "2022-12-27T19:47:03.971948Z"
    }
   },
   "outputs": [
    {
     "data": {
      "text/plain": [
       "id                    object\n",
       "address               object\n",
       "categories            object\n",
       "city                  object\n",
       "cuisines              object\n",
       "dateAdded             object\n",
       "dateUpdated           object\n",
       "latitude             float64\n",
       "longitude            float64\n",
       "menus.category        object\n",
       "menus.currency        object\n",
       "menus.dateSeen        object\n",
       "menus.description     object\n",
       "menus.name            object\n",
       "name                  object\n",
       "province              object\n",
       "dtype: object"
      ]
     },
     "execution_count": 3,
     "metadata": {},
     "output_type": "execute_result"
    }
   ],
   "source": [
    "df.dtypes"
   ]
  },
  {
   "cell_type": "markdown",
   "id": "629034ac",
   "metadata": {},
   "source": [
    "### 3 \n",
    "Какие колонки будут выведены при применении метода describe и почему только они?\n",
    "> latitude, longitude, потому что это единственные численные колонки"
   ]
  },
  {
   "cell_type": "code",
   "execution_count": 4,
   "id": "eb969bcf",
   "metadata": {
    "ExecuteTime": {
     "end_time": "2022-12-27T19:51:45.021874Z",
     "start_time": "2022-12-27T19:51:45.001738Z"
    }
   },
   "outputs": [
    {
     "data": {
      "text/html": [
       "<div>\n",
       "<style scoped>\n",
       "    .dataframe tbody tr th:only-of-type {\n",
       "        vertical-align: middle;\n",
       "    }\n",
       "\n",
       "    .dataframe tbody tr th {\n",
       "        vertical-align: top;\n",
       "    }\n",
       "\n",
       "    .dataframe thead th {\n",
       "        text-align: right;\n",
       "    }\n",
       "</style>\n",
       "<table border=\"1\" class=\"dataframe\">\n",
       "  <thead>\n",
       "    <tr style=\"text-align: right;\">\n",
       "      <th></th>\n",
       "      <th>latitude</th>\n",
       "      <th>longitude</th>\n",
       "    </tr>\n",
       "  </thead>\n",
       "  <tbody>\n",
       "    <tr>\n",
       "      <th>count</th>\n",
       "      <td>55636.000000</td>\n",
       "      <td>55636.000000</td>\n",
       "    </tr>\n",
       "    <tr>\n",
       "      <th>mean</th>\n",
       "      <td>36.694846</td>\n",
       "      <td>-98.713309</td>\n",
       "    </tr>\n",
       "    <tr>\n",
       "      <th>std</th>\n",
       "      <td>4.835124</td>\n",
       "      <td>18.245857</td>\n",
       "    </tr>\n",
       "    <tr>\n",
       "      <th>min</th>\n",
       "      <td>-31.986438</td>\n",
       "      <td>-159.492690</td>\n",
       "    </tr>\n",
       "    <tr>\n",
       "      <th>25%</th>\n",
       "      <td>33.668355</td>\n",
       "      <td>-117.647150</td>\n",
       "    </tr>\n",
       "    <tr>\n",
       "      <th>50%</th>\n",
       "      <td>36.047195</td>\n",
       "      <td>-96.682320</td>\n",
       "    </tr>\n",
       "    <tr>\n",
       "      <th>75%</th>\n",
       "      <td>40.588380</td>\n",
       "      <td>-82.679930</td>\n",
       "    </tr>\n",
       "    <tr>\n",
       "      <th>max</th>\n",
       "      <td>61.219460</td>\n",
       "      <td>115.903696</td>\n",
       "    </tr>\n",
       "  </tbody>\n",
       "</table>\n",
       "</div>"
      ],
      "text/plain": [
       "           latitude     longitude\n",
       "count  55636.000000  55636.000000\n",
       "mean      36.694846    -98.713309\n",
       "std        4.835124     18.245857\n",
       "min      -31.986438   -159.492690\n",
       "25%       33.668355   -117.647150\n",
       "50%       36.047195    -96.682320\n",
       "75%       40.588380    -82.679930\n",
       "max       61.219460    115.903696"
      ]
     },
     "execution_count": 4,
     "metadata": {},
     "output_type": "execute_result"
    }
   ],
   "source": [
    "df.describe()"
   ]
  },
  {
   "cell_type": "markdown",
   "id": "e6d5f6e2",
   "metadata": {},
   "source": [
    "### 4.\n",
    "\n",
    "    Какие средние значения в тех колонках, которые вывел describe в предыдущем задании?\n",
    "    Укажите их через пробел, округлив до двух знаков после запятой. Используйте точку в качестве десятичного разделителя."
   ]
  },
  {
   "cell_type": "code",
   "execution_count": 5,
   "id": "6626d744",
   "metadata": {
    "ExecuteTime": {
     "end_time": "2022-12-27T20:04:51.243624Z",
     "start_time": "2022-12-27T20:04:51.215795Z"
    }
   },
   "outputs": [
    {
     "name": "stdout",
     "output_type": "stream",
     "text": [
      "36.69\n",
      "-98.71\n"
     ]
    }
   ],
   "source": [
    "res1 = df.describe()\n",
    "print(round(list(res1.iloc[1])[0],2))\n",
    "print(round(list(res1.iloc[1])[1],2))\n"
   ]
  },
  {
   "cell_type": "markdown",
   "id": "a9332252",
   "metadata": {},
   "source": [
    "### 5\n",
    "    Сейчас в данных присутствуют пропущенные значения. Давайте их удалим.\n",
    "    Примените метод dropna.  Сколько осталось записей?"
   ]
  },
  {
   "cell_type": "code",
   "execution_count": 6,
   "id": "6aae6191",
   "metadata": {
    "ExecuteTime": {
     "end_time": "2022-12-27T20:10:23.819731Z",
     "start_time": "2022-12-27T20:10:23.722989Z"
    }
   },
   "outputs": [
    {
     "data": {
      "text/html": [
       "<div>\n",
       "<style scoped>\n",
       "    .dataframe tbody tr th:only-of-type {\n",
       "        vertical-align: middle;\n",
       "    }\n",
       "\n",
       "    .dataframe tbody tr th {\n",
       "        vertical-align: top;\n",
       "    }\n",
       "\n",
       "    .dataframe thead th {\n",
       "        text-align: right;\n",
       "    }\n",
       "</style>\n",
       "<table border=\"1\" class=\"dataframe\">\n",
       "  <thead>\n",
       "    <tr style=\"text-align: right;\">\n",
       "      <th></th>\n",
       "      <th>id</th>\n",
       "      <th>address</th>\n",
       "      <th>categories</th>\n",
       "      <th>city</th>\n",
       "      <th>cuisines</th>\n",
       "      <th>dateAdded</th>\n",
       "      <th>dateUpdated</th>\n",
       "      <th>latitude</th>\n",
       "      <th>longitude</th>\n",
       "      <th>menus.category</th>\n",
       "      <th>menus.currency</th>\n",
       "      <th>menus.dateSeen</th>\n",
       "      <th>menus.description</th>\n",
       "      <th>menus.name</th>\n",
       "      <th>name</th>\n",
       "      <th>province</th>\n",
       "    </tr>\n",
       "  </thead>\n",
       "  <tbody>\n",
       "    <tr>\n",
       "      <th>72</th>\n",
       "      <td>AVwc_6st_7pvs4fz1Mln</td>\n",
       "      <td>95 Matthews Dr</td>\n",
       "      <td>Restaurant</td>\n",
       "      <td>Hilton Head Island</td>\n",
       "      <td>Japanese, Thai, Hibachi</td>\n",
       "      <td>2015-10-19T20:43:35Z</td>\n",
       "      <td>2016-08-22T11:22:45Z</td>\n",
       "      <td>32.212044</td>\n",
       "      <td>-80.701132</td>\n",
       "      <td>Appetizers Sushi Bar</td>\n",
       "      <td>USD</td>\n",
       "      <td>2016-08-20T00:00:00Z</td>\n",
       "      <td>Pepper tuna, pepper white tuna, spicy crab mea...</td>\n",
       "      <td>Taco Tara</td>\n",
       "      <td>Okko Hilton Head</td>\n",
       "      <td>SC</td>\n",
       "    </tr>\n",
       "    <tr>\n",
       "      <th>242</th>\n",
       "      <td>AVwc_DjlkufWRAb51GPc</td>\n",
       "      <td>2610 Lyndale Ave S</td>\n",
       "      <td>Restaurant</td>\n",
       "      <td>Minneapolis</td>\n",
       "      <td>American, Bar / Lounge / Bottle Service</td>\n",
       "      <td>2016-08-01T19:18:23Z</td>\n",
       "      <td>2016-08-22T11:27:55Z</td>\n",
       "      <td>44.954945</td>\n",
       "      <td>-93.288246</td>\n",
       "      <td>Main Course</td>\n",
       "      <td>USD</td>\n",
       "      <td>2016-08-20T00:00:00Z</td>\n",
       "      <td>Main i pico slaw i radish i cilantro-lime crem...</td>\n",
       "      <td>Blackened Fish Tacos</td>\n",
       "      <td>French Meadow Cafe &amp; Bluestem Bar</td>\n",
       "      <td>MN</td>\n",
       "    </tr>\n",
       "    <tr>\n",
       "      <th>243</th>\n",
       "      <td>AVwc_DjlkufWRAb51GPc</td>\n",
       "      <td>2610 Lyndale Ave S</td>\n",
       "      <td>Restaurant</td>\n",
       "      <td>Minneapolis</td>\n",
       "      <td>American, Bar / Lounge / Bottle Service</td>\n",
       "      <td>2016-08-01T19:18:23Z</td>\n",
       "      <td>2016-08-22T11:27:55Z</td>\n",
       "      <td>44.954945</td>\n",
       "      <td>-93.288246</td>\n",
       "      <td>Main Course</td>\n",
       "      <td>USD</td>\n",
       "      <td>2016-08-20T00:00:00Z</td>\n",
       "      <td>Blackened organic tempeh i tempeh chorizo i pi...</td>\n",
       "      <td>Blackened Tempeh Tacos</td>\n",
       "      <td>French Meadow Cafe &amp; Bluestem Bar</td>\n",
       "      <td>MN</td>\n",
       "    </tr>\n",
       "    <tr>\n",
       "      <th>259</th>\n",
       "      <td>AVwc_DW1_7pvs4fz1DBV</td>\n",
       "      <td>119 W Clay St</td>\n",
       "      <td>Bistro,American Restaurant,New American Restau...</td>\n",
       "      <td>Mebane</td>\n",
       "      <td>American Restaurants,American, Contemporary Am...</td>\n",
       "      <td>2016-03-31T02:34:19Z</td>\n",
       "      <td>2017-07-03T17:12:10Z</td>\n",
       "      <td>36.097057</td>\n",
       "      <td>-79.267750</td>\n",
       "      <td>Main</td>\n",
       "      <td>USD</td>\n",
       "      <td>2016-04-24T00:00:00Z</td>\n",
       "      <td>Grilled or blackened with house made tortilla,...</td>\n",
       "      <td>Shrimp or Mahi Taco</td>\n",
       "      <td>Mebane Downtown Table</td>\n",
       "      <td>NC</td>\n",
       "    </tr>\n",
       "    <tr>\n",
       "      <th>261</th>\n",
       "      <td>AVwc_DW1_7pvs4fz1DBV</td>\n",
       "      <td>119 W Clay St</td>\n",
       "      <td>Bistro,American Restaurant,New American Restau...</td>\n",
       "      <td>Mebane</td>\n",
       "      <td>American Restaurants,American, Contemporary Am...</td>\n",
       "      <td>2016-03-31T02:34:19Z</td>\n",
       "      <td>2017-07-03T17:12:10Z</td>\n",
       "      <td>36.097057</td>\n",
       "      <td>-79.267750</td>\n",
       "      <td>Starters</td>\n",
       "      <td>USD</td>\n",
       "      <td>2016-04-24T00:00:00Z</td>\n",
       "      <td>Slow cooked leg of duck, house made tortilla w...</td>\n",
       "      <td>Duck Confit Tacos</td>\n",
       "      <td>Mebane Downtown Table</td>\n",
       "      <td>NC</td>\n",
       "    </tr>\n",
       "    <tr>\n",
       "      <th>...</th>\n",
       "      <td>...</td>\n",
       "      <td>...</td>\n",
       "      <td>...</td>\n",
       "      <td>...</td>\n",
       "      <td>...</td>\n",
       "      <td>...</td>\n",
       "      <td>...</td>\n",
       "      <td>...</td>\n",
       "      <td>...</td>\n",
       "      <td>...</td>\n",
       "      <td>...</td>\n",
       "      <td>...</td>\n",
       "      <td>...</td>\n",
       "      <td>...</td>\n",
       "      <td>...</td>\n",
       "      <td>...</td>\n",
       "    </tr>\n",
       "    <tr>\n",
       "      <th>76997</th>\n",
       "      <td>AVz0WZ18FcQ3k02bDO8m</td>\n",
       "      <td>29 Crown Rd.Building B</td>\n",
       "      <td>Restaurant</td>\n",
       "      <td>Weatherford</td>\n",
       "      <td>Mexican</td>\n",
       "      <td>2017-06-29T14:55:32Z</td>\n",
       "      <td>2017-06-29T14:55:32Z</td>\n",
       "      <td>32.752010</td>\n",
       "      <td>-97.669332</td>\n",
       "      <td>Main</td>\n",
       "      <td>USD</td>\n",
       "      <td>2017-06-28T17:41:09.905Z</td>\n",
       "      <td>A new favorite Slowsmoked brisket, served in y...</td>\n",
       "      <td>Brisket Tacos</td>\n",
       "      <td>Los Vaqueros - West</td>\n",
       "      <td>TX</td>\n",
       "    </tr>\n",
       "    <tr>\n",
       "      <th>76998</th>\n",
       "      <td>AVz0WZ18FcQ3k02bDO8m</td>\n",
       "      <td>29 Crown Rd.Building B</td>\n",
       "      <td>Restaurant</td>\n",
       "      <td>Weatherford</td>\n",
       "      <td>Mexican</td>\n",
       "      <td>2017-06-29T14:55:32Z</td>\n",
       "      <td>2017-06-29T14:55:32Z</td>\n",
       "      <td>32.752010</td>\n",
       "      <td>-97.669332</td>\n",
       "      <td>Main</td>\n",
       "      <td>USD</td>\n",
       "      <td>2017-06-28T17:41:09.905Z</td>\n",
       "      <td>The chefs favorite when he is too busy to sit ...</td>\n",
       "      <td>Johnnys Burrito Bowl</td>\n",
       "      <td>Los Vaqueros - West</td>\n",
       "      <td>TX</td>\n",
       "    </tr>\n",
       "    <tr>\n",
       "      <th>76999</th>\n",
       "      <td>AVz0WZ18FcQ3k02bDO8m</td>\n",
       "      <td>29 Crown Rd.Building B</td>\n",
       "      <td>Restaurant</td>\n",
       "      <td>Weatherford</td>\n",
       "      <td>Mexican</td>\n",
       "      <td>2017-06-29T14:55:32Z</td>\n",
       "      <td>2017-06-29T14:55:32Z</td>\n",
       "      <td>32.752010</td>\n",
       "      <td>-97.669332</td>\n",
       "      <td>Main</td>\n",
       "      <td>USD</td>\n",
       "      <td>2017-06-28T17:41:09.905Z</td>\n",
       "      <td>With chili con queso, Spanish rice and refried...</td>\n",
       "      <td>One Beef or Chicken Burrito</td>\n",
       "      <td>Los Vaqueros - West</td>\n",
       "      <td>TX</td>\n",
       "    </tr>\n",
       "    <tr>\n",
       "      <th>77000</th>\n",
       "      <td>AVz0WZf3-gnIPe8DUW4y</td>\n",
       "      <td>2300 Matlock Rd. Suite 21</td>\n",
       "      <td>Restaurant</td>\n",
       "      <td>Mansfield</td>\n",
       "      <td>Mexican, American, Seafood</td>\n",
       "      <td>2017-06-29T14:55:31Z</td>\n",
       "      <td>2017-06-29T14:55:31Z</td>\n",
       "      <td>32.594093</td>\n",
       "      <td>-97.106282</td>\n",
       "      <td>Ensaladas  Salads</td>\n",
       "      <td>USD</td>\n",
       "      <td>2017-06-28T17:33:26.597Z</td>\n",
       "      <td>Seasoned picadillo beef served with fresh mixe...</td>\n",
       "      <td>Ensalada Taco</td>\n",
       "      <td>El Primo's Mexican Grill &amp; Cantina</td>\n",
       "      <td>TX</td>\n",
       "    </tr>\n",
       "    <tr>\n",
       "      <th>77014</th>\n",
       "      <td>AVz0WZsS-gnIPe8DUW45</td>\n",
       "      <td>4150 North MacArthur Blvd</td>\n",
       "      <td>Restaurant</td>\n",
       "      <td>Irving</td>\n",
       "      <td>Steakhouse, American</td>\n",
       "      <td>2017-06-29T14:55:32Z</td>\n",
       "      <td>2017-06-29T14:55:32Z</td>\n",
       "      <td>32.862452</td>\n",
       "      <td>-96.959246</td>\n",
       "      <td>Air</td>\n",
       "      <td>USD</td>\n",
       "      <td>2017-06-28T17:36:57.862Z</td>\n",
       "      <td>peppers onions jack cheese flour tortilla sour...</td>\n",
       "      <td>Beer Can Chicken Tacos</td>\n",
       "      <td>LAW at Four Seasons Dallas</td>\n",
       "      <td>TX</td>\n",
       "    </tr>\n",
       "  </tbody>\n",
       "</table>\n",
       "<p>1925 rows × 16 columns</p>\n",
       "</div>"
      ],
      "text/plain": [
       "                         id                    address  \\\n",
       "72     AVwc_6st_7pvs4fz1Mln             95 Matthews Dr   \n",
       "242    AVwc_DjlkufWRAb51GPc         2610 Lyndale Ave S   \n",
       "243    AVwc_DjlkufWRAb51GPc         2610 Lyndale Ave S   \n",
       "259    AVwc_DW1_7pvs4fz1DBV              119 W Clay St   \n",
       "261    AVwc_DW1_7pvs4fz1DBV              119 W Clay St   \n",
       "...                     ...                        ...   \n",
       "76997  AVz0WZ18FcQ3k02bDO8m     29 Crown Rd.Building B   \n",
       "76998  AVz0WZ18FcQ3k02bDO8m     29 Crown Rd.Building B   \n",
       "76999  AVz0WZ18FcQ3k02bDO8m     29 Crown Rd.Building B   \n",
       "77000  AVz0WZf3-gnIPe8DUW4y  2300 Matlock Rd. Suite 21   \n",
       "77014  AVz0WZsS-gnIPe8DUW45  4150 North MacArthur Blvd   \n",
       "\n",
       "                                              categories                city  \\\n",
       "72                                            Restaurant  Hilton Head Island   \n",
       "242                                           Restaurant         Minneapolis   \n",
       "243                                           Restaurant         Minneapolis   \n",
       "259    Bistro,American Restaurant,New American Restau...              Mebane   \n",
       "261    Bistro,American Restaurant,New American Restau...              Mebane   \n",
       "...                                                  ...                 ...   \n",
       "76997                                         Restaurant         Weatherford   \n",
       "76998                                         Restaurant         Weatherford   \n",
       "76999                                         Restaurant         Weatherford   \n",
       "77000                                         Restaurant           Mansfield   \n",
       "77014                                         Restaurant              Irving   \n",
       "\n",
       "                                                cuisines  \\\n",
       "72                               Japanese, Thai, Hibachi   \n",
       "242              American, Bar / Lounge / Bottle Service   \n",
       "243              American, Bar / Lounge / Bottle Service   \n",
       "259    American Restaurants,American, Contemporary Am...   \n",
       "261    American Restaurants,American, Contemporary Am...   \n",
       "...                                                  ...   \n",
       "76997                                            Mexican   \n",
       "76998                                            Mexican   \n",
       "76999                                            Mexican   \n",
       "77000                         Mexican, American, Seafood   \n",
       "77014                               Steakhouse, American   \n",
       "\n",
       "                  dateAdded           dateUpdated   latitude  longitude  \\\n",
       "72     2015-10-19T20:43:35Z  2016-08-22T11:22:45Z  32.212044 -80.701132   \n",
       "242    2016-08-01T19:18:23Z  2016-08-22T11:27:55Z  44.954945 -93.288246   \n",
       "243    2016-08-01T19:18:23Z  2016-08-22T11:27:55Z  44.954945 -93.288246   \n",
       "259    2016-03-31T02:34:19Z  2017-07-03T17:12:10Z  36.097057 -79.267750   \n",
       "261    2016-03-31T02:34:19Z  2017-07-03T17:12:10Z  36.097057 -79.267750   \n",
       "...                     ...                   ...        ...        ...   \n",
       "76997  2017-06-29T14:55:32Z  2017-06-29T14:55:32Z  32.752010 -97.669332   \n",
       "76998  2017-06-29T14:55:32Z  2017-06-29T14:55:32Z  32.752010 -97.669332   \n",
       "76999  2017-06-29T14:55:32Z  2017-06-29T14:55:32Z  32.752010 -97.669332   \n",
       "77000  2017-06-29T14:55:31Z  2017-06-29T14:55:31Z  32.594093 -97.106282   \n",
       "77014  2017-06-29T14:55:32Z  2017-06-29T14:55:32Z  32.862452 -96.959246   \n",
       "\n",
       "             menus.category menus.currency            menus.dateSeen  \\\n",
       "72     Appetizers Sushi Bar            USD      2016-08-20T00:00:00Z   \n",
       "242             Main Course            USD      2016-08-20T00:00:00Z   \n",
       "243             Main Course            USD      2016-08-20T00:00:00Z   \n",
       "259                    Main            USD      2016-04-24T00:00:00Z   \n",
       "261                Starters            USD      2016-04-24T00:00:00Z   \n",
       "...                     ...            ...                       ...   \n",
       "76997                  Main            USD  2017-06-28T17:41:09.905Z   \n",
       "76998                  Main            USD  2017-06-28T17:41:09.905Z   \n",
       "76999                  Main            USD  2017-06-28T17:41:09.905Z   \n",
       "77000     Ensaladas  Salads            USD  2017-06-28T17:33:26.597Z   \n",
       "77014                   Air            USD  2017-06-28T17:36:57.862Z   \n",
       "\n",
       "                                       menus.description  \\\n",
       "72     Pepper tuna, pepper white tuna, spicy crab mea...   \n",
       "242    Main i pico slaw i radish i cilantro-lime crem...   \n",
       "243    Blackened organic tempeh i tempeh chorizo i pi...   \n",
       "259    Grilled or blackened with house made tortilla,...   \n",
       "261    Slow cooked leg of duck, house made tortilla w...   \n",
       "...                                                  ...   \n",
       "76997  A new favorite Slowsmoked brisket, served in y...   \n",
       "76998  The chefs favorite when he is too busy to sit ...   \n",
       "76999  With chili con queso, Spanish rice and refried...   \n",
       "77000  Seasoned picadillo beef served with fresh mixe...   \n",
       "77014  peppers onions jack cheese flour tortilla sour...   \n",
       "\n",
       "                        menus.name                                name  \\\n",
       "72                       Taco Tara                    Okko Hilton Head   \n",
       "242           Blackened Fish Tacos   French Meadow Cafe & Bluestem Bar   \n",
       "243         Blackened Tempeh Tacos   French Meadow Cafe & Bluestem Bar   \n",
       "259            Shrimp or Mahi Taco               Mebane Downtown Table   \n",
       "261              Duck Confit Tacos               Mebane Downtown Table   \n",
       "...                            ...                                 ...   \n",
       "76997                Brisket Tacos                 Los Vaqueros - West   \n",
       "76998         Johnnys Burrito Bowl                 Los Vaqueros - West   \n",
       "76999  One Beef or Chicken Burrito                 Los Vaqueros - West   \n",
       "77000                Ensalada Taco  El Primo's Mexican Grill & Cantina   \n",
       "77014       Beer Can Chicken Tacos          LAW at Four Seasons Dallas   \n",
       "\n",
       "      province  \n",
       "72          SC  \n",
       "242         MN  \n",
       "243         MN  \n",
       "259         NC  \n",
       "261         NC  \n",
       "...        ...  \n",
       "76997       TX  \n",
       "76998       TX  \n",
       "76999       TX  \n",
       "77000       TX  \n",
       "77014       TX  \n",
       "\n",
       "[1925 rows x 16 columns]"
      ]
     },
     "execution_count": 6,
     "metadata": {},
     "output_type": "execute_result"
    }
   ],
   "source": [
    "df.dropna()"
   ]
  },
  {
   "cell_type": "markdown",
   "id": "2d324ee2",
   "metadata": {},
   "source": [
    "### 6\n",
    "    Отберите заведения, которые находятся в городе Калифорния ('California'), штат Миссури. \n",
    "    Укажите индексы, под которыми полученные заведения расположены в датафрейме, через запятую и пробел в порядке возрастания. "
   ]
  },
  {
   "cell_type": "code",
   "execution_count": 7,
   "id": "1c52aa12",
   "metadata": {
    "ExecuteTime": {
     "end_time": "2022-12-27T20:21:35.101476Z",
     "start_time": "2022-12-27T20:21:35.084868Z"
    }
   },
   "outputs": [
    {
     "name": "stdout",
     "output_type": "stream",
     "text": [
      "[40483, 52930, 52931, 52932, 52933, 52934, 52935, 52936, 52937, 52938, 52939, 65070]\n"
     ]
    }
   ],
   "source": [
    "print(list(df[df.city == 'California'].index.sort_values()))"
   ]
  },
  {
   "cell_type": "markdown",
   "id": "14986c21",
   "metadata": {},
   "source": [
    "### 7.\n",
    "Отберите заведения `Taco Bell` в городе `Калифорния ('California'), штат Миссури.`\n",
    "\n",
    "Укажите `индексы` этих заведений через запятую и пробел в порядке возрастания."
   ]
  },
  {
   "cell_type": "code",
   "execution_count": 18,
   "id": "cf9b0dae",
   "metadata": {},
   "outputs": [
    {
     "name": "stdout",
     "output_type": "stream",
     "text": [
      "[52930, 52931, 52932, 52933, 52934, 52935, 52936, 52937, 52938, 52939]\n"
     ]
    }
   ],
   "source": [
    "print(list(df[(df.name == 'Taco Bell') & (df.city == 'California')].index.sort_values()))"
   ]
  },
  {
   "cell_type": "markdown",
   "id": "37f75fe6",
   "metadata": {},
   "source": [
    "### 9."
   ]
  },
  {
   "cell_type": "code",
   "execution_count": 42,
   "id": "1d790f7c",
   "metadata": {
    "scrolled": true
   },
   "outputs": [
    {
     "name": "stdout",
     "output_type": "stream",
     "text": [
      "<class 'pandas.core.frame.DataFrame'>\n",
      "Int64Index: 40511 entries, 15 to 77259\n",
      "Data columns (total 16 columns):\n",
      " #   Column             Non-Null Count  Dtype  \n",
      "---  ------             --------------  -----  \n",
      " 0   id                 40511 non-null  object \n",
      " 1   address            40511 non-null  object \n",
      " 2   categories         40511 non-null  object \n",
      " 3   city               40511 non-null  object \n",
      " 4   cuisines           19385 non-null  object \n",
      " 5   dateAdded          40511 non-null  object \n",
      " 6   dateUpdated        40511 non-null  object \n",
      " 7   latitude           27382 non-null  float64\n",
      " 8   longitude          27382 non-null  float64\n",
      " 9   menus.category     3148 non-null   object \n",
      " 10  menus.currency     40511 non-null  object \n",
      " 11  menus.dateSeen     40511 non-null  object \n",
      " 12  menus.description  17257 non-null  object \n",
      " 13  menus.name         40511 non-null  object \n",
      " 14  name               40508 non-null  object \n",
      " 15  province           40508 non-null  object \n",
      "dtypes: float64(2), object(14)\n",
      "memory usage: 5.3+ MB\n"
     ]
    }
   ],
   "source": [
    "# result4 = df.dropna()\n",
    "# result4[result4['menus.currency']]\n",
    "result = df[~df['menus.currency'].isna()]\n",
    "result.info()"
   ]
  },
  {
   "cell_type": "markdown",
   "id": "47e1d5c2",
   "metadata": {},
   "source": [
    "### 10\n",
    "\n",
    "`data['categories'] выдает Series, data[['categories']] выдает DataFrame. В обоих случаях тип данных object`"
   ]
  },
  {
   "cell_type": "code",
   "execution_count": 53,
   "id": "c8d95016",
   "metadata": {},
   "outputs": [
    {
     "data": {
      "text/html": [
       "<div>\n",
       "<style scoped>\n",
       "    .dataframe tbody tr th:only-of-type {\n",
       "        vertical-align: middle;\n",
       "    }\n",
       "\n",
       "    .dataframe tbody tr th {\n",
       "        vertical-align: top;\n",
       "    }\n",
       "\n",
       "    .dataframe thead th {\n",
       "        text-align: right;\n",
       "    }\n",
       "</style>\n",
       "<table border=\"1\" class=\"dataframe\">\n",
       "  <thead>\n",
       "    <tr style=\"text-align: right;\">\n",
       "      <th></th>\n",
       "      <th>categories</th>\n",
       "    </tr>\n",
       "  </thead>\n",
       "  <tbody>\n",
       "    <tr>\n",
       "      <th>0</th>\n",
       "      <td>Restaurant Delivery Service,Restaurants,Pizza,...</td>\n",
       "    </tr>\n",
       "    <tr>\n",
       "      <th>1</th>\n",
       "      <td>Restaurant Delivery Service,Restaurants,Pizza,...</td>\n",
       "    </tr>\n",
       "    <tr>\n",
       "      <th>2</th>\n",
       "      <td>Golf Course, American Restaurant, and Resort</td>\n",
       "    </tr>\n",
       "    <tr>\n",
       "      <th>3</th>\n",
       "      <td>Fast Food Restaurant</td>\n",
       "    </tr>\n",
       "    <tr>\n",
       "      <th>4</th>\n",
       "      <td>Mexican Restaurant Mid-City West,Mexican Resta...</td>\n",
       "    </tr>\n",
       "    <tr>\n",
       "      <th>...</th>\n",
       "      <td>...</td>\n",
       "    </tr>\n",
       "    <tr>\n",
       "      <th>77255</th>\n",
       "      <td>Restaurant</td>\n",
       "    </tr>\n",
       "    <tr>\n",
       "      <th>77256</th>\n",
       "      <td>Restaurant</td>\n",
       "    </tr>\n",
       "    <tr>\n",
       "      <th>77257</th>\n",
       "      <td>Restaurant</td>\n",
       "    </tr>\n",
       "    <tr>\n",
       "      <th>77258</th>\n",
       "      <td>Restaurant</td>\n",
       "    </tr>\n",
       "    <tr>\n",
       "      <th>77259</th>\n",
       "      <td>Restaurant</td>\n",
       "    </tr>\n",
       "  </tbody>\n",
       "</table>\n",
       "<p>77260 rows × 1 columns</p>\n",
       "</div>"
      ],
      "text/plain": [
       "                                              categories\n",
       "0      Restaurant Delivery Service,Restaurants,Pizza,...\n",
       "1      Restaurant Delivery Service,Restaurants,Pizza,...\n",
       "2           Golf Course, American Restaurant, and Resort\n",
       "3                                   Fast Food Restaurant\n",
       "4      Mexican Restaurant Mid-City West,Mexican Resta...\n",
       "...                                                  ...\n",
       "77255                                         Restaurant\n",
       "77256                                         Restaurant\n",
       "77257                                         Restaurant\n",
       "77258                                         Restaurant\n",
       "77259                                         Restaurant\n",
       "\n",
       "[77260 rows x 1 columns]"
      ]
     },
     "execution_count": 53,
     "metadata": {},
     "output_type": "execute_result"
    }
   ],
   "source": [
    "df[['categories']]"
   ]
  }
 ],
 "metadata": {
  "kernelspec": {
   "display_name": "Python 3 (ipykernel)",
   "language": "python",
   "name": "python3"
  },
  "language_info": {
   "codemirror_mode": {
    "name": "ipython",
    "version": 3
   },
   "file_extension": ".py",
   "mimetype": "text/x-python",
   "name": "python",
   "nbconvert_exporter": "python",
   "pygments_lexer": "ipython3",
   "version": "3.10.5"
  },
  "varInspector": {
   "cols": {
    "lenName": 16,
    "lenType": 16,
    "lenVar": 40
   },
   "kernels_config": {
    "python": {
     "delete_cmd_postfix": "",
     "delete_cmd_prefix": "del ",
     "library": "var_list.py",
     "varRefreshCmd": "print(var_dic_list())"
    },
    "r": {
     "delete_cmd_postfix": ") ",
     "delete_cmd_prefix": "rm(",
     "library": "var_list.r",
     "varRefreshCmd": "cat(var_dic_list()) "
    }
   },
   "types_to_exclude": [
    "module",
    "function",
    "builtin_function_or_method",
    "instance",
    "_Feature"
   ],
   "window_display": false
  }
 },
 "nbformat": 4,
 "nbformat_minor": 5
}
