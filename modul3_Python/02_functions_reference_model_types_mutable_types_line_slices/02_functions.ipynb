{
 "cells": [
  {
   "cell_type": "markdown",
   "metadata": {},
   "source": [
    "# Функции в Python\n",
    "\n",
    "Функция – это мини-программа внутри вашей основной программы, которая делает какую-то одну понятную вещь. Вы однажды описываете, что это за вещь, а потом ссылаетесь на это описание.\n",
    "\n",
    "Например, вы написали кусочек кода, который выполняет определенную задачу и вам ее дальше нужно использовать несколько раз. Вы можете просто объявить функцию, написать этот код, а дальше за место этого полотна кода писать только название этой функции и вызывать его.\n",
    "\n",
    "Т.е. функции нужны для переиспользования кода\n",
    "\n",
    "Сохранение действий в одно имя помогает разработке:\n",
    "\n",
    "     Уменьшается количество строк кода\n",
    "     Код разбивается на логические блоки, каждый из которых выполняет какую-то определенную цель\n",
    "     Проще производить отладку кода"
   ]
  },
  {
   "cell_type": "markdown",
   "metadata": {},
   "source": [
    "----\n",
    "```Жизнь функции```\n",
    " состоит из двух этапов: объявление и вызов.\n",
    "\n",
    "Объявление – это описание имени функции, всех входных значений, всех совершаемых функцией действий и возвращаемого результата.\n",
    "\n",
    "Когда функция определена, код в ней не запускается сам по себе. Для его выполнения необходимо сделать вызов функции. Вызывать функцию можно столько раз, сколько вам нужно."
   ]
  },
  {
   "cell_type": "code",
   "execution_count": 3,
   "metadata": {},
   "outputs": [
    {
     "name": "stdout",
     "output_type": "stream",
     "text": [
      "Hello, Antonio\n"
     ]
    }
   ],
   "source": [
    "def say_hello(name):\n",
    "    print(f'Hello, {name}')\n",
    "\n",
    "\n",
    "user_name = input('Please enter your name: ')\n",
    "say_hello(user_name)"
   ]
  },
  {
   "cell_type": "markdown",
   "metadata": {},
   "source": [
    "### Ключевое слово return\n",
    "\n",
    "По умолчанию функция ничего не вернёт обратно при завершении своей работы. Чтобы она возвращала значение после вызова, добавьте ключевое слово ```return``` в теле функции перед переменной, которую хотите вернуть:"
   ]
  },
  {
   "cell_type": "code",
   "execution_count": 4,
   "metadata": {},
   "outputs": [
    {
     "name": "stdout",
     "output_type": "stream",
     "text": [
      "True\n",
      "False\n"
     ]
    }
   ],
   "source": [
    "# определить четное число или нет\n",
    "def is_even(number):\n",
    "    if number % 2 == 0:\n",
    "        return True\n",
    "    else:\n",
    "        return False\n",
    "print(is_even(10))\n",
    "print(is_even(27))"
   ]
  },
  {
   "cell_type": "code",
   "execution_count": 27,
   "metadata": {},
   "outputs": [
    {
     "data": {
      "text/plain": [
       "[(1, 2), (5, 7), (3, 9)]"
      ]
     },
     "execution_count": 27,
     "metadata": {},
     "output_type": "execute_result"
    }
   ],
   "source": []
  },
  {
   "cell_type": "markdown",
   "metadata": {},
   "source": [
    "### Чем функции отличаются от циклов\n",
    "На первый взгляд кажется, что для набора повторяющихся операций уже есть циклы. \n",
    "Но функции несколько про другое: вместо того, что повторять набор операций сразу, они \"сохраняют\" этот набор под некоторым именем, чтобы дальше можно было по этому имени выполнить набор целиком. В примере с магазином мы все 6 операций сохранили бы под именем \"сходи в магазин\" и затем периодически бы вызывали этот набор через фразу \"сходи в магазин\"."
   ]
  },
  {
   "cell_type": "code",
   "execution_count": 30,
   "metadata": {},
   "outputs": [
    {
     "data": {
      "text/plain": [
       "40587"
      ]
     },
     "execution_count": 30,
     "metadata": {},
     "output_type": "execute_result"
    }
   ],
   "source": [
    "# Попробуем подсчитать прибыль по вкладу, как это делали в первом занятии, но через функции\n",
    "\n",
    "def balance_after_year(init_sum, interest_rate):\n",
    "    '''\n",
    "    Документацию в python принято писать в кавычках\n",
    "    Подсчет баланса через год\n",
    "    '''\n",
    "    return init_sum * (100 + interest_rate) / 100\n",
    "\n",
    "\n",
    "def full_profit(init_sum, interest_rate, years):\n",
    "    '''подсчет баланса через years лет'''\n",
    "    final_sum = init_sum\n",
    "    for i in range(years):\n",
    "        final_sum = balance_after_year(final_sum, interest_rate)\n",
    "    return final_sum - init_sum # чистая прибыль\n",
    "\n",
    "round(full_profit(120000, 6, 5))"
   ]
  }
 ],
 "metadata": {
  "kernelspec": {
   "display_name": "Python 3.10.6 64-bit",
   "language": "python",
   "name": "python3"
  },
  "language_info": {
   "codemirror_mode": {
    "name": "ipython",
    "version": 3
   },
   "file_extension": ".py",
   "mimetype": "text/x-python",
   "name": "python",
   "nbconvert_exporter": "python",
   "pygments_lexer": "ipython3",
   "version": "3.10.6"
  },
  "orig_nbformat": 4,
  "vscode": {
   "interpreter": {
    "hash": "916dbcbb3f70747c44a77c7bcd40155683ae19c65e1c03b4aa3499c5328201f1"
   }
  }
 },
 "nbformat": 4,
 "nbformat_minor": 2
}
