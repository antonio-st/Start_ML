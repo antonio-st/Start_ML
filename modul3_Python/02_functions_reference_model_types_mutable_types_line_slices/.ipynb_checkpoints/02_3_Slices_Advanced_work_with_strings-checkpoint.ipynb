{
 "cells": [
  {
   "cell_type": "markdown",
   "id": "7b0042a1",
   "metadata": {},
   "source": [
    "### > Срезы\n",
    "\n",
    "Срезы позволяют обрезать список, взяв лишь те элементы, которые нужны. Они работают по следующей схеме: list[НАЧАЛО:КОНЕЦ:ШАГ].\n",
    "\n",
    "    Начало — с какого элемента стоит начать (по умолчанию равно 0);\n",
    "    Конец — по какой элемент мы берем элементы (по умолчанию равно длине списка);\n",
    "    Шаг — с каким шагом берем элементы, к примеру каждый 2 или 3 (по умолчанию каждый 1)."
   ]
  },
  {
   "cell_type": "code",
   "execution_count": 2,
   "id": "5a51e7db",
   "metadata": {
    "ExecuteTime": {
     "end_time": "2023-01-15T19:48:23.130879Z",
     "start_time": "2023-01-15T19:48:23.123629Z"
    }
   },
   "outputs": [
    {
     "data": {
      "text/plain": [
       "[8, 3]"
      ]
     },
     "execution_count": 2,
     "metadata": {},
     "output_type": "execute_result"
    }
   ],
   "source": [
    "a = [1, 5, 8, 3, 4]\n",
    "\n",
    "a[2:4] # со второго по 5 не включительно"
   ]
  },
  {
   "cell_type": "code",
   "execution_count": 3,
   "id": "a24f0cdf",
   "metadata": {
    "ExecuteTime": {
     "end_time": "2023-01-15T19:48:41.173991Z",
     "start_time": "2023-01-15T19:48:41.167851Z"
    }
   },
   "outputs": [
    {
     "data": {
      "text/plain": [
       "[1, 5, 8, 3]"
      ]
     },
     "execution_count": 3,
     "metadata": {},
     "output_type": "execute_result"
    }
   ],
   "source": [
    "a[:4] # по 5 не включительно"
   ]
  },
  {
   "cell_type": "code",
   "execution_count": 4,
   "id": "6736cc04",
   "metadata": {
    "ExecuteTime": {
     "end_time": "2023-01-15T19:50:35.441101Z",
     "start_time": "2023-01-15T19:50:35.433686Z"
    }
   },
   "outputs": [
    {
     "data": {
      "text/plain": [
       "[8, 3, 4]"
      ]
     },
     "execution_count": 4,
     "metadata": {},
     "output_type": "execute_result"
    }
   ],
   "source": [
    "a [2:] # c 3го до конца списка"
   ]
  },
  {
   "cell_type": "code",
   "execution_count": 5,
   "id": "2ffd3cee",
   "metadata": {
    "ExecuteTime": {
     "end_time": "2023-01-15T19:51:22.853416Z",
     "start_time": "2023-01-15T19:51:22.846456Z"
    }
   },
   "outputs": [
    {
     "data": {
      "text/plain": [
       "[5, 8, 3]"
      ]
     },
     "execution_count": 5,
     "metadata": {},
     "output_type": "execute_result"
    }
   ],
   "source": [
    "a[1:-1] # со второго по предпоследний"
   ]
  },
  {
   "cell_type": "code",
   "execution_count": 6,
   "id": "d09c3b1d",
   "metadata": {
    "ExecuteTime": {
     "end_time": "2023-01-15T19:52:09.887370Z",
     "start_time": "2023-01-15T19:52:09.883797Z"
    }
   },
   "outputs": [
    {
     "data": {
      "text/plain": [
       "[3]"
      ]
     },
     "execution_count": 6,
     "metadata": {},
     "output_type": "execute_result"
    }
   ],
   "source": [
    "a[-2:-1] # второй с конца"
   ]
  },
  {
   "cell_type": "code",
   "execution_count": 7,
   "id": "870067d8",
   "metadata": {
    "ExecuteTime": {
     "end_time": "2023-01-15T19:53:49.073828Z",
     "start_time": "2023-01-15T19:53:49.065156Z"
    }
   },
   "outputs": [
    {
     "data": {
      "text/plain": [
       "[5, 3]"
      ]
     },
     "execution_count": 7,
     "metadata": {},
     "output_type": "execute_result"
    }
   ],
   "source": [
    "a[1:4:2] # третий аргумент - шаг, его можно пропустить"
   ]
  },
  {
   "cell_type": "code",
   "execution_count": 8,
   "id": "1404ebd3",
   "metadata": {
    "ExecuteTime": {
     "end_time": "2023-01-15T19:54:30.745058Z",
     "start_time": "2023-01-15T19:54:30.741252Z"
    }
   },
   "outputs": [
    {
     "data": {
      "text/plain": [
       "[1, 8, 4]"
      ]
     },
     "execution_count": 8,
     "metadata": {},
     "output_type": "execute_result"
    }
   ],
   "source": [
    "a[::2]"
   ]
  },
  {
   "cell_type": "code",
   "execution_count": 9,
   "id": "dfd959e8",
   "metadata": {
    "ExecuteTime": {
     "end_time": "2023-01-15T19:54:51.835594Z",
     "start_time": "2023-01-15T19:54:51.832039Z"
    }
   },
   "outputs": [
    {
     "data": {
      "text/plain": [
       "[4, 3, 8, 5, 1]"
      ]
     },
     "execution_count": 9,
     "metadata": {},
     "output_type": "execute_result"
    }
   ],
   "source": [
    "a[::-1] # разворот списка"
   ]
  },
  {
   "cell_type": "code",
   "execution_count": 10,
   "id": "c65f0d94",
   "metadata": {
    "ExecuteTime": {
     "end_time": "2023-01-15T19:55:22.513639Z",
     "start_time": "2023-01-15T19:55:22.509970Z"
    }
   },
   "outputs": [
    {
     "data": {
      "text/plain": [
       "[4, 8, 1]"
      ]
     },
     "execution_count": 10,
     "metadata": {},
     "output_type": "execute_result"
    }
   ],
   "source": [
    "a[::-2] # с конца каждый 2й"
   ]
  },
  {
   "cell_type": "code",
   "execution_count": 11,
   "id": "1cc74ae9",
   "metadata": {
    "ExecuteTime": {
     "end_time": "2023-01-15T19:56:37.682889Z",
     "start_time": "2023-01-15T19:56:37.675312Z"
    },
    "scrolled": false
   },
   "outputs": [
    {
     "data": {
      "text/plain": [
       "[3, 8]"
      ]
     },
     "execution_count": 11,
     "metadata": {},
     "output_type": "execute_result"
    }
   ],
   "source": [
    "a[3:1:-1] # в квадратных скобках индексы задаются от неразвернутого листа\n",
    "# тут левый конец больше правого - при обратном порядке это нормально"
   ]
  },
  {
   "cell_type": "markdown",
   "id": "7669cb6f",
   "metadata": {},
   "source": [
    "`срезы работают над кортежами и строками`"
   ]
  },
  {
   "cell_type": "code",
   "execution_count": 12,
   "id": "bfa9faea",
   "metadata": {
    "ExecuteTime": {
     "end_time": "2023-01-15T19:58:22.704427Z",
     "start_time": "2023-01-15T19:58:22.696903Z"
    }
   },
   "outputs": [
    {
     "data": {
      "text/plain": [
       "(5, 9)"
      ]
     },
     "execution_count": 12,
     "metadata": {},
     "output_type": "execute_result"
    }
   ],
   "source": [
    "(1, 5, 9)[1:]"
   ]
  },
  {
   "cell_type": "code",
   "execution_count": null,
   "id": "6d7dedfe",
   "metadata": {},
   "outputs": [],
   "source": [
    "'hello'[:1:-1]"
   ]
  },
  {
   "cell_type": "markdown",
   "id": "99ca15f5",
   "metadata": {},
   "source": [
    "## Продвинутая работа со строками"
   ]
  },
  {
   "cell_type": "code",
   "execution_count": 15,
   "id": "b8532ad2",
   "metadata": {
    "ExecuteTime": {
     "end_time": "2023-01-15T20:00:50.564807Z",
     "start_time": "2023-01-15T20:00:50.557698Z"
    }
   },
   "outputs": [
    {
     "name": "stdout",
     "output_type": "stream",
     "text": [
      "True\n",
      "False\n"
     ]
    }
   ],
   "source": [
    "# проверка вхождения символа в строку\n",
    "print('l' in 'hello')\n",
    "print('w' in 'hello')"
   ]
  },
  {
   "cell_type": "code",
   "execution_count": 17,
   "id": "c34d357c",
   "metadata": {
    "ExecuteTime": {
     "end_time": "2023-01-15T20:02:25.789220Z",
     "start_time": "2023-01-15T20:02:25.783424Z"
    }
   },
   "outputs": [
    {
     "name": "stdout",
     "output_type": "stream",
     "text": [
      "hello\n",
      "HELLO\n"
     ]
    }
   ],
   "source": [
    "print('heLLo'.lower()) # в мал регистр\n",
    "print('heLLo'.upper()) # в заглавный регистр"
   ]
  },
  {
   "cell_type": "code",
   "execution_count": 18,
   "id": "7f2497c9",
   "metadata": {
    "ExecuteTime": {
     "end_time": "2023-01-15T20:04:01.512926Z",
     "start_time": "2023-01-15T20:04:01.504132Z"
    }
   },
   "outputs": [
    {
     "name": "stdout",
     "output_type": "stream",
     "text": [
      "True\n"
     ]
    }
   ],
   "source": [
    "print('HELLO'.isupper()) # в верхнем ли регистре?"
   ]
  },
  {
   "cell_type": "code",
   "execution_count": 19,
   "id": "7b773ccd",
   "metadata": {
    "ExecuteTime": {
     "end_time": "2023-01-15T20:04:52.759406Z",
     "start_time": "2023-01-15T20:04:52.750722Z"
    }
   },
   "outputs": [
    {
     "data": {
      "text/plain": [
       "'Slices Advanced work with strings'"
      ]
     },
     "execution_count": 19,
     "metadata": {},
     "output_type": "execute_result"
    }
   ],
   "source": [
    "'Slices_Advanced_work_with_strings'.replace('_', ' ') # замена символов"
   ]
  },
  {
   "cell_type": "code",
   "execution_count": 21,
   "id": "2d814b4d",
   "metadata": {
    "ExecuteTime": {
     "end_time": "2023-01-15T20:05:52.087103Z",
     "start_time": "2023-01-15T20:05:52.080613Z"
    }
   },
   "outputs": [
    {
     "data": {
      "text/plain": [
       "['Slices', 'Advanced', 'work', 'with', 'strings']"
      ]
     },
     "execution_count": 21,
     "metadata": {},
     "output_type": "execute_result"
    }
   ],
   "source": [
    "'Slices_Advanced_work_with_strings'.replace('_', ' ').split() # split разбивает строку на список, по умолчанию по пробелам"
   ]
  },
  {
   "cell_type": "code",
   "execution_count": 22,
   "id": "ea2fd6c8",
   "metadata": {
    "ExecuteTime": {
     "end_time": "2023-01-15T20:07:28.619345Z",
     "start_time": "2023-01-15T20:07:18.484282Z"
    }
   },
   "outputs": [
    {
     "name": "stdout",
     "output_type": "stream",
     "text": [
      "Антон Богданов\n"
     ]
    }
   ],
   "source": [
    "\"\"\"распаковка списка\"\"\"\n",
    "\n",
    "name, surname = input().split()"
   ]
  },
  {
   "cell_type": "code",
   "execution_count": 23,
   "id": "0452f5ec",
   "metadata": {
    "ExecuteTime": {
     "end_time": "2023-01-15T20:08:05.903712Z",
     "start_time": "2023-01-15T20:08:05.901037Z"
    }
   },
   "outputs": [
    {
     "name": "stdout",
     "output_type": "stream",
     "text": [
      "Антон Богданов\n"
     ]
    }
   ],
   "source": [
    "print(f'{name} {surname}')"
   ]
  },
  {
   "cell_type": "code",
   "execution_count": 24,
   "id": "3dd6fa52",
   "metadata": {
    "ExecuteTime": {
     "end_time": "2023-01-15T20:08:36.148690Z",
     "start_time": "2023-01-15T20:08:36.139780Z"
    }
   },
   "outputs": [
    {
     "data": {
      "text/plain": [
       "'После опознания текста много    пробелов'"
      ]
     },
     "execution_count": 24,
     "metadata": {},
     "output_type": "execute_result"
    }
   ],
   "source": [
    "# Убрать мусорные пробелы вокруг строки (но не внутри!)\n",
    "'   После опознания текста много    пробелов     '.strip()"
   ]
  },
  {
   "cell_type": "code",
   "execution_count": 26,
   "id": "f37f04ec",
   "metadata": {
    "ExecuteTime": {
     "end_time": "2023-01-15T20:09:39.293543Z",
     "start_time": "2023-01-15T20:09:39.286517Z"
    }
   },
   "outputs": [
    {
     "data": {
      "text/plain": [
       "['После', 'опознания', 'текста', 'много', 'пробелов']"
      ]
     },
     "execution_count": 26,
     "metadata": {},
     "output_type": "execute_result"
    }
   ],
   "source": [
    "bad_string = '   После опознания текста много    пробелов     '.strip().split() # убрать пробелы , разбить по словам\n",
    "bad_string"
   ]
  },
  {
   "cell_type": "code",
   "execution_count": 29,
   "id": "05eb38c3",
   "metadata": {
    "ExecuteTime": {
     "end_time": "2023-01-15T20:12:14.930289Z",
     "start_time": "2023-01-15T20:12:14.922750Z"
    }
   },
   "outputs": [
    {
     "data": {
      "text/plain": [
       "['После', 'опознания', 'текста', 'много', 'пробелов']"
      ]
     },
     "execution_count": 29,
     "metadata": {},
     "output_type": "execute_result"
    }
   ],
   "source": [
    "# можно и посложнее\n",
    "bad_string = '   После опознания текста много    пробелов     '\n",
    "result = []\n",
    "for word in (bad_string.strip()).split():\n",
    "    result.append(word)\n",
    "result"
   ]
  },
  {
   "cell_type": "markdown",
   "id": "88e7ce63",
   "metadata": {},
   "source": [
    "[Подробнее](https://pythonworld.ru/tipy-dannyx-v-python/stroki-funkcii-i-metody-strok.html)"
   ]
  }
 ],
 "metadata": {
  "kernelspec": {
   "display_name": "Python 3 (ipykernel)",
   "language": "python",
   "name": "python3"
  },
  "language_info": {
   "codemirror_mode": {
    "name": "ipython",
    "version": 3
   },
   "file_extension": ".py",
   "mimetype": "text/x-python",
   "name": "python",
   "nbconvert_exporter": "python",
   "pygments_lexer": "ipython3",
   "version": "3.10.6"
  },
  "varInspector": {
   "cols": {
    "lenName": 16,
    "lenType": 16,
    "lenVar": 40
   },
   "kernels_config": {
    "python": {
     "delete_cmd_postfix": "",
     "delete_cmd_prefix": "del ",
     "library": "var_list.py",
     "varRefreshCmd": "print(var_dic_list())"
    },
    "r": {
     "delete_cmd_postfix": ") ",
     "delete_cmd_prefix": "rm(",
     "library": "var_list.r",
     "varRefreshCmd": "cat(var_dic_list()) "
    }
   },
   "types_to_exclude": [
    "module",
    "function",
    "builtin_function_or_method",
    "instance",
    "_Feature"
   ],
   "window_display": false
  }
 },
 "nbformat": 4,
 "nbformat_minor": 5
}
