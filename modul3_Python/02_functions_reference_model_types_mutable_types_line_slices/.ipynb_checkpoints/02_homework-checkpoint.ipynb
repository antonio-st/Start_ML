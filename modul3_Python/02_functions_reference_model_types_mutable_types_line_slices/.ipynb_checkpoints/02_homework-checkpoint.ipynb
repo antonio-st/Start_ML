{
 "cells": [
  {
   "cell_type": "markdown",
   "id": "3ff5cc32",
   "metadata": {},
   "source": [
    "## 1\n",
    "\n",
    "Напишите функцию circle_square, которая принимает на вход радиус radius и возвращает (через return) площадь круга. Напомним, что для круга с радиусом r площадь S считается по формуле S=πr2. Считайте π=3.14"
   ]
  },
  {
   "cell_type": "code",
   "execution_count": 1,
   "id": "ea5a4507",
   "metadata": {
    "ExecuteTime": {
     "end_time": "2023-01-14T14:16:34.747791Z",
     "start_time": "2023-01-14T14:16:34.741593Z"
    }
   },
   "outputs": [
    {
     "data": {
      "text/plain": [
       "314.0"
      ]
     },
     "execution_count": 1,
     "metadata": {},
     "output_type": "execute_result"
    }
   ],
   "source": [
    "def circle_square(radius):\n",
    "    return 3.14 * (radius ** 2)\n",
    "\n",
    "circle_square(10)"
   ]
  },
  {
   "cell_type": "markdown",
   "id": "69de2fb3",
   "metadata": {},
   "source": [
    "## 2\n",
    "\n",
    "Функции\n",
    "\n",
    "Напишите функцию zip_, которая принимает на вход два списка и «сшивает» их следующим образом, например:\n",
    "\n",
    "Списки [1, 5, 3, 8, 35] и [2, 7, 9] превратятся в [(1, 2), (5, 7), (3, 9)], т. е. сначала берутся первые элементы первого и второго списков и собираются в кортеж, затем вторые элементы первого и второго списков и собираются в кортеж и т. д., пока не дошли до конца самого короткого списка. \n",
    "\n",
    "На выходе функция должна возвращать (return) «сшитый» список. Вам понадобится использовать цикл.\n"
   ]
  },
  {
   "cell_type": "code",
   "execution_count": 25,
   "id": "77e39099",
   "metadata": {
    "ExecuteTime": {
     "end_time": "2023-01-14T14:43:41.076781Z",
     "start_time": "2023-01-14T14:43:41.064985Z"
    },
    "scrolled": true
   },
   "outputs": [
    {
     "data": {
      "text/plain": [
       "[(2, 1), (7, 5), (9, 3), (10, 6), (11, 8)]"
      ]
     },
     "execution_count": 25,
     "metadata": {},
     "output_type": "execute_result"
    }
   ],
   "source": [
    "list1 = [2, 7, 9, 10, 11, 14, 17]\n",
    "list2 = [1, 5, 3, 6, 8]\n",
    "\n",
    "def zip_(list1, list2):\n",
    "    result = []\n",
    "    if len(list1) > len(list2):\n",
    "        len_list = len(list2)\n",
    "    else:\n",
    "        len_list = len(list1)\n",
    "    for i in range(len_list):\n",
    "        result.append((list1[i], list2[i]))\n",
    "    return result\n",
    "\n",
    "zip_(list1, list2)"
   ]
  },
  {
   "cell_type": "markdown",
   "id": "8d9334f8",
   "metadata": {},
   "source": [
    "`* Материал со звездочкой`\n",
    "\n",
    "В Python есть функция, которая решает нашу задачу — она называется zip. Ее можно использовать как `for pair in zip(list_1, list_2)`.\n",
    "\n",
    "Вы можете использовать zip внутри своего решения, но мы советуем написать ее функционал самостоятельно через цикл, чтобы «прочуять»  работу данной функции.\n",
    "\n",
    "Более того, zip возвращает не совсем список, а объект, по которому можно пробежаться циклом for (такие объекты в Python называются итераторами). Чтобы получить привычный объект list, надо явно попросить Python достать элементы из итератора через код `list(zip(list_1, list_2))`."
   ]
  },
  {
   "cell_type": "code",
   "execution_count": 22,
   "id": "650296f6",
   "metadata": {
    "ExecuteTime": {
     "end_time": "2023-01-14T14:41:42.596324Z",
     "start_time": "2023-01-14T14:41:42.587680Z"
    }
   },
   "outputs": [
    {
     "data": {
      "text/plain": [
       "[(2, 1), (7, 5), (9, 3), (10, 6), (11, 8)]"
      ]
     },
     "execution_count": 22,
     "metadata": {},
     "output_type": "execute_result"
    }
   ],
   "source": [
    "list_zip = []\n",
    "for pair in zip(list1, list2):\n",
    "    list_zip.append(pair)\n",
    "list_zip"
   ]
  },
  {
   "attachments": {
    "image.png": {
     "image/png": "[encoded data removed]"
    }
   },
   "cell_type": "markdown",
   "id": "c9253311",
   "metadata": {},
   "source": [
    "## 3\n",
    "\n",
    "Функции\n",
    "\n",
    "Добавим аргументы по умолчанию.\n",
    "\n",
    "Вспомните пример с подсчетом банковского процента из урока 1. Напишите функцию final_balance, которая на вход принимает начальную сумму init_sum, процентную ставку interest_rate, количество лет years и округление round_num. Функция должна возвращать сумму по истечении этого срока.\n",
    "\n",
    "Аргумент функции round_num должен задавать, сколько значащих чисел после запятой оставлять. Так, при round_num = 2 сумма будет выводиться с точностью до копеек, при round_num = 0 - с точностью до рублей. При этом round_num может быть отрицательным! В таком случае округление будет грубее: round_num = -1 будет округлять до десятков рублей, round_num = -2 до сотен и т. д.\n",
    "\n",
    "Поставьте значение по умолчанию round_num, равное 2. Это соответствует округлению до копеек.\n",
    "\n",
    "Вам может пригодиться встроенная в Python функция round()\n",
    "\n",
    "Напишите функцию, вызовите ее последовательно для следующих параметров и верните результат из функции.\n",
    "\n",
    "![image.png](attachment:image.png)"
   ]
  },
  {
   "cell_type": "code",
   "execution_count": 8,
   "id": "0ea5a5c7",
   "metadata": {
    "ExecuteTime": {
     "end_time": "2023-01-14T18:21:43.916600Z",
     "start_time": "2023-01-14T18:21:43.909366Z"
    }
   },
   "outputs": [
    {
     "name": "stdout",
     "output_type": "stream",
     "text": [
      "1628.89\n",
      "1377.01\n"
     ]
    }
   ],
   "source": [
    "def final_balance(init_sum, interest_rate, years, round_num = 2):\n",
    "    return round(init_sum * ((100 + interest_rate) / 100) ** years, round_num)\n",
    "\n",
    "print(final_balance(1000, 5, 10, 2))\n",
    "print(final_balance(700, 7, 10, 2))\n"
   ]
  },
  {
   "cell_type": "markdown",
   "id": "49549fbc",
   "metadata": {},
   "source": [
    "## 4 \n",
    "\n",
    "> Уменьшаем дублирование кода\n",
    "\n",
    "Попробуем использовать функцию для сокращения количества кода. Для этого смоделируем ситуацию из практики.\n",
    "\n",
    "Ваш коллега придумал свой способ «генерации» данных. Для этого он предложил брать набор чисел, возводить их в куб, потом брать остаток от деления на 7, прибавлять к этому изначальный массив — и выдавать результат как «сгенерированные» данные.\n",
    "\n",
    "Например:\n",
    "```python\n",
    "    [1,2,3,4] -  изначальный массив\n",
    "    [1,8,27,64] - возвели все элементы в куб\n",
    "    [1,1,6,1] - оставили остатки при делении на 7\n",
    "    [2,3,9,5] - прибавили изначальный массив (1) к массиву (3)\n",
    "```\n",
    "Коллега был очень увлечен этой идеей и написал алгоритм, но он работает неправильно — коллега подсчитал на бумаге ожидаемый результат, и он не совпал с выводом программы.\n",
    "\n",
    "Коллега предлагает распечатать массив на каждом этапе, чтобы понять, где же ошибка. Увы, на сервере, где вы выполняете код, очень много чего печатается. Чтобы выделить именно ваш вывод и не запутаться, коллега предлагает печатать решетки вокруг. У коллеги уже есть код для печати массива:\n",
    "```python\n",
    "print(\"###\")\n",
    "print(array)\n",
    "print(\"###\")\n",
    "```\n",
    "Он просит вас встроить этот код везде, где изменяется переменная answer, и печатать answer таким образом.\n",
    "\n",
    "Код коллеги дан ниже. Распечатайте answer после каждого цикла и попробуйте найти ошибки в коде. Отправьте в LMS исправленную версию функции math_task  и её вызов с данными test_data.  В вашей функции должна происходить печать answer после каждого цикла.\n",
    "\n",
    "Не забудьте вызвать функцию math_task в конце!\n",
    "\n",
    "\n",
    "```python\n",
    "# много другого кода, который тоже печатает\n",
    "# ...\n",
    "# Код коллеги\n",
    "\n",
    "def math_task(data):\n",
    "    answer = []\n",
    "    # возводим в третью степень\n",
    "    for elem in data:\n",
    "        answer += [elem * 3]\n",
    "    # берем остаток от деления на 7\n",
    "    for i in range(len(answer)):\n",
    "        answer[i] = answer[i] % 5\n",
    "    # прибавляем к остатку изначальный массив\n",
    "    for i in range(len(answer)):\n",
    "        answer[i] = answer[i] + data[i]\n",
    "    # возвращаем результат\n",
    "    return answer\n",
    "\n",
    "math_task(test_data)\n",
    "# print(math_task([1, 4, 5, 9]))\n",
    "```"
   ]
  },
  {
   "cell_type": "code",
   "execution_count": 14,
   "id": "83f4aba7",
   "metadata": {
    "ExecuteTime": {
     "end_time": "2023-01-14T18:34:27.963985Z",
     "start_time": "2023-01-14T18:34:27.957265Z"
    }
   },
   "outputs": [
    {
     "name": "stdout",
     "output_type": "stream",
     "text": [
      "###\n",
      "[1, 8, 27, 64]\n",
      "###\n",
      "###\n",
      "[1, 1, 6, 1]\n",
      "###\n",
      "###\n",
      "[2, 3, 9, 5]\n",
      "###\n"
     ]
    },
    {
     "data": {
      "text/plain": [
       "[2, 3, 9, 5]"
      ]
     },
     "execution_count": 14,
     "metadata": {},
     "output_type": "execute_result"
    }
   ],
   "source": [
    "# много другого кода, который тоже печатает\n",
    "# ...\n",
    "# Код коллеги\n",
    "test_data = [1, 2, 3, 4]\n",
    "\n",
    "def math_task(data):\n",
    "    answer = []\n",
    "    # возводим в третью степень\n",
    "    for elem in data:\n",
    "        answer += [elem ** 3]\n",
    "    print(\"###\")\n",
    "    print(answer)\n",
    "    print(\"###\")\n",
    "    # берем остаток от деления на 7\n",
    "    for i in range(len(answer)):\n",
    "        answer[i] = answer[i] % 7\n",
    "    print(\"###\")\n",
    "    print(answer)\n",
    "    print(\"###\")\n",
    "    # прибавляем к остатку изначальный массив\n",
    "    for i in range(len(answer)):\n",
    "        answer[i] = answer[i] + data[i]\n",
    "    print(\"###\")\n",
    "    print(answer)\n",
    "    print(\"###\")\n",
    "    # возвращаем результат\n",
    "    return answer\n",
    "\n",
    "math_task(test_data)\n",
    "    "
   ]
  },
  {
   "cell_type": "markdown",
   "id": "26635837",
   "metadata": {},
   "source": [
    "## 5\n",
    "\n",
    "Уменьшаем дублирование кода\n",
    "\n",
    "Вы заметили, что нам приходилось вставлять один и тот же код в два места в прошлом задании?\n",
    "\n",
    "Давайте избавимся от этого. Вынесите код печати массива в функцию print_array, затем поменяйте вашу исправленную реализацию math_task так, чтобы она использовала функцию print_array для печати массива. Ваш код в math_task станет меньше и не будет пестрить кучей строк с print.\n",
    "\n",
    "Отправьте в LMS две функции: `print_array и math_task`.\n",
    "\n",
    "Вызовите функцию `math_task` с данными `test_data`.\n"
   ]
  },
  {
   "cell_type": "code",
   "execution_count": 16,
   "id": "ea2ed98a",
   "metadata": {
    "ExecuteTime": {
     "end_time": "2023-01-14T18:40:21.335813Z",
     "start_time": "2023-01-14T18:40:21.323703Z"
    }
   },
   "outputs": [
    {
     "name": "stdout",
     "output_type": "stream",
     "text": [
      "###\n",
      "[1, 8, 27, 64]\n",
      "###\n",
      "###\n",
      "[1, 1, 6, 1]\n",
      "###\n",
      "###\n",
      "[2, 3, 9, 5]\n",
      "###\n"
     ]
    },
    {
     "data": {
      "text/plain": [
       "[2, 3, 9, 5]"
      ]
     },
     "execution_count": 16,
     "metadata": {},
     "output_type": "execute_result"
    }
   ],
   "source": [
    "def print_array(answer):\n",
    "    print(\"###\")\n",
    "    print(answer)\n",
    "    print(\"###\")\n",
    "\n",
    "test_data = [1, 2, 3, 4]\n",
    "\n",
    "def math_task(data):\n",
    "    answer = []\n",
    "    # возводим в третью степень\n",
    "    for elem in data:\n",
    "        answer += [elem ** 3]\n",
    "    print_array(answer)\n",
    "    # берем остаток от деления на 7\n",
    "    for i in range(len(answer)):\n",
    "        answer[i] = answer[i] % 7\n",
    "    print_array(answer)\n",
    "    # прибавляем к остатку изначальный массив\n",
    "    for i in range(len(answer)):\n",
    "        answer[i] = answer[i] + data[i]\n",
    "    print_array(answer)\n",
    "    # возвращаем результат\n",
    "    return answer\n",
    "\n",
    "math_task(test_data)"
   ]
  },
  {
   "cell_type": "markdown",
   "id": "ae99b5be",
   "metadata": {},
   "source": [
    "## 6\n",
    "\n",
    "Ошибки и их обработка\n",
    "\n",
    "На практике часто приходится иметь дело с данными из непроверенных источников. Эти данные могут быть неправильного формата, неправильного типа, «не читаться» и т.д. Помимо этого нашей программе может понадобиться выходить в Сеть за некоторыми данными (а Сеть ведь может быть недоступна) или подключаться к базе данных (а база данных может отказаться нас обслуживать).\n",
    "\n",
    "Все эти моменты могут сломать нашу программу. С ошибками Сети и баз данных мы научимся работать чуть позже. Пока будем учиться обрабатывать исключения в простых программах :)\n",
    "\n",
    "> Напишите функцию `sum_as_ints`, которая принимает на вход `список из строк`, пытается привести их к целому числу через int(element) и считает сумму. Список может содержать любые данные, но если они не приводятся через int(element), то программа должна их отбросить.\n",
    "\n",
    "Вы можете попробовать выполнить int(\"hello\"), int(\"3.14\"), int(\"2,2\") и увидеть, какие исключения выбрасывает программа. После этого можно обработать эти исключения у себя в функции."
   ]
  },
  {
   "cell_type": "code",
   "execution_count": 54,
   "id": "99767542",
   "metadata": {
    "ExecuteTime": {
     "end_time": "2023-01-14T19:21:39.121519Z",
     "start_time": "2023-01-14T19:21:39.109415Z"
    }
   },
   "outputs": [
    {
     "data": {
      "text/plain": [
       "42"
      ]
     },
     "execution_count": 54,
     "metadata": {},
     "output_type": "execute_result"
    }
   ],
   "source": [
    "my_list = ['hello', '2.5', '14', '28', 'test']\n",
    "\n",
    "def sum_as_ints(my_list):\n",
    "    sum_list = 0\n",
    "    for i in my_list:\n",
    "        try:\n",
    "            sum_list += int(i)\n",
    "        except ValueError:\n",
    "            continue\n",
    "    return sum_list\n",
    "\n",
    "sum_as_ints(my_list)"
   ]
  },
  {
   "cell_type": "markdown",
   "id": "4c743a5c",
   "metadata": {
    "ExecuteTime": {
     "end_time": "2023-01-14T18:50:58.222789Z",
     "start_time": "2023-01-14T18:50:58.203833Z"
    }
   },
   "source": [
    "### * Материал со звездочкой\n",
    "\n",
    "Учтите, конструкция try/except замедляет программу! Не надо в нее оборачивать весь код.\n",
    "\n",
    "Более того, для обработки данных чаще всего try/except можно заменить на if/else."
   ]
  },
  {
   "cell_type": "code",
   "execution_count": 58,
   "id": "418783d1",
   "metadata": {
    "ExecuteTime": {
     "end_time": "2023-01-14T19:24:39.982530Z",
     "start_time": "2023-01-14T19:24:39.977600Z"
    }
   },
   "outputs": [
    {
     "data": {
      "text/plain": [
       "42"
      ]
     },
     "execution_count": 58,
     "metadata": {},
     "output_type": "execute_result"
    }
   ],
   "source": [
    "def sum_as_ints2(my_list):\n",
    "    sum_list = 0\n",
    "    for i in range(len(my_list)):\n",
    "        if my_list[i].isdigit() == True: # замена try except на if , с функцией isdigit() определяющий число или нет передано в нее.\n",
    "            sum_list += int(my_list[i])\n",
    "        else:\n",
    "            continue\n",
    "    return sum_list\n",
    "\n",
    "sum_as_ints2(my_list)\n"
   ]
  },
  {
   "cell_type": "markdown",
   "id": "fe1e64b0",
   "metadata": {},
   "source": [
    "## 7\n",
    "\n",
    "Ссылочная модель данных\n",
    "\n",
    "Это задание стоит делать строго в том порядке, в котором оно в LMS.\n",
    "\n",
    "Вы — тех. директор на сложном проекте, и перед вами встала задача развернуть список. Вы поручили эту задачу коллеге.\n",
    "\n",
    "У вас в команде принята практика код-ревью — процедура, где другой программист смотрит код перед тем, как его слить в общую кодовую базу. Код-ревью полезно проводить, так как это позволяет отловить ошибки, опечатки, следить за читаемостью кода (взгляд со стороны не будет «замыленным»), а также держать коллег в курсе новых изменений проекта.\n",
    "\n",
    "Вам на код-ревью поступила такая реализация функции для разворота списка. Ваш коллега не очень любит срезы, поэтому он написал несколько элегантнее: поскольку pop() всегда возвращает последний элемент, можно его использовать для прочтения списка с конца:\n",
    "\n",
    "```python\n",
    "def reversed_(array):\n",
    "    rv = []\n",
    "    while array:\n",
    "        rv.append(array.pop())\n",
    "    return rv\n",
    "```\n",
    "Вы тестируете этот код и хотите проверить следующее свойство: если дважды применить эту функцию, то ничего не изменится. Для этого вы пишете проверочный код:\n",
    "```python\n",
    "if reversed_(reversed_([1, 2, 3])) == [1, 2, 3]:\n",
    "    print(\"Все хорошо\")\n",
    "else:\n",
    "    raise RuntimeError(\"Ошибка, после обращения дважды не получается исходный массив!\")\n",
    "```\n",
    "Вы замечаете, что повторяете самого себя: массив [1, 2, 3] написан дважды! Кажется, его лучше вынести в переменную:\n",
    "\n",
    "```python\n",
    "arr = [1, 2, 3]\n",
    "if reversed_(reversed_(arr)) == arr:\n",
    "    print(\"Все хорошо\")\n",
    "else:\n",
    "    raise RuntimeError(\"Ошибка, после обращения дважды не получается исходный массив!\")\n",
    "```\n",
    "Прочитайте внимательно и подумайте (не запуская код), как поведут себя оба варианта проверочного кода. Если на глаз ничего не замечается, можете запустить этот код в Jupyter. Попробуйте объяснить результат."
   ]
  },
  {
   "cell_type": "code",
   "execution_count": 103,
   "id": "d9d89f5c",
   "metadata": {
    "ExecuteTime": {
     "end_time": "2023-01-14T19:45:24.782776Z",
     "start_time": "2023-01-14T19:45:24.778790Z"
    }
   },
   "outputs": [
    {
     "data": {
      "text/plain": [
       "[3, 2, 1]"
      ]
     },
     "execution_count": 103,
     "metadata": {},
     "output_type": "execute_result"
    }
   ],
   "source": [
    "def reversed_(array):\n",
    "    rv = []\n",
    "    while array:\n",
    "        rv.append(array.pop())\n",
    "    return rv\n",
    "\n",
    "reversed_([1, 2, 3])"
   ]
  },
  {
   "cell_type": "code",
   "execution_count": 105,
   "id": "47d0eece",
   "metadata": {
    "ExecuteTime": {
     "end_time": "2023-01-14T19:46:32.590125Z",
     "start_time": "2023-01-14T19:46:32.583761Z"
    }
   },
   "outputs": [
    {
     "name": "stdout",
     "output_type": "stream",
     "text": [
      "Все хорошо\n"
     ]
    }
   ],
   "source": [
    "if reversed_(reversed_([1, 2, 3])) == [1, 2, 3]:\n",
    "    print(\"Все хорошо\")\n",
    "else:\n",
    "    raise RuntimeError(\"Ошибка, после обращения дважды не получается исходный массив!\")"
   ]
  },
  {
   "cell_type": "code",
   "execution_count": 106,
   "id": "51f91d81",
   "metadata": {
    "ExecuteTime": {
     "end_time": "2023-01-14T19:46:44.485052Z",
     "start_time": "2023-01-14T19:46:44.461660Z"
    }
   },
   "outputs": [
    {
     "ename": "RuntimeError",
     "evalue": "Ошибка, после обращения дважды не получается исходный массив!",
     "output_type": "error",
     "traceback": [
      "\u001b[0;31m---------------------------------------------------------------------------\u001b[0m",
      "\u001b[0;31mRuntimeError\u001b[0m                              Traceback (most recent call last)",
      "Cell \u001b[0;32mIn[106], line 5\u001b[0m\n\u001b[1;32m      3\u001b[0m     \u001b[38;5;28mprint\u001b[39m(\u001b[38;5;124m\"\u001b[39m\u001b[38;5;124mВсе хорошо\u001b[39m\u001b[38;5;124m\"\u001b[39m)\n\u001b[1;32m      4\u001b[0m \u001b[38;5;28;01melse\u001b[39;00m:\n\u001b[0;32m----> 5\u001b[0m     \u001b[38;5;28;01mraise\u001b[39;00m \u001b[38;5;167;01mRuntimeError\u001b[39;00m(\u001b[38;5;124m\"\u001b[39m\u001b[38;5;124mОшибка, после обращения дважды не получается исходный массив!\u001b[39m\u001b[38;5;124m\"\u001b[39m)\n",
      "\u001b[0;31mRuntimeError\u001b[0m: Ошибка, после обращения дважды не получается исходный массив!"
     ]
    }
   ],
   "source": [
    "arr = [1, 2, 3]\n",
    "if reversed_(reversed_(arr)) == arr:\n",
    "    print(\"Все хорошо\")\n",
    "else:\n",
    "    raise RuntimeError(\"Ошибка, после обращения дважды не получается исходный массив!\")"
   ]
  },
  {
   "cell_type": "markdown",
   "id": "d1110ebc",
   "metadata": {
    "ExecuteTime": {
     "end_time": "2023-01-14T19:44:47.840163Z",
     "start_time": "2023-01-14T19:44:47.833944Z"
    }
   },
   "source": [
    "- Функция разворота реализована верно, но имеет неприятный побочный эффект\n",
    "- Первый вариант отработает\n",
    "- Второй вариант не отработает"
   ]
  },
  {
   "cell_type": "markdown",
   "id": "e28f523c",
   "metadata": {},
   "source": [
    "## 8\n",
    "\n",
    "Ссылочная модель данных\n",
    "\n",
    "Напишите реализацию reversed_, в которой не будет проблемы из прошлого пункта.\n",
    "\n",
    "Оба варианта проверочного кода должны выдать Все хорошо.\n",
    "\n",
    "Проверочный код:\n",
    "```python\n",
    "if reversed_(reversed_([1, 2, 3])) == [1, 2, 3]:\n",
    "    print(\"Все хорошо\")\n",
    "else:\n",
    "    raise RuntimeError(\"Ошибка, после обращения дважды не получается исходный массив!\")\n",
    "\n",
    "arr = [1, 2, 3]\n",
    "if reversed_(reversed_(arr)) == arr:\n",
    "    print(\"Все хорошо\")\n",
    "else:\n",
    "    raise RuntimeError(\"Ошибка, после обращения дважды не получается исходный массив!\")\n",
    "```"
   ]
  },
  {
   "cell_type": "code",
   "execution_count": 111,
   "id": "125dae3d",
   "metadata": {
    "ExecuteTime": {
     "end_time": "2023-01-14T19:55:02.110002Z",
     "start_time": "2023-01-14T19:55:02.104746Z"
    }
   },
   "outputs": [
    {
     "name": "stdout",
     "output_type": "stream",
     "text": [
      "Все хорошо\n",
      "Все хорошо\n"
     ]
    }
   ],
   "source": [
    "arr = [1, 2, 3, 4, 5]\n",
    "\n",
    "def reversed_(my_list):\n",
    "    return my_list[::-1]\n",
    "\n",
    "if reversed_(reversed_([1, 2, 3])) == [1, 2, 3]:\n",
    "    print(\"Все хорошо\")\n",
    "else:\n",
    "    raise RuntimeError(\"Ошибка, после обращения дважды не получается исходный массив!\")\n",
    "\n",
    "arr = [1, 2, 3]\n",
    "if reversed_(reversed_(arr)) == arr:\n",
    "    print(\"Все хорошо\")\n",
    "else:\n",
    "    raise RuntimeError(\"Ошибка, после обращения дважды не получается исходный массив!\")"
   ]
  },
  {
   "cell_type": "markdown",
   "id": "b6b18e83",
   "metadata": {},
   "source": [
    "## 9\n",
    "\n",
    "Срезы\n",
    "\n",
    "В этом задании Вам понадобится написать функцию find_substr,  которая принимает на вход два аргумента: подстроку (любой длины) и строку, в которой нужно ее искать, и возвращает кортеж, представляющий собой пару [start, stop) первой позиции, где найдено слово.\n",
    "\n",
    "NB! Обратите внимание на скобки\n",
    "\n",
    "Например:\n",
    "```python\n",
    "find_substr(\"мы\", \"Летом мы хотим отдыхать на море\")\n",
    "Output:\n",
    "(6, 8) \n",
    "\n",
    "find_substr(\"ма\", \"маленькая машина\")\n",
    "Output:\n",
    "(0, 2)\n",
    "```"
   ]
  },
  {
   "cell_type": "code",
   "execution_count": 135,
   "id": "ba8c8c1f",
   "metadata": {
    "ExecuteTime": {
     "end_time": "2023-01-14T20:23:58.561301Z",
     "start_time": "2023-01-14T20:23:58.548626Z"
    }
   },
   "outputs": [
    {
     "data": {
      "text/plain": [
       "(6, 8)"
      ]
     },
     "execution_count": 135,
     "metadata": {},
     "output_type": "execute_result"
    }
   ],
   "source": [
    "string = 'Летом мы хотим отдыхать на море'\n",
    "substring = 'мы'\n",
    "\n",
    "def find_substr(substring, string):\n",
    "    find_str = ()\n",
    "    for i in range(len(string) - len(substring) + 1): \n",
    "#         print(i)\n",
    "#         print(string[i:i + len(substring)])\n",
    "        candidate = string[i:i + len(substring)]\n",
    "        if candidate == substring:\n",
    "            find_str = (i, i + len(substring))\n",
    "    return find_str\n",
    "\n",
    "find_substr(substring, string)"
   ]
  },
  {
   "cell_type": "markdown",
   "id": "e330d89f",
   "metadata": {},
   "source": [
    "## 10\n",
    "\n",
    "Срезы\n",
    "\n",
    "В этом задании вам потребуется написать функцию fifth_element, которая берет каждый пятый элемент списка в обратном порядке, начиная с пятого с конца и возвращает .\n",
    "\n",
    "Пример, как должна выглядить функция для сдачи задания\n",
    "```python\n",
    "def fifth_element(some_list: list) -> list:\n",
    "    ...\n",
    "```   \n",
    "\n",
    "Конструкция -> list в этом примере определяет тип возвращаемого значения. Это означает, что на выходе функции мы ожидаем получить список. Это называется аннотацией типов в Python, подробнее можно почитать об этом [здесь](https://pythonist.ru/annotaczii-tipov-python/).\n",
    "\n",
    "Не в качестве ответа на задачу, а для самопроверки, попробуйте использовать написанную вами функцию fifth_element для расшифровки следующего кода: \n",
    "\n",
    "['e',6,8,'A','>','^','S','$','R','C',6,'+','#',9,'/',1,'T','!','%','K',7,'-','O','*','<',2,'h',4,'g']"
   ]
  },
  {
   "cell_type": "code",
   "execution_count": 18,
   "id": "5530c4fb",
   "metadata": {
    "ExecuteTime": {
     "end_time": "2023-01-15T05:44:16.267843Z",
     "start_time": "2023-01-15T05:44:16.260168Z"
    }
   },
   "outputs": [
    {
     "data": {
      "text/plain": [
       "['<', 'K', '/', 'C', '>']"
      ]
     },
     "execution_count": 18,
     "metadata": {},
     "output_type": "execute_result"
    }
   ],
   "source": [
    "test_list = ['e',6,8,'A','>','^','S','$','R','C',6,'+','#',9,'/',1,'T','!','%','K',7,'-','O','*','<',2,'h',4,'g']\n",
    "def fifth_element(some_list: list) ->list:  # аннотация типов\n",
    "    return some_list[-5::-5]\n",
    "\n",
    "fifth_element(test_list)"
   ]
  },
  {
   "cell_type": "markdown",
   "id": "981a5cc5",
   "metadata": {},
   "source": [
    "## 11\n",
    "> Строки\n",
    "\n",
    "В этом задании потребуется написать функцию process_string, которая приводит строку[1:] к нижнему регистру и заменяет все слова 'intern' на 'junior'.\n",
    "```python\n",
    "def process_string(string):\n",
    "    <...>\n",
    "    return result\n",
    "```\n",
    "process_string('IIntern reads a lot of books')\n",
    "```\n",
    "Output:\n",
    "'junior reads a lot of books'\n",
    "```"
   ]
  },
  {
   "cell_type": "code",
   "execution_count": 29,
   "id": "73961cd3",
   "metadata": {
    "ExecuteTime": {
     "end_time": "2023-01-15T05:55:26.560179Z",
     "start_time": "2023-01-15T05:55:26.555754Z"
    }
   },
   "outputs": [
    {
     "data": {
      "text/plain": [
       "'junior start learn on job junior'"
      ]
     },
     "execution_count": 29,
     "metadata": {},
     "output_type": "execute_result"
    }
   ],
   "source": [
    "my_string = 'SinTErn start leARn on job INtern'\n",
    "\n",
    "def process_string(my_string: str) -> str: \n",
    "    return my_string[1:].lower().replace('intern', 'junior')\n",
    "process_string(my_string)"
   ]
  },
  {
   "cell_type": "markdown",
   "id": "71ded7bd",
   "metadata": {},
   "source": [
    "> Строки\n",
    "\n",
    "В этом задании необходимо написать функцию check_string, которая сначала проверят наличие лишних символов пробела слева и справа. Если есть лишние пробелы, то тогда мы считаем строку неверной. Затем проверяет, что только первое слово начинается с большой буквы, а остальные с маленькой, и в конце проводит проверку, что последний символ последнего элемента является точкой.\n",
    "```python\n",
    "def check_string(string):\n",
    "    <...>\n",
    "    return result\n",
    "\n",
    "check_string('В этом году будет особенно теплое море.')\n",
    "True\n",
    "check_string('В этом году будет особенно теплое Mоре.')\n",
    "False\n",
    "check_string('В этом году будет особенно теплое море')\n",
    "False\n",
    "check_string(' В этом году будет особенно теплое море')\n",
    "False\n",
    "```\n",
    "Если нужна помощь, напишите сюда.\n",
    "\n",
    "Подсказки"
   ]
  },
  {
   "cell_type": "code",
   "execution_count": 106,
   "id": "7cac39e2",
   "metadata": {
    "ExecuteTime": {
     "end_time": "2023-01-15T06:24:39.379834Z",
     "start_time": "2023-01-15T06:24:39.370933Z"
    }
   },
   "outputs": [
    {
     "data": {
      "text/plain": [
       "True"
      ]
     },
     "execution_count": 106,
     "metadata": {},
     "output_type": "execute_result"
    }
   ],
   "source": [
    "test_string = 'В этом году будет особенно теплое море.'\n",
    "\n",
    "def check_string(ch_string):\n",
    "    return (not ' ' in ch_string[0] and not ' ' in ch_string[-1]) and\\\n",
    "    (ch_string[0].isupper() and ch_string[1:].islower()) and\\\n",
    "    (ch_string[-1] == '.')\n",
    "check_string(test_string)"
   ]
  }
 ],
 "metadata": {
  "kernelspec": {
   "display_name": "Python 3 (ipykernel)",
   "language": "python",
   "name": "python3"
  },
  "language_info": {
   "codemirror_mode": {
    "name": "ipython",
    "version": 3
   },
   "file_extension": ".py",
   "mimetype": "text/x-python",
   "name": "python",
   "nbconvert_exporter": "python",
   "pygments_lexer": "ipython3",
   "version": "3.10.6"
  },
  "varInspector": {
   "cols": {
    "lenName": 16,
    "lenType": 16,
    "lenVar": 40
   },
   "kernels_config": {
    "python": {
     "delete_cmd_postfix": "",
     "delete_cmd_prefix": "del ",
     "library": "var_list.py",
     "varRefreshCmd": "print(var_dic_list())"
    },
    "r": {
     "delete_cmd_postfix": ") ",
     "delete_cmd_prefix": "rm(",
     "library": "var_list.r",
     "varRefreshCmd": "cat(var_dic_list()) "
    }
   },
   "types_to_exclude": [
    "module",
    "function",
    "builtin_function_or_method",
    "instance",
    "_Feature"
   ],
   "window_display": false
  }
 },
 "nbformat": 4,
 "nbformat_minor": 5
}
