{
 "cells": [
  {
   "cell_type": "markdown",
   "id": "555e1af4",
   "metadata": {},
   "source": [
    "## Функции\n",
    "\n",
    "Функция это мини программа, которая выполняет одну задачу.\n",
    "\n",
    "Жизнь функции состоит из двух этапов: **объявление и вызов.**\n",
    "#### return\n",
    "По умолчанию функция ничего не вернёт обратно при завершении своей работы. Чтобы она возвращала значение после вызова, добавьте ключевое слово return в теле функции перед переменной"
   ]
  },
  {
   "cell_type": "code",
   "execution_count": 3,
   "id": "9d269f4c",
   "metadata": {
    "ExecuteTime": {
     "end_time": "2023-01-15T08:38:11.502140Z",
     "start_time": "2023-01-15T08:38:08.181790Z"
    },
    "scrolled": true
   },
   "outputs": [
    {
     "name": "stdout",
     "output_type": "stream",
     "text": [
      "What is your name? > Anton\n",
      "Hi, Anton ! Welcome to functions!\n"
     ]
    }
   ],
   "source": [
    "def say_hello(name): # функция принимает переданное значение в свою внутреннюю переменную name\n",
    "    print(f'Hi, {name} ! Welcome to functions!') # выводим результат\n",
    "    \n",
    "you_name = input('What is your name? > ')\n",
    "say_hello(you_name) # вызов функции, передаем значение переменной you_name которая получила данные из input\n",
    "\n",
    "# можно немного короче\n",
    "# say_hello(input('What is your name? > '))"
   ]
  },
  {
   "cell_type": "markdown",
   "id": "a6db689e",
   "metadata": {},
   "source": [
    "#### Параметры\n",
    "— локальные переменные, которым присваиваются значения в момент ее вызова.`(number)`\n",
    "#### Аргументы\n",
    "— это информация, переданная в функцию. Они представляют собой настоящие значения, соответствующие параметрам, которые были указаны при объявлении функции.\\\n",
    "В функцию можно передавать *несколько аргументов*, разделив их запятыми.\n",
    "```python\n",
    "def name_and_age(name, age):\n",
    "    print(f\"I am {name} and I am {age} years old!\")\n",
    "```\n",
    "В этом примере параметрами являются name и age."
   ]
  },
  {
   "cell_type": "code",
   "execution_count": 11,
   "id": "7e36c8fd",
   "metadata": {
    "ExecuteTime": {
     "end_time": "2023-01-15T09:09:53.358490Z",
     "start_time": "2023-01-15T09:09:53.354580Z"
    }
   },
   "outputs": [
    {
     "name": "stdout",
     "output_type": "stream",
     "text": [
      "Число нечетное\n",
      "вы ввели ноль ...\n",
      "Число четное\n"
     ]
    }
   ],
   "source": [
    "# проверить четное число или нет\n",
    "\n",
    "def is_even(number):\n",
    "    if number == 0:\n",
    "        return 'вы ввели ноль ...'\n",
    "    elif number % 2 == 0:\n",
    "        return 'Число четное'\n",
    "    else:\n",
    "        return 'Число нечетное'\n",
    "\n",
    "# вызываем функцию на вход передаем 1 аргумент    \n",
    "print(is_even(25))    \n",
    "print(is_even(0))\n",
    "print(is_even(12))\n"
   ]
  },
  {
   "cell_type": "code",
   "execution_count": 16,
   "id": "a26f3638",
   "metadata": {
    "ExecuteTime": {
     "end_time": "2023-01-15T09:45:46.640659Z",
     "start_time": "2023-01-15T09:45:46.636892Z"
    }
   },
   "outputs": [
    {
     "data": {
      "text/plain": [
       "15762.5"
      ]
     },
     "execution_count": 16,
     "metadata": {},
     "output_type": "execute_result"
    }
   ],
   "source": [
    "\"\"\"расчет прибыли по банковскому вкладу\"\"\"\n",
    "\n",
    "def balance_after_a_year(init_sum, interest_rate):\n",
    "    \"\"\"подсчет баланса через год\"\"\"\n",
    "    return init_sum * (100 + interest_rate) / 100\n",
    "\n",
    "def full_profit(init_sum, interest_rate, years):\n",
    "    \"\"\"подсчет баланса через years лет\"\"\"\n",
    "    final_sum = init_sum\n",
    "    for i in range(years):\n",
    "        final_sum = balance_after_a_year(final_sum, interest_rate) # вызов функции в цикле за каждый год\n",
    "    return final_sum - init_sum # выводим чистую прибыль\n",
    "\n",
    "full_profit(100000, 5, 3)"
   ]
  },
  {
   "cell_type": "markdown",
   "id": "262988c4",
   "metadata": {},
   "source": [
    "### Аргументы по умолчанию"
   ]
  },
  {
   "cell_type": "code",
   "execution_count": 18,
   "id": "8ad1f922",
   "metadata": {
    "ExecuteTime": {
     "end_time": "2023-01-15T09:47:41.355205Z",
     "start_time": "2023-01-15T09:47:41.351296Z"
    }
   },
   "outputs": [
    {
     "data": {
      "text/plain": [
       "10000.0"
      ]
     },
     "execution_count": 18,
     "metadata": {},
     "output_type": "execute_result"
    }
   ],
   "source": [
    "def balance_after_a_year(init_sum, interest_rate):\n",
    "    \"\"\"подсчет баланса через год\"\"\"\n",
    "    return init_sum * (100 + interest_rate) / 100\n",
    "\n",
    "def full_profit(init_sum, interest_rate, years = 1): # аргумент по умолчанию = 1\n",
    "    \"\"\"подсчет баланса через years лет\"\"\"\n",
    "    final_sum = init_sum\n",
    "    for i in range(years):\n",
    "        final_sum = balance_after_a_year(final_sum, interest_rate) # вызов функции в цикле за каждый год\n",
    "    return final_sum - init_sum # выводим чистую прибыль\n",
    "\n",
    "full_profit(200000, 5) # при вызове функции можно опустить аргумент по умолчанию "
   ]
  },
  {
   "cell_type": "code",
   "execution_count": 22,
   "id": "d4f7689a",
   "metadata": {
    "ExecuteTime": {
     "end_time": "2023-01-15T09:53:31.187221Z",
     "start_time": "2023-01-15T09:53:31.179940Z"
    }
   },
   "outputs": [
    {
     "name": "stdout",
     "output_type": "stream",
     "text": [
      "Здравствуйте, Иван Иванович\n",
      "Здравствуйте, Максим Святогорович\n"
     ]
    }
   ],
   "source": [
    "def off_greeting(f_name = 'Иван', m_name = 'Иванович'):\n",
    "    return f'Здравствуйте, {f_name} {m_name}'\n",
    "    \n",
    "print(off_greeting()) # вызов функции без параметров\n",
    "print(off_greeting('Максим', 'Святогорович')) \n",
    "\n",
    "\"\"\"\n",
    "этот код вызовет ошибку, правее от аргумента по умолчанию так же должны быть указаны аргументы\n",
    "def off_greeting(f_name = 'Иван', m_name'):\n",
    "    return f'Здравствуйте, {f_name} {m_name}'\n",
    "\"\"\""
   ]
  },
  {
   "cell_type": "markdown",
   "id": "5e9f644d",
   "metadata": {},
   "source": [
    "### Call Stack и вызов в вызове\n",
    "\n",
    "Одна функция в ходе выполнения может вызывать другую функцию. <br> В этом случае выполнение «внешней» функции приостановится, Python запомнит ее состояние и уйдет выполнять «внутреннюю» функцию.\n",
    " \n",
    " Когда «внутренняя» функция закончит выполняться, Python вернется к «внешней» функции и продолжит ее выполнять с того места, где остановился."
   ]
  },
  {
   "cell_type": "code",
   "execution_count": 6,
   "id": "ccfab56c",
   "metadata": {
    "ExecuteTime": {
     "end_time": "2023-01-15T12:41:10.329374Z",
     "start_time": "2023-01-15T12:41:10.322347Z"
    }
   },
   "outputs": [
    {
     "name": "stdout",
     "output_type": "stream",
     "text": [
      "Печатаем num : 22\n",
      "Входим во внутреннюю функцию, передаем значение num\n",
      "Считаем a, по принятому значению num->m\n",
      "Возвращаем a = 121\n",
      "Вышли из внутр.функции, записали в k результат работы, напечатали k и num\n",
      "121 22\n"
     ]
    }
   ],
   "source": [
    "# внутренняя функция\n",
    "def inner_func(m):\n",
    "    print('Считаем a, по принятому значению num->m')\n",
    "    a = m // 2\n",
    "    a *= a\n",
    "    print(f'Возвращаем a = {a}')\n",
    "    return a\n",
    "\n",
    "# внешняя функция\n",
    "def outer_func(num):\n",
    "    num += 2\n",
    "    print(f'Печатаем num : {num}')\n",
    "    print('Входим во внутреннюю функцию, передаем значение num')\n",
    "    k = inner_func(num)\n",
    "    print('Вышли из внутр.функции, записали в k результат работы, напечатали k и num')\n",
    "    print(k, num)\n",
    "    \n",
    "outer_func(20)"
   ]
  },
  {
   "cell_type": "markdown",
   "id": "f552794a",
   "metadata": {},
   "source": [
    "### > Обработка ошибок в Python"
   ]
  }
 ],
 "metadata": {
  "kernelspec": {
   "display_name": "Python 3 (ipykernel)",
   "language": "python",
   "name": "python3"
  },
  "language_info": {
   "codemirror_mode": {
    "name": "ipython",
    "version": 3
   },
   "file_extension": ".py",
   "mimetype": "text/x-python",
   "name": "python",
   "nbconvert_exporter": "python",
   "pygments_lexer": "ipython3",
   "version": "3.10.6"
  },
  "varInspector": {
   "cols": {
    "lenName": 16,
    "lenType": 16,
    "lenVar": 40
   },
   "kernels_config": {
    "python": {
     "delete_cmd_postfix": "",
     "delete_cmd_prefix": "del ",
     "library": "var_list.py",
     "varRefreshCmd": "print(var_dic_list())"
    },
    "r": {
     "delete_cmd_postfix": ") ",
     "delete_cmd_prefix": "rm(",
     "library": "var_list.r",
     "varRefreshCmd": "cat(var_dic_list()) "
    }
   },
   "types_to_exclude": [
    "module",
    "function",
    "builtin_function_or_method",
    "instance",
    "_Feature"
   ],
   "window_display": false
  }
 },
 "nbformat": 4,
 "nbformat_minor": 5
}
