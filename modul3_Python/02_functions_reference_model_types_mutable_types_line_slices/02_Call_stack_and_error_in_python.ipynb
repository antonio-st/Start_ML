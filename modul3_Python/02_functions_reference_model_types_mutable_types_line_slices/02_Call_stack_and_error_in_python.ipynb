{
 "cells": [
  {
   "cell_type": "markdown",
   "metadata": {},
   "source": [
    "## `Вызов в вызове и call stack`\n",
    "\n",
    "аналогия с сумкой которую наполняют с низу вверх, потом, чтобы добраться до нижнего элемента, \n",
    "нужно вытащить все, что сверху."
   ]
  },
  {
   "cell_type": "code",
   "execution_count": 11,
   "metadata": {},
   "outputs": [
    {
     "name": "stdout",
     "output_type": "stream",
     "text": [
      "6\n",
      "выходим во внутреннюю функцию, внешняя останавливается\n",
      "Считаем a\n",
      "возвращаем a = 9 во внешнюю функцию и возвращаемся\n",
      "Печатаем k и num\n",
      "k = 9, num = 6\n"
     ]
    }
   ],
   "source": [
    "# call stack\n",
    "# внутренняя функция\n",
    "def inner_func(m):\n",
    "    print('Считаем a')\n",
    "    a = m // 2\n",
    "    a = a * a\n",
    "    print(f'возвращаем a = {a} во внешнюю функцию и возвращаемся')\n",
    "    return a\n",
    "\n",
    "# внешняя функция\n",
    "def outer_func(num):\n",
    "    num += 2\n",
    "    print(num)\n",
    "    print('выходим во внутреннюю функцию, внешняя останавливается')\n",
    "    k = inner_func(num)\n",
    "    print('Печатаем k и num')\n",
    "    print(f'k = {k}, num = {num}')\n",
    "\n",
    "outer_func(4)"
   ]
  },
  {
   "cell_type": "markdown",
   "metadata": {},
   "source": [
    "### `Ошибки в Python`\n",
    "\n",
    "exceptions в Python не являются \"ошибками\" в обычном понимании. Это скорее исключительные ситуации - когда программа не знает, что делать в возникшей ситуации, она выбрасывает исключение и прекращает свое выполнение, чтобы не навредить системе дальнейшими командами. Отсюда и название exception (с англ. _исключение_).\n",
    "\n",
    "### Базовый синтаксис\n",
    "Ошибки можно и нужно обрабатывать. Для этого в Python есть конструкция `try/except`:\n",
    "<br>[документация](https://docs.python.org/3/library/exceptions.html#concrete-exceptions)"
   ]
  },
  {
   "cell_type": "code",
   "execution_count": 24,
   "metadata": {},
   "outputs": [
    {
     "name": "stdout",
     "output_type": "stream",
     "text": [
      "Попытка делить на 0, я поймал ошибку и не дал пройти дальше!\n",
      "Пишем строку после опасного кода, т.к программа не упала\n"
     ]
    }
   ],
   "source": [
    "try:\n",
    "    1 / 0 # вводим опасные команды\n",
    "except ZeroDivisionError:\n",
    "    print('Попытка делить на 0, я поймал ошибку и не дал пройти дальше!')\n",
    "\n",
    "print('Пишем строку после опасного кода, т.к программа не упала')\n",
    "\n"
   ]
  },
  {
   "cell_type": "markdown",
   "metadata": {},
   "source": [
    "### `Обработка нескольких ошибок`\n",
    "\n",
    "> в try - except нужно оборачивать только потенциально опасный код!"
   ]
  },
  {
   "cell_type": "code",
   "execution_count": 34,
   "metadata": {},
   "outputs": [
    {
     "name": "stdout",
     "output_type": "stream",
     "text": [
      "2\n",
      "Кто-то разделил число на 0\n"
     ]
    }
   ],
   "source": [
    "a = [1, 0, 2]\n",
    "try:\n",
    "    print(a[2])\n",
    "    print(a[0] / a[1])\n",
    "\n",
    "except IndexError:\n",
    "    print('Такого элемента нет')\n",
    "    print('Выполнение команд остановлено')\n",
    "except ZeroDivisionError:\n",
    "    print('Кто-то разделил число на 0')"
   ]
  },
  {
   "cell_type": "markdown",
   "metadata": {},
   "source": [
    "### `Ленивая обработка ошибок`\n",
    "\n",
    "> так делать `не рекоммендуется`"
   ]
  },
  {
   "cell_type": "code",
   "execution_count": 38,
   "metadata": {},
   "outputs": [
    {
     "name": "stdout",
     "output_type": "stream",
     "text": [
      "Произошла какая-то ошибка\n"
     ]
    }
   ],
   "source": [
    "try:\n",
    "    print(1 / 0)\n",
    "except:\n",
    "    print('Произошла какая-то ошибка')"
   ]
  },
  {
   "cell_type": "markdown",
   "metadata": {},
   "source": [
    "### `Обработка ошибок в цикле`"
   ]
  },
  {
   "cell_type": "code",
   "execution_count": 42,
   "metadata": {},
   "outputs": [
    {
     "name": "stdout",
     "output_type": "stream",
     "text": [
      "Корректный вызов: 5 \n",
      "### Элемент не найден, печатаю все элементы ###\n",
      "### 1 ###\n",
      "### 2 ###\n",
      "### 3 ###\n",
      "Некорректный вызов: None \n"
     ]
    }
   ],
   "source": [
    "def get_second_element(array):\n",
    "    try:\n",
    "        return array[4]\n",
    "    except IndexError:\n",
    "        print('### Элемент не найден, печатаю все элементы ###')\n",
    "        for elem in array:\n",
    "            print(f'### {elem} ###')\n",
    "        return None\n",
    "\n",
    "print(f'Корректный вызов: {get_second_element((1, 2, 3, 4, 5))} ')\n",
    "print(f'Некорректный вызов: {get_second_element((1, 2, 3))} ')"
   ]
  }
 ],
 "metadata": {
  "kernelspec": {
   "display_name": "Python 3.10.6 64-bit",
   "language": "python",
   "name": "python3"
  },
  "language_info": {
   "codemirror_mode": {
    "name": "ipython",
    "version": 3
   },
   "file_extension": ".py",
   "mimetype": "text/x-python",
   "name": "python",
   "nbconvert_exporter": "python",
   "pygments_lexer": "ipython3",
   "version": "3.10.6"
  },
  "orig_nbformat": 4,
  "vscode": {
   "interpreter": {
    "hash": "916dbcbb3f70747c44a77c7bcd40155683ae19c65e1c03b4aa3499c5328201f1"
   }
  }
 },
 "nbformat": 4,
 "nbformat_minor": 2
}
