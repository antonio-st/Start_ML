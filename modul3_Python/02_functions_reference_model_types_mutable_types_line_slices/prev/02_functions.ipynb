{
 "cells": [
  {
   "cell_type": "markdown",
   "metadata": {},
   "source": [
    "# Функции в Python\n",
    "\n",
    "Функция – это мини-программа внутри вашей основной программы, которая делает какую-то одну понятную вещь. Вы однажды описываете, что это за вещь, а потом ссылаетесь на это описание.\n",
    "\n",
    "Например, вы написали кусочек кода, который выполняет определенную задачу и вам ее дальше нужно использовать несколько раз. Вы можете просто объявить функцию, написать этот код, а дальше за место этого полотна кода писать только название этой функции и вызывать его.\n",
    "\n",
    "Т.е. функции нужны для переиспользования кода\n",
    "\n",
    "Сохранение действий в одно имя помогает разработке:\n",
    "\n",
    "     Уменьшается количество строк кода\n",
    "     Код разбивается на логические блоки, каждый из которых выполняет какую-то определенную цель\n",
    "     Проще производить отладку кода"
   ]
  },
  {
   "cell_type": "markdown",
   "metadata": {},
   "source": [
    "----\n",
    "```Жизнь функции```\n",
    " состоит из двух этапов: объявление и вызов.\n",
    "\n",
    "Объявление – это описание имени функции, всех входных значений, всех совершаемых функцией действий и возвращаемого результата.\n",
    "\n",
    "Когда функция определена, код в ней не запускается сам по себе. Для его выполнения необходимо сделать вызов функции. Вызывать функцию можно столько раз, сколько вам нужно."
   ]
  },
  {
   "cell_type": "code",
   "execution_count": 3,
   "metadata": {},
   "outputs": [
    {
     "name": "stdout",
     "output_type": "stream",
     "text": [
      "Hello, Antonio\n"
     ]
    }
   ],
   "source": [
    "def say_hello(name):\n",
    "    print(f'Hello, {name}')\n",
    "\n",
    "\n",
    "user_name = input('Please enter your name: ')\n",
    "say_hello(user_name)"
   ]
  },
  {
   "cell_type": "markdown",
   "metadata": {},
   "source": [
    "### Ключевое слово return\n",
    "\n",
    "По умолчанию функция ничего не вернёт обратно при завершении своей работы. Чтобы она возвращала значение после вызова, добавьте ключевое слово ```return``` в теле функции перед переменной, которую хотите вернуть:"
   ]
  },
  {
   "cell_type": "code",
   "execution_count": 4,
   "metadata": {},
   "outputs": [
    {
     "name": "stdout",
     "output_type": "stream",
     "text": [
      "True\n",
      "False\n"
     ]
    }
   ],
   "source": [
    "# определить четное число или нет\n",
    "def is_even(number):\n",
    "    if number % 2 == 0:\n",
    "        return True\n",
    "    else:\n",
    "        return False\n",
    "print(is_even(10))\n",
    "print(is_even(27))"
   ]
  },
  {
   "cell_type": "code",
   "execution_count": 27,
   "metadata": {},
   "outputs": [
    {
     "data": {
      "text/plain": [
       "[(1, 2), (5, 7), (3, 9)]"
      ]
     },
     "execution_count": 27,
     "metadata": {},
     "output_type": "execute_result"
    }
   ],
   "source": []
  },
  {
   "cell_type": "markdown",
   "metadata": {},
   "source": [
    "### Чем функции отличаются от циклов\n",
    "На первый взгляд кажется, что для набора повторяющихся операций уже есть циклы. \n",
    "Но функции несколько про другое: вместо того, что повторять набор операций сразу, они \"сохраняют\" этот набор под некоторым именем, чтобы дальше можно было по этому имени выполнить набор целиком. В примере с магазином мы все 6 операций сохранили бы под именем \"сходи в магазин\" и затем периодически бы вызывали этот набор через фразу \"сходи в магазин\"."
   ]
  },
  {
   "cell_type": "code",
   "execution_count": 3,
   "metadata": {},
   "outputs": [
    {
     "data": {
      "text/plain": [
       "40587"
      ]
     },
     "execution_count": 3,
     "metadata": {},
     "output_type": "execute_result"
    }
   ],
   "source": [
    "# Попробуем подсчитать прибыль по вкладу, как это делали в первом занятии, но через функции\n",
    "\n",
    "def balance_after_year(init_sum, interest_rate):\n",
    "    '''\n",
    "    Документацию в python принято писать в кавычках\n",
    "    Подсчет баланса через год\n",
    "    '''\n",
    "    return init_sum * (100 + interest_rate) / 100\n",
    "\n",
    "\n",
    "def full_profit(init_sum, interest_rate, years):\n",
    "    '''подсчет баланса через years лет'''\n",
    "    final_sum = init_sum\n",
    "    for i in range(years):\n",
    "        final_sum = balance_after_year(final_sum, interest_rate)\n",
    "    return final_sum - init_sum # чистая прибыль\n",
    "\n",
    "round(full_profit(120000, 6, 5))"
   ]
  },
  {
   "cell_type": "markdown",
   "metadata": {},
   "source": [
    "## `Аргументы по-умолчанию`"
   ]
  },
  {
   "cell_type": "code",
   "execution_count": 4,
   "metadata": {},
   "outputs": [
    {
     "ename": "TypeError",
     "evalue": "full_profit() missing 1 required positional argument: 'years'",
     "output_type": "error",
     "traceback": [
      "\u001b[0;31m---------------------------------------------------------------------------\u001b[0m",
      "\u001b[0;31mTypeError\u001b[0m                                 Traceback (most recent call last)",
      "Cell \u001b[0;32mIn[4], line 1\u001b[0m\n\u001b[0;32m----> 1\u001b[0m full_profit(\u001b[39m1000\u001b[39;49m, \u001b[39m5\u001b[39;49m)\n",
      "\u001b[0;31mTypeError\u001b[0m: full_profit() missing 1 required positional argument: 'years'"
     ]
    }
   ],
   "source": [
    "full_profit(1000, 5)"
   ]
  },
  {
   "cell_type": "code",
   "execution_count": 5,
   "metadata": {},
   "outputs": [
    {
     "data": {
      "text/plain": [
       "157.625"
      ]
     },
     "execution_count": 5,
     "metadata": {},
     "output_type": "execute_result"
    }
   ],
   "source": [
    "# переписали функцию с добавлением аргумента по умолчанию\n",
    "def full_profit(init_sum, interest_rate, years=3):\n",
    "    '''подсчет баланса через years лет'''\n",
    "    final_sum = init_sum\n",
    "    for i in range(years):\n",
    "        final_sum = balance_after_year(final_sum, interest_rate)\n",
    "    return final_sum - init_sum # чистая прибыль\n",
    "round(full_profit(120000, 6, 5))\n",
    "\n",
    "full_profit(1000, 5)"
   ]
  },
  {
   "cell_type": "code",
   "execution_count": 6,
   "metadata": {},
   "outputs": [
    {
     "name": "stdout",
     "output_type": "stream",
     "text": [
      "Здравствуйте, Антон Константинович!\n",
      "Здравствуйте, уважаемый клиент!\n"
     ]
    }
   ],
   "source": [
    "def official_greeting(first_name = 'уважаемый', middle_name = 'клиент'):\n",
    "    print(f'Здравствуйте, {first_name} {middle_name}!')\n",
    "    \n",
    "official_greeting('Антон','Константинович')\n",
    "official_greeting()"
   ]
  },
  {
   "cell_type": "markdown",
   "metadata": {},
   "source": [
    "`Указывать аргументы по умолчанию нужно для всех переменных!`"
   ]
  },
  {
   "cell_type": "code",
   "execution_count": 7,
   "metadata": {},
   "outputs": [
    {
     "ename": "TypeError",
     "evalue": "official_greeting() takes from 0 to 1 positional arguments but 2 were given",
     "output_type": "error",
     "traceback": [
      "\u001b[0;31m---------------------------------------------------------------------------\u001b[0m",
      "\u001b[0;31mTypeError\u001b[0m                                 Traceback (most recent call last)",
      "Cell \u001b[0;32mIn[7], line 4\u001b[0m\n\u001b[1;32m      1\u001b[0m \u001b[39mdef\u001b[39;00m \u001b[39mofficial_greeting\u001b[39m(middle_name \u001b[39m=\u001b[39m \u001b[39m'\u001b[39m\u001b[39mклиент\u001b[39m\u001b[39m'\u001b[39m):\n\u001b[1;32m      2\u001b[0m     \u001b[39mprint\u001b[39m(\u001b[39mf\u001b[39m\u001b[39m'\u001b[39m\u001b[39mЗдравствуйте, \u001b[39m\u001b[39m{\u001b[39;00mfirst_name\u001b[39m}\u001b[39;00m\u001b[39m \u001b[39m\u001b[39m{\u001b[39;00mmiddle_name\u001b[39m}\u001b[39;00m\u001b[39m!\u001b[39m\u001b[39m'\u001b[39m)\n\u001b[0;32m----> 4\u001b[0m official_greeting(\u001b[39m'\u001b[39;49m\u001b[39mАнтон\u001b[39;49m\u001b[39m'\u001b[39;49m,\u001b[39m'\u001b[39;49m\u001b[39mКонстантинович\u001b[39;49m\u001b[39m'\u001b[39;49m)\n\u001b[1;32m      5\u001b[0m official_greeting()\n",
      "\u001b[0;31mTypeError\u001b[0m: official_greeting() takes from 0 to 1 positional arguments but 2 were given"
     ]
    }
   ],
   "source": [
    "def official_greeting(middle_name = 'клиент'):\n",
    "    print(f'Здравствуйте, {first_name} {middle_name}!')\n",
    "    \n",
    "official_greeting('Антон','Константинович')\n",
    "official_greeting()"
   ]
  },
  {
   "cell_type": "markdown",
   "metadata": {},
   "source": [
    "## `Вызов в вызове и call stack`\n",
    "\n",
    "аналогия с сумкой которую наполняют с низу вверх, потом, чтобы добраться до нижнего элемента, \n",
    "нужно вытащить все, что сверху."
   ]
  },
  {
   "cell_type": "code",
   "execution_count": 1,
   "metadata": {},
   "outputs": [
    {
     "name": "stdout",
     "output_type": "stream",
     "text": [
      "6\n",
      "выходим во внутреннюю функцию, внешняя останавливается\n",
      "Считаем a\n",
      "возвращаем a = 9 во внешнюю функцию и возвращаемся\n",
      "Печатаем k и num\n",
      "k = 9, num = 6\n"
     ]
    }
   ],
   "source": [
    "# call stack\n",
    "# внутренняя функция\n",
    "def inner_func(m):\n",
    "    print('Считаем a')\n",
    "    a = m // 2\n",
    "    a = a * a\n",
    "    print(f'возвращаем a = {a} во внешнюю функцию и возвращаемся')\n",
    "    return a\n",
    "\n",
    "# внешняя функция\n",
    "def outer_func(num):\n",
    "    num += 2\n",
    "    print(num)\n",
    "    print('выходим во внутреннюю функцию, внешняя останавливается')\n",
    "    k = inner_func(num)\n",
    "    print('Печатаем k и num')\n",
    "    print(f'k = {k}, num = {num}')\n",
    "\n",
    "outer_func(4)"
   ]
  }
 ],
 "metadata": {
  "kernelspec": {
   "display_name": "Python 3",
   "language": "python",
   "name": "python3"
  },
  "language_info": {
   "codemirror_mode": {
    "name": "ipython",
    "version": 3
   },
   "file_extension": ".py",
   "mimetype": "text/x-python",
   "name": "python",
   "nbconvert_exporter": "python",
   "pygments_lexer": "ipython3",
   "version": "3.11.0 (main, Oct 24 2022, 18:26:48) [MSC v.1933 64 bit (AMD64)]"
  },
  "vscode": {
   "interpreter": {
    "hash": "c261aea317cc0286b3b3261fbba9abdec21eaa57589985bb7a274bf54d6cc0a7"
   }
  }
 },
 "nbformat": 4,
 "nbformat_minor": 2
}
