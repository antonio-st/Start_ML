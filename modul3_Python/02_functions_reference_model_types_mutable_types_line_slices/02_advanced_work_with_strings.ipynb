{
 "cells": [
  {
   "cell_type": "markdown",
   "metadata": {},
   "source": [
    "## Продвинутая работа со строками"
   ]
  },
  {
   "cell_type": "code",
   "execution_count": 5,
   "metadata": {},
   "outputs": [
    {
     "data": {
      "text/plain": [
       "True"
      ]
     },
     "execution_count": 5,
     "metadata": {},
     "output_type": "execute_result"
    }
   ],
   "source": [
    "'t' in 'Anton'  # проверка символа"
   ]
  },
  {
   "cell_type": "code",
   "execution_count": 7,
   "metadata": {},
   "outputs": [
    {
     "name": "stdout",
     "output_type": "stream",
     "text": [
      "False\n",
      "True\n"
     ]
    },
    {
     "data": {
      "text/plain": [
       "True"
      ]
     },
     "execution_count": 7,
     "metadata": {},
     "output_type": "execute_result"
    }
   ],
   "source": [
    "# поиск подстроки, регистр имеет значение\n",
    "print('an' in 'Anton')\n",
    "print('an' in 'Anton'.lower())\n",
    "print('to' in 'Anton')\n"
   ]
  },
  {
   "cell_type": "code",
   "execution_count": 9,
   "metadata": {},
   "outputs": [
    {
     "name": "stdout",
     "output_type": "stream",
     "text": [
      "HELLOO\n",
      "helloo\n"
     ]
    }
   ],
   "source": [
    "# смена регистра\n",
    "\n",
    "print('heLloo'.upper())  # верхний\n",
    "print('heLloo'.lower())  # нижний"
   ]
  },
  {
   "cell_type": "code",
   "execution_count": 11,
   "metadata": {},
   "outputs": [
    {
     "name": "stdout",
     "output_type": "stream",
     "text": [
      "True\n",
      "False\n"
     ]
    }
   ],
   "source": [
    "# проверка в какой регистре строка\n",
    "\n",
    "print('hello'.islower())\n",
    "print('heLloo'.isupper())\n"
   ]
  },
  {
   "cell_type": "code",
   "execution_count": 13,
   "metadata": {},
   "outputs": [
    {
     "data": {
      "text/plain": [
       "'Helloo world!'"
      ]
     },
     "execution_count": 13,
     "metadata": {},
     "output_type": "execute_result"
    }
   ],
   "source": [
    "# Поменять все найденные куски\n",
    "# .replace(кого, на_что)\n",
    "\n",
    "'Helluo wurld!'.replace('u', 'o')\n"
   ]
  },
  {
   "cell_type": "code",
   "execution_count": 15,
   "metadata": {},
   "outputs": [
    {
     "data": {
      "text/plain": [
       "'abra'"
      ]
     },
     "execution_count": 15,
     "metadata": {},
     "output_type": "execute_result"
    }
   ],
   "source": [
    "'abra'.replace('mm', 'nn')  # ничего не нашел - вывел строку где искал"
   ]
  },
  {
   "cell_type": "code",
   "execution_count": 16,
   "metadata": {},
   "outputs": [
    {
     "data": {
      "text/plain": [
       "['Friends', 'will', 'be', 'friends']"
      ]
     },
     "execution_count": 16,
     "metadata": {},
     "output_type": "execute_result"
    }
   ],
   "source": [
    "'Friends will be friends'.split() # разбивает строку по пробелам"
   ]
  },
  {
   "cell_type": "code",
   "execution_count": null,
   "metadata": {},
   "outputs": [
    {
     "data": {
      "text/plain": [
       "['my', 'test', 'data']"
      ]
     },
     "execution_count": 17,
     "metadata": {},
     "output_type": "execute_result"
    }
   ],
   "source": [
    "'my_test_data'.split('_') # разбить по символу подчеркивания"
   ]
  },
  {
   "cell_type": "code",
   "execution_count": 18,
   "metadata": {},
   "outputs": [
    {
     "name": "stdout",
     "output_type": "stream",
     "text": [
      "Anton\n",
      "Bogdanov\n"
     ]
    }
   ],
   "source": [
    "name, surname = input('name surname').split() # распаковка списка в 2 переменный + разбить по пробелам\n",
    "print(name)\n",
    "print(surname)"
   ]
  },
  {
   "cell_type": "code",
   "execution_count": 21,
   "metadata": {},
   "outputs": [
    {
     "data": {
      "text/plain": [
       "['После', 'опознания', 'текста', 'много', 'пробелов']"
      ]
     },
     "execution_count": 21,
     "metadata": {},
     "output_type": "execute_result"
    }
   ],
   "source": [
    "# Убрать мусорные пробелы вокруг строки (но не внутри!)\n",
    "'   После опознания текста много    пробелов     '.strip().split() # убирает пробелы в начале и конце строки"
   ]
  },
  {
   "cell_type": "code",
   "execution_count": 22,
   "metadata": {},
   "outputs": [
    {
     "data": {
      "text/plain": [
       "['После', 'опознания', 'текста', 'много', 'пробелов']"
      ]
     },
     "execution_count": 22,
     "metadata": {},
     "output_type": "execute_result"
    }
   ],
   "source": [
    "bad_string = '   После опознания текста много    пробелов     '\n",
    "result = []\n",
    "for word in (bad_string.strip()).split():\n",
    "    result.append(word)\n",
    "result"
   ]
  },
  {
   "cell_type": "markdown",
   "metadata": {},
   "source": [
    "Запомнить `split()` и `strip()` - с ними часто приходится иметь дело на практике."
   ]
  },
  {
   "cell_type": "markdown",
   "metadata": {},
   "source": [
    "### Аннотации типов\n",
    "`Аннотации типов` – это новая возможность, описанная в PEP484, которая позволяет добавлять подсказки о типах переменных. \n",
    "\n",
    "Они используются, чтобы информировать читателя кода, `каким должен быть тип переменной`. \n",
    "\n",
    "Это придаёт немного статический вид коду на динамически типизированном Python. \n",
    "\n",
    "Достигается это синтаксисом: `<тип> после инициализации / объявления переменной.`"
   ]
  },
  {
   "cell_type": "code",
   "execution_count": 23,
   "metadata": {},
   "outputs": [
    {
     "name": "stdout",
     "output_type": "stream",
     "text": [
      "5\n"
     ]
    }
   ],
   "source": [
    "age: int = 5\n",
    "print(age)\n",
    "\n",
    "'''\n",
    "Важно отметить, что аннотации типов никоим образом не влияют \n",
    "на время выполнения программы. Эти подсказки игнорируются интерпретатором \n",
    "и используются исключительно для повышения удобочитаемости для других \n",
    "программистов и вас самих.\n",
    "\n",
    "'''"
   ]
  },
  {
   "cell_type": "code",
   "execution_count": null,
   "metadata": {},
   "outputs": [],
   "source": [
    "def mystery_combine(a: str, b: str, times: int) -> str:\n",
    "    return (a + b) * times\n",
    "\n",
    "    "
   ]
  },
  {
   "cell_type": "markdown",
   "metadata": {},
   "source": [
    "К параметрам функции добавились `: str, : str и : int` , чтобы показать, какого типа они должны быть. Это должно сделать код более понятным для чтения и лучше раскрыть его предназначение.\n",
    "\n",
    "Мы также добавили` -> str,` чтобы показать, что эта функция вернет str. Используя `-> <тип>, ` мы можем более легко показать типы возвращаемых значений любой функции или метода, чтобы избавить от возможной путаницы будущих разработчиков!\n",
    "\n",
    "Функцию все еще можно вызвать неправильно, но, присмотревшись, программист должен понять, как следует ее использовать. Аннотации типов и подсказки невероятно полезны для приложений Python, над которыми работают нескольких разработчиков. Это устраняет большую часть догадок при чтении кода!"
   ]
  }
 ],
 "metadata": {
  "kernelspec": {
   "display_name": "Python 3.10.6 64-bit",
   "language": "python",
   "name": "python3"
  },
  "language_info": {
   "codemirror_mode": {
    "name": "ipython",
    "version": 3
   },
   "file_extension": ".py",
   "mimetype": "text/x-python",
   "name": "python",
   "nbconvert_exporter": "python",
   "pygments_lexer": "ipython3",
   "version": "3.10.6"
  },
  "orig_nbformat": 4,
  "vscode": {
   "interpreter": {
    "hash": "916dbcbb3f70747c44a77c7bcd40155683ae19c65e1c03b4aa3499c5328201f1"
   }
  }
 },
 "nbformat": 4,
 "nbformat_minor": 2
}
