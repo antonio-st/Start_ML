{
 "cells": [
  {
   "cell_type": "code",
   "execution_count": 1,
   "metadata": {},
   "outputs": [
    {
     "data": {
      "text/plain": [
       "[(1, 2), (5, 7), (3, 9)]"
      ]
     },
     "execution_count": 1,
     "metadata": {},
     "output_type": "execute_result"
    }
   ],
   "source": [
    "list1 = [1, 5, 3, 8, 35]\n",
    "list2 = [2, 7, 9]\n",
    "def zip_(list1, list2):\n",
    "    sum_list = []\n",
    "    short_list = 0\n",
    "    if len(list1) > len(list2):\n",
    "        short_list = len(list2)\n",
    "    else:\n",
    "        short_list = len(list1)\n",
    "\n",
    "    for one in range(short_list):\n",
    "        tup = (list1[one], list2[one])\n",
    "        sum_list.append(tup)\n",
    "    return sum_list\n",
    "zip_([1, 5, 3, 8, 35], [2, 7, 9])"
   ]
  }
 ],
 "metadata": {
  "kernelspec": {
   "display_name": "Python 3.10.6 64-bit",
   "language": "python",
   "name": "python3"
  },
  "language_info": {
   "codemirror_mode": {
    "name": "ipython",
    "version": 3
   },
   "file_extension": ".py",
   "mimetype": "text/x-python",
   "name": "python",
   "nbconvert_exporter": "python",
   "pygments_lexer": "ipython3",
   "version": "3.10.6"
  },
  "orig_nbformat": 4,
  "vscode": {
   "interpreter": {
    "hash": "916dbcbb3f70747c44a77c7bcd40155683ae19c65e1c03b4aa3499c5328201f1"
   }
  }
 },
 "nbformat": 4,
 "nbformat_minor": 2
}
