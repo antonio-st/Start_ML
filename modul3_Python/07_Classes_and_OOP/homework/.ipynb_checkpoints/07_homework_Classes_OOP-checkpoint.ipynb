{
 "cells": [
  {
   "cell_type": "markdown",
   "id": "a3f3cf92",
   "metadata": {},
   "source": [
    "# Классы и ООП"
   ]
  },
  {
   "cell_type": "markdown",
   "id": "ee115c27",
   "metadata": {},
   "source": [
    "## 1\n",
    "> Простые классы\n",
    "\n",
    "Напишите класс Triangle, который будет иметь 3 поля:\n",
    "- a, b, c (стороны треугольника) и n_dots = 3 (количество точек).\n",
    "- Поле n_dots объявите на уровне класса, не в конструкторе — чтобы оно было доступно без создания объекта (т.е. работал вызов Triangle.n_dots). \n",
    "- Добавьте в класс простой конструктор, принимающий на вход все три стороны и сохраняющий эти стороны в соответсвующие поля класса.\n",
    "\n",
    "- Создайте объекты этого класса со следующими названиями: tr_1, tr_2 и любыми значениями длин сторон."
   ]
  },
  {
   "cell_type": "code",
   "execution_count": 8,
   "id": "26643d4b",
   "metadata": {
    "ExecuteTime": {
     "end_time": "2023-01-23T06:13:46.091245Z",
     "start_time": "2023-01-23T06:13:46.070246Z"
    }
   },
   "outputs": [],
   "source": [
    "class Triangle:\n",
    "    \n",
    "    n_dots = 3\n",
    "    def __init__(self, a, b, c):\n",
    "        self.a = a\n",
    "        self.b = b\n",
    "        self.c = c\n",
    "\n",
    "tr_1 = Triangle(3, 4, 5)\n",
    "tr_2 = Triangle(4, 4, 6)"
   ]
  },
  {
   "cell_type": "markdown",
   "id": "0fc39769",
   "metadata": {},
   "source": [
    "## 2\n",
    "\n",
    "> Усложняем треугольник\n",
    "\n",
    "- Возьмите класс Triangle из предыдущего задания и добавьте метод area(), возвращающий площадь треугольника. - Напомним, что при известных трех сторонах площадь треугольника можно подсчитать по формуле Герона:\n",
    "\n",
    "$$\\sqrt{S=p(p−a)(p−b)(p−c)}$$\n",
    "\n",
    ", где $$p=\\frac{1}{2}(a+b+c)$$ - полупериметр. Подумайте, как можно организовать код так, чтобы p считалась один раз.\n",
    "\n",
    "- Затем поменяйте конструктор: он должен проверять, что выполнено неравенство треугольника - каждая сторона меньше или равна сумме двух других. \n",
    "- Если это условие не выполнено, выбрасывайте ValueError с текстом \"triangle inequality does not hold\" (передайте эту строку в конструктор ValueError).\n",
    "\n",
    "- Наконец, создайте два объекта данного класса с названиями tr_1 и tr_2 , в которых соблюдается равенство треугольника. Также, сохраните в переменные square_1 и square_2 результаты вызовов методов .area() для объектов tr_1 и tr_2 соответственно."
   ]
  },
  {
   "cell_type": "code",
   "execution_count": 21,
   "id": "68195366",
   "metadata": {
    "ExecuteTime": {
     "end_time": "2023-01-23T14:17:24.281441Z",
     "start_time": "2023-01-23T14:17:24.246441Z"
    }
   },
   "outputs": [
    {
     "name": "stdout",
     "output_type": "stream",
     "text": [
      "Площадь первого треугольника:  2.9047375096555625\n",
      "Площадь второго треугольника:  5.332682251925386\n"
     ]
    }
   ],
   "source": [
    "# creating Triangle class\n",
    "class Triangle:\n",
    "    # class variable\n",
    "    n_dots = 3\n",
    "    \n",
    "    # функция внутри класса с таким названием будет вызываться каждый\n",
    "    # раз, когда мы попросим создать новый объект.\n",
    "    # Задает, что нужно принимать на вход для создания объекта\n",
    "    def __init__(self, a, b, c):\n",
    "        \n",
    "        # instance variables\n",
    "        self.a, self.b, self.c = a, b, c\n",
    "             \n",
    "        # проверяем неравенство треугольника - каждая сторона должна быть меньше суммы двух других\n",
    "        if self.c <= self.a + self.b and self.a <= self.b + self.c and self.b <= self.a + self.c:\n",
    "            pass\n",
    "        else:\n",
    "            raise ValueError('triangle inequality does not hold')\n",
    "        \n",
    "        # вычисляем полупериметр\n",
    "        self.p = (self.a + self.b + self.c) / 2\n",
    "                        \n",
    "    # создаем функцию для вычесления площади треугольника\n",
    "    def area(self):\n",
    "              \n",
    "        # вычисляем площадь по формуле Герона\n",
    "        return (self.p * (self.p - self.a) * (self.p - self.b) * (self.p - self.c)) ** 0.5\n",
    "\n",
    "# создадим два треугольника    \n",
    "tr_1 = Triangle(4, 3, 2)\n",
    "tr_2 = Triangle(6, 3, 4)\n",
    "\n",
    "# вызовем функцию для вычисления площади\n",
    "square_1 = tr_1.area()\n",
    "square_2 = tr_2.area()\n",
    "\n",
    "# распечатаем результат\n",
    "print(\"Площадь первого треугольника: \", square_1)\n",
    "print(\"Площадь второго треугольника: \", square_2)"
   ]
  }
 ],
 "metadata": {
  "kernelspec": {
   "display_name": "Python 3 (ipykernel)",
   "language": "python",
   "name": "python3"
  },
  "language_info": {
   "codemirror_mode": {
    "name": "ipython",
    "version": 3
   },
   "file_extension": ".py",
   "mimetype": "text/x-python",
   "name": "python",
   "nbconvert_exporter": "python",
   "pygments_lexer": "ipython3",
   "version": "3.10.5"
  }
 },
 "nbformat": 4,
 "nbformat_minor": 5
}
