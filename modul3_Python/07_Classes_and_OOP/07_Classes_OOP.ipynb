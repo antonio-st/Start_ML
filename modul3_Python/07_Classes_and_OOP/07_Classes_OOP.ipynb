{
 "cells": [
  {
   "cell_type": "markdown",
   "id": "44e6ec8b",
   "metadata": {},
   "source": [
    " ### Определения\n",
    " \n",
    "- **ООП или Объектно-ориентированное программирование** — это парадигма программирования (совокупность идей и понятий, определяющих стиль написания программ), основанная на представлении программы в виде совокупности объектов, каждый из которых является экземпляром определённого класса. Суть ООП заключается в объединении данных (функций, методов) для их обработки и помещении их в объекты.\n",
    "\n",
    "\n",
    "* <b>  Класс </b> — определенный программистом прототип программируемого объекта с набором атрибутов (переменных и методов), которые описывают данный объект. Доступ к атрибутам и методам осуществляется через точку.\n",
    "<p>  \n",
    "* <b>   Переменная класса </b> — переменная, доступная для всех экземпляров данного класса. Определяется внутри класса, но вне любых методов класса.\n",
    "<p> \n",
    "* <b>  Абстрактные классы </b> — это классы, которые объявлены, но не содержат реализации. Они не предполагают создание своих объектов, т.е служат только для того, чтобы хранить общие свойства между другими классами. Абстрактные классы работают как шаблон для подклассов.\n",
    "<p> \n",
    "* <b>  Экземпляр класса </b> — отдельный объект-представитель определенного класса.\n",
    "<p> \n",
    "* <b>  Переменная экземпляра класса </b> — переменная, определенная внутри метода класса, принадлежащая только к этому классу.\n",
    "<p> \n",
    "* <b>  Метод </b> — особая функция, определенная внутри класса.\n",
    "<p> \n",
    "* <b>   Наследование </b> — передача атрибутов и методов родительского класса дочерним классам.\n",
    "<p> \n",
    "* <b>  Перегрузка функций </b> — изменение работы метода, унаследованного дочерним классом от родительского класса.\n",
    "<p> \n",
    "* <b>  Перегрузка операторов </b> — определение работы операторов с экземплярами данного класса.\n",
    "<p> \n",
    "* <b>  Инверсия зависимостей </b> — модули верхних уровней не должны импортировать сущности из модулей нижних уровней.\n",
    "<p> \n",
    "* <b>  Полиморфизм </b> — возможность обработки разных типов данных (т. е. принадлежащих к разным классам) с помощью «одной и той же» функции, или метода.\n",
    "<p> \n",
    "* <b>  Магические методы </b> — базовые методы, которые можно назначить любому классу."
   ]
  },
  {
   "cell_type": "markdown",
   "id": "e0b08a0b",
   "metadata": {},
   "source": [
    "### Простой класс\n",
    "\n",
    "**Класс** - это некоторое объединение свойств объекта и действий, которые этот объект может совершать. \n",
    "<br> - Класс является некоторым шаблоном, по которому клепаются объекты. <br> - Например, по классу \"Машина\" можно создавать конкретные экземпляры (или объекты) машины - конкретные марки."
   ]
  },
  {
   "cell_type": "code",
   "execution_count": 58,
   "id": "9d41fe77",
   "metadata": {
    "ExecuteTime": {
     "end_time": "2023-01-10T19:44:49.876933Z",
     "start_time": "2023-01-10T19:44:49.871993Z"
    }
   },
   "outputs": [],
   "source": [
    "'''\n",
    "В примере выше мы из библиотеки dataclasses импортировали dataclass, что это такое? \n",
    "Модуль dataclasses предоставляет декораторы и функции для того, чтобы автоматически \n",
    "добавлять магические (специальные) методы (о них чуть дальше), такие как __init__() или __repr__() \n",
    "к определяемым пользовательским классам. \n",
    "То есть, dataclass заменил нам объявление \n",
    "'''\n",
    "\n",
    "from dataclasses import dataclass\n",
    "\n",
    "@dataclass # упрощает создание класса\n",
    "# класс объявляется с ключевого слова class название принято писать с большой буквы\n",
    "class Auto:\n",
    "    color: str\n",
    "    manufacturer: str\n",
    "    series: str\n",
    "    fuel_type: str"
   ]
  },
  {
   "cell_type": "code",
   "execution_count": 2,
   "id": "0e98aa8c",
   "metadata": {
    "ExecuteTime": {
     "end_time": "2023-01-08T18:18:15.548749Z",
     "start_time": "2023-01-08T18:18:15.538498Z"
    }
   },
   "outputs": [],
   "source": [
    "# присваиваем переменной значение класса\n",
    "car_1 = Auto('green', 'Ford', 'Mustang', 'Gasoline')"
   ]
  },
  {
   "cell_type": "code",
   "execution_count": 3,
   "id": "25421a41",
   "metadata": {
    "ExecuteTime": {
     "end_time": "2023-01-08T18:18:15.559659Z",
     "start_time": "2023-01-08T18:18:15.550844Z"
    },
    "scrolled": true
   },
   "outputs": [
    {
     "data": {
      "text/plain": [
       "Auto(color='green', manufacturer='Ford', series='Mustang', fuel_type='Gasoline')"
      ]
     },
     "execution_count": 3,
     "metadata": {},
     "output_type": "execute_result"
    }
   ],
   "source": [
    "car_1"
   ]
  },
  {
   "cell_type": "markdown",
   "id": "55d14758",
   "metadata": {},
   "source": [
    "> `Класс` — это описание объекта. \n",
    "\n",
    "> `Объекты`, созданные на основе классов, — это объекты класса (экземпляры класса)"
   ]
  },
  {
   "cell_type": "code",
   "execution_count": 4,
   "id": "352e22ab",
   "metadata": {
    "ExecuteTime": {
     "end_time": "2023-01-08T18:18:15.568826Z",
     "start_time": "2023-01-08T18:18:15.565323Z"
    }
   },
   "outputs": [],
   "source": [
    "# конструктор класса - что делать когда создадим объект\n",
    "class AutoShort:\n",
    "    '''\n",
    "     функция вызывается каждый раз при создании объекта,\n",
    "     задает, что нужно принимать на вход для создания объекта,\n",
    "     self - сам объект\n",
    "     __init__ — это конструктор класса (метод, который автоматически вызывается при создании объектов),\n",
    "    он объявляет Python как нужно создавать объекты класса.\n",
    "    '''\n",
    "    def __init__(self, color): # self объект который будет создан\n",
    "        self.color = color # создаваемому объекту задаем переменную color"
   ]
  },
  {
   "cell_type": "code",
   "execution_count": 5,
   "id": "b98f4bb3",
   "metadata": {
    "ExecuteTime": {
     "end_time": "2023-01-08T18:18:15.574057Z",
     "start_time": "2023-01-08T18:18:15.570520Z"
    }
   },
   "outputs": [
    {
     "data": {
      "text/plain": [
       "'red'"
      ]
     },
     "execution_count": 5,
     "metadata": {},
     "output_type": "execute_result"
    }
   ],
   "source": [
    "colored_car = AutoShort('red')\n",
    "colored_car.color # вызов свойства объекта через точку"
   ]
  },
  {
   "cell_type": "code",
   "execution_count": 6,
   "id": "673f67df",
   "metadata": {
    "ExecuteTime": {
     "end_time": "2023-01-08T18:18:15.588364Z",
     "start_time": "2023-01-08T18:18:15.577123Z"
    }
   },
   "outputs": [
    {
     "data": {
      "text/plain": [
       "'blue'"
      ]
     },
     "execution_count": 6,
     "metadata": {},
     "output_type": "execute_result"
    }
   ],
   "source": [
    "# поменять переменную внутри объекта\n",
    "colored_car.color = 'blue'\n",
    "colored_car.color"
   ]
  },
  {
   "cell_type": "markdown",
   "id": "e3f829fd",
   "metadata": {},
   "source": [
    "Помимо свойств у классов и объектов есть еще и **методы**. \n",
    "Т.е объект может ***не только иметь свойства, но и уметь что-то делать***. \n",
    "\n",
    "Каждая переменная в классе называется **полем или свойством**, каждая функция — **методом**."
   ]
  },
  {
   "cell_type": "code",
   "execution_count": 11,
   "id": "4c12b6f7",
   "metadata": {
    "ExecuteTime": {
     "end_time": "2023-01-08T18:25:55.454091Z",
     "start_time": "2023-01-08T18:25:55.446532Z"
    }
   },
   "outputs": [],
   "source": [
    "class AutoWithAlarm:\n",
    "    def __init__(self, color, alarm_sound:str):\n",
    "        # через name:type можно делать рекомендации типа\n",
    "        self.color = color # принять объект и записать в него свойство\n",
    "        self.alarm_sound = alarm_sound\n",
    "    \n",
    "    # эту функцию видят все объекты класса и умеют ее вызывать\n",
    "    def alarm(self):\n",
    "        # внутри функции можно обратиться к свойствам объекта\n",
    "        print(self.alarm_sound)\n",
    "\n",
    "        \n",
    "# Метод — это функция, объявленная внутри класса. \n",
    "# здесь 2 метода: __init__ — конструктор класса (объявляет Python, как нужно создавать объекты) \n",
    "# и alarm(), который отвечает за подачу звукового сигнала."
   ]
  },
  {
   "cell_type": "code",
   "execution_count": 15,
   "id": "9f100ac9",
   "metadata": {
    "ExecuteTime": {
     "end_time": "2023-01-08T18:28:12.888986Z",
     "start_time": "2023-01-08T18:28:12.886824Z"
    }
   },
   "outputs": [],
   "source": [
    "# создаем объект my_new_car класса AutoWithAlarm\n",
    "my_new_car = AutoWithAlarm('blue', 'bee-beep')"
   ]
  },
  {
   "cell_type": "code",
   "execution_count": 18,
   "id": "52516009",
   "metadata": {
    "ExecuteTime": {
     "end_time": "2023-01-08T18:29:32.592240Z",
     "start_time": "2023-01-08T18:29:32.586792Z"
    }
   },
   "outputs": [
    {
     "name": "stdout",
     "output_type": "stream",
     "text": [
      "bee-beep\n",
      "blue\n"
     ]
    }
   ],
   "source": [
    "# Теперь у < объекта класса > AutoWithAlarm будут следующие свойства: color = ‘red’, \n",
    "# а alarm_sound = ‘bee-beep’. Проверим:\n",
    "\n",
    "print(my_new_car.alarm_sound)\n",
    "print(my_new_car.color)"
   ]
  },
  {
   "cell_type": "code",
   "execution_count": 19,
   "id": "d9a4ab3d",
   "metadata": {
    "ExecuteTime": {
     "end_time": "2023-01-08T18:30:57.068498Z",
     "start_time": "2023-01-08T18:30:57.062869Z"
    },
    "scrolled": true
   },
   "outputs": [
    {
     "name": "stdout",
     "output_type": "stream",
     "text": [
      "bee-beep\n"
     ]
    }
   ],
   "source": [
    "my_new_car.alarm()"
   ]
  },
  {
   "cell_type": "markdown",
   "id": "754611da",
   "metadata": {},
   "source": [
    "\n",
    "- Мы вызвали функцию alarm() у объекта my_new_car, т.е мы сначала создали объект класса `AutoWithAlarm` и этот объект получает на вход свойство и метод.\n",
    "\n",
    "- Мы создали класс как `шаблон объектов`, затем начали `создавать объекты по образу и подобию этого класса`. \n",
    "\n",
    "Такой подход называется **ООП — объектно-ориентированное программированием.**\n",
    "\n",
    "- В ООП мы сроим свой код через классы, объекты и их взаимодействие. Небольшая загвоздка в том, что в Python всё является объектами, даже классы. Функции, модули, файлы — всё это тоже объекты. Хм, если класс сам по себе объект, то какие у него атрибуты? Посмотреть доступные атрибуты можно с помощью функции dir()"
   ]
  },
  {
   "cell_type": "code",
   "execution_count": 23,
   "id": "3312416e",
   "metadata": {
    "ExecuteTime": {
     "end_time": "2023-01-08T18:43:11.559250Z",
     "start_time": "2023-01-08T18:43:11.553925Z"
    }
   },
   "outputs": [
    {
     "name": "stdout",
     "output_type": "stream",
     "text": [
      "['__class__', '__delattr__', '__dict__', '__dir__', '__doc__', '__eq__', '__format__', '__ge__', '__getattribute__', '__gt__', '__hash__', '__init__', '__init_subclass__', '__le__', '__lt__', '__module__', '__ne__', '__new__', '__reduce__', '__reduce_ex__', '__repr__', '__setattr__', '__sizeof__', '__str__', '__subclasshook__', '__weakref__', 'alarm']\n"
     ]
    }
   ],
   "source": [
    "print(dir(AutoWithAlarm))"
   ]
  },
  {
   "cell_type": "markdown",
   "id": "fa25de92",
   "metadata": {},
   "source": [
    "### > Наследование\n",
    "\n",
    "- Суть наследования сводится к тому, что на базе одного класса (предка) возможно создать другой класс (дочерний), который получает все свойства и методы своего родительского класса (или класса-предка или суперкласса или базового класса). \n",
    "\n",
    "Вы берёте некоторый класс, забираете у него все поля и методы и строите свой класс на основе предыдущего.\n",
    "\n",
    "\n",
    "-  Представим, что у вас класс, в котором вы уже написали много функционала, написали поля, методы и пр. Но теперь вы хотите создать класс, функционал которого немного отличается от старого класса. Для решения этой проблемы можно просто скопировать код прошлого класса, немного дополнив его. Но есть и более элегантный способ:"
   ]
  },
  {
   "cell_type": "code",
   "execution_count": 16,
   "id": "4cd9da1b",
   "metadata": {
    "ExecuteTime": {
     "end_time": "2023-01-27T06:03:46.937316Z",
     "start_time": "2023-01-27T06:03:46.934690Z"
    }
   },
   "outputs": [],
   "source": [
    "class Auto:\n",
    "    color = ''          # можно заранее создать поля, можно делать в __init__\n",
    "    name = ''           # здесь сделаем и там и там\n",
    "    alarm_sound = ''\n",
    "    \n",
    "    def __init__(self, color: str, name: str , alarm_sound: str):\n",
    "        self.color = color\n",
    "        self.name = name\n",
    "        self.alarm_sound = alarm_sound\n",
    "        \n",
    "    def beep(self):\n",
    "        return self.alarm_sound\n",
    "\n",
    "# расширяем class Auto\n",
    "class AutoWithAlarm(Auto): # наследуемся от Auto\n",
    "    def alarm(self):\n",
    "        return 'bep-bep-beep'"
   ]
  },
  {
   "cell_type": "code",
   "execution_count": 17,
   "id": "39f057b9",
   "metadata": {
    "ExecuteTime": {
     "end_time": "2023-01-27T06:03:48.964721Z",
     "start_time": "2023-01-27T06:03:48.962091Z"
    }
   },
   "outputs": [
    {
     "name": "stdout",
     "output_type": "stream",
     "text": [
      "bep-bep-beep\n",
      "beeeep\n"
     ]
    }
   ],
   "source": [
    "# AutoWithAlarm теперь содержит 2 метода : beep и alarm\n",
    "auto_obj = AutoWithAlarm('silver', 'Delorian', 'beeeep')\n",
    "print(f'{auto_obj.alarm()}')\n",
    "print(f'{auto_obj.beep()}')"
   ]
  },
  {
   "cell_type": "markdown",
   "id": "884fbc1d",
   "metadata": {},
   "source": [
    "### Принцип подстановки Барбары Лисков\n",
    "Класс `AutoWithAlarm` зовется _дочерним_, `Auto` для него будет _родительским_ классом (или _базовым_ классом).\n",
    "\n",
    "При наследовании надо соблюдать несколько простых правил:\n",
    "1. Наследуемый класс (`AutoWithAlarm`) по логике должен расширять базовый класс, а не перечеркивать его поведение и делать по-своему.\n",
    "2. Код должен продолжать работать, если заменить в нем базовый класс на какой-то из его наследников ([принцип подстановки Барбары Лисков](https://ru.wikipedia.org/wiki/Принцип_подстановки_Барбары_Лисков))."
   ]
  },
  {
   "cell_type": "markdown",
   "id": "7e0801f3",
   "metadata": {},
   "source": [
    "* Механизм `наследования` крайне полезен, потому что позволяет сократить количество кода (особенно в ситуации, когда у нас есть свойства и методы, общие для нескольких классов). \n",
    "\n",
    "* Все общие свойства и методы `переносим в базовый класс` (родительский класс или суперкласс) и все дочерние классы получают эти свойства и методы автоматически. \n",
    "\n",
    "*  Особенно наследование удобно использовать, когда у нас есть некоторая иерархия:"
   ]
  },
  {
   "cell_type": "code",
   "execution_count": 18,
   "id": "0dd7f400",
   "metadata": {
    "ExecuteTime": {
     "end_time": "2023-01-27T06:13:07.610768Z",
     "start_time": "2023-01-27T06:13:07.608003Z"
    }
   },
   "outputs": [],
   "source": [
    "class CarColor:\n",
    "    color = 'red'\n",
    "    name = 'Tesla'\n",
    "\n",
    "class ModelS(CarColor):\n",
    "    pass  #пропуск\n",
    "\n",
    "class Cybertruck(CarColor):\n",
    "    pass \n"
   ]
  },
  {
   "cell_type": "markdown",
   "id": "618d040d",
   "metadata": {},
   "source": [
    "* Нижние члены иерархии (классификации) наследуют свойства и методы от своих предков.\n",
    "\n",
    "Есть очень удобная функция `isinstance()`. Она проверяет, имеет ли конкретный объект какой-то атрибут, который достался ему от любого родительского класса в цепочке наследования (иерархии):"
   ]
  },
  {
   "cell_type": "code",
   "execution_count": 21,
   "id": "fc929226",
   "metadata": {
    "ExecuteTime": {
     "end_time": "2023-01-27T06:14:20.406815Z",
     "start_time": "2023-01-27T06:14:20.401429Z"
    }
   },
   "outputs": [
    {
     "data": {
      "text/plain": [
       "True"
      ]
     },
     "execution_count": 21,
     "metadata": {},
     "output_type": "execute_result"
    }
   ],
   "source": [
    "inher = Cybertruck()\n",
    "isinstance(inher, CarColor)\n",
    "#isinstace(проверяемый объект, класс который нужно проверить)"
   ]
  },
  {
   "cell_type": "markdown",
   "id": "74fe20ec",
   "metadata": {},
   "source": [
    "## > Инверсия зависимостей (Абстрактные классы)\n",
    "\n",
    "Еще одна вещь про наследование. Если у вас есть много слабо связанных сущностей, то стоит их общие черты выделить в некий \"абстрактный\" класс, а затем каждую сущность сделать наследником.\n"
   ]
  },
  {
   "cell_type": "code",
   "execution_count": null,
   "id": "656c28ee",
   "metadata": {},
   "outputs": [],
   "source": [
    "# Общий, несколько абстрактный, класс - от него будут наследоваться детали\n",
    "class GeneralAuto:\n",
    "    color = ''\n",
    "    name = ''\n",
    "    \n",
    "class AutoTransmCar(GeneralAuto):\n",
    "    def set_pos(self, pos):\n",
    "        if pos == 'D':\n",
    "            print(f'going forward')\n",
    "            # далее логика\n",
    "\n",
    "class ManualTransmCar(GeneralAuto):\n",
    "    def set_transm(self, step):\n",
    "        if step == 'R':\n",
    "            print(f'going backwards')\n",
    "            # сложный код по переключению передачи"
   ]
  },
  {
   "attachments": {
    "image.png": {
     "image/png": "[encoded data removed]"
    }
   },
   "cell_type": "markdown",
   "id": "4c7d7ee9",
   "metadata": {},
   "source": [
    "Это выльется в такое отношение\n",
    "\n",
    "![image.png](attachment:image.png)\n",
    "\n",
    "* Оба класс `AutoTransmissionCar и ManualTransmissionCar` получат свойства color и name просто потому что наследуются от `GeneralAuto`, при этом, GeneralAuto так устроен, что не предполагает создания своих объектов(т.е нужен только для того, чтобы хранить общие свойства других классов). \n",
    "Такие классы как GeneralAuto называются `абстрактными классами`.\n",
    "\n",
    "\n",
    "* `Абстрактные классы` - это классы, которые объявлены, но не содержат реализаций. Он не предполагает создание своих объектов, т.е служит только для того, чтобы хранить общие свойства между другими классами. Абстрактные классы работают как шаблон для подклассов.\n",
    "\n",
    "\n",
    "* У всех машин есть общий функционал, например - возможность ехать по дороге и иметь двигатель. Исходя из этого, мы можем создать `абстрактный класс Автомобиль`, определить в нем абстрактный метод (в нашем случае - езда, поскольку у каждой машины разная скорость) и реализовать общий функционал (наличие двигателя)."
   ]
  },
  {
   "cell_type": "markdown",
   "id": "e67d779e",
   "metadata": {},
   "source": [
    "## > Перегрузка\n",
    "- `Перегрузкой` называют создание в подклассах свойств и методов с теми же именами, что и в родительском классе. \n",
    "- Класс-наследник может переопределить поведение родительской функции:"
   ]
  },
  {
   "cell_type": "code",
   "execution_count": null,
   "id": "241594cd",
   "metadata": {},
   "outputs": [],
   "source": [
    "class Auto:\n",
    "    color = ''          # можно заранее создать поля, можно делать в __init__\n",
    "    name = ''           # здесь сделаем и там и там\n",
    "    alarm_sound = ''\n",
    "    \n",
    "    def __init__(self, color: str, name: str , alarm_sound: str):\n",
    "        self.color = color\n",
    "        self.name = name\n",
    "        self.alarm_sound = alarm_sound\n",
    "    def beep(self):\n",
    "        return self.alarm_sound\n",
    "\n",
    "class AutoCustomBeep(Auto):\n",
    "    super().beep()\n",
    "    return f'beep broke, sorry'"
   ]
  },
  {
   "cell_type": "markdown",
   "id": "8f255f59",
   "metadata": {},
   "source": [
    "- Python ищет определение метода или свойства сначала в локальном словаре экземпляра, потом в самом классе, и если не находит, то идёт в родительский класс и ищет там и так далее по всей цепочки иерархии. Расширение функциональности класса — это создание дочернего класса с некоторой дополнительной функциональностью, которой не было в родительском. Т.е в отличие от перегрузки, в дочернем классе создаётся то, чего не было в родительском классе.\n",
    "\n",
    "\n",
    "- Бывают ситуации, когда при переопределении метода в дочерних классах нужно затем передать выполнение обратно в родительский:"
   ]
  },
  {
   "cell_type": "code",
   "execution_count": 23,
   "id": "08fd928d",
   "metadata": {
    "ExecuteTime": {
     "end_time": "2023-01-27T06:52:35.771589Z",
     "start_time": "2023-01-27T06:52:35.761937Z"
    }
   },
   "outputs": [],
   "source": [
    "\"\"\"собрать совершенно новый класс, используя BaseFigure в качестве шаблона.\n",
    "\n",
    "Напишите класс Circle, в котором в качестве n_dots будет float('inf'),\n",
    "area будет считаться как 3.14 * r^2,\n",
    "а конструктор будет принимать только один аргумент - r.\n",
    "Метод validate не должен принимать никаких аргументов и не должен осуществлять никаких проверок.\n",
    "\"\"\"\n",
    "\n",
    "class BaseFigure:\n",
    "    n_dots = None\n",
    "    def __init__(self):\n",
    "        self.validate()\n",
    "    def area():\n",
    "        raise NotImplementedError()\n",
    "    def validate():\n",
    "        raise NotImplementedError()\n",
    "        \n",
    "        \n",
    "class Circle(BaseFigure):\n",
    "    n_dots = float('inf')\n",
    "    \n",
    "    def validate(self):\n",
    "        pass\n",
    "\n",
    "    def area(self):\n",
    "        return 3.14 * self.r ** 2\n",
    "    \n",
    "    def __init__(self, r):\n",
    "        self.r = r\n",
    "        super().__init__() # передать управление в  __init__ метод родительского класса. Для этого используется функция super().функция род.класса"
   ]
  },
  {
   "cell_type": "markdown",
   "id": "d4ac8f93",
   "metadata": {},
   "source": [
    "## > Полиморфизм\n",
    "\n",
    "Полиморфизм - это возможность создавать один и тот же метод в классе, работающий с данными разного типа."
   ]
  },
  {
   "cell_type": "code",
   "execution_count": 24,
   "id": "c53b941b",
   "metadata": {
    "ExecuteTime": {
     "end_time": "2023-01-27T06:55:41.239168Z",
     "start_time": "2023-01-27T06:55:41.230603Z"
    }
   },
   "outputs": [],
   "source": [
    "# В других языках этот пример бы сработал, но не в Python\n",
    "# из-за дин. типизации\n",
    "class NumberPrinter:\n",
    "    # для int\n",
    "    def print_number(self, num: int):\n",
    "        print(f'integer, {num}')\n",
    "        \n",
    "    # для float\n",
    "    def print_number(self, num: float):\n",
    "        print(f'float, {num}')"
   ]
  },
  {
   "cell_type": "code",
   "execution_count": 29,
   "id": "0d444d15",
   "metadata": {
    "ExecuteTime": {
     "end_time": "2023-01-27T06:57:07.439945Z",
     "start_time": "2023-01-27T06:57:07.434327Z"
    }
   },
   "outputs": [
    {
     "name": "stdout",
     "output_type": "stream",
     "text": [
      "float, 5.5\n",
      "float, 5\n"
     ]
    }
   ],
   "source": [
    "NumberPrinter().print_number(5.5)\n",
    "NumberPrinter().print_number(5)"
   ]
  },
  {
   "cell_type": "markdown",
   "id": "1bff87be",
   "metadata": {},
   "source": [
    "## > Магические методы\n",
    "\n",
    "В классе можно объявить методы с особыми названиями, которые могут дать объектам класса особую функциональность. \n",
    "\n",
    "Такие методы называются `magic methods`. Это специальные методы, с помощью которых вы можете добавить в ваши классы «магию».\n",
    "\n",
    "Методы, имеющие строгое название, говорят Python, как сделать ваш класс более удобным для использования. Например, с помощью магических методов вы можете добавить возможность складывать свои объекты классов:\n",
    "\n",
    "- Метод `__add__` : позволил нам складывать вектора\n",
    "- метод `__str__ ` : превращает наш объект в строку, красиво ее выводит на печать"
   ]
  },
  {
   "cell_type": "code",
   "execution_count": 41,
   "id": "9c8b66e7",
   "metadata": {
    "ExecuteTime": {
     "end_time": "2023-01-27T09:39:18.743236Z",
     "start_time": "2023-01-27T09:39:18.736511Z"
    }
   },
   "outputs": [],
   "source": [
    "class Vector3D():\n",
    "    def __init__(self, x, y, z):\n",
    "        self.x, self.y, self.z = x, y, z\n",
    "        \n",
    "    def __add__(self, other):\n",
    "        return Vector3D(self.x + other.x, self.y + other.y, self.z + other.z)\n",
    "    def __str__(self):\n",
    "        return f'({self.x}, {self.y}, {self.z})'"
   ]
  },
  {
   "cell_type": "code",
   "execution_count": 42,
   "id": "aa4264e2",
   "metadata": {
    "ExecuteTime": {
     "end_time": "2023-01-27T09:39:20.616778Z",
     "start_time": "2023-01-27T09:39:20.610999Z"
    }
   },
   "outputs": [
    {
     "name": "stdout",
     "output_type": "stream",
     "text": [
      "(1, 9, 7)\n"
     ]
    }
   ],
   "source": [
    "vec_1 = Vector3D(2, 4, 9)\n",
    "vec_2 = Vector3D(-1, 5, -2)\n",
    "\n",
    "print(vec_1 + vec_2)"
   ]
  },
  {
   "cell_type": "code",
   "execution_count": 45,
   "id": "75946a9d",
   "metadata": {
    "ExecuteTime": {
     "end_time": "2023-01-27T14:24:24.199001Z",
     "start_time": "2023-01-27T14:24:24.192826Z"
    }
   },
   "outputs": [],
   "source": [
    "#  добавить возможность вызывать объект как функцию!\n",
    "\n",
    "class TriangleCalculator:\n",
    "    def __init__(self, a):\n",
    "        self.a = a\n",
    "      # дает возможность вызывать объект, как функцию  \n",
    "    def __call__(self, b):\n",
    "        return (self.a ** 2 + b ** 2) ** 0.5"
   ]
  },
  {
   "cell_type": "code",
   "execution_count": 55,
   "id": "a47643cd",
   "metadata": {
    "ExecuteTime": {
     "end_time": "2023-01-27T14:26:20.977363Z",
     "start_time": "2023-01-27T14:26:20.970968Z"
    }
   },
   "outputs": [
    {
     "data": {
      "text/plain": [
       "8.94427190999916"
      ]
     },
     "execution_count": 55,
     "metadata": {},
     "output_type": "execute_result"
    }
   ],
   "source": [
    "calc = TriangleCalculator(a=4)\n",
    "calc(8)"
   ]
  },
  {
   "cell_type": "markdown",
   "id": "610f5214",
   "metadata": {},
   "source": [
    "## Множественное наследование\n",
    "В Python можно наследоваться не только от одного класса, а от нескольких. Для этого надо перечислять родителей через запятую:"
   ]
  },
  {
   "cell_type": "code",
   "execution_count": 59,
   "id": "3e5bc14f",
   "metadata": {
    "ExecuteTime": {
     "end_time": "2023-01-27T14:39:04.298085Z",
     "start_time": "2023-01-27T14:39:04.290209Z"
    }
   },
   "outputs": [],
   "source": [
    "class Printable:\n",
    "    def __str__(self):\n",
    "        print('__str__ is called')\n",
    "        return f'{self.a}'\n",
    "\n",
    "class Divisible:\n",
    "    def __truediv__(self, b:int):\n",
    "        print('__truediv__ is called')\n",
    "        return f'{self.a / b}'\n",
    "    \n",
    "class NumberKeeper(Printable, Divisible):\n",
    "    def __init__(self, a):\n",
    "        self.a = a # благодаря наследованию a передано в Divisible"
   ]
  },
  {
   "cell_type": "code",
   "execution_count": 61,
   "id": "4fa90284",
   "metadata": {
    "ExecuteTime": {
     "end_time": "2023-01-27T14:39:50.965789Z",
     "start_time": "2023-01-27T14:39:50.956794Z"
    }
   },
   "outputs": [
    {
     "name": "stdout",
     "output_type": "stream",
     "text": [
      "__truediv__ is called\n"
     ]
    },
    {
     "data": {
      "text/plain": [
       "'2.5'"
      ]
     },
     "execution_count": 61,
     "metadata": {},
     "output_type": "execute_result"
    }
   ],
   "source": [
    "keeper = NumberKeeper(5)\n",
    "keeper / 2 # 2ка пошла в качестве b в класс Divisible/ применен магический метод __truediv__"
   ]
  },
  {
   "cell_type": "code",
   "execution_count": 62,
   "id": "b9725442",
   "metadata": {
    "ExecuteTime": {
     "end_time": "2023-01-27T14:42:17.899835Z",
     "start_time": "2023-01-27T14:42:17.894740Z"
    }
   },
   "outputs": [
    {
     "name": "stdout",
     "output_type": "stream",
     "text": [
      "__str__ is called\n",
      "5\n"
     ]
    }
   ],
   "source": [
    "print(keeper) # вызвали магический метод __str__"
   ]
  },
  {
   "cell_type": "markdown",
   "id": "971e2852",
   "metadata": {},
   "source": [
    "## Интерфейс\n",
    "\n",
    "Классы позволяют проводить еще один трюк. Допустим, вы разрабатываете библиотеку для подключения к различным типам СУБД: к PostgreSQL, к ClickHouse, к MySQL и т.п.\n",
    "\n",
    "Как главный разработчик, вы принимаете решение писать по классу на каждый тип СУБД и при этом обязать всех программистов реализовать функцию .connect() в этих классах. С помощью ООП можно наложить это обязательство не только словами, но и кодом:"
   ]
  },
  {
   "cell_type": "code",
   "execution_count": 63,
   "id": "72bb163d",
   "metadata": {
    "ExecuteTime": {
     "end_time": "2023-01-27T14:47:42.267209Z",
     "start_time": "2023-01-27T14:47:42.257971Z"
    }
   },
   "outputs": [],
   "source": [
    "import time\n",
    "\n",
    "# Создаем класс с функцией, которую требуется реализовать\n",
    "class Connectable:\n",
    "    def connect(conn_uri: str):\n",
    "        raise NotImplemented('you should override this method')\n",
    "        \n",
    "class PostgresqlConnection(Connectable):\n",
    "    def connect(conn_uri: str):\n",
    "    # теперь мы получили в наследство неисправную функцию\n",
    "    # надо ее переопределить на исправную версию\n",
    "        print('connecting to postgres')\n",
    "        time.sleep(3)\n",
    "        print('connection done')"
   ]
  },
  {
   "cell_type": "code",
   "execution_count": 65,
   "id": "48b7b9cd",
   "metadata": {
    "ExecuteTime": {
     "end_time": "2023-01-27T14:48:34.023867Z",
     "start_time": "2023-01-27T14:48:31.015637Z"
    }
   },
   "outputs": [
    {
     "name": "stdout",
     "output_type": "stream",
     "text": [
      "connecting to postgres\n",
      "connection done\n"
     ]
    }
   ],
   "source": [
    "con_1 = PostgresqlConnection()\n",
    "con_1.connect()"
   ]
  },
  {
   "cell_type": "markdown",
   "id": "8d7324f4",
   "metadata": {
    "ExecuteTime": {
     "end_time": "2023-01-27T14:48:59.594144Z",
     "start_time": "2023-01-27T14:48:59.577194Z"
    }
   },
   "source": [
    "Класс `Connectable` в этом случае будет называться _интерфейсом_. Грубо говоря, интерфейс - это класс, который ничего не делает по существу и только дает обязательства на реализацию того или иного метода.\n",
    "\n",
    "Интерфейсы используются, чтобы напоминать другим разработчикам, какие методы они должны реализовать для нормальной работы класса в остальной системе :)"
   ]
  },
  {
   "cell_type": "markdown",
   "id": "55379928",
   "metadata": {
    "ExecuteTime": {
     "end_time": "2023-01-27T14:49:20.961020Z",
     "start_time": "2023-01-27T14:49:20.952601Z"
    }
   },
   "source": [
    "## SOLID-принципы\n",
    "Пять принципов, по которым стоит строить классы. Не обязательно их всех запомнить, но лучше держать в голове и потихоньку к ним приближаться :)\n",
    "1. Принцип единственной ответственности (single responsibility principle)\n",
    "2. Программные сущности должны быть открыты для расширения, но закрыты для модификации».\n",
    "3. Объекты в программе должны быть заменяемыми на экземпляры их подтипов без изменения правильности выполнения программы\n",
    "4. Много интерфейсов, специально предназначенных для клиентов, лучше, чем один интерфейс общего назначения.\n",
    "5. Зависимость на Абстракциях."
   ]
  }
 ],
 "metadata": {
  "kernelspec": {
   "display_name": "Python 3 (ipykernel)",
   "language": "python",
   "name": "python3"
  },
  "language_info": {
   "codemirror_mode": {
    "name": "ipython",
    "version": 3
   },
   "file_extension": ".py",
   "mimetype": "text/x-python",
   "name": "python",
   "nbconvert_exporter": "python",
   "pygments_lexer": "ipython3",
   "version": "3.10.6"
  },
  "varInspector": {
   "cols": {
    "lenName": 16,
    "lenType": 16,
    "lenVar": 40
   },
   "kernels_config": {
    "python": {
     "delete_cmd_postfix": "",
     "delete_cmd_prefix": "del ",
     "library": "var_list.py",
     "varRefreshCmd": "print(var_dic_list())"
    },
    "r": {
     "delete_cmd_postfix": ") ",
     "delete_cmd_prefix": "rm(",
     "library": "var_list.r",
     "varRefreshCmd": "cat(var_dic_list()) "
    }
   },
   "types_to_exclude": [
    "module",
    "function",
    "builtin_function_or_method",
    "instance",
    "_Feature"
   ],
   "window_display": false
  }
 },
 "nbformat": 4,
 "nbformat_minor": 5
}
