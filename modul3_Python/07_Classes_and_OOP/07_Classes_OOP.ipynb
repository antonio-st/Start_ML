{
 "cells": [
  {
   "cell_type": "markdown",
   "id": "44e6ec8b",
   "metadata": {},
   "source": [
    " ### Определения\n",
    " \n",
    "* <b> Объектно-ориентированное программирование (ООП) </b>  — методология программирования, основанная на представлении программы в виде совокупности объектов, каждый из которых является экземпляром определённого класса, а классы образуют иерархию наследования.\n",
    "\n",
    "\n",
    "* <b>  Класс </b> — определенный программистом прототип программируемого объекта с набором атрибутов (переменных и методов), которые описывают данный объект. Доступ к атрибутам и методам осуществляется через точку.\n",
    "<p>  \n",
    "* <b>   Переменная класса </b> — переменная, доступная для всех экземпляров данного класса. Определяется внутри класса, но вне любых методов класса.\n",
    "<p> \n",
    "* <b>  Абстрактные классы </b> — это классы, которые объявлены, но не содержат реализации. Они не предполагают создание своих объектов, т.е служат только для того, чтобы хранить общие свойства между другими классами. Абстрактные классы работают как шаблон для подклассов.\n",
    "<p> \n",
    "* <b>  Экземпляр класса </b> — отдельный объект-представитель определенного класса.\n",
    "<p> \n",
    "* <b>  Переменная экземпляра класса </b> — переменная, определенная внутри метода класса, принадлежащая только к этому классу.\n",
    "<p> \n",
    "* <b>  Метод </b> — особая функция, определенная внутри класса.\n",
    "<p> \n",
    "* <b>   Наследование </b> — передача атрибутов и методов родительского класса дочерним классам.\n",
    "<p> \n",
    "* <b>  Перегрузка функций </b> — изменение работы метода, унаследованного дочерним классом от родительского класса.\n",
    "<p> \n",
    "* <b>  Перегрузка операторов </b> — определение работы операторов с экземплярами данного класса.\n",
    "<p> \n",
    "* <b>  Инверсия зависимостей </b> — модули верхних уровней не должны импортировать сущности из модулей нижних уровней.\n",
    "<p> \n",
    "* <b>  Полиморфизм </b> — возможность обработки разных типов данных (т. е. принадлежащих к разным классам) с помощью «одной и той же» функции, или метода.\n",
    "<p> \n",
    "* <b>  Магические методы </b> — базовые методы, которые можно назначить любому классу."
   ]
  },
  {
   "cell_type": "markdown",
   "id": "e0b08a0b",
   "metadata": {},
   "source": [
    "### Простой класс\n",
    "\n",
    "**Класс** - это некоторое объединение свойств объекта и действий, которые этот объект может совершать. \n",
    "<br> - Класс является некоторым шаблоном, по которому клепаются объекты. <br> - Например, по классу \"Машина\" можно создавать конкретные экземпляры (или объекты) машины - конкретные марки."
   ]
  },
  {
   "cell_type": "code",
   "execution_count": 1,
   "id": "9d41fe77",
   "metadata": {
    "ExecuteTime": {
     "end_time": "2023-01-08T18:18:15.534692Z",
     "start_time": "2023-01-08T18:18:15.529631Z"
    }
   },
   "outputs": [],
   "source": [
    "'''\n",
    "В примере выше мы из библиотеки dataclasses импортировали dataclass, что это такое? \n",
    "Модуль dataclasses предоставляет декораторы и функции для того, чтобы автоматически \n",
    "добавлять магические (специальные) методы (о них чуть дальше), такие как __init__() или __repr__() \n",
    "к определяемым пользовательским классам. \n",
    "То есть, dataclass заменил нам объявление \n",
    "'''\n",
    "\n",
    "from dataclasses import dataclass\n",
    "\n",
    "@dataclass # упрощает создание класса\n",
    "# класс объявляется с ключевого слова class название принято писать с большой буквы\n",
    "class Auto:\n",
    "    color: str\n",
    "    manufacturer: str\n",
    "    series: str\n",
    "    fuel_type: str"
   ]
  },
  {
   "cell_type": "code",
   "execution_count": 2,
   "id": "0e98aa8c",
   "metadata": {
    "ExecuteTime": {
     "end_time": "2023-01-08T18:18:15.548749Z",
     "start_time": "2023-01-08T18:18:15.538498Z"
    }
   },
   "outputs": [],
   "source": [
    "# присваиваем переменной значение класса\n",
    "car_1 = Auto('green', 'Ford', 'Mustang', 'Gasoline')"
   ]
  },
  {
   "cell_type": "code",
   "execution_count": 3,
   "id": "25421a41",
   "metadata": {
    "ExecuteTime": {
     "end_time": "2023-01-08T18:18:15.559659Z",
     "start_time": "2023-01-08T18:18:15.550844Z"
    },
    "scrolled": true
   },
   "outputs": [
    {
     "data": {
      "text/plain": [
       "Auto(color='green', manufacturer='Ford', series='Mustang', fuel_type='Gasoline')"
      ]
     },
     "execution_count": 3,
     "metadata": {},
     "output_type": "execute_result"
    }
   ],
   "source": [
    "car_1"
   ]
  },
  {
   "cell_type": "markdown",
   "id": "55d14758",
   "metadata": {},
   "source": [
    "> `Класс` — это описание объекта. \n",
    "\n",
    "> `Объекты`, созданные на основе классов, — это объекты класса (экземпляры класса)"
   ]
  },
  {
   "cell_type": "code",
   "execution_count": 4,
   "id": "352e22ab",
   "metadata": {
    "ExecuteTime": {
     "end_time": "2023-01-08T18:18:15.568826Z",
     "start_time": "2023-01-08T18:18:15.565323Z"
    }
   },
   "outputs": [],
   "source": [
    "# конструктор класса - что делать когда создадим объект\n",
    "class AutoShort:\n",
    "    '''\n",
    "     функция вызывается каждый раз при создании объекта,\n",
    "     задает, что нужно принимать на вход для создания объекта,\n",
    "     self - сам объект\n",
    "     __init__ — это конструктор класса (метод, который автоматически вызывается при создании объектов),\n",
    "    он объявляет Python как нужно создавать объекты класса.\n",
    "    '''\n",
    "    def __init__(self, color): # self объект который будет создан\n",
    "        self.color = color # создаваемому объекту задаем переменную color"
   ]
  },
  {
   "cell_type": "code",
   "execution_count": 5,
   "id": "b98f4bb3",
   "metadata": {
    "ExecuteTime": {
     "end_time": "2023-01-08T18:18:15.574057Z",
     "start_time": "2023-01-08T18:18:15.570520Z"
    }
   },
   "outputs": [
    {
     "data": {
      "text/plain": [
       "'red'"
      ]
     },
     "execution_count": 5,
     "metadata": {},
     "output_type": "execute_result"
    }
   ],
   "source": [
    "colored_car = AutoShort('red')\n",
    "colored_car.color # вызов свойства объекта через точку"
   ]
  },
  {
   "cell_type": "code",
   "execution_count": 6,
   "id": "673f67df",
   "metadata": {
    "ExecuteTime": {
     "end_time": "2023-01-08T18:18:15.588364Z",
     "start_time": "2023-01-08T18:18:15.577123Z"
    }
   },
   "outputs": [
    {
     "data": {
      "text/plain": [
       "'blue'"
      ]
     },
     "execution_count": 6,
     "metadata": {},
     "output_type": "execute_result"
    }
   ],
   "source": [
    "# поменять переменную внутри объекта\n",
    "colored_car.color = 'blue'\n",
    "colored_car.color"
   ]
  },
  {
   "cell_type": "markdown",
   "id": "e3f829fd",
   "metadata": {},
   "source": [
    "Помимо свойств у классов и объектов есть еще и **методы**. \n",
    "Т.е объект может ***не только иметь свойства, но и уметь что-то делать***. \n",
    "\n",
    "Каждая переменная в классе называется **полем или свойством**, каждая функция — **методом**."
   ]
  },
  {
   "cell_type": "code",
   "execution_count": 11,
   "id": "4c12b6f7",
   "metadata": {
    "ExecuteTime": {
     "end_time": "2023-01-08T18:25:55.454091Z",
     "start_time": "2023-01-08T18:25:55.446532Z"
    }
   },
   "outputs": [],
   "source": [
    "class AutoWithAlarm:\n",
    "    def __init__(self, color, alarm_sound:str):\n",
    "        # через name:type можно делать рекомендации типа\n",
    "        self.color = color # принять объект и записать в него свойство\n",
    "        self.alarm_sound = alarm_sound\n",
    "    \n",
    "    # эту функцию видят все объекты класса и умеют ее вызывать\n",
    "    def alarm(self):\n",
    "        # внутри функции можно обратиться к свойствам объекта\n",
    "        print(self.alarm_sound)\n",
    "\n",
    "        \n",
    "# Метод — это функция, объявленная внутри класса. \n",
    "# здесь 2 метода: __init__ — конструктор класса (объявляет Python, как нужно создавать объекты) \n",
    "# и alarm(), который отвечает за подачу звукового сигнала."
   ]
  },
  {
   "cell_type": "code",
   "execution_count": 15,
   "id": "9f100ac9",
   "metadata": {
    "ExecuteTime": {
     "end_time": "2023-01-08T18:28:12.888986Z",
     "start_time": "2023-01-08T18:28:12.886824Z"
    }
   },
   "outputs": [],
   "source": [
    "# создаем объект my_new_car класса AutoWithAlarm\n",
    "my_new_car = AutoWithAlarm('blue', 'bee-beep')"
   ]
  },
  {
   "cell_type": "code",
   "execution_count": 18,
   "id": "52516009",
   "metadata": {
    "ExecuteTime": {
     "end_time": "2023-01-08T18:29:32.592240Z",
     "start_time": "2023-01-08T18:29:32.586792Z"
    }
   },
   "outputs": [
    {
     "name": "stdout",
     "output_type": "stream",
     "text": [
      "bee-beep\n",
      "blue\n"
     ]
    }
   ],
   "source": [
    "# Теперь у < объекта класса > AutoWithAlarm будут следующие свойства: color = ‘red’, \n",
    "# а alarm_sound = ‘bee-beep’. Проверим:\n",
    "\n",
    "print(my_new_car.alarm_sound)\n",
    "print(my_new_car.color)"
   ]
  },
  {
   "cell_type": "code",
   "execution_count": 19,
   "id": "d9a4ab3d",
   "metadata": {
    "ExecuteTime": {
     "end_time": "2023-01-08T18:30:57.068498Z",
     "start_time": "2023-01-08T18:30:57.062869Z"
    },
    "scrolled": true
   },
   "outputs": [
    {
     "name": "stdout",
     "output_type": "stream",
     "text": [
      "bee-beep\n"
     ]
    }
   ],
   "source": [
    "my_new_car.alarm()"
   ]
  },
  {
   "cell_type": "markdown",
   "id": "754611da",
   "metadata": {},
   "source": [
    "\n",
    "    Мы вызвали функцию alarm() у объекта my_new_car, т.е мы сначала создали объект класса AutoWithAlarm и этот объект получает на вход свойство и метод.\n",
    "\n",
    "    Мы создали класс как шаблон объектов, затем начали создавать объекты по образу и подобию этого класса. Такой подход называется ООП — объектно-ориентированное программированием.\n",
    "\n",
    "    В ООП вы строите свой код через классы, объекты и их взаимодействие. Небольшая загвоздка в том, что в Python всё является объектами, даже классы. Функции, модули, файлы — всё это тоже объекты. Хм, если класс сам по себе объект, то какие у него атрибуты? Посмотреть доступные атрибуты можно с помощью функции dir()\n"
   ]
  },
  {
   "cell_type": "code",
   "execution_count": 23,
   "id": "3312416e",
   "metadata": {
    "ExecuteTime": {
     "end_time": "2023-01-08T18:43:11.559250Z",
     "start_time": "2023-01-08T18:43:11.553925Z"
    }
   },
   "outputs": [
    {
     "name": "stdout",
     "output_type": "stream",
     "text": [
      "['__class__', '__delattr__', '__dict__', '__dir__', '__doc__', '__eq__', '__format__', '__ge__', '__getattribute__', '__gt__', '__hash__', '__init__', '__init_subclass__', '__le__', '__lt__', '__module__', '__ne__', '__new__', '__reduce__', '__reduce_ex__', '__repr__', '__setattr__', '__sizeof__', '__str__', '__subclasshook__', '__weakref__', 'alarm']\n"
     ]
    }
   ],
   "source": [
    "print(dir(AutoWithAlarm))"
   ]
  }
 ],
 "metadata": {
  "kernelspec": {
   "display_name": "Python 3 (ipykernel)",
   "language": "python",
   "name": "python3"
  },
  "language_info": {
   "codemirror_mode": {
    "name": "ipython",
    "version": 3
   },
   "file_extension": ".py",
   "mimetype": "text/x-python",
   "name": "python",
   "nbconvert_exporter": "python",
   "pygments_lexer": "ipython3",
   "version": "3.10.6"
  },
  "varInspector": {
   "cols": {
    "lenName": 16,
    "lenType": 16,
    "lenVar": 40
   },
   "kernels_config": {
    "python": {
     "delete_cmd_postfix": "",
     "delete_cmd_prefix": "del ",
     "library": "var_list.py",
     "varRefreshCmd": "print(var_dic_list())"
    },
    "r": {
     "delete_cmd_postfix": ") ",
     "delete_cmd_prefix": "rm(",
     "library": "var_list.r",
     "varRefreshCmd": "cat(var_dic_list()) "
    }
   },
   "types_to_exclude": [
    "module",
    "function",
    "builtin_function_or_method",
    "instance",
    "_Feature"
   ],
   "window_display": false
  }
 },
 "nbformat": 4,
 "nbformat_minor": 5
}
