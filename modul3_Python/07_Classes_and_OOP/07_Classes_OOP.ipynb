{
 "cells": [
  {
   "cell_type": "markdown",
   "id": "44e6ec8b",
   "metadata": {},
   "source": [
    " ### Определения\n",
    " \n",
    "* <b> Объектно-ориентированное программирование (ООП) </b>  — методология программирования, основанная на представлении программы в виде совокупности объектов, каждый из которых является экземпляром определённого класса, а классы образуют иерархию наследования.\n",
    "\n",
    "\n",
    "* <b>  Класс </b> — определенный программистом прототип программируемого объекта с набором атрибутов (переменных и методов), которые описывают данный объект. Доступ к атрибутам и методам осуществляется через точку.\n",
    "<p>  \n",
    "* <b>   Переменная класса </b> — переменная, доступная для всех экземпляров данного класса. Определяется внутри класса, но вне любых методов класса.\n",
    "<p> \n",
    "* <b>  Абстрактные классы </b> — это классы, которые объявлены, но не содержат реализации. Они не предполагают создание своих объектов, т.е служат только для того, чтобы хранить общие свойства между другими классами. Абстрактные классы работают как шаблон для подклассов.\n",
    "<p> \n",
    "* <b>  Экземпляр класса </b> — отдельный объект-представитель определенного класса.\n",
    "<p> \n",
    "* <b>  Переменная экземпляра класса </b> — переменная, определенная внутри метода класса, принадлежащая только к этому классу.\n",
    "<p> \n",
    "* <b>  Метод </b> — особая функция, определенная внутри класса.\n",
    "<p> \n",
    "* <b>   Наследование </b> — передача атрибутов и методов родительского класса дочерним классам.\n",
    "<p> \n",
    "* <b>  Перегрузка функций </b> — изменение работы метода, унаследованного дочерним классом от родительского класса.\n",
    "<p> \n",
    "* <b>  Перегрузка операторов </b> — определение работы операторов с экземплярами данного класса.\n",
    "<p> \n",
    "* <b>  Инверсия зависимостей </b> — модули верхних уровней не должны импортировать сущности из модулей нижних уровней.\n",
    "<p> \n",
    "* <b>  Полиморфизм </b> — возможность обработки разных типов данных (т. е. принадлежащих к разным классам) с помощью «одной и той же» функции, или метода.\n",
    "<p> \n",
    "* <b>  Магические методы </b> — базовые методы, которые можно назначить любому классу."
   ]
  },
  {
   "cell_type": "markdown",
   "id": "e0b08a0b",
   "metadata": {},
   "source": [
    "### Простой класс\n",
    "\n",
    "**Класс** - это некоторое объединение свойств объекта и действий, которые этот объект может совершать. \n",
    "<br> - Класс является некоторым шаблоном, по которому клепаются объекты. <br> - Например, по классу \"Машина\" можно создавать конкретные экземпляры (или объекты) машины - конкретные марки."
   ]
  },
  {
   "cell_type": "code",
   "execution_count": 58,
   "id": "9d41fe77",
   "metadata": {
    "ExecuteTime": {
     "end_time": "2023-01-10T19:44:49.876933Z",
     "start_time": "2023-01-10T19:44:49.871993Z"
    }
   },
   "outputs": [],
   "source": [
    "'''\n",
    "В примере выше мы из библиотеки dataclasses импортировали dataclass, что это такое? \n",
    "Модуль dataclasses предоставляет декораторы и функции для того, чтобы автоматически \n",
    "добавлять магические (специальные) методы (о них чуть дальше), такие как __init__() или __repr__() \n",
    "к определяемым пользовательским классам. \n",
    "То есть, dataclass заменил нам объявление \n",
    "'''\n",
    "\n",
    "from dataclasses import dataclass\n",
    "\n",
    "@dataclass # упрощает создание класса\n",
    "# класс объявляется с ключевого слова class название принято писать с большой буквы\n",
    "class Auto:\n",
    "    color: str\n",
    "    manufacturer: str\n",
    "    series: str\n",
    "    fuel_type: str"
   ]
  },
  {
   "cell_type": "code",
   "execution_count": 2,
   "id": "0e98aa8c",
   "metadata": {
    "ExecuteTime": {
     "end_time": "2023-01-08T18:18:15.548749Z",
     "start_time": "2023-01-08T18:18:15.538498Z"
    }
   },
   "outputs": [],
   "source": [
    "# присваиваем переменной значение класса\n",
    "car_1 = Auto('green', 'Ford', 'Mustang', 'Gasoline')"
   ]
  },
  {
   "cell_type": "code",
   "execution_count": 3,
   "id": "25421a41",
   "metadata": {
    "ExecuteTime": {
     "end_time": "2023-01-08T18:18:15.559659Z",
     "start_time": "2023-01-08T18:18:15.550844Z"
    },
    "scrolled": true
   },
   "outputs": [
    {
     "data": {
      "text/plain": [
       "Auto(color='green', manufacturer='Ford', series='Mustang', fuel_type='Gasoline')"
      ]
     },
     "execution_count": 3,
     "metadata": {},
     "output_type": "execute_result"
    }
   ],
   "source": [
    "car_1"
   ]
  },
  {
   "cell_type": "markdown",
   "id": "55d14758",
   "metadata": {},
   "source": [
    "> `Класс` — это описание объекта. \n",
    "\n",
    "> `Объекты`, созданные на основе классов, — это объекты класса (экземпляры класса)"
   ]
  },
  {
   "cell_type": "code",
   "execution_count": 4,
   "id": "352e22ab",
   "metadata": {
    "ExecuteTime": {
     "end_time": "2023-01-08T18:18:15.568826Z",
     "start_time": "2023-01-08T18:18:15.565323Z"
    }
   },
   "outputs": [],
   "source": [
    "# конструктор класса - что делать когда создадим объект\n",
    "class AutoShort:\n",
    "    '''\n",
    "     функция вызывается каждый раз при создании объекта,\n",
    "     задает, что нужно принимать на вход для создания объекта,\n",
    "     self - сам объект\n",
    "     __init__ — это конструктор класса (метод, который автоматически вызывается при создании объектов),\n",
    "    он объявляет Python как нужно создавать объекты класса.\n",
    "    '''\n",
    "    def __init__(self, color): # self объект который будет создан\n",
    "        self.color = color # создаваемому объекту задаем переменную color"
   ]
  },
  {
   "cell_type": "code",
   "execution_count": 5,
   "id": "b98f4bb3",
   "metadata": {
    "ExecuteTime": {
     "end_time": "2023-01-08T18:18:15.574057Z",
     "start_time": "2023-01-08T18:18:15.570520Z"
    }
   },
   "outputs": [
    {
     "data": {
      "text/plain": [
       "'red'"
      ]
     },
     "execution_count": 5,
     "metadata": {},
     "output_type": "execute_result"
    }
   ],
   "source": [
    "colored_car = AutoShort('red')\n",
    "colored_car.color # вызов свойства объекта через точку"
   ]
  },
  {
   "cell_type": "code",
   "execution_count": 6,
   "id": "673f67df",
   "metadata": {
    "ExecuteTime": {
     "end_time": "2023-01-08T18:18:15.588364Z",
     "start_time": "2023-01-08T18:18:15.577123Z"
    }
   },
   "outputs": [
    {
     "data": {
      "text/plain": [
       "'blue'"
      ]
     },
     "execution_count": 6,
     "metadata": {},
     "output_type": "execute_result"
    }
   ],
   "source": [
    "# поменять переменную внутри объекта\n",
    "colored_car.color = 'blue'\n",
    "colored_car.color"
   ]
  },
  {
   "cell_type": "markdown",
   "id": "e3f829fd",
   "metadata": {},
   "source": [
    "Помимо свойств у классов и объектов есть еще и **методы**. \n",
    "Т.е объект может ***не только иметь свойства, но и уметь что-то делать***. \n",
    "\n",
    "Каждая переменная в классе называется **полем или свойством**, каждая функция — **методом**."
   ]
  },
  {
   "cell_type": "code",
   "execution_count": 11,
   "id": "4c12b6f7",
   "metadata": {
    "ExecuteTime": {
     "end_time": "2023-01-08T18:25:55.454091Z",
     "start_time": "2023-01-08T18:25:55.446532Z"
    }
   },
   "outputs": [],
   "source": [
    "class AutoWithAlarm:\n",
    "    def __init__(self, color, alarm_sound:str):\n",
    "        # через name:type можно делать рекомендации типа\n",
    "        self.color = color # принять объект и записать в него свойство\n",
    "        self.alarm_sound = alarm_sound\n",
    "    \n",
    "    # эту функцию видят все объекты класса и умеют ее вызывать\n",
    "    def alarm(self):\n",
    "        # внутри функции можно обратиться к свойствам объекта\n",
    "        print(self.alarm_sound)\n",
    "\n",
    "        \n",
    "# Метод — это функция, объявленная внутри класса. \n",
    "# здесь 2 метода: __init__ — конструктор класса (объявляет Python, как нужно создавать объекты) \n",
    "# и alarm(), который отвечает за подачу звукового сигнала."
   ]
  },
  {
   "cell_type": "code",
   "execution_count": 15,
   "id": "9f100ac9",
   "metadata": {
    "ExecuteTime": {
     "end_time": "2023-01-08T18:28:12.888986Z",
     "start_time": "2023-01-08T18:28:12.886824Z"
    }
   },
   "outputs": [],
   "source": [
    "# создаем объект my_new_car класса AutoWithAlarm\n",
    "my_new_car = AutoWithAlarm('blue', 'bee-beep')"
   ]
  },
  {
   "cell_type": "code",
   "execution_count": 18,
   "id": "52516009",
   "metadata": {
    "ExecuteTime": {
     "end_time": "2023-01-08T18:29:32.592240Z",
     "start_time": "2023-01-08T18:29:32.586792Z"
    }
   },
   "outputs": [
    {
     "name": "stdout",
     "output_type": "stream",
     "text": [
      "bee-beep\n",
      "blue\n"
     ]
    }
   ],
   "source": [
    "# Теперь у < объекта класса > AutoWithAlarm будут следующие свойства: color = ‘red’, \n",
    "# а alarm_sound = ‘bee-beep’. Проверим:\n",
    "\n",
    "print(my_new_car.alarm_sound)\n",
    "print(my_new_car.color)"
   ]
  },
  {
   "cell_type": "code",
   "execution_count": 19,
   "id": "d9a4ab3d",
   "metadata": {
    "ExecuteTime": {
     "end_time": "2023-01-08T18:30:57.068498Z",
     "start_time": "2023-01-08T18:30:57.062869Z"
    },
    "scrolled": true
   },
   "outputs": [
    {
     "name": "stdout",
     "output_type": "stream",
     "text": [
      "bee-beep\n"
     ]
    }
   ],
   "source": [
    "my_new_car.alarm()"
   ]
  },
  {
   "cell_type": "markdown",
   "id": "754611da",
   "metadata": {},
   "source": [
    "\n",
    "    Мы вызвали функцию alarm() у объекта my_new_car, т.е мы сначала создали объект класса AutoWithAlarm и этот объект получает на вход свойство и метод.\n",
    "\n",
    "    Мы создали класс как шаблон объектов, затем начали создавать объекты по образу и подобию этого класса. Такой подход называется ООП — объектно-ориентированное программированием.\n",
    "\n",
    "    В ООП вы строите свой код через классы, объекты и их взаимодействие. Небольшая загвоздка в том, что в Python всё является объектами, даже классы. Функции, модули, файлы — всё это тоже объекты. Хм, если класс сам по себе объект, то какие у него атрибуты? Посмотреть доступные атрибуты можно с помощью функции dir()"
   ]
  },
  {
   "cell_type": "code",
   "execution_count": 23,
   "id": "3312416e",
   "metadata": {
    "ExecuteTime": {
     "end_time": "2023-01-08T18:43:11.559250Z",
     "start_time": "2023-01-08T18:43:11.553925Z"
    }
   },
   "outputs": [
    {
     "name": "stdout",
     "output_type": "stream",
     "text": [
      "['__class__', '__delattr__', '__dict__', '__dir__', '__doc__', '__eq__', '__format__', '__ge__', '__getattribute__', '__gt__', '__hash__', '__init__', '__init_subclass__', '__le__', '__lt__', '__module__', '__ne__', '__new__', '__reduce__', '__reduce_ex__', '__repr__', '__setattr__', '__sizeof__', '__str__', '__subclasshook__', '__weakref__', 'alarm']\n"
     ]
    }
   ],
   "source": [
    "print(dir(AutoWithAlarm))"
   ]
  },
  {
   "cell_type": "markdown",
   "id": "fa25de92",
   "metadata": {},
   "source": [
    "### > Наследование\n",
    "\n",
    "<p> -> Суть наследования сводится к тому, что на базе одного класса (предка) возможно создать другой класс (дочерний), который получает все свойства и методы своего родительского класса (или класса-предка или суперкласса или базового класса). Вы берёте некоторый класс, забираете у него все поля и методы и строите свой класс на основе предыдущего.\n",
    "\n",
    "<p>  -> Представим, что у вас класс, в котором вы уже написали много функционала, написали поля, методы и пр. Но теперь вы хотите создать класс, функционал которого немного отличается от старого класса. Для решения этой проблемы можно просто скопировать код прошлого класса, немного дополнив его. Но есть и более элегантный способ:"
   ]
  },
  {
   "cell_type": "code",
   "execution_count": 37,
   "id": "cb47ea73",
   "metadata": {
    "ExecuteTime": {
     "end_time": "2023-01-09T19:49:15.100617Z",
     "start_time": "2023-01-09T19:49:15.091972Z"
    }
   },
   "outputs": [],
   "source": [
    "class Auto:\n",
    "# можно заранее создать поля\n",
    "#     color = ''\n",
    "#     name = ''\n",
    "#     alarm_sound = ''\n",
    "    \n",
    "    def __init__(self, color: str, name: str, alarm_sound: str):\n",
    "        self.color = color\n",
    "        self.name = name\n",
    "        self.alarm_sound = alarm_sound\n",
    "    \n",
    "    def beep(self):\n",
    "        print(self.alarm_sound)"
   ]
  },
  {
   "cell_type": "code",
   "execution_count": 38,
   "id": "a4c143eb",
   "metadata": {
    "ExecuteTime": {
     "end_time": "2023-01-09T19:49:18.216630Z",
     "start_time": "2023-01-09T19:49:18.210112Z"
    }
   },
   "outputs": [
    {
     "data": {
      "text/plain": [
       "'be-bee-beeep'"
      ]
     },
     "execution_count": 38,
     "metadata": {},
     "output_type": "execute_result"
    }
   ],
   "source": [
    "car_beep = Auto('green', 'Moskvich', 'be-bee-beeep')\n",
    "car_beep.alarm_sound"
   ]
  },
  {
   "cell_type": "code",
   "execution_count": 39,
   "id": "ba847a70",
   "metadata": {
    "ExecuteTime": {
     "end_time": "2023-01-09T19:49:20.541465Z",
     "start_time": "2023-01-09T19:49:20.535628Z"
    }
   },
   "outputs": [],
   "source": [
    "# хотим сделать расширение класса:\n",
    "class AutoWithAlarm(Auto):\n",
    "    def alarm(self):\n",
    "        print(f'piy-piy')"
   ]
  },
  {
   "cell_type": "code",
   "execution_count": 40,
   "id": "df17fca4",
   "metadata": {
    "ExecuteTime": {
     "end_time": "2023-01-09T19:49:22.572543Z",
     "start_time": "2023-01-09T19:49:22.566321Z"
    }
   },
   "outputs": [
    {
     "name": "stdout",
     "output_type": "stream",
     "text": [
      "beeeeep\n",
      "piy-piy\n"
     ]
    }
   ],
   "source": [
    "car_sound = AutoWithAlarm('blue', 'Granta', 'beeeeep')\n",
    "car_sound.beep() # выводится и унаследованный метод beep\n",
    "car_sound.alarm() # и новый alarm\n"
   ]
  },
  {
   "cell_type": "code",
   "execution_count": 43,
   "id": "30a0636f",
   "metadata": {
    "ExecuteTime": {
     "end_time": "2023-01-09T19:50:01.925913Z",
     "start_time": "2023-01-09T19:50:01.916506Z"
    }
   },
   "outputs": [
    {
     "name": "stdout",
     "output_type": "stream",
     "text": [
      "True\n"
     ]
    }
   ],
   "source": [
    "# проверить: содержит ли объект car_sound свойства и методы класса Auto\n",
    "print(isinstance(car_sound, Auto))"
   ]
  },
  {
   "cell_type": "markdown",
   "id": "353b5007",
   "metadata": {},
   "source": [
    "[Принцип подстановки Барбары Лисков](https://ru.wikipedia.org/wiki/%D0%9F%D1%80%D0%B8%D0%BD%D1%86%D0%B8%D0%BF_%D0%BF%D0%BE%D0%B4%D1%81%D1%82%D0%B0%D0%BD%D0%BE%D0%B2%D0%BA%D0%B8_%D0%91%D0%B0%D1%80%D0%B1%D0%B0%D1%80%D1%8B_%D0%9B%D0%B8%D1%81%D0%BA%D0%BE%D0%B2)"
   ]
  },
  {
   "cell_type": "markdown",
   "id": "ced7e5b4",
   "metadata": {},
   "source": [
    "### > Наследование.Инверсия зависимостей\n",
    "Еще одна вещь про наследование. Если у вас есть много слабо связанных сущностей, то стоит их общие черты выделить в некий \"абстрактный\" класс, а затем каждую сущность сделать наследником."
   ]
  },
  {
   "cell_type": "code",
   "execution_count": 52,
   "id": "9b8390ba",
   "metadata": {
    "ExecuteTime": {
     "end_time": "2023-01-09T20:16:06.409458Z",
     "start_time": "2023-01-09T20:16:06.403048Z"
    }
   },
   "outputs": [],
   "source": [
    "'''\n",
    "Абстрактные классы - это классы, которые объявлены, но не содержат реализаций. \n",
    "Он не предполагает создание своих объектов, т.е служит только для того, \n",
    "чтобы хранить общие свойства между другими классами. \n",
    "Абстрактные классы работают как шаблон для подклассов.\n",
    "'''\n",
    "class GeneralAuto: # абстрактный класс, от него наследуются детали\n",
    "#     color = ''\n",
    "#     name = ''\n",
    "    def __init__(self, color: str, name: str):\n",
    "        self.color = color\n",
    "        self.name = name\n",
    "\n",
    "class AutoTrCar(GeneralAuto):\n",
    "    def set_position(self, position):\n",
    "        if position == 'D':\n",
    "            print(f'going forward')\n",
    "            \n",
    "class ManualTrCar(GeneralAuto):\n",
    "    def set_transm(self, step):\n",
    "        if step == 'R':\n",
    "            print(f'going backwards')"
   ]
  },
  {
   "cell_type": "code",
   "execution_count": 57,
   "id": "06145e7c",
   "metadata": {
    "ExecuteTime": {
     "end_time": "2023-01-09T20:18:06.048139Z",
     "start_time": "2023-01-09T20:18:06.039889Z"
    }
   },
   "outputs": [
    {
     "name": "stdout",
     "output_type": "stream",
     "text": [
      "going backwards\n"
     ]
    }
   ],
   "source": [
    "# создаем объект расширенного класса ManualTrCar\n",
    "car_mtc = ManualTrCar('blue','Reno')\n",
    "# запускаем метод объекта с передачей свойства в метод\n",
    "car_mtc.set_transm('R')"
   ]
  },
  {
   "cell_type": "markdown",
   "id": "2048607e",
   "metadata": {},
   "source": [
    "### > Перегрузка\n",
    "Перегрузкой называют создание в подклассах свойств и методов с теми же именами, что и в родительском классе. \n",
    "\n",
    "Класс-наследник может переопределить поведение родительской функции (никакой перегрузки на самом деле не происходит):"
   ]
  },
  {
   "cell_type": "code",
   "execution_count": 15,
   "id": "ac7c6e3d",
   "metadata": {
    "ExecuteTime": {
     "end_time": "2023-01-10T06:34:19.313166Z",
     "start_time": "2023-01-10T06:34:19.305879Z"
    }
   },
   "outputs": [
    {
     "name": "stdout",
     "output_type": "stream",
     "text": [
      "bum-bum\n",
      "beep broke, sorry\n"
     ]
    }
   ],
   "source": [
    "class Auto:\n",
    "    \n",
    "    def __init__(self, color: str, name: str, alarm_sound: str):\n",
    "        self.color = color\n",
    "        self.name = name\n",
    "        self.alarm_sound = alarm_sound\n",
    "        \n",
    "    def beep(self):\n",
    "        print(self.alarm_sound)\n",
    "            \n",
    "class AutoWithCustomBeep(Auto):\n",
    "    def beep(self):\n",
    "        super().beep() # вызов родительского метода\n",
    "        print(f'beep broke, sorry')\n",
    "        \n",
    "car_with_beep = AutoWithCustomBeep('white', 'prius', 'bum-bum')\n",
    "car_with_beep.beep()\n",
    "\n",
    "\n"
   ]
  },
  {
   "cell_type": "markdown",
   "id": "0a1e35b4",
   "metadata": {},
   "source": [
    "Python ищет определение метода или свойства сначала в локальном словаре экземпляра, \n",
    "потом в самом классе, и если не находит, то идёт в родительский класс и ищет там и так далее \n",
    "по всей цепочки иерархии. \n",
    "\n",
    "Расширение функциональности класса — это создание дочернего класса с \n",
    "некоторой дополнительной функциональностью, которой не было в родительском. \n",
    "\n",
    "\n",
    "Т.е в отличие от перегрузки, в дочернем классе создаётся то, чего не было в родительском классе."
   ]
  },
  {
   "cell_type": "code",
   "execution_count": 48,
   "id": "210ce3d1",
   "metadata": {
    "ExecuteTime": {
     "end_time": "2023-01-10T06:54:22.518039Z",
     "start_time": "2023-01-10T06:54:22.511596Z"
    }
   },
   "outputs": [],
   "source": [
    "class Type:\n",
    "    def __init__(self, car_type):\n",
    "        self.car_type = car_type\n",
    "\n",
    "class Car(Type):\n",
    "    def __init__(self, brand, car_type):\n",
    "        super().__init__(car_type)\n",
    "        self.brand = brand"
   ]
  },
  {
   "cell_type": "markdown",
   "id": "6f42665b",
   "metadata": {},
   "source": [
    "При такой реализации создать Car возможно только с брендом. \n",
    "\n",
    "Если надо определить еще и тип машины, то можно добавить свойство car_type в __init__ (в классе Car), но это бы нарушило принцип DRY (Don’t repeat yourself). Чтобы присвоит Car еще и тип нужно передать управление в  __init__ метод родительского класса.\n",
    "\n",
    "Для этого используется функция **super().функция род.класса**"
   ]
  },
  {
   "cell_type": "code",
   "execution_count": 51,
   "id": "511f0ab2",
   "metadata": {
    "ExecuteTime": {
     "end_time": "2023-01-10T07:52:53.893432Z",
     "start_time": "2023-01-10T07:52:53.888190Z"
    }
   },
   "outputs": [
    {
     "data": {
      "text/plain": [
       "'Sedan'"
      ]
     },
     "execution_count": 51,
     "metadata": {},
     "output_type": "execute_result"
    }
   ],
   "source": [
    "new_car = Car('Pejo', 'Sedan')\n",
    "new_car.brand\n",
    "new_car.car_type"
   ]
  },
  {
   "cell_type": "markdown",
   "id": "cf97bb9d",
   "metadata": {},
   "source": [
    "### > Полиморфизм\n",
    "[Полиморфизм в Python](https://habr.com/ru/post/552922/)\n",
    "\n",
    " это разное поведение одного и того же метода для разных классов (релевантно, в первую очередь, для работы операторов). Возможность создавать один и тот же метод в классе, работающий с данными разного типа. "
   ]
  },
  {
   "cell_type": "code",
   "execution_count": 54,
   "id": "b5cf4300",
   "metadata": {
    "ExecuteTime": {
     "end_time": "2023-01-10T07:56:13.851811Z",
     "start_time": "2023-01-10T07:56:13.845707Z"
    }
   },
   "outputs": [
    {
     "name": "stdout",
     "output_type": "stream",
     "text": [
      "float, 5.5\n",
      "float, 5\n"
     ]
    }
   ],
   "source": [
    "class NumberPrinter:\n",
    "    # для int\n",
    "    def print_number(self, num: int):\n",
    "        print(f'integer, {num}')\n",
    "        \n",
    "    # для float\n",
    "    def print_number(self, num: float):\n",
    "        print(f'float, {num}')\n",
    "\n",
    "NumberPrinter().print_number(5.5)\n",
    "NumberPrinter().print_number(5)"
   ]
  },
  {
   "cell_type": "markdown",
   "id": "c518ea5c",
   "metadata": {},
   "source": [
    "<font color = brown>\n",
    "В других языках этот пример бы сработал, но не в Python из-за его динамической типизации \n",
    "    \n",
    "(он возьмет только лишь последнюю реализацию функции)."
   ]
  },
  {
   "cell_type": "code",
   "execution_count": 7,
   "id": "4cd9da1b",
   "metadata": {
    "ExecuteTime": {
     "end_time": "2023-01-22T20:46:54.513437Z",
     "start_time": "2023-01-22T20:46:54.509160Z"
    }
   },
   "outputs": [
    {
     "data": {
      "text/plain": [
       "379749833583241"
      ]
     },
     "execution_count": 7,
     "metadata": {},
     "output_type": "execute_result"
    }
   ],
   "source": []
  }
 ],
 "metadata": {
  "kernelspec": {
   "display_name": "Python 3 (ipykernel)",
   "language": "python",
   "name": "python3"
  },
  "language_info": {
   "codemirror_mode": {
    "name": "ipython",
    "version": 3
   },
   "file_extension": ".py",
   "mimetype": "text/x-python",
   "name": "python",
   "nbconvert_exporter": "python",
   "pygments_lexer": "ipython3",
   "version": "3.10.5"
  },
  "varInspector": {
   "cols": {
    "lenName": 16,
    "lenType": 16,
    "lenVar": 40
   },
   "kernels_config": {
    "python": {
     "delete_cmd_postfix": "",
     "delete_cmd_prefix": "del ",
     "library": "var_list.py",
     "varRefreshCmd": "print(var_dic_list())"
    },
    "r": {
     "delete_cmd_postfix": ") ",
     "delete_cmd_prefix": "rm(",
     "library": "var_list.r",
     "varRefreshCmd": "cat(var_dic_list()) "
    }
   },
   "types_to_exclude": [
    "module",
    "function",
    "builtin_function_or_method",
    "instance",
    "_Feature"
   ],
   "window_display": false
  }
 },
 "nbformat": 4,
 "nbformat_minor": 5
}
