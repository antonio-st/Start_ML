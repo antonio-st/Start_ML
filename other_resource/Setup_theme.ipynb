{
 "cells": [
  {
   "cell_type": "markdown",
   "id": "3bf123a6",
   "metadata": {},
   "source": [
    "```\n",
    "#!pip install matplotlib\n",
    "#!jt -t onedork -f roboto -fs 12\n",
    "#!jt -t solarizedd -f fira -fs 115\n",
    "#!jt -t onedork -f fira -fs 12 --cellw 1200 -T\n",
    "!jt -t onedork -fs 115 -altp -tfs 12 -nfs 115 -cellw 88% -T -f dejavu\n",
    "```\n",
    "+ репозиторий [тем](https://github.com/dunovank/jupyter-themes) для ноутбуков, там же и описание команд запуска\n",
    "+ расположение стилей ноутбука : /home/antonio/.jupyter/custom/custom.css"
   ]
  },
  {
   "cell_type": "code",
   "execution_count": 10,
   "id": "29476d94",
   "metadata": {
    "ExecuteTime": {
     "end_time": "2022-12-27T13:45:35.880913Z",
     "start_time": "2022-12-27T13:45:35.213342Z"
    }
   },
   "outputs": [],
   "source": [
    "#!jt -t onedork -fs 14 -altp -tfs 14 -ofs 14 -nfs 115 -cellw 88% -T -f roboto\n",
    "!jt -t grade3 -fs 14 -altp -tfs 14 -ofs 14 -nfs 115 -cellw 88% -T -f dejavu"
   ]
  },
  {
   "cell_type": "code",
   "execution_count": 2,
   "id": "4dbb267b",
   "metadata": {},
   "outputs": [
    {
     "name": "stdout",
     "output_type": "stream",
     "text": [
      "0\n",
      "1\n",
      "2\n",
      "3\n",
      "4\n",
      "5\n",
      "6\n",
      "7\n",
      "8\n",
      "9\n"
     ]
    }
   ],
   "source": [
    "# test comment\n",
    "for i in range(10):\n",
    "    print(i)"
   ]
  }
 ],
 "metadata": {
  "kernelspec": {
   "display_name": "Python 3 (ipykernel)",
   "language": "python",
   "name": "python3"
  },
  "language_info": {
   "codemirror_mode": {
    "name": "ipython",
    "version": 3
   },
   "file_extension": ".py",
   "mimetype": "text/x-python",
   "name": "python",
   "nbconvert_exporter": "python",
   "pygments_lexer": "ipython3",
   "version": "3.10.6"
  },
  "varInspector": {
   "cols": {
    "lenName": 16,
    "lenType": 16,
    "lenVar": 40
   },
   "kernels_config": {
    "python": {
     "delete_cmd_postfix": "",
     "delete_cmd_prefix": "del ",
     "library": "var_list.py",
     "varRefreshCmd": "print(var_dic_list())"
    },
    "r": {
     "delete_cmd_postfix": ") ",
     "delete_cmd_prefix": "rm(",
     "library": "var_list.r",
     "varRefreshCmd": "cat(var_dic_list()) "
    }
   },
   "types_to_exclude": [
    "module",
    "function",
    "builtin_function_or_method",
    "instance",
    "_Feature"
   ],
   "window_display": false
  }
 },
 "nbformat": 4,
 "nbformat_minor": 5
}
