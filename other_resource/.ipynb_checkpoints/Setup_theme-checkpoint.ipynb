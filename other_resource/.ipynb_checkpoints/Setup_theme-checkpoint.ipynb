{
 "cells": [
  {
   "cell_type": "markdown",
   "id": "3bf123a6",
   "metadata": {},
   "source": [
    "```\n",
    "#!pip install matplotlib\n",
    "#!jt -t onedork -f roboto -fs 12\n",
    "#!jt -t solarizedd -f fira -fs 115\n",
    "#!jt -t onedork -f fira -fs 12 --cellw 1200 -T\n",
    "!jt -t onedork -fs 115 -altp -tfs 12 -nfs 115 -cellw 88% -T -f dejavu\n",
    "```\n",
    "\n",
    "\n",
    "test `test`\n",
    "+ репозиторий [тем](https://github.com/dunovank/jupyter-themes) для ноутбуков, там же и описание команд запуска\n",
    "+ расположение стилей ноутбука : /home/antonio/.jupyter/custom/custom.css"
   ]
  },
  {
   "cell_type": "code",
   "execution_count": 16,
   "id": "29476d94",
   "metadata": {
    "ExecuteTime": {
     "end_time": "2023-01-15T07:35:19.573551Z",
     "start_time": "2023-01-15T07:35:18.508178Z"
    }
   },
   "outputs": [
    {
     "name": "stdout",
     "output_type": "stream",
     "text": [
      "Available Themes: \r\n",
      "   chesterish\r\n",
      "   grade3\r\n",
      "   gruvboxd\r\n",
      "   gruvboxl\r\n",
      "   monokai\r\n",
      "   oceans16\r\n",
      "   onedork\r\n",
      "   solarizedd\r\n",
      "   solarizedl\r\n"
     ]
    }
   ],
   "source": [
    "#!jt -t onedork -fs 12 -altp -tfs 12 -ofs 12 -nfs 115 -cellw 88% -T -f roboto\n",
    "#!jt -t grade3 -fs 12 -altp -tfs 12 -ofs 12 -nfs 115 -cellw 85% -T -f roboto\n",
    "# !jt -r -fs 12 -altp -tfs 12 -ofs 12 -nfs 115 -cellw 85% -T -f roboto # default \n",
    "!jt -l # список тем\n",
    "#!jt -t monokai -fs 12 -altp -tfs 12 -ofs 12 -nfs 115 -cellw 85% -T -f ubuntu\n",
    "\n",
    "#!jt -t grade3 -fs 12 -altp -tfs 12 -ofs 12 -nfs 115 -cellw 85% -T -f roboto\n",
    "!jt -t grade3  -N -kl -T -fs 12 -altp -tfs 12 -ofs 11 -nfs 11 -cellw 85% -f roboto -nf roboto -tf roboto -dfs 10 -m 200"
   ]
  },
  {
   "cell_type": "code",
   "execution_count": 2,
   "id": "4dbb267b",
   "metadata": {},
   "outputs": [
    {
     "name": "stdout",
     "output_type": "stream",
     "text": [
      "0\n",
      "1\n",
      "2\n",
      "3\n",
      "4\n",
      "5\n",
      "6\n",
      "7\n",
      "8\n",
      "9\n"
     ]
    }
   ],
   "source": [
    "# test comment\n",
    "for i in range(10):\n",
    "    print(i)"
   ]
  }
 ],
 "metadata": {
  "kernelspec": {
   "display_name": "Python 3 (ipykernel)",
   "language": "python",
   "name": "python3"
  },
  "language_info": {
   "codemirror_mode": {
    "name": "ipython",
    "version": 3
   },
   "file_extension": ".py",
   "mimetype": "text/x-python",
   "name": "python",
   "nbconvert_exporter": "python",
   "pygments_lexer": "ipython3",
   "version": "3.10.6"
  },
  "varInspector": {
   "cols": {
    "lenName": 16,
    "lenType": 16,
    "lenVar": 40
   },
   "kernels_config": {
    "python": {
     "delete_cmd_postfix": "",
     "delete_cmd_prefix": "del ",
     "library": "var_list.py",
     "varRefreshCmd": "print(var_dic_list())"
    },
    "r": {
     "delete_cmd_postfix": ") ",
     "delete_cmd_prefix": "rm(",
     "library": "var_list.r",
     "varRefreshCmd": "cat(var_dic_list()) "
    }
   },
   "types_to_exclude": [
    "module",
    "function",
    "builtin_function_or_method",
    "instance",
    "_Feature"
   ],
   "window_display": false
  }
 },
 "nbformat": 4,
 "nbformat_minor": 5
}
