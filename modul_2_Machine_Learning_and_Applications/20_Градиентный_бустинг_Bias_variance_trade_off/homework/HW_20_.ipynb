{
 "cells": [
  {
   "cell_type": "code",
   "execution_count": 1,
   "id": "d885ac67",
   "metadata": {
    "ExecuteTime": {
     "end_time": "2023-04-21T05:46:37.996893Z",
     "start_time": "2023-04-21T05:46:37.044473Z"
    }
   },
   "outputs": [],
   "source": [
    "import pandas as pd\n",
    "import numpy as np\n",
    "import matplotlib.pyplot as plt\n",
    "import seaborn as sns\n",
    "\n",
    "import matplotlib\n",
    "matplotlib.rcParams['figure.figsize'] = (8, 5)\n",
    "\n",
    "import warnings\n",
    "warnings.filterwarnings('ignore')"
   ]
  },
  {
   "cell_type": "markdown",
   "id": "cb8d0709",
   "metadata": {},
   "source": [
    "# Boostings"
   ]
  },
  {
   "cell_type": "markdown",
   "id": "7196153d",
   "metadata": {},
   "source": [
    "Данные с которыми вы будете работать представляют из себя характеристики клиента страховой компании по которым нужно понять будет ли он заинтересован в страховке. Таким образом, страховая компания может более оптимально таргетить рекламу и выстраивать коммуникацию с клиентами, повышая конверсию.\n",
    "\n",
    "**Описания колонок:**\n",
    "- Gender - Male, Female\n",
    "- Age - Возраст\n",
    "- Driving_License - Наличие водительского удостоверения\n",
    "- Region_Code - Область проживания\n",
    "- Previously_Insured - Пользовался ли раньше услугами страховой компании\n",
    "- Vehicle_Age - Возраст транспортного средства\n",
    "- Vehicle_Damage - Попадало ли траспортное средство в ДТП\n",
    "- Annual_Premium - Ежегодные выплаты клиента\n",
    "- Policy_Sales_Channel - Политика распространения страховых услуг (через посредников, напрямую и т.д.)\n",
    "- Vintage - Количество дней, в течение которых клиент был связан с компанией \n",
    "\n",
    "\n",
    "- **Response** - заинтересован в страховке 1, не откликнулся 0"
   ]
  },
  {
   "cell_type": "code",
   "execution_count": 49,
   "id": "90dc6680",
   "metadata": {
    "ExecuteTime": {
     "end_time": "2023-04-21T06:50:08.163408Z",
     "start_time": "2023-04-21T06:50:08.142788Z"
    }
   },
   "outputs": [
    {
     "data": {
      "text/html": [
       "<div>\n",
       "<style scoped>\n",
       "    .dataframe tbody tr th:only-of-type {\n",
       "        vertical-align: middle;\n",
       "    }\n",
       "\n",
       "    .dataframe tbody tr th {\n",
       "        vertical-align: top;\n",
       "    }\n",
       "\n",
       "    .dataframe thead th {\n",
       "        text-align: right;\n",
       "    }\n",
       "</style>\n",
       "<table border=\"1\" class=\"dataframe\">\n",
       "  <thead>\n",
       "    <tr style=\"text-align: right;\">\n",
       "      <th></th>\n",
       "      <th>Gender</th>\n",
       "      <th>Age</th>\n",
       "      <th>Driving_License</th>\n",
       "      <th>Region_Code</th>\n",
       "      <th>Previously_Insured</th>\n",
       "      <th>Vehicle_Age</th>\n",
       "      <th>Vehicle_Damage</th>\n",
       "      <th>Annual_Premium</th>\n",
       "      <th>Policy_Sales_Channel</th>\n",
       "      <th>Vintage</th>\n",
       "      <th>Response</th>\n",
       "    </tr>\n",
       "  </thead>\n",
       "  <tbody>\n",
       "    <tr>\n",
       "      <th>0</th>\n",
       "      <td>Male</td>\n",
       "      <td>44</td>\n",
       "      <td>1</td>\n",
       "      <td>28.0</td>\n",
       "      <td>0</td>\n",
       "      <td>&gt; 2 Years</td>\n",
       "      <td>Yes</td>\n",
       "      <td>40454.0</td>\n",
       "      <td>26.0</td>\n",
       "      <td>217</td>\n",
       "      <td>1</td>\n",
       "    </tr>\n",
       "    <tr>\n",
       "      <th>1</th>\n",
       "      <td>Male</td>\n",
       "      <td>76</td>\n",
       "      <td>1</td>\n",
       "      <td>3.0</td>\n",
       "      <td>0</td>\n",
       "      <td>1-2 Year</td>\n",
       "      <td>No</td>\n",
       "      <td>33536.0</td>\n",
       "      <td>26.0</td>\n",
       "      <td>183</td>\n",
       "      <td>0</td>\n",
       "    </tr>\n",
       "    <tr>\n",
       "      <th>2</th>\n",
       "      <td>Male</td>\n",
       "      <td>47</td>\n",
       "      <td>1</td>\n",
       "      <td>28.0</td>\n",
       "      <td>0</td>\n",
       "      <td>&gt; 2 Years</td>\n",
       "      <td>Yes</td>\n",
       "      <td>38294.0</td>\n",
       "      <td>26.0</td>\n",
       "      <td>27</td>\n",
       "      <td>1</td>\n",
       "    </tr>\n",
       "    <tr>\n",
       "      <th>3</th>\n",
       "      <td>Male</td>\n",
       "      <td>21</td>\n",
       "      <td>1</td>\n",
       "      <td>11.0</td>\n",
       "      <td>1</td>\n",
       "      <td>&lt; 1 Year</td>\n",
       "      <td>No</td>\n",
       "      <td>28619.0</td>\n",
       "      <td>152.0</td>\n",
       "      <td>203</td>\n",
       "      <td>0</td>\n",
       "    </tr>\n",
       "    <tr>\n",
       "      <th>4</th>\n",
       "      <td>Female</td>\n",
       "      <td>29</td>\n",
       "      <td>1</td>\n",
       "      <td>41.0</td>\n",
       "      <td>1</td>\n",
       "      <td>&lt; 1 Year</td>\n",
       "      <td>No</td>\n",
       "      <td>27496.0</td>\n",
       "      <td>152.0</td>\n",
       "      <td>39</td>\n",
       "      <td>0</td>\n",
       "    </tr>\n",
       "    <tr>\n",
       "      <th>...</th>\n",
       "      <td>...</td>\n",
       "      <td>...</td>\n",
       "      <td>...</td>\n",
       "      <td>...</td>\n",
       "      <td>...</td>\n",
       "      <td>...</td>\n",
       "      <td>...</td>\n",
       "      <td>...</td>\n",
       "      <td>...</td>\n",
       "      <td>...</td>\n",
       "      <td>...</td>\n",
       "    </tr>\n",
       "    <tr>\n",
       "      <th>9995</th>\n",
       "      <td>Female</td>\n",
       "      <td>24</td>\n",
       "      <td>1</td>\n",
       "      <td>37.0</td>\n",
       "      <td>1</td>\n",
       "      <td>&lt; 1 Year</td>\n",
       "      <td>No</td>\n",
       "      <td>21243.0</td>\n",
       "      <td>152.0</td>\n",
       "      <td>21</td>\n",
       "      <td>0</td>\n",
       "    </tr>\n",
       "    <tr>\n",
       "      <th>9996</th>\n",
       "      <td>Male</td>\n",
       "      <td>28</td>\n",
       "      <td>1</td>\n",
       "      <td>35.0</td>\n",
       "      <td>1</td>\n",
       "      <td>&lt; 1 Year</td>\n",
       "      <td>No</td>\n",
       "      <td>23589.0</td>\n",
       "      <td>160.0</td>\n",
       "      <td>173</td>\n",
       "      <td>0</td>\n",
       "    </tr>\n",
       "    <tr>\n",
       "      <th>9997</th>\n",
       "      <td>Female</td>\n",
       "      <td>27</td>\n",
       "      <td>1</td>\n",
       "      <td>15.0</td>\n",
       "      <td>0</td>\n",
       "      <td>&lt; 1 Year</td>\n",
       "      <td>Yes</td>\n",
       "      <td>33340.0</td>\n",
       "      <td>152.0</td>\n",
       "      <td>207</td>\n",
       "      <td>0</td>\n",
       "    </tr>\n",
       "    <tr>\n",
       "      <th>9998</th>\n",
       "      <td>Female</td>\n",
       "      <td>28</td>\n",
       "      <td>1</td>\n",
       "      <td>14.0</td>\n",
       "      <td>1</td>\n",
       "      <td>&lt; 1 Year</td>\n",
       "      <td>No</td>\n",
       "      <td>25426.0</td>\n",
       "      <td>152.0</td>\n",
       "      <td>247</td>\n",
       "      <td>0</td>\n",
       "    </tr>\n",
       "    <tr>\n",
       "      <th>9999</th>\n",
       "      <td>Female</td>\n",
       "      <td>25</td>\n",
       "      <td>1</td>\n",
       "      <td>45.0</td>\n",
       "      <td>1</td>\n",
       "      <td>&lt; 1 Year</td>\n",
       "      <td>No</td>\n",
       "      <td>18843.0</td>\n",
       "      <td>152.0</td>\n",
       "      <td>131</td>\n",
       "      <td>0</td>\n",
       "    </tr>\n",
       "  </tbody>\n",
       "</table>\n",
       "<p>10000 rows × 11 columns</p>\n",
       "</div>"
      ],
      "text/plain": [
       "      Gender  Age  Driving_License  Region_Code  Previously_Insured  \\\n",
       "0       Male   44                1         28.0                   0   \n",
       "1       Male   76                1          3.0                   0   \n",
       "2       Male   47                1         28.0                   0   \n",
       "3       Male   21                1         11.0                   1   \n",
       "4     Female   29                1         41.0                   1   \n",
       "...      ...  ...              ...          ...                 ...   \n",
       "9995  Female   24                1         37.0                   1   \n",
       "9996    Male   28                1         35.0                   1   \n",
       "9997  Female   27                1         15.0                   0   \n",
       "9998  Female   28                1         14.0                   1   \n",
       "9999  Female   25                1         45.0                   1   \n",
       "\n",
       "     Vehicle_Age Vehicle_Damage  Annual_Premium  Policy_Sales_Channel  \\\n",
       "0      > 2 Years            Yes         40454.0                  26.0   \n",
       "1       1-2 Year             No         33536.0                  26.0   \n",
       "2      > 2 Years            Yes         38294.0                  26.0   \n",
       "3       < 1 Year             No         28619.0                 152.0   \n",
       "4       < 1 Year             No         27496.0                 152.0   \n",
       "...          ...            ...             ...                   ...   \n",
       "9995    < 1 Year             No         21243.0                 152.0   \n",
       "9996    < 1 Year             No         23589.0                 160.0   \n",
       "9997    < 1 Year            Yes         33340.0                 152.0   \n",
       "9998    < 1 Year             No         25426.0                 152.0   \n",
       "9999    < 1 Year             No         18843.0                 152.0   \n",
       "\n",
       "      Vintage  Response  \n",
       "0         217         1  \n",
       "1         183         0  \n",
       "2          27         1  \n",
       "3         203         0  \n",
       "4          39         0  \n",
       "...       ...       ...  \n",
       "9995       21         0  \n",
       "9996      173         0  \n",
       "9997      207         0  \n",
       "9998      247         0  \n",
       "9999      131         0  \n",
       "\n",
       "[10000 rows x 11 columns]"
      ]
     },
     "execution_count": 49,
     "metadata": {},
     "output_type": "execute_result"
    }
   ],
   "source": [
    "data = pd.read_csv('vehicle_insurance.csv')\n",
    "\n",
    "data"
   ]
  },
  {
   "cell_type": "markdown",
   "id": "18f3b6da",
   "metadata": {},
   "source": [
    "**Задание 0.** Проведите небольшой EDA. Посмотрите на распределения некоторых колонок, на матрицу корреляций. Также проверьте баланс классов и посмотрите на распределение возраста транспортного средства в зависимости от response. \\\n",
    "Закодируйте признаки типа `object` с помощью `one-hot` кодирования.\n",
    "\n",
    "P.S. некоторые не `object`колонки по смыслу очевидно являются категориальными. Так как мы будем строить ансамбли на основе деревьев, их можно оставить в первоначальном виде."
   ]
  },
  {
   "cell_type": "code",
   "execution_count": 50,
   "id": "e09f6962",
   "metadata": {
    "ExecuteTime": {
     "end_time": "2023-04-21T06:50:10.247829Z",
     "start_time": "2023-04-21T06:50:10.235585Z"
    }
   },
   "outputs": [
    {
     "name": "stdout",
     "output_type": "stream",
     "text": [
      "(10000, 11)\n"
     ]
    },
    {
     "data": {
      "text/html": [
       "<div>\n",
       "<style scoped>\n",
       "    .dataframe tbody tr th:only-of-type {\n",
       "        vertical-align: middle;\n",
       "    }\n",
       "\n",
       "    .dataframe tbody tr th {\n",
       "        vertical-align: top;\n",
       "    }\n",
       "\n",
       "    .dataframe thead th {\n",
       "        text-align: right;\n",
       "    }\n",
       "</style>\n",
       "<table border=\"1\" class=\"dataframe\">\n",
       "  <thead>\n",
       "    <tr style=\"text-align: right;\">\n",
       "      <th></th>\n",
       "      <th>Age</th>\n",
       "      <th>Driving_License</th>\n",
       "      <th>Region_Code</th>\n",
       "      <th>Previously_Insured</th>\n",
       "      <th>Annual_Premium</th>\n",
       "      <th>Policy_Sales_Channel</th>\n",
       "      <th>Vintage</th>\n",
       "      <th>Response</th>\n",
       "    </tr>\n",
       "  </thead>\n",
       "  <tbody>\n",
       "    <tr>\n",
       "      <th>Age</th>\n",
       "      <td>1.000000</td>\n",
       "      <td>-0.081323</td>\n",
       "      <td>0.030638</td>\n",
       "      <td>-0.261456</td>\n",
       "      <td>0.081564</td>\n",
       "      <td>-0.576066</td>\n",
       "      <td>0.000030</td>\n",
       "      <td>0.113888</td>\n",
       "    </tr>\n",
       "    <tr>\n",
       "      <th>Driving_License</th>\n",
       "      <td>-0.081323</td>\n",
       "      <td>1.000000</td>\n",
       "      <td>0.004926</td>\n",
       "      <td>0.020464</td>\n",
       "      <td>-0.014338</td>\n",
       "      <td>0.044335</td>\n",
       "      <td>0.002704</td>\n",
       "      <td>0.011263</td>\n",
       "    </tr>\n",
       "    <tr>\n",
       "      <th>Region_Code</th>\n",
       "      <td>0.030638</td>\n",
       "      <td>0.004926</td>\n",
       "      <td>1.000000</td>\n",
       "      <td>-0.021270</td>\n",
       "      <td>-0.012213</td>\n",
       "      <td>-0.039733</td>\n",
       "      <td>-0.008527</td>\n",
       "      <td>0.010230</td>\n",
       "    </tr>\n",
       "    <tr>\n",
       "      <th>Previously_Insured</th>\n",
       "      <td>-0.261456</td>\n",
       "      <td>0.020464</td>\n",
       "      <td>-0.021270</td>\n",
       "      <td>1.000000</td>\n",
       "      <td>-0.005164</td>\n",
       "      <td>0.224719</td>\n",
       "      <td>0.022350</td>\n",
       "      <td>-0.333502</td>\n",
       "    </tr>\n",
       "    <tr>\n",
       "      <th>Annual_Premium</th>\n",
       "      <td>0.081564</td>\n",
       "      <td>-0.014338</td>\n",
       "      <td>-0.012213</td>\n",
       "      <td>-0.005164</td>\n",
       "      <td>1.000000</td>\n",
       "      <td>-0.123851</td>\n",
       "      <td>-0.008878</td>\n",
       "      <td>0.029839</td>\n",
       "    </tr>\n",
       "    <tr>\n",
       "      <th>Policy_Sales_Channel</th>\n",
       "      <td>-0.576066</td>\n",
       "      <td>0.044335</td>\n",
       "      <td>-0.039733</td>\n",
       "      <td>0.224719</td>\n",
       "      <td>-0.123851</td>\n",
       "      <td>1.000000</td>\n",
       "      <td>-0.006131</td>\n",
       "      <td>-0.146421</td>\n",
       "    </tr>\n",
       "    <tr>\n",
       "      <th>Vintage</th>\n",
       "      <td>0.000030</td>\n",
       "      <td>0.002704</td>\n",
       "      <td>-0.008527</td>\n",
       "      <td>0.022350</td>\n",
       "      <td>-0.008878</td>\n",
       "      <td>-0.006131</td>\n",
       "      <td>1.000000</td>\n",
       "      <td>-0.007187</td>\n",
       "    </tr>\n",
       "    <tr>\n",
       "      <th>Response</th>\n",
       "      <td>0.113888</td>\n",
       "      <td>0.011263</td>\n",
       "      <td>0.010230</td>\n",
       "      <td>-0.333502</td>\n",
       "      <td>0.029839</td>\n",
       "      <td>-0.146421</td>\n",
       "      <td>-0.007187</td>\n",
       "      <td>1.000000</td>\n",
       "    </tr>\n",
       "  </tbody>\n",
       "</table>\n",
       "</div>"
      ],
      "text/plain": [
       "                           Age  Driving_License  Region_Code  \\\n",
       "Age                   1.000000        -0.081323     0.030638   \n",
       "Driving_License      -0.081323         1.000000     0.004926   \n",
       "Region_Code           0.030638         0.004926     1.000000   \n",
       "Previously_Insured   -0.261456         0.020464    -0.021270   \n",
       "Annual_Premium        0.081564        -0.014338    -0.012213   \n",
       "Policy_Sales_Channel -0.576066         0.044335    -0.039733   \n",
       "Vintage               0.000030         0.002704    -0.008527   \n",
       "Response              0.113888         0.011263     0.010230   \n",
       "\n",
       "                      Previously_Insured  Annual_Premium  \\\n",
       "Age                            -0.261456        0.081564   \n",
       "Driving_License                 0.020464       -0.014338   \n",
       "Region_Code                    -0.021270       -0.012213   \n",
       "Previously_Insured              1.000000       -0.005164   \n",
       "Annual_Premium                 -0.005164        1.000000   \n",
       "Policy_Sales_Channel            0.224719       -0.123851   \n",
       "Vintage                         0.022350       -0.008878   \n",
       "Response                       -0.333502        0.029839   \n",
       "\n",
       "                      Policy_Sales_Channel   Vintage  Response  \n",
       "Age                              -0.576066  0.000030  0.113888  \n",
       "Driving_License                   0.044335  0.002704  0.011263  \n",
       "Region_Code                      -0.039733 -0.008527  0.010230  \n",
       "Previously_Insured                0.224719  0.022350 -0.333502  \n",
       "Annual_Premium                   -0.123851 -0.008878  0.029839  \n",
       "Policy_Sales_Channel              1.000000 -0.006131 -0.146421  \n",
       "Vintage                          -0.006131  1.000000 -0.007187  \n",
       "Response                         -0.146421 -0.007187  1.000000  "
      ]
     },
     "execution_count": 50,
     "metadata": {},
     "output_type": "execute_result"
    }
   ],
   "source": [
    "### Your code is here\n",
    "\n",
    "print(data.shape)\n",
    "data.corr()"
   ]
  },
  {
   "cell_type": "code",
   "execution_count": 51,
   "id": "2e1eec69",
   "metadata": {
    "ExecuteTime": {
     "end_time": "2023-04-21T06:50:19.319317Z",
     "start_time": "2023-04-21T06:50:19.294470Z"
    }
   },
   "outputs": [
    {
     "data": {
      "text/html": [
       "<div>\n",
       "<style scoped>\n",
       "    .dataframe tbody tr th:only-of-type {\n",
       "        vertical-align: middle;\n",
       "    }\n",
       "\n",
       "    .dataframe tbody tr th {\n",
       "        vertical-align: top;\n",
       "    }\n",
       "\n",
       "    .dataframe thead th {\n",
       "        text-align: right;\n",
       "    }\n",
       "</style>\n",
       "<table border=\"1\" class=\"dataframe\">\n",
       "  <thead>\n",
       "    <tr style=\"text-align: right;\">\n",
       "      <th></th>\n",
       "      <th>Gender</th>\n",
       "      <th>Vehicle_Age</th>\n",
       "      <th>Vehicle_Damage</th>\n",
       "    </tr>\n",
       "  </thead>\n",
       "  <tbody>\n",
       "    <tr>\n",
       "      <th>count</th>\n",
       "      <td>10000</td>\n",
       "      <td>10000</td>\n",
       "      <td>10000</td>\n",
       "    </tr>\n",
       "    <tr>\n",
       "      <th>unique</th>\n",
       "      <td>2</td>\n",
       "      <td>3</td>\n",
       "      <td>2</td>\n",
       "    </tr>\n",
       "    <tr>\n",
       "      <th>top</th>\n",
       "      <td>Male</td>\n",
       "      <td>1-2 Year</td>\n",
       "      <td>Yes</td>\n",
       "    </tr>\n",
       "    <tr>\n",
       "      <th>freq</th>\n",
       "      <td>5437</td>\n",
       "      <td>5263</td>\n",
       "      <td>5143</td>\n",
       "    </tr>\n",
       "  </tbody>\n",
       "</table>\n",
       "</div>"
      ],
      "text/plain": [
       "       Gender Vehicle_Age Vehicle_Damage\n",
       "count   10000       10000          10000\n",
       "unique      2           3              2\n",
       "top      Male    1-2 Year            Yes\n",
       "freq     5437        5263           5143"
      ]
     },
     "execution_count": 51,
     "metadata": {},
     "output_type": "execute_result"
    }
   ],
   "source": [
    "data.describe(include=object)"
   ]
  },
  {
   "cell_type": "code",
   "execution_count": 5,
   "id": "f37c560e",
   "metadata": {
    "ExecuteTime": {
     "end_time": "2023-04-20T19:19:26.131419Z",
     "start_time": "2023-04-20T19:19:26.123749Z"
    }
   },
   "outputs": [
    {
     "data": {
      "text/plain": [
       "Gender                   object\n",
       "Age                       int64\n",
       "Driving_License           int64\n",
       "Region_Code             float64\n",
       "Previously_Insured        int64\n",
       "Vehicle_Age              object\n",
       "Vehicle_Damage           object\n",
       "Annual_Premium          float64\n",
       "Policy_Sales_Channel    float64\n",
       "Vintage                   int64\n",
       "Response                  int64\n",
       "dtype: object"
      ]
     },
     "execution_count": 5,
     "metadata": {},
     "output_type": "execute_result"
    }
   ],
   "source": [
    "data.dtypes"
   ]
  },
  {
   "cell_type": "code",
   "execution_count": 52,
   "id": "3fe3bf82",
   "metadata": {
    "ExecuteTime": {
     "end_time": "2023-04-21T06:50:22.662586Z",
     "start_time": "2023-04-21T06:50:22.629263Z"
    }
   },
   "outputs": [
    {
     "data": {
      "text/html": [
       "<div>\n",
       "<style scoped>\n",
       "    .dataframe tbody tr th:only-of-type {\n",
       "        vertical-align: middle;\n",
       "    }\n",
       "\n",
       "    .dataframe tbody tr th {\n",
       "        vertical-align: top;\n",
       "    }\n",
       "\n",
       "    .dataframe thead th {\n",
       "        text-align: right;\n",
       "    }\n",
       "</style>\n",
       "<table border=\"1\" class=\"dataframe\">\n",
       "  <thead>\n",
       "    <tr style=\"text-align: right;\">\n",
       "      <th></th>\n",
       "      <th>Age</th>\n",
       "      <th>Driving_License</th>\n",
       "      <th>Region_Code</th>\n",
       "      <th>Previously_Insured</th>\n",
       "      <th>Annual_Premium</th>\n",
       "      <th>Policy_Sales_Channel</th>\n",
       "      <th>Vintage</th>\n",
       "      <th>Response</th>\n",
       "    </tr>\n",
       "  </thead>\n",
       "  <tbody>\n",
       "    <tr>\n",
       "      <th>count</th>\n",
       "      <td>10000.000000</td>\n",
       "      <td>10000.000000</td>\n",
       "      <td>10000.000000</td>\n",
       "      <td>10000.000000</td>\n",
       "      <td>10000.000000</td>\n",
       "      <td>10000.000000</td>\n",
       "      <td>10000.000000</td>\n",
       "      <td>10000.000000</td>\n",
       "    </tr>\n",
       "    <tr>\n",
       "      <th>mean</th>\n",
       "      <td>38.812900</td>\n",
       "      <td>0.997800</td>\n",
       "      <td>26.425400</td>\n",
       "      <td>0.443800</td>\n",
       "      <td>30609.649700</td>\n",
       "      <td>112.414400</td>\n",
       "      <td>155.560300</td>\n",
       "      <td>0.124700</td>\n",
       "    </tr>\n",
       "    <tr>\n",
       "      <th>std</th>\n",
       "      <td>15.514785</td>\n",
       "      <td>0.046855</td>\n",
       "      <td>13.153552</td>\n",
       "      <td>0.496856</td>\n",
       "      <td>16562.392967</td>\n",
       "      <td>53.975042</td>\n",
       "      <td>83.923849</td>\n",
       "      <td>0.330395</td>\n",
       "    </tr>\n",
       "    <tr>\n",
       "      <th>min</th>\n",
       "      <td>20.000000</td>\n",
       "      <td>0.000000</td>\n",
       "      <td>0.000000</td>\n",
       "      <td>0.000000</td>\n",
       "      <td>2630.000000</td>\n",
       "      <td>1.000000</td>\n",
       "      <td>10.000000</td>\n",
       "      <td>0.000000</td>\n",
       "    </tr>\n",
       "    <tr>\n",
       "      <th>25%</th>\n",
       "      <td>25.000000</td>\n",
       "      <td>1.000000</td>\n",
       "      <td>15.000000</td>\n",
       "      <td>0.000000</td>\n",
       "      <td>24458.250000</td>\n",
       "      <td>30.000000</td>\n",
       "      <td>83.000000</td>\n",
       "      <td>0.000000</td>\n",
       "    </tr>\n",
       "    <tr>\n",
       "      <th>50%</th>\n",
       "      <td>36.000000</td>\n",
       "      <td>1.000000</td>\n",
       "      <td>28.000000</td>\n",
       "      <td>0.000000</td>\n",
       "      <td>31746.000000</td>\n",
       "      <td>136.000000</td>\n",
       "      <td>156.000000</td>\n",
       "      <td>0.000000</td>\n",
       "    </tr>\n",
       "    <tr>\n",
       "      <th>75%</th>\n",
       "      <td>49.000000</td>\n",
       "      <td>1.000000</td>\n",
       "      <td>35.000000</td>\n",
       "      <td>1.000000</td>\n",
       "      <td>39572.250000</td>\n",
       "      <td>152.000000</td>\n",
       "      <td>228.000000</td>\n",
       "      <td>0.000000</td>\n",
       "    </tr>\n",
       "    <tr>\n",
       "      <th>max</th>\n",
       "      <td>84.000000</td>\n",
       "      <td>1.000000</td>\n",
       "      <td>52.000000</td>\n",
       "      <td>1.000000</td>\n",
       "      <td>267698.000000</td>\n",
       "      <td>163.000000</td>\n",
       "      <td>299.000000</td>\n",
       "      <td>1.000000</td>\n",
       "    </tr>\n",
       "  </tbody>\n",
       "</table>\n",
       "</div>"
      ],
      "text/plain": [
       "                Age  Driving_License   Region_Code  Previously_Insured  \\\n",
       "count  10000.000000     10000.000000  10000.000000        10000.000000   \n",
       "mean      38.812900         0.997800     26.425400            0.443800   \n",
       "std       15.514785         0.046855     13.153552            0.496856   \n",
       "min       20.000000         0.000000      0.000000            0.000000   \n",
       "25%       25.000000         1.000000     15.000000            0.000000   \n",
       "50%       36.000000         1.000000     28.000000            0.000000   \n",
       "75%       49.000000         1.000000     35.000000            1.000000   \n",
       "max       84.000000         1.000000     52.000000            1.000000   \n",
       "\n",
       "       Annual_Premium  Policy_Sales_Channel       Vintage      Response  \n",
       "count    10000.000000          10000.000000  10000.000000  10000.000000  \n",
       "mean     30609.649700            112.414400    155.560300      0.124700  \n",
       "std      16562.392967             53.975042     83.923849      0.330395  \n",
       "min       2630.000000              1.000000     10.000000      0.000000  \n",
       "25%      24458.250000             30.000000     83.000000      0.000000  \n",
       "50%      31746.000000            136.000000    156.000000      0.000000  \n",
       "75%      39572.250000            152.000000    228.000000      0.000000  \n",
       "max     267698.000000            163.000000    299.000000      1.000000  "
      ]
     },
     "execution_count": 52,
     "metadata": {},
     "output_type": "execute_result"
    }
   ],
   "source": [
    "data.describe()"
   ]
  },
  {
   "cell_type": "code",
   "execution_count": 7,
   "id": "04ef77e0",
   "metadata": {
    "ExecuteTime": {
     "end_time": "2023-04-20T19:19:26.219159Z",
     "start_time": "2023-04-20T19:19:26.213781Z"
    }
   },
   "outputs": [],
   "source": [
    "# from category_encoders.one_hot import OneHotEncoder\n",
    "# from sklearn.compose import ColumnTransformer\n",
    "\n",
    "# ### Закодируйте признаки типа `object` с помощью `one-hot` кодирования.\n",
    "# categorical_columns = list(data.select_dtypes(include=object).columns)\n",
    "# # выделим индексы этих колонок\n",
    "# cols_for_ohe_idx = [list(data.columns).index(idx) for idx in categorical_columns]\n",
    "# c = [('OneHotEncoder'), OneHotEncoder(), cols_for_ohe_idx]\n",
    "# col_transform = ColumnTransformer(transformers=c)"
   ]
  },
  {
   "cell_type": "code",
   "execution_count": 53,
   "id": "be8fd8db",
   "metadata": {
    "ExecuteTime": {
     "end_time": "2023-04-21T06:50:28.613017Z",
     "start_time": "2023-04-21T06:50:28.602740Z"
    }
   },
   "outputs": [],
   "source": [
    "# выделим категориальные колонки\n",
    "categorical_columns = list(data.select_dtypes(include=object).columns)\n",
    "\n",
    "# применим OneHotEncoding для категориальных колонок\n",
    "for col in categorical_columns:\n",
    "    one_hot = pd.get_dummies(data[col], prefix=col, drop_first=True)\n",
    "    data = pd.concat((data.drop(col, axis=1), one_hot), axis=1)"
   ]
  },
  {
   "cell_type": "code",
   "execution_count": 54,
   "id": "5c862018",
   "metadata": {
    "ExecuteTime": {
     "end_time": "2023-04-21T06:50:31.014775Z",
     "start_time": "2023-04-21T06:50:31.009939Z"
    }
   },
   "outputs": [
    {
     "data": {
      "text/plain": [
       "Age                        int64\n",
       "Driving_License            int64\n",
       "Region_Code              float64\n",
       "Previously_Insured         int64\n",
       "Annual_Premium           float64\n",
       "Policy_Sales_Channel     float64\n",
       "Vintage                    int64\n",
       "Response                   int64\n",
       "Gender_Male                uint8\n",
       "Vehicle_Age_< 1 Year       uint8\n",
       "Vehicle_Age_> 2 Years      uint8\n",
       "Vehicle_Damage_Yes         uint8\n",
       "dtype: object"
      ]
     },
     "execution_count": 54,
     "metadata": {},
     "output_type": "execute_result"
    }
   ],
   "source": [
    "data.dtypes"
   ]
  },
  {
   "cell_type": "markdown",
   "id": "d581c939",
   "metadata": {},
   "source": [
    "**Задание 1.** Обучите градиентный бустинг из sklearn на данных и замерьте accuracy и f1-score на тестовой выборке. В качестве параметров ансамбля установите `learning_rate = 1`, `random_state = 1`, `n_estimators = 100`. Изобразите ROC-кривую и посчитайте AUC, оцените качество классификации. (2б)\n",
    "\n",
    "P.S. для всех прочих моделей в этом домашнем задании тоже фиксируйте `random_state = 1`. Как думаете, что может быть случайного в процедуре обучения градиентного бустинга?"
   ]
  },
  {
   "cell_type": "code",
   "execution_count": 55,
   "id": "6cd445d4",
   "metadata": {
    "ExecuteTime": {
     "end_time": "2023-04-21T06:50:58.301604Z",
     "start_time": "2023-04-21T06:50:58.294006Z"
    }
   },
   "outputs": [],
   "source": [
    "from sklearn.model_selection import train_test_split\n",
    "from sklearn.metrics import classification_report, f1_score, roc_curve, auc\n",
    "\n",
    "X = data.drop('Response', axis=1)\n",
    "y = data['Response']\n",
    "\n",
    "X_train, X_test, y_train, y_test = train_test_split(X, y,\n",
    "                                                    random_state=0,\n",
    "                                                    shuffle=True,\n",
    "                                                    test_size=0.2)"
   ]
  },
  {
   "cell_type": "code",
   "execution_count": 11,
   "id": "ef10c46b",
   "metadata": {
    "ExecuteTime": {
     "end_time": "2023-04-20T19:19:26.514698Z",
     "start_time": "2023-04-20T19:19:26.511677Z"
    }
   },
   "outputs": [],
   "source": [
    "# from sklearn.pipeline import Pipeline\n",
    "# from sklearn.ensemble import GradientBoostingClassifier\n",
    "\n",
    "# ### Your code is here\n",
    "# pipe_gb = ([('column_transformer', \n",
    "#             col_transform),\n",
    "\n",
    "#             ('GB', \n",
    "#             GradientBoostingClassifier(learning_rate = 1, random_state = 1, n_estimators = 100))\n",
    "            \n",
    "#             ])\n",
    "\n",
    "# pipe_gb"
   ]
  },
  {
   "cell_type": "code",
   "execution_count": 12,
   "id": "7ca57c8b",
   "metadata": {
    "ExecuteTime": {
     "end_time": "2023-04-20T19:19:27.441526Z",
     "start_time": "2023-04-20T19:19:26.516915Z"
    }
   },
   "outputs": [
    {
     "data": {
      "text/html": [
       "<style>#sk-container-id-1 {color: black;background-color: white;}#sk-container-id-1 pre{padding: 0;}#sk-container-id-1 div.sk-toggleable {background-color: white;}#sk-container-id-1 label.sk-toggleable__label {cursor: pointer;display: block;width: 100%;margin-bottom: 0;padding: 0.3em;box-sizing: border-box;text-align: center;}#sk-container-id-1 label.sk-toggleable__label-arrow:before {content: \"▸\";float: left;margin-right: 0.25em;color: #696969;}#sk-container-id-1 label.sk-toggleable__label-arrow:hover:before {color: black;}#sk-container-id-1 div.sk-estimator:hover label.sk-toggleable__label-arrow:before {color: black;}#sk-container-id-1 div.sk-toggleable__content {max-height: 0;max-width: 0;overflow: hidden;text-align: left;background-color: #f0f8ff;}#sk-container-id-1 div.sk-toggleable__content pre {margin: 0.2em;color: black;border-radius: 0.25em;background-color: #f0f8ff;}#sk-container-id-1 input.sk-toggleable__control:checked~div.sk-toggleable__content {max-height: 200px;max-width: 100%;overflow: auto;}#sk-container-id-1 input.sk-toggleable__control:checked~label.sk-toggleable__label-arrow:before {content: \"▾\";}#sk-container-id-1 div.sk-estimator input.sk-toggleable__control:checked~label.sk-toggleable__label {background-color: #d4ebff;}#sk-container-id-1 div.sk-label input.sk-toggleable__control:checked~label.sk-toggleable__label {background-color: #d4ebff;}#sk-container-id-1 input.sk-hidden--visually {border: 0;clip: rect(1px 1px 1px 1px);clip: rect(1px, 1px, 1px, 1px);height: 1px;margin: -1px;overflow: hidden;padding: 0;position: absolute;width: 1px;}#sk-container-id-1 div.sk-estimator {font-family: monospace;background-color: #f0f8ff;border: 1px dotted black;border-radius: 0.25em;box-sizing: border-box;margin-bottom: 0.5em;}#sk-container-id-1 div.sk-estimator:hover {background-color: #d4ebff;}#sk-container-id-1 div.sk-parallel-item::after {content: \"\";width: 100%;border-bottom: 1px solid gray;flex-grow: 1;}#sk-container-id-1 div.sk-label:hover label.sk-toggleable__label {background-color: #d4ebff;}#sk-container-id-1 div.sk-serial::before {content: \"\";position: absolute;border-left: 1px solid gray;box-sizing: border-box;top: 0;bottom: 0;left: 50%;z-index: 0;}#sk-container-id-1 div.sk-serial {display: flex;flex-direction: column;align-items: center;background-color: white;padding-right: 0.2em;padding-left: 0.2em;position: relative;}#sk-container-id-1 div.sk-item {position: relative;z-index: 1;}#sk-container-id-1 div.sk-parallel {display: flex;align-items: stretch;justify-content: center;background-color: white;position: relative;}#sk-container-id-1 div.sk-item::before, #sk-container-id-1 div.sk-parallel-item::before {content: \"\";position: absolute;border-left: 1px solid gray;box-sizing: border-box;top: 0;bottom: 0;left: 50%;z-index: -1;}#sk-container-id-1 div.sk-parallel-item {display: flex;flex-direction: column;z-index: 1;position: relative;background-color: white;}#sk-container-id-1 div.sk-parallel-item:first-child::after {align-self: flex-end;width: 50%;}#sk-container-id-1 div.sk-parallel-item:last-child::after {align-self: flex-start;width: 50%;}#sk-container-id-1 div.sk-parallel-item:only-child::after {width: 0;}#sk-container-id-1 div.sk-dashed-wrapped {border: 1px dashed gray;margin: 0 0.4em 0.5em 0.4em;box-sizing: border-box;padding-bottom: 0.4em;background-color: white;}#sk-container-id-1 div.sk-label label {font-family: monospace;font-weight: bold;display: inline-block;line-height: 1.2em;}#sk-container-id-1 div.sk-label-container {text-align: center;}#sk-container-id-1 div.sk-container {/* jupyter's `normalize.less` sets `[hidden] { display: none; }` but bootstrap.min.css set `[hidden] { display: none !important; }` so we also need the `!important` here to be able to override the default hidden behavior on the sphinx rendered scikit-learn.org. See: https://github.com/scikit-learn/scikit-learn/issues/21755 */display: inline-block !important;position: relative;}#sk-container-id-1 div.sk-text-repr-fallback {display: none;}</style><div id=\"sk-container-id-1\" class=\"sk-top-container\"><div class=\"sk-text-repr-fallback\"><pre>GradientBoostingClassifier(learning_rate=1, random_state=1)</pre><b>In a Jupyter environment, please rerun this cell to show the HTML representation or trust the notebook. <br />On GitHub, the HTML representation is unable to render, please try loading this page with nbviewer.org.</b></div><div class=\"sk-container\" hidden><div class=\"sk-item\"><div class=\"sk-estimator sk-toggleable\"><input class=\"sk-toggleable__control sk-hidden--visually\" id=\"sk-estimator-id-1\" type=\"checkbox\" checked><label for=\"sk-estimator-id-1\" class=\"sk-toggleable__label sk-toggleable__label-arrow\">GradientBoostingClassifier</label><div class=\"sk-toggleable__content\"><pre>GradientBoostingClassifier(learning_rate=1, random_state=1)</pre></div></div></div></div></div>"
      ],
      "text/plain": [
       "GradientBoostingClassifier(learning_rate=1, random_state=1)"
      ]
     },
     "execution_count": 12,
     "metadata": {},
     "output_type": "execute_result"
    }
   ],
   "source": [
    "### Обучите градиентный бустинг из sklearn\n",
    "from sklearn.ensemble import GradientBoostingClassifier\n",
    "\n",
    "model  = GradientBoostingClassifier(learning_rate = 1, random_state = 1, n_estimators = 100)\n",
    "\n",
    "model.fit(X_train, y_train)"
   ]
  },
  {
   "cell_type": "code",
   "execution_count": 13,
   "id": "1f8fa0e8",
   "metadata": {
    "ExecuteTime": {
     "end_time": "2023-04-20T19:19:27.461594Z",
     "start_time": "2023-04-20T19:19:27.443436Z"
    }
   },
   "outputs": [
    {
     "name": "stdout",
     "output_type": "stream",
     "text": [
      "              precision    recall  f1-score   support\n",
      "\n",
      "           0      0.904     0.931     0.917      1770\n",
      "           1      0.311     0.239     0.270       230\n",
      "\n",
      "    accuracy                          0.852      2000\n",
      "   macro avg      0.607     0.585     0.594      2000\n",
      "weighted avg      0.836     0.852     0.843      2000\n",
      "\n"
     ]
    }
   ],
   "source": [
    "print(classification_report(y_true=y_test, y_pred=model.predict(X_test), digits=3))"
   ]
  },
  {
   "cell_type": "code",
   "execution_count": 14,
   "id": "4e0aef0f",
   "metadata": {
    "ExecuteTime": {
     "end_time": "2023-04-20T19:19:27.480312Z",
     "start_time": "2023-04-20T19:19:27.463763Z"
    }
   },
   "outputs": [
    {
     "name": "stdout",
     "output_type": "stream",
     "text": [
      "AUC GB 0.828\n"
     ]
    }
   ],
   "source": [
    "### посчитайте AUC, оцените качество классификации\n",
    "\n",
    "pr_gb, tpr_gb, thresholds_gb = roc_curve(y_test, model.predict_proba(X_test)[:, 1])\n",
    "\n",
    "print(f\"AUC GB {auc(pr_gb, tpr_gb):.3f}\")"
   ]
  },
  {
   "cell_type": "code",
   "execution_count": 23,
   "id": "0e745173",
   "metadata": {
    "ExecuteTime": {
     "end_time": "2023-04-20T19:42:15.960831Z",
     "start_time": "2023-04-20T19:42:15.951017Z"
    }
   },
   "outputs": [
    {
     "name": "stdout",
     "output_type": "stream",
     "text": [
      "f1_score = 0.270\n"
     ]
    }
   ],
   "source": [
    "print(f\"f1_score = {f1_score(y_true=y_test, y_pred=model.predict(X_test)):.3f}\" )"
   ]
  },
  {
   "cell_type": "code",
   "execution_count": 15,
   "id": "95ce2ff2",
   "metadata": {
    "ExecuteTime": {
     "end_time": "2023-04-20T19:19:27.738789Z",
     "start_time": "2023-04-20T19:19:27.483701Z"
    }
   },
   "outputs": [
    {
     "data": {
      "image/png": "[encoded data removed]",
      "text/plain": [
       "<Figure size 800x500 with 1 Axes>"
      ]
     },
     "metadata": {},
     "output_type": "display_data"
    }
   ],
   "source": [
    "import matplotlib.pyplot as plt\n",
    "from sklearn.calibration import calibration_curve\n",
    "\n",
    "\n",
    "### Your code is here\n",
    "### Предсказания модели на тесте и соответствующая калибровочная кривая\n",
    "from sklearn.calibration import calibration_curve\n",
    "\n",
    "prob_pos = model.predict_proba(X_test)[:, 1]\n",
    "fraction_of_positives, mean_predicted_value = calibration_curve(y_test, prob_pos, n_bins=15)\n",
    "plt.plot(mean_predicted_value, fraction_of_positives, \"s-\", label=\"GB\")\n",
    "plt.plot([0, 1], [0, 1], \"k:\", label=\"Perfectly calibrated\")\n",
    "\n",
    "plt.ylabel(\"Fraction of positives\")\n",
    "plt.xlabel(\"Mean predicted value\")\n",
    "plt.legend(loc=\"lower right\")\n",
    "plt.title('Calibration plots  (reliability curve)')\n",
    "plt.show()\n"
   ]
  },
  {
   "cell_type": "markdown",
   "id": "89eb44bb",
   "metadata": {},
   "source": [
    "**Задание 2.** Переберите параметры `n_estimators` и `learning_rate` по двумерной сетке. При обучении в цикле сразу считайте f1-score на тестовой выборке и сохраняйте результат в матрицу. Для какого алгоритма качество окажется максимальным?\n",
    "\n",
    "Постройте кривые для метрики f1-score в зависимости от числа шагов для нескольких learning_rate. Изобразите heatmap полученной матрицы. Сделайте вывод, как количество шагов влияет на качество совместно с различной скоростью обучения? (2б)\n",
    "\n",
    "P.S. для подсчета f1-score передайте в функцию параметр `average='weighted'`, чтобы учитывался еще и баланс классов (вспомните микро/макро-усреднения)."
   ]
  },
  {
   "cell_type": "code",
   "execution_count": 32,
   "id": "19a41aa6",
   "metadata": {
    "ExecuteTime": {
     "end_time": "2023-04-20T19:55:19.973480Z",
     "start_time": "2023-04-20T19:55:19.971459Z"
    }
   },
   "outputs": [],
   "source": [
    "### Задаем сетку параметров\n",
    "\n",
    "n_estimators_list = [5, 10, 20, 50, 100, 200, 700, 1000]\n",
    "learning_rate_list = [1, 0.1, 0.01]\n"
   ]
  },
  {
   "cell_type": "code",
   "execution_count": 33,
   "id": "446865bf",
   "metadata": {
    "ExecuteTime": {
     "end_time": "2023-04-20T19:56:19.591632Z",
     "start_time": "2023-04-20T19:55:22.087377Z"
    },
    "scrolled": true
   },
   "outputs": [
    {
     "name": "stdout",
     "output_type": "stream",
     "text": [
      "f1_score = 0.836\n",
      "f1_score = 0.832\n",
      "f1_score = 0.831\n",
      "f1_score = 0.838\n",
      "f1_score = 0.832\n",
      "f1_score = 0.831\n",
      "f1_score = 0.844\n",
      "f1_score = 0.832\n",
      "f1_score = 0.831\n",
      "f1_score = 0.836\n",
      "f1_score = 0.832\n",
      "f1_score = 0.832\n",
      "f1_score = 0.837\n",
      "f1_score = 0.838\n",
      "f1_score = 0.832\n",
      "f1_score = 0.843\n",
      "f1_score = 0.843\n",
      "f1_score = 0.832\n",
      "f1_score = 0.844\n",
      "f1_score = 0.843\n",
      "f1_score = 0.835\n",
      "f1_score = 0.846\n",
      "f1_score = 0.846\n",
      "f1_score = 0.837\n"
     ]
    }
   ],
   "source": [
    "### Your code is here\n",
    "for (i, n) in enumerate(n_estimators_list):\n",
    "    for (j, lr) in enumerate(learning_rate_list):\n",
    "        model_2 = GradientBoostingClassifier(n_estimators=n,\n",
    "                                           learning_rate=lr,\n",
    "                                           max_depth=5,\n",
    "                                           random_state=1)\n",
    "        model_2.fit(X_train, y_train)\n",
    "        print(f\"f1_score = {f1_score(y_true=y_test, y_pred=model_2.predict(X_test), average='weighted'):.3f}\" )\n"
   ]
  },
  {
   "cell_type": "markdown",
   "id": "0cb6bc93",
   "metadata": {},
   "source": [
    "**Задание 3.** Вам потребуется обучить 4 модели и посчитать метрику f1-score на тестовой и обучающей выборках для каждой модели. \n",
    "1. Случайный лес с максимальной глубиной деревьев 5,\n",
    "2. Случайный лес с максимальной глубиной деревьев 5000,\n",
    "3. Градиентный бустинг с максимальной глубиной деревьев 5,\n",
    "4. Градиентный бустинг с максимальной глубиной деревьев 5000.\n",
    "\n",
    "Для каждой модели перебирайте значения `n_estimators`, как в предыдущем задании. Отрисуйте графики зависимости f1-score от количества шагов, используя `average='weighted'` для учёта баланса классов. \n",
    "\n",
    "Если в качестве базовой модели брать неглубокие деревья, то какая модель лучше запоминает обучающую выборку: случайный лес или градиентный бустинг? Какая из них лучше предсказывает на тестовой выборке? Как изменятся ответы, если базовая модель - это глубокое решающее дерево?\n",
    "\n",
    "Подвержен ли переобучению случайный лес и градиентный бустинг? Как это отражается на графиках? (4б)"
   ]
  },
  {
   "cell_type": "code",
   "execution_count": 34,
   "id": "d5007b24",
   "metadata": {
    "ExecuteTime": {
     "end_time": "2023-04-20T20:00:39.273675Z",
     "start_time": "2023-04-20T20:00:39.270703Z"
    }
   },
   "outputs": [],
   "source": [
    "from sklearn.ensemble import RandomForestClassifier, BaggingClassifier\n",
    "from sklearn.tree import DecisionTreeClassifier\n",
    "\n",
    "n_estimators_list = [2, 3, 4, 5, 10, 20, 50, 70, 100, 200, 700, 1000, 2000]\n",
    "\n",
    "### Your code is here"
   ]
  },
  {
   "cell_type": "code",
   "execution_count": 36,
   "id": "16ba9edc",
   "metadata": {
    "ExecuteTime": {
     "end_time": "2023-04-20T20:05:33.521373Z",
     "start_time": "2023-04-20T20:04:55.476542Z"
    }
   },
   "outputs": [
    {
     "name": "stdout",
     "output_type": "stream",
     "text": [
      "n_estimators = 2 f1_score = 0.831\n",
      "n_estimators = 3 f1_score = 0.831\n",
      "n_estimators = 4 f1_score = 0.832\n",
      "n_estimators = 5 f1_score = 0.832\n",
      "n_estimators = 10 f1_score = 0.832\n",
      "n_estimators = 20 f1_score = 0.832\n",
      "n_estimators = 50 f1_score = 0.832\n",
      "n_estimators = 70 f1_score = 0.834\n",
      "n_estimators = 100 f1_score = 0.838\n",
      "n_estimators = 200 f1_score = 0.843\n",
      "n_estimators = 700 f1_score = 0.843\n",
      "n_estimators = 1000 f1_score = 0.846\n",
      "n_estimators = 2000 f1_score = 0.837\n"
     ]
    }
   ],
   "source": [
    "### Градиентный бустинг с максимальной глубиной деревьев 5\n",
    "\n",
    "for (i, n) in enumerate(n_estimators_list):\n",
    "        model_3 = GradientBoostingClassifier(n_estimators=n,\n",
    "                                           max_depth=5,\n",
    "                                           random_state=1)\n",
    "        model_3.fit(X_train, y_train)\n",
    "        print(f\"n_estimators = {n} f1_score = {f1_score(y_true=y_test, y_pred=model_3.predict(X_test), average='weighted'):.3f}\" )\n"
   ]
  },
  {
   "cell_type": "code",
   "execution_count": 37,
   "id": "e379ecd3",
   "metadata": {
    "ExecuteTime": {
     "end_time": "2023-04-20T20:07:10.781858Z",
     "start_time": "2023-04-20T20:06:38.085464Z"
    },
    "scrolled": false
   },
   "outputs": [
    {
     "name": "stdout",
     "output_type": "stream",
     "text": [
      "n_estimators = 2 f1_score = 0.831\n",
      "n_estimators = 3 f1_score = 0.831\n",
      "n_estimators = 4 f1_score = 0.831\n",
      "n_estimators = 5 f1_score = 0.835\n",
      "n_estimators = 10 f1_score = 0.834\n",
      "n_estimators = 20 f1_score = 0.835\n",
      "n_estimators = 50 f1_score = 0.832\n",
      "n_estimators = 70 f1_score = 0.831\n",
      "n_estimators = 100 f1_score = 0.833\n",
      "n_estimators = 200 f1_score = 0.834\n",
      "n_estimators = 700 f1_score = 0.834\n",
      "n_estimators = 1000 f1_score = 0.834\n",
      "n_estimators = 2000 f1_score = 0.834\n"
     ]
    }
   ],
   "source": [
    "### Градиентный бустинг с максимальной глубиной деревьев 5000\n",
    "\n",
    "for (i, n) in enumerate(n_estimators_list):\n",
    "        model_4 = GradientBoostingClassifier(n_estimators=n,\n",
    "                                           max_depth=5000,\n",
    "                                           random_state=1)\n",
    "        model_4.fit(X_train, y_train)\n",
    "        print(f\"n_estimators = {n} f1_score = {f1_score(y_true=y_test, y_pred=model_4.predict(X_test), average='weighted'):.3f}\" )"
   ]
  },
  {
   "cell_type": "code",
   "execution_count": 38,
   "id": "5add4fac",
   "metadata": {
    "ExecuteTime": {
     "end_time": "2023-04-20T20:19:02.823493Z",
     "start_time": "2023-04-20T20:18:51.480359Z"
    },
    "scrolled": true
   },
   "outputs": [
    {
     "name": "stdout",
     "output_type": "stream",
     "text": [
      "0 n_estimators = 2 f1_score = 0.834\n",
      "1 n_estimators = 3 f1_score = 0.833\n",
      "2 n_estimators = 4 f1_score = 0.831\n",
      "3 n_estimators = 5 f1_score = 0.833\n",
      "4 n_estimators = 10 f1_score = 0.831\n",
      "5 n_estimators = 20 f1_score = 0.831\n",
      "6 n_estimators = 50 f1_score = 0.831\n",
      "7 n_estimators = 70 f1_score = 0.831\n",
      "8 n_estimators = 100 f1_score = 0.831\n",
      "9 n_estimators = 200 f1_score = 0.831\n",
      "10 n_estimators = 700 f1_score = 0.831\n",
      "11 n_estimators = 1000 f1_score = 0.831\n",
      "12 n_estimators = 2000 f1_score = 0.831\n"
     ]
    }
   ],
   "source": [
    "#### Случайный лес с максимальной глубиной деревьев 5\n",
    "for (i, n) in enumerate(n_estimators_list):\n",
    "    model_rf_1 = RandomForestClassifier(n_estimators=n, \n",
    "                                    max_depth=5,\n",
    "                                    random_state=1\n",
    "                                   )\n",
    "    model_rf_1.fit(X_train, y_train)\n",
    "    print(f\"{i} n_estimators = {n} f1_score = {f1_score(y_true=y_test, y_pred=model_rf_1.predict(X_test), average='weighted'):.3f}\" )"
   ]
  },
  {
   "cell_type": "code",
   "execution_count": 39,
   "id": "050bf828",
   "metadata": {
    "ExecuteTime": {
     "end_time": "2023-04-20T20:20:18.092018Z",
     "start_time": "2023-04-20T20:19:57.362306Z"
    }
   },
   "outputs": [
    {
     "name": "stdout",
     "output_type": "stream",
     "text": [
      "0 n_estimators = 2 f1_score = 0.847\n",
      "1 n_estimators = 3 f1_score = 0.842\n",
      "2 n_estimators = 4 f1_score = 0.841\n",
      "3 n_estimators = 5 f1_score = 0.839\n",
      "4 n_estimators = 10 f1_score = 0.842\n",
      "5 n_estimators = 20 f1_score = 0.848\n",
      "6 n_estimators = 50 f1_score = 0.845\n",
      "7 n_estimators = 70 f1_score = 0.839\n",
      "8 n_estimators = 100 f1_score = 0.838\n",
      "9 n_estimators = 200 f1_score = 0.838\n",
      "10 n_estimators = 700 f1_score = 0.839\n",
      "11 n_estimators = 1000 f1_score = 0.839\n",
      "12 n_estimators = 2000 f1_score = 0.840\n"
     ]
    }
   ],
   "source": [
    "#### Случайный лес с максимальной глубиной деревьев 5000\n",
    "for (i, n) in enumerate(n_estimators_list):\n",
    "    model_rf_2 = RandomForestClassifier(n_estimators=n, \n",
    "                                    max_depth=5000,\n",
    "                                    random_state=1\n",
    "                                   )\n",
    "    model_rf_2.fit(X_train, y_train)\n",
    "    print(f\"{i} n_estimators = {n} f1_score = {f1_score(y_true=y_test, y_pred=model_rf_2.predict(X_test), average='weighted'):.3f}\" )"
   ]
  },
  {
   "cell_type": "markdown",
   "id": "4c36859a",
   "metadata": {},
   "source": [
    "**Задание 4.** Установите библиотеку `catboost`. Главной особенностью catboost явялется наличие встроенной обработки категориальных признаков. Для каждого категориального столбца вычисляется следующее значение\n",
    "$$\n",
    "avg\\_target = \\dfrac{countInClass + prior}{totalCount + 1},\n",
    "$$\n",
    "* countInClass - количество объектов положительного класса для данной категории **до текущего объекта**,\n",
    "* prior - некоторая константа для числителя, обычно равна доле положительного класса в таргете,\n",
    "* totalCount - количество наблюдаемых категорий вплоть **до текущего** с той же категорией, что и у текущего.\n",
    "\n",
    "Так как первые такие значения будут иметь больший разброс, чем последние, то выборку перемешивают несколько раз и полученные статистики усредняют. \n",
    "В отличие от target encoder подсчитанные значения зависят от наблюдаемой истории, т.е. вычисляются только из наблюдений до них, таким образом не происходит target leakage. \n",
    "\n",
    "Почитать подробнее можно здесь: [Transforming categorical features](https://catboost.ai/en/docs/concepts/algorithm-main-stages_cat-to-numberic)\n",
    "\n",
    "Обучите CatBoostClassifier с дефолтными параметрами. Используйте датасет до  (разбейте на train/test по старой логике с тем же random state'ом). Категориальные колонки передайте в параметр `cat_features` метода `fit`. Catboost сам с ними разберется.\n",
    "\n",
    "Сравните качество с моделью из предыдущего задания. Стало ли лучше?\n",
    "\n",
    "Сравните feature importances в модели из задания 2 и в catboost с помощью соответствующих методов, изобразите их, используя `barplot`. \\\n",
    "Какие признаки стали более важными с новым методом кодирования? (4б)"
   ]
  },
  {
   "cell_type": "code",
   "execution_count": 6,
   "id": "fe63b170",
   "metadata": {
    "ExecuteTime": {
     "end_time": "2023-04-21T05:54:57.228415Z",
     "start_time": "2023-04-21T05:54:27.166195Z"
    }
   },
   "outputs": [
    {
     "name": "stdout",
     "output_type": "stream",
     "text": [
      "Defaulting to user installation because normal site-packages is not writeable\n",
      "Collecting catboost\n",
      "  Downloading catboost-1.1.1-cp310-none-manylinux1_x86_64.whl (76.6 MB)\n",
      "\u001b[2K     \u001b[38;2;114;156;31m━━━━━━━━━━━━━━━━━━━━━━━━━━━━━━━━━━━━━━━━\u001b[0m \u001b[32m76.6/76.6 MB\u001b[0m \u001b[31m3.9 MB/s\u001b[0m eta \u001b[36m0:00:00\u001b[0mm eta \u001b[36m0:00:01\u001b[0m[36m0:00:01\u001b[0m\n",
      "\u001b[?25hRequirement already satisfied: scipy in /home/antonio/.local/lib/python3.10/site-packages (from catboost) (1.10.0)\n",
      "Collecting graphviz\n",
      "  Downloading graphviz-0.20.1-py3-none-any.whl (47 kB)\n",
      "\u001b[2K     \u001b[38;2;114;156;31m━━━━━━━━━━━━━━━━━━━━━━━━━━━━━━━━━━━━━━━━\u001b[0m \u001b[32m47.0/47.0 kB\u001b[0m \u001b[31m4.6 MB/s\u001b[0m eta \u001b[36m0:00:00\u001b[0m\n",
      "\u001b[?25hRequirement already satisfied: numpy>=1.16.0 in /home/antonio/.local/lib/python3.10/site-packages (from catboost) (1.24.2)\n",
      "Requirement already satisfied: pandas>=0.24.0 in /home/antonio/.local/lib/python3.10/site-packages (from catboost) (1.5.3)\n",
      "Collecting plotly\n",
      "  Downloading plotly-5.14.1-py2.py3-none-any.whl (15.3 MB)\n",
      "\u001b[2K     \u001b[38;2;114;156;31m━━━━━━━━━━━━━━━━━━━━━━━━━━━━━━━━━━━━━━━━\u001b[0m \u001b[32m15.3/15.3 MB\u001b[0m \u001b[31m4.3 MB/s\u001b[0m eta \u001b[36m0:00:00\u001b[0mm eta \u001b[36m0:00:01\u001b[0m[36m0:00:01\u001b[0m\n",
      "\u001b[?25hRequirement already satisfied: six in /usr/lib/python3/dist-packages (from catboost) (1.16.0)\n",
      "Requirement already satisfied: matplotlib in /home/antonio/.local/lib/python3.10/site-packages (from catboost) (3.6.2)\n",
      "Requirement already satisfied: python-dateutil>=2.8.1 in /home/antonio/.local/lib/python3.10/site-packages (from pandas>=0.24.0->catboost) (2.8.2)\n",
      "Requirement already satisfied: pytz>=2020.1 in /usr/lib/python3/dist-packages (from pandas>=0.24.0->catboost) (2022.1)\n",
      "Requirement already satisfied: kiwisolver>=1.0.1 in /home/antonio/.local/lib/python3.10/site-packages (from matplotlib->catboost) (1.4.4)\n",
      "Requirement already satisfied: contourpy>=1.0.1 in /home/antonio/.local/lib/python3.10/site-packages (from matplotlib->catboost) (1.0.6)\n",
      "Requirement already satisfied: packaging>=20.0 in /home/antonio/.local/lib/python3.10/site-packages (from matplotlib->catboost) (22.0)\n",
      "Requirement already satisfied: fonttools>=4.22.0 in /home/antonio/.local/lib/python3.10/site-packages (from matplotlib->catboost) (4.38.0)\n",
      "Requirement already satisfied: pillow>=6.2.0 in /usr/lib/python3/dist-packages (from matplotlib->catboost) (9.0.1)\n",
      "Requirement already satisfied: pyparsing>=2.2.1 in /usr/lib/python3/dist-packages (from matplotlib->catboost) (2.4.7)\n",
      "Requirement already satisfied: cycler>=0.10 in /home/antonio/.local/lib/python3.10/site-packages (from matplotlib->catboost) (0.11.0)\n",
      "Collecting tenacity>=6.2.0\n",
      "  Downloading tenacity-8.2.2-py3-none-any.whl (24 kB)\n",
      "Installing collected packages: tenacity, graphviz, plotly, catboost\n",
      "Successfully installed catboost-1.1.1 graphviz-0.20.1 plotly-5.14.1 tenacity-8.2.2\n",
      "\n",
      "\u001b[1m[\u001b[0m\u001b[34;49mnotice\u001b[0m\u001b[1;39;49m]\u001b[0m\u001b[39;49m A new release of pip is available: \u001b[0m\u001b[31;49m23.0.1\u001b[0m\u001b[39;49m -> \u001b[0m\u001b[32;49m23.1\u001b[0m\n",
      "\u001b[1m[\u001b[0m\u001b[34;49mnotice\u001b[0m\u001b[1;39;49m]\u001b[0m\u001b[39;49m To update, run: \u001b[0m\u001b[32;49mpython3 -m pip install --upgrade pip\u001b[0m\n"
     ]
    }
   ],
   "source": [
    "!pip install catboost"
   ]
  },
  {
   "cell_type": "code",
   "execution_count": 8,
   "id": "60550b08",
   "metadata": {
    "ExecuteTime": {
     "end_time": "2023-04-21T05:56:59.979512Z",
     "start_time": "2023-04-21T05:56:59.951184Z"
    }
   },
   "outputs": [
    {
     "data": {
      "text/html": [
       "<div>\n",
       "<style scoped>\n",
       "    .dataframe tbody tr th:only-of-type {\n",
       "        vertical-align: middle;\n",
       "    }\n",
       "\n",
       "    .dataframe tbody tr th {\n",
       "        vertical-align: top;\n",
       "    }\n",
       "\n",
       "    .dataframe thead th {\n",
       "        text-align: right;\n",
       "    }\n",
       "</style>\n",
       "<table border=\"1\" class=\"dataframe\">\n",
       "  <thead>\n",
       "    <tr style=\"text-align: right;\">\n",
       "      <th></th>\n",
       "      <th>Gender</th>\n",
       "      <th>Age</th>\n",
       "      <th>Driving_License</th>\n",
       "      <th>Region_Code</th>\n",
       "      <th>Previously_Insured</th>\n",
       "      <th>Vehicle_Age</th>\n",
       "      <th>Vehicle_Damage</th>\n",
       "      <th>Annual_Premium</th>\n",
       "      <th>Policy_Sales_Channel</th>\n",
       "      <th>Vintage</th>\n",
       "      <th>Response</th>\n",
       "    </tr>\n",
       "  </thead>\n",
       "  <tbody>\n",
       "    <tr>\n",
       "      <th>0</th>\n",
       "      <td>Male</td>\n",
       "      <td>44</td>\n",
       "      <td>1</td>\n",
       "      <td>28.0</td>\n",
       "      <td>0</td>\n",
       "      <td>&gt; 2 Years</td>\n",
       "      <td>Yes</td>\n",
       "      <td>40454.0</td>\n",
       "      <td>26.0</td>\n",
       "      <td>217</td>\n",
       "      <td>1</td>\n",
       "    </tr>\n",
       "    <tr>\n",
       "      <th>1</th>\n",
       "      <td>Male</td>\n",
       "      <td>76</td>\n",
       "      <td>1</td>\n",
       "      <td>3.0</td>\n",
       "      <td>0</td>\n",
       "      <td>1-2 Year</td>\n",
       "      <td>No</td>\n",
       "      <td>33536.0</td>\n",
       "      <td>26.0</td>\n",
       "      <td>183</td>\n",
       "      <td>0</td>\n",
       "    </tr>\n",
       "    <tr>\n",
       "      <th>2</th>\n",
       "      <td>Male</td>\n",
       "      <td>47</td>\n",
       "      <td>1</td>\n",
       "      <td>28.0</td>\n",
       "      <td>0</td>\n",
       "      <td>&gt; 2 Years</td>\n",
       "      <td>Yes</td>\n",
       "      <td>38294.0</td>\n",
       "      <td>26.0</td>\n",
       "      <td>27</td>\n",
       "      <td>1</td>\n",
       "    </tr>\n",
       "    <tr>\n",
       "      <th>3</th>\n",
       "      <td>Male</td>\n",
       "      <td>21</td>\n",
       "      <td>1</td>\n",
       "      <td>11.0</td>\n",
       "      <td>1</td>\n",
       "      <td>&lt; 1 Year</td>\n",
       "      <td>No</td>\n",
       "      <td>28619.0</td>\n",
       "      <td>152.0</td>\n",
       "      <td>203</td>\n",
       "      <td>0</td>\n",
       "    </tr>\n",
       "    <tr>\n",
       "      <th>4</th>\n",
       "      <td>Female</td>\n",
       "      <td>29</td>\n",
       "      <td>1</td>\n",
       "      <td>41.0</td>\n",
       "      <td>1</td>\n",
       "      <td>&lt; 1 Year</td>\n",
       "      <td>No</td>\n",
       "      <td>27496.0</td>\n",
       "      <td>152.0</td>\n",
       "      <td>39</td>\n",
       "      <td>0</td>\n",
       "    </tr>\n",
       "  </tbody>\n",
       "</table>\n",
       "</div>"
      ],
      "text/plain": [
       "   Gender  Age  Driving_License  Region_Code  Previously_Insured Vehicle_Age  \\\n",
       "0    Male   44                1         28.0                   0   > 2 Years   \n",
       "1    Male   76                1          3.0                   0    1-2 Year   \n",
       "2    Male   47                1         28.0                   0   > 2 Years   \n",
       "3    Male   21                1         11.0                   1    < 1 Year   \n",
       "4  Female   29                1         41.0                   1    < 1 Year   \n",
       "\n",
       "  Vehicle_Damage  Annual_Premium  Policy_Sales_Channel  Vintage  Response  \n",
       "0            Yes         40454.0                  26.0      217         1  \n",
       "1             No         33536.0                  26.0      183         0  \n",
       "2            Yes         38294.0                  26.0       27         1  \n",
       "3             No         28619.0                 152.0      203         0  \n",
       "4             No         27496.0                 152.0       39         0  "
      ]
     },
     "execution_count": 8,
     "metadata": {},
     "output_type": "execute_result"
    }
   ],
   "source": [
    "from catboost import CatBoostClassifier\n",
    "\n",
    "### Your code is here\n",
    "data_2 = pd.read_csv('vehicle_insurance.csv')\n",
    "data_2.head()"
   ]
  },
  {
   "cell_type": "code",
   "execution_count": 10,
   "id": "1ae8a9aa",
   "metadata": {
    "ExecuteTime": {
     "end_time": "2023-04-21T06:00:12.198114Z",
     "start_time": "2023-04-21T06:00:12.185211Z"
    }
   },
   "outputs": [],
   "source": [
    "# заново считаем данные и произведем разбивку\n",
    "\n",
    "from sklearn.model_selection import train_test_split\n",
    "X_2 = data_2.drop('Response', axis=1)\n",
    "y_2 = data_2['Response']\n",
    "\n",
    "X_train_, X_test_, y_train_, y_test_ = train_test_split(X_2, y_2,\n",
    "                                                    random_state=0,\n",
    "                                                    shuffle=True,\n",
    "                                                    test_size=0.2)"
   ]
  },
  {
   "cell_type": "code",
   "execution_count": 13,
   "id": "e59b1cab",
   "metadata": {
    "ExecuteTime": {
     "end_time": "2023-04-21T06:05:07.834542Z",
     "start_time": "2023-04-21T06:05:07.830205Z"
    }
   },
   "outputs": [
    {
     "data": {
      "text/plain": [
       "['Gender', 'Vehicle_Age', 'Vehicle_Damage']"
      ]
     },
     "execution_count": 13,
     "metadata": {},
     "output_type": "execute_result"
    }
   ],
   "source": [
    "categorical_columns_2 = list(data_2.select_dtypes(include=object).columns)\n",
    "categorical_columns_2"
   ]
  },
  {
   "cell_type": "code",
   "execution_count": 16,
   "id": "d8e745d1",
   "metadata": {
    "ExecuteTime": {
     "end_time": "2023-04-21T06:12:53.643433Z",
     "start_time": "2023-04-21T06:12:50.456704Z"
    }
   },
   "outputs": [
    {
     "data": {
      "text/plain": [
       "<catboost.core.CatBoostClassifier at 0x7ff3f9d6d360>"
      ]
     },
     "execution_count": 16,
     "metadata": {},
     "output_type": "execute_result"
    }
   ],
   "source": [
    "catboost = CatBoostClassifier(verbose=0)\n",
    "\n",
    "catboost.fit(X_train_, y_train_, cat_features=categorical_columns_2)"
   ]
  },
  {
   "cell_type": "code",
   "execution_count": 17,
   "id": "3227d764",
   "metadata": {
    "ExecuteTime": {
     "end_time": "2023-04-21T06:13:01.531705Z",
     "start_time": "2023-04-21T06:13:01.503726Z"
    }
   },
   "outputs": [
    {
     "name": "stdout",
     "output_type": "stream",
     "text": [
      "Качество на трейне: 0.096\n",
      "Качество на тесте: 0.12\n"
     ]
    }
   ],
   "source": [
    "train_preds = catboost.predict(X_train_)\n",
    "test_preds = catboost.predict(X_test_)\n",
    "\n",
    "train_error = np.mean((train_preds - y_train_.values.ravel())**2)\n",
    "test_error = np.mean((test_preds - y_test_.values.ravel())**2)\n",
    "\n",
    "\n",
    "print(f\"Качество на трейне: {train_error.round(3)}\")\n",
    "print(f\"Качество на тесте: {test_error.round(3)}\")"
   ]
  },
  {
   "cell_type": "code",
   "execution_count": 24,
   "id": "39421c86",
   "metadata": {
    "ExecuteTime": {
     "end_time": "2023-04-21T06:16:45.173736Z",
     "start_time": "2023-04-21T06:16:45.170388Z"
    }
   },
   "outputs": [],
   "source": [
    "# важность фичей\n",
    "c = catboost.feature_importances_"
   ]
  },
  {
   "cell_type": "code",
   "execution_count": 46,
   "id": "67adf4dc",
   "metadata": {
    "ExecuteTime": {
     "end_time": "2023-04-21T06:28:37.151999Z",
     "start_time": "2023-04-21T06:28:37.148072Z"
    }
   },
   "outputs": [
    {
     "data": {
      "text/plain": [
       "[('Previously_Insured', 27.359), ('Vehicle_Damage', 21.368), ('Age', 11.367)]"
      ]
     },
     "execution_count": 46,
     "metadata": {},
     "output_type": "execute_result"
    }
   ],
   "source": [
    "# создадим словарик из ключ - столбец, значение  - feature_importances важность фичей\n",
    "res = {}\n",
    "for i in range(len(list(X_test_.columns))):\n",
    "    res[X_test_.columns[i]] = round(c[i],3)\n",
    "# отсортируем словарик по значению x[1], возьмем первые 3 элемента, сделаем reverse\n",
    "sorted(res.items(), key=lambda x:x[1], reverse=True)[:3]"
   ]
  },
  {
   "cell_type": "code",
   "execution_count": null,
   "id": "340ba75a",
   "metadata": {
    "ExecuteTime": {
     "end_time": "2023-04-21T06:27:48.867773Z",
     "start_time": "2023-04-21T06:27:48.863460Z"
    }
   },
   "outputs": [],
   "source": []
  },
  {
   "cell_type": "code",
   "execution_count": 47,
   "id": "ca5fe7b3",
   "metadata": {
    "ExecuteTime": {
     "end_time": "2023-04-21T06:49:23.879040Z",
     "start_time": "2023-04-21T06:49:21.240901Z"
    }
   },
   "outputs": [
    {
     "name": "stdout",
     "output_type": "stream",
     "text": [
      "Defaulting to user installation because normal site-packages is not writeable\n",
      "Collecting lightgbm\n",
      "  Downloading lightgbm-3.3.5-py3-none-manylinux1_x86_64.whl (2.0 MB)\n",
      "\u001b[2K     \u001b[38;2;114;156;31m━━━━━━━━━━━━━━━━━━━━━━━━━━━━━━━━━━━━━━━━\u001b[0m \u001b[32m2.0/2.0 MB\u001b[0m \u001b[31m4.1 MB/s\u001b[0m eta \u001b[36m0:00:00\u001b[0mm eta \u001b[36m0:00:01\u001b[0m0:01\u001b[0m:01\u001b[0m0m\n",
      "\u001b[?25hRequirement already satisfied: numpy in /home/antonio/.local/lib/python3.10/site-packages (from lightgbm) (1.24.2)\n",
      "Requirement already satisfied: scipy in /home/antonio/.local/lib/python3.10/site-packages (from lightgbm) (1.10.0)\n",
      "Requirement already satisfied: scikit-learn!=0.22.0 in /home/antonio/.local/lib/python3.10/site-packages (from lightgbm) (1.2.2)\n",
      "Requirement already satisfied: wheel in /usr/lib/python3/dist-packages (from lightgbm) (0.37.1)\n",
      "Requirement already satisfied: threadpoolctl>=2.0.0 in /home/antonio/.local/lib/python3.10/site-packages (from scikit-learn!=0.22.0->lightgbm) (3.1.0)\n",
      "Requirement already satisfied: joblib>=1.1.1 in /home/antonio/.local/lib/python3.10/site-packages (from scikit-learn!=0.22.0->lightgbm) (1.2.0)\n",
      "Installing collected packages: lightgbm\n",
      "Successfully installed lightgbm-3.3.5\n",
      "\n",
      "\u001b[1m[\u001b[0m\u001b[34;49mnotice\u001b[0m\u001b[1;39;49m]\u001b[0m\u001b[39;49m A new release of pip is available: \u001b[0m\u001b[31;49m23.0.1\u001b[0m\u001b[39;49m -> \u001b[0m\u001b[32;49m23.1\u001b[0m\n",
      "\u001b[1m[\u001b[0m\u001b[34;49mnotice\u001b[0m\u001b[1;39;49m]\u001b[0m\u001b[39;49m To update, run: \u001b[0m\u001b[32;49mpython3 -m pip install --upgrade pip\u001b[0m\n"
     ]
    }
   ],
   "source": [
    "!pip install lightgbm"
   ]
  },
  {
   "attachments": {
    "%D0%B8%D0%B7%D0%BE%D0%B1%D1%80%D0%B0%D0%B6%D0%B5%D0%BD%D0%B8%D0%B5-2.png": {
     "image/png": "[encoded data removed]"
    },
    "%D0%B8%D0%B7%D0%BE%D0%B1%D1%80%D0%B0%D0%B6%D0%B5%D0%BD%D0%B8%D0%B5.png": {
     "image/png": "[encoded data removed]"
    }
   },
   "cell_type": "markdown",
   "id": "332ecd4f",
   "metadata": {},
   "source": [
    "**Задание 5.** Установите библиотеку `lightgbm`. На сегодняшний день это наиболее быстрый метод градиентного бустинга, при этом расходующий небольшое количество оперативной памяти. Достигает он этого за счет построения деревьев вглубь по листьям (leaf-wise), а не по уровням (level-wise), как другие методы, например XGBoost. \n",
    "Более понятно это на картинке:\n",
    "\n",
    "![%D0%B8%D0%B7%D0%BE%D0%B1%D1%80%D0%B0%D0%B6%D0%B5%D0%BD%D0%B8%D0%B5.png](attachment:%D0%B8%D0%B7%D0%BE%D0%B1%D1%80%D0%B0%D0%B6%D0%B5%D0%BD%D0%B8%D0%B5.png)\n",
    "\n",
    "![%D0%B8%D0%B7%D0%BE%D0%B1%D1%80%D0%B0%D0%B6%D0%B5%D0%BD%D0%B8%D0%B5-2.png](attachment:%D0%B8%D0%B7%D0%BE%D0%B1%D1%80%D0%B0%D0%B6%D0%B5%D0%BD%D0%B8%D0%B5-2.png)\n",
    "\n",
    "В то время, как XGBoost за раз разделяет вершины на целом уровне той же глубины, LightGBM разделяет одну вершину за раз. Отсюда прирост в скорости.\n",
    "\n",
    "Обучите `LGBMClassifier` на изначальных(закодированных) данных и добейтесь максимального качества на тестовой выборке, перебрав параметры глубины деревьев, количества шагов, скорости обучения и т.д."
   ]
  },
  {
   "cell_type": "code",
   "execution_count": 56,
   "id": "10d25a31",
   "metadata": {
    "ExecuteTime": {
     "end_time": "2023-04-21T06:58:05.793724Z",
     "start_time": "2023-04-21T06:56:53.616214Z"
    }
   },
   "outputs": [
    {
     "data": {
      "text/html": [
       "<style>#sk-container-id-1 {color: black;background-color: white;}#sk-container-id-1 pre{padding: 0;}#sk-container-id-1 div.sk-toggleable {background-color: white;}#sk-container-id-1 label.sk-toggleable__label {cursor: pointer;display: block;width: 100%;margin-bottom: 0;padding: 0.3em;box-sizing: border-box;text-align: center;}#sk-container-id-1 label.sk-toggleable__label-arrow:before {content: \"▸\";float: left;margin-right: 0.25em;color: #696969;}#sk-container-id-1 label.sk-toggleable__label-arrow:hover:before {color: black;}#sk-container-id-1 div.sk-estimator:hover label.sk-toggleable__label-arrow:before {color: black;}#sk-container-id-1 div.sk-toggleable__content {max-height: 0;max-width: 0;overflow: hidden;text-align: left;background-color: #f0f8ff;}#sk-container-id-1 div.sk-toggleable__content pre {margin: 0.2em;color: black;border-radius: 0.25em;background-color: #f0f8ff;}#sk-container-id-1 input.sk-toggleable__control:checked~div.sk-toggleable__content {max-height: 200px;max-width: 100%;overflow: auto;}#sk-container-id-1 input.sk-toggleable__control:checked~label.sk-toggleable__label-arrow:before {content: \"▾\";}#sk-container-id-1 div.sk-estimator input.sk-toggleable__control:checked~label.sk-toggleable__label {background-color: #d4ebff;}#sk-container-id-1 div.sk-label input.sk-toggleable__control:checked~label.sk-toggleable__label {background-color: #d4ebff;}#sk-container-id-1 input.sk-hidden--visually {border: 0;clip: rect(1px 1px 1px 1px);clip: rect(1px, 1px, 1px, 1px);height: 1px;margin: -1px;overflow: hidden;padding: 0;position: absolute;width: 1px;}#sk-container-id-1 div.sk-estimator {font-family: monospace;background-color: #f0f8ff;border: 1px dotted black;border-radius: 0.25em;box-sizing: border-box;margin-bottom: 0.5em;}#sk-container-id-1 div.sk-estimator:hover {background-color: #d4ebff;}#sk-container-id-1 div.sk-parallel-item::after {content: \"\";width: 100%;border-bottom: 1px solid gray;flex-grow: 1;}#sk-container-id-1 div.sk-label:hover label.sk-toggleable__label {background-color: #d4ebff;}#sk-container-id-1 div.sk-serial::before {content: \"\";position: absolute;border-left: 1px solid gray;box-sizing: border-box;top: 0;bottom: 0;left: 50%;z-index: 0;}#sk-container-id-1 div.sk-serial {display: flex;flex-direction: column;align-items: center;background-color: white;padding-right: 0.2em;padding-left: 0.2em;position: relative;}#sk-container-id-1 div.sk-item {position: relative;z-index: 1;}#sk-container-id-1 div.sk-parallel {display: flex;align-items: stretch;justify-content: center;background-color: white;position: relative;}#sk-container-id-1 div.sk-item::before, #sk-container-id-1 div.sk-parallel-item::before {content: \"\";position: absolute;border-left: 1px solid gray;box-sizing: border-box;top: 0;bottom: 0;left: 50%;z-index: -1;}#sk-container-id-1 div.sk-parallel-item {display: flex;flex-direction: column;z-index: 1;position: relative;background-color: white;}#sk-container-id-1 div.sk-parallel-item:first-child::after {align-self: flex-end;width: 50%;}#sk-container-id-1 div.sk-parallel-item:last-child::after {align-self: flex-start;width: 50%;}#sk-container-id-1 div.sk-parallel-item:only-child::after {width: 0;}#sk-container-id-1 div.sk-dashed-wrapped {border: 1px dashed gray;margin: 0 0.4em 0.5em 0.4em;box-sizing: border-box;padding-bottom: 0.4em;background-color: white;}#sk-container-id-1 div.sk-label label {font-family: monospace;font-weight: bold;display: inline-block;line-height: 1.2em;}#sk-container-id-1 div.sk-label-container {text-align: center;}#sk-container-id-1 div.sk-container {/* jupyter's `normalize.less` sets `[hidden] { display: none; }` but bootstrap.min.css set `[hidden] { display: none !important; }` so we also need the `!important` here to be able to override the default hidden behavior on the sphinx rendered scikit-learn.org. See: https://github.com/scikit-learn/scikit-learn/issues/21755 */display: inline-block !important;position: relative;}#sk-container-id-1 div.sk-text-repr-fallback {display: none;}</style><div id=\"sk-container-id-1\" class=\"sk-top-container\"><div class=\"sk-text-repr-fallback\"><pre>GridSearchCV(estimator=LGBMClassifier(),\n",
       "             param_grid={&#x27;learning_rate&#x27;: [0.1, 0.01, 0.001],\n",
       "                         &#x27;max_depth&#x27;: [2, 3, 5, 100],\n",
       "                         &#x27;n_estimators&#x27;: [100, 500, 1000, 2000]})</pre><b>In a Jupyter environment, please rerun this cell to show the HTML representation or trust the notebook. <br />On GitHub, the HTML representation is unable to render, please try loading this page with nbviewer.org.</b></div><div class=\"sk-container\" hidden><div class=\"sk-item sk-dashed-wrapped\"><div class=\"sk-label-container\"><div class=\"sk-label sk-toggleable\"><input class=\"sk-toggleable__control sk-hidden--visually\" id=\"sk-estimator-id-1\" type=\"checkbox\" ><label for=\"sk-estimator-id-1\" class=\"sk-toggleable__label sk-toggleable__label-arrow\">GridSearchCV</label><div class=\"sk-toggleable__content\"><pre>GridSearchCV(estimator=LGBMClassifier(),\n",
       "             param_grid={&#x27;learning_rate&#x27;: [0.1, 0.01, 0.001],\n",
       "                         &#x27;max_depth&#x27;: [2, 3, 5, 100],\n",
       "                         &#x27;n_estimators&#x27;: [100, 500, 1000, 2000]})</pre></div></div></div><div class=\"sk-parallel\"><div class=\"sk-parallel-item\"><div class=\"sk-item\"><div class=\"sk-label-container\"><div class=\"sk-label sk-toggleable\"><input class=\"sk-toggleable__control sk-hidden--visually\" id=\"sk-estimator-id-2\" type=\"checkbox\" ><label for=\"sk-estimator-id-2\" class=\"sk-toggleable__label sk-toggleable__label-arrow\">estimator: LGBMClassifier</label><div class=\"sk-toggleable__content\"><pre>LGBMClassifier()</pre></div></div></div><div class=\"sk-serial\"><div class=\"sk-item\"><div class=\"sk-estimator sk-toggleable\"><input class=\"sk-toggleable__control sk-hidden--visually\" id=\"sk-estimator-id-3\" type=\"checkbox\" ><label for=\"sk-estimator-id-3\" class=\"sk-toggleable__label sk-toggleable__label-arrow\">LGBMClassifier</label><div class=\"sk-toggleable__content\"><pre>LGBMClassifier()</pre></div></div></div></div></div></div></div></div></div></div>"
      ],
      "text/plain": [
       "GridSearchCV(estimator=LGBMClassifier(),\n",
       "             param_grid={'learning_rate': [0.1, 0.01, 0.001],\n",
       "                         'max_depth': [2, 3, 5, 100],\n",
       "                         'n_estimators': [100, 500, 1000, 2000]})"
      ]
     },
     "execution_count": 56,
     "metadata": {},
     "output_type": "execute_result"
    }
   ],
   "source": [
    "from lightgbm import LGBMClassifier\n",
    "from sklearn.model_selection import GridSearchCV\n",
    "\n",
    "params = {'n_estimators': [100, 500, 1000, 2000],\n",
    "          'max_depth': [2, 3, 5, 100],\n",
    "          'learning_rate': [0.1, 0.01, 0.001]}\n",
    "\n",
    "### Your code is here\n",
    "\n",
    "model_lgbm = LGBMClassifier()\n",
    "\n",
    "search = GridSearchCV(model_lgbm, \n",
    "                      param_grid=params\n",
    "                     )\n",
    "search.fit(X_train, y_train)"
   ]
  },
  {
   "cell_type": "code",
   "execution_count": 57,
   "id": "3a29237d",
   "metadata": {
    "ExecuteTime": {
     "end_time": "2023-04-21T07:05:09.004089Z",
     "start_time": "2023-04-21T07:05:09.001083Z"
    }
   },
   "outputs": [
    {
     "name": "stdout",
     "output_type": "stream",
     "text": [
      "Best parameter (CV score=0.87288):\n",
      "{'learning_rate': 0.01, 'max_depth': 2, 'n_estimators': 100}\n"
     ]
    }
   ],
   "source": [
    "print(f\"Best parameter (CV score={search.best_score_:.5f}):\")\n",
    "print(search.best_params_)"
   ]
  },
  {
   "cell_type": "code",
   "execution_count": 61,
   "id": "071f56dc",
   "metadata": {
    "ExecuteTime": {
     "end_time": "2023-04-21T07:07:37.633357Z",
     "start_time": "2023-04-21T07:07:37.597140Z"
    }
   },
   "outputs": [
    {
     "name": "stdout",
     "output_type": "stream",
     "text": [
      "              precision    recall  f1-score   support\n",
      "\n",
      "           0      0.885     1.000     0.939      1770\n",
      "           1      0.000     0.000     0.000       230\n",
      "\n",
      "    accuracy                          0.885      2000\n",
      "   macro avg      0.443     0.500     0.469      2000\n",
      "weighted avg      0.783     0.885     0.831      2000\n",
      "\n"
     ]
    }
   ],
   "source": [
    "print(classification_report(y_true=y_test, y_pred=search.predict(X_test), digits=3))"
   ]
  }
 ],
 "metadata": {
  "kernelspec": {
   "display_name": "Python 3 (ipykernel)",
   "language": "python",
   "name": "python3"
  },
  "language_info": {
   "codemirror_mode": {
    "name": "ipython",
    "version": 3
   },
   "file_extension": ".py",
   "mimetype": "text/x-python",
   "name": "python",
   "nbconvert_exporter": "python",
   "pygments_lexer": "ipython3",
   "version": "3.10.6"
  },
  "varInspector": {
   "cols": {
    "lenName": 16,
    "lenType": 16,
    "lenVar": 40
   },
   "kernels_config": {
    "python": {
     "delete_cmd_postfix": "",
     "delete_cmd_prefix": "del ",
     "library": "var_list.py",
     "varRefreshCmd": "print(var_dic_list())"
    },
    "r": {
     "delete_cmd_postfix": ") ",
     "delete_cmd_prefix": "rm(",
     "library": "var_list.r",
     "varRefreshCmd": "cat(var_dic_list()) "
    }
   },
   "types_to_exclude": [
    "module",
    "function",
    "builtin_function_or_method",
    "instance",
    "_Feature"
   ],
   "window_display": false
  }
 },
 "nbformat": 4,
 "nbformat_minor": 5
}
