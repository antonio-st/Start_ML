{
 "cells": [
  {
   "cell_type": "code",
   "execution_count": 1,
   "id": "061f2347",
   "metadata": {
    "ExecuteTime": {
     "end_time": "2023-02-19T19:52:22.610239Z",
     "start_time": "2023-02-19T19:52:19.159357Z"
    }
   },
   "outputs": [],
   "source": [
    "import pandas as pd\n",
    "import numpy as np\n",
    "import matplotlib.pyplot as plt\n",
    "\n",
    "taxiDB = pd.read_csv('taxi_dataset.csv')"
   ]
  },
  {
   "cell_type": "code",
   "execution_count": 2,
   "id": "17f8008d",
   "metadata": {
    "ExecuteTime": {
     "end_time": "2023-02-19T19:52:22.628722Z",
     "start_time": "2023-02-19T19:52:22.612834Z"
    }
   },
   "outputs": [
    {
     "data": {
      "text/html": [
       "<div>\n",
       "<style scoped>\n",
       "    .dataframe tbody tr th:only-of-type {\n",
       "        vertical-align: middle;\n",
       "    }\n",
       "\n",
       "    .dataframe tbody tr th {\n",
       "        vertical-align: top;\n",
       "    }\n",
       "\n",
       "    .dataframe thead th {\n",
       "        text-align: right;\n",
       "    }\n",
       "</style>\n",
       "<table border=\"1\" class=\"dataframe\">\n",
       "  <thead>\n",
       "    <tr style=\"text-align: right;\">\n",
       "      <th></th>\n",
       "      <th>id</th>\n",
       "      <th>vendor_id</th>\n",
       "      <th>pickup_datetime</th>\n",
       "      <th>dropoff_datetime</th>\n",
       "      <th>passenger_count</th>\n",
       "      <th>pickup_longitude</th>\n",
       "      <th>pickup_latitude</th>\n",
       "      <th>dropoff_longitude</th>\n",
       "      <th>dropoff_latitude</th>\n",
       "      <th>store_and_fwd_flag</th>\n",
       "    </tr>\n",
       "  </thead>\n",
       "  <tbody>\n",
       "    <tr>\n",
       "      <th>0</th>\n",
       "      <td>id2875421</td>\n",
       "      <td>2</td>\n",
       "      <td>2016-03-14 17:24:55</td>\n",
       "      <td>2016-03-14 17:32:30</td>\n",
       "      <td>1</td>\n",
       "      <td>-73.982155</td>\n",
       "      <td>40.767937</td>\n",
       "      <td>-73.964630</td>\n",
       "      <td>40.765602</td>\n",
       "      <td>N</td>\n",
       "    </tr>\n",
       "    <tr>\n",
       "      <th>1</th>\n",
       "      <td>id2377394</td>\n",
       "      <td>1</td>\n",
       "      <td>2016-06-12 00:43:35</td>\n",
       "      <td>2016-06-12 00:54:38</td>\n",
       "      <td>1</td>\n",
       "      <td>-73.980415</td>\n",
       "      <td>40.738564</td>\n",
       "      <td>-73.999481</td>\n",
       "      <td>40.731152</td>\n",
       "      <td>N</td>\n",
       "    </tr>\n",
       "    <tr>\n",
       "      <th>2</th>\n",
       "      <td>id3858529</td>\n",
       "      <td>2</td>\n",
       "      <td>2016-01-19 11:35:24</td>\n",
       "      <td>2016-01-19 12:10:48</td>\n",
       "      <td>1</td>\n",
       "      <td>-73.979027</td>\n",
       "      <td>40.763939</td>\n",
       "      <td>-74.005333</td>\n",
       "      <td>40.710087</td>\n",
       "      <td>N</td>\n",
       "    </tr>\n",
       "  </tbody>\n",
       "</table>\n",
       "</div>"
      ],
      "text/plain": [
       "          id  vendor_id      pickup_datetime     dropoff_datetime  \\\n",
       "0  id2875421          2  2016-03-14 17:24:55  2016-03-14 17:32:30   \n",
       "1  id2377394          1  2016-06-12 00:43:35  2016-06-12 00:54:38   \n",
       "2  id3858529          2  2016-01-19 11:35:24  2016-01-19 12:10:48   \n",
       "\n",
       "   passenger_count  pickup_longitude  pickup_latitude  dropoff_longitude  \\\n",
       "0                1        -73.982155        40.767937         -73.964630   \n",
       "1                1        -73.980415        40.738564         -73.999481   \n",
       "2                1        -73.979027        40.763939         -74.005333   \n",
       "\n",
       "   dropoff_latitude store_and_fwd_flag  \n",
       "0         40.765602                  N  \n",
       "1         40.731152                  N  \n",
       "2         40.710087                  N  "
      ]
     },
     "execution_count": 2,
     "metadata": {},
     "output_type": "execute_result"
    }
   ],
   "source": [
    "taxiDB.head(3)"
   ]
  },
  {
   "cell_type": "markdown",
   "id": "da1ccd84",
   "metadata": {},
   "source": [
    "<dl>\n",
    "<dt> Описание колонок:\n",
    "<dd>id - ID поездки </dd>\n",
    "<dd>vendor_id - ID компании, осуществляющей перевозку </dd>\n",
    "<dd>pickup_datetime - Таймкод начала поездки</dd>\n",
    "<dd>dropoff_datetime - Таймкод конца поездки </dd>\n",
    "<dd>passenger_count - Количество пассажиров </dd>\n",
    "<dd>pickup_longitude - Долгота точки, в которой началась поездка </dd>\n",
    "<dd>pickup_latitude - Широта точки, в которой началась поездка </dd>\n",
    "<dd>dropoff_longitude - Долгота точки, в которой закончилась поездка </dd>\n",
    "<dd>dropoff_latitude - Широта точки, в которой закончилась поездка </dd>\n",
    "<dd>store_and_fwd_flag - Yes/No: Была ли информация сохранена в памяти транспортного средства из-за потери соединения с сервером </dd>\n",
    "</dl>\n",
    "\n",
    "**Наша целевая переменная - длительность поездки.**\n",
    "\n",
    "Зная тайм-коды времени начала и конца поездок, можем вычислить обозначенный таргет\n",
    "Договоримся, что производим вычисления в секундах.\n",
    "Советуем обратить внимание на  <a href=\"https://pandas.pydata.org/docs/reference/api/pandas.to_datetime.html\">данный способ</a> для перевода строки в datetime тип, с которым удобно работать при вычленении дней/часов...\n",
    "\n",
    "И <a href=\"https://pandas.pydata.org/docs/reference/api/pandas.Series.dt.total_seconds.html\"> этот </a>для перевода разницы datetime объектов в секунды\n",
    "\n",
    "Положите таргетную переменнул в столбик с названием **trip_duration**"
   ]
  },
  {
   "cell_type": "code",
   "execution_count": 3,
   "id": "e23675b9",
   "metadata": {
    "ExecuteTime": {
     "end_time": "2023-02-19T19:52:22.852687Z",
     "start_time": "2023-02-19T19:52:22.629820Z"
    }
   },
   "outputs": [],
   "source": [
    "taxiDB['pickup_datetime'] = pd.to_datetime(taxiDB.pickup_datetime)"
   ]
  },
  {
   "cell_type": "code",
   "execution_count": 4,
   "id": "0a5029b1",
   "metadata": {
    "ExecuteTime": {
     "end_time": "2023-02-19T19:52:23.085113Z",
     "start_time": "2023-02-19T19:52:22.854678Z"
    }
   },
   "outputs": [],
   "source": [
    "taxiDB['dropoff_datetime'] = pd.to_datetime(taxiDB.dropoff_datetime)"
   ]
  },
  {
   "cell_type": "code",
   "execution_count": 5,
   "id": "aeac30d7",
   "metadata": {
    "ExecuteTime": {
     "end_time": "2023-02-19T19:52:23.114606Z",
     "start_time": "2023-02-19T19:52:23.086477Z"
    }
   },
   "outputs": [],
   "source": [
    "taxiDB['trip_duration'] = (taxiDB['dropoff_datetime'] - taxiDB['pickup_datetime']).dt.total_seconds()"
   ]
  },
  {
   "cell_type": "code",
   "execution_count": 6,
   "id": "0c002ec6",
   "metadata": {
    "ExecuteTime": {
     "end_time": "2023-02-19T19:52:23.123265Z",
     "start_time": "2023-02-19T19:52:23.116152Z"
    }
   },
   "outputs": [
    {
     "data": {
      "text/html": [
       "<div>\n",
       "<style scoped>\n",
       "    .dataframe tbody tr th:only-of-type {\n",
       "        vertical-align: middle;\n",
       "    }\n",
       "\n",
       "    .dataframe tbody tr th {\n",
       "        vertical-align: top;\n",
       "    }\n",
       "\n",
       "    .dataframe thead th {\n",
       "        text-align: right;\n",
       "    }\n",
       "</style>\n",
       "<table border=\"1\" class=\"dataframe\">\n",
       "  <thead>\n",
       "    <tr style=\"text-align: right;\">\n",
       "      <th></th>\n",
       "      <th>id</th>\n",
       "      <th>vendor_id</th>\n",
       "      <th>pickup_datetime</th>\n",
       "      <th>dropoff_datetime</th>\n",
       "      <th>passenger_count</th>\n",
       "      <th>pickup_longitude</th>\n",
       "      <th>pickup_latitude</th>\n",
       "      <th>dropoff_longitude</th>\n",
       "      <th>dropoff_latitude</th>\n",
       "      <th>store_and_fwd_flag</th>\n",
       "      <th>trip_duration</th>\n",
       "    </tr>\n",
       "  </thead>\n",
       "  <tbody>\n",
       "    <tr>\n",
       "      <th>0</th>\n",
       "      <td>id2875421</td>\n",
       "      <td>2</td>\n",
       "      <td>2016-03-14 17:24:55</td>\n",
       "      <td>2016-03-14 17:32:30</td>\n",
       "      <td>1</td>\n",
       "      <td>-73.982155</td>\n",
       "      <td>40.767937</td>\n",
       "      <td>-73.964630</td>\n",
       "      <td>40.765602</td>\n",
       "      <td>N</td>\n",
       "      <td>455.0</td>\n",
       "    </tr>\n",
       "    <tr>\n",
       "      <th>1</th>\n",
       "      <td>id2377394</td>\n",
       "      <td>1</td>\n",
       "      <td>2016-06-12 00:43:35</td>\n",
       "      <td>2016-06-12 00:54:38</td>\n",
       "      <td>1</td>\n",
       "      <td>-73.980415</td>\n",
       "      <td>40.738564</td>\n",
       "      <td>-73.999481</td>\n",
       "      <td>40.731152</td>\n",
       "      <td>N</td>\n",
       "      <td>663.0</td>\n",
       "    </tr>\n",
       "    <tr>\n",
       "      <th>2</th>\n",
       "      <td>id3858529</td>\n",
       "      <td>2</td>\n",
       "      <td>2016-01-19 11:35:24</td>\n",
       "      <td>2016-01-19 12:10:48</td>\n",
       "      <td>1</td>\n",
       "      <td>-73.979027</td>\n",
       "      <td>40.763939</td>\n",
       "      <td>-74.005333</td>\n",
       "      <td>40.710087</td>\n",
       "      <td>N</td>\n",
       "      <td>2124.0</td>\n",
       "    </tr>\n",
       "  </tbody>\n",
       "</table>\n",
       "</div>"
      ],
      "text/plain": [
       "          id  vendor_id     pickup_datetime    dropoff_datetime  \\\n",
       "0  id2875421          2 2016-03-14 17:24:55 2016-03-14 17:32:30   \n",
       "1  id2377394          1 2016-06-12 00:43:35 2016-06-12 00:54:38   \n",
       "2  id3858529          2 2016-01-19 11:35:24 2016-01-19 12:10:48   \n",
       "\n",
       "   passenger_count  pickup_longitude  pickup_latitude  dropoff_longitude  \\\n",
       "0                1        -73.982155        40.767937         -73.964630   \n",
       "1                1        -73.980415        40.738564         -73.999481   \n",
       "2                1        -73.979027        40.763939         -74.005333   \n",
       "\n",
       "   dropoff_latitude store_and_fwd_flag  trip_duration  \n",
       "0         40.765602                  N          455.0  \n",
       "1         40.731152                  N          663.0  \n",
       "2         40.710087                  N         2124.0  "
      ]
     },
     "execution_count": 6,
     "metadata": {},
     "output_type": "execute_result"
    }
   ],
   "source": [
    "taxiDB.head(3)"
   ]
  },
  {
   "cell_type": "markdown",
   "id": "2fc40351",
   "metadata": {},
   "source": [
    "Предсказывая таргет для новых объектов в будущем, мы не будем заранее знать **dropoff_datetime**.\n",
    "\n",
    "Удалим колонку из датасета."
   ]
  },
  {
   "cell_type": "code",
   "execution_count": 7,
   "id": "1d9c6787",
   "metadata": {
    "ExecuteTime": {
     "end_time": "2023-02-19T19:52:23.199176Z",
     "start_time": "2023-02-19T19:52:23.124614Z"
    }
   },
   "outputs": [
    {
     "data": {
      "text/html": [
       "<div>\n",
       "<style scoped>\n",
       "    .dataframe tbody tr th:only-of-type {\n",
       "        vertical-align: middle;\n",
       "    }\n",
       "\n",
       "    .dataframe tbody tr th {\n",
       "        vertical-align: top;\n",
       "    }\n",
       "\n",
       "    .dataframe thead th {\n",
       "        text-align: right;\n",
       "    }\n",
       "</style>\n",
       "<table border=\"1\" class=\"dataframe\">\n",
       "  <thead>\n",
       "    <tr style=\"text-align: right;\">\n",
       "      <th></th>\n",
       "      <th>id</th>\n",
       "      <th>vendor_id</th>\n",
       "      <th>pickup_datetime</th>\n",
       "      <th>passenger_count</th>\n",
       "      <th>pickup_longitude</th>\n",
       "      <th>pickup_latitude</th>\n",
       "      <th>dropoff_longitude</th>\n",
       "      <th>dropoff_latitude</th>\n",
       "      <th>store_and_fwd_flag</th>\n",
       "      <th>trip_duration</th>\n",
       "    </tr>\n",
       "  </thead>\n",
       "  <tbody>\n",
       "    <tr>\n",
       "      <th>0</th>\n",
       "      <td>id2875421</td>\n",
       "      <td>2</td>\n",
       "      <td>2016-03-14 17:24:55</td>\n",
       "      <td>1</td>\n",
       "      <td>-73.982155</td>\n",
       "      <td>40.767937</td>\n",
       "      <td>-73.964630</td>\n",
       "      <td>40.765602</td>\n",
       "      <td>N</td>\n",
       "      <td>455.0</td>\n",
       "    </tr>\n",
       "    <tr>\n",
       "      <th>1</th>\n",
       "      <td>id2377394</td>\n",
       "      <td>1</td>\n",
       "      <td>2016-06-12 00:43:35</td>\n",
       "      <td>1</td>\n",
       "      <td>-73.980415</td>\n",
       "      <td>40.738564</td>\n",
       "      <td>-73.999481</td>\n",
       "      <td>40.731152</td>\n",
       "      <td>N</td>\n",
       "      <td>663.0</td>\n",
       "    </tr>\n",
       "    <tr>\n",
       "      <th>2</th>\n",
       "      <td>id3858529</td>\n",
       "      <td>2</td>\n",
       "      <td>2016-01-19 11:35:24</td>\n",
       "      <td>1</td>\n",
       "      <td>-73.979027</td>\n",
       "      <td>40.763939</td>\n",
       "      <td>-74.005333</td>\n",
       "      <td>40.710087</td>\n",
       "      <td>N</td>\n",
       "      <td>2124.0</td>\n",
       "    </tr>\n",
       "  </tbody>\n",
       "</table>\n",
       "</div>"
      ],
      "text/plain": [
       "          id  vendor_id     pickup_datetime  passenger_count  \\\n",
       "0  id2875421          2 2016-03-14 17:24:55                1   \n",
       "1  id2377394          1 2016-06-12 00:43:35                1   \n",
       "2  id3858529          2 2016-01-19 11:35:24                1   \n",
       "\n",
       "   pickup_longitude  pickup_latitude  dropoff_longitude  dropoff_latitude  \\\n",
       "0        -73.982155        40.767937         -73.964630         40.765602   \n",
       "1        -73.980415        40.738564         -73.999481         40.731152   \n",
       "2        -73.979027        40.763939         -74.005333         40.710087   \n",
       "\n",
       "  store_and_fwd_flag  trip_duration  \n",
       "0                  N          455.0  \n",
       "1                  N          663.0  \n",
       "2                  N         2124.0  "
      ]
     },
     "execution_count": 7,
     "metadata": {},
     "output_type": "execute_result"
    }
   ],
   "source": [
    "taxiDB = taxiDB.drop('dropoff_datetime', axis=1)\n",
    "taxiDB.head(3)"
   ]
  },
  {
   "cell_type": "markdown",
   "id": "210cd579",
   "metadata": {},
   "source": [
    "\n",
    "**В будущем будем строить модель. На каких признаках? Рассмотрим имеющиеся вещественные/бинарные и обсудим, какие простейшие признаки можно вытащить из остальных колонок.**\n",
    "\n",
    "Во-первых, имеем бинарный признак vendor_id, принимающий значения {1, 2}. Переведем его во множество {0, 1}, так как это просто привычнее."
   ]
  },
  {
   "cell_type": "code",
   "execution_count": 8,
   "id": "9099bf99",
   "metadata": {
    "ExecuteTime": {
     "end_time": "2023-02-19T19:52:23.219126Z",
     "start_time": "2023-02-19T19:52:23.200324Z"
    }
   },
   "outputs": [
    {
     "data": {
      "text/html": [
       "<div>\n",
       "<style scoped>\n",
       "    .dataframe tbody tr th:only-of-type {\n",
       "        vertical-align: middle;\n",
       "    }\n",
       "\n",
       "    .dataframe tbody tr th {\n",
       "        vertical-align: top;\n",
       "    }\n",
       "\n",
       "    .dataframe thead th {\n",
       "        text-align: right;\n",
       "    }\n",
       "</style>\n",
       "<table border=\"1\" class=\"dataframe\">\n",
       "  <thead>\n",
       "    <tr style=\"text-align: right;\">\n",
       "      <th></th>\n",
       "      <th>id</th>\n",
       "      <th>vendor_id</th>\n",
       "      <th>pickup_datetime</th>\n",
       "      <th>passenger_count</th>\n",
       "      <th>pickup_longitude</th>\n",
       "      <th>pickup_latitude</th>\n",
       "      <th>dropoff_longitude</th>\n",
       "      <th>dropoff_latitude</th>\n",
       "      <th>store_and_fwd_flag</th>\n",
       "      <th>trip_duration</th>\n",
       "    </tr>\n",
       "  </thead>\n",
       "  <tbody>\n",
       "    <tr>\n",
       "      <th>0</th>\n",
       "      <td>id2875421</td>\n",
       "      <td>1</td>\n",
       "      <td>2016-03-14 17:24:55</td>\n",
       "      <td>1</td>\n",
       "      <td>-73.982155</td>\n",
       "      <td>40.767937</td>\n",
       "      <td>-73.964630</td>\n",
       "      <td>40.765602</td>\n",
       "      <td>N</td>\n",
       "      <td>455.0</td>\n",
       "    </tr>\n",
       "    <tr>\n",
       "      <th>1</th>\n",
       "      <td>id2377394</td>\n",
       "      <td>0</td>\n",
       "      <td>2016-06-12 00:43:35</td>\n",
       "      <td>1</td>\n",
       "      <td>-73.980415</td>\n",
       "      <td>40.738564</td>\n",
       "      <td>-73.999481</td>\n",
       "      <td>40.731152</td>\n",
       "      <td>N</td>\n",
       "      <td>663.0</td>\n",
       "    </tr>\n",
       "    <tr>\n",
       "      <th>2</th>\n",
       "      <td>id3858529</td>\n",
       "      <td>1</td>\n",
       "      <td>2016-01-19 11:35:24</td>\n",
       "      <td>1</td>\n",
       "      <td>-73.979027</td>\n",
       "      <td>40.763939</td>\n",
       "      <td>-74.005333</td>\n",
       "      <td>40.710087</td>\n",
       "      <td>N</td>\n",
       "      <td>2124.0</td>\n",
       "    </tr>\n",
       "  </tbody>\n",
       "</table>\n",
       "</div>"
      ],
      "text/plain": [
       "          id  vendor_id     pickup_datetime  passenger_count  \\\n",
       "0  id2875421          1 2016-03-14 17:24:55                1   \n",
       "1  id2377394          0 2016-06-12 00:43:35                1   \n",
       "2  id3858529          1 2016-01-19 11:35:24                1   \n",
       "\n",
       "   pickup_longitude  pickup_latitude  dropoff_longitude  dropoff_latitude  \\\n",
       "0        -73.982155        40.767937         -73.964630         40.765602   \n",
       "1        -73.980415        40.738564         -73.999481         40.731152   \n",
       "2        -73.979027        40.763939         -74.005333         40.710087   \n",
       "\n",
       "  store_and_fwd_flag  trip_duration  \n",
       "0                  N          455.0  \n",
       "1                  N          663.0  \n",
       "2                  N         2124.0  "
      ]
     },
     "execution_count": 8,
     "metadata": {},
     "output_type": "execute_result"
    }
   ],
   "source": [
    "taxiDB['vendor_id'] = taxiDB['vendor_id'] - 1\n",
    "taxiDB.head(3)"
   ]
  },
  {
   "cell_type": "markdown",
   "id": "224deede",
   "metadata": {},
   "source": [
    "Найдите еще один бинарный признак в данном датасете. Закодируйте и его тоже во множество {0, 1}."
   ]
  },
  {
   "cell_type": "code",
   "execution_count": 9,
   "id": "90869db3",
   "metadata": {
    "ExecuteTime": {
     "end_time": "2023-02-19T19:52:23.285413Z",
     "start_time": "2023-02-19T19:52:23.220677Z"
    }
   },
   "outputs": [],
   "source": [
    "\n",
    "taxiDB.loc[(taxiDB['store_and_fwd_flag'] == 'N'), 'store_and_fwd_flag'] = 0\n"
   ]
  },
  {
   "cell_type": "code",
   "execution_count": 10,
   "id": "bca59e0b",
   "metadata": {
    "ExecuteTime": {
     "end_time": "2023-02-19T19:52:23.343711Z",
     "start_time": "2023-02-19T19:52:23.287458Z"
    }
   },
   "outputs": [],
   "source": [
    "taxiDB.loc[(taxiDB['store_and_fwd_flag'] == 'Y'), 'store_and_fwd_flag'] = 1"
   ]
  },
  {
   "cell_type": "markdown",
   "id": "61919281",
   "metadata": {},
   "source": [
    "### задание 5(step 6)\n",
    "Сохраните первые 10 строк получившегося на этом этапе датафрейма в csv файл с разделителем ';'. Прикрепите в качестве ответа к заданию 6."
   ]
  },
  {
   "cell_type": "code",
   "execution_count": 11,
   "id": "f0643e2e",
   "metadata": {
    "ExecuteTime": {
     "end_time": "2023-02-19T19:52:23.464835Z",
     "start_time": "2023-02-19T19:52:23.344781Z"
    }
   },
   "outputs": [
    {
     "name": "stdout",
     "output_type": "stream",
     "text": [
      ";id;vendor_id;pickup_datetime;passenger_count;pickup_longitude;pickup_latitude;dropoff_longitude;dropoff_latitude;store_and_fwd_flag;trip_duration\r\n",
      "0;id2875421;1;2016-03-14 17:24:55;1;-73.98215484619139;40.76793670654297;-73.96463012695312;40.765602111816406;0;455.0\r\n",
      "1;id2377394;0;2016-06-12 00:43:35;1;-73.98041534423827;40.738563537597656;-73.99948120117188;40.73115158081056;0;663.0\r\n",
      "2;id3858529;1;2016-01-19 11:35:24;1;-73.97902679443358;40.763938903808594;-74.00533294677734;40.710086822509766;0;2124.0\r\n",
      "3;id3504673;1;2016-04-06 19:32:31;1;-74.01004028320312;40.719970703125;-74.01226806640625;40.70671844482422;0;429.0\r\n",
      "4;id2181028;1;2016-03-26 13:30:55;1;-73.97305297851561;40.79320907592773;-73.9729232788086;40.782520294189446;0;435.0\r\n",
      "5;id0801584;1;2016-01-30 22:01:40;6;-73.98285675048828;40.74219512939453;-73.99208068847656;40.74918365478516;0;443.0\r\n",
      "6;id1813257;0;2016-06-17 22:34:59;4;-73.9690170288086;40.75783920288086;-73.95740509033203;40.76589584350586;0;341.0\r\n",
      "7;id1324603;1;2016-05-21 07:54:58;1;-73.96927642822266;40.79777908325195;-73.92247009277344;40.76055908203125;0;1551.0\r\n",
      "8;id1301050;0;2016-05-27 23:12:23;1;-73.99948120117188;40.738399505615234;-73.98578643798828;40.73281478881836;0;255.0\r\n",
      "9;id0012891;1;2016-03-10 21:45:01;1;-73.98104858398438;40.744338989257805;-73.9729995727539;40.78998947143555;0;1225.0\r\n"
     ]
    }
   ],
   "source": [
    "taxiDB.head(10).to_csv('ML_1_5.csv', sep=';')\n",
    "!cat ML_1_5.csv"
   ]
  },
  {
   "cell_type": "markdown",
   "id": "a3ca3d7e",
   "metadata": {},
   "source": [
    "Во-вторых, можем использовать долготу и широту точек старта/завершения поездки, чтобы примерно оценить расстояние между 2 точками.\n",
    "\n",
    "Сами по себе они, как самостоятельные вещественные признаки, вряд ли способны хорошо объяснять длительность поездки.\n",
    "\n",
    "Базовая идея состоит в том, чтобы посчитать разность долгот и широт соответственно, то есть:\n",
    "\n",
    "$$\n",
    "\\delta_{long} = \\text{dropoff_longitude} - \\text{pickup_longitude}\n",
    "$$\n",
    "\n",
    "$$\n",
    "\\delta_{lat} =  \\text{dropoff_latitude} - \\text{pickup_latitude}\n",
    "$$\n",
    "\n",
    "А потом вычислить географическое расстояние между 2 точками по теореме Пифагора:\n",
    "\n",
    "$$\n",
    "R = \\sqrt{\\delta^2_{long} + \\delta^2_{lat}}\n",
    "$$\n",
    "\n",
    "Мы реализуем данную задумку и вычислим такую вещественную колонку **R**, что, в целом, является хорошим тоном при работе с координатами точек.\n",
    "\n",
    "Только для начала нужно некоторым образом перевести долготу и широту в километры, обеспечив равенство их мер измерения. Потому что, вообще говоря, *градусная мера* широт и долгот имеет неодинаковую шкалу перевода в километры. Так, если пропустить данную деталь, расстояние **R** будет вычислено неверно, ведь катеты тогда будут иметь разную размерность.\n",
    "\n",
    "В целом, перевод из долгот и широт в расстояние поездки позволяет нам в будущем проверить зависимость **длительности поездки от километража**, и объяснить ее будет куда проще, чем аналогичную между таргетом и изначальными признаками\n",
    "\n",
    "<a href=\"https://www.datafix.com.au/BASHing/2018-11-07.html\"> Маленькая статья про перевод разницы градусов долгот/широт в километры</a>"
   ]
  },
  {
   "cell_type": "markdown",
   "id": "65697eba",
   "metadata": {},
   "source": [
    "**Начнем переводить каждую долготу в некоторое относительно километровое выражение**\n",
    "\n",
    "Соберем список из всех широт (как точек старта, так и конца)."
   ]
  },
  {
   "cell_type": "code",
   "execution_count": 12,
   "id": "0aad5067",
   "metadata": {
    "ExecuteTime": {
     "end_time": "2023-02-19T19:52:23.653179Z",
     "start_time": "2023-02-19T19:52:23.466567Z"
    }
   },
   "outputs": [],
   "source": [
    "allLat  = list(taxiDB['pickup_latitude']) + list(taxiDB['dropoff_latitude'])"
   ]
  },
  {
   "cell_type": "code",
   "execution_count": 13,
   "id": "a152eefe",
   "metadata": {
    "ExecuteTime": {
     "end_time": "2023-02-19T19:52:23.661691Z",
     "start_time": "2023-02-19T19:52:23.654326Z"
    }
   },
   "outputs": [
    {
     "data": {
      "text/plain": [
       "[40.76793670654297,\n",
       " 40.738563537597656,\n",
       " 40.763938903808594,\n",
       " 40.719970703125,\n",
       " 40.79320907592773]"
      ]
     },
     "execution_count": 13,
     "metadata": {},
     "output_type": "execute_result"
    }
   ],
   "source": [
    "allLat[:5]"
   ]
  },
  {
   "cell_type": "markdown",
   "id": "e9bebbcd",
   "metadata": {},
   "source": [
    "Посчитаем медиану:\n",
    "\n",
    "Это некоторое \"Центральное значение\" в отсортированном массиве всех значений.\n",
    "\n",
    "Иными словами, такое число, меньше и больше которого примерно равное количество объектов."
   ]
  },
  {
   "cell_type": "code",
   "execution_count": 14,
   "id": "0631a2f0",
   "metadata": {
    "ExecuteTime": {
     "end_time": "2023-02-19T19:52:24.303458Z",
     "start_time": "2023-02-19T19:52:23.663023Z"
    }
   },
   "outputs": [],
   "source": [
    "medianLat  = sorted(allLat)[int(len(allLat)/2)]"
   ]
  },
  {
   "cell_type": "markdown",
   "id": "06381c0f",
   "metadata": {},
   "source": [
    "Теперь, для из каждого значения широты вычтем медианное значение.\n",
    "\n",
    "Результат переведем в километры."
   ]
  },
  {
   "cell_type": "code",
   "execution_count": 15,
   "id": "ea012f68",
   "metadata": {
    "ExecuteTime": {
     "end_time": "2023-02-19T19:52:24.308057Z",
     "start_time": "2023-02-19T19:52:24.304944Z"
    }
   },
   "outputs": [
    {
     "data": {
      "text/plain": [
       "40.75431823730469"
      ]
     },
     "execution_count": 15,
     "metadata": {},
     "output_type": "execute_result"
    }
   ],
   "source": [
    "medianLat"
   ]
  },
  {
   "cell_type": "code",
   "execution_count": 16,
   "id": "e9315adf",
   "metadata": {
    "ExecuteTime": {
     "end_time": "2023-02-19T19:52:24.368468Z",
     "start_time": "2023-02-19T19:52:24.309955Z"
    }
   },
   "outputs": [],
   "source": [
    "latMultiplier  = 111.32\n",
    "\n",
    "taxiDB['pickup_latitude']   = latMultiplier  * (taxiDB['pickup_latitude']   - medianLat)\n",
    "taxiDB['dropoff_latitude']   = latMultiplier  * (taxiDB['dropoff_latitude']  - medianLat)"
   ]
  },
  {
   "cell_type": "code",
   "execution_count": 17,
   "id": "0423e327",
   "metadata": {
    "ExecuteTime": {
     "end_time": "2023-02-19T19:52:24.378207Z",
     "start_time": "2023-02-19T19:52:24.370813Z"
    }
   },
   "outputs": [
    {
     "data": {
      "text/html": [
       "<div>\n",
       "<style scoped>\n",
       "    .dataframe tbody tr th:only-of-type {\n",
       "        vertical-align: middle;\n",
       "    }\n",
       "\n",
       "    .dataframe tbody tr th {\n",
       "        vertical-align: top;\n",
       "    }\n",
       "\n",
       "    .dataframe thead th {\n",
       "        text-align: right;\n",
       "    }\n",
       "</style>\n",
       "<table border=\"1\" class=\"dataframe\">\n",
       "  <thead>\n",
       "    <tr style=\"text-align: right;\">\n",
       "      <th></th>\n",
       "      <th>id</th>\n",
       "      <th>vendor_id</th>\n",
       "      <th>pickup_datetime</th>\n",
       "      <th>passenger_count</th>\n",
       "      <th>pickup_longitude</th>\n",
       "      <th>pickup_latitude</th>\n",
       "      <th>dropoff_longitude</th>\n",
       "      <th>dropoff_latitude</th>\n",
       "      <th>store_and_fwd_flag</th>\n",
       "      <th>trip_duration</th>\n",
       "    </tr>\n",
       "  </thead>\n",
       "  <tbody>\n",
       "    <tr>\n",
       "      <th>0</th>\n",
       "      <td>id2875421</td>\n",
       "      <td>1</td>\n",
       "      <td>2016-03-14 17:24:55</td>\n",
       "      <td>1</td>\n",
       "      <td>-73.982155</td>\n",
       "      <td>1.516008</td>\n",
       "      <td>-73.964630</td>\n",
       "      <td>1.256121</td>\n",
       "      <td>0</td>\n",
       "      <td>455.0</td>\n",
       "    </tr>\n",
       "    <tr>\n",
       "      <th>1</th>\n",
       "      <td>id2377394</td>\n",
       "      <td>0</td>\n",
       "      <td>2016-06-12 00:43:35</td>\n",
       "      <td>1</td>\n",
       "      <td>-73.980415</td>\n",
       "      <td>-1.753813</td>\n",
       "      <td>-73.999481</td>\n",
       "      <td>-2.578912</td>\n",
       "      <td>0</td>\n",
       "      <td>663.0</td>\n",
       "    </tr>\n",
       "    <tr>\n",
       "      <th>2</th>\n",
       "      <td>id3858529</td>\n",
       "      <td>1</td>\n",
       "      <td>2016-01-19 11:35:24</td>\n",
       "      <td>1</td>\n",
       "      <td>-73.979027</td>\n",
       "      <td>1.070973</td>\n",
       "      <td>-74.005333</td>\n",
       "      <td>-4.923841</td>\n",
       "      <td>0</td>\n",
       "      <td>2124.0</td>\n",
       "    </tr>\n",
       "    <tr>\n",
       "      <th>3</th>\n",
       "      <td>id3504673</td>\n",
       "      <td>1</td>\n",
       "      <td>2016-04-06 19:32:31</td>\n",
       "      <td>1</td>\n",
       "      <td>-74.010040</td>\n",
       "      <td>-3.823568</td>\n",
       "      <td>-74.012268</td>\n",
       "      <td>-5.298809</td>\n",
       "      <td>0</td>\n",
       "      <td>429.0</td>\n",
       "    </tr>\n",
       "    <tr>\n",
       "      <th>4</th>\n",
       "      <td>id2181028</td>\n",
       "      <td>1</td>\n",
       "      <td>2016-03-26 13:30:55</td>\n",
       "      <td>1</td>\n",
       "      <td>-73.973053</td>\n",
       "      <td>4.329328</td>\n",
       "      <td>-73.972923</td>\n",
       "      <td>3.139453</td>\n",
       "      <td>0</td>\n",
       "      <td>435.0</td>\n",
       "    </tr>\n",
       "  </tbody>\n",
       "</table>\n",
       "</div>"
      ],
      "text/plain": [
       "          id  vendor_id     pickup_datetime  passenger_count  \\\n",
       "0  id2875421          1 2016-03-14 17:24:55                1   \n",
       "1  id2377394          0 2016-06-12 00:43:35                1   \n",
       "2  id3858529          1 2016-01-19 11:35:24                1   \n",
       "3  id3504673          1 2016-04-06 19:32:31                1   \n",
       "4  id2181028          1 2016-03-26 13:30:55                1   \n",
       "\n",
       "   pickup_longitude  pickup_latitude  dropoff_longitude  dropoff_latitude  \\\n",
       "0        -73.982155         1.516008         -73.964630          1.256121   \n",
       "1        -73.980415        -1.753813         -73.999481         -2.578912   \n",
       "2        -73.979027         1.070973         -74.005333         -4.923841   \n",
       "3        -74.010040        -3.823568         -74.012268         -5.298809   \n",
       "4        -73.973053         4.329328         -73.972923          3.139453   \n",
       "\n",
       "  store_and_fwd_flag  trip_duration  \n",
       "0                  0          455.0  \n",
       "1                  0          663.0  \n",
       "2                  0         2124.0  \n",
       "3                  0          429.0  \n",
       "4                  0          435.0  "
      ]
     },
     "execution_count": 17,
     "metadata": {},
     "output_type": "execute_result"
    }
   ],
   "source": [
    "taxiDB.head()"
   ]
  },
  {
   "cell_type": "markdown",
   "id": "30478519",
   "metadata": {},
   "source": [
    "Итого, для **latitude** колонок получили следующие выражения:\n",
    "\n",
    "*На сколько примерно километров севернее или южнее (в зависимости от знака) точка находится относительно средней широты*"
   ]
  },
  {
   "cell_type": "code",
   "execution_count": 18,
   "id": "6df0d7b9",
   "metadata": {
    "ExecuteTime": {
     "end_time": "2023-02-19T19:52:25.139822Z",
     "start_time": "2023-02-19T19:52:24.379587Z"
    }
   },
   "outputs": [],
   "source": [
    "allLong = list(taxiDB['pickup_longitude']) + list(taxiDB['dropoff_longitude'])\n",
    "\n",
    "medianLong  = sorted(allLong)[int(len(allLong)/2)] # -73.98085021972656\n",
    "\n",
    "longMultiplier = np.cos(medianLat*(np.pi/180.0)) * 111.32 # 84.3266572294738"
   ]
  },
  {
   "cell_type": "markdown",
   "id": "807592ea",
   "metadata": {},
   "source": [
    "Используя полученную медиану и множитель, на который стоит корректировать все долготы, получите корректные **longitude** признаки по аналогии."
   ]
  },
  {
   "cell_type": "code",
   "execution_count": 19,
   "id": "5a657adb",
   "metadata": {
    "ExecuteTime": {
     "end_time": "2023-02-19T19:52:25.194303Z",
     "start_time": "2023-02-19T19:52:25.141133Z"
    }
   },
   "outputs": [
    {
     "data": {
      "text/html": [
       "<div>\n",
       "<style scoped>\n",
       "    .dataframe tbody tr th:only-of-type {\n",
       "        vertical-align: middle;\n",
       "    }\n",
       "\n",
       "    .dataframe tbody tr th {\n",
       "        vertical-align: top;\n",
       "    }\n",
       "\n",
       "    .dataframe thead th {\n",
       "        text-align: right;\n",
       "    }\n",
       "</style>\n",
       "<table border=\"1\" class=\"dataframe\">\n",
       "  <thead>\n",
       "    <tr style=\"text-align: right;\">\n",
       "      <th></th>\n",
       "      <th>id</th>\n",
       "      <th>vendor_id</th>\n",
       "      <th>pickup_datetime</th>\n",
       "      <th>passenger_count</th>\n",
       "      <th>pickup_longitude</th>\n",
       "      <th>pickup_latitude</th>\n",
       "      <th>dropoff_longitude</th>\n",
       "      <th>dropoff_latitude</th>\n",
       "      <th>store_and_fwd_flag</th>\n",
       "      <th>trip_duration</th>\n",
       "    </tr>\n",
       "  </thead>\n",
       "  <tbody>\n",
       "    <tr>\n",
       "      <th>0</th>\n",
       "      <td>id2875421</td>\n",
       "      <td>1</td>\n",
       "      <td>2016-03-14 17:24:55</td>\n",
       "      <td>1</td>\n",
       "      <td>-0.110015</td>\n",
       "      <td>1.516008</td>\n",
       "      <td>1.367786</td>\n",
       "      <td>1.256121</td>\n",
       "      <td>0</td>\n",
       "      <td>455.0</td>\n",
       "    </tr>\n",
       "    <tr>\n",
       "      <th>1</th>\n",
       "      <td>id2377394</td>\n",
       "      <td>0</td>\n",
       "      <td>2016-06-12 00:43:35</td>\n",
       "      <td>1</td>\n",
       "      <td>0.036672</td>\n",
       "      <td>-1.753813</td>\n",
       "      <td>-1.571088</td>\n",
       "      <td>-2.578912</td>\n",
       "      <td>0</td>\n",
       "      <td>663.0</td>\n",
       "    </tr>\n",
       "    <tr>\n",
       "      <th>2</th>\n",
       "      <td>id3858529</td>\n",
       "      <td>1</td>\n",
       "      <td>2016-01-19 11:35:24</td>\n",
       "      <td>1</td>\n",
       "      <td>0.153763</td>\n",
       "      <td>1.070973</td>\n",
       "      <td>-2.064547</td>\n",
       "      <td>-4.923841</td>\n",
       "      <td>0</td>\n",
       "      <td>2124.0</td>\n",
       "    </tr>\n",
       "  </tbody>\n",
       "</table>\n",
       "</div>"
      ],
      "text/plain": [
       "          id  vendor_id     pickup_datetime  passenger_count  \\\n",
       "0  id2875421          1 2016-03-14 17:24:55                1   \n",
       "1  id2377394          0 2016-06-12 00:43:35                1   \n",
       "2  id3858529          1 2016-01-19 11:35:24                1   \n",
       "\n",
       "   pickup_longitude  pickup_latitude  dropoff_longitude  dropoff_latitude  \\\n",
       "0         -0.110015         1.516008           1.367786          1.256121   \n",
       "1          0.036672        -1.753813          -1.571088         -2.578912   \n",
       "2          0.153763         1.070973          -2.064547         -4.923841   \n",
       "\n",
       "  store_and_fwd_flag  trip_duration  \n",
       "0                  0          455.0  \n",
       "1                  0          663.0  \n",
       "2                  0         2124.0  "
      ]
     },
     "execution_count": 19,
     "metadata": {},
     "output_type": "execute_result"
    }
   ],
   "source": [
    "taxiDB['pickup_longitude'] = longMultiplier * (taxiDB['pickup_longitude'] - medianLong)\n",
    "taxiDB['dropoff_longitude'] = longMultiplier * (taxiDB['dropoff_longitude'] - medianLong)\n",
    "taxiDB.head(3)"
   ]
  },
  {
   "cell_type": "markdown",
   "id": "9f29971b",
   "metadata": {},
   "source": [
    "Почему мы вычисляли через медианы: они позволяют нам во время вычисления расстояния преобразовать изначальные longtitude/latitude колонки в \"отдаленности точек старта/конца поездок\" от медианных точек. Кажется, что это прикольно :) Есть подозрение, что медианная для поездок точка города - это, на практике, точка скопления вечерних пробок. Нам может быть вполне важно знать, насколько далеко от такого эпицентра ужаса мы начинаем и заканчиваем поездку (насколько севернее/южнее/...) и выделить поверх этой информации дополнительные признаки.<br>\n",
    "В домашнем задании это использоваться не будет, но это ещё один пример, как можно работать с признаками."
   ]
  },
  {
   "cell_type": "markdown",
   "id": "70618216",
   "metadata": {},
   "source": [
    "Наконец, вычислим географическое расстояние **distance_km**:"
   ]
  },
  {
   "cell_type": "code",
   "execution_count": 20,
   "id": "ee505fb2",
   "metadata": {
    "ExecuteTime": {
     "end_time": "2023-02-19T19:52:25.220843Z",
     "start_time": "2023-02-19T19:52:25.195424Z"
    }
   },
   "outputs": [],
   "source": [
    "# h = √((y2-y1)2 + (x2-x1)2)\n",
    "distance_km = ( ((taxiDB['dropoff_longitude'] - taxiDB['pickup_longitude']) ** 2)\\\n",
    "                + ((taxiDB['dropoff_latitude'] - taxiDB['pickup_latitude']) ** 2) ) ** 0.5"
   ]
  },
  {
   "cell_type": "code",
   "execution_count": 21,
   "id": "db50a2c5",
   "metadata": {
    "ExecuteTime": {
     "end_time": "2023-02-19T19:52:25.264012Z",
     "start_time": "2023-02-19T19:52:25.222208Z"
    }
   },
   "outputs": [],
   "source": [
    "taxiDB['distance_km'] = ( ((taxiDB['dropoff_longitude'] - taxiDB['pickup_longitude']) ** 2)\\\n",
    "                + ((taxiDB['dropoff_latitude'] - taxiDB['pickup_latitude']) ** 2) ) ** 0.5"
   ]
  },
  {
   "cell_type": "code",
   "execution_count": 22,
   "id": "b2da40f2",
   "metadata": {
    "ExecuteTime": {
     "end_time": "2023-02-19T19:52:25.276763Z",
     "start_time": "2023-02-19T19:52:25.267934Z"
    }
   },
   "outputs": [
    {
     "data": {
      "text/html": [
       "<div>\n",
       "<style scoped>\n",
       "    .dataframe tbody tr th:only-of-type {\n",
       "        vertical-align: middle;\n",
       "    }\n",
       "\n",
       "    .dataframe tbody tr th {\n",
       "        vertical-align: top;\n",
       "    }\n",
       "\n",
       "    .dataframe thead th {\n",
       "        text-align: right;\n",
       "    }\n",
       "</style>\n",
       "<table border=\"1\" class=\"dataframe\">\n",
       "  <thead>\n",
       "    <tr style=\"text-align: right;\">\n",
       "      <th></th>\n",
       "      <th>id</th>\n",
       "      <th>vendor_id</th>\n",
       "      <th>pickup_datetime</th>\n",
       "      <th>passenger_count</th>\n",
       "      <th>pickup_longitude</th>\n",
       "      <th>pickup_latitude</th>\n",
       "      <th>dropoff_longitude</th>\n",
       "      <th>dropoff_latitude</th>\n",
       "      <th>store_and_fwd_flag</th>\n",
       "      <th>trip_duration</th>\n",
       "      <th>distance_km</th>\n",
       "    </tr>\n",
       "  </thead>\n",
       "  <tbody>\n",
       "    <tr>\n",
       "      <th>0</th>\n",
       "      <td>id2875421</td>\n",
       "      <td>1</td>\n",
       "      <td>2016-03-14 17:24:55</td>\n",
       "      <td>1</td>\n",
       "      <td>-0.110015</td>\n",
       "      <td>1.516008</td>\n",
       "      <td>1.367786</td>\n",
       "      <td>1.256121</td>\n",
       "      <td>0</td>\n",
       "      <td>455.0</td>\n",
       "      <td>1.500479</td>\n",
       "    </tr>\n",
       "    <tr>\n",
       "      <th>1</th>\n",
       "      <td>id2377394</td>\n",
       "      <td>0</td>\n",
       "      <td>2016-06-12 00:43:35</td>\n",
       "      <td>1</td>\n",
       "      <td>0.036672</td>\n",
       "      <td>-1.753813</td>\n",
       "      <td>-1.571088</td>\n",
       "      <td>-2.578912</td>\n",
       "      <td>0</td>\n",
       "      <td>663.0</td>\n",
       "      <td>1.807119</td>\n",
       "    </tr>\n",
       "    <tr>\n",
       "      <th>2</th>\n",
       "      <td>id3858529</td>\n",
       "      <td>1</td>\n",
       "      <td>2016-01-19 11:35:24</td>\n",
       "      <td>1</td>\n",
       "      <td>0.153763</td>\n",
       "      <td>1.070973</td>\n",
       "      <td>-2.064547</td>\n",
       "      <td>-4.923841</td>\n",
       "      <td>0</td>\n",
       "      <td>2124.0</td>\n",
       "      <td>6.392080</td>\n",
       "    </tr>\n",
       "  </tbody>\n",
       "</table>\n",
       "</div>"
      ],
      "text/plain": [
       "          id  vendor_id     pickup_datetime  passenger_count  \\\n",
       "0  id2875421          1 2016-03-14 17:24:55                1   \n",
       "1  id2377394          0 2016-06-12 00:43:35                1   \n",
       "2  id3858529          1 2016-01-19 11:35:24                1   \n",
       "\n",
       "   pickup_longitude  pickup_latitude  dropoff_longitude  dropoff_latitude  \\\n",
       "0         -0.110015         1.516008           1.367786          1.256121   \n",
       "1          0.036672        -1.753813          -1.571088         -2.578912   \n",
       "2          0.153763         1.070973          -2.064547         -4.923841   \n",
       "\n",
       "  store_and_fwd_flag  trip_duration  distance_km  \n",
       "0                  0          455.0     1.500479  \n",
       "1                  0          663.0     1.807119  \n",
       "2                  0         2124.0     6.392080  "
      ]
     },
     "execution_count": 22,
     "metadata": {},
     "output_type": "execute_result"
    }
   ],
   "source": [
    "taxiDB.head(3)"
   ]
  },
  {
   "cell_type": "markdown",
   "id": "577aa0f8",
   "metadata": {},
   "source": [
    "Уберем старые признаки!"
   ]
  },
  {
   "cell_type": "code",
   "execution_count": 23,
   "id": "7016eccc",
   "metadata": {
    "ExecuteTime": {
     "end_time": "2023-02-19T19:52:25.343184Z",
     "start_time": "2023-02-19T19:52:25.277892Z"
    }
   },
   "outputs": [],
   "source": [
    "taxiDB = taxiDB.drop(['pickup_longitude', 'dropoff_longitude',\n",
    "                      'pickup_latitude', 'dropoff_latitude'], axis=1)"
   ]
  },
  {
   "cell_type": "code",
   "execution_count": 24,
   "id": "24dc1ad0",
   "metadata": {
    "ExecuteTime": {
     "end_time": "2023-02-19T19:52:25.351998Z",
     "start_time": "2023-02-19T19:52:25.344364Z"
    }
   },
   "outputs": [
    {
     "data": {
      "text/html": [
       "<div>\n",
       "<style scoped>\n",
       "    .dataframe tbody tr th:only-of-type {\n",
       "        vertical-align: middle;\n",
       "    }\n",
       "\n",
       "    .dataframe tbody tr th {\n",
       "        vertical-align: top;\n",
       "    }\n",
       "\n",
       "    .dataframe thead th {\n",
       "        text-align: right;\n",
       "    }\n",
       "</style>\n",
       "<table border=\"1\" class=\"dataframe\">\n",
       "  <thead>\n",
       "    <tr style=\"text-align: right;\">\n",
       "      <th></th>\n",
       "      <th>id</th>\n",
       "      <th>vendor_id</th>\n",
       "      <th>pickup_datetime</th>\n",
       "      <th>passenger_count</th>\n",
       "      <th>store_and_fwd_flag</th>\n",
       "      <th>trip_duration</th>\n",
       "      <th>distance_km</th>\n",
       "    </tr>\n",
       "  </thead>\n",
       "  <tbody>\n",
       "    <tr>\n",
       "      <th>0</th>\n",
       "      <td>id2875421</td>\n",
       "      <td>1</td>\n",
       "      <td>2016-03-14 17:24:55</td>\n",
       "      <td>1</td>\n",
       "      <td>0</td>\n",
       "      <td>455.0</td>\n",
       "      <td>1.500479</td>\n",
       "    </tr>\n",
       "    <tr>\n",
       "      <th>1</th>\n",
       "      <td>id2377394</td>\n",
       "      <td>0</td>\n",
       "      <td>2016-06-12 00:43:35</td>\n",
       "      <td>1</td>\n",
       "      <td>0</td>\n",
       "      <td>663.0</td>\n",
       "      <td>1.807119</td>\n",
       "    </tr>\n",
       "    <tr>\n",
       "      <th>2</th>\n",
       "      <td>id3858529</td>\n",
       "      <td>1</td>\n",
       "      <td>2016-01-19 11:35:24</td>\n",
       "      <td>1</td>\n",
       "      <td>0</td>\n",
       "      <td>2124.0</td>\n",
       "      <td>6.392080</td>\n",
       "    </tr>\n",
       "    <tr>\n",
       "      <th>3</th>\n",
       "      <td>id3504673</td>\n",
       "      <td>1</td>\n",
       "      <td>2016-04-06 19:32:31</td>\n",
       "      <td>1</td>\n",
       "      <td>0</td>\n",
       "      <td>429.0</td>\n",
       "      <td>1.487155</td>\n",
       "    </tr>\n",
       "    <tr>\n",
       "      <th>4</th>\n",
       "      <td>id2181028</td>\n",
       "      <td>1</td>\n",
       "      <td>2016-03-26 13:30:55</td>\n",
       "      <td>1</td>\n",
       "      <td>0</td>\n",
       "      <td>435.0</td>\n",
       "      <td>1.189925</td>\n",
       "    </tr>\n",
       "  </tbody>\n",
       "</table>\n",
       "</div>"
      ],
      "text/plain": [
       "          id  vendor_id     pickup_datetime  passenger_count  \\\n",
       "0  id2875421          1 2016-03-14 17:24:55                1   \n",
       "1  id2377394          0 2016-06-12 00:43:35                1   \n",
       "2  id3858529          1 2016-01-19 11:35:24                1   \n",
       "3  id3504673          1 2016-04-06 19:32:31                1   \n",
       "4  id2181028          1 2016-03-26 13:30:55                1   \n",
       "\n",
       "  store_and_fwd_flag  trip_duration  distance_km  \n",
       "0                  0          455.0     1.500479  \n",
       "1                  0          663.0     1.807119  \n",
       "2                  0         2124.0     6.392080  \n",
       "3                  0          429.0     1.487155  \n",
       "4                  0          435.0     1.189925  "
      ]
     },
     "execution_count": 24,
     "metadata": {},
     "output_type": "execute_result"
    }
   ],
   "source": [
    "taxiDB.head()"
   ]
  },
  {
   "cell_type": "markdown",
   "id": "be06789a",
   "metadata": {},
   "source": [
    "### задание 6(step 7)"
   ]
  },
  {
   "cell_type": "code",
   "execution_count": 25,
   "id": "2c747973",
   "metadata": {
    "ExecuteTime": {
     "end_time": "2023-02-19T19:52:25.490784Z",
     "start_time": "2023-02-19T19:52:25.353644Z"
    }
   },
   "outputs": [
    {
     "name": "stdout",
     "output_type": "stream",
     "text": [
      ";id;vendor_id;pickup_datetime;passenger_count;store_and_fwd_flag;trip_duration;distance_km\r\n",
      "0;id2875421;1;2016-03-14 17:24:55;1;0;455.0;1.5004789467430026\r\n",
      "1;id2377394;0;2016-06-12 00:43:35;1;0;663.0;1.8071194121139642\r\n",
      "2;id3858529;1;2016-01-19 11:35:24;1;0;2124.0;6.392080252604317\r\n",
      "3;id3504673;1;2016-04-06 19:32:31;1;0;429.0;1.487154705417205\r\n",
      "4;id2181028;1;2016-03-26 13:30:55;1;0;435.0;1.1899254482788029\r\n",
      "5;id0801584;1;2016-01-30 22:01:40;6;0;443.0;1.1001071911011968\r\n",
      "6;id1813257;0;2016-06-17 22:34:59;4;0;341.0;1.3278523894831544\r\n",
      "7;id1324603;1;2016-05-21 07:54:58;1;0;1551.0;5.722426850861646\r\n",
      "8;id1301050;0;2016-05-27 23:12:23;1;0;255.0;1.311541055213959\r\n",
      "9;id0012891;1;2016-03-10 21:45:01;1;0;1225.0;5.126939275009514\r\n"
     ]
    }
   ],
   "source": [
    "taxiDB.head(10).to_csv('ML_1_6.csv', sep=';')\n",
    "!cat ML_1_6.csv"
   ]
  },
  {
   "cell_type": "markdown",
   "id": "df3f6ddd",
   "metadata": {},
   "source": [
    "В-третьих, обратим внимание на колонку **passenger_count**.\n",
    "\n",
    "Какие значения она может принимать?"
   ]
  },
  {
   "cell_type": "code",
   "execution_count": 26,
   "id": "7a962564",
   "metadata": {
    "ExecuteTime": {
     "end_time": "2023-02-19T19:52:25.512386Z",
     "start_time": "2023-02-19T19:52:25.492092Z"
    }
   },
   "outputs": [
    {
     "data": {
      "text/plain": [
       "1    1033540\n",
       "2     210318\n",
       "5      78088\n",
       "3      59896\n",
       "6      48333\n",
       "4      28404\n",
       "0         60\n",
       "7          3\n",
       "9          1\n",
       "8          1\n",
       "Name: passenger_count, dtype: int64"
      ]
     },
     "execution_count": 26,
     "metadata": {},
     "output_type": "execute_result"
    }
   ],
   "source": [
    "taxiDB.passenger_count.value_counts()"
   ]
  },
  {
   "cell_type": "markdown",
   "id": "f043abbc",
   "metadata": {},
   "source": [
    "Какой это признак, на ваш взгляд: вещественный, категориальный, порядковый? \n",
    "\n",
    "С одной стороны, можно воспринимать его как обычный вещественный признак. Ведь само по себе количество пассажиров (без дополнительной обработки) - это некоторое число, которое может принимать большое количество различных значений.\n",
    "\n",
    "С другой стороны, мы с Вами наверняка знаем, что количество пассажиров от поездки к поездке ограничено. Вряд ли если к нам придут новые данные, мы увидим числа бОльшие, чем у нас в датасете. Тогда рассуждаем следующим образом: раз множество значений признака ограничено, то он категориальный (или, в данном случае, даже порядковый! Ведь у нас могут быть какие-то логичные предположения о том, что количество пассажиров может влиять на модель машины и, соответственно, скорость ее передвижения и скорость поездки!)\n",
    "\n",
    "Какой подход выбрать лучше заранее наверняка не узнаешь. Нужны эксперименты с данными и моделями. Тем не менее, я предлагаю Вам предположить, что данный признак является категориальным, и попробовать отточить навыки кодировки таких фичей!\n",
    "\n",
    "Предлагаю Вам реализовать прием с **Mean-target encoding'ом**, как в практическом занятии. Замените колонку **passenger_count** колонкой **category_encoded**."
   ]
  },
  {
   "cell_type": "code",
   "execution_count": 27,
   "id": "c8ef7892",
   "metadata": {
    "ExecuteTime": {
     "end_time": "2023-02-19T19:52:25.583284Z",
     "start_time": "2023-02-19T19:52:25.515297Z"
    }
   },
   "outputs": [
    {
     "data": {
      "text/plain": [
       "1    1033540\n",
       "2     210318\n",
       "5      78088\n",
       "3      59896\n",
       "6      48333\n",
       "4      28404\n",
       "0         60\n",
       "7          3\n",
       "9          1\n",
       "8          1\n",
       "Name: passenger_count, dtype: int64"
      ]
     },
     "execution_count": 27,
     "metadata": {},
     "output_type": "execute_result"
    }
   ],
   "source": [
    "taxiDB['category_encoded'] = taxiDB['passenger_count'].map(taxiDB.groupby('passenger_count')['trip_duration'].mean())\n",
    "taxiDB.passenger_count.value_counts()\n"
   ]
  },
  {
   "cell_type": "code",
   "execution_count": 28,
   "id": "dde282d3",
   "metadata": {
    "ExecuteTime": {
     "end_time": "2023-02-19T19:52:25.673263Z",
     "start_time": "2023-02-19T19:52:25.588694Z"
    }
   },
   "outputs": [
    {
     "data": {
      "text/html": [
       "<div>\n",
       "<style scoped>\n",
       "    .dataframe tbody tr th:only-of-type {\n",
       "        vertical-align: middle;\n",
       "    }\n",
       "\n",
       "    .dataframe tbody tr th {\n",
       "        vertical-align: top;\n",
       "    }\n",
       "\n",
       "    .dataframe thead th {\n",
       "        text-align: right;\n",
       "    }\n",
       "</style>\n",
       "<table border=\"1\" class=\"dataframe\">\n",
       "  <thead>\n",
       "    <tr style=\"text-align: right;\">\n",
       "      <th></th>\n",
       "      <th>id</th>\n",
       "      <th>vendor_id</th>\n",
       "      <th>pickup_datetime</th>\n",
       "      <th>store_and_fwd_flag</th>\n",
       "      <th>trip_duration</th>\n",
       "      <th>distance_km</th>\n",
       "      <th>category_encoded</th>\n",
       "    </tr>\n",
       "  </thead>\n",
       "  <tbody>\n",
       "    <tr>\n",
       "      <th>0</th>\n",
       "      <td>id2875421</td>\n",
       "      <td>1</td>\n",
       "      <td>2016-03-14 17:24:55</td>\n",
       "      <td>0</td>\n",
       "      <td>455.0</td>\n",
       "      <td>1.500479</td>\n",
       "      <td>930.399753</td>\n",
       "    </tr>\n",
       "    <tr>\n",
       "      <th>1</th>\n",
       "      <td>id2377394</td>\n",
       "      <td>0</td>\n",
       "      <td>2016-06-12 00:43:35</td>\n",
       "      <td>0</td>\n",
       "      <td>663.0</td>\n",
       "      <td>1.807119</td>\n",
       "      <td>930.399753</td>\n",
       "    </tr>\n",
       "    <tr>\n",
       "      <th>2</th>\n",
       "      <td>id3858529</td>\n",
       "      <td>1</td>\n",
       "      <td>2016-01-19 11:35:24</td>\n",
       "      <td>0</td>\n",
       "      <td>2124.0</td>\n",
       "      <td>6.392080</td>\n",
       "      <td>930.399753</td>\n",
       "    </tr>\n",
       "  </tbody>\n",
       "</table>\n",
       "</div>"
      ],
      "text/plain": [
       "          id  vendor_id     pickup_datetime store_and_fwd_flag  trip_duration  \\\n",
       "0  id2875421          1 2016-03-14 17:24:55                  0          455.0   \n",
       "1  id2377394          0 2016-06-12 00:43:35                  0          663.0   \n",
       "2  id3858529          1 2016-01-19 11:35:24                  0         2124.0   \n",
       "\n",
       "   distance_km  category_encoded  \n",
       "0     1.500479        930.399753  \n",
       "1     1.807119        930.399753  \n",
       "2     6.392080        930.399753  "
      ]
     },
     "execution_count": 28,
     "metadata": {},
     "output_type": "execute_result"
    }
   ],
   "source": [
    "taxiDB = taxiDB.drop('passenger_count', axis=1)\n",
    "taxiDB.head(3)\n",
    "# taxiDB = taxiDB.rename({'passenger_count': 'category_encoded'}, axis=1)\n",
    "# taxiDB.head(3)"
   ]
  },
  {
   "cell_type": "code",
   "execution_count": 29,
   "id": "7fe67370",
   "metadata": {
    "ExecuteTime": {
     "end_time": "2023-02-19T19:52:25.808976Z",
     "start_time": "2023-02-19T19:52:25.675032Z"
    }
   },
   "outputs": [
    {
     "name": "stdout",
     "output_type": "stream",
     "text": [
      ";id;vendor_id;pickup_datetime;store_and_fwd_flag;trip_duration;distance_km;category_encoded\r\n",
      "0;id2875421;1;2016-03-14 17:24:55;0;455.0;1.5004789467430026;930.3997532751514\r\n",
      "1;id2377394;0;2016-06-12 00:43:35;0;663.0;1.8071194121139642;930.3997532751514\r\n",
      "2;id3858529;1;2016-01-19 11:35:24;0;2124.0;6.392080252604317;930.3997532751514\r\n",
      "3;id3504673;1;2016-04-06 19:32:31;0;429.0;1.487154705417205;930.3997532751514\r\n",
      "4;id2181028;1;2016-03-26 13:30:55;0;435.0;1.1899254482788029;930.3997532751514\r\n",
      "5;id0801584;1;2016-01-30 22:01:40;0;443.0;1.1001071911011968;1061.35522313947\r\n",
      "6;id1813257;0;2016-06-17 22:34:59;0;341.0;1.3278523894831544;1053.5297493310802\r\n",
      "7;id1324603;1;2016-05-21 07:54:58;0;1551.0;5.722426850861646;930.3997532751514\r\n",
      "8;id1301050;0;2016-05-27 23:12:23;0;255.0;1.311541055213959;930.3997532751514\r\n",
      "9;id0012891;1;2016-03-10 21:45:01;0;1225.0;5.126939275009514;930.3997532751514\r\n"
     ]
    }
   ],
   "source": [
    "###  Cохраните первые 10 значений полученного промежуточного датафрейма в файл в формате csv с сепаратором ';' Отправьте полученный файл в форму ответа задания 8.\n",
    "taxiDB.head(10).to_csv('ML_1_7.csv', sep=';')\n",
    "!cat ML_1_7.csv"
   ]
  },
  {
   "cell_type": "markdown",
   "id": "fc2e3a76",
   "metadata": {},
   "source": [
    "Кажется, мы достаточно близки с Вами к тому, чтобы получить в итоге табличку, полностью состояющую из чиселок и, казалось бы, осмысленных признаков!\n",
    "\n",
    "Остались две колонки: **id**, **pickup_datetime**\n",
    "\n",
    "**id** можно использовать как обычный идентификатор нашего объекта, поэтому поместите данную колонку в качестве индекса нашей таблички:"
   ]
  },
  {
   "cell_type": "code",
   "execution_count": 30,
   "id": "71b42a9f",
   "metadata": {
    "ExecuteTime": {
     "end_time": "2023-02-19T19:52:25.965127Z",
     "start_time": "2023-02-19T19:52:25.810771Z"
    }
   },
   "outputs": [],
   "source": [
    "taxiDB = taxiDB.set_index('id')"
   ]
  },
  {
   "cell_type": "code",
   "execution_count": 31,
   "id": "f41a2f14",
   "metadata": {
    "ExecuteTime": {
     "end_time": "2023-02-19T19:52:25.979294Z",
     "start_time": "2023-02-19T19:52:25.968004Z"
    }
   },
   "outputs": [
    {
     "data": {
      "text/html": [
       "<div>\n",
       "<style scoped>\n",
       "    .dataframe tbody tr th:only-of-type {\n",
       "        vertical-align: middle;\n",
       "    }\n",
       "\n",
       "    .dataframe tbody tr th {\n",
       "        vertical-align: top;\n",
       "    }\n",
       "\n",
       "    .dataframe thead th {\n",
       "        text-align: right;\n",
       "    }\n",
       "</style>\n",
       "<table border=\"1\" class=\"dataframe\">\n",
       "  <thead>\n",
       "    <tr style=\"text-align: right;\">\n",
       "      <th></th>\n",
       "      <th>vendor_id</th>\n",
       "      <th>pickup_datetime</th>\n",
       "      <th>store_and_fwd_flag</th>\n",
       "      <th>trip_duration</th>\n",
       "      <th>distance_km</th>\n",
       "      <th>category_encoded</th>\n",
       "    </tr>\n",
       "    <tr>\n",
       "      <th>id</th>\n",
       "      <th></th>\n",
       "      <th></th>\n",
       "      <th></th>\n",
       "      <th></th>\n",
       "      <th></th>\n",
       "      <th></th>\n",
       "    </tr>\n",
       "  </thead>\n",
       "  <tbody>\n",
       "    <tr>\n",
       "      <th>id2875421</th>\n",
       "      <td>1</td>\n",
       "      <td>2016-03-14 17:24:55</td>\n",
       "      <td>0</td>\n",
       "      <td>455.0</td>\n",
       "      <td>1.500479</td>\n",
       "      <td>930.399753</td>\n",
       "    </tr>\n",
       "    <tr>\n",
       "      <th>id2377394</th>\n",
       "      <td>0</td>\n",
       "      <td>2016-06-12 00:43:35</td>\n",
       "      <td>0</td>\n",
       "      <td>663.0</td>\n",
       "      <td>1.807119</td>\n",
       "      <td>930.399753</td>\n",
       "    </tr>\n",
       "    <tr>\n",
       "      <th>id3858529</th>\n",
       "      <td>1</td>\n",
       "      <td>2016-01-19 11:35:24</td>\n",
       "      <td>0</td>\n",
       "      <td>2124.0</td>\n",
       "      <td>6.392080</td>\n",
       "      <td>930.399753</td>\n",
       "    </tr>\n",
       "    <tr>\n",
       "      <th>id3504673</th>\n",
       "      <td>1</td>\n",
       "      <td>2016-04-06 19:32:31</td>\n",
       "      <td>0</td>\n",
       "      <td>429.0</td>\n",
       "      <td>1.487155</td>\n",
       "      <td>930.399753</td>\n",
       "    </tr>\n",
       "    <tr>\n",
       "      <th>id2181028</th>\n",
       "      <td>1</td>\n",
       "      <td>2016-03-26 13:30:55</td>\n",
       "      <td>0</td>\n",
       "      <td>435.0</td>\n",
       "      <td>1.189925</td>\n",
       "      <td>930.399753</td>\n",
       "    </tr>\n",
       "  </tbody>\n",
       "</table>\n",
       "</div>"
      ],
      "text/plain": [
       "           vendor_id     pickup_datetime store_and_fwd_flag  trip_duration  \\\n",
       "id                                                                           \n",
       "id2875421          1 2016-03-14 17:24:55                  0          455.0   \n",
       "id2377394          0 2016-06-12 00:43:35                  0          663.0   \n",
       "id3858529          1 2016-01-19 11:35:24                  0         2124.0   \n",
       "id3504673          1 2016-04-06 19:32:31                  0          429.0   \n",
       "id2181028          1 2016-03-26 13:30:55                  0          435.0   \n",
       "\n",
       "           distance_km  category_encoded  \n",
       "id                                        \n",
       "id2875421     1.500479        930.399753  \n",
       "id2377394     1.807119        930.399753  \n",
       "id3858529     6.392080        930.399753  \n",
       "id3504673     1.487155        930.399753  \n",
       "id2181028     1.189925        930.399753  "
      ]
     },
     "execution_count": 31,
     "metadata": {},
     "output_type": "execute_result"
    }
   ],
   "source": [
    "taxiDB.head()"
   ]
  },
  {
   "cell_type": "code",
   "execution_count": 39,
   "id": "9bea11f1",
   "metadata": {
    "ExecuteTime": {
     "end_time": "2023-02-19T20:05:38.170749Z",
     "start_time": "2023-02-19T20:05:38.119598Z"
    }
   },
   "outputs": [],
   "source": [
    "###Сохраните первые 10 000 значений полученного датафрейма в файл в формате csv с сепаратором ';' Отправьте полученный файл в форму задания 9.\n",
    "\n",
    "taxiDB[:10000].to_csv('ML_1_8.csv', sep=';')"
   ]
  },
  {
   "cell_type": "code",
   "execution_count": null,
   "id": "18dc2585",
   "metadata": {},
   "outputs": [],
   "source": []
  }
 ],
 "metadata": {
  "kernelspec": {
   "display_name": "Python 3 (ipykernel)",
   "language": "python",
   "name": "python3"
  },
  "language_info": {
   "codemirror_mode": {
    "name": "ipython",
    "version": 3
   },
   "file_extension": ".py",
   "mimetype": "text/x-python",
   "name": "python",
   "nbconvert_exporter": "python",
   "pygments_lexer": "ipython3",
   "version": "3.10.6"
  },
  "varInspector": {
   "cols": {
    "lenName": 16,
    "lenType": 16,
    "lenVar": 40
   },
   "kernels_config": {
    "python": {
     "delete_cmd_postfix": "",
     "delete_cmd_prefix": "del ",
     "library": "var_list.py",
     "varRefreshCmd": "print(var_dic_list())"
    },
    "r": {
     "delete_cmd_postfix": ") ",
     "delete_cmd_prefix": "rm(",
     "library": "var_list.r",
     "varRefreshCmd": "cat(var_dic_list()) "
    }
   },
   "types_to_exclude": [
    "module",
    "function",
    "builtin_function_or_method",
    "instance",
    "_Feature"
   ],
   "window_display": false
  }
 },
 "nbformat": 4,
 "nbformat_minor": 5
}
