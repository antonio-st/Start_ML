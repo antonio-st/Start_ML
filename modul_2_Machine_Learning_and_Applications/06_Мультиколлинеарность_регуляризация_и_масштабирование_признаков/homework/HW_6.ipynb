{
 "cells": [
  {
   "cell_type": "markdown",
   "id": "71833815",
   "metadata": {},
   "source": [
    "### Замерим качество Линейной регрессии после обработки данных не просто на отложенной выборке, но и на Кросс-Валидации на 4 фолдах!"
   ]
  },
  {
   "cell_type": "code",
   "execution_count": 2,
   "id": "4355dcb3",
   "metadata": {
    "ExecuteTime": {
     "end_time": "2023-03-12T09:37:49.001639Z",
     "start_time": "2023-03-12T09:37:47.143019Z"
    }
   },
   "outputs": [],
   "source": [
    "import numpy as np\n",
    "import pandas as pd\n",
    "\n",
    "processed_data = pd.read_csv('processed_data.csv', index_col='id')"
   ]
  },
  {
   "cell_type": "code",
   "execution_count": 3,
   "id": "eb298541",
   "metadata": {
    "ExecuteTime": {
     "end_time": "2023-03-12T09:37:49.013412Z",
     "start_time": "2023-03-12T09:37:49.003329Z"
    },
    "scrolled": false
   },
   "outputs": [
    {
     "data": {
      "text/html": [
       "<div>\n",
       "<style scoped>\n",
       "    .dataframe tbody tr th:only-of-type {\n",
       "        vertical-align: middle;\n",
       "    }\n",
       "\n",
       "    .dataframe tbody tr th {\n",
       "        vertical-align: top;\n",
       "    }\n",
       "\n",
       "    .dataframe thead th {\n",
       "        text-align: right;\n",
       "    }\n",
       "</style>\n",
       "<table border=\"1\" class=\"dataframe\">\n",
       "  <thead>\n",
       "    <tr style=\"text-align: right;\">\n",
       "      <th></th>\n",
       "      <th>vendor_id</th>\n",
       "      <th>passenger_count</th>\n",
       "      <th>store_and_fwd_flag</th>\n",
       "      <th>distance_km</th>\n",
       "      <th>log_trip_duration</th>\n",
       "    </tr>\n",
       "    <tr>\n",
       "      <th>id</th>\n",
       "      <th></th>\n",
       "      <th></th>\n",
       "      <th></th>\n",
       "      <th></th>\n",
       "      <th></th>\n",
       "    </tr>\n",
       "  </thead>\n",
       "  <tbody>\n",
       "    <tr>\n",
       "      <th>id2875421</th>\n",
       "      <td>1</td>\n",
       "      <td>930.399753</td>\n",
       "      <td>0</td>\n",
       "      <td>1.500479</td>\n",
       "      <td>6.122493</td>\n",
       "    </tr>\n",
       "    <tr>\n",
       "      <th>id2377394</th>\n",
       "      <td>0</td>\n",
       "      <td>930.399753</td>\n",
       "      <td>0</td>\n",
       "      <td>1.807119</td>\n",
       "      <td>6.498282</td>\n",
       "    </tr>\n",
       "    <tr>\n",
       "      <th>id3858529</th>\n",
       "      <td>1</td>\n",
       "      <td>930.399753</td>\n",
       "      <td>0</td>\n",
       "      <td>6.392080</td>\n",
       "      <td>7.661527</td>\n",
       "    </tr>\n",
       "    <tr>\n",
       "      <th>id3504673</th>\n",
       "      <td>1</td>\n",
       "      <td>930.399753</td>\n",
       "      <td>0</td>\n",
       "      <td>1.487155</td>\n",
       "      <td>6.063785</td>\n",
       "    </tr>\n",
       "    <tr>\n",
       "      <th>id2181028</th>\n",
       "      <td>1</td>\n",
       "      <td>930.399753</td>\n",
       "      <td>0</td>\n",
       "      <td>1.189925</td>\n",
       "      <td>6.077642</td>\n",
       "    </tr>\n",
       "  </tbody>\n",
       "</table>\n",
       "</div>"
      ],
      "text/plain": [
       "           vendor_id  passenger_count  store_and_fwd_flag  distance_km  \\\n",
       "id                                                                       \n",
       "id2875421          1       930.399753                   0     1.500479   \n",
       "id2377394          0       930.399753                   0     1.807119   \n",
       "id3858529          1       930.399753                   0     6.392080   \n",
       "id3504673          1       930.399753                   0     1.487155   \n",
       "id2181028          1       930.399753                   0     1.189925   \n",
       "\n",
       "           log_trip_duration  \n",
       "id                            \n",
       "id2875421           6.122493  \n",
       "id2377394           6.498282  \n",
       "id3858529           7.661527  \n",
       "id3504673           6.063785  \n",
       "id2181028           6.077642  "
      ]
     },
     "execution_count": 3,
     "metadata": {},
     "output_type": "execute_result"
    }
   ],
   "source": [
    "processed_data.head()"
   ]
  },
  {
   "cell_type": "code",
   "execution_count": 4,
   "id": "1aef8e02",
   "metadata": {
    "ExecuteTime": {
     "end_time": "2023-03-12T09:37:49.026475Z",
     "start_time": "2023-03-12T09:37:49.014536Z"
    }
   },
   "outputs": [],
   "source": [
    "# выделим признаки и таргеты\n",
    "X_1 = processed_data.drop('log_trip_duration', axis=1)\n",
    "y_1 = processed_data['log_trip_duration']"
   ]
  },
  {
   "cell_type": "markdown",
   "id": "5debb58c",
   "metadata": {},
   "source": [
    "#### ! Не перемешивайте данные"
   ]
  },
  {
   "cell_type": "code",
   "execution_count": 5,
   "id": "b8678af8",
   "metadata": {
    "ExecuteTime": {
     "end_time": "2023-03-12T09:37:49.030809Z",
     "start_time": "2023-03-12T09:37:49.028737Z"
    }
   },
   "outputs": [],
   "source": [
    "from sklearn.model_selection import KFold\n",
    "\n",
    "selector = KFold(n_splits=4)\n",
    "\n",
    "from sklearn.linear_model import LinearRegression\n",
    "### Задание 4\n",
    "### Замерьте качество (MSLE, как и раньше) на Кросс-валидации, \n",
    "### используя MSE от log_trip_duration и назначенный selector\n",
    "\n",
    "### Your code is here"
   ]
  },
  {
   "cell_type": "code",
   "execution_count": 6,
   "id": "f0f88404",
   "metadata": {
    "ExecuteTime": {
     "end_time": "2023-03-12T09:37:50.186648Z",
     "start_time": "2023-03-12T09:37:49.032012Z"
    }
   },
   "outputs": [],
   "source": [
    "losses_test_1 = []\n",
    "losses_train_1 = []\n",
    "\n",
    "for train_index_1, test_index_1 in selector.split(X_1):\n",
    "    X_train_1_, X_test_1_ = X_1.values[train_index_1], X_1.values[test_index_1]\n",
    "    Y_train_1_, Y_test_1_ = y_1.values[train_index_1], y_1.values[test_index_1]\n",
    "    \n",
    "    model_1 = LinearRegression()\n",
    "    model_1.fit(X_train_1_, Y_train_1_)\n",
    "    \n",
    "    losses_train_1.append(np.mean((model_1.predict(X_train_1_) - Y_train_1_) ** 2))\n",
    "    losses_test_1.append(np.mean((model_1.predict(X_test_1_) - Y_test_1_) ** 2))"
   ]
  },
  {
   "cell_type": "code",
   "execution_count": 7,
   "id": "2bb9efd9",
   "metadata": {
    "ExecuteTime": {
     "end_time": "2023-03-12T09:37:50.190196Z",
     "start_time": "2023-03-12T09:37:50.188145Z"
    }
   },
   "outputs": [],
   "source": [
    "cross_val_error = np.mean(losses_train_1)\n",
    "cross_val_error_test = np.mean(losses_test_1)"
   ]
  },
  {
   "cell_type": "code",
   "execution_count": 8,
   "id": "ad8b4cfd",
   "metadata": {
    "ExecuteTime": {
     "end_time": "2023-03-12T09:37:50.213289Z",
     "start_time": "2023-03-12T09:37:50.191685Z"
    }
   },
   "outputs": [
    {
     "name": "stdout",
     "output_type": "stream",
     "text": [
      "MSLE на Кросс-валидации: 0.424\n",
      "MSLE на тесте: 0.426\n"
     ]
    }
   ],
   "source": [
    "print(f\"MSLE на Кросс-валидации: {round(cross_val_error, 3)}\")\n",
    "print(f\"MSLE на тесте: {round(cross_val_error_test, 3)}\")"
   ]
  },
  {
   "cell_type": "code",
   "execution_count": null,
   "id": "c0b15296",
   "metadata": {},
   "outputs": [],
   "source": []
  },
  {
   "cell_type": "code",
   "execution_count": null,
   "id": "1798b2f6",
   "metadata": {},
   "outputs": [],
   "source": []
  },
  {
   "cell_type": "code",
   "execution_count": null,
   "id": "9fa4dd1b",
   "metadata": {},
   "outputs": [],
   "source": []
  },
  {
   "cell_type": "markdown",
   "id": "a586759d",
   "metadata": {},
   "source": [
    "## Поработал один из хитрых гномов!"
   ]
  },
  {
   "cell_type": "markdown",
   "id": "ec9a763e",
   "metadata": {},
   "source": [
    "В отличие от своих собратьев, третий гном оказался тем еще бездельником в школьные годы, но все равно страстно желал во всем догнать первых двух. И сейчас, желая помочь им в построении модели по предсказанию длительности поездки такси, добавил в данные 20 зашифрованных фичей (их смысл нам не рассказали: какая-то секретная информация о водителях).\n",
    "\n",
    "Гном думал следующим образом: \"Ну не может же модель стать хуже! А тут вот авось и мое нововведение уменьшит ошибку в разы! Тогда и меня станут звать на гномий  data-саммит.\"\n",
    "\n",
    "Проверим на кросс-валидации, насколько гном оказался прав!"
   ]
  },
  {
   "cell_type": "code",
   "execution_count": 9,
   "id": "538a0adf",
   "metadata": {
    "ExecuteTime": {
     "end_time": "2023-03-12T09:37:54.276817Z",
     "start_time": "2023-03-12T09:37:50.215966Z"
    }
   },
   "outputs": [],
   "source": [
    "new_data = pd.read_csv('new_data.csv', index_col='id')"
   ]
  },
  {
   "cell_type": "code",
   "execution_count": 10,
   "id": "53c5dd26",
   "metadata": {
    "ExecuteTime": {
     "end_time": "2023-03-12T09:37:54.295639Z",
     "start_time": "2023-03-12T09:37:54.278356Z"
    }
   },
   "outputs": [
    {
     "data": {
      "text/html": [
       "<div>\n",
       "<style scoped>\n",
       "    .dataframe tbody tr th:only-of-type {\n",
       "        vertical-align: middle;\n",
       "    }\n",
       "\n",
       "    .dataframe tbody tr th {\n",
       "        vertical-align: top;\n",
       "    }\n",
       "\n",
       "    .dataframe thead th {\n",
       "        text-align: right;\n",
       "    }\n",
       "</style>\n",
       "<table border=\"1\" class=\"dataframe\">\n",
       "  <thead>\n",
       "    <tr style=\"text-align: right;\">\n",
       "      <th></th>\n",
       "      <th>vendor_id</th>\n",
       "      <th>passenger_count</th>\n",
       "      <th>store_and_fwd_flag</th>\n",
       "      <th>distance_km</th>\n",
       "      <th>log_trip_duration</th>\n",
       "      <th>feature_1</th>\n",
       "      <th>feature_2</th>\n",
       "      <th>feature_3</th>\n",
       "      <th>feature_4</th>\n",
       "      <th>feature_5</th>\n",
       "      <th>...</th>\n",
       "      <th>feature_11</th>\n",
       "      <th>feature_12</th>\n",
       "      <th>feature_13</th>\n",
       "      <th>feature_14</th>\n",
       "      <th>feature_15</th>\n",
       "      <th>feature_16</th>\n",
       "      <th>feature_17</th>\n",
       "      <th>feature_18</th>\n",
       "      <th>feature_19</th>\n",
       "      <th>feature_20</th>\n",
       "    </tr>\n",
       "    <tr>\n",
       "      <th>id</th>\n",
       "      <th></th>\n",
       "      <th></th>\n",
       "      <th></th>\n",
       "      <th></th>\n",
       "      <th></th>\n",
       "      <th></th>\n",
       "      <th></th>\n",
       "      <th></th>\n",
       "      <th></th>\n",
       "      <th></th>\n",
       "      <th></th>\n",
       "      <th></th>\n",
       "      <th></th>\n",
       "      <th></th>\n",
       "      <th></th>\n",
       "      <th></th>\n",
       "      <th></th>\n",
       "      <th></th>\n",
       "      <th></th>\n",
       "      <th></th>\n",
       "      <th></th>\n",
       "    </tr>\n",
       "  </thead>\n",
       "  <tbody>\n",
       "    <tr>\n",
       "      <th>id2875421</th>\n",
       "      <td>1</td>\n",
       "      <td>930.399753</td>\n",
       "      <td>0</td>\n",
       "      <td>1.500479</td>\n",
       "      <td>6.122493</td>\n",
       "      <td>1</td>\n",
       "      <td>1</td>\n",
       "      <td>1</td>\n",
       "      <td>1</td>\n",
       "      <td>1</td>\n",
       "      <td>...</td>\n",
       "      <td>0</td>\n",
       "      <td>0</td>\n",
       "      <td>0</td>\n",
       "      <td>0</td>\n",
       "      <td>0</td>\n",
       "      <td>1.500479</td>\n",
       "      <td>2.251437</td>\n",
       "      <td>3.378234</td>\n",
       "      <td>5.068969</td>\n",
       "      <td>7.605881</td>\n",
       "    </tr>\n",
       "    <tr>\n",
       "      <th>id2377394</th>\n",
       "      <td>0</td>\n",
       "      <td>930.399753</td>\n",
       "      <td>0</td>\n",
       "      <td>1.807119</td>\n",
       "      <td>6.498282</td>\n",
       "      <td>0</td>\n",
       "      <td>0</td>\n",
       "      <td>0</td>\n",
       "      <td>0</td>\n",
       "      <td>0</td>\n",
       "      <td>...</td>\n",
       "      <td>0</td>\n",
       "      <td>0</td>\n",
       "      <td>0</td>\n",
       "      <td>0</td>\n",
       "      <td>0</td>\n",
       "      <td>1.807119</td>\n",
       "      <td>3.265681</td>\n",
       "      <td>5.901475</td>\n",
       "      <td>10.664670</td>\n",
       "      <td>19.272331</td>\n",
       "    </tr>\n",
       "    <tr>\n",
       "      <th>id3858529</th>\n",
       "      <td>1</td>\n",
       "      <td>930.399753</td>\n",
       "      <td>0</td>\n",
       "      <td>6.392080</td>\n",
       "      <td>7.661527</td>\n",
       "      <td>1</td>\n",
       "      <td>1</td>\n",
       "      <td>1</td>\n",
       "      <td>1</td>\n",
       "      <td>1</td>\n",
       "      <td>...</td>\n",
       "      <td>0</td>\n",
       "      <td>0</td>\n",
       "      <td>0</td>\n",
       "      <td>0</td>\n",
       "      <td>0</td>\n",
       "      <td>6.392080</td>\n",
       "      <td>40.858690</td>\n",
       "      <td>261.172025</td>\n",
       "      <td>1669.432545</td>\n",
       "      <td>10671.146803</td>\n",
       "    </tr>\n",
       "    <tr>\n",
       "      <th>id3504673</th>\n",
       "      <td>1</td>\n",
       "      <td>930.399753</td>\n",
       "      <td>0</td>\n",
       "      <td>1.487155</td>\n",
       "      <td>6.063785</td>\n",
       "      <td>1</td>\n",
       "      <td>1</td>\n",
       "      <td>1</td>\n",
       "      <td>1</td>\n",
       "      <td>1</td>\n",
       "      <td>...</td>\n",
       "      <td>0</td>\n",
       "      <td>0</td>\n",
       "      <td>0</td>\n",
       "      <td>0</td>\n",
       "      <td>0</td>\n",
       "      <td>1.487155</td>\n",
       "      <td>2.211629</td>\n",
       "      <td>3.289035</td>\n",
       "      <td>4.891303</td>\n",
       "      <td>7.274125</td>\n",
       "    </tr>\n",
       "    <tr>\n",
       "      <th>id2181028</th>\n",
       "      <td>1</td>\n",
       "      <td>930.399753</td>\n",
       "      <td>0</td>\n",
       "      <td>1.189925</td>\n",
       "      <td>6.077642</td>\n",
       "      <td>1</td>\n",
       "      <td>1</td>\n",
       "      <td>1</td>\n",
       "      <td>1</td>\n",
       "      <td>1</td>\n",
       "      <td>...</td>\n",
       "      <td>0</td>\n",
       "      <td>0</td>\n",
       "      <td>0</td>\n",
       "      <td>0</td>\n",
       "      <td>0</td>\n",
       "      <td>1.189925</td>\n",
       "      <td>1.415923</td>\n",
       "      <td>1.684842</td>\n",
       "      <td>2.004837</td>\n",
       "      <td>2.385606</td>\n",
       "    </tr>\n",
       "  </tbody>\n",
       "</table>\n",
       "<p>5 rows × 25 columns</p>\n",
       "</div>"
      ],
      "text/plain": [
       "           vendor_id  passenger_count  store_and_fwd_flag  distance_km  \\\n",
       "id                                                                       \n",
       "id2875421          1       930.399753                   0     1.500479   \n",
       "id2377394          0       930.399753                   0     1.807119   \n",
       "id3858529          1       930.399753                   0     6.392080   \n",
       "id3504673          1       930.399753                   0     1.487155   \n",
       "id2181028          1       930.399753                   0     1.189925   \n",
       "\n",
       "           log_trip_duration  feature_1  feature_2  feature_3  feature_4  \\\n",
       "id                                                                         \n",
       "id2875421           6.122493          1          1          1          1   \n",
       "id2377394           6.498282          0          0          0          0   \n",
       "id3858529           7.661527          1          1          1          1   \n",
       "id3504673           6.063785          1          1          1          1   \n",
       "id2181028           6.077642          1          1          1          1   \n",
       "\n",
       "           feature_5  ...  feature_11  feature_12  feature_13  feature_14  \\\n",
       "id                    ...                                                   \n",
       "id2875421          1  ...           0           0           0           0   \n",
       "id2377394          0  ...           0           0           0           0   \n",
       "id3858529          1  ...           0           0           0           0   \n",
       "id3504673          1  ...           0           0           0           0   \n",
       "id2181028          1  ...           0           0           0           0   \n",
       "\n",
       "           feature_15  feature_16  feature_17  feature_18   feature_19  \\\n",
       "id                                                                       \n",
       "id2875421           0    1.500479    2.251437    3.378234     5.068969   \n",
       "id2377394           0    1.807119    3.265681    5.901475    10.664670   \n",
       "id3858529           0    6.392080   40.858690  261.172025  1669.432545   \n",
       "id3504673           0    1.487155    2.211629    3.289035     4.891303   \n",
       "id2181028           0    1.189925    1.415923    1.684842     2.004837   \n",
       "\n",
       "             feature_20  \n",
       "id                       \n",
       "id2875421      7.605881  \n",
       "id2377394     19.272331  \n",
       "id3858529  10671.146803  \n",
       "id3504673      7.274125  \n",
       "id2181028      2.385606  \n",
       "\n",
       "[5 rows x 25 columns]"
      ]
     },
     "execution_count": 10,
     "metadata": {},
     "output_type": "execute_result"
    }
   ],
   "source": [
    "new_data.head()"
   ]
  },
  {
   "cell_type": "code",
   "execution_count": 11,
   "id": "9b8b53e1",
   "metadata": {
    "ExecuteTime": {
     "end_time": "2023-03-12T09:37:54.420705Z",
     "start_time": "2023-03-12T09:37:54.299454Z"
    }
   },
   "outputs": [],
   "source": [
    "X_2 = new_data.drop('log_trip_duration', axis=1)\n",
    "y_2 = new_data['log_trip_duration']"
   ]
  },
  {
   "cell_type": "code",
   "execution_count": 12,
   "id": "a0ae3eed",
   "metadata": {
    "ExecuteTime": {
     "end_time": "2023-03-12T09:38:01.465263Z",
     "start_time": "2023-03-12T09:37:54.421908Z"
    }
   },
   "outputs": [],
   "source": [
    "### Задание №5\n",
    "### Замерьте качество (MSLE, как и раньше) на Кросс-валидации, \n",
    "### используя MSE от log_trip_duration и назначенный ранее selector\n",
    "\n",
    "### Your code is here\n",
    "\n",
    "losses_test_2 = []\n",
    "losses_train_2 = []\n",
    "\n",
    "for train_index_2, test_index_2 in selector.split(X_2):\n",
    "    X_train_2_, X_test_2_ = X_2.values[train_index_2], X_2.values[test_index_2]\n",
    "    Y_train_2_, Y_test_2_ = y_2.values[train_index_2], y_2.values[test_index_2]\n",
    "    \n",
    "    model_2 = LinearRegression()\n",
    "    model_2.fit(X_train_2_, Y_train_2_)\n",
    "    \n",
    "    losses_train_2.append(np.mean((model_2.predict(X_train_2_) - Y_train_2_) ** 2))\n",
    "    losses_test_2.append(np.mean((model_2.predict(X_test_2_) - Y_test_2_) ** 2))\n",
    "\n",
    "\n"
   ]
  },
  {
   "cell_type": "code",
   "execution_count": 13,
   "id": "84104e5c",
   "metadata": {
    "ExecuteTime": {
     "end_time": "2023-03-12T09:38:01.482736Z",
     "start_time": "2023-03-12T09:38:01.466879Z"
    }
   },
   "outputs": [],
   "source": [
    "cross_val_error_2 = np.mean(losses_train_2)\n",
    "cross_val_error_test_2 = np.mean(losses_test_2)"
   ]
  },
  {
   "cell_type": "code",
   "execution_count": 14,
   "id": "fcbfde9c",
   "metadata": {
    "ExecuteTime": {
     "end_time": "2023-03-12T09:38:01.497372Z",
     "start_time": "2023-03-12T09:38:01.484263Z"
    }
   },
   "outputs": [
    {
     "data": {
      "text/plain": [
       "(0.3390832820484473, 140.92132735294877)"
      ]
     },
     "execution_count": 14,
     "metadata": {},
     "output_type": "execute_result"
    }
   ],
   "source": [
    "np.mean(losses_train_2), np.mean(losses_test_2)"
   ]
  },
  {
   "cell_type": "code",
   "execution_count": 15,
   "id": "724ce27d",
   "metadata": {
    "ExecuteTime": {
     "end_time": "2023-03-12T09:38:01.514200Z",
     "start_time": "2023-03-12T09:38:01.498708Z"
    }
   },
   "outputs": [
    {
     "name": "stdout",
     "output_type": "stream",
     "text": [
      "MSLE (train) на Кросс-валидации: 0.339\n",
      "MSLE (test) на Кросс-валидации: 140.921\n"
     ]
    }
   ],
   "source": [
    "print(f\"MSLE (train) на Кросс-валидации: {round(cross_val_error_2, 3)}\")\n",
    "print(f\"MSLE (test) на Кросс-валидации: {round(cross_val_error_test_2, 3)}\")"
   ]
  },
  {
   "cell_type": "markdown",
   "id": "bd8f2945",
   "metadata": {},
   "source": [
    "В линейной алгербре зачастую используют понятие **ранга матрицы**. Оно соответствует кол-ву линейно независимых столбцов в матрице. Иными словами, позволяет оценить, есть ли избыток информации в нашем датафрейме. Если ранг матрицы меньше, чем кол-во используемых столбцов, то некоторые фичи следует удалить, ведь иначе возникает ситуация строгой мультиколлинеарности.\n",
    "\n",
    "Чтобы замерить ранг в наших матрицах объект-признак, можно воспользоваться функцией numpy.linalg.matrix_rank\n",
    "\n",
    "Константным признаком в данном упражнении можно пренебречь."
   ]
  },
  {
   "cell_type": "code",
   "execution_count": 16,
   "id": "e3de617d",
   "metadata": {
    "ExecuteTime": {
     "end_time": "2023-03-12T09:38:02.885398Z",
     "start_time": "2023-03-12T09:38:01.515568Z"
    }
   },
   "outputs": [],
   "source": [
    "### Создайте переменные rank_processed, rank_new \n",
    "### Соответственно равные рангу изначальной матрицы\n",
    "### с данными и рангу матрицы третьего гнома\n",
    "\n",
    "### Your code is here\n",
    "\n",
    "rank_processed = np.linalg.matrix_rank(X_1)\n",
    "rank_new = np.linalg.matrix_rank(X_2)\n",
    "\n"
   ]
  },
  {
   "cell_type": "code",
   "execution_count": 17,
   "id": "687d03a7",
   "metadata": {
    "ExecuteTime": {
     "end_time": "2023-03-12T09:38:02.889575Z",
     "start_time": "2023-03-12T09:38:02.887149Z"
    }
   },
   "outputs": [],
   "source": [
    "### Создайте переменные num_features_processed, num_features_new\n",
    "### Соответственно равные кол-ву фичей в изначальной матрицы\n",
    "### с данными и кол-ву фичей у третьего гнома\n",
    "\n",
    "### Your code is here\n",
    "\n",
    "num_features_processed, num_features_new = X_1.shape[1], X_2.shape[1], \n"
   ]
  },
  {
   "cell_type": "code",
   "execution_count": 18,
   "id": "2820bee9",
   "metadata": {
    "ExecuteTime": {
     "end_time": "2023-03-12T09:38:02.905505Z",
     "start_time": "2023-03-12T09:38:02.891086Z"
    }
   },
   "outputs": [
    {
     "name": "stdout",
     "output_type": "stream",
     "text": [
      "В первой модели всего фичей: 4, - а ранг равен 4\n",
      "Во второй модели всего фичей: 24, - а ранг равен 5\n"
     ]
    }
   ],
   "source": [
    "### Задание №6\n",
    "print(f\"В первой модели всего фичей: {num_features_processed}, - а ранг равен {rank_processed}\")\n",
    "\n",
    "print(f\"Во второй модели всего фичей: {num_features_new}, - а ранг равен {rank_new}\")"
   ]
  },
  {
   "cell_type": "markdown",
   "id": "a194b8ab",
   "metadata": {},
   "source": [
    "Не кажется ли нам, что из-за новых 20 фичей появилась проблема мультиколлинеарности? Как поступить гному, чтобы, с одной стороны, получить адекватное качество, а с другой стороны, не повредить свое самолюбие и не убирать новые признаки?\n",
    "\n",
    "Верно! Например, с помощью регуляризации.\n",
    "\n",
    "Найдите такой параметр регуляризации $\\alpha$ для Ridge и Lasso случая, чтобы ошибка MSLE на кросс-валидации оказалась строго меньше 0.4\n",
    "\n",
    "**ALARM**: используйте процедуру масштабирования данных (воспользуйтесь методом MinMaxScaler) перед тем как применить регуляризацию. Важно - чтобы сохранить концепцию независимости обучения на трейне и на тесте, на каждой итерации кросс-валидации необходимо замерять параметры стандартизации исключительно на трейне, а потом применять на валидационном фолде."
   ]
  },
  {
   "cell_type": "code",
   "execution_count": 19,
   "id": "5e40302d",
   "metadata": {
    "ExecuteTime": {
     "end_time": "2023-03-12T09:38:07.254117Z",
     "start_time": "2023-03-12T09:38:02.906884Z"
    }
   },
   "outputs": [
    {
     "name": "stdout",
     "output_type": "stream",
     "text": [
      "MSLE на Кросс-валидации равен: 0.6332330617999488\n"
     ]
    }
   ],
   "source": [
    "### Пример, как это можно сделать в цикле\n",
    "### То есть обучить Lasso, учитывая масштабирование\n",
    "### Исключительно на трейне на каждой итерации\n",
    "\n",
    "\n",
    "\n",
    "X = new_data.drop('log_trip_duration', axis=1)\n",
    "Y = new_data['log_trip_duration']\n",
    "\n",
    "from sklearn.preprocessing import MinMaxScaler\n",
    "from sklearn.linear_model import Lasso\n",
    "\n",
    "scores = []\n",
    "\n",
    "for train_index, test_index in selector.split(X):\n",
    "    \n",
    "    X_train, X_test = X.values[train_index], X.values[test_index]\n",
    "    Y_train, Y_test = Y.values[train_index], Y.values[test_index]\n",
    "    \n",
    "    ### Фитим исключительно на трейне!\n",
    "    scaler = MinMaxScaler()\n",
    "    scaler.fit(X_train)\n",
    "    \n",
    "    ### Применяем обученный scaler на трейн и тест\n",
    "    X_train_scaled = scaler.transform(X_train)\n",
    "    X_test_scaled = scaler.transform(X_test)\n",
    "    \n",
    "    ### max_iter иногда требуется ставить побольше, \n",
    "    ### особенно когда данных много и/или они сложные\n",
    "    ### этот параметр регулирует верхнюю границу кол-ва\n",
    "    ### итераций во время обучения\n",
    "    ### подробнее - в документации\n",
    "    \n",
    "    ### По дефолту здесь параметр регуляризации alpha=1\n",
    "    \n",
    "    model_lasso = Lasso(max_iter=100000) \n",
    "    model_lasso.fit(X_train_scaled, Y_train)\n",
    "    \n",
    "    predictions = model_lasso.predict(X_test_scaled)\n",
    "    \n",
    "    scores.append(np.mean((predictions - Y_test)**2))\n",
    "\n",
    "    \n",
    "print(f\"MSLE на Кросс-валидации равен: {np.mean(scores)}\")\n",
    "\n",
    "### P.S. если вы уже умеете работать с конструкциями\n",
    "### Pipeline, GridSearchCV, cross_validate\n",
    "### Можете использовать их. Мы познакомимся с ними позже."
   ]
  },
  {
   "cell_type": "code",
   "execution_count": 25,
   "id": "aa4bf132",
   "metadata": {
    "ExecuteTime": {
     "end_time": "2023-03-12T09:39:45.868196Z",
     "start_time": "2023-03-12T09:39:42.626022Z"
    },
    "scrolled": true
   },
   "outputs": [
    {
     "name": "stdout",
     "output_type": "stream",
     "text": [
      "MSLE (test) на Кросс-валидации равен: 0.3927247852681699\n",
      "MSLE (train) на Кросс-валидации равен: 0.38990816299526476\n"
     ]
    }
   ],
   "source": [
    "### Теперь найдите оптимальный параметр регуляризации\n",
    "### для случая Ridge\n",
    "### Напомним: ошибка на кросс-валидации должно быть \n",
    "### строго меньше 0.4\n",
    "\n",
    "### Задание №7\n",
    "### Your code is here\n",
    "\n",
    "from sklearn.preprocessing import MinMaxScaler\n",
    "from sklearn.linear_model import Ridge\n",
    "\n",
    "scores_train_2_2 = []\n",
    "scores_test_2_2 = []\n",
    "# разделим данные на k-фолды\n",
    "for train_index_2_2, test_index_2_2 in selector.split(X_2):\n",
    "    X_train_2_2, X_test_2_2 = X_2.values[train_index_2_2], X_2.values[test_index_2_2]\n",
    "    Y_train_2_2, Y_test_2_2 = y_2.values[train_index_2_2], y_2.values[test_index_2_2]\n",
    "    \n",
    "    # применим масштабирование MinMaxScaler\n",
    "    scaler = MinMaxScaler()\n",
    "    scaler.fit(X_train_2_2)\n",
    "    \n",
    "    # применяем обученный Scaler на test и train\n",
    "    X_train_2_2_s = scaler.transform(X_train_2_2)\n",
    "    X_test_2_2_s = scaler.transform(X_test_2_2)\n",
    "    \n",
    "    # применяем L-2(Ridge) регуляризацию\n",
    "    model_ridge = Ridge(alpha=0.20, max_iter=100000)\n",
    "    model_ridge.fit(X_train_2_2_s, Y_train_2_2)\n",
    "    #применяем обученный Ridge на test и train\n",
    "    predictions_train_2_2 = model_ridge.predict(X_train_2_2_s)\n",
    "    predictions_test_2_2 = model_ridge.predict(X_test_2_2_s)\n",
    "    \n",
    "    scores_train_2_2.append(np.mean((predictions_train_2_2 - Y_train_2_2) ** 2))\n",
    "    scores_test_2_2.append(np.mean((predictions_test_2_2 - Y_test_2_2) ** 2))\n",
    "    \n",
    "print(f\"MSLE (test) на Кросс-валидации равен: {np.mean(scores_test_2_2)}\")\n",
    "print(f\"MSLE (train) на Кросс-валидации равен: {np.mean(scores_train_2_2)}\")"
   ]
  },
  {
   "cell_type": "markdown",
   "id": "4ee6ef9a",
   "metadata": {},
   "source": [
    "Ответ: __0.20__ коэфициэнт alpha самый оптимальный для ridge"
   ]
  },
  {
   "cell_type": "code",
   "execution_count": 4,
   "id": "c384465a",
   "metadata": {
    "ExecuteTime": {
     "end_time": "2023-03-12T10:03:58.085888Z",
     "start_time": "2023-03-12T10:02:55.510050Z"
    }
   },
   "outputs": [
    {
     "name": "stdout",
     "output_type": "stream",
     "text": [
      "MSLE (test) на Кросс-валидации равен: 0.39848168595637373\n",
      "MSLE (train) на Кросс-валидации равен: 0.38657173334474026\n"
     ]
    }
   ],
   "source": [
    "### Найдите оптимальный параметр регуляризации\n",
    "### для случая Lasso\n",
    "### Напомним: ошибка на кросс-валидации должно быть \n",
    "### строго меньше 0.4\n",
    "\n",
    "### Задание №8\n",
    "### Your code is here\n",
    "\n",
    "from sklearn.preprocessing import MinMaxScaler\n",
    "from sklearn.linear_model import Lasso\n",
    "from sklearn.model_selection import KFold\n",
    "import pandas as pd\n",
    "import numpy as np\n",
    "\n",
    "new_data = pd.read_csv('new_data.csv', index_col='id')\n",
    "\n",
    "X_2 = new_data.drop('log_trip_duration', axis=1)\n",
    "y_2 = new_data['log_trip_duration']\n",
    "\n",
    "selector = KFold(n_splits=4)\n",
    "\n",
    "scores_train_2_3 = []\n",
    "scores_test_2_3 = []\n",
    "# разделим данные на k-фолды\n",
    "for train_index_2_3, test_index_2_3 in selector.split(X_2):\n",
    "    X_train_2_3, X_test_2_3 = X_2.values[train_index_2_3], X_2.values[test_index_2_3]\n",
    "    Y_train_2_3, Y_test_2_3 = y_2.values[train_index_2_3], y_2.values[test_index_2_3]\n",
    "    \n",
    "    # применим масштабирование MinMaxScaler\n",
    "    scaler = MinMaxScaler()\n",
    "    scaler.fit(X_train_2_3)\n",
    "    \n",
    "    # применяем обученный Scaler на test и train\n",
    "    X_train_2_3_s = scaler.transform(X_train_2_3)\n",
    "    X_test_2_3_s = scaler.transform(X_test_2_3)\n",
    "    \n",
    "    # применяем L-1(Lasso) регуляризацию\n",
    "    model_lasso_2_3 = Lasso(alpha=0.00001, max_iter=100000)\n",
    "    model_lasso_2_3.fit(X_train_2_3_s, Y_train_2_3)\n",
    "    # применяем обученную Lasso на test и train\n",
    "    predictions_train_2_3 = model_lasso_2_3.predict(X_train_2_3_s)\n",
    "    predictions_test_2_3 = model_lasso_2_3.predict(X_test_2_3_s)\n",
    "    \n",
    "    scores_train_2_3.append(np.mean((predictions_train_2_3 - Y_train_2_3) ** 2))\n",
    "    scores_test_2_3.append(np.mean((predictions_test_2_3 - Y_test_2_3) ** 2))\n",
    "    \n",
    "print(f\"MSLE (test) на Кросс-валидации равен: {np.mean(scores_test_2_3)}\")\n",
    "print(f\"MSLE (train) на Кросс-валидации равен: {np.mean(scores_train_2_3)}\")"
   ]
  },
  {
   "cell_type": "markdown",
   "id": "51abd4cf",
   "metadata": {},
   "source": [
    "Ответ: __0.00001__ коэфициэнт alpha самый оптимальный для Lasso"
   ]
  }
 ],
 "metadata": {
  "kernelspec": {
   "display_name": "Python 3 (ipykernel)",
   "language": "python",
   "name": "python3"
  },
  "language_info": {
   "codemirror_mode": {
    "name": "ipython",
    "version": 3
   },
   "file_extension": ".py",
   "mimetype": "text/x-python",
   "name": "python",
   "nbconvert_exporter": "python",
   "pygments_lexer": "ipython3",
   "version": "3.10.6"
  },
  "varInspector": {
   "cols": {
    "lenName": 16,
    "lenType": 16,
    "lenVar": 40
   },
   "kernels_config": {
    "python": {
     "delete_cmd_postfix": "",
     "delete_cmd_prefix": "del ",
     "library": "var_list.py",
     "varRefreshCmd": "print(var_dic_list())"
    },
    "r": {
     "delete_cmd_postfix": ") ",
     "delete_cmd_prefix": "rm(",
     "library": "var_list.r",
     "varRefreshCmd": "cat(var_dic_list()) "
    }
   },
   "types_to_exclude": [
    "module",
    "function",
    "builtin_function_or_method",
    "instance",
    "_Feature"
   ],
   "window_display": false
  }
 },
 "nbformat": 4,
 "nbformat_minor": 5
}
